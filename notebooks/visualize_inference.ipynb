{
 "cells": [
  {
   "cell_type": "code",
   "execution_count": 1,
   "metadata": {},
   "outputs": [],
   "source": [
    "%matplotlib notebook \n",
    "%load_ext autoreload\n",
    "%autoreload 2"
   ]
  },
  {
   "cell_type": "code",
   "execution_count": 2,
   "metadata": {},
   "outputs": [
    {
     "name": "stdout",
     "output_type": "stream",
     "text": [
      "/home/pablo/code/name-color\n"
     ]
    }
   ],
   "source": [
    "cd .."
   ]
  },
  {
   "cell_type": "code",
   "execution_count": 3,
   "metadata": {},
   "outputs": [],
   "source": [
    "import json\n",
    "import itertools\n",
    "import numpy as np\n",
    "import collections\n",
    "import seaborn as sns\n",
    "import matplotlib.pyplot as plt\n",
    "\n",
    "#import matplotlib\n",
    "from os.path import join\n",
    "from IPython.display import HTML\n",
    "from matplotlib import animation, rc\n",
    "from mpl_toolkits.mplot3d import Axes3D\n",
    "sns.set(color_codes=True)\n",
    "\n",
    "from color_utils import lab2rgb, get_color_vis"
   ]
  },
  {
   "cell_type": "code",
   "execution_count": 4,
   "metadata": {},
   "outputs": [],
   "source": [
    "path = \"/home/pablo/output/name-color/1559981836/generated_output.json\"\n",
    "with open(path, \"r\") as f:\n",
    "    data = json.load(f)"
   ]
  },
  {
   "cell_type": "code",
   "execution_count": 5,
   "metadata": {
    "scrolled": false
   },
   "outputs": [
    {
     "name": "stdout",
     "output_type": "stream",
     "text": [
      "color name :  maybe youre scared\n",
      "generated\n"
     ]
    },
    {
     "data": {
      "text/html": [
       "<div style='float:left;background:#cf6c9e;padding:10px;width:300px;'></div>"
      ],
      "text/plain": [
       "<IPython.core.display.HTML object>"
      ]
     },
     "metadata": {},
     "output_type": "display_data"
    },
    {
     "name": "stdout",
     "output_type": "stream",
     "text": [
      "ground truth\n"
     ]
    },
    {
     "data": {
      "text/html": [
       "<div style='float:left;background:#a2716c;padding:10px;width:300px;'></div>"
      ],
      "text/plain": [
       "<IPython.core.display.HTML object>"
      ]
     },
     "metadata": {},
     "output_type": "display_data"
    },
    {
     "name": "stdout",
     "output_type": "stream",
     "text": [
      "----------------------------\n",
      "color name :  hotheaded red\n",
      "generated\n"
     ]
    },
    {
     "data": {
      "text/html": [
       "<div style='float:left;background:#f40d47;padding:10px;width:300px;'></div>"
      ],
      "text/plain": [
       "<IPython.core.display.HTML object>"
      ]
     },
     "metadata": {},
     "output_type": "display_data"
    },
    {
     "name": "stdout",
     "output_type": "stream",
     "text": [
      "ground truth\n"
     ]
    },
    {
     "data": {
      "text/html": [
       "<div style='float:left;background:#c3262f;padding:10px;width:300px;'></div>"
      ],
      "text/plain": [
       "<IPython.core.display.HTML object>"
      ]
     },
     "metadata": {},
     "output_type": "display_data"
    },
    {
     "name": "stdout",
     "output_type": "stream",
     "text": [
      "----------------------------\n",
      "color name :  pushed red\n",
      "generated\n"
     ]
    },
    {
     "data": {
      "text/html": [
       "<div style='float:left;background:#612a2f;padding:10px;width:300px;'></div>"
      ],
      "text/plain": [
       "<IPython.core.display.HTML object>"
      ]
     },
     "metadata": {},
     "output_type": "display_data"
    },
    {
     "name": "stdout",
     "output_type": "stream",
     "text": [
      "ground truth\n"
     ]
    },
    {
     "data": {
      "text/html": [
       "<div style='float:left;background:#c43032;padding:10px;width:300px;'></div>"
      ],
      "text/plain": [
       "<IPython.core.display.HTML object>"
      ]
     },
     "metadata": {},
     "output_type": "display_data"
    },
    {
     "name": "stdout",
     "output_type": "stream",
     "text": [
      "----------------------------\n",
      "color name :  dancin red\n",
      "generated\n"
     ]
    },
    {
     "data": {
      "text/html": [
       "<div style='float:left;background:#df0029;padding:10px;width:300px;'></div>"
      ],
      "text/plain": [
       "<IPython.core.display.HTML object>"
      ]
     },
     "metadata": {},
     "output_type": "display_data"
    },
    {
     "name": "stdout",
     "output_type": "stream",
     "text": [
      "ground truth\n"
     ]
    },
    {
     "data": {
      "text/html": [
       "<div style='float:left;background:#c22c30;padding:10px;width:300px;'></div>"
      ],
      "text/plain": [
       "<IPython.core.display.HTML object>"
      ]
     },
     "metadata": {},
     "output_type": "display_data"
    },
    {
     "name": "stdout",
     "output_type": "stream",
     "text": [
      "----------------------------\n",
      "color name :  red plus\n",
      "generated\n"
     ]
    },
    {
     "data": {
      "text/html": [
       "<div style='float:left;background:#a21c1e;padding:10px;width:300px;'></div>"
      ],
      "text/plain": [
       "<IPython.core.display.HTML object>"
      ]
     },
     "metadata": {},
     "output_type": "display_data"
    },
    {
     "name": "stdout",
     "output_type": "stream",
     "text": [
      "ground truth\n"
     ]
    },
    {
     "data": {
      "text/html": [
       "<div style='float:left;background:#be2c2d;padding:10px;width:300px;'></div>"
      ],
      "text/plain": [
       "<IPython.core.display.HTML object>"
      ]
     },
     "metadata": {},
     "output_type": "display_data"
    },
    {
     "name": "stdout",
     "output_type": "stream",
     "text": [
      "----------------------------\n",
      "color name :  dired\n",
      "generated\n"
     ]
    },
    {
     "data": {
      "text/html": [
       "<div style='float:left;background:#ef1e38;padding:10px;width:300px;'></div>"
      ],
      "text/plain": [
       "<IPython.core.display.HTML object>"
      ]
     },
     "metadata": {},
     "output_type": "display_data"
    },
    {
     "name": "stdout",
     "output_type": "stream",
     "text": [
      "ground truth\n"
     ]
    },
    {
     "data": {
      "text/html": [
       "<div style='float:left;background:#b26a49;padding:10px;width:300px;'></div>"
      ],
      "text/plain": [
       "<IPython.core.display.HTML object>"
      ]
     },
     "metadata": {},
     "output_type": "display_data"
    },
    {
     "name": "stdout",
     "output_type": "stream",
     "text": [
      "----------------------------\n",
      "color name :  matter well on red\n",
      "generated\n"
     ]
    },
    {
     "data": {
      "text/html": [
       "<div style='float:left;background:#f23570;padding:10px;width:300px;'></div>"
      ],
      "text/plain": [
       "<IPython.core.display.HTML object>"
      ]
     },
     "metadata": {},
     "output_type": "display_data"
    },
    {
     "name": "stdout",
     "output_type": "stream",
     "text": [
      "ground truth\n"
     ]
    },
    {
     "data": {
      "text/html": [
       "<div style='float:left;background:#c03835;padding:10px;width:300px;'></div>"
      ],
      "text/plain": [
       "<IPython.core.display.HTML object>"
      ]
     },
     "metadata": {},
     "output_type": "display_data"
    },
    {
     "name": "stdout",
     "output_type": "stream",
     "text": [
      "----------------------------\n",
      "color name :  rose colored cloud\n",
      "generated\n"
     ]
    },
    {
     "data": {
      "text/html": [
       "<div style='float:left;background:#f9bbcf;padding:10px;width:300px;'></div>"
      ],
      "text/plain": [
       "<IPython.core.display.HTML object>"
      ]
     },
     "metadata": {},
     "output_type": "display_data"
    },
    {
     "name": "stdout",
     "output_type": "stream",
     "text": [
      "ground truth\n"
     ]
    },
    {
     "data": {
      "text/html": [
       "<div style='float:left;background:#d17b8d;padding:10px;width:300px;'></div>"
      ],
      "text/plain": [
       "<IPython.core.display.HTML object>"
      ]
     },
     "metadata": {},
     "output_type": "display_data"
    },
    {
     "name": "stdout",
     "output_type": "stream",
     "text": [
      "----------------------------\n",
      "color name :  pinker than red\n",
      "generated\n"
     ]
    },
    {
     "data": {
      "text/html": [
       "<div style='float:left;background:#fb4058;padding:10px;width:300px;'></div>"
      ],
      "text/plain": [
       "<IPython.core.display.HTML object>"
      ]
     },
     "metadata": {},
     "output_type": "display_data"
    },
    {
     "name": "stdout",
     "output_type": "stream",
     "text": [
      "ground truth\n"
     ]
    },
    {
     "data": {
      "text/html": [
       "<div style='float:left;background:#cb3238;padding:10px;width:300px;'></div>"
      ],
      "text/plain": [
       "<IPython.core.display.HTML object>"
      ]
     },
     "metadata": {},
     "output_type": "display_data"
    },
    {
     "name": "stdout",
     "output_type": "stream",
     "text": [
      "----------------------------\n",
      "color name :  old redbrick\n",
      "generated\n"
     ]
    },
    {
     "data": {
      "text/html": [
       "<div style='float:left;background:#403a2c;padding:10px;width:300px;'></div>"
      ],
      "text/plain": [
       "<IPython.core.display.HTML object>"
      ]
     },
     "metadata": {},
     "output_type": "display_data"
    },
    {
     "name": "stdout",
     "output_type": "stream",
     "text": [
      "ground truth\n"
     ]
    },
    {
     "data": {
      "text/html": [
       "<div style='float:left;background:#af3230;padding:10px;width:300px;'></div>"
      ],
      "text/plain": [
       "<IPython.core.display.HTML object>"
      ]
     },
     "metadata": {},
     "output_type": "display_data"
    },
    {
     "name": "stdout",
     "output_type": "stream",
     "text": [
      "----------------------------\n",
      "color name :  wolfson red\n",
      "generated\n"
     ]
    },
    {
     "data": {
      "text/html": [
       "<div style='float:left;background:#c63311;padding:10px;width:300px;'></div>"
      ],
      "text/plain": [
       "<IPython.core.display.HTML object>"
      ]
     },
     "metadata": {},
     "output_type": "display_data"
    },
    {
     "name": "stdout",
     "output_type": "stream",
     "text": [
      "ground truth\n"
     ]
    },
    {
     "data": {
      "text/html": [
       "<div style='float:left;background:#c32e32;padding:10px;width:300px;'></div>"
      ],
      "text/plain": [
       "<IPython.core.display.HTML object>"
      ]
     },
     "metadata": {},
     "output_type": "display_data"
    },
    {
     "name": "stdout",
     "output_type": "stream",
     "text": [
      "----------------------------\n",
      "color name :  oh so red\n",
      "generated\n"
     ]
    },
    {
     "data": {
      "text/html": [
       "<div style='float:left;background:#fa1d22;padding:10px;width:300px;'></div>"
      ],
      "text/plain": [
       "<IPython.core.display.HTML object>"
      ]
     },
     "metadata": {},
     "output_type": "display_data"
    },
    {
     "name": "stdout",
     "output_type": "stream",
     "text": [
      "ground truth\n"
     ]
    },
    {
     "data": {
      "text/html": [
       "<div style='float:left;background:#c62f33;padding:10px;width:300px;'></div>"
      ],
      "text/plain": [
       "<IPython.core.display.HTML object>"
      ]
     },
     "metadata": {},
     "output_type": "display_data"
    },
    {
     "name": "stdout",
     "output_type": "stream",
     "text": [
      "----------------------------\n",
      "color name :  daisukedarkred\n",
      "generated\n"
     ]
    },
    {
     "data": {
      "text/html": [
       "<div style='float:left;background:#5f2f2b;padding:10px;width:300px;'></div>"
      ],
      "text/plain": [
       "<IPython.core.display.HTML object>"
      ]
     },
     "metadata": {},
     "output_type": "display_data"
    },
    {
     "name": "stdout",
     "output_type": "stream",
     "text": [
      "ground truth\n"
     ]
    },
    {
     "data": {
      "text/html": [
       "<div style='float:left;background:#a8282e;padding:10px;width:300px;'></div>"
      ],
      "text/plain": [
       "<IPython.core.display.HTML object>"
      ]
     },
     "metadata": {},
     "output_type": "display_data"
    },
    {
     "name": "stdout",
     "output_type": "stream",
     "text": [
      "----------------------------\n",
      "color name :  red night sky\n",
      "generated\n"
     ]
    },
    {
     "data": {
      "text/html": [
       "<div style='float:left;background:#753446;padding:10px;width:300px;'></div>"
      ],
      "text/plain": [
       "<IPython.core.display.HTML object>"
      ]
     },
     "metadata": {},
     "output_type": "display_data"
    },
    {
     "name": "stdout",
     "output_type": "stream",
     "text": [
      "ground truth\n"
     ]
    },
    {
     "data": {
      "text/html": [
       "<div style='float:left;background:#8d203d;padding:10px;width:300px;'></div>"
      ],
      "text/plain": [
       "<IPython.core.display.HTML object>"
      ]
     },
     "metadata": {},
     "output_type": "display_data"
    },
    {
     "name": "stdout",
     "output_type": "stream",
     "text": [
      "----------------------------\n",
      "color name :  im so bored\n",
      "generated\n"
     ]
    },
    {
     "data": {
      "text/html": [
       "<div style='float:left;background:#a2b62e;padding:10px;width:300px;'></div>"
      ],
      "text/plain": [
       "<IPython.core.display.HTML object>"
      ]
     },
     "metadata": {},
     "output_type": "display_data"
    },
    {
     "name": "stdout",
     "output_type": "stream",
     "text": [
      "ground truth\n"
     ]
    },
    {
     "data": {
      "text/html": [
       "<div style='float:left;background:#a1746f;padding:10px;width:300px;'></div>"
      ],
      "text/plain": [
       "<IPython.core.display.HTML object>"
      ]
     },
     "metadata": {},
     "output_type": "display_data"
    },
    {
     "name": "stdout",
     "output_type": "stream",
     "text": [
      "----------------------------\n",
      "color name :  red red rose\n",
      "generated\n"
     ]
    },
    {
     "data": {
      "text/html": [
       "<div style='float:left;background:#f6091d;padding:10px;width:300px;'></div>"
      ],
      "text/plain": [
       "<IPython.core.display.HTML object>"
      ]
     },
     "metadata": {},
     "output_type": "display_data"
    },
    {
     "name": "stdout",
     "output_type": "stream",
     "text": [
      "ground truth\n"
     ]
    },
    {
     "data": {
      "text/html": [
       "<div style='float:left;background:#c52e2e;padding:10px;width:300px;'></div>"
      ],
      "text/plain": [
       "<IPython.core.display.HTML object>"
      ]
     },
     "metadata": {},
     "output_type": "display_data"
    },
    {
     "name": "stdout",
     "output_type": "stream",
     "text": [
      "----------------------------\n",
      "color name :  red canoe\n",
      "generated\n"
     ]
    },
    {
     "data": {
      "text/html": [
       "<div style='float:left;background:#e4000a;padding:10px;width:300px;'></div>"
      ],
      "text/plain": [
       "<IPython.core.display.HTML object>"
      ]
     },
     "metadata": {},
     "output_type": "display_data"
    },
    {
     "name": "stdout",
     "output_type": "stream",
     "text": [
      "ground truth\n"
     ]
    },
    {
     "data": {
      "text/html": [
       "<div style='float:left;background:#ca3a32;padding:10px;width:300px;'></div>"
      ],
      "text/plain": [
       "<IPython.core.display.HTML object>"
      ]
     },
     "metadata": {},
     "output_type": "display_data"
    },
    {
     "name": "stdout",
     "output_type": "stream",
     "text": [
      "----------------------------\n",
      "color name :  withered lemon\n",
      "generated\n"
     ]
    },
    {
     "data": {
      "text/html": [
       "<div style='float:left;background:#b9aa24;padding:10px;width:300px;'></div>"
      ],
      "text/plain": [
       "<IPython.core.display.HTML object>"
      ]
     },
     "metadata": {},
     "output_type": "display_data"
    },
    {
     "name": "stdout",
     "output_type": "stream",
     "text": [
      "ground truth\n"
     ]
    },
    {
     "data": {
      "text/html": [
       "<div style='float:left;background:#d8e24e;padding:10px;width:300px;'></div>"
      ],
      "text/plain": [
       "<IPython.core.display.HTML object>"
      ]
     },
     "metadata": {},
     "output_type": "display_data"
    },
    {
     "name": "stdout",
     "output_type": "stream",
     "text": [
      "----------------------------\n",
      "color name :  red ripe fruit\n",
      "generated\n"
     ]
    },
    {
     "data": {
      "text/html": [
       "<div style='float:left;background:#951038;padding:10px;width:300px;'></div>"
      ],
      "text/plain": [
       "<IPython.core.display.HTML object>"
      ]
     },
     "metadata": {},
     "output_type": "display_data"
    },
    {
     "name": "stdout",
     "output_type": "stream",
     "text": [
      "ground truth\n"
     ]
    },
    {
     "data": {
      "text/html": [
       "<div style='float:left;background:#d03a34;padding:10px;width:300px;'></div>"
      ],
      "text/plain": [
       "<IPython.core.display.HTML object>"
      ]
     },
     "metadata": {},
     "output_type": "display_data"
    },
    {
     "name": "stdout",
     "output_type": "stream",
     "text": [
      "----------------------------\n",
      "color name :  betong red\n",
      "generated\n"
     ]
    },
    {
     "data": {
      "text/html": [
       "<div style='float:left;background:#a50c2a;padding:10px;width:300px;'></div>"
      ],
      "text/plain": [
       "<IPython.core.display.HTML object>"
      ]
     },
     "metadata": {},
     "output_type": "display_data"
    },
    {
     "name": "stdout",
     "output_type": "stream",
     "text": [
      "ground truth\n"
     ]
    },
    {
     "data": {
      "text/html": [
       "<div style='float:left;background:#bf272f;padding:10px;width:300px;'></div>"
      ],
      "text/plain": [
       "<IPython.core.display.HTML object>"
      ]
     },
     "metadata": {},
     "output_type": "display_data"
    },
    {
     "name": "stdout",
     "output_type": "stream",
     "text": [
      "----------------------------\n",
      "color name :  madder red\n",
      "generated\n"
     ]
    },
    {
     "data": {
      "text/html": [
       "<div style='float:left;background:#b8002b;padding:10px;width:300px;'></div>"
      ],
      "text/plain": [
       "<IPython.core.display.HTML object>"
      ]
     },
     "metadata": {},
     "output_type": "display_data"
    },
    {
     "name": "stdout",
     "output_type": "stream",
     "text": [
      "ground truth\n"
     ]
    },
    {
     "data": {
      "text/html": [
       "<div style='float:left;background:#bf282e;padding:10px;width:300px;'></div>"
      ],
      "text/plain": [
       "<IPython.core.display.HTML object>"
      ]
     },
     "metadata": {},
     "output_type": "display_data"
    },
    {
     "name": "stdout",
     "output_type": "stream",
     "text": [
      "----------------------------\n",
      "color name :  red rose for love\n",
      "generated\n"
     ]
    },
    {
     "data": {
      "text/html": [
       "<div style='float:left;background:#d30b3c;padding:10px;width:300px;'></div>"
      ],
      "text/plain": [
       "<IPython.core.display.HTML object>"
      ]
     },
     "metadata": {},
     "output_type": "display_data"
    },
    {
     "name": "stdout",
     "output_type": "stream",
     "text": [
      "ground truth\n"
     ]
    },
    {
     "data": {
      "text/html": [
       "<div style='float:left;background:#d23e3e;padding:10px;width:300px;'></div>"
      ],
      "text/plain": [
       "<IPython.core.display.HTML object>"
      ]
     },
     "metadata": {},
     "output_type": "display_data"
    },
    {
     "name": "stdout",
     "output_type": "stream",
     "text": [
      "----------------------------\n",
      "color name :  medium pink red\n",
      "generated\n"
     ]
    },
    {
     "data": {
      "text/html": [
       "<div style='float:left;background:#ef007f;padding:10px;width:300px;'></div>"
      ],
      "text/plain": [
       "<IPython.core.display.HTML object>"
      ]
     },
     "metadata": {},
     "output_type": "display_data"
    },
    {
     "name": "stdout",
     "output_type": "stream",
     "text": [
      "ground truth\n"
     ]
    },
    {
     "data": {
      "text/html": [
       "<div style='float:left;background:#c7303d;padding:10px;width:300px;'></div>"
      ],
      "text/plain": [
       "<IPython.core.display.HTML object>"
      ]
     },
     "metadata": {},
     "output_type": "display_data"
    },
    {
     "name": "stdout",
     "output_type": "stream",
     "text": [
      "----------------------------\n",
      "color name :  miss me red\n",
      "generated\n"
     ]
    },
    {
     "data": {
      "text/html": [
       "<div style='float:left;background:#f90071;padding:10px;width:300px;'></div>"
      ],
      "text/plain": [
       "<IPython.core.display.HTML object>"
      ]
     },
     "metadata": {},
     "output_type": "display_data"
    },
    {
     "name": "stdout",
     "output_type": "stream",
     "text": [
      "ground truth\n"
     ]
    },
    {
     "data": {
      "text/html": [
       "<div style='float:left;background:#c53635;padding:10px;width:300px;'></div>"
      ],
      "text/plain": [
       "<IPython.core.display.HTML object>"
      ]
     },
     "metadata": {},
     "output_type": "display_data"
    },
    {
     "name": "stdout",
     "output_type": "stream",
     "text": [
      "----------------------------\n",
      "color name :  dirty red \n",
      "generated\n"
     ]
    },
    {
     "data": {
      "text/html": [
       "<div style='float:left;background:#720001;padding:10px;width:300px;'></div>"
      ],
      "text/plain": [
       "<IPython.core.display.HTML object>"
      ]
     },
     "metadata": {},
     "output_type": "display_data"
    },
    {
     "name": "stdout",
     "output_type": "stream",
     "text": [
      "ground truth\n"
     ]
    },
    {
     "data": {
      "text/html": [
       "<div style='float:left;background:#b92d31;padding:10px;width:300px;'></div>"
      ],
      "text/plain": [
       "<IPython.core.display.HTML object>"
      ]
     },
     "metadata": {},
     "output_type": "display_data"
    },
    {
     "name": "stdout",
     "output_type": "stream",
     "text": [
      "----------------------------\n",
      "color name :  red ripe strawberry\n",
      "generated\n"
     ]
    },
    {
     "data": {
      "text/html": [
       "<div style='float:left;background:#b30110;padding:10px;width:300px;'></div>"
      ],
      "text/plain": [
       "<IPython.core.display.HTML object>"
      ]
     },
     "metadata": {},
     "output_type": "display_data"
    },
    {
     "name": "stdout",
     "output_type": "stream",
     "text": [
      "ground truth\n"
     ]
    },
    {
     "data": {
      "text/html": [
       "<div style='float:left;background:#ca3133;padding:10px;width:300px;'></div>"
      ],
      "text/plain": [
       "<IPython.core.display.HTML object>"
      ]
     },
     "metadata": {},
     "output_type": "display_data"
    },
    {
     "name": "stdout",
     "output_type": "stream",
     "text": [
      "----------------------------\n",
      "color name :  red caramel\n",
      "generated\n"
     ]
    },
    {
     "data": {
      "text/html": [
       "<div style='float:left;background:#9c252f;padding:10px;width:300px;'></div>"
      ],
      "text/plain": [
       "<IPython.core.display.HTML object>"
      ]
     },
     "metadata": {},
     "output_type": "display_data"
    },
    {
     "name": "stdout",
     "output_type": "stream",
     "text": [
      "ground truth\n"
     ]
    },
    {
     "data": {
      "text/html": [
       "<div style='float:left;background:#ca3a31;padding:10px;width:300px;'></div>"
      ],
      "text/plain": [
       "<IPython.core.display.HTML object>"
      ]
     },
     "metadata": {},
     "output_type": "display_data"
    },
    {
     "name": "stdout",
     "output_type": "stream",
     "text": [
      "----------------------------\n",
      "color name :  sandy red\n",
      "generated\n"
     ]
    },
    {
     "data": {
      "text/html": [
       "<div style='float:left;background:#811b21;padding:10px;width:300px;'></div>"
      ],
      "text/plain": [
       "<IPython.core.display.HTML object>"
      ]
     },
     "metadata": {},
     "output_type": "display_data"
    },
    {
     "name": "stdout",
     "output_type": "stream",
     "text": [
      "ground truth\n"
     ]
    },
    {
     "data": {
      "text/html": [
       "<div style='float:left;background:#ce3b39;padding:10px;width:300px;'></div>"
      ],
      "text/plain": [
       "<IPython.core.display.HTML object>"
      ]
     },
     "metadata": {},
     "output_type": "display_data"
    },
    {
     "name": "stdout",
     "output_type": "stream",
     "text": [
      "----------------------------\n",
      "color name :  stoplight red\n",
      "generated\n"
     ]
    },
    {
     "data": {
      "text/html": [
       "<div style='float:left;background:#e03025;padding:10px;width:300px;'></div>"
      ],
      "text/plain": [
       "<IPython.core.display.HTML object>"
      ]
     },
     "metadata": {},
     "output_type": "display_data"
    },
    {
     "name": "stdout",
     "output_type": "stream",
     "text": [
      "ground truth\n"
     ]
    },
    {
     "data": {
      "text/html": [
       "<div style='float:left;background:#c63033;padding:10px;width:300px;'></div>"
      ],
      "text/plain": [
       "<IPython.core.display.HTML object>"
      ]
     },
     "metadata": {},
     "output_type": "display_data"
    },
    {
     "name": "stdout",
     "output_type": "stream",
     "text": [
      "----------------------------\n",
      "color name :  in the red\n",
      "generated\n"
     ]
    },
    {
     "data": {
      "text/html": [
       "<div style='float:left;background:#ab2333;padding:10px;width:300px;'></div>"
      ],
      "text/plain": [
       "<IPython.core.display.HTML object>"
      ]
     },
     "metadata": {},
     "output_type": "display_data"
    },
    {
     "name": "stdout",
     "output_type": "stream",
     "text": [
      "ground truth\n"
     ]
    },
    {
     "data": {
      "text/html": [
       "<div style='float:left;background:#ba2f2f;padding:10px;width:300px;'></div>"
      ],
      "text/plain": [
       "<IPython.core.display.HTML object>"
      ]
     },
     "metadata": {},
     "output_type": "display_data"
    },
    {
     "name": "stdout",
     "output_type": "stream",
     "text": [
      "----------------------------\n",
      "color name :  red boots\n",
      "generated\n"
     ]
    },
    {
     "data": {
      "text/html": [
       "<div style='float:left;background:#aa1930;padding:10px;width:300px;'></div>"
      ],
      "text/plain": [
       "<IPython.core.display.HTML object>"
      ]
     },
     "metadata": {},
     "output_type": "display_data"
    },
    {
     "name": "stdout",
     "output_type": "stream",
     "text": [
      "ground truth\n"
     ]
    },
    {
     "data": {
      "text/html": [
       "<div style='float:left;background:#be302e;padding:10px;width:300px;'></div>"
      ],
      "text/plain": [
       "<IPython.core.display.HTML object>"
      ]
     },
     "metadata": {},
     "output_type": "display_data"
    },
    {
     "name": "stdout",
     "output_type": "stream",
     "text": [
      "----------------------------\n",
      "color name :  never cared enough\n",
      "generated\n"
     ]
    },
    {
     "data": {
      "text/html": [
       "<div style='float:left;background:#193b61;padding:10px;width:300px;'></div>"
      ],
      "text/plain": [
       "<IPython.core.display.HTML object>"
      ]
     },
     "metadata": {},
     "output_type": "display_data"
    },
    {
     "name": "stdout",
     "output_type": "stream",
     "text": [
      "ground truth\n"
     ]
    },
    {
     "data": {
      "text/html": [
       "<div style='float:left;background:#a17d79;padding:10px;width:300px;'></div>"
      ],
      "text/plain": [
       "<IPython.core.display.HTML object>"
      ]
     },
     "metadata": {},
     "output_type": "display_data"
    },
    {
     "name": "stdout",
     "output_type": "stream",
     "text": [
      "----------------------------\n",
      "color name :  redilicious\n",
      "generated\n"
     ]
    },
    {
     "data": {
      "text/html": [
       "<div style='float:left;background:#ce1f19;padding:10px;width:300px;'></div>"
      ],
      "text/plain": [
       "<IPython.core.display.HTML object>"
      ]
     },
     "metadata": {},
     "output_type": "display_data"
    },
    {
     "name": "stdout",
     "output_type": "stream",
     "text": [
      "ground truth\n"
     ]
    },
    {
     "data": {
      "text/html": [
       "<div style='float:left;background:#c83735;padding:10px;width:300px;'></div>"
      ],
      "text/plain": [
       "<IPython.core.display.HTML object>"
      ]
     },
     "metadata": {},
     "output_type": "display_data"
    },
    {
     "name": "stdout",
     "output_type": "stream",
     "text": [
      "----------------------------\n",
      "color name :  red yan s\n",
      "generated\n"
     ]
    },
    {
     "data": {
      "text/html": [
       "<div style='float:left;background:#a12d21;padding:10px;width:300px;'></div>"
      ],
      "text/plain": [
       "<IPython.core.display.HTML object>"
      ]
     },
     "metadata": {},
     "output_type": "display_data"
    },
    {
     "name": "stdout",
     "output_type": "stream",
     "text": [
      "ground truth\n"
     ]
    },
    {
     "data": {
      "text/html": [
       "<div style='float:left;background:#c33630;padding:10px;width:300px;'></div>"
      ],
      "text/plain": [
       "<IPython.core.display.HTML object>"
      ]
     },
     "metadata": {},
     "output_type": "display_data"
    },
    {
     "name": "stdout",
     "output_type": "stream",
     "text": [
      "----------------------------\n",
      "color name :  redtape\n",
      "generated\n"
     ]
    },
    {
     "data": {
      "text/html": [
       "<div style='float:left;background:#cb1819;padding:10px;width:300px;'></div>"
      ],
      "text/plain": [
       "<IPython.core.display.HTML object>"
      ]
     },
     "metadata": {},
     "output_type": "display_data"
    },
    {
     "name": "stdout",
     "output_type": "stream",
     "text": [
      "ground truth\n"
     ]
    },
    {
     "data": {
      "text/html": [
       "<div style='float:left;background:#be3b30;padding:10px;width:300px;'></div>"
      ],
      "text/plain": [
       "<IPython.core.display.HTML object>"
      ]
     },
     "metadata": {},
     "output_type": "display_data"
    },
    {
     "name": "stdout",
     "output_type": "stream",
     "text": [
      "----------------------------\n",
      "color name :  deep red ochre\n",
      "generated\n"
     ]
    },
    {
     "data": {
      "text/html": [
       "<div style='float:left;background:#a1382e;padding:10px;width:300px;'></div>"
      ],
      "text/plain": [
       "<IPython.core.display.HTML object>"
      ]
     },
     "metadata": {},
     "output_type": "display_data"
    },
    {
     "name": "stdout",
     "output_type": "stream",
     "text": [
      "ground truth\n"
     ]
    },
    {
     "data": {
      "text/html": [
       "<div style='float:left;background:#880f1f;padding:10px;width:300px;'></div>"
      ],
      "text/plain": [
       "<IPython.core.display.HTML object>"
      ]
     },
     "metadata": {},
     "output_type": "display_data"
    },
    {
     "name": "stdout",
     "output_type": "stream",
     "text": [
      "----------------------------\n",
      "color name :  the ultimate red\n",
      "generated\n"
     ]
    },
    {
     "data": {
      "text/html": [
       "<div style='float:left;background:#d00d04;padding:10px;width:300px;'></div>"
      ],
      "text/plain": [
       "<IPython.core.display.HTML object>"
      ]
     },
     "metadata": {},
     "output_type": "display_data"
    },
    {
     "name": "stdout",
     "output_type": "stream",
     "text": [
      "ground truth\n"
     ]
    },
    {
     "data": {
      "text/html": [
       "<div style='float:left;background:#ba2a2e;padding:10px;width:300px;'></div>"
      ],
      "text/plain": [
       "<IPython.core.display.HTML object>"
      ]
     },
     "metadata": {},
     "output_type": "display_data"
    },
    {
     "name": "stdout",
     "output_type": "stream",
     "text": [
      "----------------------------\n",
      "color name :  queen of hearts red\n",
      "generated\n"
     ]
    },
    {
     "data": {
      "text/html": [
       "<div style='float:left;background:#ec0608;padding:10px;width:300px;'></div>"
      ],
      "text/plain": [
       "<IPython.core.display.HTML object>"
      ]
     },
     "metadata": {},
     "output_type": "display_data"
    },
    {
     "name": "stdout",
     "output_type": "stream",
     "text": [
      "ground truth\n"
     ]
    },
    {
     "data": {
      "text/html": [
       "<div style='float:left;background:#c12a33;padding:10px;width:300px;'></div>"
      ],
      "text/plain": [
       "<IPython.core.display.HTML object>"
      ]
     },
     "metadata": {},
     "output_type": "display_data"
    },
    {
     "name": "stdout",
     "output_type": "stream",
     "text": [
      "----------------------------\n",
      "color name :  bred to scalp\n",
      "generated\n"
     ]
    },
    {
     "data": {
      "text/html": [
       "<div style='float:left;background:#231e21;padding:10px;width:300px;'></div>"
      ],
      "text/plain": [
       "<IPython.core.display.HTML object>"
      ]
     },
     "metadata": {},
     "output_type": "display_data"
    },
    {
     "name": "stdout",
     "output_type": "stream",
     "text": [
      "ground truth\n"
     ]
    },
    {
     "data": {
      "text/html": [
       "<div style='float:left;background:#874e3d;padding:10px;width:300px;'></div>"
      ],
      "text/plain": [
       "<IPython.core.display.HTML object>"
      ]
     },
     "metadata": {},
     "output_type": "display_data"
    },
    {
     "name": "stdout",
     "output_type": "stream",
     "text": [
      "----------------------------\n",
      "color name :  reddemuss lippus\n",
      "generated\n"
     ]
    },
    {
     "data": {
      "text/html": [
       "<div style='float:left;background:#af123a;padding:10px;width:300px;'></div>"
      ],
      "text/plain": [
       "<IPython.core.display.HTML object>"
      ]
     },
     "metadata": {},
     "output_type": "display_data"
    },
    {
     "name": "stdout",
     "output_type": "stream",
     "text": [
      "ground truth\n"
     ]
    },
    {
     "data": {
      "text/html": [
       "<div style='float:left;background:#c93633;padding:10px;width:300px;'></div>"
      ],
      "text/plain": [
       "<IPython.core.display.HTML object>"
      ]
     },
     "metadata": {},
     "output_type": "display_data"
    },
    {
     "name": "stdout",
     "output_type": "stream",
     "text": [
      "----------------------------\n",
      "color name :  red skrit\n",
      "generated\n"
     ]
    },
    {
     "data": {
      "text/html": [
       "<div style='float:left;background:#e60005;padding:10px;width:300px;'></div>"
      ],
      "text/plain": [
       "<IPython.core.display.HTML object>"
      ]
     },
     "metadata": {},
     "output_type": "display_data"
    },
    {
     "name": "stdout",
     "output_type": "stream",
     "text": [
      "ground truth\n"
     ]
    },
    {
     "data": {
      "text/html": [
       "<div style='float:left;background:#c73331;padding:10px;width:300px;'></div>"
      ],
      "text/plain": [
       "<IPython.core.display.HTML object>"
      ]
     },
     "metadata": {},
     "output_type": "display_data"
    },
    {
     "name": "stdout",
     "output_type": "stream",
     "text": [
      "----------------------------\n",
      "color name :  all stirred up\n",
      "generated\n"
     ]
    },
    {
     "data": {
      "text/html": [
       "<div style='float:left;background:#a88075;padding:10px;width:300px;'></div>"
      ],
      "text/plain": [
       "<IPython.core.display.HTML object>"
      ]
     },
     "metadata": {},
     "output_type": "display_data"
    },
    {
     "name": "stdout",
     "output_type": "stream",
     "text": [
      "ground truth\n"
     ]
    },
    {
     "data": {
      "text/html": [
       "<div style='float:left;background:#a57c78;padding:10px;width:300px;'></div>"
      ],
      "text/plain": [
       "<IPython.core.display.HTML object>"
      ]
     },
     "metadata": {},
     "output_type": "display_data"
    },
    {
     "name": "stdout",
     "output_type": "stream",
     "text": [
      "----------------------------\n",
      "color name :  embroidered rose\n",
      "generated\n"
     ]
    },
    {
     "data": {
      "text/html": [
       "<div style='float:left;background:#eee0c8;padding:10px;width:300px;'></div>"
      ],
      "text/plain": [
       "<IPython.core.display.HTML object>"
      ]
     },
     "metadata": {},
     "output_type": "display_data"
    },
    {
     "name": "stdout",
     "output_type": "stream",
     "text": [
      "ground truth\n"
     ]
    },
    {
     "data": {
      "text/html": [
       "<div style='float:left;background:#c16169;padding:10px;width:300px;'></div>"
      ],
      "text/plain": [
       "<IPython.core.display.HTML object>"
      ]
     },
     "metadata": {},
     "output_type": "display_data"
    },
    {
     "name": "stdout",
     "output_type": "stream",
     "text": [
      "----------------------------\n",
      "color name :  curry flavoured\n",
      "generated\n"
     ]
    },
    {
     "data": {
      "text/html": [
       "<div style='float:left;background:#e3fb63;padding:10px;width:300px;'></div>"
      ],
      "text/plain": [
       "<IPython.core.display.HTML object>"
      ]
     },
     "metadata": {},
     "output_type": "display_data"
    },
    {
     "name": "stdout",
     "output_type": "stream",
     "text": [
      "ground truth\n"
     ]
    },
    {
     "data": {
      "text/html": [
       "<div style='float:left;background:#c38767;padding:10px;width:300px;'></div>"
      ],
      "text/plain": [
       "<IPython.core.display.HTML object>"
      ]
     },
     "metadata": {},
     "output_type": "display_data"
    },
    {
     "name": "stdout",
     "output_type": "stream",
     "text": [
      "----------------------------\n",
      "color name :  love is red\n",
      "generated\n"
     ]
    },
    {
     "data": {
      "text/html": [
       "<div style='float:left;background:#f42931;padding:10px;width:300px;'></div>"
      ],
      "text/plain": [
       "<IPython.core.display.HTML object>"
      ]
     },
     "metadata": {},
     "output_type": "display_data"
    },
    {
     "name": "stdout",
     "output_type": "stream",
     "text": [
      "ground truth\n"
     ]
    },
    {
     "data": {
      "text/html": [
       "<div style='float:left;background:#c63037;padding:10px;width:300px;'></div>"
      ],
      "text/plain": [
       "<IPython.core.display.HTML object>"
      ]
     },
     "metadata": {},
     "output_type": "display_data"
    },
    {
     "name": "stdout",
     "output_type": "stream",
     "text": [
      "----------------------------\n",
      "color name :  tired obein bananas\n",
      "generated\n"
     ]
    },
    {
     "data": {
      "text/html": [
       "<div style='float:left;background:#f2e412;padding:10px;width:300px;'></div>"
      ],
      "text/plain": [
       "<IPython.core.display.HTML object>"
      ]
     },
     "metadata": {},
     "output_type": "display_data"
    },
    {
     "name": "stdout",
     "output_type": "stream",
     "text": [
      "ground truth\n"
     ]
    },
    {
     "data": {
      "text/html": [
       "<div style='float:left;background:#d9c659;padding:10px;width:300px;'></div>"
      ],
      "text/plain": [
       "<IPython.core.display.HTML object>"
      ]
     },
     "metadata": {},
     "output_type": "display_data"
    },
    {
     "name": "stdout",
     "output_type": "stream",
     "text": [
      "----------------------------\n",
      "color name :  meriska red\n",
      "generated\n"
     ]
    },
    {
     "data": {
      "text/html": [
       "<div style='float:left;background:#920437;padding:10px;width:300px;'></div>"
      ],
      "text/plain": [
       "<IPython.core.display.HTML object>"
      ]
     },
     "metadata": {},
     "output_type": "display_data"
    },
    {
     "name": "stdout",
     "output_type": "stream",
     "text": [
      "ground truth\n"
     ]
    },
    {
     "data": {
      "text/html": [
       "<div style='float:left;background:#c73030;padding:10px;width:300px;'></div>"
      ],
      "text/plain": [
       "<IPython.core.display.HTML object>"
      ]
     },
     "metadata": {},
     "output_type": "display_data"
    },
    {
     "name": "stdout",
     "output_type": "stream",
     "text": [
      "----------------------------\n",
      "color name :  one feathered tail\n",
      "generated\n"
     ]
    },
    {
     "data": {
      "text/html": [
       "<div style='float:left;background:#cedaea;padding:10px;width:300px;'></div>"
      ],
      "text/plain": [
       "<IPython.core.display.HTML object>"
      ]
     },
     "metadata": {},
     "output_type": "display_data"
    },
    {
     "name": "stdout",
     "output_type": "stream",
     "text": [
      "ground truth\n"
     ]
    },
    {
     "data": {
      "text/html": [
       "<div style='float:left;background:#a08a7e;padding:10px;width:300px;'></div>"
      ],
      "text/plain": [
       "<IPython.core.display.HTML object>"
      ]
     },
     "metadata": {},
     "output_type": "display_data"
    },
    {
     "name": "stdout",
     "output_type": "stream",
     "text": [
      "----------------------------\n",
      "color name :  whoa hoss red\n",
      "generated\n"
     ]
    },
    {
     "data": {
      "text/html": [
       "<div style='float:left;background:#e81b4c;padding:10px;width:300px;'></div>"
      ],
      "text/plain": [
       "<IPython.core.display.HTML object>"
      ]
     },
     "metadata": {},
     "output_type": "display_data"
    },
    {
     "name": "stdout",
     "output_type": "stream",
     "text": [
      "ground truth\n"
     ]
    },
    {
     "data": {
      "text/html": [
       "<div style='float:left;background:#bf2933;padding:10px;width:300px;'></div>"
      ],
      "text/plain": [
       "<IPython.core.display.HTML object>"
      ]
     },
     "metadata": {},
     "output_type": "display_data"
    },
    {
     "name": "stdout",
     "output_type": "stream",
     "text": [
      "----------------------------\n",
      "color name :  redd fox\n",
      "generated\n"
     ]
    },
    {
     "data": {
      "text/html": [
       "<div style='float:left;background:#7b1516;padding:10px;width:300px;'></div>"
      ],
      "text/plain": [
       "<IPython.core.display.HTML object>"
      ]
     },
     "metadata": {},
     "output_type": "display_data"
    },
    {
     "name": "stdout",
     "output_type": "stream",
     "text": [
      "ground truth\n"
     ]
    },
    {
     "data": {
      "text/html": [
       "<div style='float:left;background:#ca3332;padding:10px;width:300px;'></div>"
      ],
      "text/plain": [
       "<IPython.core.display.HTML object>"
      ]
     },
     "metadata": {},
     "output_type": "display_data"
    },
    {
     "name": "stdout",
     "output_type": "stream",
     "text": [
      "----------------------------\n",
      "color name :  ccletloverulered\n",
      "generated\n"
     ]
    },
    {
     "data": {
      "text/html": [
       "<div style='float:left;background:#901024;padding:10px;width:300px;'></div>"
      ],
      "text/plain": [
       "<IPython.core.display.HTML object>"
      ]
     },
     "metadata": {},
     "output_type": "display_data"
    },
    {
     "name": "stdout",
     "output_type": "stream",
     "text": [
      "ground truth\n"
     ]
    },
    {
     "data": {
      "text/html": [
       "<div style='float:left;background:#bb907a;padding:10px;width:300px;'></div>"
      ],
      "text/plain": [
       "<IPython.core.display.HTML object>"
      ]
     },
     "metadata": {},
     "output_type": "display_data"
    },
    {
     "name": "stdout",
     "output_type": "stream",
     "text": [
      "----------------------------\n",
      "color name :  red as red\n",
      "generated\n"
     ]
    },
    {
     "data": {
      "text/html": [
       "<div style='float:left;background:#d50018;padding:10px;width:300px;'></div>"
      ],
      "text/plain": [
       "<IPython.core.display.HTML object>"
      ]
     },
     "metadata": {},
     "output_type": "display_data"
    },
    {
     "name": "stdout",
     "output_type": "stream",
     "text": [
      "ground truth\n"
     ]
    },
    {
     "data": {
      "text/html": [
       "<div style='float:left;background:#c22a2b;padding:10px;width:300px;'></div>"
      ],
      "text/plain": [
       "<IPython.core.display.HTML object>"
      ]
     },
     "metadata": {},
     "output_type": "display_data"
    },
    {
     "name": "stdout",
     "output_type": "stream",
     "text": [
      "----------------------------\n",
      "color name :  ciodredlinritat\n",
      "generated\n"
     ]
    },
    {
     "data": {
      "text/html": [
       "<div style='float:left;background:#2cefd2;padding:10px;width:300px;'></div>"
      ],
      "text/plain": [
       "<IPython.core.display.HTML object>"
      ]
     },
     "metadata": {},
     "output_type": "display_data"
    },
    {
     "name": "stdout",
     "output_type": "stream",
     "text": [
      "ground truth\n"
     ]
    },
    {
     "data": {
      "text/html": [
       "<div style='float:left;background:#a3574e;padding:10px;width:300px;'></div>"
      ],
      "text/plain": [
       "<IPython.core.display.HTML object>"
      ]
     },
     "metadata": {},
     "output_type": "display_data"
    },
    {
     "name": "stdout",
     "output_type": "stream",
     "text": [
      "----------------------------\n",
      "color name :  endangered elephants\n",
      "generated\n"
     ]
    },
    {
     "data": {
      "text/html": [
       "<div style='float:left;background:#78888d;padding:10px;width:300px;'></div>"
      ],
      "text/plain": [
       "<IPython.core.display.HTML object>"
      ]
     },
     "metadata": {},
     "output_type": "display_data"
    },
    {
     "name": "stdout",
     "output_type": "stream",
     "text": [
      "ground truth\n"
     ]
    },
    {
     "data": {
      "text/html": [
       "<div style='float:left;background:#9f7f7d;padding:10px;width:300px;'></div>"
      ],
      "text/plain": [
       "<IPython.core.display.HTML object>"
      ]
     },
     "metadata": {},
     "output_type": "display_data"
    },
    {
     "name": "stdout",
     "output_type": "stream",
     "text": [
      "----------------------------\n",
      "color name :  powdered teal\n",
      "generated\n"
     ]
    },
    {
     "data": {
      "text/html": [
       "<div style='float:left;background:#638982;padding:10px;width:300px;'></div>"
      ],
      "text/plain": [
       "<IPython.core.display.HTML object>"
      ]
     },
     "metadata": {},
     "output_type": "display_data"
    },
    {
     "name": "stdout",
     "output_type": "stream",
     "text": [
      "ground truth\n"
     ]
    },
    {
     "data": {
      "text/html": [
       "<div style='float:left;background:#6aa6a7;padding:10px;width:300px;'></div>"
      ],
      "text/plain": [
       "<IPython.core.display.HTML object>"
      ]
     },
     "metadata": {},
     "output_type": "display_data"
    },
    {
     "name": "stdout",
     "output_type": "stream",
     "text": [
      "----------------------------\n",
      "color name :  your daysarenumbered\n",
      "generated\n"
     ]
    },
    {
     "data": {
      "text/html": [
       "<div style='float:left;background:#9af2a3;padding:10px;width:300px;'></div>"
      ],
      "text/plain": [
       "<IPython.core.display.HTML object>"
      ]
     },
     "metadata": {},
     "output_type": "display_data"
    },
    {
     "name": "stdout",
     "output_type": "stream",
     "text": [
      "ground truth\n"
     ]
    },
    {
     "data": {
      "text/html": [
       "<div style='float:left;background:#a68078;padding:10px;width:300px;'></div>"
      ],
      "text/plain": [
       "<IPython.core.display.HTML object>"
      ]
     },
     "metadata": {},
     "output_type": "display_data"
    },
    {
     "name": "stdout",
     "output_type": "stream",
     "text": [
      "----------------------------\n",
      "color name :  red rainslicker\n",
      "generated\n"
     ]
    },
    {
     "data": {
      "text/html": [
       "<div style='float:left;background:#530501;padding:10px;width:300px;'></div>"
      ],
      "text/plain": [
       "<IPython.core.display.HTML object>"
      ]
     },
     "metadata": {},
     "output_type": "display_data"
    },
    {
     "name": "stdout",
     "output_type": "stream",
     "text": [
      "ground truth\n"
     ]
    },
    {
     "data": {
      "text/html": [
       "<div style='float:left;background:#c63333;padding:10px;width:300px;'></div>"
      ],
      "text/plain": [
       "<IPython.core.display.HTML object>"
      ]
     },
     "metadata": {},
     "output_type": "display_data"
    },
    {
     "name": "stdout",
     "output_type": "stream",
     "text": [
      "----------------------------\n",
      "color name :  smeared ankara\n",
      "generated\n"
     ]
    },
    {
     "data": {
      "text/html": [
       "<div style='float:left;background:#55594e;padding:10px;width:300px;'></div>"
      ],
      "text/plain": [
       "<IPython.core.display.HTML object>"
      ]
     },
     "metadata": {},
     "output_type": "display_data"
    },
    {
     "name": "stdout",
     "output_type": "stream",
     "text": [
      "ground truth\n"
     ]
    },
    {
     "data": {
      "text/html": [
       "<div style='float:left;background:#a77e7b;padding:10px;width:300px;'></div>"
      ],
      "text/plain": [
       "<IPython.core.display.HTML object>"
      ]
     },
     "metadata": {},
     "output_type": "display_data"
    },
    {
     "name": "stdout",
     "output_type": "stream",
     "text": [
      "----------------------------\n",
      "color name :  abundant red\n",
      "generated\n"
     ]
    },
    {
     "data": {
      "text/html": [
       "<div style='float:left;background:#b91739;padding:10px;width:300px;'></div>"
      ],
      "text/plain": [
       "<IPython.core.display.HTML object>"
      ]
     },
     "metadata": {},
     "output_type": "display_data"
    },
    {
     "name": "stdout",
     "output_type": "stream",
     "text": [
      "ground truth\n"
     ]
    },
    {
     "data": {
      "text/html": [
       "<div style='float:left;background:#be302e;padding:10px;width:300px;'></div>"
      ],
      "text/plain": [
       "<IPython.core.display.HTML object>"
      ]
     },
     "metadata": {},
     "output_type": "display_data"
    },
    {
     "name": "stdout",
     "output_type": "stream",
     "text": [
      "----------------------------\n",
      "color name :  desired red\n",
      "generated\n"
     ]
    },
    {
     "data": {
      "text/html": [
       "<div style='float:left;background:#db2135;padding:10px;width:300px;'></div>"
      ],
      "text/plain": [
       "<IPython.core.display.HTML object>"
      ]
     },
     "metadata": {},
     "output_type": "display_data"
    },
    {
     "name": "stdout",
     "output_type": "stream",
     "text": [
      "ground truth\n"
     ]
    },
    {
     "data": {
      "text/html": [
       "<div style='float:left;background:#c12c30;padding:10px;width:300px;'></div>"
      ],
      "text/plain": [
       "<IPython.core.display.HTML object>"
      ]
     },
     "metadata": {},
     "output_type": "display_data"
    },
    {
     "name": "stdout",
     "output_type": "stream",
     "text": [
      "----------------------------\n",
      "color name :  iliwuds siren red\n",
      "generated\n"
     ]
    },
    {
     "data": {
      "text/html": [
       "<div style='float:left;background:#f4000a;padding:10px;width:300px;'></div>"
      ],
      "text/plain": [
       "<IPython.core.display.HTML object>"
      ]
     },
     "metadata": {},
     "output_type": "display_data"
    },
    {
     "name": "stdout",
     "output_type": "stream",
     "text": [
      "ground truth\n"
     ]
    },
    {
     "data": {
      "text/html": [
       "<div style='float:left;background:#c42e31;padding:10px;width:300px;'></div>"
      ],
      "text/plain": [
       "<IPython.core.display.HTML object>"
      ]
     },
     "metadata": {},
     "output_type": "display_data"
    },
    {
     "name": "stdout",
     "output_type": "stream",
     "text": [
      "----------------------------\n",
      "color name :  red hot donna\n",
      "generated\n"
     ]
    },
    {
     "data": {
      "text/html": [
       "<div style='float:left;background:#ea4431;padding:10px;width:300px;'></div>"
      ],
      "text/plain": [
       "<IPython.core.display.HTML object>"
      ]
     },
     "metadata": {},
     "output_type": "display_data"
    },
    {
     "name": "stdout",
     "output_type": "stream",
     "text": [
      "ground truth\n"
     ]
    },
    {
     "data": {
      "text/html": [
       "<div style='float:left;background:#c52d31;padding:10px;width:300px;'></div>"
      ],
      "text/plain": [
       "<IPython.core.display.HTML object>"
      ]
     },
     "metadata": {},
     "output_type": "display_data"
    },
    {
     "name": "stdout",
     "output_type": "stream",
     "text": [
      "----------------------------\n",
      "color name :  shattered\n",
      "generated\n"
     ]
    },
    {
     "data": {
      "text/html": [
       "<div style='float:left;background:#38e541;padding:10px;width:300px;'></div>"
      ],
      "text/plain": [
       "<IPython.core.display.HTML object>"
      ]
     },
     "metadata": {},
     "output_type": "display_data"
    },
    {
     "name": "stdout",
     "output_type": "stream",
     "text": [
      "ground truth\n"
     ]
    },
    {
     "data": {
      "text/html": [
       "<div style='float:left;background:#a37b70;padding:10px;width:300px;'></div>"
      ],
      "text/plain": [
       "<IPython.core.display.HTML object>"
      ]
     },
     "metadata": {},
     "output_type": "display_data"
    },
    {
     "name": "stdout",
     "output_type": "stream",
     "text": [
      "----------------------------\n",
      "color name :  red vinyl\n",
      "generated\n"
     ]
    },
    {
     "data": {
      "text/html": [
       "<div style='float:left;background:#f94c24;padding:10px;width:300px;'></div>"
      ],
      "text/plain": [
       "<IPython.core.display.HTML object>"
      ]
     },
     "metadata": {},
     "output_type": "display_data"
    },
    {
     "name": "stdout",
     "output_type": "stream",
     "text": [
      "ground truth\n"
     ]
    },
    {
     "data": {
      "text/html": [
       "<div style='float:left;background:#bd2e2d;padding:10px;width:300px;'></div>"
      ],
      "text/plain": [
       "<IPython.core.display.HTML object>"
      ]
     },
     "metadata": {},
     "output_type": "display_data"
    },
    {
     "name": "stdout",
     "output_type": "stream",
     "text": [
      "----------------------------\n",
      "color name :  luckyred\n",
      "generated\n"
     ]
    },
    {
     "data": {
      "text/html": [
       "<div style='float:left;background:#db041a;padding:10px;width:300px;'></div>"
      ],
      "text/plain": [
       "<IPython.core.display.HTML object>"
      ]
     },
     "metadata": {},
     "output_type": "display_data"
    },
    {
     "name": "stdout",
     "output_type": "stream",
     "text": [
      "ground truth\n"
     ]
    },
    {
     "data": {
      "text/html": [
       "<div style='float:left;background:#c83e42;padding:10px;width:300px;'></div>"
      ],
      "text/plain": [
       "<IPython.core.display.HTML object>"
      ]
     },
     "metadata": {},
     "output_type": "display_data"
    },
    {
     "name": "stdout",
     "output_type": "stream",
     "text": [
      "----------------------------\n",
      "color name :  oh im tired of this\n",
      "generated\n"
     ]
    },
    {
     "data": {
      "text/html": [
       "<div style='float:left;background:#3a272e;padding:10px;width:300px;'></div>"
      ],
      "text/plain": [
       "<IPython.core.display.HTML object>"
      ]
     },
     "metadata": {},
     "output_type": "display_data"
    },
    {
     "name": "stdout",
     "output_type": "stream",
     "text": [
      "ground truth\n"
     ]
    },
    {
     "data": {
      "text/html": [
       "<div style='float:left;background:#987c76;padding:10px;width:300px;'></div>"
      ],
      "text/plain": [
       "<IPython.core.display.HTML object>"
      ]
     },
     "metadata": {},
     "output_type": "display_data"
    },
    {
     "name": "stdout",
     "output_type": "stream",
     "text": [
      "----------------------------\n",
      "color name :  dharma red\n",
      "generated\n"
     ]
    },
    {
     "data": {
      "text/html": [
       "<div style='float:left;background:#c01b34;padding:10px;width:300px;'></div>"
      ],
      "text/plain": [
       "<IPython.core.display.HTML object>"
      ]
     },
     "metadata": {},
     "output_type": "display_data"
    },
    {
     "name": "stdout",
     "output_type": "stream",
     "text": [
      "ground truth\n"
     ]
    },
    {
     "data": {
      "text/html": [
       "<div style='float:left;background:#be262d;padding:10px;width:300px;'></div>"
      ],
      "text/plain": [
       "<IPython.core.display.HTML object>"
      ]
     },
     "metadata": {},
     "output_type": "display_data"
    },
    {
     "name": "stdout",
     "output_type": "stream",
     "text": [
      "----------------------------\n",
      "color name :  mushroom red\n",
      "generated\n"
     ]
    },
    {
     "data": {
      "text/html": [
       "<div style='float:left;background:#f9242a;padding:10px;width:300px;'></div>"
      ],
      "text/plain": [
       "<IPython.core.display.HTML object>"
      ]
     },
     "metadata": {},
     "output_type": "display_data"
    },
    {
     "name": "stdout",
     "output_type": "stream",
     "text": [
      "ground truth\n"
     ]
    },
    {
     "data": {
      "text/html": [
       "<div style='float:left;background:#c22e30;padding:10px;width:300px;'></div>"
      ],
      "text/plain": [
       "<IPython.core.display.HTML object>"
      ]
     },
     "metadata": {},
     "output_type": "display_data"
    },
    {
     "name": "stdout",
     "output_type": "stream",
     "text": [
      "----------------------------\n",
      "color name :  siberian red\n",
      "generated\n"
     ]
    },
    {
     "data": {
      "text/html": [
       "<div style='float:left;background:#4a3335;padding:10px;width:300px;'></div>"
      ],
      "text/plain": [
       "<IPython.core.display.HTML object>"
      ]
     },
     "metadata": {},
     "output_type": "display_data"
    },
    {
     "name": "stdout",
     "output_type": "stream",
     "text": [
      "ground truth\n"
     ]
    },
    {
     "data": {
      "text/html": [
       "<div style='float:left;background:#c32c31;padding:10px;width:300px;'></div>"
      ],
      "text/plain": [
       "<IPython.core.display.HTML object>"
      ]
     },
     "metadata": {},
     "output_type": "display_data"
    },
    {
     "name": "stdout",
     "output_type": "stream",
     "text": [
      "----------------------------\n",
      "color name :  four hundred\n",
      "generated\n"
     ]
    },
    {
     "data": {
      "text/html": [
       "<div style='float:left;background:#b21d100;padding:10px;width:300px;'></div>"
      ],
      "text/plain": [
       "<IPython.core.display.HTML object>"
      ]
     },
     "metadata": {},
     "output_type": "display_data"
    },
    {
     "name": "stdout",
     "output_type": "stream",
     "text": [
      "ground truth\n"
     ]
    },
    {
     "data": {
      "text/html": [
       "<div style='float:left;background:#bd4e42;padding:10px;width:300px;'></div>"
      ],
      "text/plain": [
       "<IPython.core.display.HTML object>"
      ]
     },
     "metadata": {},
     "output_type": "display_data"
    },
    {
     "name": "stdout",
     "output_type": "stream",
     "text": [
      "----------------------------\n",
      "color name :  ozone redux\n",
      "generated\n"
     ]
    },
    {
     "data": {
      "text/html": [
       "<div style='float:left;background:#12525e;padding:10px;width:300px;'></div>"
      ],
      "text/plain": [
       "<IPython.core.display.HTML object>"
      ]
     },
     "metadata": {},
     "output_type": "display_data"
    },
    {
     "name": "stdout",
     "output_type": "stream",
     "text": [
      "ground truth\n"
     ]
    },
    {
     "data": {
      "text/html": [
       "<div style='float:left;background:#a37c74;padding:10px;width:300px;'></div>"
      ],
      "text/plain": [
       "<IPython.core.display.HTML object>"
      ]
     },
     "metadata": {},
     "output_type": "display_data"
    },
    {
     "name": "stdout",
     "output_type": "stream",
     "text": [
      "----------------------------\n",
      "color name :  red matter\n",
      "generated\n"
     ]
    },
    {
     "data": {
      "text/html": [
       "<div style='float:left;background:#900914;padding:10px;width:300px;'></div>"
      ],
      "text/plain": [
       "<IPython.core.display.HTML object>"
      ]
     },
     "metadata": {},
     "output_type": "display_data"
    },
    {
     "name": "stdout",
     "output_type": "stream",
     "text": [
      "ground truth\n"
     ]
    },
    {
     "data": {
      "text/html": [
       "<div style='float:left;background:#c22f2c;padding:10px;width:300px;'></div>"
      ],
      "text/plain": [
       "<IPython.core.display.HTML object>"
      ]
     },
     "metadata": {},
     "output_type": "display_data"
    },
    {
     "name": "stdout",
     "output_type": "stream",
     "text": [
      "----------------------------\n",
      "color name :  button red\n",
      "generated\n"
     ]
    },
    {
     "data": {
      "text/html": [
       "<div style='float:left;background:#d30330;padding:10px;width:300px;'></div>"
      ],
      "text/plain": [
       "<IPython.core.display.HTML object>"
      ]
     },
     "metadata": {},
     "output_type": "display_data"
    },
    {
     "name": "stdout",
     "output_type": "stream",
     "text": [
      "ground truth\n"
     ]
    },
    {
     "data": {
      "text/html": [
       "<div style='float:left;background:#c83332;padding:10px;width:300px;'></div>"
      ],
      "text/plain": [
       "<IPython.core.display.HTML object>"
      ]
     },
     "metadata": {},
     "output_type": "display_data"
    },
    {
     "name": "stdout",
     "output_type": "stream",
     "text": [
      "----------------------------\n",
      "color name :  feathered heart\n",
      "generated\n"
     ]
    },
    {
     "data": {
      "text/html": [
       "<div style='float:left;background:#50e1f9;padding:10px;width:300px;'></div>"
      ],
      "text/plain": [
       "<IPython.core.display.HTML object>"
      ]
     },
     "metadata": {},
     "output_type": "display_data"
    },
    {
     "name": "stdout",
     "output_type": "stream",
     "text": [
      "ground truth\n"
     ]
    },
    {
     "data": {
      "text/html": [
       "<div style='float:left;background:#ae6c76;padding:10px;width:300px;'></div>"
      ],
      "text/plain": [
       "<IPython.core.display.HTML object>"
      ]
     },
     "metadata": {},
     "output_type": "display_data"
    },
    {
     "name": "stdout",
     "output_type": "stream",
     "text": [
      "----------------------------\n",
      "color name :  cadmium red\n",
      "generated\n"
     ]
    },
    {
     "data": {
      "text/html": [
       "<div style='float:left;background:#eb2115;padding:10px;width:300px;'></div>"
      ],
      "text/plain": [
       "<IPython.core.display.HTML object>"
      ]
     },
     "metadata": {},
     "output_type": "display_data"
    },
    {
     "name": "stdout",
     "output_type": "stream",
     "text": [
      "ground truth\n"
     ]
    },
    {
     "data": {
      "text/html": [
       "<div style='float:left;background:#c32e30;padding:10px;width:300px;'></div>"
      ],
      "text/plain": [
       "<IPython.core.display.HTML object>"
      ]
     },
     "metadata": {},
     "output_type": "display_data"
    },
    {
     "name": "stdout",
     "output_type": "stream",
     "text": [
      "----------------------------\n",
      "color name :  dark imperial red\n",
      "generated\n"
     ]
    },
    {
     "data": {
      "text/html": [
       "<div style='float:left;background:#7b1221;padding:10px;width:300px;'></div>"
      ],
      "text/plain": [
       "<IPython.core.display.HTML object>"
      ]
     },
     "metadata": {},
     "output_type": "display_data"
    },
    {
     "name": "stdout",
     "output_type": "stream",
     "text": [
      "ground truth\n"
     ]
    },
    {
     "data": {
      "text/html": [
       "<div style='float:left;background:#83101c;padding:10px;width:300px;'></div>"
      ],
      "text/plain": [
       "<IPython.core.display.HTML object>"
      ]
     },
     "metadata": {},
     "output_type": "display_data"
    },
    {
     "name": "stdout",
     "output_type": "stream",
     "text": [
      "----------------------------\n",
      "color name :  red blood cells\n",
      "generated\n"
     ]
    },
    {
     "data": {
      "text/html": [
       "<div style='float:left;background:#d00007;padding:10px;width:300px;'></div>"
      ],
      "text/plain": [
       "<IPython.core.display.HTML object>"
      ]
     },
     "metadata": {},
     "output_type": "display_data"
    },
    {
     "name": "stdout",
     "output_type": "stream",
     "text": [
      "ground truth\n"
     ]
    },
    {
     "data": {
      "text/html": [
       "<div style='float:left;background:#bd292e;padding:10px;width:300px;'></div>"
      ],
      "text/plain": [
       "<IPython.core.display.HTML object>"
      ]
     },
     "metadata": {},
     "output_type": "display_data"
    },
    {
     "name": "stdout",
     "output_type": "stream",
     "text": [
      "----------------------------\n",
      "color name :  powdered lips\n",
      "generated\n"
     ]
    },
    {
     "data": {
      "text/html": [
       "<div style='float:left;background:#f3b0aa;padding:10px;width:300px;'></div>"
      ],
      "text/plain": [
       "<IPython.core.display.HTML object>"
      ]
     },
     "metadata": {},
     "output_type": "display_data"
    },
    {
     "name": "stdout",
     "output_type": "stream",
     "text": [
      "ground truth\n"
     ]
    },
    {
     "data": {
      "text/html": [
       "<div style='float:left;background:#da9ba5;padding:10px;width:300px;'></div>"
      ],
      "text/plain": [
       "<IPython.core.display.HTML object>"
      ]
     },
     "metadata": {},
     "output_type": "display_data"
    },
    {
     "name": "stdout",
     "output_type": "stream",
     "text": [
      "----------------------------\n",
      "color name :  orange centered\n",
      "generated\n"
     ]
    },
    {
     "data": {
      "text/html": [
       "<div style='float:left;background:#e15558;padding:10px;width:300px;'></div>"
      ],
      "text/plain": [
       "<IPython.core.display.HTML object>"
      ]
     },
     "metadata": {},
     "output_type": "display_data"
    },
    {
     "name": "stdout",
     "output_type": "stream",
     "text": [
      "ground truth\n"
     ]
    },
    {
     "data": {
      "text/html": [
       "<div style='float:left;background:#e47b30;padding:10px;width:300px;'></div>"
      ],
      "text/plain": [
       "<IPython.core.display.HTML object>"
      ]
     },
     "metadata": {},
     "output_type": "display_data"
    },
    {
     "name": "stdout",
     "output_type": "stream",
     "text": [
      "----------------------------\n",
      "color name :  allofusaredonefor\n",
      "generated\n"
     ]
    },
    {
     "data": {
      "text/html": [
       "<div style='float:left;background:#c6eaaa;padding:10px;width:300px;'></div>"
      ],
      "text/plain": [
       "<IPython.core.display.HTML object>"
      ]
     },
     "metadata": {},
     "output_type": "display_data"
    },
    {
     "name": "stdout",
     "output_type": "stream",
     "text": [
      "ground truth\n"
     ]
    },
    {
     "data": {
      "text/html": [
       "<div style='float:left;background:#b25c77;padding:10px;width:300px;'></div>"
      ],
      "text/plain": [
       "<IPython.core.display.HTML object>"
      ]
     },
     "metadata": {},
     "output_type": "display_data"
    },
    {
     "name": "stdout",
     "output_type": "stream",
     "text": [
      "----------------------------\n",
      "color name :  acquired taste\n",
      "generated\n"
     ]
    },
    {
     "data": {
      "text/html": [
       "<div style='float:left;background:#7deec0;padding:10px;width:300px;'></div>"
      ],
      "text/plain": [
       "<IPython.core.display.HTML object>"
      ]
     },
     "metadata": {},
     "output_type": "display_data"
    },
    {
     "name": "stdout",
     "output_type": "stream",
     "text": [
      "ground truth\n"
     ]
    },
    {
     "data": {
      "text/html": [
       "<div style='float:left;background:#a68a74;padding:10px;width:300px;'></div>"
      ],
      "text/plain": [
       "<IPython.core.display.HTML object>"
      ]
     },
     "metadata": {},
     "output_type": "display_data"
    },
    {
     "name": "stdout",
     "output_type": "stream",
     "text": [
      "----------------------------\n",
      "color name :  casual sex in abered\n",
      "generated\n"
     ]
    },
    {
     "data": {
      "text/html": [
       "<div style='float:left;background:#5cfda6;padding:10px;width:300px;'></div>"
      ],
      "text/plain": [
       "<IPython.core.display.HTML object>"
      ]
     },
     "metadata": {},
     "output_type": "display_data"
    },
    {
     "name": "stdout",
     "output_type": "stream",
     "text": [
      "ground truth\n"
     ]
    },
    {
     "data": {
      "text/html": [
       "<div style='float:left;background:#a7685e;padding:10px;width:300px;'></div>"
      ],
      "text/plain": [
       "<IPython.core.display.HTML object>"
      ]
     },
     "metadata": {},
     "output_type": "display_data"
    },
    {
     "name": "stdout",
     "output_type": "stream",
     "text": [
      "----------------------------\n",
      "color name :  neutered purple\n",
      "generated\n"
     ]
    },
    {
     "data": {
      "text/html": [
       "<div style='float:left;background:#ff88e9;padding:10px;width:300px;'></div>"
      ],
      "text/plain": [
       "<IPython.core.display.HTML object>"
      ]
     },
     "metadata": {},
     "output_type": "display_data"
    },
    {
     "name": "stdout",
     "output_type": "stream",
     "text": [
      "ground truth\n"
     ]
    },
    {
     "data": {
      "text/html": [
       "<div style='float:left;background:#8e4198;padding:10px;width:300px;'></div>"
      ],
      "text/plain": [
       "<IPython.core.display.HTML object>"
      ]
     },
     "metadata": {},
     "output_type": "display_data"
    },
    {
     "name": "stdout",
     "output_type": "stream",
     "text": [
      "----------------------------\n",
      "color name :  obscured horizon\n",
      "generated\n"
     ]
    },
    {
     "data": {
      "text/html": [
       "<div style='float:left;background:#aba69f;padding:10px;width:300px;'></div>"
      ],
      "text/plain": [
       "<IPython.core.display.HTML object>"
      ]
     },
     "metadata": {},
     "output_type": "display_data"
    },
    {
     "name": "stdout",
     "output_type": "stream",
     "text": [
      "ground truth\n"
     ]
    },
    {
     "data": {
      "text/html": [
       "<div style='float:left;background:#977d7a;padding:10px;width:300px;'></div>"
      ],
      "text/plain": [
       "<IPython.core.display.HTML object>"
      ]
     },
     "metadata": {},
     "output_type": "display_data"
    },
    {
     "name": "stdout",
     "output_type": "stream",
     "text": [
      "----------------------------\n",
      "color name :  blood is red\n",
      "generated\n"
     ]
    },
    {
     "data": {
      "text/html": [
       "<div style='float:left;background:#ac4445;padding:10px;width:300px;'></div>"
      ],
      "text/plain": [
       "<IPython.core.display.HTML object>"
      ]
     },
     "metadata": {},
     "output_type": "display_data"
    },
    {
     "name": "stdout",
     "output_type": "stream",
     "text": [
      "ground truth\n"
     ]
    },
    {
     "data": {
      "text/html": [
       "<div style='float:left;background:#a22027;padding:10px;width:300px;'></div>"
      ],
      "text/plain": [
       "<IPython.core.display.HTML object>"
      ]
     },
     "metadata": {},
     "output_type": "display_data"
    },
    {
     "name": "stdout",
     "output_type": "stream",
     "text": [
      "----------------------------\n",
      "color name :  tablered\n",
      "generated\n"
     ]
    },
    {
     "data": {
      "text/html": [
       "<div style='float:left;background:#f65d73;padding:10px;width:300px;'></div>"
      ],
      "text/plain": [
       "<IPython.core.display.HTML object>"
      ]
     },
     "metadata": {},
     "output_type": "display_data"
    },
    {
     "name": "stdout",
     "output_type": "stream",
     "text": [
      "ground truth\n"
     ]
    },
    {
     "data": {
      "text/html": [
       "<div style='float:left;background:#c34b3a;padding:10px;width:300px;'></div>"
      ],
      "text/plain": [
       "<IPython.core.display.HTML object>"
      ]
     },
     "metadata": {},
     "output_type": "display_data"
    },
    {
     "name": "stdout",
     "output_type": "stream",
     "text": [
      "----------------------------\n",
      "color name :  colored fondant\n",
      "generated\n"
     ]
    },
    {
     "data": {
      "text/html": [
       "<div style='float:left;background:#438d80;padding:10px;width:300px;'></div>"
      ],
      "text/plain": [
       "<IPython.core.display.HTML object>"
      ]
     },
     "metadata": {},
     "output_type": "display_data"
    },
    {
     "name": "stdout",
     "output_type": "stream",
     "text": [
      "ground truth\n"
     ]
    },
    {
     "data": {
      "text/html": [
       "<div style='float:left;background:#a78a84;padding:10px;width:300px;'></div>"
      ],
      "text/plain": [
       "<IPython.core.display.HTML object>"
      ]
     },
     "metadata": {},
     "output_type": "display_data"
    },
    {
     "name": "stdout",
     "output_type": "stream",
     "text": [
      "----------------------------\n",
      "color name :  ruby red no\n",
      "generated\n"
     ]
    },
    {
     "data": {
      "text/html": [
       "<div style='float:left;background:#692430;padding:10px;width:300px;'></div>"
      ],
      "text/plain": [
       "<IPython.core.display.HTML object>"
      ]
     },
     "metadata": {},
     "output_type": "display_data"
    },
    {
     "name": "stdout",
     "output_type": "stream",
     "text": [
      "ground truth\n"
     ]
    },
    {
     "data": {
      "text/html": [
       "<div style='float:left;background:#a21d28;padding:10px;width:300px;'></div>"
      ],
      "text/plain": [
       "<IPython.core.display.HTML object>"
      ]
     },
     "metadata": {},
     "output_type": "display_data"
    },
    {
     "name": "stdout",
     "output_type": "stream",
     "text": [
      "----------------------------\n",
      "color name :  redorapink\n",
      "generated\n"
     ]
    },
    {
     "data": {
      "text/html": [
       "<div style='float:left;background:#f34d68;padding:10px;width:300px;'></div>"
      ],
      "text/plain": [
       "<IPython.core.display.HTML object>"
      ]
     },
     "metadata": {},
     "output_type": "display_data"
    },
    {
     "name": "stdout",
     "output_type": "stream",
     "text": [
      "ground truth\n"
     ]
    },
    {
     "data": {
      "text/html": [
       "<div style='float:left;background:#e5437b;padding:10px;width:300px;'></div>"
      ],
      "text/plain": [
       "<IPython.core.display.HTML object>"
      ]
     },
     "metadata": {},
     "output_type": "display_data"
    },
    {
     "name": "stdout",
     "output_type": "stream",
     "text": [
      "----------------------------\n",
      "color name :  warmer red\n",
      "generated\n"
     ]
    },
    {
     "data": {
      "text/html": [
       "<div style='float:left;background:#d81e29;padding:10px;width:300px;'></div>"
      ],
      "text/plain": [
       "<IPython.core.display.HTML object>"
      ]
     },
     "metadata": {},
     "output_type": "display_data"
    },
    {
     "name": "stdout",
     "output_type": "stream",
     "text": [
      "ground truth\n"
     ]
    },
    {
     "data": {
      "text/html": [
       "<div style='float:left;background:#c62f2f;padding:10px;width:300px;'></div>"
      ],
      "text/plain": [
       "<IPython.core.display.HTML object>"
      ]
     },
     "metadata": {},
     "output_type": "display_data"
    },
    {
     "name": "stdout",
     "output_type": "stream",
     "text": [
      "----------------------------\n",
      "color name :  spicy red\n",
      "generated\n"
     ]
    },
    {
     "data": {
      "text/html": [
       "<div style='float:left;background:#d23427;padding:10px;width:300px;'></div>"
      ],
      "text/plain": [
       "<IPython.core.display.HTML object>"
      ]
     },
     "metadata": {},
     "output_type": "display_data"
    },
    {
     "name": "stdout",
     "output_type": "stream",
     "text": [
      "ground truth\n"
     ]
    },
    {
     "data": {
      "text/html": [
       "<div style='float:left;background:#c42c2f;padding:10px;width:300px;'></div>"
      ],
      "text/plain": [
       "<IPython.core.display.HTML object>"
      ]
     },
     "metadata": {},
     "output_type": "display_data"
    },
    {
     "name": "stdout",
     "output_type": "stream",
     "text": [
      "----------------------------\n",
      "color name :  little red wagon\n",
      "generated\n"
     ]
    },
    {
     "data": {
      "text/html": [
       "<div style='float:left;background:#e03f5e;padding:10px;width:300px;'></div>"
      ],
      "text/plain": [
       "<IPython.core.display.HTML object>"
      ]
     },
     "metadata": {},
     "output_type": "display_data"
    },
    {
     "name": "stdout",
     "output_type": "stream",
     "text": [
      "ground truth\n"
     ]
    },
    {
     "data": {
      "text/html": [
       "<div style='float:left;background:#ca403f;padding:10px;width:300px;'></div>"
      ],
      "text/plain": [
       "<IPython.core.display.HTML object>"
      ]
     },
     "metadata": {},
     "output_type": "display_data"
    },
    {
     "name": "stdout",
     "output_type": "stream",
     "text": [
      "----------------------------\n",
      "color name :  redfontana\n",
      "generated\n"
     ]
    },
    {
     "data": {
      "text/html": [
       "<div style='float:left;background:#c50006;padding:10px;width:300px;'></div>"
      ],
      "text/plain": [
       "<IPython.core.display.HTML object>"
      ]
     },
     "metadata": {},
     "output_type": "display_data"
    },
    {
     "name": "stdout",
     "output_type": "stream",
     "text": [
      "ground truth\n"
     ]
    },
    {
     "data": {
      "text/html": [
       "<div style='float:left;background:#ca4e4f;padding:10px;width:300px;'></div>"
      ],
      "text/plain": [
       "<IPython.core.display.HTML object>"
      ]
     },
     "metadata": {},
     "output_type": "display_data"
    },
    {
     "name": "stdout",
     "output_type": "stream",
     "text": [
      "----------------------------\n",
      "color name :  ti red\n",
      "generated\n"
     ]
    },
    {
     "data": {
      "text/html": [
       "<div style='float:left;background:#8b0a1a;padding:10px;width:300px;'></div>"
      ],
      "text/plain": [
       "<IPython.core.display.HTML object>"
      ]
     },
     "metadata": {},
     "output_type": "display_data"
    },
    {
     "name": "stdout",
     "output_type": "stream",
     "text": [
      "ground truth\n"
     ]
    },
    {
     "data": {
      "text/html": [
       "<div style='float:left;background:#c23531;padding:10px;width:300px;'></div>"
      ],
      "text/plain": [
       "<IPython.core.display.HTML object>"
      ]
     },
     "metadata": {},
     "output_type": "display_data"
    },
    {
     "name": "stdout",
     "output_type": "stream",
     "text": [
      "----------------------------\n",
      "color name :  spicy orange red\n",
      "generated\n"
     ]
    },
    {
     "data": {
      "text/html": [
       "<div style='float:left;background:#832519;padding:10px;width:300px;'></div>"
      ],
      "text/plain": [
       "<IPython.core.display.HTML object>"
      ]
     },
     "metadata": {},
     "output_type": "display_data"
    },
    {
     "name": "stdout",
     "output_type": "stream",
     "text": [
      "ground truth\n"
     ]
    },
    {
     "data": {
      "text/html": [
       "<div style='float:left;background:#cc3a2c;padding:10px;width:300px;'></div>"
      ],
      "text/plain": [
       "<IPython.core.display.HTML object>"
      ]
     },
     "metadata": {},
     "output_type": "display_data"
    },
    {
     "name": "stdout",
     "output_type": "stream",
     "text": [
      "----------------------------\n",
      "color name :  hot red\n",
      "generated\n"
     ]
    },
    {
     "data": {
      "text/html": [
       "<div style='float:left;background:#9b150b;padding:10px;width:300px;'></div>"
      ],
      "text/plain": [
       "<IPython.core.display.HTML object>"
      ]
     },
     "metadata": {},
     "output_type": "display_data"
    },
    {
     "name": "stdout",
     "output_type": "stream",
     "text": [
      "ground truth\n"
     ]
    },
    {
     "data": {
      "text/html": [
       "<div style='float:left;background:#c52730;padding:10px;width:300px;'></div>"
      ],
      "text/plain": [
       "<IPython.core.display.HTML object>"
      ]
     },
     "metadata": {},
     "output_type": "display_data"
    },
    {
     "name": "stdout",
     "output_type": "stream",
     "text": [
      "----------------------------\n",
      "color name :  tired of water\n",
      "generated\n"
     ]
    },
    {
     "data": {
      "text/html": [
       "<div style='float:left;background:#aecec9;padding:10px;width:300px;'></div>"
      ],
      "text/plain": [
       "<IPython.core.display.HTML object>"
      ]
     },
     "metadata": {},
     "output_type": "display_data"
    },
    {
     "name": "stdout",
     "output_type": "stream",
     "text": [
      "ground truth\n"
     ]
    },
    {
     "data": {
      "text/html": [
       "<div style='float:left;background:#7b99a6;padding:10px;width:300px;'></div>"
      ],
      "text/plain": [
       "<IPython.core.display.HTML object>"
      ]
     },
     "metadata": {},
     "output_type": "display_data"
    },
    {
     "name": "stdout",
     "output_type": "stream",
     "text": [
      "----------------------------\n",
      "color name :  declared love\n",
      "generated\n"
     ]
    },
    {
     "data": {
      "text/html": [
       "<div style='float:left;background:#880e3c;padding:10px;width:300px;'></div>"
      ],
      "text/plain": [
       "<IPython.core.display.HTML object>"
      ]
     },
     "metadata": {},
     "output_type": "display_data"
    },
    {
     "name": "stdout",
     "output_type": "stream",
     "text": [
      "ground truth\n"
     ]
    },
    {
     "data": {
      "text/html": [
       "<div style='float:left;background:#b87e81;padding:10px;width:300px;'></div>"
      ],
      "text/plain": [
       "<IPython.core.display.HTML object>"
      ]
     },
     "metadata": {},
     "output_type": "display_data"
    },
    {
     "name": "stdout",
     "output_type": "stream",
     "text": [
      "----------------------------\n",
      "color name :  fred  ginger\n",
      "generated\n"
     ]
    },
    {
     "data": {
      "text/html": [
       "<div style='float:left;background:#ef7c47;padding:10px;width:300px;'></div>"
      ],
      "text/plain": [
       "<IPython.core.display.HTML object>"
      ]
     },
     "metadata": {},
     "output_type": "display_data"
    },
    {
     "name": "stdout",
     "output_type": "stream",
     "text": [
      "ground truth\n"
     ]
    },
    {
     "data": {
      "text/html": [
       "<div style='float:left;background:#c99165;padding:10px;width:300px;'></div>"
      ],
      "text/plain": [
       "<IPython.core.display.HTML object>"
      ]
     },
     "metadata": {},
     "output_type": "display_data"
    },
    {
     "name": "stdout",
     "output_type": "stream",
     "text": [
      "----------------------------\n",
      "color name :  sugared sand\n",
      "generated\n"
     ]
    },
    {
     "data": {
      "text/html": [
       "<div style='float:left;background:#c3baa9;padding:10px;width:300px;'></div>"
      ],
      "text/plain": [
       "<IPython.core.display.HTML object>"
      ]
     },
     "metadata": {},
     "output_type": "display_data"
    },
    {
     "name": "stdout",
     "output_type": "stream",
     "text": [
      "ground truth\n"
     ]
    },
    {
     "data": {
      "text/html": [
       "<div style='float:left;background:#d9b897;padding:10px;width:300px;'></div>"
      ],
      "text/plain": [
       "<IPython.core.display.HTML object>"
      ]
     },
     "metadata": {},
     "output_type": "display_data"
    },
    {
     "name": "stdout",
     "output_type": "stream",
     "text": [
      "----------------------------\n",
      "color name :  predisposing factors\n",
      "generated\n"
     ]
    },
    {
     "data": {
      "text/html": [
       "<div style='float:left;background:#26002e;padding:10px;width:300px;'></div>"
      ],
      "text/plain": [
       "<IPython.core.display.HTML object>"
      ]
     },
     "metadata": {},
     "output_type": "display_data"
    },
    {
     "name": "stdout",
     "output_type": "stream",
     "text": [
      "ground truth\n"
     ]
    },
    {
     "data": {
      "text/html": [
       "<div style='float:left;background:#a67c7e;padding:10px;width:300px;'></div>"
      ],
      "text/plain": [
       "<IPython.core.display.HTML object>"
      ]
     },
     "metadata": {},
     "output_type": "display_data"
    },
    {
     "name": "stdout",
     "output_type": "stream",
     "text": [
      "----------------------------\n",
      "color name :  red and indifferent\n",
      "generated\n"
     ]
    },
    {
     "data": {
      "text/html": [
       "<div style='float:left;background:#a60f07;padding:10px;width:300px;'></div>"
      ],
      "text/plain": [
       "<IPython.core.display.HTML object>"
      ]
     },
     "metadata": {},
     "output_type": "display_data"
    },
    {
     "name": "stdout",
     "output_type": "stream",
     "text": [
      "ground truth\n"
     ]
    },
    {
     "data": {
      "text/html": [
       "<div style='float:left;background:#cb3c3f;padding:10px;width:300px;'></div>"
      ],
      "text/plain": [
       "<IPython.core.display.HTML object>"
      ]
     },
     "metadata": {},
     "output_type": "display_data"
    },
    {
     "name": "stdout",
     "output_type": "stream",
     "text": [
      "----------------------------\n",
      "color name :  colored plastic\n",
      "generated\n"
     ]
    },
    {
     "data": {
      "text/html": [
       "<div style='float:left;background:#ec5d01;padding:10px;width:300px;'></div>"
      ],
      "text/plain": [
       "<IPython.core.display.HTML object>"
      ]
     },
     "metadata": {},
     "output_type": "display_data"
    },
    {
     "name": "stdout",
     "output_type": "stream",
     "text": [
      "ground truth\n"
     ]
    },
    {
     "data": {
      "text/html": [
       "<div style='float:left;background:#a3895c;padding:10px;width:300px;'></div>"
      ],
      "text/plain": [
       "<IPython.core.display.HTML object>"
      ]
     },
     "metadata": {},
     "output_type": "display_data"
    },
    {
     "name": "stdout",
     "output_type": "stream",
     "text": [
      "----------------------------\n",
      "color name :  lmgtfy red\n",
      "generated\n"
     ]
    },
    {
     "data": {
      "text/html": [
       "<div style='float:left;background:#e3393f;padding:10px;width:300px;'></div>"
      ],
      "text/plain": [
       "<IPython.core.display.HTML object>"
      ]
     },
     "metadata": {},
     "output_type": "display_data"
    },
    {
     "name": "stdout",
     "output_type": "stream",
     "text": [
      "ground truth\n"
     ]
    },
    {
     "data": {
      "text/html": [
       "<div style='float:left;background:#c83034;padding:10px;width:300px;'></div>"
      ],
      "text/plain": [
       "<IPython.core.display.HTML object>"
      ]
     },
     "metadata": {},
     "output_type": "display_data"
    },
    {
     "name": "stdout",
     "output_type": "stream",
     "text": [
      "----------------------------\n",
      "color name :  i predict cornucopia\n",
      "generated\n"
     ]
    },
    {
     "data": {
      "text/html": [
       "<div style='float:left;background:#af0086;padding:10px;width:300px;'></div>"
      ],
      "text/plain": [
       "<IPython.core.display.HTML object>"
      ]
     },
     "metadata": {},
     "output_type": "display_data"
    },
    {
     "name": "stdout",
     "output_type": "stream",
     "text": [
      "ground truth\n"
     ]
    },
    {
     "data": {
      "text/html": [
       "<div style='float:left;background:#9d6d71;padding:10px;width:300px;'></div>"
      ],
      "text/plain": [
       "<IPython.core.display.HTML object>"
      ]
     },
     "metadata": {},
     "output_type": "display_data"
    },
    {
     "name": "stdout",
     "output_type": "stream",
     "text": [
      "----------------------------\n",
      "color name :  fingered registers\n",
      "generated\n"
     ]
    },
    {
     "data": {
      "text/html": [
       "<div style='float:left;background:#e7dfe5;padding:10px;width:300px;'></div>"
      ],
      "text/plain": [
       "<IPython.core.display.HTML object>"
      ]
     },
     "metadata": {},
     "output_type": "display_data"
    },
    {
     "name": "stdout",
     "output_type": "stream",
     "text": [
      "ground truth\n"
     ]
    },
    {
     "data": {
      "text/html": [
       "<div style='float:left;background:#a67975;padding:10px;width:300px;'></div>"
      ],
      "text/plain": [
       "<IPython.core.display.HTML object>"
      ]
     },
     "metadata": {},
     "output_type": "display_data"
    },
    {
     "name": "stdout",
     "output_type": "stream",
     "text": [
      "----------------------------\n",
      "color name :  centered green\n",
      "generated\n"
     ]
    },
    {
     "data": {
      "text/html": [
       "<div style='float:left;background:#018935;padding:10px;width:300px;'></div>"
      ],
      "text/plain": [
       "<IPython.core.display.HTML object>"
      ]
     },
     "metadata": {},
     "output_type": "display_data"
    },
    {
     "name": "stdout",
     "output_type": "stream",
     "text": [
      "ground truth\n"
     ]
    },
    {
     "data": {
      "text/html": [
       "<div style='float:left;background:#6eb457;padding:10px;width:300px;'></div>"
      ],
      "text/plain": [
       "<IPython.core.display.HTML object>"
      ]
     },
     "metadata": {},
     "output_type": "display_data"
    },
    {
     "name": "stdout",
     "output_type": "stream",
     "text": [
      "----------------------------\n",
      "color name :  redonarose\n",
      "generated\n"
     ]
    },
    {
     "data": {
      "text/html": [
       "<div style='float:left;background:#dd002b;padding:10px;width:300px;'></div>"
      ],
      "text/plain": [
       "<IPython.core.display.HTML object>"
      ]
     },
     "metadata": {},
     "output_type": "display_data"
    },
    {
     "name": "stdout",
     "output_type": "stream",
     "text": [
      "ground truth\n"
     ]
    },
    {
     "data": {
      "text/html": [
       "<div style='float:left;background:#cf3f49;padding:10px;width:300px;'></div>"
      ],
      "text/plain": [
       "<IPython.core.display.HTML object>"
      ]
     },
     "metadata": {},
     "output_type": "display_data"
    },
    {
     "name": "stdout",
     "output_type": "stream",
     "text": [
      "----------------------------\n",
      "color name :  dark red orange\n",
      "generated\n"
     ]
    },
    {
     "data": {
      "text/html": [
       "<div style='float:left;background:#bc2d13;padding:10px;width:300px;'></div>"
      ],
      "text/plain": [
       "<IPython.core.display.HTML object>"
      ]
     },
     "metadata": {},
     "output_type": "display_data"
    },
    {
     "name": "stdout",
     "output_type": "stream",
     "text": [
      "ground truth\n"
     ]
    },
    {
     "data": {
      "text/html": [
       "<div style='float:left;background:#9f2f1b;padding:10px;width:300px;'></div>"
      ],
      "text/plain": [
       "<IPython.core.display.HTML object>"
      ]
     },
     "metadata": {},
     "output_type": "display_data"
    },
    {
     "name": "stdout",
     "output_type": "stream",
     "text": [
      "----------------------------\n",
      "color name :  teleportredpink\n",
      "generated\n"
     ]
    },
    {
     "data": {
      "text/html": [
       "<div style='float:left;background:#eb7074;padding:10px;width:300px;'></div>"
      ],
      "text/plain": [
       "<IPython.core.display.HTML object>"
      ]
     },
     "metadata": {},
     "output_type": "display_data"
    },
    {
     "name": "stdout",
     "output_type": "stream",
     "text": [
      "ground truth\n"
     ]
    },
    {
     "data": {
      "text/html": [
       "<div style='float:left;background:#d84976;padding:10px;width:300px;'></div>"
      ],
      "text/plain": [
       "<IPython.core.display.HTML object>"
      ]
     },
     "metadata": {},
     "output_type": "display_data"
    },
    {
     "name": "stdout",
     "output_type": "stream",
     "text": [
      "----------------------------\n",
      "color name :  red is primary\n",
      "generated\n"
     ]
    },
    {
     "data": {
      "text/html": [
       "<div style='float:left;background:#f4362d;padding:10px;width:300px;'></div>"
      ],
      "text/plain": [
       "<IPython.core.display.HTML object>"
      ]
     },
     "metadata": {},
     "output_type": "display_data"
    },
    {
     "name": "stdout",
     "output_type": "stream",
     "text": [
      "ground truth\n"
     ]
    },
    {
     "data": {
      "text/html": [
       "<div style='float:left;background:#c43030;padding:10px;width:300px;'></div>"
      ],
      "text/plain": [
       "<IPython.core.display.HTML object>"
      ]
     },
     "metadata": {},
     "output_type": "display_data"
    },
    {
     "name": "stdout",
     "output_type": "stream",
     "text": [
      "----------------------------\n",
      "color name :  red pom pom\n",
      "generated\n"
     ]
    },
    {
     "data": {
      "text/html": [
       "<div style='float:left;background:#aa121d;padding:10px;width:300px;'></div>"
      ],
      "text/plain": [
       "<IPython.core.display.HTML object>"
      ]
     },
     "metadata": {},
     "output_type": "display_data"
    },
    {
     "name": "stdout",
     "output_type": "stream",
     "text": [
      "ground truth\n"
     ]
    },
    {
     "data": {
      "text/html": [
       "<div style='float:left;background:#ca3337;padding:10px;width:300px;'></div>"
      ],
      "text/plain": [
       "<IPython.core.display.HTML object>"
      ]
     },
     "metadata": {},
     "output_type": "display_data"
    },
    {
     "name": "stdout",
     "output_type": "stream",
     "text": [
      "----------------------------\n",
      "color name :  kill me red\n",
      "generated\n"
     ]
    },
    {
     "data": {
      "text/html": [
       "<div style='float:left;background:#dc001b;padding:10px;width:300px;'></div>"
      ],
      "text/plain": [
       "<IPython.core.display.HTML object>"
      ]
     },
     "metadata": {},
     "output_type": "display_data"
    },
    {
     "name": "stdout",
     "output_type": "stream",
     "text": [
      "ground truth\n"
     ]
    },
    {
     "data": {
      "text/html": [
       "<div style='float:left;background:#c22730;padding:10px;width:300px;'></div>"
      ],
      "text/plain": [
       "<IPython.core.display.HTML object>"
      ]
     },
     "metadata": {},
     "output_type": "display_data"
    },
    {
     "name": "stdout",
     "output_type": "stream",
     "text": [
      "----------------------------\n",
      "color name :  sared\n",
      "generated\n"
     ]
    },
    {
     "data": {
      "text/html": [
       "<div style='float:left;background:#e36e93;padding:10px;width:300px;'></div>"
      ],
      "text/plain": [
       "<IPython.core.display.HTML object>"
      ]
     },
     "metadata": {},
     "output_type": "display_data"
    },
    {
     "name": "stdout",
     "output_type": "stream",
     "text": [
      "ground truth\n"
     ]
    },
    {
     "data": {
      "text/html": [
       "<div style='float:left;background:#b66f69;padding:10px;width:300px;'></div>"
      ],
      "text/plain": [
       "<IPython.core.display.HTML object>"
      ]
     },
     "metadata": {},
     "output_type": "display_data"
    },
    {
     "name": "stdout",
     "output_type": "stream",
     "text": [
      "----------------------------\n",
      "color name :  sort of red\n",
      "generated\n"
     ]
    },
    {
     "data": {
      "text/html": [
       "<div style='float:left;background:#c71007;padding:10px;width:300px;'></div>"
      ],
      "text/plain": [
       "<IPython.core.display.HTML object>"
      ]
     },
     "metadata": {},
     "output_type": "display_data"
    },
    {
     "name": "stdout",
     "output_type": "stream",
     "text": [
      "ground truth\n"
     ]
    },
    {
     "data": {
      "text/html": [
       "<div style='float:left;background:#c63232;padding:10px;width:300px;'></div>"
      ],
      "text/plain": [
       "<IPython.core.display.HTML object>"
      ]
     },
     "metadata": {},
     "output_type": "display_data"
    },
    {
     "name": "stdout",
     "output_type": "stream",
     "text": [
      "----------------------------\n",
      "color name :  redblush\n",
      "generated\n"
     ]
    },
    {
     "data": {
      "text/html": [
       "<div style='float:left;background:#e47d7e;padding:10px;width:300px;'></div>"
      ],
      "text/plain": [
       "<IPython.core.display.HTML object>"
      ]
     },
     "metadata": {},
     "output_type": "display_data"
    },
    {
     "name": "stdout",
     "output_type": "stream",
     "text": [
      "ground truth\n"
     ]
    },
    {
     "data": {
      "text/html": [
       "<div style='float:left;background:#ce3f3e;padding:10px;width:300px;'></div>"
      ],
      "text/plain": [
       "<IPython.core.display.HTML object>"
      ]
     },
     "metadata": {},
     "output_type": "display_data"
    },
    {
     "name": "stdout",
     "output_type": "stream",
     "text": [
      "----------------------------\n",
      "color name :  red key\n",
      "generated\n"
     ]
    },
    {
     "data": {
      "text/html": [
       "<div style='float:left;background:#b90724;padding:10px;width:300px;'></div>"
      ],
      "text/plain": [
       "<IPython.core.display.HTML object>"
      ]
     },
     "metadata": {},
     "output_type": "display_data"
    },
    {
     "name": "stdout",
     "output_type": "stream",
     "text": [
      "ground truth\n"
     ]
    },
    {
     "data": {
      "text/html": [
       "<div style='float:left;background:#c0302e;padding:10px;width:300px;'></div>"
      ],
      "text/plain": [
       "<IPython.core.display.HTML object>"
      ]
     },
     "metadata": {},
     "output_type": "display_data"
    },
    {
     "name": "stdout",
     "output_type": "stream",
     "text": [
      "----------------------------\n",
      "color name :  praise the lowered\n",
      "generated\n"
     ]
    },
    {
     "data": {
      "text/html": [
       "<div style='float:left;background:#140812;padding:10px;width:300px;'></div>"
      ],
      "text/plain": [
       "<IPython.core.display.HTML object>"
      ]
     },
     "metadata": {},
     "output_type": "display_data"
    },
    {
     "name": "stdout",
     "output_type": "stream",
     "text": [
      "ground truth\n"
     ]
    },
    {
     "data": {
      "text/html": [
       "<div style='float:left;background:#b27566;padding:10px;width:300px;'></div>"
      ],
      "text/plain": [
       "<IPython.core.display.HTML object>"
      ]
     },
     "metadata": {},
     "output_type": "display_data"
    },
    {
     "name": "stdout",
     "output_type": "stream",
     "text": [
      "----------------------------\n",
      "color name :  old and tattered\n",
      "generated\n"
     ]
    },
    {
     "data": {
      "text/html": [
       "<div style='float:left;background:#a18586;padding:10px;width:300px;'></div>"
      ],
      "text/plain": [
       "<IPython.core.display.HTML object>"
      ]
     },
     "metadata": {},
     "output_type": "display_data"
    },
    {
     "name": "stdout",
     "output_type": "stream",
     "text": [
      "ground truth\n"
     ]
    },
    {
     "data": {
      "text/html": [
       "<div style='float:left;background:#937670;padding:10px;width:300px;'></div>"
      ],
      "text/plain": [
       "<IPython.core.display.HTML object>"
      ]
     },
     "metadata": {},
     "output_type": "display_data"
    },
    {
     "name": "stdout",
     "output_type": "stream",
     "text": [
      "----------------------------\n",
      "color name :  peruvian dk red\n",
      "generated\n"
     ]
    },
    {
     "data": {
      "text/html": [
       "<div style='float:left;background:#8a2f3f;padding:10px;width:300px;'></div>"
      ],
      "text/plain": [
       "<IPython.core.display.HTML object>"
      ]
     },
     "metadata": {},
     "output_type": "display_data"
    },
    {
     "name": "stdout",
     "output_type": "stream",
     "text": [
      "ground truth\n"
     ]
    },
    {
     "data": {
      "text/html": [
       "<div style='float:left;background:#9c222c;padding:10px;width:300px;'></div>"
      ],
      "text/plain": [
       "<IPython.core.display.HTML object>"
      ]
     },
     "metadata": {},
     "output_type": "display_data"
    },
    {
     "name": "stdout",
     "output_type": "stream",
     "text": [
      "----------------------------\n",
      "color name :  maddys shirt red\n",
      "generated\n"
     ]
    },
    {
     "data": {
      "text/html": [
       "<div style='float:left;background:#dc4335;padding:10px;width:300px;'></div>"
      ],
      "text/plain": [
       "<IPython.core.display.HTML object>"
      ]
     },
     "metadata": {},
     "output_type": "display_data"
    },
    {
     "name": "stdout",
     "output_type": "stream",
     "text": [
      "ground truth\n"
     ]
    },
    {
     "data": {
      "text/html": [
       "<div style='float:left;background:#c22c33;padding:10px;width:300px;'></div>"
      ],
      "text/plain": [
       "<IPython.core.display.HTML object>"
      ]
     },
     "metadata": {},
     "output_type": "display_data"
    },
    {
     "name": "stdout",
     "output_type": "stream",
     "text": [
      "----------------------------\n",
      "color name :  the red planet\n",
      "generated\n"
     ]
    },
    {
     "data": {
      "text/html": [
       "<div style='float:left;background:#bd4109;padding:10px;width:300px;'></div>"
      ],
      "text/plain": [
       "<IPython.core.display.HTML object>"
      ]
     },
     "metadata": {},
     "output_type": "display_data"
    },
    {
     "name": "stdout",
     "output_type": "stream",
     "text": [
      "ground truth\n"
     ]
    },
    {
     "data": {
      "text/html": [
       "<div style='float:left;background:#b02b2e;padding:10px;width:300px;'></div>"
      ],
      "text/plain": [
       "<IPython.core.display.HTML object>"
      ]
     },
     "metadata": {},
     "output_type": "display_data"
    },
    {
     "name": "stdout",
     "output_type": "stream",
     "text": [
      "----------------------------\n",
      "color name :  red cult\n",
      "generated\n"
     ]
    },
    {
     "data": {
      "text/html": [
       "<div style='float:left;background:#f06d7b;padding:10px;width:300px;'></div>"
      ],
      "text/plain": [
       "<IPython.core.display.HTML object>"
      ]
     },
     "metadata": {},
     "output_type": "display_data"
    },
    {
     "name": "stdout",
     "output_type": "stream",
     "text": [
      "ground truth\n"
     ]
    },
    {
     "data": {
      "text/html": [
       "<div style='float:left;background:#c43530;padding:10px;width:300px;'></div>"
      ],
      "text/plain": [
       "<IPython.core.display.HTML object>"
      ]
     },
     "metadata": {},
     "output_type": "display_data"
    },
    {
     "name": "stdout",
     "output_type": "stream",
     "text": [
      "----------------------------\n",
      "color name :  heathered violet\n",
      "generated\n"
     ]
    },
    {
     "data": {
      "text/html": [
       "<div style='float:left;background:#d9c3cb;padding:10px;width:300px;'></div>"
      ],
      "text/plain": [
       "<IPython.core.display.HTML object>"
      ]
     },
     "metadata": {},
     "output_type": "display_data"
    },
    {
     "name": "stdout",
     "output_type": "stream",
     "text": [
      "ground truth\n"
     ]
    },
    {
     "data": {
      "text/html": [
       "<div style='float:left;background:#8f3fa4;padding:10px;width:300px;'></div>"
      ],
      "text/plain": [
       "<IPython.core.display.HTML object>"
      ]
     },
     "metadata": {},
     "output_type": "display_data"
    },
    {
     "name": "stdout",
     "output_type": "stream",
     "text": [
      "----------------------------\n",
      "color name :  red monkey\n",
      "generated\n"
     ]
    },
    {
     "data": {
      "text/html": [
       "<div style='float:left;background:#8d1719;padding:10px;width:300px;'></div>"
      ],
      "text/plain": [
       "<IPython.core.display.HTML object>"
      ]
     },
     "metadata": {},
     "output_type": "display_data"
    },
    {
     "name": "stdout",
     "output_type": "stream",
     "text": [
      "ground truth\n"
     ]
    },
    {
     "data": {
      "text/html": [
       "<div style='float:left;background:#c73433;padding:10px;width:300px;'></div>"
      ],
      "text/plain": [
       "<IPython.core.display.HTML object>"
      ]
     },
     "metadata": {},
     "output_type": "display_data"
    },
    {
     "name": "stdout",
     "output_type": "stream",
     "text": [
      "----------------------------\n",
      "color name :  whispered ghost\n",
      "generated\n"
     ]
    },
    {
     "data": {
      "text/html": [
       "<div style='float:left;background:#d5f1f0;padding:10px;width:300px;'></div>"
      ],
      "text/plain": [
       "<IPython.core.display.HTML object>"
      ]
     },
     "metadata": {},
     "output_type": "display_data"
    },
    {
     "name": "stdout",
     "output_type": "stream",
     "text": [
      "ground truth\n"
     ]
    },
    {
     "data": {
      "text/html": [
       "<div style='float:left;background:#b8b6b5;padding:10px;width:300px;'></div>"
      ],
      "text/plain": [
       "<IPython.core.display.HTML object>"
      ]
     },
     "metadata": {},
     "output_type": "display_data"
    },
    {
     "name": "stdout",
     "output_type": "stream",
     "text": [
      "----------------------------\n",
      "color name :  google play red\n",
      "generated\n"
     ]
    },
    {
     "data": {
      "text/html": [
       "<div style='float:left;background:#ca4f43;padding:10px;width:300px;'></div>"
      ],
      "text/plain": [
       "<IPython.core.display.HTML object>"
      ]
     },
     "metadata": {},
     "output_type": "display_data"
    },
    {
     "name": "stdout",
     "output_type": "stream",
     "text": [
      "ground truth\n"
     ]
    },
    {
     "data": {
      "text/html": [
       "<div style='float:left;background:#be2f31;padding:10px;width:300px;'></div>"
      ],
      "text/plain": [
       "<IPython.core.display.HTML object>"
      ]
     },
     "metadata": {},
     "output_type": "display_data"
    },
    {
     "name": "stdout",
     "output_type": "stream",
     "text": [
      "----------------------------\n",
      "color name :  pandora dk red\n",
      "generated\n"
     ]
    },
    {
     "data": {
      "text/html": [
       "<div style='float:left;background:#470510;padding:10px;width:300px;'></div>"
      ],
      "text/plain": [
       "<IPython.core.display.HTML object>"
      ]
     },
     "metadata": {},
     "output_type": "display_data"
    },
    {
     "name": "stdout",
     "output_type": "stream",
     "text": [
      "ground truth\n"
     ]
    },
    {
     "data": {
      "text/html": [
       "<div style='float:left;background:#bf2d32;padding:10px;width:300px;'></div>"
      ],
      "text/plain": [
       "<IPython.core.display.HTML object>"
      ]
     },
     "metadata": {},
     "output_type": "display_data"
    },
    {
     "name": "stdout",
     "output_type": "stream",
     "text": [
      "----------------------------\n",
      "color name :  costco red\n",
      "generated\n"
     ]
    },
    {
     "data": {
      "text/html": [
       "<div style='float:left;background:#d60a24;padding:10px;width:300px;'></div>"
      ],
      "text/plain": [
       "<IPython.core.display.HTML object>"
      ]
     },
     "metadata": {},
     "output_type": "display_data"
    },
    {
     "name": "stdout",
     "output_type": "stream",
     "text": [
      "ground truth\n"
     ]
    },
    {
     "data": {
      "text/html": [
       "<div style='float:left;background:#c23232;padding:10px;width:300px;'></div>"
      ],
      "text/plain": [
       "<IPython.core.display.HTML object>"
      ]
     },
     "metadata": {},
     "output_type": "display_data"
    },
    {
     "name": "stdout",
     "output_type": "stream",
     "text": [
      "----------------------------\n",
      "color name :  rockets red glare\n",
      "generated\n"
     ]
    },
    {
     "data": {
      "text/html": [
       "<div style='float:left;background:#9d0a2c;padding:10px;width:300px;'></div>"
      ],
      "text/plain": [
       "<IPython.core.display.HTML object>"
      ]
     },
     "metadata": {},
     "output_type": "display_data"
    },
    {
     "name": "stdout",
     "output_type": "stream",
     "text": [
      "ground truth\n"
     ]
    },
    {
     "data": {
      "text/html": [
       "<div style='float:left;background:#c22b2f;padding:10px;width:300px;'></div>"
      ],
      "text/plain": [
       "<IPython.core.display.HTML object>"
      ]
     },
     "metadata": {},
     "output_type": "display_data"
    },
    {
     "name": "stdout",
     "output_type": "stream",
     "text": [
      "----------------------------\n",
      "color name :  st francis red\n",
      "generated\n"
     ]
    },
    {
     "data": {
      "text/html": [
       "<div style='float:left;background:#c62d06;padding:10px;width:300px;'></div>"
      ],
      "text/plain": [
       "<IPython.core.display.HTML object>"
      ]
     },
     "metadata": {},
     "output_type": "display_data"
    },
    {
     "name": "stdout",
     "output_type": "stream",
     "text": [
      "ground truth\n"
     ]
    },
    {
     "data": {
      "text/html": [
       "<div style='float:left;background:#cb3434;padding:10px;width:300px;'></div>"
      ],
      "text/plain": [
       "<IPython.core.display.HTML object>"
      ]
     },
     "metadata": {},
     "output_type": "display_data"
    },
    {
     "name": "stdout",
     "output_type": "stream",
     "text": [
      "----------------------------\n",
      "color name :  one hundred\n",
      "generated\n"
     ]
    },
    {
     "data": {
      "text/html": [
       "<div style='float:left;background:#617eb8;padding:10px;width:300px;'></div>"
      ],
      "text/plain": [
       "<IPython.core.display.HTML object>"
      ]
     },
     "metadata": {},
     "output_type": "display_data"
    },
    {
     "name": "stdout",
     "output_type": "stream",
     "text": [
      "ground truth\n"
     ]
    },
    {
     "data": {
      "text/html": [
       "<div style='float:left;background:#a7756b;padding:10px;width:300px;'></div>"
      ],
      "text/plain": [
       "<IPython.core.display.HTML object>"
      ]
     },
     "metadata": {},
     "output_type": "display_data"
    },
    {
     "name": "stdout",
     "output_type": "stream",
     "text": [
      "----------------------------\n",
      "color name :  miscoloured grey\n",
      "generated\n"
     ]
    },
    {
     "data": {
      "text/html": [
       "<div style='float:left;background:#78665c;padding:10px;width:300px;'></div>"
      ],
      "text/plain": [
       "<IPython.core.display.HTML object>"
      ]
     },
     "metadata": {},
     "output_type": "display_data"
    },
    {
     "name": "stdout",
     "output_type": "stream",
     "text": [
      "ground truth\n"
     ]
    },
    {
     "data": {
      "text/html": [
       "<div style='float:left;background:#959187;padding:10px;width:300px;'></div>"
      ],
      "text/plain": [
       "<IPython.core.display.HTML object>"
      ]
     },
     "metadata": {},
     "output_type": "display_data"
    },
    {
     "name": "stdout",
     "output_type": "stream",
     "text": [
      "----------------------------\n",
      "color name :  red sunbrella\n",
      "generated\n"
     ]
    },
    {
     "data": {
      "text/html": [
       "<div style='float:left;background:#ca3733;padding:10px;width:300px;'></div>"
      ],
      "text/plain": [
       "<IPython.core.display.HTML object>"
      ]
     },
     "metadata": {},
     "output_type": "display_data"
    },
    {
     "name": "stdout",
     "output_type": "stream",
     "text": [
      "ground truth\n"
     ]
    },
    {
     "data": {
      "text/html": [
       "<div style='float:left;background:#d04439;padding:10px;width:300px;'></div>"
      ],
      "text/plain": [
       "<IPython.core.display.HTML object>"
      ]
     },
     "metadata": {},
     "output_type": "display_data"
    },
    {
     "name": "stdout",
     "output_type": "stream",
     "text": [
      "----------------------------\n",
      "color name :  frontisme red\n",
      "generated\n"
     ]
    },
    {
     "data": {
      "text/html": [
       "<div style='float:left;background:#e62029;padding:10px;width:300px;'></div>"
      ],
      "text/plain": [
       "<IPython.core.display.HTML object>"
      ]
     },
     "metadata": {},
     "output_type": "display_data"
    },
    {
     "name": "stdout",
     "output_type": "stream",
     "text": [
      "ground truth\n"
     ]
    },
    {
     "data": {
      "text/html": [
       "<div style='float:left;background:#c32f32;padding:10px;width:300px;'></div>"
      ],
      "text/plain": [
       "<IPython.core.display.HTML object>"
      ]
     },
     "metadata": {},
     "output_type": "display_data"
    },
    {
     "name": "stdout",
     "output_type": "stream",
     "text": [
      "----------------------------\n",
      "color name :  ski red\n",
      "generated\n"
     ]
    },
    {
     "data": {
      "text/html": [
       "<div style='float:left;background:#c92630;padding:10px;width:300px;'></div>"
      ],
      "text/plain": [
       "<IPython.core.display.HTML object>"
      ]
     },
     "metadata": {},
     "output_type": "display_data"
    },
    {
     "name": "stdout",
     "output_type": "stream",
     "text": [
      "ground truth\n"
     ]
    },
    {
     "data": {
      "text/html": [
       "<div style='float:left;background:#ca463c;padding:10px;width:300px;'></div>"
      ],
      "text/plain": [
       "<IPython.core.display.HTML object>"
      ]
     },
     "metadata": {},
     "output_type": "display_data"
    },
    {
     "name": "stdout",
     "output_type": "stream",
     "text": [
      "----------------------------\n",
      "color name :  tear covered face\n",
      "generated\n"
     ]
    },
    {
     "data": {
      "text/html": [
       "<div style='float:left;background:#d4cabe;padding:10px;width:300px;'></div>"
      ],
      "text/plain": [
       "<IPython.core.display.HTML object>"
      ]
     },
     "metadata": {},
     "output_type": "display_data"
    },
    {
     "name": "stdout",
     "output_type": "stream",
     "text": [
      "ground truth\n"
     ]
    },
    {
     "data": {
      "text/html": [
       "<div style='float:left;background:#9f9a85;padding:10px;width:300px;'></div>"
      ],
      "text/plain": [
       "<IPython.core.display.HTML object>"
      ]
     },
     "metadata": {},
     "output_type": "display_data"
    },
    {
     "name": "stdout",
     "output_type": "stream",
     "text": [
      "----------------------------\n",
      "color name :  to do them credit\n",
      "generated\n"
     ]
    },
    {
     "data": {
      "text/html": [
       "<div style='float:left;background:#487ca7;padding:10px;width:300px;'></div>"
      ],
      "text/plain": [
       "<IPython.core.display.HTML object>"
      ]
     },
     "metadata": {},
     "output_type": "display_data"
    },
    {
     "name": "stdout",
     "output_type": "stream",
     "text": [
      "ground truth\n"
     ]
    },
    {
     "data": {
      "text/html": [
       "<div style='float:left;background:#9e7b7d;padding:10px;width:300px;'></div>"
      ],
      "text/plain": [
       "<IPython.core.display.HTML object>"
      ]
     },
     "metadata": {},
     "output_type": "display_data"
    },
    {
     "name": "stdout",
     "output_type": "stream",
     "text": [
      "----------------------------\n",
      "color name :  no red left in it\n",
      "generated\n"
     ]
    },
    {
     "data": {
      "text/html": [
       "<div style='float:left;background:#2a0012;padding:10px;width:300px;'></div>"
      ],
      "text/plain": [
       "<IPython.core.display.HTML object>"
      ]
     },
     "metadata": {},
     "output_type": "display_data"
    },
    {
     "name": "stdout",
     "output_type": "stream",
     "text": [
      "ground truth\n"
     ]
    },
    {
     "data": {
      "text/html": [
       "<div style='float:left;background:#c0383a;padding:10px;width:300px;'></div>"
      ],
      "text/plain": [
       "<IPython.core.display.HTML object>"
      ]
     },
     "metadata": {},
     "output_type": "display_data"
    },
    {
     "name": "stdout",
     "output_type": "stream",
     "text": [
      "----------------------------\n",
      "color name :  no comb required\n",
      "generated\n"
     ]
    },
    {
     "data": {
      "text/html": [
       "<div style='float:left;background:#ea4319;padding:10px;width:300px;'></div>"
      ],
      "text/plain": [
       "<IPython.core.display.HTML object>"
      ]
     },
     "metadata": {},
     "output_type": "display_data"
    },
    {
     "name": "stdout",
     "output_type": "stream",
     "text": [
      "ground truth\n"
     ]
    },
    {
     "data": {
      "text/html": [
       "<div style='float:left;background:#9e6f63;padding:10px;width:300px;'></div>"
      ],
      "text/plain": [
       "<IPython.core.display.HTML object>"
      ]
     },
     "metadata": {},
     "output_type": "display_data"
    },
    {
     "name": "stdout",
     "output_type": "stream",
     "text": [
      "----------------------------\n",
      "color name :  faded barn red\n",
      "generated\n"
     ]
    },
    {
     "data": {
      "text/html": [
       "<div style='float:left;background:#f55948;padding:10px;width:300px;'></div>"
      ],
      "text/plain": [
       "<IPython.core.display.HTML object>"
      ]
     },
     "metadata": {},
     "output_type": "display_data"
    },
    {
     "name": "stdout",
     "output_type": "stream",
     "text": [
      "ground truth\n"
     ]
    },
    {
     "data": {
      "text/html": [
       "<div style='float:left;background:#bf292e;padding:10px;width:300px;'></div>"
      ],
      "text/plain": [
       "<IPython.core.display.HTML object>"
      ]
     },
     "metadata": {},
     "output_type": "display_data"
    },
    {
     "name": "stdout",
     "output_type": "stream",
     "text": [
      "----------------------------\n",
      "color name :  dark red wine\n",
      "generated\n"
     ]
    },
    {
     "data": {
      "text/html": [
       "<div style='float:left;background:#53031f;padding:10px;width:300px;'></div>"
      ],
      "text/plain": [
       "<IPython.core.display.HTML object>"
      ]
     },
     "metadata": {},
     "output_type": "display_data"
    },
    {
     "name": "stdout",
     "output_type": "stream",
     "text": [
      "ground truth\n"
     ]
    },
    {
     "data": {
      "text/html": [
       "<div style='float:left;background:#690c1d;padding:10px;width:300px;'></div>"
      ],
      "text/plain": [
       "<IPython.core.display.HTML object>"
      ]
     },
     "metadata": {},
     "output_type": "display_data"
    },
    {
     "name": "stdout",
     "output_type": "stream",
     "text": [
      "----------------------------\n",
      "color name :  mamoru red\n",
      "generated\n"
     ]
    },
    {
     "data": {
      "text/html": [
       "<div style='float:left;background:#c30010;padding:10px;width:300px;'></div>"
      ],
      "text/plain": [
       "<IPython.core.display.HTML object>"
      ]
     },
     "metadata": {},
     "output_type": "display_data"
    },
    {
     "name": "stdout",
     "output_type": "stream",
     "text": [
      "ground truth\n"
     ]
    },
    {
     "data": {
      "text/html": [
       "<div style='float:left;background:#c72e30;padding:10px;width:300px;'></div>"
      ],
      "text/plain": [
       "<IPython.core.display.HTML object>"
      ]
     },
     "metadata": {},
     "output_type": "display_data"
    },
    {
     "name": "stdout",
     "output_type": "stream",
     "text": [
      "----------------------------\n",
      "color name :  the red orange kiss\n",
      "generated\n"
     ]
    },
    {
     "data": {
      "text/html": [
       "<div style='float:left;background:#e46540;padding:10px;width:300px;'></div>"
      ],
      "text/plain": [
       "<IPython.core.display.HTML object>"
      ]
     },
     "metadata": {},
     "output_type": "display_data"
    },
    {
     "name": "stdout",
     "output_type": "stream",
     "text": [
      "ground truth\n"
     ]
    },
    {
     "data": {
      "text/html": [
       "<div style='float:left;background:#d34a2d;padding:10px;width:300px;'></div>"
      ],
      "text/plain": [
       "<IPython.core.display.HTML object>"
      ]
     },
     "metadata": {},
     "output_type": "display_data"
    },
    {
     "name": "stdout",
     "output_type": "stream",
     "text": [
      "----------------------------\n",
      "color name :  red delicious\n",
      "generated\n"
     ]
    },
    {
     "data": {
      "text/html": [
       "<div style='float:left;background:#bd203b;padding:10px;width:300px;'></div>"
      ],
      "text/plain": [
       "<IPython.core.display.HTML object>"
      ]
     },
     "metadata": {},
     "output_type": "display_data"
    },
    {
     "name": "stdout",
     "output_type": "stream",
     "text": [
      "ground truth\n"
     ]
    },
    {
     "data": {
      "text/html": [
       "<div style='float:left;background:#c93431;padding:10px;width:300px;'></div>"
      ],
      "text/plain": [
       "<IPython.core.display.HTML object>"
      ]
     },
     "metadata": {},
     "output_type": "display_data"
    },
    {
     "name": "stdout",
     "output_type": "stream",
     "text": [
      "----------------------------\n",
      "color name :  bright red m\n",
      "generated\n"
     ]
    },
    {
     "data": {
      "text/html": [
       "<div style='float:left;background:#d7260b;padding:10px;width:300px;'></div>"
      ],
      "text/plain": [
       "<IPython.core.display.HTML object>"
      ]
     },
     "metadata": {},
     "output_type": "display_data"
    },
    {
     "name": "stdout",
     "output_type": "stream",
     "text": [
      "ground truth\n"
     ]
    },
    {
     "data": {
      "text/html": [
       "<div style='float:left;background:#d03538;padding:10px;width:300px;'></div>"
      ],
      "text/plain": [
       "<IPython.core.display.HTML object>"
      ]
     },
     "metadata": {},
     "output_type": "display_data"
    },
    {
     "name": "stdout",
     "output_type": "stream",
     "text": [
      "----------------------------\n",
      "color name :  buttered  biscuits\n",
      "generated\n"
     ]
    },
    {
     "data": {
      "text/html": [
       "<div style='float:left;background:#dac335;padding:10px;width:300px;'></div>"
      ],
      "text/plain": [
       "<IPython.core.display.HTML object>"
      ]
     },
     "metadata": {},
     "output_type": "display_data"
    },
    {
     "name": "stdout",
     "output_type": "stream",
     "text": [
      "ground truth\n"
     ]
    },
    {
     "data": {
      "text/html": [
       "<div style='float:left;background:#c5b061;padding:10px;width:300px;'></div>"
      ],
      "text/plain": [
       "<IPython.core.display.HTML object>"
      ]
     },
     "metadata": {},
     "output_type": "display_data"
    },
    {
     "name": "stdout",
     "output_type": "stream",
     "text": [
      "----------------------------\n",
      "color name :  deep red brick\n",
      "generated\n"
     ]
    },
    {
     "data": {
      "text/html": [
       "<div style='float:left;background:#7e175e;padding:10px;width:300px;'></div>"
      ],
      "text/plain": [
       "<IPython.core.display.HTML object>"
      ]
     },
     "metadata": {},
     "output_type": "display_data"
    },
    {
     "name": "stdout",
     "output_type": "stream",
     "text": [
      "ground truth\n"
     ]
    },
    {
     "data": {
      "text/html": [
       "<div style='float:left;background:#76191c;padding:10px;width:300px;'></div>"
      ],
      "text/plain": [
       "<IPython.core.display.HTML object>"
      ]
     },
     "metadata": {},
     "output_type": "display_data"
    },
    {
     "name": "stdout",
     "output_type": "stream",
     "text": [
      "----------------------------\n",
      "color name :  candy red sky\n",
      "generated\n"
     ]
    },
    {
     "data": {
      "text/html": [
       "<div style='float:left;background:#d7867d;padding:10px;width:300px;'></div>"
      ],
      "text/plain": [
       "<IPython.core.display.HTML object>"
      ]
     },
     "metadata": {},
     "output_type": "display_data"
    },
    {
     "name": "stdout",
     "output_type": "stream",
     "text": [
      "ground truth\n"
     ]
    },
    {
     "data": {
      "text/html": [
       "<div style='float:left;background:#d73f5a;padding:10px;width:300px;'></div>"
      ],
      "text/plain": [
       "<IPython.core.display.HTML object>"
      ]
     },
     "metadata": {},
     "output_type": "display_data"
    },
    {
     "name": "stdout",
     "output_type": "stream",
     "text": [
      "----------------------------\n",
      "color name :  pale red roses\n",
      "generated\n"
     ]
    },
    {
     "data": {
      "text/html": [
       "<div style='float:left;background:#f78a9f;padding:10px;width:300px;'></div>"
      ],
      "text/plain": [
       "<IPython.core.display.HTML object>"
      ]
     },
     "metadata": {},
     "output_type": "display_data"
    },
    {
     "name": "stdout",
     "output_type": "stream",
     "text": [
      "ground truth\n"
     ]
    },
    {
     "data": {
      "text/html": [
       "<div style='float:left;background:#f1a8b2;padding:10px;width:300px;'></div>"
      ],
      "text/plain": [
       "<IPython.core.display.HTML object>"
      ]
     },
     "metadata": {},
     "output_type": "display_data"
    },
    {
     "name": "stdout",
     "output_type": "stream",
     "text": [
      "----------------------------\n",
      "color name :  horitcultured\n",
      "generated\n"
     ]
    },
    {
     "data": {
      "text/html": [
       "<div style='float:left;background:#00ed00;padding:10px;width:300px;'></div>"
      ],
      "text/plain": [
       "<IPython.core.display.HTML object>"
      ]
     },
     "metadata": {},
     "output_type": "display_data"
    },
    {
     "name": "stdout",
     "output_type": "stream",
     "text": [
      "ground truth\n"
     ]
    },
    {
     "data": {
      "text/html": [
       "<div style='float:left;background:#a87471;padding:10px;width:300px;'></div>"
      ],
      "text/plain": [
       "<IPython.core.display.HTML object>"
      ]
     },
     "metadata": {},
     "output_type": "display_data"
    },
    {
     "name": "stdout",
     "output_type": "stream",
     "text": [
      "----------------------------\n",
      "color name :  shawshank redemption\n",
      "generated\n"
     ]
    },
    {
     "data": {
      "text/html": [
       "<div style='float:left;background:#70342b;padding:10px;width:300px;'></div>"
      ],
      "text/plain": [
       "<IPython.core.display.HTML object>"
      ]
     },
     "metadata": {},
     "output_type": "display_data"
    },
    {
     "name": "stdout",
     "output_type": "stream",
     "text": [
      "ground truth\n"
     ]
    },
    {
     "data": {
      "text/html": [
       "<div style='float:left;background:#a46172;padding:10px;width:300px;'></div>"
      ],
      "text/plain": [
       "<IPython.core.display.HTML object>"
      ]
     },
     "metadata": {},
     "output_type": "display_data"
    },
    {
     "name": "stdout",
     "output_type": "stream",
     "text": [
      "----------------------------\n",
      "color name :  fire brick red tg\n",
      "generated\n"
     ]
    },
    {
     "data": {
      "text/html": [
       "<div style='float:left;background:#a3162a;padding:10px;width:300px;'></div>"
      ],
      "text/plain": [
       "<IPython.core.display.HTML object>"
      ]
     },
     "metadata": {},
     "output_type": "display_data"
    },
    {
     "name": "stdout",
     "output_type": "stream",
     "text": [
      "ground truth\n"
     ]
    },
    {
     "data": {
      "text/html": [
       "<div style='float:left;background:#b7292e;padding:10px;width:300px;'></div>"
      ],
      "text/plain": [
       "<IPython.core.display.HTML object>"
      ]
     },
     "metadata": {},
     "output_type": "display_data"
    },
    {
     "name": "stdout",
     "output_type": "stream",
     "text": [
      "----------------------------\n",
      "color name :  weathered keel\n",
      "generated\n"
     ]
    },
    {
     "data": {
      "text/html": [
       "<div style='float:left;background:#18272b;padding:10px;width:300px;'></div>"
      ],
      "text/plain": [
       "<IPython.core.display.HTML object>"
      ]
     },
     "metadata": {},
     "output_type": "display_data"
    },
    {
     "name": "stdout",
     "output_type": "stream",
     "text": [
      "ground truth\n"
     ]
    },
    {
     "data": {
      "text/html": [
       "<div style='float:left;background:#8c9374;padding:10px;width:300px;'></div>"
      ],
      "text/plain": [
       "<IPython.core.display.HTML object>"
      ]
     },
     "metadata": {},
     "output_type": "display_data"
    },
    {
     "name": "stdout",
     "output_type": "stream",
     "text": [
      "----------------------------\n",
      "color name :  rusty mud red\n",
      "generated\n"
     ]
    },
    {
     "data": {
      "text/html": [
       "<div style='float:left;background:#6f2f1c;padding:10px;width:300px;'></div>"
      ],
      "text/plain": [
       "<IPython.core.display.HTML object>"
      ]
     },
     "metadata": {},
     "output_type": "display_data"
    },
    {
     "name": "stdout",
     "output_type": "stream",
     "text": [
      "ground truth\n"
     ]
    },
    {
     "data": {
      "text/html": [
       "<div style='float:left;background:#952221;padding:10px;width:300px;'></div>"
      ],
      "text/plain": [
       "<IPython.core.display.HTML object>"
      ]
     },
     "metadata": {},
     "output_type": "display_data"
    },
    {
     "name": "stdout",
     "output_type": "stream",
     "text": [
      "----------------------------\n",
      "color name :  shared server\n",
      "generated\n"
     ]
    },
    {
     "data": {
      "text/html": [
       "<div style='float:left;background:#838893;padding:10px;width:300px;'></div>"
      ],
      "text/plain": [
       "<IPython.core.display.HTML object>"
      ]
     },
     "metadata": {},
     "output_type": "display_data"
    },
    {
     "name": "stdout",
     "output_type": "stream",
     "text": [
      "ground truth\n"
     ]
    },
    {
     "data": {
      "text/html": [
       "<div style='float:left;background:#9e7c78;padding:10px;width:300px;'></div>"
      ],
      "text/plain": [
       "<IPython.core.display.HTML object>"
      ]
     },
     "metadata": {},
     "output_type": "display_data"
    },
    {
     "name": "stdout",
     "output_type": "stream",
     "text": [
      "----------------------------\n",
      "color name :  sugared olive\n",
      "generated\n"
     ]
    },
    {
     "data": {
      "text/html": [
       "<div style='float:left;background:#5a5f19;padding:10px;width:300px;'></div>"
      ],
      "text/plain": [
       "<IPython.core.display.HTML object>"
      ]
     },
     "metadata": {},
     "output_type": "display_data"
    },
    {
     "name": "stdout",
     "output_type": "stream",
     "text": [
      "ground truth\n"
     ]
    },
    {
     "data": {
      "text/html": [
       "<div style='float:left;background:#94994e;padding:10px;width:300px;'></div>"
      ],
      "text/plain": [
       "<IPython.core.display.HTML object>"
      ]
     },
     "metadata": {},
     "output_type": "display_data"
    },
    {
     "name": "stdout",
     "output_type": "stream",
     "text": [
      "----------------------------\n",
      "color name :  tell me true red\n",
      "generated\n"
     ]
    },
    {
     "data": {
      "text/html": [
       "<div style='float:left;background:#c89d97;padding:10px;width:300px;'></div>"
      ],
      "text/plain": [
       "<IPython.core.display.HTML object>"
      ]
     },
     "metadata": {},
     "output_type": "display_data"
    },
    {
     "name": "stdout",
     "output_type": "stream",
     "text": [
      "ground truth\n"
     ]
    },
    {
     "data": {
      "text/html": [
       "<div style='float:left;background:#b82d2e;padding:10px;width:300px;'></div>"
      ],
      "text/plain": [
       "<IPython.core.display.HTML object>"
      ]
     },
     "metadata": {},
     "output_type": "display_data"
    },
    {
     "name": "stdout",
     "output_type": "stream",
     "text": [
      "----------------------------\n",
      "color name :  royal red ii\n",
      "generated\n"
     ]
    },
    {
     "data": {
      "text/html": [
       "<div style='float:left;background:#a8415b;padding:10px;width:300px;'></div>"
      ],
      "text/plain": [
       "<IPython.core.display.HTML object>"
      ]
     },
     "metadata": {},
     "output_type": "display_data"
    },
    {
     "name": "stdout",
     "output_type": "stream",
     "text": [
      "ground truth\n"
     ]
    },
    {
     "data": {
      "text/html": [
       "<div style='float:left;background:#b21d2d;padding:10px;width:300px;'></div>"
      ],
      "text/plain": [
       "<IPython.core.display.HTML object>"
      ]
     },
     "metadata": {},
     "output_type": "display_data"
    },
    {
     "name": "stdout",
     "output_type": "stream",
     "text": [
      "----------------------------\n",
      "color name :  dared\n",
      "generated\n"
     ]
    },
    {
     "data": {
      "text/html": [
       "<div style='float:left;background:#aa2207;padding:10px;width:300px;'></div>"
      ],
      "text/plain": [
       "<IPython.core.display.HTML object>"
      ]
     },
     "metadata": {},
     "output_type": "display_data"
    },
    {
     "name": "stdout",
     "output_type": "stream",
     "text": [
      "ground truth\n"
     ]
    },
    {
     "data": {
      "text/html": [
       "<div style='float:left;background:#ad5d4a;padding:10px;width:300px;'></div>"
      ],
      "text/plain": [
       "<IPython.core.display.HTML object>"
      ]
     },
     "metadata": {},
     "output_type": "display_data"
    },
    {
     "name": "stdout",
     "output_type": "stream",
     "text": [
      "----------------------------\n",
      "color name :  coloured paper edges\n",
      "generated\n"
     ]
    },
    {
     "data": {
      "text/html": [
       "<div style='float:left;background:#24414f;padding:10px;width:300px;'></div>"
      ],
      "text/plain": [
       "<IPython.core.display.HTML object>"
      ]
     },
     "metadata": {},
     "output_type": "display_data"
    },
    {
     "name": "stdout",
     "output_type": "stream",
     "text": [
      "ground truth\n"
     ]
    },
    {
     "data": {
      "text/html": [
       "<div style='float:left;background:#bf9d8e;padding:10px;width:300px;'></div>"
      ],
      "text/plain": [
       "<IPython.core.display.HTML object>"
      ]
     },
     "metadata": {},
     "output_type": "display_data"
    },
    {
     "name": "stdout",
     "output_type": "stream",
     "text": [
      "----------------------------\n",
      "color name :  bared shoulder\n",
      "generated\n"
     ]
    },
    {
     "data": {
      "text/html": [
       "<div style='float:left;background:#e4d9bd;padding:10px;width:300px;'></div>"
      ],
      "text/plain": [
       "<IPython.core.display.HTML object>"
      ]
     },
     "metadata": {},
     "output_type": "display_data"
    },
    {
     "name": "stdout",
     "output_type": "stream",
     "text": [
      "ground truth\n"
     ]
    },
    {
     "data": {
      "text/html": [
       "<div style='float:left;background:#a98a6f;padding:10px;width:300px;'></div>"
      ],
      "text/plain": [
       "<IPython.core.display.HTML object>"
      ]
     },
     "metadata": {},
     "output_type": "display_data"
    },
    {
     "name": "stdout",
     "output_type": "stream",
     "text": [
      "----------------------------\n",
      "color name :  alley red\n",
      "generated\n"
     ]
    },
    {
     "data": {
      "text/html": [
       "<div style='float:left;background:#6f2420;padding:10px;width:300px;'></div>"
      ],
      "text/plain": [
       "<IPython.core.display.HTML object>"
      ]
     },
     "metadata": {},
     "output_type": "display_data"
    },
    {
     "name": "stdout",
     "output_type": "stream",
     "text": [
      "ground truth\n"
     ]
    },
    {
     "data": {
      "text/html": [
       "<div style='float:left;background:#c52c33;padding:10px;width:300px;'></div>"
      ],
      "text/plain": [
       "<IPython.core.display.HTML object>"
      ]
     },
     "metadata": {},
     "output_type": "display_data"
    },
    {
     "name": "stdout",
     "output_type": "stream",
     "text": [
      "----------------------------\n",
      "color name :  last of the red hots\n",
      "generated\n"
     ]
    },
    {
     "data": {
      "text/html": [
       "<div style='float:left;background:#e00407;padding:10px;width:300px;'></div>"
      ],
      "text/plain": [
       "<IPython.core.display.HTML object>"
      ]
     },
     "metadata": {},
     "output_type": "display_data"
    },
    {
     "name": "stdout",
     "output_type": "stream",
     "text": [
      "ground truth\n"
     ]
    },
    {
     "data": {
      "text/html": [
       "<div style='float:left;background:#bc3438;padding:10px;width:300px;'></div>"
      ],
      "text/plain": [
       "<IPython.core.display.HTML object>"
      ]
     },
     "metadata": {},
     "output_type": "display_data"
    },
    {
     "name": "stdout",
     "output_type": "stream",
     "text": [
      "----------------------------\n",
      "color name :  victorias predator\n",
      "generated\n"
     ]
    },
    {
     "data": {
      "text/html": [
       "<div style='float:left;background:#a53e35;padding:10px;width:300px;'></div>"
      ],
      "text/plain": [
       "<IPython.core.display.HTML object>"
      ]
     },
     "metadata": {},
     "output_type": "display_data"
    },
    {
     "name": "stdout",
     "output_type": "stream",
     "text": [
      "ground truth\n"
     ]
    },
    {
     "data": {
      "text/html": [
       "<div style='float:left;background:#ae647f;padding:10px;width:300px;'></div>"
      ],
      "text/plain": [
       "<IPython.core.display.HTML object>"
      ]
     },
     "metadata": {},
     "output_type": "display_data"
    },
    {
     "name": "stdout",
     "output_type": "stream",
     "text": [
      "----------------------------\n",
      "color name :  paint a wall red\n",
      "generated\n"
     ]
    },
    {
     "data": {
      "text/html": [
       "<div style='float:left;background:#e10005;padding:10px;width:300px;'></div>"
      ],
      "text/plain": [
       "<IPython.core.display.HTML object>"
      ]
     },
     "metadata": {},
     "output_type": "display_data"
    },
    {
     "name": "stdout",
     "output_type": "stream",
     "text": [
      "ground truth\n"
     ]
    },
    {
     "data": {
      "text/html": [
       "<div style='float:left;background:#c43335;padding:10px;width:300px;'></div>"
      ],
      "text/plain": [
       "<IPython.core.display.HTML object>"
      ]
     },
     "metadata": {},
     "output_type": "display_data"
    },
    {
     "name": "stdout",
     "output_type": "stream",
     "text": [
      "----------------------------\n",
      "color name :  tattoo red\n",
      "generated\n"
     ]
    },
    {
     "data": {
      "text/html": [
       "<div style='float:left;background:#d73856;padding:10px;width:300px;'></div>"
      ],
      "text/plain": [
       "<IPython.core.display.HTML object>"
      ]
     },
     "metadata": {},
     "output_type": "display_data"
    },
    {
     "name": "stdout",
     "output_type": "stream",
     "text": [
      "ground truth\n"
     ]
    },
    {
     "data": {
      "text/html": [
       "<div style='float:left;background:#c73031;padding:10px;width:300px;'></div>"
      ],
      "text/plain": [
       "<IPython.core.display.HTML object>"
      ]
     },
     "metadata": {},
     "output_type": "display_data"
    },
    {
     "name": "stdout",
     "output_type": "stream",
     "text": [
      "----------------------------\n",
      "color name :  ready freddy\n",
      "generated\n"
     ]
    },
    {
     "data": {
      "text/html": [
       "<div style='float:left;background:#4bc4a1;padding:10px;width:300px;'></div>"
      ],
      "text/plain": [
       "<IPython.core.display.HTML object>"
      ]
     },
     "metadata": {},
     "output_type": "display_data"
    },
    {
     "name": "stdout",
     "output_type": "stream",
     "text": [
      "ground truth\n"
     ]
    },
    {
     "data": {
      "text/html": [
       "<div style='float:left;background:#aa9486;padding:10px;width:300px;'></div>"
      ],
      "text/plain": [
       "<IPython.core.display.HTML object>"
      ]
     },
     "metadata": {},
     "output_type": "display_data"
    },
    {
     "name": "stdout",
     "output_type": "stream",
     "text": [
      "----------------------------\n",
      "color name :  coloured smoke\n",
      "generated\n"
     ]
    },
    {
     "data": {
      "text/html": [
       "<div style='float:left;background:#6b4e6e;padding:10px;width:300px;'></div>"
      ],
      "text/plain": [
       "<IPython.core.display.HTML object>"
      ]
     },
     "metadata": {},
     "output_type": "display_data"
    },
    {
     "name": "stdout",
     "output_type": "stream",
     "text": [
      "ground truth\n"
     ]
    },
    {
     "data": {
      "text/html": [
       "<div style='float:left;background:#aa8882;padding:10px;width:300px;'></div>"
      ],
      "text/plain": [
       "<IPython.core.display.HTML object>"
      ]
     },
     "metadata": {},
     "output_type": "display_data"
    },
    {
     "name": "stdout",
     "output_type": "stream",
     "text": [
      "----------------------------\n",
      "color name :  era red\n",
      "generated\n"
     ]
    },
    {
     "data": {
      "text/html": [
       "<div style='float:left;background:#890c0f;padding:10px;width:300px;'></div>"
      ],
      "text/plain": [
       "<IPython.core.display.HTML object>"
      ]
     },
     "metadata": {},
     "output_type": "display_data"
    },
    {
     "name": "stdout",
     "output_type": "stream",
     "text": [
      "ground truth\n"
     ]
    },
    {
     "data": {
      "text/html": [
       "<div style='float:left;background:#c6332f;padding:10px;width:300px;'></div>"
      ],
      "text/plain": [
       "<IPython.core.display.HTML object>"
      ]
     },
     "metadata": {},
     "output_type": "display_data"
    },
    {
     "name": "stdout",
     "output_type": "stream",
     "text": [
      "----------------------------\n",
      "color name :  mainly redly mine\n",
      "generated\n"
     ]
    },
    {
     "data": {
      "text/html": [
       "<div style='float:left;background:#de2041;padding:10px;width:300px;'></div>"
      ],
      "text/plain": [
       "<IPython.core.display.HTML object>"
      ]
     },
     "metadata": {},
     "output_type": "display_data"
    },
    {
     "name": "stdout",
     "output_type": "stream",
     "text": [
      "ground truth\n"
     ]
    },
    {
     "data": {
      "text/html": [
       "<div style='float:left;background:#bb2e34;padding:10px;width:300px;'></div>"
      ],
      "text/plain": [
       "<IPython.core.display.HTML object>"
      ]
     },
     "metadata": {},
     "output_type": "display_data"
    },
    {
     "name": "stdout",
     "output_type": "stream",
     "text": [
      "----------------------------\n",
      "color name :  washed red tshirt\n",
      "generated\n"
     ]
    },
    {
     "data": {
      "text/html": [
       "<div style='float:left;background:#902b33;padding:10px;width:300px;'></div>"
      ],
      "text/plain": [
       "<IPython.core.display.HTML object>"
      ]
     },
     "metadata": {},
     "output_type": "display_data"
    },
    {
     "name": "stdout",
     "output_type": "stream",
     "text": [
      "ground truth\n"
     ]
    },
    {
     "data": {
      "text/html": [
       "<div style='float:left;background:#bb5256;padding:10px;width:300px;'></div>"
      ],
      "text/plain": [
       "<IPython.core.display.HTML object>"
      ]
     },
     "metadata": {},
     "output_type": "display_data"
    },
    {
     "name": "stdout",
     "output_type": "stream",
     "text": [
      "----------------------------\n",
      "color name :  nightmaredaydream\n",
      "generated\n"
     ]
    },
    {
     "data": {
      "text/html": [
       "<div style='float:left;background:#e994a8;padding:10px;width:300px;'></div>"
      ],
      "text/plain": [
       "<IPython.core.display.HTML object>"
      ]
     },
     "metadata": {},
     "output_type": "display_data"
    },
    {
     "name": "stdout",
     "output_type": "stream",
     "text": [
      "ground truth\n"
     ]
    },
    {
     "data": {
      "text/html": [
       "<div style='float:left;background:#743a64;padding:10px;width:300px;'></div>"
      ],
      "text/plain": [
       "<IPython.core.display.HTML object>"
      ]
     },
     "metadata": {},
     "output_type": "display_data"
    },
    {
     "name": "stdout",
     "output_type": "stream",
     "text": [
      "----------------------------\n",
      "color name :  tgd blue squared\n",
      "generated\n"
     ]
    },
    {
     "data": {
      "text/html": [
       "<div style='float:left;background:#505e90;padding:10px;width:300px;'></div>"
      ],
      "text/plain": [
       "<IPython.core.display.HTML object>"
      ]
     },
     "metadata": {},
     "output_type": "display_data"
    },
    {
     "name": "stdout",
     "output_type": "stream",
     "text": [
      "ground truth\n"
     ]
    },
    {
     "data": {
      "text/html": [
       "<div style='float:left;background:#596aa8;padding:10px;width:300px;'></div>"
      ],
      "text/plain": [
       "<IPython.core.display.HTML object>"
      ]
     },
     "metadata": {},
     "output_type": "display_data"
    },
    {
     "name": "stdout",
     "output_type": "stream",
     "text": [
      "----------------------------\n",
      "color name :  redrocks\n",
      "generated\n"
     ]
    },
    {
     "data": {
      "text/html": [
       "<div style='float:left;background:#a85a12;padding:10px;width:300px;'></div>"
      ],
      "text/plain": [
       "<IPython.core.display.HTML object>"
      ]
     },
     "metadata": {},
     "output_type": "display_data"
    },
    {
     "name": "stdout",
     "output_type": "stream",
     "text": [
      "ground truth\n"
     ]
    },
    {
     "data": {
      "text/html": [
       "<div style='float:left;background:#c24037;padding:10px;width:300px;'></div>"
      ],
      "text/plain": [
       "<IPython.core.display.HTML object>"
      ]
     },
     "metadata": {},
     "output_type": "display_data"
    },
    {
     "name": "stdout",
     "output_type": "stream",
     "text": [
      "----------------------------\n",
      "color name :  echo red\n",
      "generated\n"
     ]
    },
    {
     "data": {
      "text/html": [
       "<div style='float:left;background:#ba4d4e;padding:10px;width:300px;'></div>"
      ],
      "text/plain": [
       "<IPython.core.display.HTML object>"
      ]
     },
     "metadata": {},
     "output_type": "display_data"
    },
    {
     "name": "stdout",
     "output_type": "stream",
     "text": [
      "ground truth\n"
     ]
    },
    {
     "data": {
      "text/html": [
       "<div style='float:left;background:#c22b31;padding:10px;width:300px;'></div>"
      ],
      "text/plain": [
       "<IPython.core.display.HTML object>"
      ]
     },
     "metadata": {},
     "output_type": "display_data"
    },
    {
     "name": "stdout",
     "output_type": "stream",
     "text": [
      "----------------------------\n",
      "color name :  ppred\n",
      "generated\n"
     ]
    },
    {
     "data": {
      "text/html": [
       "<div style='float:left;background:#300607;padding:10px;width:300px;'></div>"
      ],
      "text/plain": [
       "<IPython.core.display.HTML object>"
      ]
     },
     "metadata": {},
     "output_type": "display_data"
    },
    {
     "name": "stdout",
     "output_type": "stream",
     "text": [
      "ground truth\n"
     ]
    },
    {
     "data": {
      "text/html": [
       "<div style='float:left;background:#b85453;padding:10px;width:300px;'></div>"
      ],
      "text/plain": [
       "<IPython.core.display.HTML object>"
      ]
     },
     "metadata": {},
     "output_type": "display_data"
    },
    {
     "name": "stdout",
     "output_type": "stream",
     "text": [
      "----------------------------\n",
      "color name :  red satin ears\n",
      "generated\n"
     ]
    },
    {
     "data": {
      "text/html": [
       "<div style='float:left;background:#be4542;padding:10px;width:300px;'></div>"
      ],
      "text/plain": [
       "<IPython.core.display.HTML object>"
      ]
     },
     "metadata": {},
     "output_type": "display_data"
    },
    {
     "name": "stdout",
     "output_type": "stream",
     "text": [
      "ground truth\n"
     ]
    },
    {
     "data": {
      "text/html": [
       "<div style='float:left;background:#c02f2d;padding:10px;width:300px;'></div>"
      ],
      "text/plain": [
       "<IPython.core.display.HTML object>"
      ]
     },
     "metadata": {},
     "output_type": "display_data"
    },
    {
     "name": "stdout",
     "output_type": "stream",
     "text": [
      "----------------------------\n",
      "color name :  well manered\n",
      "generated\n"
     ]
    },
    {
     "data": {
      "text/html": [
       "<div style='float:left;background:#e0a160;padding:10px;width:300px;'></div>"
      ],
      "text/plain": [
       "<IPython.core.display.HTML object>"
      ]
     },
     "metadata": {},
     "output_type": "display_data"
    },
    {
     "name": "stdout",
     "output_type": "stream",
     "text": [
      "ground truth\n"
     ]
    },
    {
     "data": {
      "text/html": [
       "<div style='float:left;background:#9d6759;padding:10px;width:300px;'></div>"
      ],
      "text/plain": [
       "<IPython.core.display.HTML object>"
      ]
     },
     "metadata": {},
     "output_type": "display_data"
    },
    {
     "name": "stdout",
     "output_type": "stream",
     "text": [
      "----------------------------\n",
      "color name :  red face\n",
      "generated\n"
     ]
    },
    {
     "data": {
      "text/html": [
       "<div style='float:left;background:#941f05;padding:10px;width:300px;'></div>"
      ],
      "text/plain": [
       "<IPython.core.display.HTML object>"
      ]
     },
     "metadata": {},
     "output_type": "display_data"
    },
    {
     "name": "stdout",
     "output_type": "stream",
     "text": [
      "ground truth\n"
     ]
    },
    {
     "data": {
      "text/html": [
       "<div style='float:left;background:#c43231;padding:10px;width:300px;'></div>"
      ],
      "text/plain": [
       "<IPython.core.display.HTML object>"
      ]
     },
     "metadata": {},
     "output_type": "display_data"
    },
    {
     "name": "stdout",
     "output_type": "stream",
     "text": [
      "----------------------------\n",
      "color name :  plured\n",
      "generated\n"
     ]
    },
    {
     "data": {
      "text/html": [
       "<div style='float:left;background:#d33d26;padding:10px;width:300px;'></div>"
      ],
      "text/plain": [
       "<IPython.core.display.HTML object>"
      ]
     },
     "metadata": {},
     "output_type": "display_data"
    },
    {
     "name": "stdout",
     "output_type": "stream",
     "text": [
      "ground truth\n"
     ]
    },
    {
     "data": {
      "text/html": [
       "<div style='float:left;background:#964354;padding:10px;width:300px;'></div>"
      ],
      "text/plain": [
       "<IPython.core.display.HTML object>"
      ]
     },
     "metadata": {},
     "output_type": "display_data"
    },
    {
     "name": "stdout",
     "output_type": "stream",
     "text": [
      "----------------------------\n",
      "color name :  pleasure unmeasured\n",
      "generated\n"
     ]
    },
    {
     "data": {
      "text/html": [
       "<div style='float:left;background:#55546c;padding:10px;width:300px;'></div>"
      ],
      "text/plain": [
       "<IPython.core.display.HTML object>"
      ]
     },
     "metadata": {},
     "output_type": "display_data"
    },
    {
     "name": "stdout",
     "output_type": "stream",
     "text": [
      "ground truth\n"
     ]
    },
    {
     "data": {
      "text/html": [
       "<div style='float:left;background:#986c71;padding:10px;width:300px;'></div>"
      ],
      "text/plain": [
       "<IPython.core.display.HTML object>"
      ]
     },
     "metadata": {},
     "output_type": "display_data"
    },
    {
     "name": "stdout",
     "output_type": "stream",
     "text": [
      "----------------------------\n",
      "color name :  manufactured cherry\n",
      "generated\n"
     ]
    },
    {
     "data": {
      "text/html": [
       "<div style='float:left;background:#863f40;padding:10px;width:300px;'></div>"
      ],
      "text/plain": [
       "<IPython.core.display.HTML object>"
      ]
     },
     "metadata": {},
     "output_type": "display_data"
    },
    {
     "name": "stdout",
     "output_type": "stream",
     "text": [
      "ground truth\n"
     ]
    },
    {
     "data": {
      "text/html": [
       "<div style='float:left;background:#b5364a;padding:10px;width:300px;'></div>"
      ],
      "text/plain": [
       "<IPython.core.display.HTML object>"
      ]
     },
     "metadata": {},
     "output_type": "display_data"
    },
    {
     "name": "stdout",
     "output_type": "stream",
     "text": [
      "----------------------------\n",
      "color name :  reddish coral\n",
      "generated\n"
     ]
    },
    {
     "data": {
      "text/html": [
       "<div style='float:left;background:#fa3032;padding:10px;width:300px;'></div>"
      ],
      "text/plain": [
       "<IPython.core.display.HTML object>"
      ]
     },
     "metadata": {},
     "output_type": "display_data"
    },
    {
     "name": "stdout",
     "output_type": "stream",
     "text": [
      "ground truth\n"
     ]
    },
    {
     "data": {
      "text/html": [
       "<div style='float:left;background:#d23c37;padding:10px;width:300px;'></div>"
      ],
      "text/plain": [
       "<IPython.core.display.HTML object>"
      ]
     },
     "metadata": {},
     "output_type": "display_data"
    },
    {
     "name": "stdout",
     "output_type": "stream",
     "text": [
      "----------------------------\n",
      "color name :  cb neutered mauve\n",
      "generated\n"
     ]
    },
    {
     "data": {
      "text/html": [
       "<div style='float:left;background:#94879b;padding:10px;width:300px;'></div>"
      ],
      "text/plain": [
       "<IPython.core.display.HTML object>"
      ]
     },
     "metadata": {},
     "output_type": "display_data"
    },
    {
     "name": "stdout",
     "output_type": "stream",
     "text": [
      "ground truth\n"
     ]
    },
    {
     "data": {
      "text/html": [
       "<div style='float:left;background:#a15f91;padding:10px;width:300px;'></div>"
      ],
      "text/plain": [
       "<IPython.core.display.HTML object>"
      ]
     },
     "metadata": {},
     "output_type": "display_data"
    },
    {
     "name": "stdout",
     "output_type": "stream",
     "text": [
      "----------------------------\n",
      "color name :  desired dress\n",
      "generated\n"
     ]
    },
    {
     "data": {
      "text/html": [
       "<div style='float:left;background:#4f00e0;padding:10px;width:300px;'></div>"
      ],
      "text/plain": [
       "<IPython.core.display.HTML object>"
      ]
     },
     "metadata": {},
     "output_type": "display_data"
    },
    {
     "name": "stdout",
     "output_type": "stream",
     "text": [
      "ground truth\n"
     ]
    },
    {
     "data": {
      "text/html": [
       "<div style='float:left;background:#a57e78;padding:10px;width:300px;'></div>"
      ],
      "text/plain": [
       "<IPython.core.display.HTML object>"
      ]
     },
     "metadata": {},
     "output_type": "display_data"
    },
    {
     "name": "stdout",
     "output_type": "stream",
     "text": [
      "----------------------------\n",
      "color name :  deeper red\n",
      "generated\n"
     ]
    },
    {
     "data": {
      "text/html": [
       "<div style='float:left;background:#bf2a1d;padding:10px;width:300px;'></div>"
      ],
      "text/plain": [
       "<IPython.core.display.HTML object>"
      ]
     },
     "metadata": {},
     "output_type": "display_data"
    },
    {
     "name": "stdout",
     "output_type": "stream",
     "text": [
      "ground truth\n"
     ]
    },
    {
     "data": {
      "text/html": [
       "<div style='float:left;background:#911321;padding:10px;width:300px;'></div>"
      ],
      "text/plain": [
       "<IPython.core.display.HTML object>"
      ]
     },
     "metadata": {},
     "output_type": "display_data"
    },
    {
     "name": "stdout",
     "output_type": "stream",
     "text": [
      "----------------------------\n",
      "color name :  silvered chantilly\n",
      "generated\n"
     ]
    },
    {
     "data": {
      "text/html": [
       "<div style='float:left;background:#c19eb5;padding:10px;width:300px;'></div>"
      ],
      "text/plain": [
       "<IPython.core.display.HTML object>"
      ]
     },
     "metadata": {},
     "output_type": "display_data"
    },
    {
     "name": "stdout",
     "output_type": "stream",
     "text": [
      "ground truth\n"
     ]
    },
    {
     "data": {
      "text/html": [
       "<div style='float:left;background:#baaeb0;padding:10px;width:300px;'></div>"
      ],
      "text/plain": [
       "<IPython.core.display.HTML object>"
      ]
     },
     "metadata": {},
     "output_type": "display_data"
    },
    {
     "name": "stdout",
     "output_type": "stream",
     "text": [
      "----------------------------\n",
      "color name :  red snowflake\n",
      "generated\n"
     ]
    },
    {
     "data": {
      "text/html": [
       "<div style='float:left;background:#b5332b;padding:10px;width:300px;'></div>"
      ],
      "text/plain": [
       "<IPython.core.display.HTML object>"
      ]
     },
     "metadata": {},
     "output_type": "display_data"
    },
    {
     "name": "stdout",
     "output_type": "stream",
     "text": [
      "ground truth\n"
     ]
    },
    {
     "data": {
      "text/html": [
       "<div style='float:left;background:#cf4842;padding:10px;width:300px;'></div>"
      ],
      "text/plain": [
       "<IPython.core.display.HTML object>"
      ]
     },
     "metadata": {},
     "output_type": "display_data"
    },
    {
     "name": "stdout",
     "output_type": "stream",
     "text": [
      "----------------------------\n",
      "color name :  red as lust\n",
      "generated\n"
     ]
    },
    {
     "data": {
      "text/html": [
       "<div style='float:left;background:#df342d;padding:10px;width:300px;'></div>"
      ],
      "text/plain": [
       "<IPython.core.display.HTML object>"
      ]
     },
     "metadata": {},
     "output_type": "display_data"
    },
    {
     "name": "stdout",
     "output_type": "stream",
     "text": [
      "ground truth\n"
     ]
    },
    {
     "data": {
      "text/html": [
       "<div style='float:left;background:#c12f2e;padding:10px;width:300px;'></div>"
      ],
      "text/plain": [
       "<IPython.core.display.HTML object>"
      ]
     },
     "metadata": {},
     "output_type": "display_data"
    },
    {
     "name": "stdout",
     "output_type": "stream",
     "text": [
      "----------------------------\n",
      "color name :  soviet red\n",
      "generated\n"
     ]
    },
    {
     "data": {
      "text/html": [
       "<div style='float:left;background:#9e0d1a;padding:10px;width:300px;'></div>"
      ],
      "text/plain": [
       "<IPython.core.display.HTML object>"
      ]
     },
     "metadata": {},
     "output_type": "display_data"
    },
    {
     "name": "stdout",
     "output_type": "stream",
     "text": [
      "ground truth\n"
     ]
    },
    {
     "data": {
      "text/html": [
       "<div style='float:left;background:#c32d31;padding:10px;width:300px;'></div>"
      ],
      "text/plain": [
       "<IPython.core.display.HTML object>"
      ]
     },
     "metadata": {},
     "output_type": "display_data"
    },
    {
     "name": "stdout",
     "output_type": "stream",
     "text": [
      "----------------------------\n",
      "color name :  rueful red\n",
      "generated\n"
     ]
    },
    {
     "data": {
      "text/html": [
       "<div style='float:left;background:#e93231;padding:10px;width:300px;'></div>"
      ],
      "text/plain": [
       "<IPython.core.display.HTML object>"
      ]
     },
     "metadata": {},
     "output_type": "display_data"
    },
    {
     "name": "stdout",
     "output_type": "stream",
     "text": [
      "ground truth\n"
     ]
    },
    {
     "data": {
      "text/html": [
       "<div style='float:left;background:#c42d2e;padding:10px;width:300px;'></div>"
      ],
      "text/plain": [
       "<IPython.core.display.HTML object>"
      ]
     },
     "metadata": {},
     "output_type": "display_data"
    },
    {
     "name": "stdout",
     "output_type": "stream",
     "text": [
      "----------------------------\n",
      "color name :  shattered lives\n",
      "generated\n"
     ]
    },
    {
     "data": {
      "text/html": [
       "<div style='float:left;background:#f20269;padding:10px;width:300px;'></div>"
      ],
      "text/plain": [
       "<IPython.core.display.HTML object>"
      ]
     },
     "metadata": {},
     "output_type": "display_data"
    },
    {
     "name": "stdout",
     "output_type": "stream",
     "text": [
      "ground truth\n"
     ]
    },
    {
     "data": {
      "text/html": [
       "<div style='float:left;background:#a3897c;padding:10px;width:300px;'></div>"
      ],
      "text/plain": [
       "<IPython.core.display.HTML object>"
      ]
     },
     "metadata": {},
     "output_type": "display_data"
    },
    {
     "name": "stdout",
     "output_type": "stream",
     "text": [
      "----------------------------\n",
      "color name :  red bull red\n",
      "generated\n"
     ]
    },
    {
     "data": {
      "text/html": [
       "<div style='float:left;background:#cf3e4d;padding:10px;width:300px;'></div>"
      ],
      "text/plain": [
       "<IPython.core.display.HTML object>"
      ]
     },
     "metadata": {},
     "output_type": "display_data"
    },
    {
     "name": "stdout",
     "output_type": "stream",
     "text": [
      "ground truth\n"
     ]
    },
    {
     "data": {
      "text/html": [
       "<div style='float:left;background:#c12c2c;padding:10px;width:300px;'></div>"
      ],
      "text/plain": [
       "<IPython.core.display.HTML object>"
      ]
     },
     "metadata": {},
     "output_type": "display_data"
    },
    {
     "name": "stdout",
     "output_type": "stream",
     "text": [
      "----------------------------\n",
      "color name :  vermeer red\n",
      "generated\n"
     ]
    },
    {
     "data": {
      "text/html": [
       "<div style='float:left;background:#ba311c;padding:10px;width:300px;'></div>"
      ],
      "text/plain": [
       "<IPython.core.display.HTML object>"
      ]
     },
     "metadata": {},
     "output_type": "display_data"
    },
    {
     "name": "stdout",
     "output_type": "stream",
     "text": [
      "ground truth\n"
     ]
    },
    {
     "data": {
      "text/html": [
       "<div style='float:left;background:#c52e2d;padding:10px;width:300px;'></div>"
      ],
      "text/plain": [
       "<IPython.core.display.HTML object>"
      ]
     },
     "metadata": {},
     "output_type": "display_data"
    },
    {
     "name": "stdout",
     "output_type": "stream",
     "text": [
      "----------------------------\n",
      "color name :  rastafarian red\n",
      "generated\n"
     ]
    },
    {
     "data": {
      "text/html": [
       "<div style='float:left;background:#ae243a;padding:10px;width:300px;'></div>"
      ],
      "text/plain": [
       "<IPython.core.display.HTML object>"
      ]
     },
     "metadata": {},
     "output_type": "display_data"
    },
    {
     "name": "stdout",
     "output_type": "stream",
     "text": [
      "ground truth\n"
     ]
    },
    {
     "data": {
      "text/html": [
       "<div style='float:left;background:#d03933;padding:10px;width:300px;'></div>"
      ],
      "text/plain": [
       "<IPython.core.display.HTML object>"
      ]
     },
     "metadata": {},
     "output_type": "display_data"
    },
    {
     "name": "stdout",
     "output_type": "stream",
     "text": [
      "----------------------------\n",
      "color name :  redrum redrum\n",
      "generated\n"
     ]
    },
    {
     "data": {
      "text/html": [
       "<div style='float:left;background:#bc1a19;padding:10px;width:300px;'></div>"
      ],
      "text/plain": [
       "<IPython.core.display.HTML object>"
      ]
     },
     "metadata": {},
     "output_type": "display_data"
    },
    {
     "name": "stdout",
     "output_type": "stream",
     "text": [
      "ground truth\n"
     ]
    },
    {
     "data": {
      "text/html": [
       "<div style='float:left;background:#ab292e;padding:10px;width:300px;'></div>"
      ],
      "text/plain": [
       "<IPython.core.display.HTML object>"
      ]
     },
     "metadata": {},
     "output_type": "display_data"
    },
    {
     "name": "stdout",
     "output_type": "stream",
     "text": [
      "----------------------------\n",
      "color name :  looking red\n",
      "generated\n"
     ]
    },
    {
     "data": {
      "text/html": [
       "<div style='float:left;background:#cf1c19;padding:10px;width:300px;'></div>"
      ],
      "text/plain": [
       "<IPython.core.display.HTML object>"
      ]
     },
     "metadata": {},
     "output_type": "display_data"
    },
    {
     "name": "stdout",
     "output_type": "stream",
     "text": [
      "ground truth\n"
     ]
    },
    {
     "data": {
      "text/html": [
       "<div style='float:left;background:#c12e34;padding:10px;width:300px;'></div>"
      ],
      "text/plain": [
       "<IPython.core.display.HTML object>"
      ]
     },
     "metadata": {},
     "output_type": "display_data"
    },
    {
     "name": "stdout",
     "output_type": "stream",
     "text": [
      "----------------------------\n",
      "color name :  jodphur red\n",
      "generated\n"
     ]
    },
    {
     "data": {
      "text/html": [
       "<div style='float:left;background:#c80818;padding:10px;width:300px;'></div>"
      ],
      "text/plain": [
       "<IPython.core.display.HTML object>"
      ]
     },
     "metadata": {},
     "output_type": "display_data"
    },
    {
     "name": "stdout",
     "output_type": "stream",
     "text": [
      "ground truth\n"
     ]
    },
    {
     "data": {
      "text/html": [
       "<div style='float:left;background:#bd2b31;padding:10px;width:300px;'></div>"
      ],
      "text/plain": [
       "<IPython.core.display.HTML object>"
      ]
     },
     "metadata": {},
     "output_type": "display_data"
    },
    {
     "name": "stdout",
     "output_type": "stream",
     "text": [
      "----------------------------\n",
      "color name :  rust red rock\n",
      "generated\n"
     ]
    },
    {
     "data": {
      "text/html": [
       "<div style='float:left;background:#a4310e;padding:10px;width:300px;'></div>"
      ],
      "text/plain": [
       "<IPython.core.display.HTML object>"
      ]
     },
     "metadata": {},
     "output_type": "display_data"
    },
    {
     "name": "stdout",
     "output_type": "stream",
     "text": [
      "ground truth\n"
     ]
    },
    {
     "data": {
      "text/html": [
       "<div style='float:left;background:#9f2526;padding:10px;width:300px;'></div>"
      ],
      "text/plain": [
       "<IPython.core.display.HTML object>"
      ]
     },
     "metadata": {},
     "output_type": "display_data"
    },
    {
     "name": "stdout",
     "output_type": "stream",
     "text": [
      "----------------------------\n",
      "color name :  couture red\n",
      "generated\n"
     ]
    },
    {
     "data": {
      "text/html": [
       "<div style='float:left;background:#960535;padding:10px;width:300px;'></div>"
      ],
      "text/plain": [
       "<IPython.core.display.HTML object>"
      ]
     },
     "metadata": {},
     "output_type": "display_data"
    },
    {
     "name": "stdout",
     "output_type": "stream",
     "text": [
      "ground truth\n"
     ]
    },
    {
     "data": {
      "text/html": [
       "<div style='float:left;background:#c33431;padding:10px;width:300px;'></div>"
      ],
      "text/plain": [
       "<IPython.core.display.HTML object>"
      ]
     },
     "metadata": {},
     "output_type": "display_data"
    },
    {
     "name": "stdout",
     "output_type": "stream",
     "text": [
      "----------------------------\n",
      "color name :  earth in red sol\n",
      "generated\n"
     ]
    },
    {
     "data": {
      "text/html": [
       "<div style='float:left;background:#6d5771;padding:10px;width:300px;'></div>"
      ],
      "text/plain": [
       "<IPython.core.display.HTML object>"
      ]
     },
     "metadata": {},
     "output_type": "display_data"
    },
    {
     "name": "stdout",
     "output_type": "stream",
     "text": [
      "ground truth\n"
     ]
    },
    {
     "data": {
      "text/html": [
       "<div style='float:left;background:#b7342c;padding:10px;width:300px;'></div>"
      ],
      "text/plain": [
       "<IPython.core.display.HTML object>"
      ]
     },
     "metadata": {},
     "output_type": "display_data"
    },
    {
     "name": "stdout",
     "output_type": "stream",
     "text": [
      "----------------------------\n",
      "color name :  froglord red apc\n",
      "generated\n"
     ]
    },
    {
     "data": {
      "text/html": [
       "<div style='float:left;background:#a31021;padding:10px;width:300px;'></div>"
      ],
      "text/plain": [
       "<IPython.core.display.HTML object>"
      ]
     },
     "metadata": {},
     "output_type": "display_data"
    },
    {
     "name": "stdout",
     "output_type": "stream",
     "text": [
      "ground truth\n"
     ]
    },
    {
     "data": {
      "text/html": [
       "<div style='float:left;background:#bf3136;padding:10px;width:300px;'></div>"
      ],
      "text/plain": [
       "<IPython.core.display.HTML object>"
      ]
     },
     "metadata": {},
     "output_type": "display_data"
    },
    {
     "name": "stdout",
     "output_type": "stream",
     "text": [
      "----------------------------\n",
      "color name :  radiant red\n",
      "generated\n"
     ]
    },
    {
     "data": {
      "text/html": [
       "<div style='float:left;background:#e44932;padding:10px;width:300px;'></div>"
      ],
      "text/plain": [
       "<IPython.core.display.HTML object>"
      ]
     },
     "metadata": {},
     "output_type": "display_data"
    },
    {
     "name": "stdout",
     "output_type": "stream",
     "text": [
      "ground truth\n"
     ]
    },
    {
     "data": {
      "text/html": [
       "<div style='float:left;background:#c62c2f;padding:10px;width:300px;'></div>"
      ],
      "text/plain": [
       "<IPython.core.display.HTML object>"
      ]
     },
     "metadata": {},
     "output_type": "display_data"
    },
    {
     "name": "stdout",
     "output_type": "stream",
     "text": [
      "----------------------------\n",
      "color name :  red harvest moon\n",
      "generated\n"
     ]
    },
    {
     "data": {
      "text/html": [
       "<div style='float:left;background:#d57f66;padding:10px;width:300px;'></div>"
      ],
      "text/plain": [
       "<IPython.core.display.HTML object>"
      ]
     },
     "metadata": {},
     "output_type": "display_data"
    },
    {
     "name": "stdout",
     "output_type": "stream",
     "text": [
      "ground truth\n"
     ]
    },
    {
     "data": {
      "text/html": [
       "<div style='float:left;background:#c94433;padding:10px;width:300px;'></div>"
      ],
      "text/plain": [
       "<IPython.core.display.HTML object>"
      ]
     },
     "metadata": {},
     "output_type": "display_data"
    },
    {
     "name": "stdout",
     "output_type": "stream",
     "text": [
      "----------------------------\n",
      "color name :  iamwerkred\n",
      "generated\n"
     ]
    },
    {
     "data": {
      "text/html": [
       "<div style='float:left;background:#f82d19;padding:10px;width:300px;'></div>"
      ],
      "text/plain": [
       "<IPython.core.display.HTML object>"
      ]
     },
     "metadata": {},
     "output_type": "display_data"
    },
    {
     "name": "stdout",
     "output_type": "stream",
     "text": [
      "ground truth\n"
     ]
    },
    {
     "data": {
      "text/html": [
       "<div style='float:left;background:#c63531;padding:10px;width:300px;'></div>"
      ],
      "text/plain": [
       "<IPython.core.display.HTML object>"
      ]
     },
     "metadata": {},
     "output_type": "display_data"
    },
    {
     "name": "stdout",
     "output_type": "stream",
     "text": [
      "----------------------------\n",
      "color name :  reductive poison\n",
      "generated\n"
     ]
    },
    {
     "data": {
      "text/html": [
       "<div style='float:left;background:#1d253f;padding:10px;width:300px;'></div>"
      ],
      "text/plain": [
       "<IPython.core.display.HTML object>"
      ]
     },
     "metadata": {},
     "output_type": "display_data"
    },
    {
     "name": "stdout",
     "output_type": "stream",
     "text": [
      "ground truth\n"
     ]
    },
    {
     "data": {
      "text/html": [
       "<div style='float:left;background:#b05e52;padding:10px;width:300px;'></div>"
      ],
      "text/plain": [
       "<IPython.core.display.HTML object>"
      ]
     },
     "metadata": {},
     "output_type": "display_data"
    },
    {
     "name": "stdout",
     "output_type": "stream",
     "text": [
      "----------------------------\n",
      "color name :  expired cherry\n",
      "generated\n"
     ]
    },
    {
     "data": {
      "text/html": [
       "<div style='float:left;background:#8d256a;padding:10px;width:300px;'></div>"
      ],
      "text/plain": [
       "<IPython.core.display.HTML object>"
      ]
     },
     "metadata": {},
     "output_type": "display_data"
    },
    {
     "name": "stdout",
     "output_type": "stream",
     "text": [
      "ground truth\n"
     ]
    },
    {
     "data": {
      "text/html": [
       "<div style='float:left;background:#c23540;padding:10px;width:300px;'></div>"
      ],
      "text/plain": [
       "<IPython.core.display.HTML object>"
      ]
     },
     "metadata": {},
     "output_type": "display_data"
    },
    {
     "name": "stdout",
     "output_type": "stream",
     "text": [
      "----------------------------\n",
      "color name :  falling reds\n",
      "generated\n"
     ]
    },
    {
     "data": {
      "text/html": [
       "<div style='float:left;background:#69180b;padding:10px;width:300px;'></div>"
      ],
      "text/plain": [
       "<IPython.core.display.HTML object>"
      ]
     },
     "metadata": {},
     "output_type": "display_data"
    },
    {
     "name": "stdout",
     "output_type": "stream",
     "text": [
      "ground truth\n"
     ]
    },
    {
     "data": {
      "text/html": [
       "<div style='float:left;background:#c72c32;padding:10px;width:300px;'></div>"
      ],
      "text/plain": [
       "<IPython.core.display.HTML object>"
      ]
     },
     "metadata": {},
     "output_type": "display_data"
    },
    {
     "name": "stdout",
     "output_type": "stream",
     "text": [
      "----------------------------\n",
      "color name :  currant red\n",
      "generated\n"
     ]
    },
    {
     "data": {
      "text/html": [
       "<div style='float:left;background:#e03a08;padding:10px;width:300px;'></div>"
      ],
      "text/plain": [
       "<IPython.core.display.HTML object>"
      ]
     },
     "metadata": {},
     "output_type": "display_data"
    },
    {
     "name": "stdout",
     "output_type": "stream",
     "text": [
      "ground truth\n"
     ]
    },
    {
     "data": {
      "text/html": [
       "<div style='float:left;background:#be252d;padding:10px;width:300px;'></div>"
      ],
      "text/plain": [
       "<IPython.core.display.HTML object>"
      ]
     },
     "metadata": {},
     "output_type": "display_data"
    },
    {
     "name": "stdout",
     "output_type": "stream",
     "text": [
      "----------------------------\n",
      "color name :  lady bug red\n",
      "generated\n"
     ]
    },
    {
     "data": {
      "text/html": [
       "<div style='float:left;background:#8c0410;padding:10px;width:300px;'></div>"
      ],
      "text/plain": [
       "<IPython.core.display.HTML object>"
      ]
     },
     "metadata": {},
     "output_type": "display_data"
    },
    {
     "name": "stdout",
     "output_type": "stream",
     "text": [
      "ground truth\n"
     ]
    },
    {
     "data": {
      "text/html": [
       "<div style='float:left;background:#c52f32;padding:10px;width:300px;'></div>"
      ],
      "text/plain": [
       "<IPython.core.display.HTML object>"
      ]
     },
     "metadata": {},
     "output_type": "display_data"
    },
    {
     "name": "stdout",
     "output_type": "stream",
     "text": [
      "----------------------------\n",
      "color name :  amelie red\n",
      "generated\n"
     ]
    },
    {
     "data": {
      "text/html": [
       "<div style='float:left;background:#d03226;padding:10px;width:300px;'></div>"
      ],
      "text/plain": [
       "<IPython.core.display.HTML object>"
      ]
     },
     "metadata": {},
     "output_type": "display_data"
    },
    {
     "name": "stdout",
     "output_type": "stream",
     "text": [
      "ground truth\n"
     ]
    },
    {
     "data": {
      "text/html": [
       "<div style='float:left;background:#c42f2f;padding:10px;width:300px;'></div>"
      ],
      "text/plain": [
       "<IPython.core.display.HTML object>"
      ]
     },
     "metadata": {},
     "output_type": "display_data"
    },
    {
     "name": "stdout",
     "output_type": "stream",
     "text": [
      "----------------------------\n",
      "color name :  akari red\n",
      "generated\n"
     ]
    },
    {
     "data": {
      "text/html": [
       "<div style='float:left;background:#993544;padding:10px;width:300px;'></div>"
      ],
      "text/plain": [
       "<IPython.core.display.HTML object>"
      ]
     },
     "metadata": {},
     "output_type": "display_data"
    },
    {
     "name": "stdout",
     "output_type": "stream",
     "text": [
      "ground truth\n"
     ]
    },
    {
     "data": {
      "text/html": [
       "<div style='float:left;background:#c93431;padding:10px;width:300px;'></div>"
      ],
      "text/plain": [
       "<IPython.core.display.HTML object>"
      ]
     },
     "metadata": {},
     "output_type": "display_data"
    },
    {
     "name": "stdout",
     "output_type": "stream",
     "text": [
      "----------------------------\n",
      "color name :  lomo red\n",
      "generated\n"
     ]
    },
    {
     "data": {
      "text/html": [
       "<div style='float:left;background:#c50a07;padding:10px;width:300px;'></div>"
      ],
      "text/plain": [
       "<IPython.core.display.HTML object>"
      ]
     },
     "metadata": {},
     "output_type": "display_data"
    },
    {
     "name": "stdout",
     "output_type": "stream",
     "text": [
      "ground truth\n"
     ]
    },
    {
     "data": {
      "text/html": [
       "<div style='float:left;background:#ca3637;padding:10px;width:300px;'></div>"
      ],
      "text/plain": [
       "<IPython.core.display.HTML object>"
      ]
     },
     "metadata": {},
     "output_type": "display_data"
    },
    {
     "name": "stdout",
     "output_type": "stream",
     "text": [
      "----------------------------\n",
      "color name :  ripe tomato red\n",
      "generated\n"
     ]
    },
    {
     "data": {
      "text/html": [
       "<div style='float:left;background:#ea092b;padding:10px;width:300px;'></div>"
      ],
      "text/plain": [
       "<IPython.core.display.HTML object>"
      ]
     },
     "metadata": {},
     "output_type": "display_data"
    },
    {
     "name": "stdout",
     "output_type": "stream",
     "text": [
      "ground truth\n"
     ]
    },
    {
     "data": {
      "text/html": [
       "<div style='float:left;background:#c9312f;padding:10px;width:300px;'></div>"
      ],
      "text/plain": [
       "<IPython.core.display.HTML object>"
      ]
     },
     "metadata": {},
     "output_type": "display_data"
    },
    {
     "name": "stdout",
     "output_type": "stream",
     "text": [
      "----------------------------\n",
      "color name :  charming red\n",
      "generated\n"
     ]
    },
    {
     "data": {
      "text/html": [
       "<div style='float:left;background:#e90330;padding:10px;width:300px;'></div>"
      ],
      "text/plain": [
       "<IPython.core.display.HTML object>"
      ]
     },
     "metadata": {},
     "output_type": "display_data"
    },
    {
     "name": "stdout",
     "output_type": "stream",
     "text": [
      "ground truth\n"
     ]
    },
    {
     "data": {
      "text/html": [
       "<div style='float:left;background:#c32b33;padding:10px;width:300px;'></div>"
      ],
      "text/plain": [
       "<IPython.core.display.HTML object>"
      ]
     },
     "metadata": {},
     "output_type": "display_data"
    },
    {
     "name": "stdout",
     "output_type": "stream",
     "text": [
      "----------------------------\n",
      "color name :  tired leaf\n",
      "generated\n"
     ]
    },
    {
     "data": {
      "text/html": [
       "<div style='float:left;background:#829d30;padding:10px;width:300px;'></div>"
      ],
      "text/plain": [
       "<IPython.core.display.HTML object>"
      ]
     },
     "metadata": {},
     "output_type": "display_data"
    },
    {
     "name": "stdout",
     "output_type": "stream",
     "text": [
      "ground truth\n"
     ]
    },
    {
     "data": {
      "text/html": [
       "<div style='float:left;background:#7d9f54;padding:10px;width:300px;'></div>"
      ],
      "text/plain": [
       "<IPython.core.display.HTML object>"
      ]
     },
     "metadata": {},
     "output_type": "display_data"
    },
    {
     "name": "stdout",
     "output_type": "stream",
     "text": [
      "----------------------------\n",
      "color name :  sacred passage\n",
      "generated\n"
     ]
    },
    {
     "data": {
      "text/html": [
       "<div style='float:left;background:#d067d9;padding:10px;width:300px;'></div>"
      ],
      "text/plain": [
       "<IPython.core.display.HTML object>"
      ]
     },
     "metadata": {},
     "output_type": "display_data"
    },
    {
     "name": "stdout",
     "output_type": "stream",
     "text": [
      "ground truth\n"
     ]
    },
    {
     "data": {
      "text/html": [
       "<div style='float:left;background:#9b8578;padding:10px;width:300px;'></div>"
      ],
      "text/plain": [
       "<IPython.core.display.HTML object>"
      ]
     },
     "metadata": {},
     "output_type": "display_data"
    },
    {
     "name": "stdout",
     "output_type": "stream",
     "text": [
      "----------------------------\n",
      "color name :  marilyn red\n",
      "generated\n"
     ]
    },
    {
     "data": {
      "text/html": [
       "<div style='float:left;background:#ab1e13;padding:10px;width:300px;'></div>"
      ],
      "text/plain": [
       "<IPython.core.display.HTML object>"
      ]
     },
     "metadata": {},
     "output_type": "display_data"
    },
    {
     "name": "stdout",
     "output_type": "stream",
     "text": [
      "ground truth\n"
     ]
    },
    {
     "data": {
      "text/html": [
       "<div style='float:left;background:#c42b2e;padding:10px;width:300px;'></div>"
      ],
      "text/plain": [
       "<IPython.core.display.HTML object>"
      ]
     },
     "metadata": {},
     "output_type": "display_data"
    },
    {
     "name": "stdout",
     "output_type": "stream",
     "text": [
      "----------------------------\n",
      "color name :  weathered  \n",
      "generated\n"
     ]
    },
    {
     "data": {
      "text/html": [
       "<div style='float:left;background:#95afbf;padding:10px;width:300px;'></div>"
      ],
      "text/plain": [
       "<IPython.core.display.HTML object>"
      ]
     },
     "metadata": {},
     "output_type": "display_data"
    },
    {
     "name": "stdout",
     "output_type": "stream",
     "text": [
      "ground truth\n"
     ]
    },
    {
     "data": {
      "text/html": [
       "<div style='float:left;background:#9e938a;padding:10px;width:300px;'></div>"
      ],
      "text/plain": [
       "<IPython.core.display.HTML object>"
      ]
     },
     "metadata": {},
     "output_type": "display_data"
    },
    {
     "name": "stdout",
     "output_type": "stream",
     "text": [
      "----------------------------\n",
      "color name :  weathered shingles\n",
      "generated\n"
     ]
    },
    {
     "data": {
      "text/html": [
       "<div style='float:left;background:#b5c0b1;padding:10px;width:300px;'></div>"
      ],
      "text/plain": [
       "<IPython.core.display.HTML object>"
      ]
     },
     "metadata": {},
     "output_type": "display_data"
    },
    {
     "name": "stdout",
     "output_type": "stream",
     "text": [
      "ground truth\n"
     ]
    },
    {
     "data": {
      "text/html": [
       "<div style='float:left;background:#a59988;padding:10px;width:300px;'></div>"
      ],
      "text/plain": [
       "<IPython.core.display.HTML object>"
      ]
     },
     "metadata": {},
     "output_type": "display_data"
    },
    {
     "name": "stdout",
     "output_type": "stream",
     "text": [
      "----------------------------\n",
      "color name :  reddy brown\n",
      "generated\n"
     ]
    },
    {
     "data": {
      "text/html": [
       "<div style='float:left;background:#81272e;padding:10px;width:300px;'></div>"
      ],
      "text/plain": [
       "<IPython.core.display.HTML object>"
      ]
     },
     "metadata": {},
     "output_type": "display_data"
    },
    {
     "name": "stdout",
     "output_type": "stream",
     "text": [
      "ground truth\n"
     ]
    },
    {
     "data": {
      "text/html": [
       "<div style='float:left;background:#943526;padding:10px;width:300px;'></div>"
      ],
      "text/plain": [
       "<IPython.core.display.HTML object>"
      ]
     },
     "metadata": {},
     "output_type": "display_data"
    },
    {
     "name": "stdout",
     "output_type": "stream",
     "text": [
      "----------------------------\n",
      "color name :  evanescence reddish\n",
      "generated\n"
     ]
    },
    {
     "data": {
      "text/html": [
       "<div style='float:left;background:#953b4c;padding:10px;width:300px;'></div>"
      ],
      "text/plain": [
       "<IPython.core.display.HTML object>"
      ]
     },
     "metadata": {},
     "output_type": "display_data"
    },
    {
     "name": "stdout",
     "output_type": "stream",
     "text": [
      "ground truth\n"
     ]
    },
    {
     "data": {
      "text/html": [
       "<div style='float:left;background:#c63436;padding:10px;width:300px;'></div>"
      ],
      "text/plain": [
       "<IPython.core.display.HTML object>"
      ]
     },
     "metadata": {},
     "output_type": "display_data"
    },
    {
     "name": "stdout",
     "output_type": "stream",
     "text": [
      "----------------------------\n",
      "color name :  door to red\n",
      "generated\n"
     ]
    },
    {
     "data": {
      "text/html": [
       "<div style='float:left;background:#ec451b;padding:10px;width:300px;'></div>"
      ],
      "text/plain": [
       "<IPython.core.display.HTML object>"
      ]
     },
     "metadata": {},
     "output_type": "display_data"
    },
    {
     "name": "stdout",
     "output_type": "stream",
     "text": [
      "ground truth\n"
     ]
    },
    {
     "data": {
      "text/html": [
       "<div style='float:left;background:#c42f32;padding:10px;width:300px;'></div>"
      ],
      "text/plain": [
       "<IPython.core.display.HTML object>"
      ]
     },
     "metadata": {},
     "output_type": "display_data"
    },
    {
     "name": "stdout",
     "output_type": "stream",
     "text": [
      "----------------------------\n",
      "color name :  slut red\n",
      "generated\n"
     ]
    },
    {
     "data": {
      "text/html": [
       "<div style='float:left;background:#df0d5f;padding:10px;width:300px;'></div>"
      ],
      "text/plain": [
       "<IPython.core.display.HTML object>"
      ]
     },
     "metadata": {},
     "output_type": "display_data"
    },
    {
     "name": "stdout",
     "output_type": "stream",
     "text": [
      "ground truth\n"
     ]
    },
    {
     "data": {
      "text/html": [
       "<div style='float:left;background:#c63234;padding:10px;width:300px;'></div>"
      ],
      "text/plain": [
       "<IPython.core.display.HTML object>"
      ]
     },
     "metadata": {},
     "output_type": "display_data"
    },
    {
     "name": "stdout",
     "output_type": "stream",
     "text": [
      "----------------------------\n",
      "color name :  red turns to green\n",
      "generated\n"
     ]
    },
    {
     "data": {
      "text/html": [
       "<div style='float:left;background:#00e30f;padding:10px;width:300px;'></div>"
      ],
      "text/plain": [
       "<IPython.core.display.HTML object>"
      ]
     },
     "metadata": {},
     "output_type": "display_data"
    },
    {
     "name": "stdout",
     "output_type": "stream",
     "text": [
      "ground truth\n"
     ]
    },
    {
     "data": {
      "text/html": [
       "<div style='float:left;background:#909c43;padding:10px;width:300px;'></div>"
      ],
      "text/plain": [
       "<IPython.core.display.HTML object>"
      ]
     },
     "metadata": {},
     "output_type": "display_data"
    },
    {
     "name": "stdout",
     "output_type": "stream",
     "text": [
      "----------------------------\n",
      "color name :  red fades\n",
      "generated\n"
     ]
    },
    {
     "data": {
      "text/html": [
       "<div style='float:left;background:#c11940;padding:10px;width:300px;'></div>"
      ],
      "text/plain": [
       "<IPython.core.display.HTML object>"
      ]
     },
     "metadata": {},
     "output_type": "display_data"
    },
    {
     "name": "stdout",
     "output_type": "stream",
     "text": [
      "ground truth\n"
     ]
    },
    {
     "data": {
      "text/html": [
       "<div style='float:left;background:#c63732;padding:10px;width:300px;'></div>"
      ],
      "text/plain": [
       "<IPython.core.display.HTML object>"
      ]
     },
     "metadata": {},
     "output_type": "display_data"
    },
    {
     "name": "stdout",
     "output_type": "stream",
     "text": [
      "----------------------------\n",
      "color name :  unemcumbered\n",
      "generated\n"
     ]
    },
    {
     "data": {
      "text/html": [
       "<div style='float:left;background:#e44b69;padding:10px;width:300px;'></div>"
      ],
      "text/plain": [
       "<IPython.core.display.HTML object>"
      ]
     },
     "metadata": {},
     "output_type": "display_data"
    },
    {
     "name": "stdout",
     "output_type": "stream",
     "text": [
      "ground truth\n"
     ]
    },
    {
     "data": {
      "text/html": [
       "<div style='float:left;background:#aa7d5c;padding:10px;width:300px;'></div>"
      ],
      "text/plain": [
       "<IPython.core.display.HTML object>"
      ]
     },
     "metadata": {},
     "output_type": "display_data"
    },
    {
     "name": "stdout",
     "output_type": "stream",
     "text": [
      "----------------------------\n",
      "color name :  clch bordeauxplumred\n",
      "generated\n"
     ]
    },
    {
     "data": {
      "text/html": [
       "<div style='float:left;background:#7a1c37;padding:10px;width:300px;'></div>"
      ],
      "text/plain": [
       "<IPython.core.display.HTML object>"
      ]
     },
     "metadata": {},
     "output_type": "display_data"
    },
    {
     "name": "stdout",
     "output_type": "stream",
     "text": [
      "ground truth\n"
     ]
    },
    {
     "data": {
      "text/html": [
       "<div style='float:left;background:#9a222c;padding:10px;width:300px;'></div>"
      ],
      "text/plain": [
       "<IPython.core.display.HTML object>"
      ]
     },
     "metadata": {},
     "output_type": "display_data"
    },
    {
     "name": "stdout",
     "output_type": "stream",
     "text": [
      "----------------------------\n",
      "color name :  wont be found red\n",
      "generated\n"
     ]
    },
    {
     "data": {
      "text/html": [
       "<div style='float:left;background:#d51176;padding:10px;width:300px;'></div>"
      ],
      "text/plain": [
       "<IPython.core.display.HTML object>"
      ]
     },
     "metadata": {},
     "output_type": "display_data"
    },
    {
     "name": "stdout",
     "output_type": "stream",
     "text": [
      "ground truth\n"
     ]
    },
    {
     "data": {
      "text/html": [
       "<div style='float:left;background:#be3135;padding:10px;width:300px;'></div>"
      ],
      "text/plain": [
       "<IPython.core.display.HTML object>"
      ]
     },
     "metadata": {},
     "output_type": "display_data"
    },
    {
     "name": "stdout",
     "output_type": "stream",
     "text": [
      "----------------------------\n",
      "color name :  rednails\n",
      "generated\n"
     ]
    },
    {
     "data": {
      "text/html": [
       "<div style='float:left;background:#80032a;padding:10px;width:300px;'></div>"
      ],
      "text/plain": [
       "<IPython.core.display.HTML object>"
      ]
     },
     "metadata": {},
     "output_type": "display_data"
    },
    {
     "name": "stdout",
     "output_type": "stream",
     "text": [
      "ground truth\n"
     ]
    },
    {
     "data": {
      "text/html": [
       "<div style='float:left;background:#c33835;padding:10px;width:300px;'></div>"
      ],
      "text/plain": [
       "<IPython.core.display.HTML object>"
      ]
     },
     "metadata": {},
     "output_type": "display_data"
    },
    {
     "name": "stdout",
     "output_type": "stream",
     "text": [
      "----------------------------\n",
      "color name :  yellowredbrown \n",
      "generated\n"
     ]
    },
    {
     "data": {
      "text/html": [
       "<div style='float:left;background:#b58d29;padding:10px;width:300px;'></div>"
      ],
      "text/plain": [
       "<IPython.core.display.HTML object>"
      ]
     },
     "metadata": {},
     "output_type": "display_data"
    },
    {
     "name": "stdout",
     "output_type": "stream",
     "text": [
      "ground truth\n"
     ]
    },
    {
     "data": {
      "text/html": [
       "<div style='float:left;background:#9a802c;padding:10px;width:300px;'></div>"
      ],
      "text/plain": [
       "<IPython.core.display.HTML object>"
      ]
     },
     "metadata": {},
     "output_type": "display_data"
    },
    {
     "name": "stdout",
     "output_type": "stream",
     "text": [
      "----------------------------\n",
      "color name :  captured violet\n",
      "generated\n"
     ]
    },
    {
     "data": {
      "text/html": [
       "<div style='float:left;background:#6802bb;padding:10px;width:300px;'></div>"
      ],
      "text/plain": [
       "<IPython.core.display.HTML object>"
      ]
     },
     "metadata": {},
     "output_type": "display_data"
    },
    {
     "name": "stdout",
     "output_type": "stream",
     "text": [
      "ground truth\n"
     ]
    },
    {
     "data": {
      "text/html": [
       "<div style='float:left;background:#843b9a;padding:10px;width:300px;'></div>"
      ],
      "text/plain": [
       "<IPython.core.display.HTML object>"
      ]
     },
     "metadata": {},
     "output_type": "display_data"
    },
    {
     "name": "stdout",
     "output_type": "stream",
     "text": [
      "----------------------------\n",
      "color name :  red love heart \n",
      "generated\n"
     ]
    },
    {
     "data": {
      "text/html": [
       "<div style='float:left;background:#de1e4b;padding:10px;width:300px;'></div>"
      ],
      "text/plain": [
       "<IPython.core.display.HTML object>"
      ]
     },
     "metadata": {},
     "output_type": "display_data"
    },
    {
     "name": "stdout",
     "output_type": "stream",
     "text": [
      "ground truth\n"
     ]
    },
    {
     "data": {
      "text/html": [
       "<div style='float:left;background:#c02e34;padding:10px;width:300px;'></div>"
      ],
      "text/plain": [
       "<IPython.core.display.HTML object>"
      ]
     },
     "metadata": {},
     "output_type": "display_data"
    },
    {
     "name": "stdout",
     "output_type": "stream",
     "text": [
      "----------------------------\n",
      "color name :  her love unanswered\n",
      "generated\n"
     ]
    },
    {
     "data": {
      "text/html": [
       "<div style='float:left;background:#4c306a;padding:10px;width:300px;'></div>"
      ],
      "text/plain": [
       "<IPython.core.display.HTML object>"
      ]
     },
     "metadata": {},
     "output_type": "display_data"
    },
    {
     "name": "stdout",
     "output_type": "stream",
     "text": [
      "ground truth\n"
     ]
    },
    {
     "data": {
      "text/html": [
       "<div style='float:left;background:#ab7072;padding:10px;width:300px;'></div>"
      ],
      "text/plain": [
       "<IPython.core.display.HTML object>"
      ]
     },
     "metadata": {},
     "output_type": "display_data"
    },
    {
     "name": "stdout",
     "output_type": "stream",
     "text": [
      "----------------------------\n",
      "color name :  bewildered\n",
      "generated\n"
     ]
    },
    {
     "data": {
      "text/html": [
       "<div style='float:left;background:#a56063;padding:10px;width:300px;'></div>"
      ],
      "text/plain": [
       "<IPython.core.display.HTML object>"
      ]
     },
     "metadata": {},
     "output_type": "display_data"
    },
    {
     "name": "stdout",
     "output_type": "stream",
     "text": [
      "ground truth\n"
     ]
    },
    {
     "data": {
      "text/html": [
       "<div style='float:left;background:#b75b57;padding:10px;width:300px;'></div>"
      ],
      "text/plain": [
       "<IPython.core.display.HTML object>"
      ]
     },
     "metadata": {},
     "output_type": "display_data"
    },
    {
     "name": "stdout",
     "output_type": "stream",
     "text": [
      "----------------------------\n",
      "color name :  scarletred\n",
      "generated\n"
     ]
    },
    {
     "data": {
      "text/html": [
       "<div style='float:left;background:#b21a19;padding:10px;width:300px;'></div>"
      ],
      "text/plain": [
       "<IPython.core.display.HTML object>"
      ]
     },
     "metadata": {},
     "output_type": "display_data"
    },
    {
     "name": "stdout",
     "output_type": "stream",
     "text": [
      "ground truth\n"
     ]
    },
    {
     "data": {
      "text/html": [
       "<div style='float:left;background:#c62f32;padding:10px;width:300px;'></div>"
      ],
      "text/plain": [
       "<IPython.core.display.HTML object>"
      ]
     },
     "metadata": {},
     "output_type": "display_data"
    },
    {
     "name": "stdout",
     "output_type": "stream",
     "text": [
      "----------------------------\n",
      "color name :  reddit\n",
      "generated\n"
     ]
    },
    {
     "data": {
      "text/html": [
       "<div style='float:left;background:#c5112d;padding:10px;width:300px;'></div>"
      ],
      "text/plain": [
       "<IPython.core.display.HTML object>"
      ]
     },
     "metadata": {},
     "output_type": "display_data"
    },
    {
     "name": "stdout",
     "output_type": "stream",
     "text": [
      "ground truth\n"
     ]
    },
    {
     "data": {
      "text/html": [
       "<div style='float:left;background:#bf3a34;padding:10px;width:300px;'></div>"
      ],
      "text/plain": [
       "<IPython.core.display.HTML object>"
      ]
     },
     "metadata": {},
     "output_type": "display_data"
    },
    {
     "name": "stdout",
     "output_type": "stream",
     "text": [
      "----------------------------\n",
      "color name :  lusterless red\n",
      "generated\n"
     ]
    },
    {
     "data": {
      "text/html": [
       "<div style='float:left;background:#d34719;padding:10px;width:300px;'></div>"
      ],
      "text/plain": [
       "<IPython.core.display.HTML object>"
      ]
     },
     "metadata": {},
     "output_type": "display_data"
    },
    {
     "name": "stdout",
     "output_type": "stream",
     "text": [
      "ground truth\n"
     ]
    },
    {
     "data": {
      "text/html": [
       "<div style='float:left;background:#c12f34;padding:10px;width:300px;'></div>"
      ],
      "text/plain": [
       "<IPython.core.display.HTML object>"
      ]
     },
     "metadata": {},
     "output_type": "display_data"
    },
    {
     "name": "stdout",
     "output_type": "stream",
     "text": [
      "----------------------------\n",
      "color name :  luscious red\n",
      "generated\n"
     ]
    },
    {
     "data": {
      "text/html": [
       "<div style='float:left;background:#b4112d;padding:10px;width:300px;'></div>"
      ],
      "text/plain": [
       "<IPython.core.display.HTML object>"
      ]
     },
     "metadata": {},
     "output_type": "display_data"
    },
    {
     "name": "stdout",
     "output_type": "stream",
     "text": [
      "ground truth\n"
     ]
    },
    {
     "data": {
      "text/html": [
       "<div style='float:left;background:#c12c35;padding:10px;width:300px;'></div>"
      ],
      "text/plain": [
       "<IPython.core.display.HTML object>"
      ]
     },
     "metadata": {},
     "output_type": "display_data"
    },
    {
     "name": "stdout",
     "output_type": "stream",
     "text": [
      "----------------------------\n",
      "color name :  charred tuna\n",
      "generated\n"
     ]
    },
    {
     "data": {
      "text/html": [
       "<div style='float:left;background:#5d3b2d;padding:10px;width:300px;'></div>"
      ],
      "text/plain": [
       "<IPython.core.display.HTML object>"
      ]
     },
     "metadata": {},
     "output_type": "display_data"
    },
    {
     "name": "stdout",
     "output_type": "stream",
     "text": [
      "ground truth\n"
     ]
    },
    {
     "data": {
      "text/html": [
       "<div style='float:left;background:#9b7973;padding:10px;width:300px;'></div>"
      ],
      "text/plain": [
       "<IPython.core.display.HTML object>"
      ]
     },
     "metadata": {},
     "output_type": "display_data"
    },
    {
     "name": "stdout",
     "output_type": "stream",
     "text": [
      "----------------------------\n",
      "color name :  doorred\n",
      "generated\n"
     ]
    },
    {
     "data": {
      "text/html": [
       "<div style='float:left;background:#e07651;padding:10px;width:300px;'></div>"
      ],
      "text/plain": [
       "<IPython.core.display.HTML object>"
      ]
     },
     "metadata": {},
     "output_type": "display_data"
    },
    {
     "name": "stdout",
     "output_type": "stream",
     "text": [
      "ground truth\n"
     ]
    },
    {
     "data": {
      "text/html": [
       "<div style='float:left;background:#ca6359;padding:10px;width:300px;'></div>"
      ],
      "text/plain": [
       "<IPython.core.display.HTML object>"
      ]
     },
     "metadata": {},
     "output_type": "display_data"
    },
    {
     "name": "stdout",
     "output_type": "stream",
     "text": [
      "----------------------------\n",
      "color name :  less red than what\n",
      "generated\n"
     ]
    },
    {
     "data": {
      "text/html": [
       "<div style='float:left;background:#d40e30;padding:10px;width:300px;'></div>"
      ],
      "text/plain": [
       "<IPython.core.display.HTML object>"
      ]
     },
     "metadata": {},
     "output_type": "display_data"
    },
    {
     "name": "stdout",
     "output_type": "stream",
     "text": [
      "ground truth\n"
     ]
    },
    {
     "data": {
      "text/html": [
       "<div style='float:left;background:#b73e3e;padding:10px;width:300px;'></div>"
      ],
      "text/plain": [
       "<IPython.core.display.HTML object>"
      ]
     },
     "metadata": {},
     "output_type": "display_data"
    },
    {
     "name": "stdout",
     "output_type": "stream",
     "text": [
      "----------------------------\n",
      "color name :  beta redish pink\n",
      "generated\n"
     ]
    },
    {
     "data": {
      "text/html": [
       "<div style='float:left;background:#c43352;padding:10px;width:300px;'></div>"
      ],
      "text/plain": [
       "<IPython.core.display.HTML object>"
      ]
     },
     "metadata": {},
     "output_type": "display_data"
    },
    {
     "name": "stdout",
     "output_type": "stream",
     "text": [
      "ground truth\n"
     ]
    },
    {
     "data": {
      "text/html": [
       "<div style='float:left;background:#e15786;padding:10px;width:300px;'></div>"
      ],
      "text/plain": [
       "<IPython.core.display.HTML object>"
      ]
     },
     "metadata": {},
     "output_type": "display_data"
    },
    {
     "name": "stdout",
     "output_type": "stream",
     "text": [
      "----------------------------\n",
      "color name :  mannufactured\n",
      "generated\n"
     ]
    },
    {
     "data": {
      "text/html": [
       "<div style='float:left;background:#bc8889;padding:10px;width:300px;'></div>"
      ],
      "text/plain": [
       "<IPython.core.display.HTML object>"
      ]
     },
     "metadata": {},
     "output_type": "display_data"
    },
    {
     "name": "stdout",
     "output_type": "stream",
     "text": [
      "ground truth\n"
     ]
    },
    {
     "data": {
      "text/html": [
       "<div style='float:left;background:#977b7b;padding:10px;width:300px;'></div>"
      ],
      "text/plain": [
       "<IPython.core.display.HTML object>"
      ]
     },
     "metadata": {},
     "output_type": "display_data"
    },
    {
     "name": "stdout",
     "output_type": "stream",
     "text": [
      "----------------------------\n",
      "color name :  drak red wine\n",
      "generated\n"
     ]
    },
    {
     "data": {
      "text/html": [
       "<div style='float:left;background:#330705;padding:10px;width:300px;'></div>"
      ],
      "text/plain": [
       "<IPython.core.display.HTML object>"
      ]
     },
     "metadata": {},
     "output_type": "display_data"
    },
    {
     "name": "stdout",
     "output_type": "stream",
     "text": [
      "ground truth\n"
     ]
    },
    {
     "data": {
      "text/html": [
       "<div style='float:left;background:#6c101e;padding:10px;width:300px;'></div>"
      ],
      "text/plain": [
       "<IPython.core.display.HTML object>"
      ]
     },
     "metadata": {},
     "output_type": "display_data"
    },
    {
     "name": "stdout",
     "output_type": "stream",
     "text": [
      "----------------------------\n",
      "color name :  lava red goo\n",
      "generated\n"
     ]
    },
    {
     "data": {
      "text/html": [
       "<div style='float:left;background:#c03f39;padding:10px;width:300px;'></div>"
      ],
      "text/plain": [
       "<IPython.core.display.HTML object>"
      ]
     },
     "metadata": {},
     "output_type": "display_data"
    },
    {
     "name": "stdout",
     "output_type": "stream",
     "text": [
      "ground truth\n"
     ]
    },
    {
     "data": {
      "text/html": [
       "<div style='float:left;background:#d03c3a;padding:10px;width:300px;'></div>"
      ],
      "text/plain": [
       "<IPython.core.display.HTML object>"
      ]
     },
     "metadata": {},
     "output_type": "display_data"
    },
    {
     "name": "stdout",
     "output_type": "stream",
     "text": [
      "----------------------------\n",
      "color name :  predawn sky\n",
      "generated\n"
     ]
    },
    {
     "data": {
      "text/html": [
       "<div style='float:left;background:#584d69;padding:10px;width:300px;'></div>"
      ],
      "text/plain": [
       "<IPython.core.display.HTML object>"
      ]
     },
     "metadata": {},
     "output_type": "display_data"
    },
    {
     "name": "stdout",
     "output_type": "stream",
     "text": [
      "ground truth\n"
     ]
    },
    {
     "data": {
      "text/html": [
       "<div style='float:left;background:#85a2c2;padding:10px;width:300px;'></div>"
      ],
      "text/plain": [
       "<IPython.core.display.HTML object>"
      ]
     },
     "metadata": {},
     "output_type": "display_data"
    },
    {
     "name": "stdout",
     "output_type": "stream",
     "text": [
      "----------------------------\n",
      "color name :  frenetic red fairy\n",
      "generated\n"
     ]
    },
    {
     "data": {
      "text/html": [
       "<div style='float:left;background:#eb5356;padding:10px;width:300px;'></div>"
      ],
      "text/plain": [
       "<IPython.core.display.HTML object>"
      ]
     },
     "metadata": {},
     "output_type": "display_data"
    },
    {
     "name": "stdout",
     "output_type": "stream",
     "text": [
      "ground truth\n"
     ]
    },
    {
     "data": {
      "text/html": [
       "<div style='float:left;background:#d13439;padding:10px;width:300px;'></div>"
      ],
      "text/plain": [
       "<IPython.core.display.HTML object>"
      ]
     },
     "metadata": {},
     "output_type": "display_data"
    },
    {
     "name": "stdout",
     "output_type": "stream",
     "text": [
      "----------------------------\n",
      "color name :  pandasquared \n",
      "generated\n"
     ]
    },
    {
     "data": {
      "text/html": [
       "<div style='float:left;background:#00fa8f;padding:10px;width:300px;'></div>"
      ],
      "text/plain": [
       "<IPython.core.display.HTML object>"
      ]
     },
     "metadata": {},
     "output_type": "display_data"
    },
    {
     "name": "stdout",
     "output_type": "stream",
     "text": [
      "ground truth\n"
     ]
    },
    {
     "data": {
      "text/html": [
       "<div style='float:left;background:#a18183;padding:10px;width:300px;'></div>"
      ],
      "text/plain": [
       "<IPython.core.display.HTML object>"
      ]
     },
     "metadata": {},
     "output_type": "display_data"
    },
    {
     "name": "stdout",
     "output_type": "stream",
     "text": [
      "----------------------------\n",
      "color name :  red toile\n",
      "generated\n"
     ]
    },
    {
     "data": {
      "text/html": [
       "<div style='float:left;background:#a5544d;padding:10px;width:300px;'></div>"
      ],
      "text/plain": [
       "<IPython.core.display.HTML object>"
      ]
     },
     "metadata": {},
     "output_type": "display_data"
    },
    {
     "name": "stdout",
     "output_type": "stream",
     "text": [
      "ground truth\n"
     ]
    },
    {
     "data": {
      "text/html": [
       "<div style='float:left;background:#c3332e;padding:10px;width:300px;'></div>"
      ],
      "text/plain": [
       "<IPython.core.display.HTML object>"
      ]
     },
     "metadata": {},
     "output_type": "display_data"
    },
    {
     "name": "stdout",
     "output_type": "stream",
     "text": [
      "----------------------------\n",
      "color name :  chanel red\n",
      "generated\n"
     ]
    },
    {
     "data": {
      "text/html": [
       "<div style='float:left;background:#ec151a;padding:10px;width:300px;'></div>"
      ],
      "text/plain": [
       "<IPython.core.display.HTML object>"
      ]
     },
     "metadata": {},
     "output_type": "display_data"
    },
    {
     "name": "stdout",
     "output_type": "stream",
     "text": [
      "ground truth\n"
     ]
    },
    {
     "data": {
      "text/html": [
       "<div style='float:left;background:#c32833;padding:10px;width:300px;'></div>"
      ],
      "text/plain": [
       "<IPython.core.display.HTML object>"
      ]
     },
     "metadata": {},
     "output_type": "display_data"
    },
    {
     "name": "stdout",
     "output_type": "stream",
     "text": [
      "----------------------------\n",
      "color name :  mcred lite\n",
      "generated\n"
     ]
    },
    {
     "data": {
      "text/html": [
       "<div style='float:left;background:#f6c700;padding:10px;width:300px;'></div>"
      ],
      "text/plain": [
       "<IPython.core.display.HTML object>"
      ]
     },
     "metadata": {},
     "output_type": "display_data"
    },
    {
     "name": "stdout",
     "output_type": "stream",
     "text": [
      "ground truth\n"
     ]
    },
    {
     "data": {
      "text/html": [
       "<div style='float:left;background:#bd5245;padding:10px;width:300px;'></div>"
      ],
      "text/plain": [
       "<IPython.core.display.HTML object>"
      ]
     },
     "metadata": {},
     "output_type": "display_data"
    },
    {
     "name": "stdout",
     "output_type": "stream",
     "text": [
      "----------------------------\n",
      "color name :  layered in couture\n",
      "generated\n"
     ]
    },
    {
     "data": {
      "text/html": [
       "<div style='float:left;background:#4a1933;padding:10px;width:300px;'></div>"
      ],
      "text/plain": [
       "<IPython.core.display.HTML object>"
      ]
     },
     "metadata": {},
     "output_type": "display_data"
    },
    {
     "name": "stdout",
     "output_type": "stream",
     "text": [
      "ground truth\n"
     ]
    },
    {
     "data": {
      "text/html": [
       "<div style='float:left;background:#9f7174;padding:10px;width:300px;'></div>"
      ],
      "text/plain": [
       "<IPython.core.display.HTML object>"
      ]
     },
     "metadata": {},
     "output_type": "display_data"
    },
    {
     "name": "stdout",
     "output_type": "stream",
     "text": [
      "----------------------------\n",
      "color name :  dontclickit red\n",
      "generated\n"
     ]
    },
    {
     "data": {
      "text/html": [
       "<div style='float:left;background:#ac4133;padding:10px;width:300px;'></div>"
      ],
      "text/plain": [
       "<IPython.core.display.HTML object>"
      ]
     },
     "metadata": {},
     "output_type": "display_data"
    },
    {
     "name": "stdout",
     "output_type": "stream",
     "text": [
      "ground truth\n"
     ]
    },
    {
     "data": {
      "text/html": [
       "<div style='float:left;background:#c63034;padding:10px;width:300px;'></div>"
      ],
      "text/plain": [
       "<IPython.core.display.HTML object>"
      ]
     },
     "metadata": {},
     "output_type": "display_data"
    },
    {
     "name": "stdout",
     "output_type": "stream",
     "text": [
      "----------------------------\n",
      "color name :  withered grape\n",
      "generated\n"
     ]
    },
    {
     "data": {
      "text/html": [
       "<div style='float:left;background:#bac396;padding:10px;width:300px;'></div>"
      ],
      "text/plain": [
       "<IPython.core.display.HTML object>"
      ]
     },
     "metadata": {},
     "output_type": "display_data"
    },
    {
     "name": "stdout",
     "output_type": "stream",
     "text": [
      "ground truth\n"
     ]
    },
    {
     "data": {
      "text/html": [
       "<div style='float:left;background:#71346e;padding:10px;width:300px;'></div>"
      ],
      "text/plain": [
       "<IPython.core.display.HTML object>"
      ]
     },
     "metadata": {},
     "output_type": "display_data"
    },
    {
     "name": "stdout",
     "output_type": "stream",
     "text": [
      "----------------------------\n",
      "color name :  checkered\n",
      "generated\n"
     ]
    },
    {
     "data": {
      "text/html": [
       "<div style='float:left;background:#c93114;padding:10px;width:300px;'></div>"
      ],
      "text/plain": [
       "<IPython.core.display.HTML object>"
      ]
     },
     "metadata": {},
     "output_type": "display_data"
    },
    {
     "name": "stdout",
     "output_type": "stream",
     "text": [
      "ground truth\n"
     ]
    },
    {
     "data": {
      "text/html": [
       "<div style='float:left;background:#c16744;padding:10px;width:300px;'></div>"
      ],
      "text/plain": [
       "<IPython.core.display.HTML object>"
      ]
     },
     "metadata": {},
     "output_type": "display_data"
    },
    {
     "name": "stdout",
     "output_type": "stream",
     "text": [
      "----------------------------\n",
      "color name :  red fluo\n",
      "generated\n"
     ]
    },
    {
     "data": {
      "text/html": [
       "<div style='float:left;background:#e7025e;padding:10px;width:300px;'></div>"
      ],
      "text/plain": [
       "<IPython.core.display.HTML object>"
      ]
     },
     "metadata": {},
     "output_type": "display_data"
    },
    {
     "name": "stdout",
     "output_type": "stream",
     "text": [
      "ground truth\n"
     ]
    },
    {
     "data": {
      "text/html": [
       "<div style='float:left;background:#c52d30;padding:10px;width:300px;'></div>"
      ],
      "text/plain": [
       "<IPython.core.display.HTML object>"
      ]
     },
     "metadata": {},
     "output_type": "display_data"
    },
    {
     "name": "stdout",
     "output_type": "stream",
     "text": [
      "----------------------------\n",
      "color name :  ehjustinbieberred\n",
      "generated\n"
     ]
    },
    {
     "data": {
      "text/html": [
       "<div style='float:left;background:#d32f1b;padding:10px;width:300px;'></div>"
      ],
      "text/plain": [
       "<IPython.core.display.HTML object>"
      ]
     },
     "metadata": {},
     "output_type": "display_data"
    },
    {
     "name": "stdout",
     "output_type": "stream",
     "text": [
      "ground truth\n"
     ]
    },
    {
     "data": {
      "text/html": [
       "<div style='float:left;background:#ba3044;padding:10px;width:300px;'></div>"
      ],
      "text/plain": [
       "<IPython.core.display.HTML object>"
      ]
     },
     "metadata": {},
     "output_type": "display_data"
    },
    {
     "name": "stdout",
     "output_type": "stream",
     "text": [
      "----------------------------\n",
      "color name :  my kinda red\n",
      "generated\n"
     ]
    },
    {
     "data": {
      "text/html": [
       "<div style='float:left;background:#830220;padding:10px;width:300px;'></div>"
      ],
      "text/plain": [
       "<IPython.core.display.HTML object>"
      ]
     },
     "metadata": {},
     "output_type": "display_data"
    },
    {
     "name": "stdout",
     "output_type": "stream",
     "text": [
      "ground truth\n"
     ]
    },
    {
     "data": {
      "text/html": [
       "<div style='float:left;background:#c73032;padding:10px;width:300px;'></div>"
      ],
      "text/plain": [
       "<IPython.core.display.HTML object>"
      ]
     },
     "metadata": {},
     "output_type": "display_data"
    },
    {
     "name": "stdout",
     "output_type": "stream",
     "text": [
      "----------------------------\n",
      "color name :  bloody nose red\n",
      "generated\n"
     ]
    },
    {
     "data": {
      "text/html": [
       "<div style='float:left;background:#960c0f;padding:10px;width:300px;'></div>"
      ],
      "text/plain": [
       "<IPython.core.display.HTML object>"
      ]
     },
     "metadata": {},
     "output_type": "display_data"
    },
    {
     "name": "stdout",
     "output_type": "stream",
     "text": [
      "ground truth\n"
     ]
    },
    {
     "data": {
      "text/html": [
       "<div style='float:left;background:#b2252b;padding:10px;width:300px;'></div>"
      ],
      "text/plain": [
       "<IPython.core.display.HTML object>"
      ]
     },
     "metadata": {},
     "output_type": "display_data"
    },
    {
     "name": "stdout",
     "output_type": "stream",
     "text": [
      "----------------------------\n",
      "color name :  tabredepaku\n",
      "generated\n"
     ]
    },
    {
     "data": {
      "text/html": [
       "<div style='float:left;background:#df8cae;padding:10px;width:300px;'></div>"
      ],
      "text/plain": [
       "<IPython.core.display.HTML object>"
      ]
     },
     "metadata": {},
     "output_type": "display_data"
    },
    {
     "name": "stdout",
     "output_type": "stream",
     "text": [
      "ground truth\n"
     ]
    },
    {
     "data": {
      "text/html": [
       "<div style='float:left;background:#b08b74;padding:10px;width:300px;'></div>"
      ],
      "text/plain": [
       "<IPython.core.display.HTML object>"
      ]
     },
     "metadata": {},
     "output_type": "display_data"
    },
    {
     "name": "stdout",
     "output_type": "stream",
     "text": [
      "----------------------------\n",
      "color name :  running red\n",
      "generated\n"
     ]
    },
    {
     "data": {
      "text/html": [
       "<div style='float:left;background:#9a2623;padding:10px;width:300px;'></div>"
      ],
      "text/plain": [
       "<IPython.core.display.HTML object>"
      ]
     },
     "metadata": {},
     "output_type": "display_data"
    },
    {
     "name": "stdout",
     "output_type": "stream",
     "text": [
      "ground truth\n"
     ]
    },
    {
     "data": {
      "text/html": [
       "<div style='float:left;background:#bd272c;padding:10px;width:300px;'></div>"
      ],
      "text/plain": [
       "<IPython.core.display.HTML object>"
      ]
     },
     "metadata": {},
     "output_type": "display_data"
    },
    {
     "name": "stdout",
     "output_type": "stream",
     "text": [
      "----------------------------\n",
      "color name :  navaho red\n",
      "generated\n"
     ]
    },
    {
     "data": {
      "text/html": [
       "<div style='float:left;background:#400906;padding:10px;width:300px;'></div>"
      ],
      "text/plain": [
       "<IPython.core.display.HTML object>"
      ]
     },
     "metadata": {},
     "output_type": "display_data"
    },
    {
     "name": "stdout",
     "output_type": "stream",
     "text": [
      "ground truth\n"
     ]
    },
    {
     "data": {
      "text/html": [
       "<div style='float:left;background:#c22d2e;padding:10px;width:300px;'></div>"
      ],
      "text/plain": [
       "<IPython.core.display.HTML object>"
      ]
     },
     "metadata": {},
     "output_type": "display_data"
    },
    {
     "name": "stdout",
     "output_type": "stream",
     "text": [
      "----------------------------\n",
      "color name :  india red\n",
      "generated\n"
     ]
    },
    {
     "data": {
      "text/html": [
       "<div style='float:left;background:#e05f59;padding:10px;width:300px;'></div>"
      ],
      "text/plain": [
       "<IPython.core.display.HTML object>"
      ]
     },
     "metadata": {},
     "output_type": "display_data"
    },
    {
     "name": "stdout",
     "output_type": "stream",
     "text": [
      "ground truth\n"
     ]
    },
    {
     "data": {
      "text/html": [
       "<div style='float:left;background:#bf2d2e;padding:10px;width:300px;'></div>"
      ],
      "text/plain": [
       "<IPython.core.display.HTML object>"
      ]
     },
     "metadata": {},
     "output_type": "display_data"
    },
    {
     "name": "stdout",
     "output_type": "stream",
     "text": [
      "----------------------------\n",
      "color name :  angelafaye red heart\n",
      "generated\n"
     ]
    },
    {
     "data": {
      "text/html": [
       "<div style='float:left;background:#ce020a;padding:10px;width:300px;'></div>"
      ],
      "text/plain": [
       "<IPython.core.display.HTML object>"
      ]
     },
     "metadata": {},
     "output_type": "display_data"
    },
    {
     "name": "stdout",
     "output_type": "stream",
     "text": [
      "ground truth\n"
     ]
    },
    {
     "data": {
      "text/html": [
       "<div style='float:left;background:#c53c44;padding:10px;width:300px;'></div>"
      ],
      "text/plain": [
       "<IPython.core.display.HTML object>"
      ]
     },
     "metadata": {},
     "output_type": "display_data"
    },
    {
     "name": "stdout",
     "output_type": "stream",
     "text": [
      "----------------------------\n",
      "color name :  berry red lurve\n",
      "generated\n"
     ]
    },
    {
     "data": {
      "text/html": [
       "<div style='float:left;background:#e12739;padding:10px;width:300px;'></div>"
      ],
      "text/plain": [
       "<IPython.core.display.HTML object>"
      ]
     },
     "metadata": {},
     "output_type": "display_data"
    },
    {
     "name": "stdout",
     "output_type": "stream",
     "text": [
      "ground truth\n"
     ]
    },
    {
     "data": {
      "text/html": [
       "<div style='float:left;background:#ac1d30;padding:10px;width:300px;'></div>"
      ],
      "text/plain": [
       "<IPython.core.display.HTML object>"
      ]
     },
     "metadata": {},
     "output_type": "display_data"
    },
    {
     "name": "stdout",
     "output_type": "stream",
     "text": [
      "----------------------------\n",
      "color name :  red mountain\n",
      "generated\n"
     ]
    },
    {
     "data": {
      "text/html": [
       "<div style='float:left;background:#c55a4c;padding:10px;width:300px;'></div>"
      ],
      "text/plain": [
       "<IPython.core.display.HTML object>"
      ]
     },
     "metadata": {},
     "output_type": "display_data"
    },
    {
     "name": "stdout",
     "output_type": "stream",
     "text": [
      "ground truth\n"
     ]
    },
    {
     "data": {
      "text/html": [
       "<div style='float:left;background:#b93331;padding:10px;width:300px;'></div>"
      ],
      "text/plain": [
       "<IPython.core.display.HTML object>"
      ]
     },
     "metadata": {},
     "output_type": "display_data"
    },
    {
     "name": "stdout",
     "output_type": "stream",
     "text": [
      "----------------------------\n",
      "color name :  killer red orange\n",
      "generated\n"
     ]
    },
    {
     "data": {
      "text/html": [
       "<div style='float:left;background:#e5352e;padding:10px;width:300px;'></div>"
      ],
      "text/plain": [
       "<IPython.core.display.HTML object>"
      ]
     },
     "metadata": {},
     "output_type": "display_data"
    },
    {
     "name": "stdout",
     "output_type": "stream",
     "text": [
      "ground truth\n"
     ]
    },
    {
     "data": {
      "text/html": [
       "<div style='float:left;background:#d34b2b;padding:10px;width:300px;'></div>"
      ],
      "text/plain": [
       "<IPython.core.display.HTML object>"
      ]
     },
     "metadata": {},
     "output_type": "display_data"
    },
    {
     "name": "stdout",
     "output_type": "stream",
     "text": [
      "----------------------------\n",
      "color name :  san diego red\n",
      "generated\n"
     ]
    },
    {
     "data": {
      "text/html": [
       "<div style='float:left;background:#d7000c;padding:10px;width:300px;'></div>"
      ],
      "text/plain": [
       "<IPython.core.display.HTML object>"
      ]
     },
     "metadata": {},
     "output_type": "display_data"
    },
    {
     "name": "stdout",
     "output_type": "stream",
     "text": [
      "ground truth\n"
     ]
    },
    {
     "data": {
      "text/html": [
       "<div style='float:left;background:#bd2a2e;padding:10px;width:300px;'></div>"
      ],
      "text/plain": [
       "<IPython.core.display.HTML object>"
      ]
     },
     "metadata": {},
     "output_type": "display_data"
    },
    {
     "name": "stdout",
     "output_type": "stream",
     "text": [
      "----------------------------\n",
      "color name :  red berries\n",
      "generated\n"
     ]
    },
    {
     "data": {
      "text/html": [
       "<div style='float:left;background:#e1492a;padding:10px;width:300px;'></div>"
      ],
      "text/plain": [
       "<IPython.core.display.HTML object>"
      ]
     },
     "metadata": {},
     "output_type": "display_data"
    },
    {
     "name": "stdout",
     "output_type": "stream",
     "text": [
      "ground truth\n"
     ]
    },
    {
     "data": {
      "text/html": [
       "<div style='float:left;background:#b11e2c;padding:10px;width:300px;'></div>"
      ],
      "text/plain": [
       "<IPython.core.display.HTML object>"
      ]
     },
     "metadata": {},
     "output_type": "display_data"
    },
    {
     "name": "stdout",
     "output_type": "stream",
     "text": [
      "----------------------------\n",
      "color name :  party red\n",
      "generated\n"
     ]
    },
    {
     "data": {
      "text/html": [
       "<div style='float:left;background:#ed2f44;padding:10px;width:300px;'></div>"
      ],
      "text/plain": [
       "<IPython.core.display.HTML object>"
      ]
     },
     "metadata": {},
     "output_type": "display_data"
    },
    {
     "name": "stdout",
     "output_type": "stream",
     "text": [
      "ground truth\n"
     ]
    },
    {
     "data": {
      "text/html": [
       "<div style='float:left;background:#c82d34;padding:10px;width:300px;'></div>"
      ],
      "text/plain": [
       "<IPython.core.display.HTML object>"
      ]
     },
     "metadata": {},
     "output_type": "display_data"
    },
    {
     "name": "stdout",
     "output_type": "stream",
     "text": [
      "----------------------------\n",
      "color name :  rip me to shreds\n",
      "generated\n"
     ]
    },
    {
     "data": {
      "text/html": [
       "<div style='float:left;background:#943572;padding:10px;width:300px;'></div>"
      ],
      "text/plain": [
       "<IPython.core.display.HTML object>"
      ]
     },
     "metadata": {},
     "output_type": "display_data"
    },
    {
     "name": "stdout",
     "output_type": "stream",
     "text": [
      "ground truth\n"
     ]
    },
    {
     "data": {
      "text/html": [
       "<div style='float:left;background:#b06d6b;padding:10px;width:300px;'></div>"
      ],
      "text/plain": [
       "<IPython.core.display.HTML object>"
      ]
     },
     "metadata": {},
     "output_type": "display_data"
    },
    {
     "name": "stdout",
     "output_type": "stream",
     "text": [
      "----------------------------\n",
      "color name :  dark bloody red\n",
      "generated\n"
     ]
    },
    {
     "data": {
      "text/html": [
       "<div style='float:left;background:#9e0b29;padding:10px;width:300px;'></div>"
      ],
      "text/plain": [
       "<IPython.core.display.HTML object>"
      ]
     },
     "metadata": {},
     "output_type": "display_data"
    },
    {
     "name": "stdout",
     "output_type": "stream",
     "text": [
      "ground truth\n"
     ]
    },
    {
     "data": {
      "text/html": [
       "<div style='float:left;background:#74161b;padding:10px;width:300px;'></div>"
      ],
      "text/plain": [
       "<IPython.core.display.HTML object>"
      ]
     },
     "metadata": {},
     "output_type": "display_data"
    },
    {
     "name": "stdout",
     "output_type": "stream",
     "text": [
      "----------------------------\n",
      "color name :  red impation\n",
      "generated\n"
     ]
    },
    {
     "data": {
      "text/html": [
       "<div style='float:left;background:#c71c12;padding:10px;width:300px;'></div>"
      ],
      "text/plain": [
       "<IPython.core.display.HTML object>"
      ]
     },
     "metadata": {},
     "output_type": "display_data"
    },
    {
     "name": "stdout",
     "output_type": "stream",
     "text": [
      "ground truth\n"
     ]
    },
    {
     "data": {
      "text/html": [
       "<div style='float:left;background:#c83834;padding:10px;width:300px;'></div>"
      ],
      "text/plain": [
       "<IPython.core.display.HTML object>"
      ]
     },
     "metadata": {},
     "output_type": "display_data"
    },
    {
     "name": "stdout",
     "output_type": "stream",
     "text": [
      "----------------------------\n",
      "color name :  squared\n",
      "generated\n"
     ]
    },
    {
     "data": {
      "text/html": [
       "<div style='float:left;background:#13182a;padding:10px;width:300px;'></div>"
      ],
      "text/plain": [
       "<IPython.core.display.HTML object>"
      ]
     },
     "metadata": {},
     "output_type": "display_data"
    },
    {
     "name": "stdout",
     "output_type": "stream",
     "text": [
      "ground truth\n"
     ]
    },
    {
     "data": {
      "text/html": [
       "<div style='float:left;background:#b57262;padding:10px;width:300px;'></div>"
      ],
      "text/plain": [
       "<IPython.core.display.HTML object>"
      ]
     },
     "metadata": {},
     "output_type": "display_data"
    },
    {
     "name": "stdout",
     "output_type": "stream",
     "text": [
      "----------------------------\n",
      "color name :  ored\n",
      "generated\n"
     ]
    },
    {
     "data": {
      "text/html": [
       "<div style='float:left;background:#eec09a;padding:10px;width:300px;'></div>"
      ],
      "text/plain": [
       "<IPython.core.display.HTML object>"
      ]
     },
     "metadata": {},
     "output_type": "display_data"
    },
    {
     "name": "stdout",
     "output_type": "stream",
     "text": [
      "ground truth\n"
     ]
    },
    {
     "data": {
      "text/html": [
       "<div style='float:left;background:#c96144;padding:10px;width:300px;'></div>"
      ],
      "text/plain": [
       "<IPython.core.display.HTML object>"
      ]
     },
     "metadata": {},
     "output_type": "display_data"
    },
    {
     "name": "stdout",
     "output_type": "stream",
     "text": [
      "----------------------------\n",
      "color name :  whispered words\n",
      "generated\n"
     ]
    },
    {
     "data": {
      "text/html": [
       "<div style='float:left;background:#cfacbe;padding:10px;width:300px;'></div>"
      ],
      "text/plain": [
       "<IPython.core.display.HTML object>"
      ]
     },
     "metadata": {},
     "output_type": "display_data"
    },
    {
     "name": "stdout",
     "output_type": "stream",
     "text": [
      "ground truth\n"
     ]
    },
    {
     "data": {
      "text/html": [
       "<div style='float:left;background:#aa9d91;padding:10px;width:300px;'></div>"
      ],
      "text/plain": [
       "<IPython.core.display.HTML object>"
      ]
     },
     "metadata": {},
     "output_type": "display_data"
    },
    {
     "name": "stdout",
     "output_type": "stream",
     "text": [
      "----------------------------\n",
      "color name :  red pear\n",
      "generated\n"
     ]
    },
    {
     "data": {
      "text/html": [
       "<div style='float:left;background:#a32b28;padding:10px;width:300px;'></div>"
      ],
      "text/plain": [
       "<IPython.core.display.HTML object>"
      ]
     },
     "metadata": {},
     "output_type": "display_data"
    },
    {
     "name": "stdout",
     "output_type": "stream",
     "text": [
      "ground truth\n"
     ]
    },
    {
     "data": {
      "text/html": [
       "<div style='float:left;background:#c43b2f;padding:10px;width:300px;'></div>"
      ],
      "text/plain": [
       "<IPython.core.display.HTML object>"
      ]
     },
     "metadata": {},
     "output_type": "display_data"
    },
    {
     "name": "stdout",
     "output_type": "stream",
     "text": [
      "----------------------------\n",
      "color name :  framboise reduction\n",
      "generated\n"
     ]
    },
    {
     "data": {
      "text/html": [
       "<div style='float:left;background:#d70649;padding:10px;width:300px;'></div>"
      ],
      "text/plain": [
       "<IPython.core.display.HTML object>"
      ]
     },
     "metadata": {},
     "output_type": "display_data"
    },
    {
     "name": "stdout",
     "output_type": "stream",
     "text": [
      "ground truth\n"
     ]
    },
    {
     "data": {
      "text/html": [
       "<div style='float:left;background:#c8454f;padding:10px;width:300px;'></div>"
      ],
      "text/plain": [
       "<IPython.core.display.HTML object>"
      ]
     },
     "metadata": {},
     "output_type": "display_data"
    },
    {
     "name": "stdout",
     "output_type": "stream",
     "text": [
      "----------------------------\n",
      "color name :  miss redemption\n",
      "generated\n"
     ]
    },
    {
     "data": {
      "text/html": [
       "<div style='float:left;background:#8b5da4;padding:10px;width:300px;'></div>"
      ],
      "text/plain": [
       "<IPython.core.display.HTML object>"
      ]
     },
     "metadata": {},
     "output_type": "display_data"
    },
    {
     "name": "stdout",
     "output_type": "stream",
     "text": [
      "ground truth\n"
     ]
    },
    {
     "data": {
      "text/html": [
       "<div style='float:left;background:#a86873;padding:10px;width:300px;'></div>"
      ],
      "text/plain": [
       "<IPython.core.display.HTML object>"
      ]
     },
     "metadata": {},
     "output_type": "display_data"
    },
    {
     "name": "stdout",
     "output_type": "stream",
     "text": [
      "----------------------------\n",
      "color name :  vendredi jaune\n",
      "generated\n"
     ]
    },
    {
     "data": {
      "text/html": [
       "<div style='float:left;background:#f5af0c;padding:10px;width:300px;'></div>"
      ],
      "text/plain": [
       "<IPython.core.display.HTML object>"
      ]
     },
     "metadata": {},
     "output_type": "display_data"
    },
    {
     "name": "stdout",
     "output_type": "stream",
     "text": [
      "ground truth\n"
     ]
    },
    {
     "data": {
      "text/html": [
       "<div style='float:left;background:#a5bb59;padding:10px;width:300px;'></div>"
      ],
      "text/plain": [
       "<IPython.core.display.HTML object>"
      ]
     },
     "metadata": {},
     "output_type": "display_data"
    },
    {
     "name": "stdout",
     "output_type": "stream",
     "text": [
      "----------------------------\n",
      "color name :  mdlip redblue\n",
      "generated\n"
     ]
    },
    {
     "data": {
      "text/html": [
       "<div style='float:left;background:#b67672;padding:10px;width:300px;'></div>"
      ],
      "text/plain": [
       "<IPython.core.display.HTML object>"
      ]
     },
     "metadata": {},
     "output_type": "display_data"
    },
    {
     "name": "stdout",
     "output_type": "stream",
     "text": [
      "ground truth\n"
     ]
    },
    {
     "data": {
      "text/html": [
       "<div style='float:left;background:#733081;padding:10px;width:300px;'></div>"
      ],
      "text/plain": [
       "<IPython.core.display.HTML object>"
      ]
     },
     "metadata": {},
     "output_type": "display_data"
    },
    {
     "name": "stdout",
     "output_type": "stream",
     "text": [
      "----------------------------\n",
      "color name :  murdered bird\n",
      "generated\n"
     ]
    },
    {
     "data": {
      "text/html": [
       "<div style='float:left;background:#6c958d;padding:10px;width:300px;'></div>"
      ],
      "text/plain": [
       "<IPython.core.display.HTML object>"
      ]
     },
     "metadata": {},
     "output_type": "display_data"
    },
    {
     "name": "stdout",
     "output_type": "stream",
     "text": [
      "ground truth\n"
     ]
    },
    {
     "data": {
      "text/html": [
       "<div style='float:left;background:#915331;padding:10px;width:300px;'></div>"
      ],
      "text/plain": [
       "<IPython.core.display.HTML object>"
      ]
     },
     "metadata": {},
     "output_type": "display_data"
    },
    {
     "name": "stdout",
     "output_type": "stream",
     "text": [
      "----------------------------\n",
      "color name :  redathon\n",
      "generated\n"
     ]
    },
    {
     "data": {
      "text/html": [
       "<div style='float:left;background:#f50811;padding:10px;width:300px;'></div>"
      ],
      "text/plain": [
       "<IPython.core.display.HTML object>"
      ]
     },
     "metadata": {},
     "output_type": "display_data"
    },
    {
     "name": "stdout",
     "output_type": "stream",
     "text": [
      "ground truth\n"
     ]
    },
    {
     "data": {
      "text/html": [
       "<div style='float:left;background:#bf4a41;padding:10px;width:300px;'></div>"
      ],
      "text/plain": [
       "<IPython.core.display.HTML object>"
      ]
     },
     "metadata": {},
     "output_type": "display_data"
    },
    {
     "name": "stdout",
     "output_type": "stream",
     "text": [
      "----------------------------\n",
      "color name :  strawberrybrick red\n",
      "generated\n"
     ]
    },
    {
     "data": {
      "text/html": [
       "<div style='float:left;background:#df1910;padding:10px;width:300px;'></div>"
      ],
      "text/plain": [
       "<IPython.core.display.HTML object>"
      ]
     },
     "metadata": {},
     "output_type": "display_data"
    },
    {
     "name": "stdout",
     "output_type": "stream",
     "text": [
      "ground truth\n"
     ]
    },
    {
     "data": {
      "text/html": [
       "<div style='float:left;background:#cf353d;padding:10px;width:300px;'></div>"
      ],
      "text/plain": [
       "<IPython.core.display.HTML object>"
      ]
     },
     "metadata": {},
     "output_type": "display_data"
    },
    {
     "name": "stdout",
     "output_type": "stream",
     "text": [
      "----------------------------\n",
      "color name :  fmp stiletto red\n",
      "generated\n"
     ]
    },
    {
     "data": {
      "text/html": [
       "<div style='float:left;background:#c10105;padding:10px;width:300px;'></div>"
      ],
      "text/plain": [
       "<IPython.core.display.HTML object>"
      ]
     },
     "metadata": {},
     "output_type": "display_data"
    },
    {
     "name": "stdout",
     "output_type": "stream",
     "text": [
      "ground truth\n"
     ]
    },
    {
     "data": {
      "text/html": [
       "<div style='float:left;background:#c42f32;padding:10px;width:300px;'></div>"
      ],
      "text/plain": [
       "<IPython.core.display.HTML object>"
      ]
     },
     "metadata": {},
     "output_type": "display_data"
    },
    {
     "name": "stdout",
     "output_type": "stream",
     "text": [
      "----------------------------\n",
      "color name :  smothered trunk\n",
      "generated\n"
     ]
    },
    {
     "data": {
      "text/html": [
       "<div style='float:left;background:#5a3f0d;padding:10px;width:300px;'></div>"
      ],
      "text/plain": [
       "<IPython.core.display.HTML object>"
      ]
     },
     "metadata": {},
     "output_type": "display_data"
    },
    {
     "name": "stdout",
     "output_type": "stream",
     "text": [
      "ground truth\n"
     ]
    },
    {
     "data": {
      "text/html": [
       "<div style='float:left;background:#8b6e6e;padding:10px;width:300px;'></div>"
      ],
      "text/plain": [
       "<IPython.core.display.HTML object>"
      ]
     },
     "metadata": {},
     "output_type": "display_data"
    },
    {
     "name": "stdout",
     "output_type": "stream",
     "text": [
      "----------------------------\n",
      "color name :  youve suffered\n",
      "generated\n"
     ]
    },
    {
     "data": {
      "text/html": [
       "<div style='float:left;background:#77666d;padding:10px;width:300px;'></div>"
      ],
      "text/plain": [
       "<IPython.core.display.HTML object>"
      ]
     },
     "metadata": {},
     "output_type": "display_data"
    },
    {
     "name": "stdout",
     "output_type": "stream",
     "text": [
      "ground truth\n"
     ]
    },
    {
     "data": {
      "text/html": [
       "<div style='float:left;background:#a8797c;padding:10px;width:300px;'></div>"
      ],
      "text/plain": [
       "<IPython.core.display.HTML object>"
      ]
     },
     "metadata": {},
     "output_type": "display_data"
    },
    {
     "name": "stdout",
     "output_type": "stream",
     "text": [
      "----------------------------\n",
      "color name :  slingshot red\n",
      "generated\n"
     ]
    },
    {
     "data": {
      "text/html": [
       "<div style='float:left;background:#c64b58;padding:10px;width:300px;'></div>"
      ],
      "text/plain": [
       "<IPython.core.display.HTML object>"
      ]
     },
     "metadata": {},
     "output_type": "display_data"
    },
    {
     "name": "stdout",
     "output_type": "stream",
     "text": [
      "ground truth\n"
     ]
    },
    {
     "data": {
      "text/html": [
       "<div style='float:left;background:#c42f33;padding:10px;width:300px;'></div>"
      ],
      "text/plain": [
       "<IPython.core.display.HTML object>"
      ]
     },
     "metadata": {},
     "output_type": "display_data"
    },
    {
     "name": "stdout",
     "output_type": "stream",
     "text": [
      "----------------------------\n",
      "color name :  dungeon red\n",
      "generated\n"
     ]
    },
    {
     "data": {
      "text/html": [
       "<div style='float:left;background:#801331;padding:10px;width:300px;'></div>"
      ],
      "text/plain": [
       "<IPython.core.display.HTML object>"
      ]
     },
     "metadata": {},
     "output_type": "display_data"
    },
    {
     "name": "stdout",
     "output_type": "stream",
     "text": [
      "ground truth\n"
     ]
    },
    {
     "data": {
      "text/html": [
       "<div style='float:left;background:#bb242f;padding:10px;width:300px;'></div>"
      ],
      "text/plain": [
       "<IPython.core.display.HTML object>"
      ]
     },
     "metadata": {},
     "output_type": "display_data"
    },
    {
     "name": "stdout",
     "output_type": "stream",
     "text": [
      "----------------------------\n",
      "color name :  wecallitred\n",
      "generated\n"
     ]
    },
    {
     "data": {
      "text/html": [
       "<div style='float:left;background:#a60136;padding:10px;width:300px;'></div>"
      ],
      "text/plain": [
       "<IPython.core.display.HTML object>"
      ]
     },
     "metadata": {},
     "output_type": "display_data"
    },
    {
     "name": "stdout",
     "output_type": "stream",
     "text": [
      "ground truth\n"
     ]
    },
    {
     "data": {
      "text/html": [
       "<div style='float:left;background:#c44743;padding:10px;width:300px;'></div>"
      ],
      "text/plain": [
       "<IPython.core.display.HTML object>"
      ]
     },
     "metadata": {},
     "output_type": "display_data"
    },
    {
     "name": "stdout",
     "output_type": "stream",
     "text": [
      "----------------------------\n",
      "color name :  people red\n",
      "generated\n"
     ]
    },
    {
     "data": {
      "text/html": [
       "<div style='float:left;background:#782833;padding:10px;width:300px;'></div>"
      ],
      "text/plain": [
       "<IPython.core.display.HTML object>"
      ]
     },
     "metadata": {},
     "output_type": "display_data"
    },
    {
     "name": "stdout",
     "output_type": "stream",
     "text": [
      "ground truth\n"
     ]
    },
    {
     "data": {
      "text/html": [
       "<div style='float:left;background:#c82f32;padding:10px;width:300px;'></div>"
      ],
      "text/plain": [
       "<IPython.core.display.HTML object>"
      ]
     },
     "metadata": {},
     "output_type": "display_data"
    },
    {
     "name": "stdout",
     "output_type": "stream",
     "text": [
      "----------------------------\n",
      "color name :  dizzy red\n",
      "generated\n"
     ]
    },
    {
     "data": {
      "text/html": [
       "<div style='float:left;background:#94131e;padding:10px;width:300px;'></div>"
      ],
      "text/plain": [
       "<IPython.core.display.HTML object>"
      ]
     },
     "metadata": {},
     "output_type": "display_data"
    },
    {
     "name": "stdout",
     "output_type": "stream",
     "text": [
      "ground truth\n"
     ]
    },
    {
     "data": {
      "text/html": [
       "<div style='float:left;background:#c02b2f;padding:10px;width:300px;'></div>"
      ],
      "text/plain": [
       "<IPython.core.display.HTML object>"
      ]
     },
     "metadata": {},
     "output_type": "display_data"
    },
    {
     "name": "stdout",
     "output_type": "stream",
     "text": [
      "----------------------------\n",
      "color name :  resonator red\n",
      "generated\n"
     ]
    },
    {
     "data": {
      "text/html": [
       "<div style='float:left;background:#e00b10;padding:10px;width:300px;'></div>"
      ],
      "text/plain": [
       "<IPython.core.display.HTML object>"
      ]
     },
     "metadata": {},
     "output_type": "display_data"
    },
    {
     "name": "stdout",
     "output_type": "stream",
     "text": [
      "ground truth\n"
     ]
    },
    {
     "data": {
      "text/html": [
       "<div style='float:left;background:#c82f30;padding:10px;width:300px;'></div>"
      ],
      "text/plain": [
       "<IPython.core.display.HTML object>"
      ]
     },
     "metadata": {},
     "output_type": "display_data"
    },
    {
     "name": "stdout",
     "output_type": "stream",
     "text": [
      "----------------------------\n",
      "color name :  blackest red\n",
      "generated\n"
     ]
    },
    {
     "data": {
      "text/html": [
       "<div style='float:left;background:#413233;padding:10px;width:300px;'></div>"
      ],
      "text/plain": [
       "<IPython.core.display.HTML object>"
      ]
     },
     "metadata": {},
     "output_type": "display_data"
    },
    {
     "name": "stdout",
     "output_type": "stream",
     "text": [
      "ground truth\n"
     ]
    },
    {
     "data": {
      "text/html": [
       "<div style='float:left;background:#521314;padding:10px;width:300px;'></div>"
      ],
      "text/plain": [
       "<IPython.core.display.HTML object>"
      ]
     },
     "metadata": {},
     "output_type": "display_data"
    },
    {
     "name": "stdout",
     "output_type": "stream",
     "text": [
      "----------------------------\n",
      "color name :  smeared palest green\n",
      "generated\n"
     ]
    },
    {
     "data": {
      "text/html": [
       "<div style='float:left;background:#e4ebd6;padding:10px;width:300px;'></div>"
      ],
      "text/plain": [
       "<IPython.core.display.HTML object>"
      ]
     },
     "metadata": {},
     "output_type": "display_data"
    },
    {
     "name": "stdout",
     "output_type": "stream",
     "text": [
      "ground truth\n"
     ]
    },
    {
     "data": {
      "text/html": [
       "<div style='float:left;background:#aadda0;padding:10px;width:300px;'></div>"
      ],
      "text/plain": [
       "<IPython.core.display.HTML object>"
      ]
     },
     "metadata": {},
     "output_type": "display_data"
    },
    {
     "name": "stdout",
     "output_type": "stream",
     "text": [
      "----------------------------\n",
      "color name :  clever red kisses\n",
      "generated\n"
     ]
    },
    {
     "data": {
      "text/html": [
       "<div style='float:left;background:#ab031d;padding:10px;width:300px;'></div>"
      ],
      "text/plain": [
       "<IPython.core.display.HTML object>"
      ]
     },
     "metadata": {},
     "output_type": "display_data"
    },
    {
     "name": "stdout",
     "output_type": "stream",
     "text": [
      "ground truth\n"
     ]
    },
    {
     "data": {
      "text/html": [
       "<div style='float:left;background:#c73037;padding:10px;width:300px;'></div>"
      ],
      "text/plain": [
       "<IPython.core.display.HTML object>"
      ]
     },
     "metadata": {},
     "output_type": "display_data"
    },
    {
     "name": "stdout",
     "output_type": "stream",
     "text": [
      "----------------------------\n",
      "color name :  power red\n",
      "generated\n"
     ]
    },
    {
     "data": {
      "text/html": [
       "<div style='float:left;background:#f90b1f;padding:10px;width:300px;'></div>"
      ],
      "text/plain": [
       "<IPython.core.display.HTML object>"
      ]
     },
     "metadata": {},
     "output_type": "display_data"
    },
    {
     "name": "stdout",
     "output_type": "stream",
     "text": [
      "ground truth\n"
     ]
    },
    {
     "data": {
      "text/html": [
       "<div style='float:left;background:#c93133;padding:10px;width:300px;'></div>"
      ],
      "text/plain": [
       "<IPython.core.display.HTML object>"
      ]
     },
     "metadata": {},
     "output_type": "display_data"
    },
    {
     "name": "stdout",
     "output_type": "stream",
     "text": [
      "----------------------------\n",
      "color name :  red rimmed eyes\n",
      "generated\n"
     ]
    },
    {
     "data": {
      "text/html": [
       "<div style='float:left;background:#b4001e;padding:10px;width:300px;'></div>"
      ],
      "text/plain": [
       "<IPython.core.display.HTML object>"
      ]
     },
     "metadata": {},
     "output_type": "display_data"
    },
    {
     "name": "stdout",
     "output_type": "stream",
     "text": [
      "ground truth\n"
     ]
    },
    {
     "data": {
      "text/html": [
       "<div style='float:left;background:#bd2d2c;padding:10px;width:300px;'></div>"
      ],
      "text/plain": [
       "<IPython.core.display.HTML object>"
      ]
     },
     "metadata": {},
     "output_type": "display_data"
    },
    {
     "name": "stdout",
     "output_type": "stream",
     "text": [
      "----------------------------\n",
      "color name :  pure boredom\n",
      "generated\n"
     ]
    },
    {
     "data": {
      "text/html": [
       "<div style='float:left;background:#674b66;padding:10px;width:300px;'></div>"
      ],
      "text/plain": [
       "<IPython.core.display.HTML object>"
      ]
     },
     "metadata": {},
     "output_type": "display_data"
    },
    {
     "name": "stdout",
     "output_type": "stream",
     "text": [
      "ground truth\n"
     ]
    },
    {
     "data": {
      "text/html": [
       "<div style='float:left;background:#a48989;padding:10px;width:300px;'></div>"
      ],
      "text/plain": [
       "<IPython.core.display.HTML object>"
      ]
     },
     "metadata": {},
     "output_type": "display_data"
    },
    {
     "name": "stdout",
     "output_type": "stream",
     "text": [
      "----------------------------\n",
      "color name :  red behind khaki\n",
      "generated\n"
     ]
    },
    {
     "data": {
      "text/html": [
       "<div style='float:left;background:#969418;padding:10px;width:300px;'></div>"
      ],
      "text/plain": [
       "<IPython.core.display.HTML object>"
      ]
     },
     "metadata": {},
     "output_type": "display_data"
    },
    {
     "name": "stdout",
     "output_type": "stream",
     "text": [
      "ground truth\n"
     ]
    },
    {
     "data": {
      "text/html": [
       "<div style='float:left;background:#c76051;padding:10px;width:300px;'></div>"
      ],
      "text/plain": [
       "<IPython.core.display.HTML object>"
      ]
     },
     "metadata": {},
     "output_type": "display_data"
    },
    {
     "name": "stdout",
     "output_type": "stream",
     "text": [
      "----------------------------\n",
      "color name :  panic button red\n",
      "generated\n"
     ]
    },
    {
     "data": {
      "text/html": [
       "<div style='float:left;background:#f51225;padding:10px;width:300px;'></div>"
      ],
      "text/plain": [
       "<IPython.core.display.HTML object>"
      ]
     },
     "metadata": {},
     "output_type": "display_data"
    },
    {
     "name": "stdout",
     "output_type": "stream",
     "text": [
      "ground truth\n"
     ]
    },
    {
     "data": {
      "text/html": [
       "<div style='float:left;background:#ca3733;padding:10px;width:300px;'></div>"
      ],
      "text/plain": [
       "<IPython.core.display.HTML object>"
      ]
     },
     "metadata": {},
     "output_type": "display_data"
    },
    {
     "name": "stdout",
     "output_type": "stream",
     "text": [
      "----------------------------\n",
      "color name :  red fresco glow\n",
      "generated\n"
     ]
    },
    {
     "data": {
      "text/html": [
       "<div style='float:left;background:#e02a3d;padding:10px;width:300px;'></div>"
      ],
      "text/plain": [
       "<IPython.core.display.HTML object>"
      ]
     },
     "metadata": {},
     "output_type": "display_data"
    },
    {
     "name": "stdout",
     "output_type": "stream",
     "text": [
      "ground truth\n"
     ]
    },
    {
     "data": {
      "text/html": [
       "<div style='float:left;background:#cf453a;padding:10px;width:300px;'></div>"
      ],
      "text/plain": [
       "<IPython.core.display.HTML object>"
      ]
     },
     "metadata": {},
     "output_type": "display_data"
    },
    {
     "name": "stdout",
     "output_type": "stream",
     "text": [
      "----------------------------\n",
      "color name :  red on pause\n",
      "generated\n"
     ]
    },
    {
     "data": {
      "text/html": [
       "<div style='float:left;background:#993738;padding:10px;width:300px;'></div>"
      ],
      "text/plain": [
       "<IPython.core.display.HTML object>"
      ]
     },
     "metadata": {},
     "output_type": "display_data"
    },
    {
     "name": "stdout",
     "output_type": "stream",
     "text": [
      "ground truth\n"
     ]
    },
    {
     "data": {
      "text/html": [
       "<div style='float:left;background:#ca403d;padding:10px;width:300px;'></div>"
      ],
      "text/plain": [
       "<IPython.core.display.HTML object>"
      ]
     },
     "metadata": {},
     "output_type": "display_data"
    },
    {
     "name": "stdout",
     "output_type": "stream",
     "text": [
      "----------------------------\n",
      "color name :  life by red\n",
      "generated\n"
     ]
    },
    {
     "data": {
      "text/html": [
       "<div style='float:left;background:#e42534;padding:10px;width:300px;'></div>"
      ],
      "text/plain": [
       "<IPython.core.display.HTML object>"
      ]
     },
     "metadata": {},
     "output_type": "display_data"
    },
    {
     "name": "stdout",
     "output_type": "stream",
     "text": [
      "ground truth\n"
     ]
    },
    {
     "data": {
      "text/html": [
       "<div style='float:left;background:#c23336;padding:10px;width:300px;'></div>"
      ],
      "text/plain": [
       "<IPython.core.display.HTML object>"
      ]
     },
     "metadata": {},
     "output_type": "display_data"
    },
    {
     "name": "stdout",
     "output_type": "stream",
     "text": [
      "----------------------------\n",
      "color name :  red of love\n",
      "generated\n"
     ]
    },
    {
     "data": {
      "text/html": [
       "<div style='float:left;background:#a13e3b;padding:10px;width:300px;'></div>"
      ],
      "text/plain": [
       "<IPython.core.display.HTML object>"
      ]
     },
     "metadata": {},
     "output_type": "display_data"
    },
    {
     "name": "stdout",
     "output_type": "stream",
     "text": [
      "ground truth\n"
     ]
    },
    {
     "data": {
      "text/html": [
       "<div style='float:left;background:#c73334;padding:10px;width:300px;'></div>"
      ],
      "text/plain": [
       "<IPython.core.display.HTML object>"
      ]
     },
     "metadata": {},
     "output_type": "display_data"
    },
    {
     "name": "stdout",
     "output_type": "stream",
     "text": [
      "----------------------------\n",
      "color name :  maiden red\n",
      "generated\n"
     ]
    },
    {
     "data": {
      "text/html": [
       "<div style='float:left;background:#f52a4a;padding:10px;width:300px;'></div>"
      ],
      "text/plain": [
       "<IPython.core.display.HTML object>"
      ]
     },
     "metadata": {},
     "output_type": "display_data"
    },
    {
     "name": "stdout",
     "output_type": "stream",
     "text": [
      "ground truth\n"
     ]
    },
    {
     "data": {
      "text/html": [
       "<div style='float:left;background:#c32e2f;padding:10px;width:300px;'></div>"
      ],
      "text/plain": [
       "<IPython.core.display.HTML object>"
      ]
     },
     "metadata": {},
     "output_type": "display_data"
    },
    {
     "name": "stdout",
     "output_type": "stream",
     "text": [
      "----------------------------\n",
      "color name :  red fridge\n",
      "generated\n"
     ]
    },
    {
     "data": {
      "text/html": [
       "<div style='float:left;background:#dd2b19;padding:10px;width:300px;'></div>"
      ],
      "text/plain": [
       "<IPython.core.display.HTML object>"
      ]
     },
     "metadata": {},
     "output_type": "display_data"
    },
    {
     "name": "stdout",
     "output_type": "stream",
     "text": [
      "ground truth\n"
     ]
    },
    {
     "data": {
      "text/html": [
       "<div style='float:left;background:#c7332f;padding:10px;width:300px;'></div>"
      ],
      "text/plain": [
       "<IPython.core.display.HTML object>"
      ]
     },
     "metadata": {},
     "output_type": "display_data"
    },
    {
     "name": "stdout",
     "output_type": "stream",
     "text": [
      "----------------------------\n",
      "color name :  red velvet shadows\n",
      "generated\n"
     ]
    },
    {
     "data": {
      "text/html": [
       "<div style='float:left;background:#975653;padding:10px;width:300px;'></div>"
      ],
      "text/plain": [
       "<IPython.core.display.HTML object>"
      ]
     },
     "metadata": {},
     "output_type": "display_data"
    },
    {
     "name": "stdout",
     "output_type": "stream",
     "text": [
      "ground truth\n"
     ]
    },
    {
     "data": {
      "text/html": [
       "<div style='float:left;background:#732425;padding:10px;width:300px;'></div>"
      ],
      "text/plain": [
       "<IPython.core.display.HTML object>"
      ]
     },
     "metadata": {},
     "output_type": "display_data"
    },
    {
     "name": "stdout",
     "output_type": "stream",
     "text": [
      "----------------------------\n",
      "color name :  coloured pipes\n",
      "generated\n"
     ]
    },
    {
     "data": {
      "text/html": [
       "<div style='float:left;background:#00f092;padding:10px;width:300px;'></div>"
      ],
      "text/plain": [
       "<IPython.core.display.HTML object>"
      ]
     },
     "metadata": {},
     "output_type": "display_data"
    },
    {
     "name": "stdout",
     "output_type": "stream",
     "text": [
      "ground truth\n"
     ]
    },
    {
     "data": {
      "text/html": [
       "<div style='float:left;background:#b3705f;padding:10px;width:300px;'></div>"
      ],
      "text/plain": [
       "<IPython.core.display.HTML object>"
      ]
     },
     "metadata": {},
     "output_type": "display_data"
    },
    {
     "name": "stdout",
     "output_type": "stream",
     "text": [
      "----------------------------\n",
      "color name :  red chalk\n",
      "generated\n"
     ]
    },
    {
     "data": {
      "text/html": [
       "<div style='float:left;background:#bd6669;padding:10px;width:300px;'></div>"
      ],
      "text/plain": [
       "<IPython.core.display.HTML object>"
      ]
     },
     "metadata": {},
     "output_type": "display_data"
    },
    {
     "name": "stdout",
     "output_type": "stream",
     "text": [
      "ground truth\n"
     ]
    },
    {
     "data": {
      "text/html": [
       "<div style='float:left;background:#c63937;padding:10px;width:300px;'></div>"
      ],
      "text/plain": [
       "<IPython.core.display.HTML object>"
      ]
     },
     "metadata": {},
     "output_type": "display_data"
    },
    {
     "name": "stdout",
     "output_type": "stream",
     "text": [
      "----------------------------\n",
      "color name :  i turned beet red\n",
      "generated\n"
     ]
    },
    {
     "data": {
      "text/html": [
       "<div style='float:left;background:#ae201f;padding:10px;width:300px;'></div>"
      ],
      "text/plain": [
       "<IPython.core.display.HTML object>"
      ]
     },
     "metadata": {},
     "output_type": "display_data"
    },
    {
     "name": "stdout",
     "output_type": "stream",
     "text": [
      "ground truth\n"
     ]
    },
    {
     "data": {
      "text/html": [
       "<div style='float:left;background:#b22e30;padding:10px;width:300px;'></div>"
      ],
      "text/plain": [
       "<IPython.core.display.HTML object>"
      ]
     },
     "metadata": {},
     "output_type": "display_data"
    },
    {
     "name": "stdout",
     "output_type": "stream",
     "text": [
      "----------------------------\n",
      "color name :  redico\n",
      "generated\n"
     ]
    },
    {
     "data": {
      "text/html": [
       "<div style='float:left;background:#ef0f12;padding:10px;width:300px;'></div>"
      ],
      "text/plain": [
       "<IPython.core.display.HTML object>"
      ]
     },
     "metadata": {},
     "output_type": "display_data"
    },
    {
     "name": "stdout",
     "output_type": "stream",
     "text": [
      "ground truth\n"
     ]
    },
    {
     "data": {
      "text/html": [
       "<div style='float:left;background:#c7413b;padding:10px;width:300px;'></div>"
      ],
      "text/plain": [
       "<IPython.core.display.HTML object>"
      ]
     },
     "metadata": {},
     "output_type": "display_data"
    },
    {
     "name": "stdout",
     "output_type": "stream",
     "text": [
      "----------------------------\n",
      "color name :  cathredal bells\n",
      "generated\n"
     ]
    },
    {
     "data": {
      "text/html": [
       "<div style='float:left;background:#8b418f;padding:10px;width:300px;'></div>"
      ],
      "text/plain": [
       "<IPython.core.display.HTML object>"
      ]
     },
     "metadata": {},
     "output_type": "display_data"
    },
    {
     "name": "stdout",
     "output_type": "stream",
     "text": [
      "ground truth\n"
     ]
    },
    {
     "data": {
      "text/html": [
       "<div style='float:left;background:#a57b6c;padding:10px;width:300px;'></div>"
      ],
      "text/plain": [
       "<IPython.core.display.HTML object>"
      ]
     },
     "metadata": {},
     "output_type": "display_data"
    },
    {
     "name": "stdout",
     "output_type": "stream",
     "text": [
      "----------------------------\n",
      "color name :  uncensored smut\n",
      "generated\n"
     ]
    },
    {
     "data": {
      "text/html": [
       "<div style='float:left;background:#df3541;padding:10px;width:300px;'></div>"
      ],
      "text/plain": [
       "<IPython.core.display.HTML object>"
      ]
     },
     "metadata": {},
     "output_type": "display_data"
    },
    {
     "name": "stdout",
     "output_type": "stream",
     "text": [
      "ground truth\n"
     ]
    },
    {
     "data": {
      "text/html": [
       "<div style='float:left;background:#a07a76;padding:10px;width:300px;'></div>"
      ],
      "text/plain": [
       "<IPython.core.display.HTML object>"
      ]
     },
     "metadata": {},
     "output_type": "display_data"
    },
    {
     "name": "stdout",
     "output_type": "stream",
     "text": [
      "----------------------------\n",
      "color name :  helenreddyflesh\n",
      "generated\n"
     ]
    },
    {
     "data": {
      "text/html": [
       "<div style='float:left;background:#f4e4cc;padding:10px;width:300px;'></div>"
      ],
      "text/plain": [
       "<IPython.core.display.HTML object>"
      ]
     },
     "metadata": {},
     "output_type": "display_data"
    },
    {
     "name": "stdout",
     "output_type": "stream",
     "text": [
      "ground truth\n"
     ]
    },
    {
     "data": {
      "text/html": [
       "<div style='float:left;background:#d4574c;padding:10px;width:300px;'></div>"
      ],
      "text/plain": [
       "<IPython.core.display.HTML object>"
      ]
     },
     "metadata": {},
     "output_type": "display_data"
    },
    {
     "name": "stdout",
     "output_type": "stream",
     "text": [
      "----------------------------\n",
      "color name :  chinese red dragon\n",
      "generated\n"
     ]
    },
    {
     "data": {
      "text/html": [
       "<div style='float:left;background:#b43527;padding:10px;width:300px;'></div>"
      ],
      "text/plain": [
       "<IPython.core.display.HTML object>"
      ]
     },
     "metadata": {},
     "output_type": "display_data"
    },
    {
     "name": "stdout",
     "output_type": "stream",
     "text": [
      "ground truth\n"
     ]
    },
    {
     "data": {
      "text/html": [
       "<div style='float:left;background:#ba282f;padding:10px;width:300px;'></div>"
      ],
      "text/plain": [
       "<IPython.core.display.HTML object>"
      ]
     },
     "metadata": {},
     "output_type": "display_data"
    },
    {
     "name": "stdout",
     "output_type": "stream",
     "text": [
      "----------------------------\n",
      "color name :  captured moonbeam\n",
      "generated\n"
     ]
    },
    {
     "data": {
      "text/html": [
       "<div style='float:left;background:#53155d;padding:10px;width:300px;'></div>"
      ],
      "text/plain": [
       "<IPython.core.display.HTML object>"
      ]
     },
     "metadata": {},
     "output_type": "display_data"
    },
    {
     "name": "stdout",
     "output_type": "stream",
     "text": [
      "ground truth\n"
     ]
    },
    {
     "data": {
      "text/html": [
       "<div style='float:left;background:#9e868b;padding:10px;width:300px;'></div>"
      ],
      "text/plain": [
       "<IPython.core.display.HTML object>"
      ]
     },
     "metadata": {},
     "output_type": "display_data"
    },
    {
     "name": "stdout",
     "output_type": "stream",
     "text": [
      "----------------------------\n",
      "color name :  leafy red\n",
      "generated\n"
     ]
    },
    {
     "data": {
      "text/html": [
       "<div style='float:left;background:#d52426;padding:10px;width:300px;'></div>"
      ],
      "text/plain": [
       "<IPython.core.display.HTML object>"
      ]
     },
     "metadata": {},
     "output_type": "display_data"
    },
    {
     "name": "stdout",
     "output_type": "stream",
     "text": [
      "ground truth\n"
     ]
    },
    {
     "data": {
      "text/html": [
       "<div style='float:left;background:#bf322d;padding:10px;width:300px;'></div>"
      ],
      "text/plain": [
       "<IPython.core.display.HTML object>"
      ]
     },
     "metadata": {},
     "output_type": "display_data"
    },
    {
     "name": "stdout",
     "output_type": "stream",
     "text": [
      "----------------------------\n",
      "color name :  milk red\n",
      "generated\n"
     ]
    },
    {
     "data": {
      "text/html": [
       "<div style='float:left;background:#fa3518;padding:10px;width:300px;'></div>"
      ],
      "text/plain": [
       "<IPython.core.display.HTML object>"
      ]
     },
     "metadata": {},
     "output_type": "display_data"
    },
    {
     "name": "stdout",
     "output_type": "stream",
     "text": [
      "ground truth\n"
     ]
    },
    {
     "data": {
      "text/html": [
       "<div style='float:left;background:#ce3f37;padding:10px;width:300px;'></div>"
      ],
      "text/plain": [
       "<IPython.core.display.HTML object>"
      ]
     },
     "metadata": {},
     "output_type": "display_data"
    },
    {
     "name": "stdout",
     "output_type": "stream",
     "text": [
      "----------------------------\n",
      "color name :  redtime\n",
      "generated\n"
     ]
    },
    {
     "data": {
      "text/html": [
       "<div style='float:left;background:#dd4546;padding:10px;width:300px;'></div>"
      ],
      "text/plain": [
       "<IPython.core.display.HTML object>"
      ]
     },
     "metadata": {},
     "output_type": "display_data"
    },
    {
     "name": "stdout",
     "output_type": "stream",
     "text": [
      "ground truth\n"
     ]
    },
    {
     "data": {
      "text/html": [
       "<div style='float:left;background:#c1423a;padding:10px;width:300px;'></div>"
      ],
      "text/plain": [
       "<IPython.core.display.HTML object>"
      ]
     },
     "metadata": {},
     "output_type": "display_data"
    },
    {
     "name": "stdout",
     "output_type": "stream",
     "text": [
      "----------------------------\n",
      "color name :  sunset deep red\n",
      "generated\n"
     ]
    },
    {
     "data": {
      "text/html": [
       "<div style='float:left;background:#a83c52;padding:10px;width:300px;'></div>"
      ],
      "text/plain": [
       "<IPython.core.display.HTML object>"
      ]
     },
     "metadata": {},
     "output_type": "display_data"
    },
    {
     "name": "stdout",
     "output_type": "stream",
     "text": [
      "ground truth\n"
     ]
    },
    {
     "data": {
      "text/html": [
       "<div style='float:left;background:#af2b2b;padding:10px;width:300px;'></div>"
      ],
      "text/plain": [
       "<IPython.core.display.HTML object>"
      ]
     },
     "metadata": {},
     "output_type": "display_data"
    },
    {
     "name": "stdout",
     "output_type": "stream",
     "text": [
      "----------------------------\n",
      "color name :  devil apple red\n",
      "generated\n"
     ]
    },
    {
     "data": {
      "text/html": [
       "<div style='float:left;background:#ba1a02;padding:10px;width:300px;'></div>"
      ],
      "text/plain": [
       "<IPython.core.display.HTML object>"
      ]
     },
     "metadata": {},
     "output_type": "display_data"
    },
    {
     "name": "stdout",
     "output_type": "stream",
     "text": [
      "ground truth\n"
     ]
    },
    {
     "data": {
      "text/html": [
       "<div style='float:left;background:#a31d27;padding:10px;width:300px;'></div>"
      ],
      "text/plain": [
       "<IPython.core.display.HTML object>"
      ]
     },
     "metadata": {},
     "output_type": "display_data"
    },
    {
     "name": "stdout",
     "output_type": "stream",
     "text": [
      "----------------------------\n",
      "color name :  red dirt road\n",
      "generated\n"
     ]
    },
    {
     "data": {
      "text/html": [
       "<div style='float:left;background:#8b0320;padding:10px;width:300px;'></div>"
      ],
      "text/plain": [
       "<IPython.core.display.HTML object>"
      ]
     },
     "metadata": {},
     "output_type": "display_data"
    },
    {
     "name": "stdout",
     "output_type": "stream",
     "text": [
      "ground truth\n"
     ]
    },
    {
     "data": {
      "text/html": [
       "<div style='float:left;background:#b82b26;padding:10px;width:300px;'></div>"
      ],
      "text/plain": [
       "<IPython.core.display.HTML object>"
      ]
     },
     "metadata": {},
     "output_type": "display_data"
    },
    {
     "name": "stdout",
     "output_type": "stream",
     "text": [
      "----------------------------\n",
      "color name :  teared plum\n",
      "generated\n"
     ]
    },
    {
     "data": {
      "text/html": [
       "<div style='float:left;background:#5e515e;padding:10px;width:300px;'></div>"
      ],
      "text/plain": [
       "<IPython.core.display.HTML object>"
      ]
     },
     "metadata": {},
     "output_type": "display_data"
    },
    {
     "name": "stdout",
     "output_type": "stream",
     "text": [
      "ground truth\n"
     ]
    },
    {
     "data": {
      "text/html": [
       "<div style='float:left;background:#734260;padding:10px;width:300px;'></div>"
      ],
      "text/plain": [
       "<IPython.core.display.HTML object>"
      ]
     },
     "metadata": {},
     "output_type": "display_data"
    },
    {
     "name": "stdout",
     "output_type": "stream",
     "text": [
      "----------------------------\n",
      "color name :  dawn red\n",
      "generated\n"
     ]
    },
    {
     "data": {
      "text/html": [
       "<div style='float:left;background:#c02932;padding:10px;width:300px;'></div>"
      ],
      "text/plain": [
       "<IPython.core.display.HTML object>"
      ]
     },
     "metadata": {},
     "output_type": "display_data"
    },
    {
     "name": "stdout",
     "output_type": "stream",
     "text": [
      "ground truth\n"
     ]
    },
    {
     "data": {
      "text/html": [
       "<div style='float:left;background:#c02b2e;padding:10px;width:300px;'></div>"
      ],
      "text/plain": [
       "<IPython.core.display.HTML object>"
      ]
     },
     "metadata": {},
     "output_type": "display_data"
    },
    {
     "name": "stdout",
     "output_type": "stream",
     "text": [
      "----------------------------\n",
      "color name :  tored\n",
      "generated\n"
     ]
    },
    {
     "data": {
      "text/html": [
       "<div style='float:left;background:#f53e40;padding:10px;width:300px;'></div>"
      ],
      "text/plain": [
       "<IPython.core.display.HTML object>"
      ]
     },
     "metadata": {},
     "output_type": "display_data"
    },
    {
     "name": "stdout",
     "output_type": "stream",
     "text": [
      "ground truth\n"
     ]
    },
    {
     "data": {
      "text/html": [
       "<div style='float:left;background:#ba6a53;padding:10px;width:300px;'></div>"
      ],
      "text/plain": [
       "<IPython.core.display.HTML object>"
      ]
     },
     "metadata": {},
     "output_type": "display_data"
    },
    {
     "name": "stdout",
     "output_type": "stream",
     "text": [
      "----------------------------\n",
      "color name :  duskred\n",
      "generated\n"
     ]
    },
    {
     "data": {
      "text/html": [
       "<div style='float:left;background:#893615;padding:10px;width:300px;'></div>"
      ],
      "text/plain": [
       "<IPython.core.display.HTML object>"
      ]
     },
     "metadata": {},
     "output_type": "display_data"
    },
    {
     "name": "stdout",
     "output_type": "stream",
     "text": [
      "ground truth\n"
     ]
    },
    {
     "data": {
      "text/html": [
       "<div style='float:left;background:#b36456;padding:10px;width:300px;'></div>"
      ],
      "text/plain": [
       "<IPython.core.display.HTML object>"
      ]
     },
     "metadata": {},
     "output_type": "display_data"
    },
    {
     "name": "stdout",
     "output_type": "stream",
     "text": [
      "----------------------------\n",
      "color name :  tattered and torn\n",
      "generated\n"
     ]
    },
    {
     "data": {
      "text/html": [
       "<div style='float:left;background:#5e3a4d;padding:10px;width:300px;'></div>"
      ],
      "text/plain": [
       "<IPython.core.display.HTML object>"
      ]
     },
     "metadata": {},
     "output_type": "display_data"
    },
    {
     "name": "stdout",
     "output_type": "stream",
     "text": [
      "ground truth\n"
     ]
    },
    {
     "data": {
      "text/html": [
       "<div style='float:left;background:#a98674;padding:10px;width:300px;'></div>"
      ],
      "text/plain": [
       "<IPython.core.display.HTML object>"
      ]
     },
     "metadata": {},
     "output_type": "display_data"
    },
    {
     "name": "stdout",
     "output_type": "stream",
     "text": [
      "----------------------------\n",
      "color name :  weird red\n",
      "generated\n"
     ]
    },
    {
     "data": {
      "text/html": [
       "<div style='float:left;background:#863554;padding:10px;width:300px;'></div>"
      ],
      "text/plain": [
       "<IPython.core.display.HTML object>"
      ]
     },
     "metadata": {},
     "output_type": "display_data"
    },
    {
     "name": "stdout",
     "output_type": "stream",
     "text": [
      "ground truth\n"
     ]
    },
    {
     "data": {
      "text/html": [
       "<div style='float:left;background:#c22e2f;padding:10px;width:300px;'></div>"
      ],
      "text/plain": [
       "<IPython.core.display.HTML object>"
      ]
     },
     "metadata": {},
     "output_type": "display_data"
    },
    {
     "name": "stdout",
     "output_type": "stream",
     "text": [
      "----------------------------\n",
      "color name :  red street\n",
      "generated\n"
     ]
    },
    {
     "data": {
      "text/html": [
       "<div style='float:left;background:#7a1d1e;padding:10px;width:300px;'></div>"
      ],
      "text/plain": [
       "<IPython.core.display.HTML object>"
      ]
     },
     "metadata": {},
     "output_type": "display_data"
    },
    {
     "name": "stdout",
     "output_type": "stream",
     "text": [
      "ground truth\n"
     ]
    },
    {
     "data": {
      "text/html": [
       "<div style='float:left;background:#c1312e;padding:10px;width:300px;'></div>"
      ],
      "text/plain": [
       "<IPython.core.display.HTML object>"
      ]
     },
     "metadata": {},
     "output_type": "display_data"
    },
    {
     "name": "stdout",
     "output_type": "stream",
     "text": [
      "----------------------------\n",
      "color name :  tired body\n",
      "generated\n"
     ]
    },
    {
     "data": {
      "text/html": [
       "<div style='float:left;background:#2d1d47;padding:10px;width:300px;'></div>"
      ],
      "text/plain": [
       "<IPython.core.display.HTML object>"
      ]
     },
     "metadata": {},
     "output_type": "display_data"
    },
    {
     "name": "stdout",
     "output_type": "stream",
     "text": [
      "ground truth\n"
     ]
    },
    {
     "data": {
      "text/html": [
       "<div style='float:left;background:#968273;padding:10px;width:300px;'></div>"
      ],
      "text/plain": [
       "<IPython.core.display.HTML object>"
      ]
     },
     "metadata": {},
     "output_type": "display_data"
    },
    {
     "name": "stdout",
     "output_type": "stream",
     "text": [
      "----------------------------\n",
      "color name :  red misty\n",
      "generated\n"
     ]
    },
    {
     "data": {
      "text/html": [
       "<div style='float:left;background:#965152;padding:10px;width:300px;'></div>"
      ],
      "text/plain": [
       "<IPython.core.display.HTML object>"
      ]
     },
     "metadata": {},
     "output_type": "display_data"
    },
    {
     "name": "stdout",
     "output_type": "stream",
     "text": [
      "ground truth\n"
     ]
    },
    {
     "data": {
      "text/html": [
       "<div style='float:left;background:#bf2f2d;padding:10px;width:300px;'></div>"
      ],
      "text/plain": [
       "<IPython.core.display.HTML object>"
      ]
     },
     "metadata": {},
     "output_type": "display_data"
    },
    {
     "name": "stdout",
     "output_type": "stream",
     "text": [
      "----------------------------\n",
      "color name :  filtered\n",
      "generated\n"
     ]
    },
    {
     "data": {
      "text/html": [
       "<div style='float:left;background:#a8e0c3;padding:10px;width:300px;'></div>"
      ],
      "text/plain": [
       "<IPython.core.display.HTML object>"
      ]
     },
     "metadata": {},
     "output_type": "display_data"
    },
    {
     "name": "stdout",
     "output_type": "stream",
     "text": [
      "ground truth\n"
     ]
    },
    {
     "data": {
      "text/html": [
       "<div style='float:left;background:#997b6a;padding:10px;width:300px;'></div>"
      ],
      "text/plain": [
       "<IPython.core.display.HTML object>"
      ]
     },
     "metadata": {},
     "output_type": "display_data"
    },
    {
     "name": "stdout",
     "output_type": "stream",
     "text": [
      "----------------------------\n",
      "color name :  intrada uxui red\n",
      "generated\n"
     ]
    },
    {
     "data": {
      "text/html": [
       "<div style='float:left;background:#e91848;padding:10px;width:300px;'></div>"
      ],
      "text/plain": [
       "<IPython.core.display.HTML object>"
      ]
     },
     "metadata": {},
     "output_type": "display_data"
    },
    {
     "name": "stdout",
     "output_type": "stream",
     "text": [
      "ground truth\n"
     ]
    },
    {
     "data": {
      "text/html": [
       "<div style='float:left;background:#c33230;padding:10px;width:300px;'></div>"
      ],
      "text/plain": [
       "<IPython.core.display.HTML object>"
      ]
     },
     "metadata": {},
     "output_type": "display_data"
    },
    {
     "name": "stdout",
     "output_type": "stream",
     "text": [
      "----------------------------\n",
      "color name :  red onion peel\n",
      "generated\n"
     ]
    },
    {
     "data": {
      "text/html": [
       "<div style='float:left;background:#772846;padding:10px;width:300px;'></div>"
      ],
      "text/plain": [
       "<IPython.core.display.HTML object>"
      ]
     },
     "metadata": {},
     "output_type": "display_data"
    },
    {
     "name": "stdout",
     "output_type": "stream",
     "text": [
      "ground truth\n"
     ]
    },
    {
     "data": {
      "text/html": [
       "<div style='float:left;background:#c83a3b;padding:10px;width:300px;'></div>"
      ],
      "text/plain": [
       "<IPython.core.display.HTML object>"
      ]
     },
     "metadata": {},
     "output_type": "display_data"
    },
    {
     "name": "stdout",
     "output_type": "stream",
     "text": [
      "----------------------------\n",
      "color name :  buttered knees\n",
      "generated\n"
     ]
    },
    {
     "data": {
      "text/html": [
       "<div style='float:left;background:#f4eabf;padding:10px;width:300px;'></div>"
      ],
      "text/plain": [
       "<IPython.core.display.HTML object>"
      ]
     },
     "metadata": {},
     "output_type": "display_data"
    },
    {
     "name": "stdout",
     "output_type": "stream",
     "text": [
      "ground truth\n"
     ]
    },
    {
     "data": {
      "text/html": [
       "<div style='float:left;background:#d1af5d;padding:10px;width:300px;'></div>"
      ],
      "text/plain": [
       "<IPython.core.display.HTML object>"
      ]
     },
     "metadata": {},
     "output_type": "display_data"
    },
    {
     "name": "stdout",
     "output_type": "stream",
     "text": [
      "----------------------------\n",
      "color name :  side red\n",
      "generated\n"
     ]
    },
    {
     "data": {
      "text/html": [
       "<div style='float:left;background:#8e120e;padding:10px;width:300px;'></div>"
      ],
      "text/plain": [
       "<IPython.core.display.HTML object>"
      ]
     },
     "metadata": {},
     "output_type": "display_data"
    },
    {
     "name": "stdout",
     "output_type": "stream",
     "text": [
      "ground truth\n"
     ]
    },
    {
     "data": {
      "text/html": [
       "<div style='float:left;background:#c53031;padding:10px;width:300px;'></div>"
      ],
      "text/plain": [
       "<IPython.core.display.HTML object>"
      ]
     },
     "metadata": {},
     "output_type": "display_data"
    },
    {
     "name": "stdout",
     "output_type": "stream",
     "text": [
      "----------------------------\n",
      "color name :  worn brick red walk\n",
      "generated\n"
     ]
    },
    {
     "data": {
      "text/html": [
       "<div style='float:left;background:#754d38;padding:10px;width:300px;'></div>"
      ],
      "text/plain": [
       "<IPython.core.display.HTML object>"
      ]
     },
     "metadata": {},
     "output_type": "display_data"
    },
    {
     "name": "stdout",
     "output_type": "stream",
     "text": [
      "ground truth\n"
     ]
    },
    {
     "data": {
      "text/html": [
       "<div style='float:left;background:#a62a2b;padding:10px;width:300px;'></div>"
      ],
      "text/plain": [
       "<IPython.core.display.HTML object>"
      ]
     },
     "metadata": {},
     "output_type": "display_data"
    },
    {
     "name": "stdout",
     "output_type": "stream",
     "text": [
      "----------------------------\n",
      "color name :  ruby red light\n",
      "generated\n"
     ]
    },
    {
     "data": {
      "text/html": [
       "<div style='float:left;background:#b3030e;padding:10px;width:300px;'></div>"
      ],
      "text/plain": [
       "<IPython.core.display.HTML object>"
      ]
     },
     "metadata": {},
     "output_type": "display_data"
    },
    {
     "name": "stdout",
     "output_type": "stream",
     "text": [
      "ground truth\n"
     ]
    },
    {
     "data": {
      "text/html": [
       "<div style='float:left;background:#ae242e;padding:10px;width:300px;'></div>"
      ],
      "text/plain": [
       "<IPython.core.display.HTML object>"
      ]
     },
     "metadata": {},
     "output_type": "display_data"
    },
    {
     "name": "stdout",
     "output_type": "stream",
     "text": [
      "----------------------------\n",
      "color name :  greymagentared\n",
      "generated\n"
     ]
    },
    {
     "data": {
      "text/html": [
       "<div style='float:left;background:#755c6a;padding:10px;width:300px;'></div>"
      ],
      "text/plain": [
       "<IPython.core.display.HTML object>"
      ]
     },
     "metadata": {},
     "output_type": "display_data"
    },
    {
     "name": "stdout",
     "output_type": "stream",
     "text": [
      "ground truth\n"
     ]
    },
    {
     "data": {
      "text/html": [
       "<div style='float:left;background:#b3445e;padding:10px;width:300px;'></div>"
      ],
      "text/plain": [
       "<IPython.core.display.HTML object>"
      ]
     },
     "metadata": {},
     "output_type": "display_data"
    },
    {
     "name": "stdout",
     "output_type": "stream",
     "text": [
      "----------------------------\n",
      "color name :  whispered your name\n",
      "generated\n"
     ]
    },
    {
     "data": {
      "text/html": [
       "<div style='float:left;background:#ddf3d2;padding:10px;width:300px;'></div>"
      ],
      "text/plain": [
       "<IPython.core.display.HTML object>"
      ]
     },
     "metadata": {},
     "output_type": "display_data"
    },
    {
     "name": "stdout",
     "output_type": "stream",
     "text": [
      "ground truth\n"
     ]
    },
    {
     "data": {
      "text/html": [
       "<div style='float:left;background:#ab9995;padding:10px;width:300px;'></div>"
      ],
      "text/plain": [
       "<IPython.core.display.HTML object>"
      ]
     },
     "metadata": {},
     "output_type": "display_data"
    },
    {
     "name": "stdout",
     "output_type": "stream",
     "text": [
      "----------------------------\n",
      "color name :  red lotus pond\n",
      "generated\n"
     ]
    },
    {
     "data": {
      "text/html": [
       "<div style='float:left;background:#fbae98;padding:10px;width:300px;'></div>"
      ],
      "text/plain": [
       "<IPython.core.display.HTML object>"
      ]
     },
     "metadata": {},
     "output_type": "display_data"
    },
    {
     "name": "stdout",
     "output_type": "stream",
     "text": [
      "ground truth\n"
     ]
    },
    {
     "data": {
      "text/html": [
       "<div style='float:left;background:#c73c3a;padding:10px;width:300px;'></div>"
      ],
      "text/plain": [
       "<IPython.core.display.HTML object>"
      ]
     },
     "metadata": {},
     "output_type": "display_data"
    },
    {
     "name": "stdout",
     "output_type": "stream",
     "text": [
      "----------------------------\n",
      "color name :  whispered his name\n",
      "generated\n"
     ]
    },
    {
     "data": {
      "text/html": [
       "<div style='float:left;background:#c1ba39;padding:10px;width:300px;'></div>"
      ],
      "text/plain": [
       "<IPython.core.display.HTML object>"
      ]
     },
     "metadata": {},
     "output_type": "display_data"
    },
    {
     "name": "stdout",
     "output_type": "stream",
     "text": [
      "ground truth\n"
     ]
    },
    {
     "data": {
      "text/html": [
       "<div style='float:left;background:#ad9692;padding:10px;width:300px;'></div>"
      ],
      "text/plain": [
       "<IPython.core.display.HTML object>"
      ]
     },
     "metadata": {},
     "output_type": "display_data"
    },
    {
     "name": "stdout",
     "output_type": "stream",
     "text": [
      "----------------------------\n",
      "color name :  unexplored\n",
      "generated\n"
     ]
    },
    {
     "data": {
      "text/html": [
       "<div style='float:left;background:#d6eed1;padding:10px;width:300px;'></div>"
      ],
      "text/plain": [
       "<IPython.core.display.HTML object>"
      ]
     },
     "metadata": {},
     "output_type": "display_data"
    },
    {
     "name": "stdout",
     "output_type": "stream",
     "text": [
      "ground truth\n"
     ]
    },
    {
     "data": {
      "text/html": [
       "<div style='float:left;background:#be6751;padding:10px;width:300px;'></div>"
      ],
      "text/plain": [
       "<IPython.core.display.HTML object>"
      ]
     },
     "metadata": {},
     "output_type": "display_data"
    },
    {
     "name": "stdout",
     "output_type": "stream",
     "text": [
      "----------------------------\n",
      "color name :  drippin red berry\n",
      "generated\n"
     ]
    },
    {
     "data": {
      "text/html": [
       "<div style='float:left;background:#861617;padding:10px;width:300px;'></div>"
      ],
      "text/plain": [
       "<IPython.core.display.HTML object>"
      ]
     },
     "metadata": {},
     "output_type": "display_data"
    },
    {
     "name": "stdout",
     "output_type": "stream",
     "text": [
      "ground truth\n"
     ]
    },
    {
     "data": {
      "text/html": [
       "<div style='float:left;background:#b22236;padding:10px;width:300px;'></div>"
      ],
      "text/plain": [
       "<IPython.core.display.HTML object>"
      ]
     },
     "metadata": {},
     "output_type": "display_data"
    },
    {
     "name": "stdout",
     "output_type": "stream",
     "text": [
      "----------------------------\n",
      "color name :  click me red\n",
      "generated\n"
     ]
    },
    {
     "data": {
      "text/html": [
       "<div style='float:left;background:#a13232;padding:10px;width:300px;'></div>"
      ],
      "text/plain": [
       "<IPython.core.display.HTML object>"
      ]
     },
     "metadata": {},
     "output_type": "display_data"
    },
    {
     "name": "stdout",
     "output_type": "stream",
     "text": [
      "ground truth\n"
     ]
    },
    {
     "data": {
      "text/html": [
       "<div style='float:left;background:#bd2b34;padding:10px;width:300px;'></div>"
      ],
      "text/plain": [
       "<IPython.core.display.HTML object>"
      ]
     },
     "metadata": {},
     "output_type": "display_data"
    },
    {
     "name": "stdout",
     "output_type": "stream",
     "text": [
      "----------------------------\n",
      "color name :  retire old and tired\n",
      "generated\n"
     ]
    },
    {
     "data": {
      "text/html": [
       "<div style='float:left;background:#a9aea7;padding:10px;width:300px;'></div>"
      ],
      "text/plain": [
       "<IPython.core.display.HTML object>"
      ]
     },
     "metadata": {},
     "output_type": "display_data"
    },
    {
     "name": "stdout",
     "output_type": "stream",
     "text": [
      "ground truth\n"
     ]
    },
    {
     "data": {
      "text/html": [
       "<div style='float:left;background:#8f796c;padding:10px;width:300px;'></div>"
      ],
      "text/plain": [
       "<IPython.core.display.HTML object>"
      ]
     },
     "metadata": {},
     "output_type": "display_data"
    },
    {
     "name": "stdout",
     "output_type": "stream",
     "text": [
      "----------------------------\n",
      "color name :  incrediblebuttrue\n",
      "generated\n"
     ]
    },
    {
     "data": {
      "text/html": [
       "<div style='float:left;background:#49ffc3;padding:10px;width:300px;'></div>"
      ],
      "text/plain": [
       "<IPython.core.display.HTML object>"
      ]
     },
     "metadata": {},
     "output_type": "display_data"
    },
    {
     "name": "stdout",
     "output_type": "stream",
     "text": [
      "ground truth\n"
     ]
    },
    {
     "data": {
      "text/html": [
       "<div style='float:left;background:#ac8188;padding:10px;width:300px;'></div>"
      ],
      "text/plain": [
       "<IPython.core.display.HTML object>"
      ]
     },
     "metadata": {},
     "output_type": "display_data"
    },
    {
     "name": "stdout",
     "output_type": "stream",
     "text": [
      "----------------------------\n",
      "color name :  merlot red\n",
      "generated\n"
     ]
    },
    {
     "data": {
      "text/html": [
       "<div style='float:left;background:#750a2c;padding:10px;width:300px;'></div>"
      ],
      "text/plain": [
       "<IPython.core.display.HTML object>"
      ]
     },
     "metadata": {},
     "output_type": "display_data"
    },
    {
     "name": "stdout",
     "output_type": "stream",
     "text": [
      "ground truth\n"
     ]
    },
    {
     "data": {
      "text/html": [
       "<div style='float:left;background:#c32b2e;padding:10px;width:300px;'></div>"
      ],
      "text/plain": [
       "<IPython.core.display.HTML object>"
      ]
     },
     "metadata": {},
     "output_type": "display_data"
    },
    {
     "name": "stdout",
     "output_type": "stream",
     "text": [
      "----------------------------\n",
      "color name :  vase red\n",
      "generated\n"
     ]
    },
    {
     "data": {
      "text/html": [
       "<div style='float:left;background:#ab1c1e;padding:10px;width:300px;'></div>"
      ],
      "text/plain": [
       "<IPython.core.display.HTML object>"
      ]
     },
     "metadata": {},
     "output_type": "display_data"
    },
    {
     "name": "stdout",
     "output_type": "stream",
     "text": [
      "ground truth\n"
     ]
    },
    {
     "data": {
      "text/html": [
       "<div style='float:left;background:#c63033;padding:10px;width:300px;'></div>"
      ],
      "text/plain": [
       "<IPython.core.display.HTML object>"
      ]
     },
     "metadata": {},
     "output_type": "display_data"
    },
    {
     "name": "stdout",
     "output_type": "stream",
     "text": [
      "----------------------------\n",
      "color name :  color my lips red\n",
      "generated\n"
     ]
    },
    {
     "data": {
      "text/html": [
       "<div style='float:left;background:#d80f43;padding:10px;width:300px;'></div>"
      ],
      "text/plain": [
       "<IPython.core.display.HTML object>"
      ]
     },
     "metadata": {},
     "output_type": "display_data"
    },
    {
     "name": "stdout",
     "output_type": "stream",
     "text": [
      "ground truth\n"
     ]
    },
    {
     "data": {
      "text/html": [
       "<div style='float:left;background:#c6313a;padding:10px;width:300px;'></div>"
      ],
      "text/plain": [
       "<IPython.core.display.HTML object>"
      ]
     },
     "metadata": {},
     "output_type": "display_data"
    },
    {
     "name": "stdout",
     "output_type": "stream",
     "text": [
      "----------------------------\n",
      "color name :  nice red proto \n",
      "generated\n"
     ]
    },
    {
     "data": {
      "text/html": [
       "<div style='float:left;background:#e75d5e;padding:10px;width:300px;'></div>"
      ],
      "text/plain": [
       "<IPython.core.display.HTML object>"
      ]
     },
     "metadata": {},
     "output_type": "display_data"
    },
    {
     "name": "stdout",
     "output_type": "stream",
     "text": [
      "ground truth\n"
     ]
    },
    {
     "data": {
      "text/html": [
       "<div style='float:left;background:#d1383b;padding:10px;width:300px;'></div>"
      ],
      "text/plain": [
       "<IPython.core.display.HTML object>"
      ]
     },
     "metadata": {},
     "output_type": "display_data"
    },
    {
     "name": "stdout",
     "output_type": "stream",
     "text": [
      "----------------------------\n",
      "color name :  kings red\n",
      "generated\n"
     ]
    },
    {
     "data": {
      "text/html": [
       "<div style='float:left;background:#8d1715;padding:10px;width:300px;'></div>"
      ],
      "text/plain": [
       "<IPython.core.display.HTML object>"
      ]
     },
     "metadata": {},
     "output_type": "display_data"
    },
    {
     "name": "stdout",
     "output_type": "stream",
     "text": [
      "ground truth\n"
     ]
    },
    {
     "data": {
      "text/html": [
       "<div style='float:left;background:#c2292f;padding:10px;width:300px;'></div>"
      ],
      "text/plain": [
       "<IPython.core.display.HTML object>"
      ]
     },
     "metadata": {},
     "output_type": "display_data"
    },
    {
     "name": "stdout",
     "output_type": "stream",
     "text": [
      "----------------------------\n",
      "color name :  fractured\n",
      "generated\n"
     ]
    },
    {
     "data": {
      "text/html": [
       "<div style='float:left;background:#360d25;padding:10px;width:300px;'></div>"
      ],
      "text/plain": [
       "<IPython.core.display.HTML object>"
      ]
     },
     "metadata": {},
     "output_type": "display_data"
    },
    {
     "name": "stdout",
     "output_type": "stream",
     "text": [
      "ground truth\n"
     ]
    },
    {
     "data": {
      "text/html": [
       "<div style='float:left;background:#c0595e;padding:10px;width:300px;'></div>"
      ],
      "text/plain": [
       "<IPython.core.display.HTML object>"
      ]
     },
     "metadata": {},
     "output_type": "display_data"
    },
    {
     "name": "stdout",
     "output_type": "stream",
     "text": [
      "----------------------------\n",
      "color name :  more than red\n",
      "generated\n"
     ]
    },
    {
     "data": {
      "text/html": [
       "<div style='float:left;background:#f40611;padding:10px;width:300px;'></div>"
      ],
      "text/plain": [
       "<IPython.core.display.HTML object>"
      ]
     },
     "metadata": {},
     "output_type": "display_data"
    },
    {
     "name": "stdout",
     "output_type": "stream",
     "text": [
      "ground truth\n"
     ]
    },
    {
     "data": {
      "text/html": [
       "<div style='float:left;background:#c42c31;padding:10px;width:300px;'></div>"
      ],
      "text/plain": [
       "<IPython.core.display.HTML object>"
      ]
     },
     "metadata": {},
     "output_type": "display_data"
    },
    {
     "name": "stdout",
     "output_type": "stream",
     "text": [
      "----------------------------\n",
      "color name :  carmin red\n",
      "generated\n"
     ]
    },
    {
     "data": {
      "text/html": [
       "<div style='float:left;background:#9e321d;padding:10px;width:300px;'></div>"
      ],
      "text/plain": [
       "<IPython.core.display.HTML object>"
      ]
     },
     "metadata": {},
     "output_type": "display_data"
    },
    {
     "name": "stdout",
     "output_type": "stream",
     "text": [
      "ground truth\n"
     ]
    },
    {
     "data": {
      "text/html": [
       "<div style='float:left;background:#c32930;padding:10px;width:300px;'></div>"
      ],
      "text/plain": [
       "<IPython.core.display.HTML object>"
      ]
     },
     "metadata": {},
     "output_type": "display_data"
    },
    {
     "name": "stdout",
     "output_type": "stream",
     "text": [
      "----------------------------\n",
      "color name :  wired expressions\n",
      "generated\n"
     ]
    },
    {
     "data": {
      "text/html": [
       "<div style='float:left;background:#669f9c;padding:10px;width:300px;'></div>"
      ],
      "text/plain": [
       "<IPython.core.display.HTML object>"
      ]
     },
     "metadata": {},
     "output_type": "display_data"
    },
    {
     "name": "stdout",
     "output_type": "stream",
     "text": [
      "ground truth\n"
     ]
    },
    {
     "data": {
      "text/html": [
       "<div style='float:left;background:#927366;padding:10px;width:300px;'></div>"
      ],
      "text/plain": [
       "<IPython.core.display.HTML object>"
      ]
     },
     "metadata": {},
     "output_type": "display_data"
    },
    {
     "name": "stdout",
     "output_type": "stream",
     "text": [
      "----------------------------\n",
      "color name :  scared hurricane\n",
      "generated\n"
     ]
    },
    {
     "data": {
      "text/html": [
       "<div style='float:left;background:#3f0203;padding:10px;width:300px;'></div>"
      ],
      "text/plain": [
       "<IPython.core.display.HTML object>"
      ]
     },
     "metadata": {},
     "output_type": "display_data"
    },
    {
     "name": "stdout",
     "output_type": "stream",
     "text": [
      "ground truth\n"
     ]
    },
    {
     "data": {
      "text/html": [
       "<div style='float:left;background:#9d6a67;padding:10px;width:300px;'></div>"
      ],
      "text/plain": [
       "<IPython.core.display.HTML object>"
      ]
     },
     "metadata": {},
     "output_type": "display_data"
    },
    {
     "name": "stdout",
     "output_type": "stream",
     "text": [
      "----------------------------\n",
      "color name :  red prada shirt\n",
      "generated\n"
     ]
    },
    {
     "data": {
      "text/html": [
       "<div style='float:left;background:#c64867;padding:10px;width:300px;'></div>"
      ],
      "text/plain": [
       "<IPython.core.display.HTML object>"
      ]
     },
     "metadata": {},
     "output_type": "display_data"
    },
    {
     "name": "stdout",
     "output_type": "stream",
     "text": [
      "ground truth\n"
     ]
    },
    {
     "data": {
      "text/html": [
       "<div style='float:left;background:#c83733;padding:10px;width:300px;'></div>"
      ],
      "text/plain": [
       "<IPython.core.display.HTML object>"
      ]
     },
     "metadata": {},
     "output_type": "display_data"
    },
    {
     "name": "stdout",
     "output_type": "stream",
     "text": [
      "----------------------------\n",
      "color name :  red color\n",
      "generated\n"
     ]
    },
    {
     "data": {
      "text/html": [
       "<div style='float:left;background:#fa4a3e;padding:10px;width:300px;'></div>"
      ],
      "text/plain": [
       "<IPython.core.display.HTML object>"
      ]
     },
     "metadata": {},
     "output_type": "display_data"
    },
    {
     "name": "stdout",
     "output_type": "stream",
     "text": [
      "ground truth\n"
     ]
    },
    {
     "data": {
      "text/html": [
       "<div style='float:left;background:#c83331;padding:10px;width:300px;'></div>"
      ],
      "text/plain": [
       "<IPython.core.display.HTML object>"
      ]
     },
     "metadata": {},
     "output_type": "display_data"
    },
    {
     "name": "stdout",
     "output_type": "stream",
     "text": [
      "----------------------------\n",
      "color name :  cold red\n",
      "generated\n"
     ]
    },
    {
     "data": {
      "text/html": [
       "<div style='float:left;background:#e7206e;padding:10px;width:300px;'></div>"
      ],
      "text/plain": [
       "<IPython.core.display.HTML object>"
      ]
     },
     "metadata": {},
     "output_type": "display_data"
    },
    {
     "name": "stdout",
     "output_type": "stream",
     "text": [
      "ground truth\n"
     ]
    },
    {
     "data": {
      "text/html": [
       "<div style='float:left;background:#c4363b;padding:10px;width:300px;'></div>"
      ],
      "text/plain": [
       "<IPython.core.display.HTML object>"
      ]
     },
     "metadata": {},
     "output_type": "display_data"
    },
    {
     "name": "stdout",
     "output_type": "stream",
     "text": [
      "----------------------------\n",
      "color name :  shy red\n",
      "generated\n"
     ]
    },
    {
     "data": {
      "text/html": [
       "<div style='float:left;background:#b86c76;padding:10px;width:300px;'></div>"
      ],
      "text/plain": [
       "<IPython.core.display.HTML object>"
      ]
     },
     "metadata": {},
     "output_type": "display_data"
    },
    {
     "name": "stdout",
     "output_type": "stream",
     "text": [
      "ground truth\n"
     ]
    },
    {
     "data": {
      "text/html": [
       "<div style='float:left;background:#c52f33;padding:10px;width:300px;'></div>"
      ],
      "text/plain": [
       "<IPython.core.display.HTML object>"
      ]
     },
     "metadata": {},
     "output_type": "display_data"
    },
    {
     "name": "stdout",
     "output_type": "stream",
     "text": [
      "----------------------------\n",
      "color name :  gnome plaid red\n",
      "generated\n"
     ]
    },
    {
     "data": {
      "text/html": [
       "<div style='float:left;background:#821601;padding:10px;width:300px;'></div>"
      ],
      "text/plain": [
       "<IPython.core.display.HTML object>"
      ]
     },
     "metadata": {},
     "output_type": "display_data"
    },
    {
     "name": "stdout",
     "output_type": "stream",
     "text": [
      "ground truth\n"
     ]
    },
    {
     "data": {
      "text/html": [
       "<div style='float:left;background:#c02d32;padding:10px;width:300px;'></div>"
      ],
      "text/plain": [
       "<IPython.core.display.HTML object>"
      ]
     },
     "metadata": {},
     "output_type": "display_data"
    },
    {
     "name": "stdout",
     "output_type": "stream",
     "text": [
      "----------------------------\n",
      "color name :  red to orange\n",
      "generated\n"
     ]
    },
    {
     "data": {
      "text/html": [
       "<div style='float:left;background:#f9724d;padding:10px;width:300px;'></div>"
      ],
      "text/plain": [
       "<IPython.core.display.HTML object>"
      ]
     },
     "metadata": {},
     "output_type": "display_data"
    },
    {
     "name": "stdout",
     "output_type": "stream",
     "text": [
      "ground truth\n"
     ]
    },
    {
     "data": {
      "text/html": [
       "<div style='float:left;background:#d8542a;padding:10px;width:300px;'></div>"
      ],
      "text/plain": [
       "<IPython.core.display.HTML object>"
      ]
     },
     "metadata": {},
     "output_type": "display_data"
    },
    {
     "name": "stdout",
     "output_type": "stream",
     "text": [
      "----------------------------\n",
      "color name :  ive been shattered\n",
      "generated\n"
     ]
    },
    {
     "data": {
      "text/html": [
       "<div style='float:left;background:#54533a;padding:10px;width:300px;'></div>"
      ],
      "text/plain": [
       "<IPython.core.display.HTML object>"
      ]
     },
     "metadata": {},
     "output_type": "display_data"
    },
    {
     "name": "stdout",
     "output_type": "stream",
     "text": [
      "ground truth\n"
     ]
    },
    {
     "data": {
      "text/html": [
       "<div style='float:left;background:#9b7c68;padding:10px;width:300px;'></div>"
      ],
      "text/plain": [
       "<IPython.core.display.HTML object>"
      ]
     },
     "metadata": {},
     "output_type": "display_data"
    },
    {
     "name": "stdout",
     "output_type": "stream",
     "text": [
      "----------------------------\n",
      "color name :  west side red\n",
      "generated\n"
     ]
    },
    {
     "data": {
      "text/html": [
       "<div style='float:left;background:#c81009;padding:10px;width:300px;'></div>"
      ],
      "text/plain": [
       "<IPython.core.display.HTML object>"
      ]
     },
     "metadata": {},
     "output_type": "display_data"
    },
    {
     "name": "stdout",
     "output_type": "stream",
     "text": [
      "ground truth\n"
     ]
    },
    {
     "data": {
      "text/html": [
       "<div style='float:left;background:#bc2b33;padding:10px;width:300px;'></div>"
      ],
      "text/plain": [
       "<IPython.core.display.HTML object>"
      ]
     },
     "metadata": {},
     "output_type": "display_data"
    },
    {
     "name": "stdout",
     "output_type": "stream",
     "text": [
      "----------------------------\n",
      "color name :  lil red wagon\n",
      "generated\n"
     ]
    },
    {
     "data": {
      "text/html": [
       "<div style='float:left;background:#8f4f9d;padding:10px;width:300px;'></div>"
      ],
      "text/plain": [
       "<IPython.core.display.HTML object>"
      ]
     },
     "metadata": {},
     "output_type": "display_data"
    },
    {
     "name": "stdout",
     "output_type": "stream",
     "text": [
      "ground truth\n"
     ]
    },
    {
     "data": {
      "text/html": [
       "<div style='float:left;background:#cb524b;padding:10px;width:300px;'></div>"
      ],
      "text/plain": [
       "<IPython.core.display.HTML object>"
      ]
     },
     "metadata": {},
     "output_type": "display_data"
    },
    {
     "name": "stdout",
     "output_type": "stream",
     "text": [
      "----------------------------\n",
      "color name :  anarchy red\n",
      "generated\n"
     ]
    },
    {
     "data": {
      "text/html": [
       "<div style='float:left;background:#ed010e;padding:10px;width:300px;'></div>"
      ],
      "text/plain": [
       "<IPython.core.display.HTML object>"
      ]
     },
     "metadata": {},
     "output_type": "display_data"
    },
    {
     "name": "stdout",
     "output_type": "stream",
     "text": [
      "ground truth\n"
     ]
    },
    {
     "data": {
      "text/html": [
       "<div style='float:left;background:#c42d2e;padding:10px;width:300px;'></div>"
      ],
      "text/plain": [
       "<IPython.core.display.HTML object>"
      ]
     },
     "metadata": {},
     "output_type": "display_data"
    },
    {
     "name": "stdout",
     "output_type": "stream",
     "text": [
      "----------------------------\n",
      "color name :  nice red\n",
      "generated\n"
     ]
    },
    {
     "data": {
      "text/html": [
       "<div style='float:left;background:#c22759;padding:10px;width:300px;'></div>"
      ],
      "text/plain": [
       "<IPython.core.display.HTML object>"
      ]
     },
     "metadata": {},
     "output_type": "display_data"
    },
    {
     "name": "stdout",
     "output_type": "stream",
     "text": [
      "ground truth\n"
     ]
    },
    {
     "data": {
      "text/html": [
       "<div style='float:left;background:#c93133;padding:10px;width:300px;'></div>"
      ],
      "text/plain": [
       "<IPython.core.display.HTML object>"
      ]
     },
     "metadata": {},
     "output_type": "display_data"
    },
    {
     "name": "stdout",
     "output_type": "stream",
     "text": [
      "----------------------------\n",
      "color name :  samsarared\n",
      "generated\n"
     ]
    },
    {
     "data": {
      "text/html": [
       "<div style='float:left;background:#fa594a;padding:10px;width:300px;'></div>"
      ],
      "text/plain": [
       "<IPython.core.display.HTML object>"
      ]
     },
     "metadata": {},
     "output_type": "display_data"
    },
    {
     "name": "stdout",
     "output_type": "stream",
     "text": [
      "ground truth\n"
     ]
    },
    {
     "data": {
      "text/html": [
       "<div style='float:left;background:#bb5452;padding:10px;width:300px;'></div>"
      ],
      "text/plain": [
       "<IPython.core.display.HTML object>"
      ]
     },
     "metadata": {},
     "output_type": "display_data"
    },
    {
     "name": "stdout",
     "output_type": "stream",
     "text": [
      "----------------------------\n",
      "color name :  powdered vanilla\n",
      "generated\n"
     ]
    },
    {
     "data": {
      "text/html": [
       "<div style='float:left;background:#e5c780;padding:10px;width:300px;'></div>"
      ],
      "text/plain": [
       "<IPython.core.display.HTML object>"
      ]
     },
     "metadata": {},
     "output_type": "display_data"
    },
    {
     "name": "stdout",
     "output_type": "stream",
     "text": [
      "ground truth\n"
     ]
    },
    {
     "data": {
      "text/html": [
       "<div style='float:left;background:#d2cd9b;padding:10px;width:300px;'></div>"
      ],
      "text/plain": [
       "<IPython.core.display.HTML object>"
      ]
     },
     "metadata": {},
     "output_type": "display_data"
    },
    {
     "name": "stdout",
     "output_type": "stream",
     "text": [
      "----------------------------\n",
      "color name :  candilovespicedupred\n",
      "generated\n"
     ]
    },
    {
     "data": {
      "text/html": [
       "<div style='float:left;background:#bc0048;padding:10px;width:300px;'></div>"
      ],
      "text/plain": [
       "<IPython.core.display.HTML object>"
      ]
     },
     "metadata": {},
     "output_type": "display_data"
    },
    {
     "name": "stdout",
     "output_type": "stream",
     "text": [
      "ground truth\n"
     ]
    },
    {
     "data": {
      "text/html": [
       "<div style='float:left;background:#c24040;padding:10px;width:300px;'></div>"
      ],
      "text/plain": [
       "<IPython.core.display.HTML object>"
      ]
     },
     "metadata": {},
     "output_type": "display_data"
    },
    {
     "name": "stdout",
     "output_type": "stream",
     "text": [
      "----------------------------\n",
      "color name :  canditothelimitred\n",
      "generated\n"
     ]
    },
    {
     "data": {
      "text/html": [
       "<div style='float:left;background:#7f0819;padding:10px;width:300px;'></div>"
      ],
      "text/plain": [
       "<IPython.core.display.HTML object>"
      ]
     },
     "metadata": {},
     "output_type": "display_data"
    },
    {
     "name": "stdout",
     "output_type": "stream",
     "text": [
      "ground truth\n"
     ]
    },
    {
     "data": {
      "text/html": [
       "<div style='float:left;background:#c9383a;padding:10px;width:300px;'></div>"
      ],
      "text/plain": [
       "<IPython.core.display.HTML object>"
      ]
     },
     "metadata": {},
     "output_type": "display_data"
    },
    {
     "name": "stdout",
     "output_type": "stream",
     "text": [
      "----------------------------\n",
      "color name :  quediditred\n",
      "generated\n"
     ]
    },
    {
     "data": {
      "text/html": [
       "<div style='float:left;background:#c54442;padding:10px;width:300px;'></div>"
      ],
      "text/plain": [
       "<IPython.core.display.HTML object>"
      ]
     },
     "metadata": {},
     "output_type": "display_data"
    },
    {
     "name": "stdout",
     "output_type": "stream",
     "text": [
      "ground truth\n"
     ]
    },
    {
     "data": {
      "text/html": [
       "<div style='float:left;background:#af514a;padding:10px;width:300px;'></div>"
      ],
      "text/plain": [
       "<IPython.core.display.HTML object>"
      ]
     },
     "metadata": {},
     "output_type": "display_data"
    },
    {
     "name": "stdout",
     "output_type": "stream",
     "text": [
      "----------------------------\n",
      "color name :  shattered ice\n",
      "generated\n"
     ]
    },
    {
     "data": {
      "text/html": [
       "<div style='float:left;background:#b9d4ff;padding:10px;width:300px;'></div>"
      ],
      "text/plain": [
       "<IPython.core.display.HTML object>"
      ]
     },
     "metadata": {},
     "output_type": "display_data"
    },
    {
     "name": "stdout",
     "output_type": "stream",
     "text": [
      "ground truth\n"
     ]
    },
    {
     "data": {
      "text/html": [
       "<div style='float:left;background:#abb8b4;padding:10px;width:300px;'></div>"
      ],
      "text/plain": [
       "<IPython.core.display.HTML object>"
      ]
     },
     "metadata": {},
     "output_type": "display_data"
    },
    {
     "name": "stdout",
     "output_type": "stream",
     "text": [
      "----------------------------\n",
      "color name :  red express\n",
      "generated\n"
     ]
    },
    {
     "data": {
      "text/html": [
       "<div style='float:left;background:#811406;padding:10px;width:300px;'></div>"
      ],
      "text/plain": [
       "<IPython.core.display.HTML object>"
      ]
     },
     "metadata": {},
     "output_type": "display_data"
    },
    {
     "name": "stdout",
     "output_type": "stream",
     "text": [
      "ground truth\n"
     ]
    },
    {
     "data": {
      "text/html": [
       "<div style='float:left;background:#bc292b;padding:10px;width:300px;'></div>"
      ],
      "text/plain": [
       "<IPython.core.display.HTML object>"
      ]
     },
     "metadata": {},
     "output_type": "display_data"
    },
    {
     "name": "stdout",
     "output_type": "stream",
     "text": [
      "----------------------------\n",
      "color name :  demure red\n",
      "generated\n"
     ]
    },
    {
     "data": {
      "text/html": [
       "<div style='float:left;background:#df3759;padding:10px;width:300px;'></div>"
      ],
      "text/plain": [
       "<IPython.core.display.HTML object>"
      ]
     },
     "metadata": {},
     "output_type": "display_data"
    },
    {
     "name": "stdout",
     "output_type": "stream",
     "text": [
      "ground truth\n"
     ]
    },
    {
     "data": {
      "text/html": [
       "<div style='float:left;background:#c13533;padding:10px;width:300px;'></div>"
      ],
      "text/plain": [
       "<IPython.core.display.HTML object>"
      ]
     },
     "metadata": {},
     "output_type": "display_data"
    },
    {
     "name": "stdout",
     "output_type": "stream",
     "text": [
      "----------------------------\n",
      "color name :  rosa red\n",
      "generated\n"
     ]
    },
    {
     "data": {
      "text/html": [
       "<div style='float:left;background:#ce5058;padding:10px;width:300px;'></div>"
      ],
      "text/plain": [
       "<IPython.core.display.HTML object>"
      ]
     },
     "metadata": {},
     "output_type": "display_data"
    },
    {
     "name": "stdout",
     "output_type": "stream",
     "text": [
      "ground truth\n"
     ]
    },
    {
     "data": {
      "text/html": [
       "<div style='float:left;background:#cc3336;padding:10px;width:300px;'></div>"
      ],
      "text/plain": [
       "<IPython.core.display.HTML object>"
      ]
     },
     "metadata": {},
     "output_type": "display_data"
    },
    {
     "name": "stdout",
     "output_type": "stream",
     "text": [
      "----------------------------\n",
      "color name :  red lychee\n",
      "generated\n"
     ]
    },
    {
     "data": {
      "text/html": [
       "<div style='float:left;background:#7c401d;padding:10px;width:300px;'></div>"
      ],
      "text/plain": [
       "<IPython.core.display.HTML object>"
      ]
     },
     "metadata": {},
     "output_type": "display_data"
    },
    {
     "name": "stdout",
     "output_type": "stream",
     "text": [
      "ground truth\n"
     ]
    },
    {
     "data": {
      "text/html": [
       "<div style='float:left;background:#be2b2f;padding:10px;width:300px;'></div>"
      ],
      "text/plain": [
       "<IPython.core.display.HTML object>"
      ]
     },
     "metadata": {},
     "output_type": "display_data"
    },
    {
     "name": "stdout",
     "output_type": "stream",
     "text": [
      "----------------------------\n",
      "color name :  talon red\n",
      "generated\n"
     ]
    },
    {
     "data": {
      "text/html": [
       "<div style='float:left;background:#a31a3e;padding:10px;width:300px;'></div>"
      ],
      "text/plain": [
       "<IPython.core.display.HTML object>"
      ]
     },
     "metadata": {},
     "output_type": "display_data"
    },
    {
     "name": "stdout",
     "output_type": "stream",
     "text": [
      "ground truth\n"
     ]
    },
    {
     "data": {
      "text/html": [
       "<div style='float:left;background:#c62e30;padding:10px;width:300px;'></div>"
      ],
      "text/plain": [
       "<IPython.core.display.HTML object>"
      ]
     },
     "metadata": {},
     "output_type": "display_data"
    },
    {
     "name": "stdout",
     "output_type": "stream",
     "text": [
      "----------------------------\n",
      "color name :  sacred space\n",
      "generated\n"
     ]
    },
    {
     "data": {
      "text/html": [
       "<div style='float:left;background:#b882ff;padding:10px;width:300px;'></div>"
      ],
      "text/plain": [
       "<IPython.core.display.HTML object>"
      ]
     },
     "metadata": {},
     "output_type": "display_data"
    },
    {
     "name": "stdout",
     "output_type": "stream",
     "text": [
      "ground truth\n"
     ]
    },
    {
     "data": {
      "text/html": [
       "<div style='float:left;background:#996e6e;padding:10px;width:300px;'></div>"
      ],
      "text/plain": [
       "<IPython.core.display.HTML object>"
      ]
     },
     "metadata": {},
     "output_type": "display_data"
    },
    {
     "name": "stdout",
     "output_type": "stream",
     "text": [
      "----------------------------\n",
      "color name :  captured in the dark\n",
      "generated\n"
     ]
    },
    {
     "data": {
      "text/html": [
       "<div style='float:left;background:#6f6e87;padding:10px;width:300px;'></div>"
      ],
      "text/plain": [
       "<IPython.core.display.HTML object>"
      ]
     },
     "metadata": {},
     "output_type": "display_data"
    },
    {
     "name": "stdout",
     "output_type": "stream",
     "text": [
      "ground truth\n"
     ]
    },
    {
     "data": {
      "text/html": [
       "<div style='float:left;background:#453340;padding:10px;width:300px;'></div>"
      ],
      "text/plain": [
       "<IPython.core.display.HTML object>"
      ]
     },
     "metadata": {},
     "output_type": "display_data"
    },
    {
     "name": "stdout",
     "output_type": "stream",
     "text": [
      "----------------------------\n",
      "color name :  wedp wadesedburntred\n",
      "generated\n"
     ]
    },
    {
     "data": {
      "text/html": [
       "<div style='float:left;background:#701e1e;padding:10px;width:300px;'></div>"
      ],
      "text/plain": [
       "<IPython.core.display.HTML object>"
      ]
     },
     "metadata": {},
     "output_type": "display_data"
    },
    {
     "name": "stdout",
     "output_type": "stream",
     "text": [
      "ground truth\n"
     ]
    },
    {
     "data": {
      "text/html": [
       "<div style='float:left;background:#bb3130;padding:10px;width:300px;'></div>"
      ],
      "text/plain": [
       "<IPython.core.display.HTML object>"
      ]
     },
     "metadata": {},
     "output_type": "display_data"
    },
    {
     "name": "stdout",
     "output_type": "stream",
     "text": [
      "----------------------------\n",
      "color name :  light burned red\n",
      "generated\n"
     ]
    },
    {
     "data": {
      "text/html": [
       "<div style='float:left;background:#893753;padding:10px;width:300px;'></div>"
      ],
      "text/plain": [
       "<IPython.core.display.HTML object>"
      ]
     },
     "metadata": {},
     "output_type": "display_data"
    },
    {
     "name": "stdout",
     "output_type": "stream",
     "text": [
      "ground truth\n"
     ]
    },
    {
     "data": {
      "text/html": [
       "<div style='float:left;background:#dd5951;padding:10px;width:300px;'></div>"
      ],
      "text/plain": [
       "<IPython.core.display.HTML object>"
      ]
     },
     "metadata": {},
     "output_type": "display_data"
    },
    {
     "name": "stdout",
     "output_type": "stream",
     "text": [
      "----------------------------\n",
      "color name :  softer reds\n",
      "generated\n"
     ]
    },
    {
     "data": {
      "text/html": [
       "<div style='float:left;background:#d3646b;padding:10px;width:300px;'></div>"
      ],
      "text/plain": [
       "<IPython.core.display.HTML object>"
      ]
     },
     "metadata": {},
     "output_type": "display_data"
    },
    {
     "name": "stdout",
     "output_type": "stream",
     "text": [
      "ground truth\n"
     ]
    },
    {
     "data": {
      "text/html": [
       "<div style='float:left;background:#d76059;padding:10px;width:300px;'></div>"
      ],
      "text/plain": [
       "<IPython.core.display.HTML object>"
      ]
     },
     "metadata": {},
     "output_type": "display_data"
    },
    {
     "name": "stdout",
     "output_type": "stream",
     "text": [
      "----------------------------\n",
      "color name :  red beats\n",
      "generated\n"
     ]
    },
    {
     "data": {
      "text/html": [
       "<div style='float:left;background:#c21d1c;padding:10px;width:300px;'></div>"
      ],
      "text/plain": [
       "<IPython.core.display.HTML object>"
      ]
     },
     "metadata": {},
     "output_type": "display_data"
    },
    {
     "name": "stdout",
     "output_type": "stream",
     "text": [
      "ground truth\n"
     ]
    },
    {
     "data": {
      "text/html": [
       "<div style='float:left;background:#c22f2e;padding:10px;width:300px;'></div>"
      ],
      "text/plain": [
       "<IPython.core.display.HTML object>"
      ]
     },
     "metadata": {},
     "output_type": "display_data"
    },
    {
     "name": "stdout",
     "output_type": "stream",
     "text": [
      "----------------------------\n",
      "color name :  weathered the storm\n",
      "generated\n"
     ]
    },
    {
     "data": {
      "text/html": [
       "<div style='float:left;background:#5fc3af;padding:10px;width:300px;'></div>"
      ],
      "text/plain": [
       "<IPython.core.display.HTML object>"
      ]
     },
     "metadata": {},
     "output_type": "display_data"
    },
    {
     "name": "stdout",
     "output_type": "stream",
     "text": [
      "ground truth\n"
     ]
    },
    {
     "data": {
      "text/html": [
       "<div style='float:left;background:#7e848c;padding:10px;width:300px;'></div>"
      ],
      "text/plain": [
       "<IPython.core.display.HTML object>"
      ]
     },
     "metadata": {},
     "output_type": "display_data"
    },
    {
     "name": "stdout",
     "output_type": "stream",
     "text": [
      "----------------------------\n",
      "color name :  tuatara red\n",
      "generated\n"
     ]
    },
    {
     "data": {
      "text/html": [
       "<div style='float:left;background:#a7270b;padding:10px;width:300px;'></div>"
      ],
      "text/plain": [
       "<IPython.core.display.HTML object>"
      ]
     },
     "metadata": {},
     "output_type": "display_data"
    },
    {
     "name": "stdout",
     "output_type": "stream",
     "text": [
      "ground truth\n"
     ]
    },
    {
     "data": {
      "text/html": [
       "<div style='float:left;background:#cc3b2f;padding:10px;width:300px;'></div>"
      ],
      "text/plain": [
       "<IPython.core.display.HTML object>"
      ]
     },
     "metadata": {},
     "output_type": "display_data"
    },
    {
     "name": "stdout",
     "output_type": "stream",
     "text": [
      "----------------------------\n",
      "color name :  muffin red\n",
      "generated\n"
     ]
    },
    {
     "data": {
      "text/html": [
       "<div style='float:left;background:#b33340;padding:10px;width:300px;'></div>"
      ],
      "text/plain": [
       "<IPython.core.display.HTML object>"
      ]
     },
     "metadata": {},
     "output_type": "display_data"
    },
    {
     "name": "stdout",
     "output_type": "stream",
     "text": [
      "ground truth\n"
     ]
    },
    {
     "data": {
      "text/html": [
       "<div style='float:left;background:#c2322f;padding:10px;width:300px;'></div>"
      ],
      "text/plain": [
       "<IPython.core.display.HTML object>"
      ]
     },
     "metadata": {},
     "output_type": "display_data"
    },
    {
     "name": "stdout",
     "output_type": "stream",
     "text": [
      "----------------------------\n",
      "color name :  sunfiltered ocean\n",
      "generated\n"
     ]
    },
    {
     "data": {
      "text/html": [
       "<div style='float:left;background:#a2f4ed;padding:10px;width:300px;'></div>"
      ],
      "text/plain": [
       "<IPython.core.display.HTML object>"
      ]
     },
     "metadata": {},
     "output_type": "display_data"
    },
    {
     "name": "stdout",
     "output_type": "stream",
     "text": [
      "ground truth\n"
     ]
    },
    {
     "data": {
      "text/html": [
       "<div style='float:left;background:#669eab;padding:10px;width:300px;'></div>"
      ],
      "text/plain": [
       "<IPython.core.display.HTML object>"
      ]
     },
     "metadata": {},
     "output_type": "display_data"
    },
    {
     "name": "stdout",
     "output_type": "stream",
     "text": [
      "----------------------------\n",
      "color name :  angered clouds\n",
      "generated\n"
     ]
    },
    {
     "data": {
      "text/html": [
       "<div style='float:left;background:#cfcce0;padding:10px;width:300px;'></div>"
      ],
      "text/plain": [
       "<IPython.core.display.HTML object>"
      ]
     },
     "metadata": {},
     "output_type": "display_data"
    },
    {
     "name": "stdout",
     "output_type": "stream",
     "text": [
      "ground truth\n"
     ]
    },
    {
     "data": {
      "text/html": [
       "<div style='float:left;background:#b6b0b3;padding:10px;width:300px;'></div>"
      ],
      "text/plain": [
       "<IPython.core.display.HTML object>"
      ]
     },
     "metadata": {},
     "output_type": "display_data"
    },
    {
     "name": "stdout",
     "output_type": "stream",
     "text": [
      "----------------------------\n",
      "color name :  tahitian red\n",
      "generated\n"
     ]
    },
    {
     "data": {
      "text/html": [
       "<div style='float:left;background:#f4002d;padding:10px;width:300px;'></div>"
      ],
      "text/plain": [
       "<IPython.core.display.HTML object>"
      ]
     },
     "metadata": {},
     "output_type": "display_data"
    },
    {
     "name": "stdout",
     "output_type": "stream",
     "text": [
      "ground truth\n"
     ]
    },
    {
     "data": {
      "text/html": [
       "<div style='float:left;background:#c52e30;padding:10px;width:300px;'></div>"
      ],
      "text/plain": [
       "<IPython.core.display.HTML object>"
      ]
     },
     "metadata": {},
     "output_type": "display_data"
    },
    {
     "name": "stdout",
     "output_type": "stream",
     "text": [
      "----------------------------\n",
      "color name :  sylvan red\n",
      "generated\n"
     ]
    },
    {
     "data": {
      "text/html": [
       "<div style='float:left;background:#d32522;padding:10px;width:300px;'></div>"
      ],
      "text/plain": [
       "<IPython.core.display.HTML object>"
      ]
     },
     "metadata": {},
     "output_type": "display_data"
    },
    {
     "name": "stdout",
     "output_type": "stream",
     "text": [
      "ground truth\n"
     ]
    },
    {
     "data": {
      "text/html": [
       "<div style='float:left;background:#c43035;padding:10px;width:300px;'></div>"
      ],
      "text/plain": [
       "<IPython.core.display.HTML object>"
      ]
     },
     "metadata": {},
     "output_type": "display_data"
    },
    {
     "name": "stdout",
     "output_type": "stream",
     "text": [
      "----------------------------\n",
      "color name :  red rebels\n",
      "generated\n"
     ]
    },
    {
     "data": {
      "text/html": [
       "<div style='float:left;background:#7c1b08;padding:10px;width:300px;'></div>"
      ],
      "text/plain": [
       "<IPython.core.display.HTML object>"
      ]
     },
     "metadata": {},
     "output_type": "display_data"
    },
    {
     "name": "stdout",
     "output_type": "stream",
     "text": [
      "ground truth\n"
     ]
    },
    {
     "data": {
      "text/html": [
       "<div style='float:left;background:#c23030;padding:10px;width:300px;'></div>"
      ],
      "text/plain": [
       "<IPython.core.display.HTML object>"
      ]
     },
     "metadata": {},
     "output_type": "display_data"
    },
    {
     "name": "stdout",
     "output_type": "stream",
     "text": [
      "----------------------------\n",
      "color name :  redo\n",
      "generated\n"
     ]
    },
    {
     "data": {
      "text/html": [
       "<div style='float:left;background:#e50e1e;padding:10px;width:300px;'></div>"
      ],
      "text/plain": [
       "<IPython.core.display.HTML object>"
      ]
     },
     "metadata": {},
     "output_type": "display_data"
    },
    {
     "name": "stdout",
     "output_type": "stream",
     "text": [
      "ground truth\n"
     ]
    },
    {
     "data": {
      "text/html": [
       "<div style='float:left;background:#c54a39;padding:10px;width:300px;'></div>"
      ],
      "text/plain": [
       "<IPython.core.display.HTML object>"
      ]
     },
     "metadata": {},
     "output_type": "display_data"
    },
    {
     "name": "stdout",
     "output_type": "stream",
     "text": [
      "----------------------------\n",
      "color name :  what i can find red\n",
      "generated\n"
     ]
    },
    {
     "data": {
      "text/html": [
       "<div style='float:left;background:#b41854;padding:10px;width:300px;'></div>"
      ],
      "text/plain": [
       "<IPython.core.display.HTML object>"
      ]
     },
     "metadata": {},
     "output_type": "display_data"
    },
    {
     "name": "stdout",
     "output_type": "stream",
     "text": [
      "ground truth\n"
     ]
    },
    {
     "data": {
      "text/html": [
       "<div style='float:left;background:#c23438;padding:10px;width:300px;'></div>"
      ],
      "text/plain": [
       "<IPython.core.display.HTML object>"
      ]
     },
     "metadata": {},
     "output_type": "display_data"
    },
    {
     "name": "stdout",
     "output_type": "stream",
     "text": [
      "----------------------------\n",
      "color name :  red leather carseat\n",
      "generated\n"
     ]
    },
    {
     "data": {
      "text/html": [
       "<div style='float:left;background:#8c3b3e;padding:10px;width:300px;'></div>"
      ],
      "text/plain": [
       "<IPython.core.display.HTML object>"
      ]
     },
     "metadata": {},
     "output_type": "display_data"
    },
    {
     "name": "stdout",
     "output_type": "stream",
     "text": [
      "ground truth\n"
     ]
    },
    {
     "data": {
      "text/html": [
       "<div style='float:left;background:#c33432;padding:10px;width:300px;'></div>"
      ],
      "text/plain": [
       "<IPython.core.display.HTML object>"
      ]
     },
     "metadata": {},
     "output_type": "display_data"
    },
    {
     "name": "stdout",
     "output_type": "stream",
     "text": [
      "----------------------------\n",
      "color name :  crushed red velvet\n",
      "generated\n"
     ]
    },
    {
     "data": {
      "text/html": [
       "<div style='float:left;background:#510116;padding:10px;width:300px;'></div>"
      ],
      "text/plain": [
       "<IPython.core.display.HTML object>"
      ]
     },
     "metadata": {},
     "output_type": "display_data"
    },
    {
     "name": "stdout",
     "output_type": "stream",
     "text": [
      "ground truth\n"
     ]
    },
    {
     "data": {
      "text/html": [
       "<div style='float:left;background:#8a222c;padding:10px;width:300px;'></div>"
      ],
      "text/plain": [
       "<IPython.core.display.HTML object>"
      ]
     },
     "metadata": {},
     "output_type": "display_data"
    },
    {
     "name": "stdout",
     "output_type": "stream",
     "text": [
      "----------------------------\n",
      "color name :  some like it red\n",
      "generated\n"
     ]
    },
    {
     "data": {
      "text/html": [
       "<div style='float:left;background:#e9000e;padding:10px;width:300px;'></div>"
      ],
      "text/plain": [
       "<IPython.core.display.HTML object>"
      ]
     },
     "metadata": {},
     "output_type": "display_data"
    },
    {
     "name": "stdout",
     "output_type": "stream",
     "text": [
      "ground truth\n"
     ]
    },
    {
     "data": {
      "text/html": [
       "<div style='float:left;background:#c53938;padding:10px;width:300px;'></div>"
      ],
      "text/plain": [
       "<IPython.core.display.HTML object>"
      ]
     },
     "metadata": {},
     "output_type": "display_data"
    },
    {
     "name": "stdout",
     "output_type": "stream",
     "text": [
      "----------------------------\n",
      "color name :  red psypher\n",
      "generated\n"
     ]
    },
    {
     "data": {
      "text/html": [
       "<div style='float:left;background:#de057d;padding:10px;width:300px;'></div>"
      ],
      "text/plain": [
       "<IPython.core.display.HTML object>"
      ]
     },
     "metadata": {},
     "output_type": "display_data"
    },
    {
     "name": "stdout",
     "output_type": "stream",
     "text": [
      "ground truth\n"
     ]
    },
    {
     "data": {
      "text/html": [
       "<div style='float:left;background:#c23030;padding:10px;width:300px;'></div>"
      ],
      "text/plain": [
       "<IPython.core.display.HTML object>"
      ]
     },
     "metadata": {},
     "output_type": "display_data"
    },
    {
     "name": "stdout",
     "output_type": "stream",
     "text": [
      "----------------------------\n",
      "color name :  iamwidered\n",
      "generated\n"
     ]
    },
    {
     "data": {
      "text/html": [
       "<div style='float:left;background:#d01c1f;padding:10px;width:300px;'></div>"
      ],
      "text/plain": [
       "<IPython.core.display.HTML object>"
      ]
     },
     "metadata": {},
     "output_type": "display_data"
    },
    {
     "name": "stdout",
     "output_type": "stream",
     "text": [
      "ground truth\n"
     ]
    },
    {
     "data": {
      "text/html": [
       "<div style='float:left;background:#b07663;padding:10px;width:300px;'></div>"
      ],
      "text/plain": [
       "<IPython.core.display.HTML object>"
      ]
     },
     "metadata": {},
     "output_type": "display_data"
    },
    {
     "name": "stdout",
     "output_type": "stream",
     "text": [
      "----------------------------\n",
      "color name :  orange colored sky\n",
      "generated\n"
     ]
    },
    {
     "data": {
      "text/html": [
       "<div style='float:left;background:#c0b8a2;padding:10px;width:300px;'></div>"
      ],
      "text/plain": [
       "<IPython.core.display.HTML object>"
      ]
     },
     "metadata": {},
     "output_type": "display_data"
    },
    {
     "name": "stdout",
     "output_type": "stream",
     "text": [
      "ground truth\n"
     ]
    },
    {
     "data": {
      "text/html": [
       "<div style='float:left;background:#e48f4f;padding:10px;width:300px;'></div>"
      ],
      "text/plain": [
       "<IPython.core.display.HTML object>"
      ]
     },
     "metadata": {},
     "output_type": "display_data"
    },
    {
     "name": "stdout",
     "output_type": "stream",
     "text": [
      "----------------------------\n",
      "color name :  sacred grain\n",
      "generated\n"
     ]
    },
    {
     "data": {
      "text/html": [
       "<div style='float:left;background:#889000;padding:10px;width:300px;'></div>"
      ],
      "text/plain": [
       "<IPython.core.display.HTML object>"
      ]
     },
     "metadata": {},
     "output_type": "display_data"
    },
    {
     "name": "stdout",
     "output_type": "stream",
     "text": [
      "ground truth\n"
     ]
    },
    {
     "data": {
      "text/html": [
       "<div style='float:left;background:#8a9c65;padding:10px;width:300px;'></div>"
      ],
      "text/plain": [
       "<IPython.core.display.HTML object>"
      ]
     },
     "metadata": {},
     "output_type": "display_data"
    },
    {
     "name": "stdout",
     "output_type": "stream",
     "text": [
      "----------------------------\n",
      "color name :  grandma red\n",
      "generated\n"
     ]
    },
    {
     "data": {
      "text/html": [
       "<div style='float:left;background:#5c0607;padding:10px;width:300px;'></div>"
      ],
      "text/plain": [
       "<IPython.core.display.HTML object>"
      ]
     },
     "metadata": {},
     "output_type": "display_data"
    },
    {
     "name": "stdout",
     "output_type": "stream",
     "text": [
      "ground truth\n"
     ]
    },
    {
     "data": {
      "text/html": [
       "<div style='float:left;background:#c63231;padding:10px;width:300px;'></div>"
      ],
      "text/plain": [
       "<IPython.core.display.HTML object>"
      ]
     },
     "metadata": {},
     "output_type": "display_data"
    },
    {
     "name": "stdout",
     "output_type": "stream",
     "text": [
      "----------------------------\n",
      "color name :  oxford red\n",
      "generated\n"
     ]
    },
    {
     "data": {
      "text/html": [
       "<div style='float:left;background:#57022e;padding:10px;width:300px;'></div>"
      ],
      "text/plain": [
       "<IPython.core.display.HTML object>"
      ]
     },
     "metadata": {},
     "output_type": "display_data"
    },
    {
     "name": "stdout",
     "output_type": "stream",
     "text": [
      "ground truth\n"
     ]
    },
    {
     "data": {
      "text/html": [
       "<div style='float:left;background:#c02c2f;padding:10px;width:300px;'></div>"
      ],
      "text/plain": [
       "<IPython.core.display.HTML object>"
      ]
     },
     "metadata": {},
     "output_type": "display_data"
    },
    {
     "name": "stdout",
     "output_type": "stream",
     "text": [
      "----------------------------\n",
      "color name :  pollys red\n",
      "generated\n"
     ]
    },
    {
     "data": {
      "text/html": [
       "<div style='float:left;background:#8a0c0f;padding:10px;width:300px;'></div>"
      ],
      "text/plain": [
       "<IPython.core.display.HTML object>"
      ]
     },
     "metadata": {},
     "output_type": "display_data"
    },
    {
     "name": "stdout",
     "output_type": "stream",
     "text": [
      "ground truth\n"
     ]
    },
    {
     "data": {
      "text/html": [
       "<div style='float:left;background:#c72f35;padding:10px;width:300px;'></div>"
      ],
      "text/plain": [
       "<IPython.core.display.HTML object>"
      ]
     },
     "metadata": {},
     "output_type": "display_data"
    },
    {
     "name": "stdout",
     "output_type": "stream",
     "text": [
      "----------------------------\n",
      "color name :  red red cherry\n",
      "generated\n"
     ]
    },
    {
     "data": {
      "text/html": [
       "<div style='float:left;background:#a3091f;padding:10px;width:300px;'></div>"
      ],
      "text/plain": [
       "<IPython.core.display.HTML object>"
      ]
     },
     "metadata": {},
     "output_type": "display_data"
    },
    {
     "name": "stdout",
     "output_type": "stream",
     "text": [
      "ground truth\n"
     ]
    },
    {
     "data": {
      "text/html": [
       "<div style='float:left;background:#b61f29;padding:10px;width:300px;'></div>"
      ],
      "text/plain": [
       "<IPython.core.display.HTML object>"
      ]
     },
     "metadata": {},
     "output_type": "display_data"
    },
    {
     "name": "stdout",
     "output_type": "stream",
     "text": [
      "----------------------------\n",
      "color name :  light red\n",
      "generated\n"
     ]
    },
    {
     "data": {
      "text/html": [
       "<div style='float:left;background:#f26f59;padding:10px;width:300px;'></div>"
      ],
      "text/plain": [
       "<IPython.core.display.HTML object>"
      ]
     },
     "metadata": {},
     "output_type": "display_data"
    },
    {
     "name": "stdout",
     "output_type": "stream",
     "text": [
      "ground truth\n"
     ]
    },
    {
     "data": {
      "text/html": [
       "<div style='float:left;background:#db524a;padding:10px;width:300px;'></div>"
      ],
      "text/plain": [
       "<IPython.core.display.HTML object>"
      ]
     },
     "metadata": {},
     "output_type": "display_data"
    },
    {
     "name": "stdout",
     "output_type": "stream",
     "text": [
      "----------------------------\n",
      "color name :  creamcolored\n",
      "generated\n"
     ]
    },
    {
     "data": {
      "text/html": [
       "<div style='float:left;background:#d5d56c;padding:10px;width:300px;'></div>"
      ],
      "text/plain": [
       "<IPython.core.display.HTML object>"
      ]
     },
     "metadata": {},
     "output_type": "display_data"
    },
    {
     "name": "stdout",
     "output_type": "stream",
     "text": [
      "ground truth\n"
     ]
    },
    {
     "data": {
      "text/html": [
       "<div style='float:left;background:#d9af90;padding:10px;width:300px;'></div>"
      ],
      "text/plain": [
       "<IPython.core.display.HTML object>"
      ]
     },
     "metadata": {},
     "output_type": "display_data"
    },
    {
     "name": "stdout",
     "output_type": "stream",
     "text": [
      "----------------------------\n",
      "color name :  bewildered earth\n",
      "generated\n"
     ]
    },
    {
     "data": {
      "text/html": [
       "<div style='float:left;background:#8b956e;padding:10px;width:300px;'></div>"
      ],
      "text/plain": [
       "<IPython.core.display.HTML object>"
      ]
     },
     "metadata": {},
     "output_type": "display_data"
    },
    {
     "name": "stdout",
     "output_type": "stream",
     "text": [
      "ground truth\n"
     ]
    },
    {
     "data": {
      "text/html": [
       "<div style='float:left;background:#8d655c;padding:10px;width:300px;'></div>"
      ],
      "text/plain": [
       "<IPython.core.display.HTML object>"
      ]
     },
     "metadata": {},
     "output_type": "display_data"
    },
    {
     "name": "stdout",
     "output_type": "stream",
     "text": [
      "----------------------------\n",
      "color name :  a faded red\n",
      "generated\n"
     ]
    },
    {
     "data": {
      "text/html": [
       "<div style='float:left;background:#d75a5b;padding:10px;width:300px;'></div>"
      ],
      "text/plain": [
       "<IPython.core.display.HTML object>"
      ]
     },
     "metadata": {},
     "output_type": "display_data"
    },
    {
     "name": "stdout",
     "output_type": "stream",
     "text": [
      "ground truth\n"
     ]
    },
    {
     "data": {
      "text/html": [
       "<div style='float:left;background:#cb4749;padding:10px;width:300px;'></div>"
      ],
      "text/plain": [
       "<IPython.core.display.HTML object>"
      ]
     },
     "metadata": {},
     "output_type": "display_data"
    },
    {
     "name": "stdout",
     "output_type": "stream",
     "text": [
      "----------------------------\n",
      "color name :  red cred prevolver\n",
      "generated\n"
     ]
    },
    {
     "data": {
      "text/html": [
       "<div style='float:left;background:#df1f30;padding:10px;width:300px;'></div>"
      ],
      "text/plain": [
       "<IPython.core.display.HTML object>"
      ]
     },
     "metadata": {},
     "output_type": "display_data"
    },
    {
     "name": "stdout",
     "output_type": "stream",
     "text": [
      "ground truth\n"
     ]
    },
    {
     "data": {
      "text/html": [
       "<div style='float:left;background:#c22d2d;padding:10px;width:300px;'></div>"
      ],
      "text/plain": [
       "<IPython.core.display.HTML object>"
      ]
     },
     "metadata": {},
     "output_type": "display_data"
    },
    {
     "name": "stdout",
     "output_type": "stream",
     "text": [
      "----------------------------\n",
      "color name :  wet red clay tile\n",
      "generated\n"
     ]
    },
    {
     "data": {
      "text/html": [
       "<div style='float:left;background:#d06c54;padding:10px;width:300px;'></div>"
      ],
      "text/plain": [
       "<IPython.core.display.HTML object>"
      ]
     },
     "metadata": {},
     "output_type": "display_data"
    },
    {
     "name": "stdout",
     "output_type": "stream",
     "text": [
      "ground truth\n"
     ]
    },
    {
     "data": {
      "text/html": [
       "<div style='float:left;background:#c1453c;padding:10px;width:300px;'></div>"
      ],
      "text/plain": [
       "<IPython.core.display.HTML object>"
      ]
     },
     "metadata": {},
     "output_type": "display_data"
    },
    {
     "name": "stdout",
     "output_type": "stream",
     "text": [
      "----------------------------\n",
      "color name :  dead red roses\n",
      "generated\n"
     ]
    },
    {
     "data": {
      "text/html": [
       "<div style='float:left;background:#985e75;padding:10px;width:300px;'></div>"
      ],
      "text/plain": [
       "<IPython.core.display.HTML object>"
      ]
     },
     "metadata": {},
     "output_type": "display_data"
    },
    {
     "name": "stdout",
     "output_type": "stream",
     "text": [
      "ground truth\n"
     ]
    },
    {
     "data": {
      "text/html": [
       "<div style='float:left;background:#82202c;padding:10px;width:300px;'></div>"
      ],
      "text/plain": [
       "<IPython.core.display.HTML object>"
      ]
     },
     "metadata": {},
     "output_type": "display_data"
    },
    {
     "name": "stdout",
     "output_type": "stream",
     "text": [
      "----------------------------\n",
      "color name :  heat boredom\n",
      "generated\n"
     ]
    },
    {
     "data": {
      "text/html": [
       "<div style='float:left;background:#8d1115;padding:10px;width:300px;'></div>"
      ],
      "text/plain": [
       "<IPython.core.display.HTML object>"
      ]
     },
     "metadata": {},
     "output_type": "display_data"
    },
    {
     "name": "stdout",
     "output_type": "stream",
     "text": [
      "ground truth\n"
     ]
    },
    {
     "data": {
      "text/html": [
       "<div style='float:left;background:#c15853;padding:10px;width:300px;'></div>"
      ],
      "text/plain": [
       "<IPython.core.display.HTML object>"
      ]
     },
     "metadata": {},
     "output_type": "display_data"
    },
    {
     "name": "stdout",
     "output_type": "stream",
     "text": [
      "----------------------------\n",
      "color name :  soured mint\n",
      "generated\n"
     ]
    },
    {
     "data": {
      "text/html": [
       "<div style='float:left;background:#5ce188;padding:10px;width:300px;'></div>"
      ],
      "text/plain": [
       "<IPython.core.display.HTML object>"
      ]
     },
     "metadata": {},
     "output_type": "display_data"
    },
    {
     "name": "stdout",
     "output_type": "stream",
     "text": [
      "ground truth\n"
     ]
    },
    {
     "data": {
      "text/html": [
       "<div style='float:left;background:#8ddaa9;padding:10px;width:300px;'></div>"
      ],
      "text/plain": [
       "<IPython.core.display.HTML object>"
      ]
     },
     "metadata": {},
     "output_type": "display_data"
    },
    {
     "name": "stdout",
     "output_type": "stream",
     "text": [
      "----------------------------\n",
      "color name :  gypsy red\n",
      "generated\n"
     ]
    },
    {
     "data": {
      "text/html": [
       "<div style='float:left;background:#9b0408;padding:10px;width:300px;'></div>"
      ],
      "text/plain": [
       "<IPython.core.display.HTML object>"
      ]
     },
     "metadata": {},
     "output_type": "display_data"
    },
    {
     "name": "stdout",
     "output_type": "stream",
     "text": [
      "ground truth\n"
     ]
    },
    {
     "data": {
      "text/html": [
       "<div style='float:left;background:#bd2333;padding:10px;width:300px;'></div>"
      ],
      "text/plain": [
       "<IPython.core.display.HTML object>"
      ]
     },
     "metadata": {},
     "output_type": "display_data"
    },
    {
     "name": "stdout",
     "output_type": "stream",
     "text": [
      "----------------------------\n",
      "color name :  calming hatred\n",
      "generated\n"
     ]
    },
    {
     "data": {
      "text/html": [
       "<div style='float:left;background:#4de1ea;padding:10px;width:300px;'></div>"
      ],
      "text/plain": [
       "<IPython.core.display.HTML object>"
      ]
     },
     "metadata": {},
     "output_type": "display_data"
    },
    {
     "name": "stdout",
     "output_type": "stream",
     "text": [
      "ground truth\n"
     ]
    },
    {
     "data": {
      "text/html": [
       "<div style='float:left;background:#bf464f;padding:10px;width:300px;'></div>"
      ],
      "text/plain": [
       "<IPython.core.display.HTML object>"
      ]
     },
     "metadata": {},
     "output_type": "display_data"
    },
    {
     "name": "stdout",
     "output_type": "stream",
     "text": [
      "----------------------------\n",
      "color name :  august red \n",
      "generated\n"
     ]
    },
    {
     "data": {
      "text/html": [
       "<div style='float:left;background:#9e0f2d;padding:10px;width:300px;'></div>"
      ],
      "text/plain": [
       "<IPython.core.display.HTML object>"
      ]
     },
     "metadata": {},
     "output_type": "display_data"
    },
    {
     "name": "stdout",
     "output_type": "stream",
     "text": [
      "ground truth\n"
     ]
    },
    {
     "data": {
      "text/html": [
       "<div style='float:left;background:#c12f34;padding:10px;width:300px;'></div>"
      ],
      "text/plain": [
       "<IPython.core.display.HTML object>"
      ]
     },
     "metadata": {},
     "output_type": "display_data"
    },
    {
     "name": "stdout",
     "output_type": "stream",
     "text": [
      "----------------------------\n",
      "color name :  puckered avocado\n",
      "generated\n"
     ]
    },
    {
     "data": {
      "text/html": [
       "<div style='float:left;background:#336416;padding:10px;width:300px;'></div>"
      ],
      "text/plain": [
       "<IPython.core.display.HTML object>"
      ]
     },
     "metadata": {},
     "output_type": "display_data"
    },
    {
     "name": "stdout",
     "output_type": "stream",
     "text": [
      "ground truth\n"
     ]
    },
    {
     "data": {
      "text/html": [
       "<div style='float:left;background:#adaf3b;padding:10px;width:300px;'></div>"
      ],
      "text/plain": [
       "<IPython.core.display.HTML object>"
      ]
     },
     "metadata": {},
     "output_type": "display_data"
    },
    {
     "name": "stdout",
     "output_type": "stream",
     "text": [
      "----------------------------\n",
      "color name :  red sucker\n",
      "generated\n"
     ]
    },
    {
     "data": {
      "text/html": [
       "<div style='float:left;background:#f62331;padding:10px;width:300px;'></div>"
      ],
      "text/plain": [
       "<IPython.core.display.HTML object>"
      ]
     },
     "metadata": {},
     "output_type": "display_data"
    },
    {
     "name": "stdout",
     "output_type": "stream",
     "text": [
      "ground truth\n"
     ]
    },
    {
     "data": {
      "text/html": [
       "<div style='float:left;background:#c93632;padding:10px;width:300px;'></div>"
      ],
      "text/plain": [
       "<IPython.core.display.HTML object>"
      ]
     },
     "metadata": {},
     "output_type": "display_data"
    },
    {
     "name": "stdout",
     "output_type": "stream",
     "text": [
      "----------------------------\n",
      "color name :  red smell\n",
      "generated\n"
     ]
    },
    {
     "data": {
      "text/html": [
       "<div style='float:left;background:#db2f23;padding:10px;width:300px;'></div>"
      ],
      "text/plain": [
       "<IPython.core.display.HTML object>"
      ]
     },
     "metadata": {},
     "output_type": "display_data"
    },
    {
     "name": "stdout",
     "output_type": "stream",
     "text": [
      "ground truth\n"
     ]
    },
    {
     "data": {
      "text/html": [
       "<div style='float:left;background:#c83534;padding:10px;width:300px;'></div>"
      ],
      "text/plain": [
       "<IPython.core.display.HTML object>"
      ]
     },
     "metadata": {},
     "output_type": "display_data"
    },
    {
     "name": "stdout",
     "output_type": "stream",
     "text": [
      "----------------------------\n",
      "color name :  bordeaux red\n",
      "generated\n"
     ]
    },
    {
     "data": {
      "text/html": [
       "<div style='float:left;background:#961534;padding:10px;width:300px;'></div>"
      ],
      "text/plain": [
       "<IPython.core.display.HTML object>"
      ]
     },
     "metadata": {},
     "output_type": "display_data"
    },
    {
     "name": "stdout",
     "output_type": "stream",
     "text": [
      "ground truth\n"
     ]
    },
    {
     "data": {
      "text/html": [
       "<div style='float:left;background:#b6272a;padding:10px;width:300px;'></div>"
      ],
      "text/plain": [
       "<IPython.core.display.HTML object>"
      ]
     },
     "metadata": {},
     "output_type": "display_data"
    },
    {
     "name": "stdout",
     "output_type": "stream",
     "text": [
      "----------------------------\n",
      "color name :  noshi red\n",
      "generated\n"
     ]
    },
    {
     "data": {
      "text/html": [
       "<div style='float:left;background:#f22032;padding:10px;width:300px;'></div>"
      ],
      "text/plain": [
       "<IPython.core.display.HTML object>"
      ]
     },
     "metadata": {},
     "output_type": "display_data"
    },
    {
     "name": "stdout",
     "output_type": "stream",
     "text": [
      "ground truth\n"
     ]
    },
    {
     "data": {
      "text/html": [
       "<div style='float:left;background:#c63434;padding:10px;width:300px;'></div>"
      ],
      "text/plain": [
       "<IPython.core.display.HTML object>"
      ]
     },
     "metadata": {},
     "output_type": "display_data"
    },
    {
     "name": "stdout",
     "output_type": "stream",
     "text": [
      "----------------------------\n",
      "color name :  who murdered who\n",
      "generated\n"
     ]
    },
    {
     "data": {
      "text/html": [
       "<div style='float:left;background:#f85142;padding:10px;width:300px;'></div>"
      ],
      "text/plain": [
       "<IPython.core.display.HTML object>"
      ]
     },
     "metadata": {},
     "output_type": "display_data"
    },
    {
     "name": "stdout",
     "output_type": "stream",
     "text": [
      "ground truth\n"
     ]
    },
    {
     "data": {
      "text/html": [
       "<div style='float:left;background:#8a5441;padding:10px;width:300px;'></div>"
      ],
      "text/plain": [
       "<IPython.core.display.HTML object>"
      ]
     },
     "metadata": {},
     "output_type": "display_data"
    },
    {
     "name": "stdout",
     "output_type": "stream",
     "text": [
      "----------------------------\n",
      "color name :  redstar blue\n",
      "generated\n"
     ]
    },
    {
     "data": {
      "text/html": [
       "<div style='float:left;background:#2f4b81;padding:10px;width:300px;'></div>"
      ],
      "text/plain": [
       "<IPython.core.display.HTML object>"
      ]
     },
     "metadata": {},
     "output_type": "display_data"
    },
    {
     "name": "stdout",
     "output_type": "stream",
     "text": [
      "ground truth\n"
     ]
    },
    {
     "data": {
      "text/html": [
       "<div style='float:left;background:#706ba5;padding:10px;width:300px;'></div>"
      ],
      "text/plain": [
       "<IPython.core.display.HTML object>"
      ]
     },
     "metadata": {},
     "output_type": "display_data"
    },
    {
     "name": "stdout",
     "output_type": "stream",
     "text": [
      "----------------------------\n",
      "color name :  redsady\n",
      "generated\n"
     ]
    },
    {
     "data": {
      "text/html": [
       "<div style='float:left;background:#ca3205;padding:10px;width:300px;'></div>"
      ],
      "text/plain": [
       "<IPython.core.display.HTML object>"
      ]
     },
     "metadata": {},
     "output_type": "display_data"
    },
    {
     "name": "stdout",
     "output_type": "stream",
     "text": [
      "ground truth\n"
     ]
    },
    {
     "data": {
      "text/html": [
       "<div style='float:left;background:#c33d36;padding:10px;width:300px;'></div>"
      ],
      "text/plain": [
       "<IPython.core.display.HTML object>"
      ]
     },
     "metadata": {},
     "output_type": "display_data"
    },
    {
     "name": "stdout",
     "output_type": "stream",
     "text": [
      "----------------------------\n",
      "color name :  ladybug bright red\n",
      "generated\n"
     ]
    },
    {
     "data": {
      "text/html": [
       "<div style='float:left;background:#df070b;padding:10px;width:300px;'></div>"
      ],
      "text/plain": [
       "<IPython.core.display.HTML object>"
      ]
     },
     "metadata": {},
     "output_type": "display_data"
    },
    {
     "name": "stdout",
     "output_type": "stream",
     "text": [
      "ground truth\n"
     ]
    },
    {
     "data": {
      "text/html": [
       "<div style='float:left;background:#cc3534;padding:10px;width:300px;'></div>"
      ],
      "text/plain": [
       "<IPython.core.display.HTML object>"
      ]
     },
     "metadata": {},
     "output_type": "display_data"
    },
    {
     "name": "stdout",
     "output_type": "stream",
     "text": [
      "----------------------------\n",
      "color name :  devoured\n",
      "generated\n"
     ]
    },
    {
     "data": {
      "text/html": [
       "<div style='float:left;background:#051c21;padding:10px;width:300px;'></div>"
      ],
      "text/plain": [
       "<IPython.core.display.HTML object>"
      ]
     },
     "metadata": {},
     "output_type": "display_data"
    },
    {
     "name": "stdout",
     "output_type": "stream",
     "text": [
      "ground truth\n"
     ]
    },
    {
     "data": {
      "text/html": [
       "<div style='float:left;background:#a96e68;padding:10px;width:300px;'></div>"
      ],
      "text/plain": [
       "<IPython.core.display.HTML object>"
      ]
     },
     "metadata": {},
     "output_type": "display_data"
    },
    {
     "name": "stdout",
     "output_type": "stream",
     "text": [
      "----------------------------\n",
      "color name :  predawn\n",
      "generated\n"
     ]
    },
    {
     "data": {
      "text/html": [
       "<div style='float:left;background:#372a3a;padding:10px;width:300px;'></div>"
      ],
      "text/plain": [
       "<IPython.core.display.HTML object>"
      ]
     },
     "metadata": {},
     "output_type": "display_data"
    },
    {
     "name": "stdout",
     "output_type": "stream",
     "text": [
      "ground truth\n"
     ]
    },
    {
     "data": {
      "text/html": [
       "<div style='float:left;background:#a0787a;padding:10px;width:300px;'></div>"
      ],
      "text/plain": [
       "<IPython.core.display.HTML object>"
      ]
     },
     "metadata": {},
     "output_type": "display_data"
    },
    {
     "name": "stdout",
     "output_type": "stream",
     "text": [
      "----------------------------\n",
      "color name :  tred\n",
      "generated\n"
     ]
    },
    {
     "data": {
      "text/html": [
       "<div style='float:left;background:#899f72;padding:10px;width:300px;'></div>"
      ],
      "text/plain": [
       "<IPython.core.display.HTML object>"
      ]
     },
     "metadata": {},
     "output_type": "display_data"
    },
    {
     "name": "stdout",
     "output_type": "stream",
     "text": [
      "ground truth\n"
     ]
    },
    {
     "data": {
      "text/html": [
       "<div style='float:left;background:#b45c48;padding:10px;width:300px;'></div>"
      ],
      "text/plain": [
       "<IPython.core.display.HTML object>"
      ]
     },
     "metadata": {},
     "output_type": "display_data"
    },
    {
     "name": "stdout",
     "output_type": "stream",
     "text": [
      "----------------------------\n",
      "color name :  shamefully red\n",
      "generated\n"
     ]
    },
    {
     "data": {
      "text/html": [
       "<div style='float:left;background:#f1004e;padding:10px;width:300px;'></div>"
      ],
      "text/plain": [
       "<IPython.core.display.HTML object>"
      ]
     },
     "metadata": {},
     "output_type": "display_data"
    },
    {
     "name": "stdout",
     "output_type": "stream",
     "text": [
      "ground truth\n"
     ]
    },
    {
     "data": {
      "text/html": [
       "<div style='float:left;background:#c83135;padding:10px;width:300px;'></div>"
      ],
      "text/plain": [
       "<IPython.core.display.HTML object>"
      ]
     },
     "metadata": {},
     "output_type": "display_data"
    },
    {
     "name": "stdout",
     "output_type": "stream",
     "text": [
      "----------------------------\n",
      "color name :  italian red \n",
      "generated\n"
     ]
    },
    {
     "data": {
      "text/html": [
       "<div style='float:left;background:#af0d2c;padding:10px;width:300px;'></div>"
      ],
      "text/plain": [
       "<IPython.core.display.HTML object>"
      ]
     },
     "metadata": {},
     "output_type": "display_data"
    },
    {
     "name": "stdout",
     "output_type": "stream",
     "text": [
      "ground truth\n"
     ]
    },
    {
     "data": {
      "text/html": [
       "<div style='float:left;background:#c53234;padding:10px;width:300px;'></div>"
      ],
      "text/plain": [
       "<IPython.core.display.HTML object>"
      ]
     },
     "metadata": {},
     "output_type": "display_data"
    },
    {
     "name": "stdout",
     "output_type": "stream",
     "text": [
      "----------------------------\n",
      "color name :  rhapsody red\n",
      "generated\n"
     ]
    },
    {
     "data": {
      "text/html": [
       "<div style='float:left;background:#eb3543;padding:10px;width:300px;'></div>"
      ],
      "text/plain": [
       "<IPython.core.display.HTML object>"
      ]
     },
     "metadata": {},
     "output_type": "display_data"
    },
    {
     "name": "stdout",
     "output_type": "stream",
     "text": [
      "ground truth\n"
     ]
    },
    {
     "data": {
      "text/html": [
       "<div style='float:left;background:#c12a31;padding:10px;width:300px;'></div>"
      ],
      "text/plain": [
       "<IPython.core.display.HTML object>"
      ]
     },
     "metadata": {},
     "output_type": "display_data"
    },
    {
     "name": "stdout",
     "output_type": "stream",
     "text": [
      "----------------------------\n",
      "color name :  mexican red\n",
      "generated\n"
     ]
    },
    {
     "data": {
      "text/html": [
       "<div style='float:left;background:#9a202b;padding:10px;width:300px;'></div>"
      ],
      "text/plain": [
       "<IPython.core.display.HTML object>"
      ]
     },
     "metadata": {},
     "output_type": "display_data"
    },
    {
     "name": "stdout",
     "output_type": "stream",
     "text": [
      "ground truth\n"
     ]
    },
    {
     "data": {
      "text/html": [
       "<div style='float:left;background:#c2292e;padding:10px;width:300px;'></div>"
      ],
      "text/plain": [
       "<IPython.core.display.HTML object>"
      ]
     },
     "metadata": {},
     "output_type": "display_data"
    },
    {
     "name": "stdout",
     "output_type": "stream",
     "text": [
      "----------------------------\n",
      "color name :  reddishtranslucent\n",
      "generated\n"
     ]
    },
    {
     "data": {
      "text/html": [
       "<div style='float:left;background:#e64804;padding:10px;width:300px;'></div>"
      ],
      "text/plain": [
       "<IPython.core.display.HTML object>"
      ]
     },
     "metadata": {},
     "output_type": "display_data"
    },
    {
     "name": "stdout",
     "output_type": "stream",
     "text": [
      "ground truth\n"
     ]
    },
    {
     "data": {
      "text/html": [
       "<div style='float:left;background:#d1524a;padding:10px;width:300px;'></div>"
      ],
      "text/plain": [
       "<IPython.core.display.HTML object>"
      ]
     },
     "metadata": {},
     "output_type": "display_data"
    },
    {
     "name": "stdout",
     "output_type": "stream",
     "text": [
      "----------------------------\n",
      "color name :  red wout the red\n",
      "generated\n"
     ]
    },
    {
     "data": {
      "text/html": [
       "<div style='float:left;background:#df91ac;padding:10px;width:300px;'></div>"
      ],
      "text/plain": [
       "<IPython.core.display.HTML object>"
      ]
     },
     "metadata": {},
     "output_type": "display_data"
    },
    {
     "name": "stdout",
     "output_type": "stream",
     "text": [
      "ground truth\n"
     ]
    },
    {
     "data": {
      "text/html": [
       "<div style='float:left;background:#b92829;padding:10px;width:300px;'></div>"
      ],
      "text/plain": [
       "<IPython.core.display.HTML object>"
      ]
     },
     "metadata": {},
     "output_type": "display_data"
    },
    {
     "name": "stdout",
     "output_type": "stream",
     "text": [
      "----------------------------\n",
      "color name :  redish rose\n",
      "generated\n"
     ]
    },
    {
     "data": {
      "text/html": [
       "<div style='float:left;background:#be6886;padding:10px;width:300px;'></div>"
      ],
      "text/plain": [
       "<IPython.core.display.HTML object>"
      ]
     },
     "metadata": {},
     "output_type": "display_data"
    },
    {
     "name": "stdout",
     "output_type": "stream",
     "text": [
      "ground truth\n"
     ]
    },
    {
     "data": {
      "text/html": [
       "<div style='float:left;background:#c93e3f;padding:10px;width:300px;'></div>"
      ],
      "text/plain": [
       "<IPython.core.display.HTML object>"
      ]
     },
     "metadata": {},
     "output_type": "display_data"
    },
    {
     "name": "stdout",
     "output_type": "stream",
     "text": [
      "----------------------------\n",
      "color name :  sangria red\n",
      "generated\n"
     ]
    },
    {
     "data": {
      "text/html": [
       "<div style='float:left;background:#df0068;padding:10px;width:300px;'></div>"
      ],
      "text/plain": [
       "<IPython.core.display.HTML object>"
      ]
     },
     "metadata": {},
     "output_type": "display_data"
    },
    {
     "name": "stdout",
     "output_type": "stream",
     "text": [
      "ground truth\n"
     ]
    },
    {
     "data": {
      "text/html": [
       "<div style='float:left;background:#c93031;padding:10px;width:300px;'></div>"
      ],
      "text/plain": [
       "<IPython.core.display.HTML object>"
      ]
     },
     "metadata": {},
     "output_type": "display_data"
    },
    {
     "name": "stdout",
     "output_type": "stream",
     "text": [
      "----------------------------\n",
      "color name :  razz red\n",
      "generated\n"
     ]
    },
    {
     "data": {
      "text/html": [
       "<div style='float:left;background:#da7655;padding:10px;width:300px;'></div>"
      ],
      "text/plain": [
       "<IPython.core.display.HTML object>"
      ]
     },
     "metadata": {},
     "output_type": "display_data"
    },
    {
     "name": "stdout",
     "output_type": "stream",
     "text": [
      "ground truth\n"
     ]
    },
    {
     "data": {
      "text/html": [
       "<div style='float:left;background:#c82d30;padding:10px;width:300px;'></div>"
      ],
      "text/plain": [
       "<IPython.core.display.HTML object>"
      ]
     },
     "metadata": {},
     "output_type": "display_data"
    },
    {
     "name": "stdout",
     "output_type": "stream",
     "text": [
      "----------------------------\n",
      "color name :  googles new red\n",
      "generated\n"
     ]
    },
    {
     "data": {
      "text/html": [
       "<div style='float:left;background:#d94a39;padding:10px;width:300px;'></div>"
      ],
      "text/plain": [
       "<IPython.core.display.HTML object>"
      ]
     },
     "metadata": {},
     "output_type": "display_data"
    },
    {
     "name": "stdout",
     "output_type": "stream",
     "text": [
      "ground truth\n"
     ]
    },
    {
     "data": {
      "text/html": [
       "<div style='float:left;background:#ca4132;padding:10px;width:300px;'></div>"
      ],
      "text/plain": [
       "<IPython.core.display.HTML object>"
      ]
     },
     "metadata": {},
     "output_type": "display_data"
    },
    {
     "name": "stdout",
     "output_type": "stream",
     "text": [
      "----------------------------\n",
      "color name :  dark red hair\n",
      "generated\n"
     ]
    },
    {
     "data": {
      "text/html": [
       "<div style='float:left;background:#c7261a;padding:10px;width:300px;'></div>"
      ],
      "text/plain": [
       "<IPython.core.display.HTML object>"
      ]
     },
     "metadata": {},
     "output_type": "display_data"
    },
    {
     "name": "stdout",
     "output_type": "stream",
     "text": [
      "ground truth\n"
     ]
    },
    {
     "data": {
      "text/html": [
       "<div style='float:left;background:#741319;padding:10px;width:300px;'></div>"
      ],
      "text/plain": [
       "<IPython.core.display.HTML object>"
      ]
     },
     "metadata": {},
     "output_type": "display_data"
    },
    {
     "name": "stdout",
     "output_type": "stream",
     "text": [
      "----------------------------\n",
      "color name :  samuel red\n",
      "generated\n"
     ]
    },
    {
     "data": {
      "text/html": [
       "<div style='float:left;background:#d8272a;padding:10px;width:300px;'></div>"
      ],
      "text/plain": [
       "<IPython.core.display.HTML object>"
      ]
     },
     "metadata": {},
     "output_type": "display_data"
    },
    {
     "name": "stdout",
     "output_type": "stream",
     "text": [
      "ground truth\n"
     ]
    },
    {
     "data": {
      "text/html": [
       "<div style='float:left;background:#c73332;padding:10px;width:300px;'></div>"
      ],
      "text/plain": [
       "<IPython.core.display.HTML object>"
      ]
     },
     "metadata": {},
     "output_type": "display_data"
    },
    {
     "name": "stdout",
     "output_type": "stream",
     "text": [
      "----------------------------\n",
      "color name :  lichtred\n",
      "generated\n"
     ]
    },
    {
     "data": {
      "text/html": [
       "<div style='float:left;background:#d52225;padding:10px;width:300px;'></div>"
      ],
      "text/plain": [
       "<IPython.core.display.HTML object>"
      ]
     },
     "metadata": {},
     "output_type": "display_data"
    },
    {
     "name": "stdout",
     "output_type": "stream",
     "text": [
      "ground truth\n"
     ]
    },
    {
     "data": {
      "text/html": [
       "<div style='float:left;background:#cb3f40;padding:10px;width:300px;'></div>"
      ],
      "text/plain": [
       "<IPython.core.display.HTML object>"
      ]
     },
     "metadata": {},
     "output_type": "display_data"
    },
    {
     "name": "stdout",
     "output_type": "stream",
     "text": [
      "----------------------------\n",
      "color name :  credit blues\n",
      "generated\n"
     ]
    },
    {
     "data": {
      "text/html": [
       "<div style='float:left;background:#6f418a;padding:10px;width:300px;'></div>"
      ],
      "text/plain": [
       "<IPython.core.display.HTML object>"
      ]
     },
     "metadata": {},
     "output_type": "display_data"
    },
    {
     "name": "stdout",
     "output_type": "stream",
     "text": [
      "ground truth\n"
     ]
    },
    {
     "data": {
      "text/html": [
       "<div style='float:left;background:#758ec2;padding:10px;width:300px;'></div>"
      ],
      "text/plain": [
       "<IPython.core.display.HTML object>"
      ]
     },
     "metadata": {},
     "output_type": "display_data"
    },
    {
     "name": "stdout",
     "output_type": "stream",
     "text": [
      "----------------------------\n",
      "color name :  red violet velvet\n",
      "generated\n"
     ]
    },
    {
     "data": {
      "text/html": [
       "<div style='float:left;background:#710567;padding:10px;width:300px;'></div>"
      ],
      "text/plain": [
       "<IPython.core.display.HTML object>"
      ]
     },
     "metadata": {},
     "output_type": "display_data"
    },
    {
     "name": "stdout",
     "output_type": "stream",
     "text": [
      "ground truth\n"
     ]
    },
    {
     "data": {
      "text/html": [
       "<div style='float:left;background:#841b72;padding:10px;width:300px;'></div>"
      ],
      "text/plain": [
       "<IPython.core.display.HTML object>"
      ]
     },
     "metadata": {},
     "output_type": "display_data"
    },
    {
     "name": "stdout",
     "output_type": "stream",
     "text": [
      "----------------------------\n",
      "color name :  looks fractured\n",
      "generated\n"
     ]
    },
    {
     "data": {
      "text/html": [
       "<div style='float:left;background:#2df3a2;padding:10px;width:300px;'></div>"
      ],
      "text/plain": [
       "<IPython.core.display.HTML object>"
      ]
     },
     "metadata": {},
     "output_type": "display_data"
    },
    {
     "name": "stdout",
     "output_type": "stream",
     "text": [
      "ground truth\n"
     ]
    },
    {
     "data": {
      "text/html": [
       "<div style='float:left;background:#b2606f;padding:10px;width:300px;'></div>"
      ],
      "text/plain": [
       "<IPython.core.display.HTML object>"
      ]
     },
     "metadata": {},
     "output_type": "display_data"
    },
    {
     "name": "stdout",
     "output_type": "stream",
     "text": [
      "----------------------------\n",
      "color name :  extensive red\n",
      "generated\n"
     ]
    },
    {
     "data": {
      "text/html": [
       "<div style='float:left;background:#e40708;padding:10px;width:300px;'></div>"
      ],
      "text/plain": [
       "<IPython.core.display.HTML object>"
      ]
     },
     "metadata": {},
     "output_type": "display_data"
    },
    {
     "name": "stdout",
     "output_type": "stream",
     "text": [
      "ground truth\n"
     ]
    },
    {
     "data": {
      "text/html": [
       "<div style='float:left;background:#c12830;padding:10px;width:300px;'></div>"
      ],
      "text/plain": [
       "<IPython.core.display.HTML object>"
      ]
     },
     "metadata": {},
     "output_type": "display_data"
    },
    {
     "name": "stdout",
     "output_type": "stream",
     "text": [
      "----------------------------\n",
      "color name :  moderatereddishbrown\n",
      "generated\n"
     ]
    },
    {
     "data": {
      "text/html": [
       "<div style='float:left;background:#76443b;padding:10px;width:300px;'></div>"
      ],
      "text/plain": [
       "<IPython.core.display.HTML object>"
      ]
     },
     "metadata": {},
     "output_type": "display_data"
    },
    {
     "name": "stdout",
     "output_type": "stream",
     "text": [
      "ground truth\n"
     ]
    },
    {
     "data": {
      "text/html": [
       "<div style='float:left;background:#6a4536;padding:10px;width:300px;'></div>"
      ],
      "text/plain": [
       "<IPython.core.display.HTML object>"
      ]
     },
     "metadata": {},
     "output_type": "display_data"
    },
    {
     "name": "stdout",
     "output_type": "stream",
     "text": [
      "----------------------------\n",
      "color name :  incredible gem\n",
      "generated\n"
     ]
    },
    {
     "data": {
      "text/html": [
       "<div style='float:left;background:#30eec5;padding:10px;width:300px;'></div>"
      ],
      "text/plain": [
       "<IPython.core.display.HTML object>"
      ]
     },
     "metadata": {},
     "output_type": "display_data"
    },
    {
     "name": "stdout",
     "output_type": "stream",
     "text": [
      "ground truth\n"
     ]
    },
    {
     "data": {
      "text/html": [
       "<div style='float:left;background:#a98c8a;padding:10px;width:300px;'></div>"
      ],
      "text/plain": [
       "<IPython.core.display.HTML object>"
      ]
     },
     "metadata": {},
     "output_type": "display_data"
    },
    {
     "name": "stdout",
     "output_type": "stream",
     "text": [
      "----------------------------\n",
      "color name :  snow covered horizon\n",
      "generated\n"
     ]
    },
    {
     "data": {
      "text/html": [
       "<div style='float:left;background:#cee4f4;padding:10px;width:300px;'></div>"
      ],
      "text/plain": [
       "<IPython.core.display.HTML object>"
      ]
     },
     "metadata": {},
     "output_type": "display_data"
    },
    {
     "name": "stdout",
     "output_type": "stream",
     "text": [
      "ground truth\n"
     ]
    },
    {
     "data": {
      "text/html": [
       "<div style='float:left;background:#b4b8be;padding:10px;width:300px;'></div>"
      ],
      "text/plain": [
       "<IPython.core.display.HTML object>"
      ]
     },
     "metadata": {},
     "output_type": "display_data"
    },
    {
     "name": "stdout",
     "output_type": "stream",
     "text": [
      "----------------------------\n",
      "color name :  extremely pale red\n",
      "generated\n"
     ]
    },
    {
     "data": {
      "text/html": [
       "<div style='float:left;background:#fddfe0;padding:10px;width:300px;'></div>"
      ],
      "text/plain": [
       "<IPython.core.display.HTML object>"
      ]
     },
     "metadata": {},
     "output_type": "display_data"
    },
    {
     "name": "stdout",
     "output_type": "stream",
     "text": [
      "ground truth\n"
     ]
    },
    {
     "data": {
      "text/html": [
       "<div style='float:left;background:#e46f6d;padding:10px;width:300px;'></div>"
      ],
      "text/plain": [
       "<IPython.core.display.HTML object>"
      ]
     },
     "metadata": {},
     "output_type": "display_data"
    },
    {
     "name": "stdout",
     "output_type": "stream",
     "text": [
      "----------------------------\n",
      "color name :  make you sorry red\n",
      "generated\n"
     ]
    },
    {
     "data": {
      "text/html": [
       "<div style='float:left;background:#c8181c;padding:10px;width:300px;'></div>"
      ],
      "text/plain": [
       "<IPython.core.display.HTML object>"
      ]
     },
     "metadata": {},
     "output_type": "display_data"
    },
    {
     "name": "stdout",
     "output_type": "stream",
     "text": [
      "ground truth\n"
     ]
    },
    {
     "data": {
      "text/html": [
       "<div style='float:left;background:#c42e34;padding:10px;width:300px;'></div>"
      ],
      "text/plain": [
       "<IPython.core.display.HTML object>"
      ]
     },
     "metadata": {},
     "output_type": "display_data"
    },
    {
     "name": "stdout",
     "output_type": "stream",
     "text": [
      "----------------------------\n",
      "color name :  too lovely red\n",
      "generated\n"
     ]
    },
    {
     "data": {
      "text/html": [
       "<div style='float:left;background:#f70557;padding:10px;width:300px;'></div>"
      ],
      "text/plain": [
       "<IPython.core.display.HTML object>"
      ]
     },
     "metadata": {},
     "output_type": "display_data"
    },
    {
     "name": "stdout",
     "output_type": "stream",
     "text": [
      "ground truth\n"
     ]
    },
    {
     "data": {
      "text/html": [
       "<div style='float:left;background:#c52e35;padding:10px;width:300px;'></div>"
      ],
      "text/plain": [
       "<IPython.core.display.HTML object>"
      ]
     },
     "metadata": {},
     "output_type": "display_data"
    },
    {
     "name": "stdout",
     "output_type": "stream",
     "text": [
      "----------------------------\n",
      "color name :  tortured berry\n",
      "generated\n"
     ]
    },
    {
     "data": {
      "text/html": [
       "<div style='float:left;background:#41036f;padding:10px;width:300px;'></div>"
      ],
      "text/plain": [
       "<IPython.core.display.HTML object>"
      ]
     },
     "metadata": {},
     "output_type": "display_data"
    },
    {
     "name": "stdout",
     "output_type": "stream",
     "text": [
      "ground truth\n"
     ]
    },
    {
     "data": {
      "text/html": [
       "<div style='float:left;background:#9f3155;padding:10px;width:300px;'></div>"
      ],
      "text/plain": [
       "<IPython.core.display.HTML object>"
      ]
     },
     "metadata": {},
     "output_type": "display_data"
    },
    {
     "name": "stdout",
     "output_type": "stream",
     "text": [
      "----------------------------\n",
      "color name :  redblack\n",
      "generated\n"
     ]
    },
    {
     "data": {
      "text/html": [
       "<div style='float:left;background:#401e1f;padding:10px;width:300px;'></div>"
      ],
      "text/plain": [
       "<IPython.core.display.HTML object>"
      ]
     },
     "metadata": {},
     "output_type": "display_data"
    },
    {
     "name": "stdout",
     "output_type": "stream",
     "text": [
      "ground truth\n"
     ]
    },
    {
     "data": {
      "text/html": [
       "<div style='float:left;background:#4f1216;padding:10px;width:300px;'></div>"
      ],
      "text/plain": [
       "<IPython.core.display.HTML object>"
      ]
     },
     "metadata": {},
     "output_type": "display_data"
    },
    {
     "name": "stdout",
     "output_type": "stream",
     "text": [
      "----------------------------\n",
      "color name :  accents mannered\n",
      "generated\n"
     ]
    },
    {
     "data": {
      "text/html": [
       "<div style='float:left;background:#f2e4e4;padding:10px;width:300px;'></div>"
      ],
      "text/plain": [
       "<IPython.core.display.HTML object>"
      ]
     },
     "metadata": {},
     "output_type": "display_data"
    },
    {
     "name": "stdout",
     "output_type": "stream",
     "text": [
      "ground truth\n"
     ]
    },
    {
     "data": {
      "text/html": [
       "<div style='float:left;background:#9f6f63;padding:10px;width:300px;'></div>"
      ],
      "text/plain": [
       "<IPython.core.display.HTML object>"
      ]
     },
     "metadata": {},
     "output_type": "display_data"
    },
    {
     "name": "stdout",
     "output_type": "stream",
     "text": [
      "----------------------------\n",
      "color name :  abundance of red\n",
      "generated\n"
     ]
    },
    {
     "data": {
      "text/html": [
       "<div style='float:left;background:#f0160f;padding:10px;width:300px;'></div>"
      ],
      "text/plain": [
       "<IPython.core.display.HTML object>"
      ]
     },
     "metadata": {},
     "output_type": "display_data"
    },
    {
     "name": "stdout",
     "output_type": "stream",
     "text": [
      "ground truth\n"
     ]
    },
    {
     "data": {
      "text/html": [
       "<div style='float:left;background:#c53233;padding:10px;width:300px;'></div>"
      ],
      "text/plain": [
       "<IPython.core.display.HTML object>"
      ]
     },
     "metadata": {},
     "output_type": "display_data"
    },
    {
     "name": "stdout",
     "output_type": "stream",
     "text": [
      "----------------------------\n",
      "color name :  red chambray\n",
      "generated\n"
     ]
    },
    {
     "data": {
      "text/html": [
       "<div style='float:left;background:#f75b67;padding:10px;width:300px;'></div>"
      ],
      "text/plain": [
       "<IPython.core.display.HTML object>"
      ]
     },
     "metadata": {},
     "output_type": "display_data"
    },
    {
     "name": "stdout",
     "output_type": "stream",
     "text": [
      "ground truth\n"
     ]
    },
    {
     "data": {
      "text/html": [
       "<div style='float:left;background:#c43032;padding:10px;width:300px;'></div>"
      ],
      "text/plain": [
       "<IPython.core.display.HTML object>"
      ]
     },
     "metadata": {},
     "output_type": "display_data"
    },
    {
     "name": "stdout",
     "output_type": "stream",
     "text": [
      "----------------------------\n",
      "color name :  beauty red\n",
      "generated\n"
     ]
    },
    {
     "data": {
      "text/html": [
       "<div style='float:left;background:#dd5645;padding:10px;width:300px;'></div>"
      ],
      "text/plain": [
       "<IPython.core.display.HTML object>"
      ]
     },
     "metadata": {},
     "output_type": "display_data"
    },
    {
     "name": "stdout",
     "output_type": "stream",
     "text": [
      "ground truth\n"
     ]
    },
    {
     "data": {
      "text/html": [
       "<div style='float:left;background:#c32c2f;padding:10px;width:300px;'></div>"
      ],
      "text/plain": [
       "<IPython.core.display.HTML object>"
      ]
     },
     "metadata": {},
     "output_type": "display_data"
    },
    {
     "name": "stdout",
     "output_type": "stream",
     "text": [
      "----------------------------\n",
      "color name :  red tile\n",
      "generated\n"
     ]
    },
    {
     "data": {
      "text/html": [
       "<div style='float:left;background:#880908;padding:10px;width:300px;'></div>"
      ],
      "text/plain": [
       "<IPython.core.display.HTML object>"
      ]
     },
     "metadata": {},
     "output_type": "display_data"
    },
    {
     "name": "stdout",
     "output_type": "stream",
     "text": [
      "ground truth\n"
     ]
    },
    {
     "data": {
      "text/html": [
       "<div style='float:left;background:#c0302f;padding:10px;width:300px;'></div>"
      ],
      "text/plain": [
       "<IPython.core.display.HTML object>"
      ]
     },
     "metadata": {},
     "output_type": "display_data"
    },
    {
     "name": "stdout",
     "output_type": "stream",
     "text": [
      "----------------------------\n",
      "color name :  lovin red \n",
      "generated\n"
     ]
    },
    {
     "data": {
      "text/html": [
       "<div style='float:left;background:#c02d48;padding:10px;width:300px;'></div>"
      ],
      "text/plain": [
       "<IPython.core.display.HTML object>"
      ]
     },
     "metadata": {},
     "output_type": "display_data"
    },
    {
     "name": "stdout",
     "output_type": "stream",
     "text": [
      "ground truth\n"
     ]
    },
    {
     "data": {
      "text/html": [
       "<div style='float:left;background:#c83138;padding:10px;width:300px;'></div>"
      ],
      "text/plain": [
       "<IPython.core.display.HTML object>"
      ]
     },
     "metadata": {},
     "output_type": "display_data"
    },
    {
     "name": "stdout",
     "output_type": "stream",
     "text": [
      "----------------------------\n",
      "color name :  cream  sugared tea\n",
      "generated\n"
     ]
    },
    {
     "data": {
      "text/html": [
       "<div style='float:left;background:#ddc7a4;padding:10px;width:300px;'></div>"
      ],
      "text/plain": [
       "<IPython.core.display.HTML object>"
      ]
     },
     "metadata": {},
     "output_type": "display_data"
    },
    {
     "name": "stdout",
     "output_type": "stream",
     "text": [
      "ground truth\n"
     ]
    },
    {
     "data": {
      "text/html": [
       "<div style='float:left;background:#eed7ae;padding:10px;width:300px;'></div>"
      ],
      "text/plain": [
       "<IPython.core.display.HTML object>"
      ]
     },
     "metadata": {},
     "output_type": "display_data"
    },
    {
     "name": "stdout",
     "output_type": "stream",
     "text": [
      "----------------------------\n",
      "color name :  red stockings\n",
      "generated\n"
     ]
    },
    {
     "data": {
      "text/html": [
       "<div style='float:left;background:#f41145;padding:10px;width:300px;'></div>"
      ],
      "text/plain": [
       "<IPython.core.display.HTML object>"
      ]
     },
     "metadata": {},
     "output_type": "display_data"
    },
    {
     "name": "stdout",
     "output_type": "stream",
     "text": [
      "ground truth\n"
     ]
    },
    {
     "data": {
      "text/html": [
       "<div style='float:left;background:#ca3431;padding:10px;width:300px;'></div>"
      ],
      "text/plain": [
       "<IPython.core.display.HTML object>"
      ]
     },
     "metadata": {},
     "output_type": "display_data"
    },
    {
     "name": "stdout",
     "output_type": "stream",
     "text": [
      "----------------------------\n",
      "color name :  red wedge\n",
      "generated\n"
     ]
    },
    {
     "data": {
      "text/html": [
       "<div style='float:left;background:#752a2e;padding:10px;width:300px;'></div>"
      ],
      "text/plain": [
       "<IPython.core.display.HTML object>"
      ]
     },
     "metadata": {},
     "output_type": "display_data"
    },
    {
     "name": "stdout",
     "output_type": "stream",
     "text": [
      "ground truth\n"
     ]
    },
    {
     "data": {
      "text/html": [
       "<div style='float:left;background:#be312e;padding:10px;width:300px;'></div>"
      ],
      "text/plain": [
       "<IPython.core.display.HTML object>"
      ]
     },
     "metadata": {},
     "output_type": "display_data"
    },
    {
     "name": "stdout",
     "output_type": "stream",
     "text": [
      "----------------------------\n",
      "color name :  tuscan tile old red\n",
      "generated\n"
     ]
    },
    {
     "data": {
      "text/html": [
       "<div style='float:left;background:#b36a43;padding:10px;width:300px;'></div>"
      ],
      "text/plain": [
       "<IPython.core.display.HTML object>"
      ]
     },
     "metadata": {},
     "output_type": "display_data"
    },
    {
     "name": "stdout",
     "output_type": "stream",
     "text": [
      "ground truth\n"
     ]
    },
    {
     "data": {
      "text/html": [
       "<div style='float:left;background:#ba3232;padding:10px;width:300px;'></div>"
      ],
      "text/plain": [
       "<IPython.core.display.HTML object>"
      ]
     },
     "metadata": {},
     "output_type": "display_data"
    },
    {
     "name": "stdout",
     "output_type": "stream",
     "text": [
      "----------------------------\n",
      "color name :  gorgeous vivid red\n",
      "generated\n"
     ]
    },
    {
     "data": {
      "text/html": [
       "<div style='float:left;background:#f40415;padding:10px;width:300px;'></div>"
      ],
      "text/plain": [
       "<IPython.core.display.HTML object>"
      ]
     },
     "metadata": {},
     "output_type": "display_data"
    },
    {
     "name": "stdout",
     "output_type": "stream",
     "text": [
      "ground truth\n"
     ]
    },
    {
     "data": {
      "text/html": [
       "<div style='float:left;background:#b92434;padding:10px;width:300px;'></div>"
      ],
      "text/plain": [
       "<IPython.core.display.HTML object>"
      ]
     },
     "metadata": {},
     "output_type": "display_data"
    },
    {
     "name": "stdout",
     "output_type": "stream",
     "text": [
      "----------------------------\n",
      "color name :  momentum red\n",
      "generated\n"
     ]
    },
    {
     "data": {
      "text/html": [
       "<div style='float:left;background:#a60e35;padding:10px;width:300px;'></div>"
      ],
      "text/plain": [
       "<IPython.core.display.HTML object>"
      ]
     },
     "metadata": {},
     "output_type": "display_data"
    },
    {
     "name": "stdout",
     "output_type": "stream",
     "text": [
      "ground truth\n"
     ]
    },
    {
     "data": {
      "text/html": [
       "<div style='float:left;background:#c73434;padding:10px;width:300px;'></div>"
      ],
      "text/plain": [
       "<IPython.core.display.HTML object>"
      ]
     },
     "metadata": {},
     "output_type": "display_data"
    },
    {
     "name": "stdout",
     "output_type": "stream",
     "text": [
      "----------------------------\n",
      "color name :  motzart red\n",
      "generated\n"
     ]
    },
    {
     "data": {
      "text/html": [
       "<div style='float:left;background:#b02919;padding:10px;width:300px;'></div>"
      ],
      "text/plain": [
       "<IPython.core.display.HTML object>"
      ]
     },
     "metadata": {},
     "output_type": "display_data"
    },
    {
     "name": "stdout",
     "output_type": "stream",
     "text": [
      "ground truth\n"
     ]
    },
    {
     "data": {
      "text/html": [
       "<div style='float:left;background:#c52f30;padding:10px;width:300px;'></div>"
      ],
      "text/plain": [
       "<IPython.core.display.HTML object>"
      ]
     },
     "metadata": {},
     "output_type": "display_data"
    },
    {
     "name": "stdout",
     "output_type": "stream",
     "text": [
      "----------------------------\n",
      "color name :  red goku\n",
      "generated\n"
     ]
    },
    {
     "data": {
      "text/html": [
       "<div style='float:left;background:#b93176;padding:10px;width:300px;'></div>"
      ],
      "text/plain": [
       "<IPython.core.display.HTML object>"
      ]
     },
     "metadata": {},
     "output_type": "display_data"
    },
    {
     "name": "stdout",
     "output_type": "stream",
     "text": [
      "ground truth\n"
     ]
    },
    {
     "data": {
      "text/html": [
       "<div style='float:left;background:#c93732;padding:10px;width:300px;'></div>"
      ],
      "text/plain": [
       "<IPython.core.display.HTML object>"
      ]
     },
     "metadata": {},
     "output_type": "display_data"
    },
    {
     "name": "stdout",
     "output_type": "stream",
     "text": [
      "----------------------------\n",
      "color name :  ured\n",
      "generated\n"
     ]
    },
    {
     "data": {
      "text/html": [
       "<div style='float:left;background:#f05a4f;padding:10px;width:300px;'></div>"
      ],
      "text/plain": [
       "<IPython.core.display.HTML object>"
      ]
     },
     "metadata": {},
     "output_type": "display_data"
    },
    {
     "name": "stdout",
     "output_type": "stream",
     "text": [
      "ground truth\n"
     ]
    },
    {
     "data": {
      "text/html": [
       "<div style='float:left;background:#b96c49;padding:10px;width:300px;'></div>"
      ],
      "text/plain": [
       "<IPython.core.display.HTML object>"
      ]
     },
     "metadata": {},
     "output_type": "display_data"
    },
    {
     "name": "stdout",
     "output_type": "stream",
     "text": [
      "----------------------------\n",
      "color name :  bandolero red rc\n",
      "generated\n"
     ]
    },
    {
     "data": {
      "text/html": [
       "<div style='float:left;background:#7b3148;padding:10px;width:300px;'></div>"
      ],
      "text/plain": [
       "<IPython.core.display.HTML object>"
      ]
     },
     "metadata": {},
     "output_type": "display_data"
    },
    {
     "name": "stdout",
     "output_type": "stream",
     "text": [
      "ground truth\n"
     ]
    },
    {
     "data": {
      "text/html": [
       "<div style='float:left;background:#c83335;padding:10px;width:300px;'></div>"
      ],
      "text/plain": [
       "<IPython.core.display.HTML object>"
      ]
     },
     "metadata": {},
     "output_type": "display_data"
    },
    {
     "name": "stdout",
     "output_type": "stream",
     "text": [
      "----------------------------\n",
      "color name :  sedan red\n",
      "generated\n"
     ]
    },
    {
     "data": {
      "text/html": [
       "<div style='float:left;background:#b2010b;padding:10px;width:300px;'></div>"
      ],
      "text/plain": [
       "<IPython.core.display.HTML object>"
      ]
     },
     "metadata": {},
     "output_type": "display_data"
    },
    {
     "name": "stdout",
     "output_type": "stream",
     "text": [
      "ground truth\n"
     ]
    },
    {
     "data": {
      "text/html": [
       "<div style='float:left;background:#c02e2f;padding:10px;width:300px;'></div>"
      ],
      "text/plain": [
       "<IPython.core.display.HTML object>"
      ]
     },
     "metadata": {},
     "output_type": "display_data"
    },
    {
     "name": "stdout",
     "output_type": "stream",
     "text": [
      "----------------------------\n",
      "color name :  murderedonnewyears\n",
      "generated\n"
     ]
    },
    {
     "data": {
      "text/html": [
       "<div style='float:left;background:#df8e8a;padding:10px;width:300px;'></div>"
      ],
      "text/plain": [
       "<IPython.core.display.HTML object>"
      ]
     },
     "metadata": {},
     "output_type": "display_data"
    },
    {
     "name": "stdout",
     "output_type": "stream",
     "text": [
      "ground truth\n"
     ]
    },
    {
     "data": {
      "text/html": [
       "<div style='float:left;background:#904845;padding:10px;width:300px;'></div>"
      ],
      "text/plain": [
       "<IPython.core.display.HTML object>"
      ]
     },
     "metadata": {},
     "output_type": "display_data"
    },
    {
     "name": "stdout",
     "output_type": "stream",
     "text": [
      "----------------------------\n",
      "color name :  regal predator\n",
      "generated\n"
     ]
    },
    {
     "data": {
      "text/html": [
       "<div style='float:left;background:#9e0e57;padding:10px;width:300px;'></div>"
      ],
      "text/plain": [
       "<IPython.core.display.HTML object>"
      ]
     },
     "metadata": {},
     "output_type": "display_data"
    },
    {
     "name": "stdout",
     "output_type": "stream",
     "text": [
      "ground truth\n"
     ]
    },
    {
     "data": {
      "text/html": [
       "<div style='float:left;background:#ab5e77;padding:10px;width:300px;'></div>"
      ],
      "text/plain": [
       "<IPython.core.display.HTML object>"
      ]
     },
     "metadata": {},
     "output_type": "display_data"
    },
    {
     "name": "stdout",
     "output_type": "stream",
     "text": [
      "----------------------------\n",
      "color name :  bobored\n",
      "generated\n"
     ]
    },
    {
     "data": {
      "text/html": [
       "<div style='float:left;background:#ef3a62;padding:10px;width:300px;'></div>"
      ],
      "text/plain": [
       "<IPython.core.display.HTML object>"
      ]
     },
     "metadata": {},
     "output_type": "display_data"
    },
    {
     "name": "stdout",
     "output_type": "stream",
     "text": [
      "ground truth\n"
     ]
    },
    {
     "data": {
      "text/html": [
       "<div style='float:left;background:#a07165;padding:10px;width:300px;'></div>"
      ],
      "text/plain": [
       "<IPython.core.display.HTML object>"
      ]
     },
     "metadata": {},
     "output_type": "display_data"
    },
    {
     "name": "stdout",
     "output_type": "stream",
     "text": [
      "----------------------------\n",
      "color name :  flustered\n",
      "generated\n"
     ]
    },
    {
     "data": {
      "text/html": [
       "<div style='float:left;background:#da5650;padding:10px;width:300px;'></div>"
      ],
      "text/plain": [
       "<IPython.core.display.HTML object>"
      ]
     },
     "metadata": {},
     "output_type": "display_data"
    },
    {
     "name": "stdout",
     "output_type": "stream",
     "text": [
      "ground truth\n"
     ]
    },
    {
     "data": {
      "text/html": [
       "<div style='float:left;background:#c66162;padding:10px;width:300px;'></div>"
      ],
      "text/plain": [
       "<IPython.core.display.HTML object>"
      ]
     },
     "metadata": {},
     "output_type": "display_data"
    },
    {
     "name": "stdout",
     "output_type": "stream",
     "text": [
      "----------------------------\n",
      "color name :  red heat\n",
      "generated\n"
     ]
    },
    {
     "data": {
      "text/html": [
       "<div style='float:left;background:#b65342;padding:10px;width:300px;'></div>"
      ],
      "text/plain": [
       "<IPython.core.display.HTML object>"
      ]
     },
     "metadata": {},
     "output_type": "display_data"
    },
    {
     "name": "stdout",
     "output_type": "stream",
     "text": [
      "ground truth\n"
     ]
    },
    {
     "data": {
      "text/html": [
       "<div style='float:left;background:#c52e2e;padding:10px;width:300px;'></div>"
      ],
      "text/plain": [
       "<IPython.core.display.HTML object>"
      ]
     },
     "metadata": {},
     "output_type": "display_data"
    },
    {
     "name": "stdout",
     "output_type": "stream",
     "text": [
      "----------------------------\n",
      "color name :  flavored green\n",
      "generated\n"
     ]
    },
    {
     "data": {
      "text/html": [
       "<div style='float:left;background:#699e28;padding:10px;width:300px;'></div>"
      ],
      "text/plain": [
       "<IPython.core.display.HTML object>"
      ]
     },
     "metadata": {},
     "output_type": "display_data"
    },
    {
     "name": "stdout",
     "output_type": "stream",
     "text": [
      "ground truth\n"
     ]
    },
    {
     "data": {
      "text/html": [
       "<div style='float:left;background:#6eb45a;padding:10px;width:300px;'></div>"
      ],
      "text/plain": [
       "<IPython.core.display.HTML object>"
      ]
     },
     "metadata": {},
     "output_type": "display_data"
    },
    {
     "name": "stdout",
     "output_type": "stream",
     "text": [
      "----------------------------\n",
      "color name :  red daisies\n",
      "generated\n"
     ]
    },
    {
     "data": {
      "text/html": [
       "<div style='float:left;background:#be1f0a;padding:10px;width:300px;'></div>"
      ],
      "text/plain": [
       "<IPython.core.display.HTML object>"
      ]
     },
     "metadata": {},
     "output_type": "display_data"
    },
    {
     "name": "stdout",
     "output_type": "stream",
     "text": [
      "ground truth\n"
     ]
    },
    {
     "data": {
      "text/html": [
       "<div style='float:left;background:#c5322e;padding:10px;width:300px;'></div>"
      ],
      "text/plain": [
       "<IPython.core.display.HTML object>"
      ]
     },
     "metadata": {},
     "output_type": "display_data"
    },
    {
     "name": "stdout",
     "output_type": "stream",
     "text": [
      "----------------------------\n",
      "color name :  wired water\n",
      "generated\n"
     ]
    },
    {
     "data": {
      "text/html": [
       "<div style='float:left;background:#3b6450;padding:10px;width:300px;'></div>"
      ],
      "text/plain": [
       "<IPython.core.display.HTML object>"
      ]
     },
     "metadata": {},
     "output_type": "display_data"
    },
    {
     "name": "stdout",
     "output_type": "stream",
     "text": [
      "ground truth\n"
     ]
    },
    {
     "data": {
      "text/html": [
       "<div style='float:left;background:#789096;padding:10px;width:300px;'></div>"
      ],
      "text/plain": [
       "<IPython.core.display.HTML object>"
      ]
     },
     "metadata": {},
     "output_type": "display_data"
    },
    {
     "name": "stdout",
     "output_type": "stream",
     "text": [
      "----------------------------\n",
      "color name :  princess feather red\n",
      "generated\n"
     ]
    },
    {
     "data": {
      "text/html": [
       "<div style='float:left;background:#b7160b;padding:10px;width:300px;'></div>"
      ],
      "text/plain": [
       "<IPython.core.display.HTML object>"
      ]
     },
     "metadata": {},
     "output_type": "display_data"
    },
    {
     "name": "stdout",
     "output_type": "stream",
     "text": [
      "ground truth\n"
     ]
    },
    {
     "data": {
      "text/html": [
       "<div style='float:left;background:#cb3f40;padding:10px;width:300px;'></div>"
      ],
      "text/plain": [
       "<IPython.core.display.HTML object>"
      ]
     },
     "metadata": {},
     "output_type": "display_data"
    },
    {
     "name": "stdout",
     "output_type": "stream",
     "text": [
      "----------------------------\n",
      "color name :  nordic red\n",
      "generated\n"
     ]
    },
    {
     "data": {
      "text/html": [
       "<div style='float:left;background:#e94452;padding:10px;width:300px;'></div>"
      ],
      "text/plain": [
       "<IPython.core.display.HTML object>"
      ]
     },
     "metadata": {},
     "output_type": "display_data"
    },
    {
     "name": "stdout",
     "output_type": "stream",
     "text": [
      "ground truth\n"
     ]
    },
    {
     "data": {
      "text/html": [
       "<div style='float:left;background:#c73233;padding:10px;width:300px;'></div>"
      ],
      "text/plain": [
       "<IPython.core.display.HTML object>"
      ]
     },
     "metadata": {},
     "output_type": "display_data"
    },
    {
     "name": "stdout",
     "output_type": "stream",
     "text": [
      "----------------------------\n",
      "color name :  yin passion red\n",
      "generated\n"
     ]
    },
    {
     "data": {
      "text/html": [
       "<div style='float:left;background:#f80013;padding:10px;width:300px;'></div>"
      ],
      "text/plain": [
       "<IPython.core.display.HTML object>"
      ]
     },
     "metadata": {},
     "output_type": "display_data"
    },
    {
     "name": "stdout",
     "output_type": "stream",
     "text": [
      "ground truth\n"
     ]
    },
    {
     "data": {
      "text/html": [
       "<div style='float:left;background:#c02930;padding:10px;width:300px;'></div>"
      ],
      "text/plain": [
       "<IPython.core.display.HTML object>"
      ]
     },
     "metadata": {},
     "output_type": "display_data"
    },
    {
     "name": "stdout",
     "output_type": "stream",
     "text": [
      "----------------------------\n",
      "color name :  kioko red\n",
      "generated\n"
     ]
    },
    {
     "data": {
      "text/html": [
       "<div style='float:left;background:#f14810;padding:10px;width:300px;'></div>"
      ],
      "text/plain": [
       "<IPython.core.display.HTML object>"
      ]
     },
     "metadata": {},
     "output_type": "display_data"
    },
    {
     "name": "stdout",
     "output_type": "stream",
     "text": [
      "ground truth\n"
     ]
    },
    {
     "data": {
      "text/html": [
       "<div style='float:left;background:#c22a30;padding:10px;width:300px;'></div>"
      ],
      "text/plain": [
       "<IPython.core.display.HTML object>"
      ]
     },
     "metadata": {},
     "output_type": "display_data"
    },
    {
     "name": "stdout",
     "output_type": "stream",
     "text": [
      "----------------------------\n",
      "color name :  cardigan red mist\n",
      "generated\n"
     ]
    },
    {
     "data": {
      "text/html": [
       "<div style='float:left;background:#ed4d5f;padding:10px;width:300px;'></div>"
      ],
      "text/plain": [
       "<IPython.core.display.HTML object>"
      ]
     },
     "metadata": {},
     "output_type": "display_data"
    },
    {
     "name": "stdout",
     "output_type": "stream",
     "text": [
      "ground truth\n"
     ]
    },
    {
     "data": {
      "text/html": [
       "<div style='float:left;background:#c52c33;padding:10px;width:300px;'></div>"
      ],
      "text/plain": [
       "<IPython.core.display.HTML object>"
      ]
     },
     "metadata": {},
     "output_type": "display_data"
    },
    {
     "name": "stdout",
     "output_type": "stream",
     "text": [
      "----------------------------\n",
      "color name :  ravenhaired\n",
      "generated\n"
     ]
    },
    {
     "data": {
      "text/html": [
       "<div style='float:left;background:#2a2e34;padding:10px;width:300px;'></div>"
      ],
      "text/plain": [
       "<IPython.core.display.HTML object>"
      ]
     },
     "metadata": {},
     "output_type": "display_data"
    },
    {
     "name": "stdout",
     "output_type": "stream",
     "text": [
      "ground truth\n"
     ]
    },
    {
     "data": {
      "text/html": [
       "<div style='float:left;background:#af5057;padding:10px;width:300px;'></div>"
      ],
      "text/plain": [
       "<IPython.core.display.HTML object>"
      ]
     },
     "metadata": {},
     "output_type": "display_data"
    },
    {
     "name": "stdout",
     "output_type": "stream",
     "text": [
      "----------------------------\n",
      "color name :  iambloodred\n",
      "generated\n"
     ]
    },
    {
     "data": {
      "text/html": [
       "<div style='float:left;background:#be3622;padding:10px;width:300px;'></div>"
      ],
      "text/plain": [
       "<IPython.core.display.HTML object>"
      ]
     },
     "metadata": {},
     "output_type": "display_data"
    },
    {
     "name": "stdout",
     "output_type": "stream",
     "text": [
      "ground truth\n"
     ]
    },
    {
     "data": {
      "text/html": [
       "<div style='float:left;background:#bb2e2c;padding:10px;width:300px;'></div>"
      ],
      "text/plain": [
       "<IPython.core.display.HTML object>"
      ]
     },
     "metadata": {},
     "output_type": "display_data"
    },
    {
     "name": "stdout",
     "output_type": "stream",
     "text": [
      "----------------------------\n",
      "color name :  red sandy\n",
      "generated\n"
     ]
    },
    {
     "data": {
      "text/html": [
       "<div style='float:left;background:#9d3a2b;padding:10px;width:300px;'></div>"
      ],
      "text/plain": [
       "<IPython.core.display.HTML object>"
      ]
     },
     "metadata": {},
     "output_type": "display_data"
    },
    {
     "name": "stdout",
     "output_type": "stream",
     "text": [
      "ground truth\n"
     ]
    },
    {
     "data": {
      "text/html": [
       "<div style='float:left;background:#cd4031;padding:10px;width:300px;'></div>"
      ],
      "text/plain": [
       "<IPython.core.display.HTML object>"
      ]
     },
     "metadata": {},
     "output_type": "display_data"
    },
    {
     "name": "stdout",
     "output_type": "stream",
     "text": [
      "----------------------------\n",
      "color name :  shu red\n",
      "generated\n"
     ]
    },
    {
     "data": {
      "text/html": [
       "<div style='float:left;background:#b73037;padding:10px;width:300px;'></div>"
      ],
      "text/plain": [
       "<IPython.core.display.HTML object>"
      ]
     },
     "metadata": {},
     "output_type": "display_data"
    },
    {
     "name": "stdout",
     "output_type": "stream",
     "text": [
      "ground truth\n"
     ]
    },
    {
     "data": {
      "text/html": [
       "<div style='float:left;background:#c73633;padding:10px;width:300px;'></div>"
      ],
      "text/plain": [
       "<IPython.core.display.HTML object>"
      ]
     },
     "metadata": {},
     "output_type": "display_data"
    },
    {
     "name": "stdout",
     "output_type": "stream",
     "text": [
      "----------------------------\n",
      "color name :  dark anemone red \n",
      "generated\n"
     ]
    },
    {
     "data": {
      "text/html": [
       "<div style='float:left;background:#7b1426;padding:10px;width:300px;'></div>"
      ],
      "text/plain": [
       "<IPython.core.display.HTML object>"
      ]
     },
     "metadata": {},
     "output_type": "display_data"
    },
    {
     "name": "stdout",
     "output_type": "stream",
     "text": [
      "ground truth\n"
     ]
    },
    {
     "data": {
      "text/html": [
       "<div style='float:left;background:#6e181f;padding:10px;width:300px;'></div>"
      ],
      "text/plain": [
       "<IPython.core.display.HTML object>"
      ]
     },
     "metadata": {},
     "output_type": "display_data"
    },
    {
     "name": "stdout",
     "output_type": "stream",
     "text": [
      "----------------------------\n",
      "color name :  red tortoise\n",
      "generated\n"
     ]
    },
    {
     "data": {
      "text/html": [
       "<div style='float:left;background:#610b23;padding:10px;width:300px;'></div>"
      ],
      "text/plain": [
       "<IPython.core.display.HTML object>"
      ]
     },
     "metadata": {},
     "output_type": "display_data"
    },
    {
     "name": "stdout",
     "output_type": "stream",
     "text": [
      "ground truth\n"
     ]
    },
    {
     "data": {
      "text/html": [
       "<div style='float:left;background:#c83730;padding:10px;width:300px;'></div>"
      ],
      "text/plain": [
       "<IPython.core.display.HTML object>"
      ]
     },
     "metadata": {},
     "output_type": "display_data"
    },
    {
     "name": "stdout",
     "output_type": "stream",
     "text": [
      "----------------------------\n",
      "color name :  fluttering red\n",
      "generated\n"
     ]
    },
    {
     "data": {
      "text/html": [
       "<div style='float:left;background:#5d211b;padding:10px;width:300px;'></div>"
      ],
      "text/plain": [
       "<IPython.core.display.HTML object>"
      ]
     },
     "metadata": {},
     "output_type": "display_data"
    },
    {
     "name": "stdout",
     "output_type": "stream",
     "text": [
      "ground truth\n"
     ]
    },
    {
     "data": {
      "text/html": [
       "<div style='float:left;background:#c82c33;padding:10px;width:300px;'></div>"
      ],
      "text/plain": [
       "<IPython.core.display.HTML object>"
      ]
     },
     "metadata": {},
     "output_type": "display_data"
    },
    {
     "name": "stdout",
     "output_type": "stream",
     "text": [
      "----------------------------\n",
      "color name :  red all over\n",
      "generated\n"
     ]
    },
    {
     "data": {
      "text/html": [
       "<div style='float:left;background:#f0162f;padding:10px;width:300px;'></div>"
      ],
      "text/plain": [
       "<IPython.core.display.HTML object>"
      ]
     },
     "metadata": {},
     "output_type": "display_data"
    },
    {
     "name": "stdout",
     "output_type": "stream",
     "text": [
      "ground truth\n"
     ]
    },
    {
     "data": {
      "text/html": [
       "<div style='float:left;background:#ba262c;padding:10px;width:300px;'></div>"
      ],
      "text/plain": [
       "<IPython.core.display.HTML object>"
      ]
     },
     "metadata": {},
     "output_type": "display_data"
    },
    {
     "name": "stdout",
     "output_type": "stream",
     "text": [
      "----------------------------\n",
      "color name :  happy scared\n",
      "generated\n"
     ]
    },
    {
     "data": {
      "text/html": [
       "<div style='float:left;background:#fa3625;padding:10px;width:300px;'></div>"
      ],
      "text/plain": [
       "<IPython.core.display.HTML object>"
      ]
     },
     "metadata": {},
     "output_type": "display_data"
    },
    {
     "name": "stdout",
     "output_type": "stream",
     "text": [
      "ground truth\n"
     ]
    },
    {
     "data": {
      "text/html": [
       "<div style='float:left;background:#b66656;padding:10px;width:300px;'></div>"
      ],
      "text/plain": [
       "<IPython.core.display.HTML object>"
      ]
     },
     "metadata": {},
     "output_type": "display_data"
    },
    {
     "name": "stdout",
     "output_type": "stream",
     "text": [
      "----------------------------\n",
      "color name :  red reaping\n",
      "generated\n"
     ]
    },
    {
     "data": {
      "text/html": [
       "<div style='float:left;background:#8d1d1e;padding:10px;width:300px;'></div>"
      ],
      "text/plain": [
       "<IPython.core.display.HTML object>"
      ]
     },
     "metadata": {},
     "output_type": "display_data"
    },
    {
     "name": "stdout",
     "output_type": "stream",
     "text": [
      "ground truth\n"
     ]
    },
    {
     "data": {
      "text/html": [
       "<div style='float:left;background:#c53432;padding:10px;width:300px;'></div>"
      ],
      "text/plain": [
       "<IPython.core.display.HTML object>"
      ]
     },
     "metadata": {},
     "output_type": "display_data"
    },
    {
     "name": "stdout",
     "output_type": "stream",
     "text": [
      "----------------------------\n",
      "color name :  deepredts\n",
      "generated\n"
     ]
    },
    {
     "data": {
      "text/html": [
       "<div style='float:left;background:#9e1207;padding:10px;width:300px;'></div>"
      ],
      "text/plain": [
       "<IPython.core.display.HTML object>"
      ]
     },
     "metadata": {},
     "output_type": "display_data"
    },
    {
     "name": "stdout",
     "output_type": "stream",
     "text": [
      "ground truth\n"
     ]
    },
    {
     "data": {
      "text/html": [
       "<div style='float:left;background:#5d3841;padding:10px;width:300px;'></div>"
      ],
      "text/plain": [
       "<IPython.core.display.HTML object>"
      ]
     },
     "metadata": {},
     "output_type": "display_data"
    },
    {
     "name": "stdout",
     "output_type": "stream",
     "text": [
      "----------------------------\n",
      "color name :  gored by a unicorn\n",
      "generated\n"
     ]
    },
    {
     "data": {
      "text/html": [
       "<div style='float:left;background:#509686;padding:10px;width:300px;'></div>"
      ],
      "text/plain": [
       "<IPython.core.display.HTML object>"
      ]
     },
     "metadata": {},
     "output_type": "display_data"
    },
    {
     "name": "stdout",
     "output_type": "stream",
     "text": [
      "ground truth\n"
     ]
    },
    {
     "data": {
      "text/html": [
       "<div style='float:left;background:#99767d;padding:10px;width:300px;'></div>"
      ],
      "text/plain": [
       "<IPython.core.display.HTML object>"
      ]
     },
     "metadata": {},
     "output_type": "display_data"
    },
    {
     "name": "stdout",
     "output_type": "stream",
     "text": [
      "----------------------------\n",
      "color name :  redorange sunrise\n",
      "generated\n"
     ]
    },
    {
     "data": {
      "text/html": [
       "<div style='float:left;background:#e92b27;padding:10px;width:300px;'></div>"
      ],
      "text/plain": [
       "<IPython.core.display.HTML object>"
      ]
     },
     "metadata": {},
     "output_type": "display_data"
    },
    {
     "name": "stdout",
     "output_type": "stream",
     "text": [
      "ground truth\n"
     ]
    },
    {
     "data": {
      "text/html": [
       "<div style='float:left;background:#e16036;padding:10px;width:300px;'></div>"
      ],
      "text/plain": [
       "<IPython.core.display.HTML object>"
      ]
     },
     "metadata": {},
     "output_type": "display_data"
    },
    {
     "name": "stdout",
     "output_type": "stream",
     "text": [
      "----------------------------\n",
      "color name :  fired neon\n",
      "generated\n"
     ]
    },
    {
     "data": {
      "text/html": [
       "<div style='float:left;background:#ed7028;padding:10px;width:300px;'></div>"
      ],
      "text/plain": [
       "<IPython.core.display.HTML object>"
      ]
     },
     "metadata": {},
     "output_type": "display_data"
    },
    {
     "name": "stdout",
     "output_type": "stream",
     "text": [
      "ground truth\n"
     ]
    },
    {
     "data": {
      "text/html": [
       "<div style='float:left;background:#d78a3e;padding:10px;width:300px;'></div>"
      ],
      "text/plain": [
       "<IPython.core.display.HTML object>"
      ]
     },
     "metadata": {},
     "output_type": "display_data"
    },
    {
     "name": "stdout",
     "output_type": "stream",
     "text": [
      "----------------------------\n",
      "color name :  french red\n",
      "generated\n"
     ]
    },
    {
     "data": {
      "text/html": [
       "<div style='float:left;background:#c81d30;padding:10px;width:300px;'></div>"
      ],
      "text/plain": [
       "<IPython.core.display.HTML object>"
      ]
     },
     "metadata": {},
     "output_type": "display_data"
    },
    {
     "name": "stdout",
     "output_type": "stream",
     "text": [
      "ground truth\n"
     ]
    },
    {
     "data": {
      "text/html": [
       "<div style='float:left;background:#c82d32;padding:10px;width:300px;'></div>"
      ],
      "text/plain": [
       "<IPython.core.display.HTML object>"
      ]
     },
     "metadata": {},
     "output_type": "display_data"
    },
    {
     "name": "stdout",
     "output_type": "stream",
     "text": [
      "----------------------------\n",
      "color name :  blurry red flame\n",
      "generated\n"
     ]
    },
    {
     "data": {
      "text/html": [
       "<div style='float:left;background:#d94926;padding:10px;width:300px;'></div>"
      ],
      "text/plain": [
       "<IPython.core.display.HTML object>"
      ]
     },
     "metadata": {},
     "output_type": "display_data"
    },
    {
     "name": "stdout",
     "output_type": "stream",
     "text": [
      "ground truth\n"
     ]
    },
    {
     "data": {
      "text/html": [
       "<div style='float:left;background:#bd3435;padding:10px;width:300px;'></div>"
      ],
      "text/plain": [
       "<IPython.core.display.HTML object>"
      ]
     },
     "metadata": {},
     "output_type": "display_data"
    },
    {
     "name": "stdout",
     "output_type": "stream",
     "text": [
      "----------------------------\n",
      "color name :  crawfish red\n",
      "generated\n"
     ]
    },
    {
     "data": {
      "text/html": [
       "<div style='float:left;background:#f5410d;padding:10px;width:300px;'></div>"
      ],
      "text/plain": [
       "<IPython.core.display.HTML object>"
      ]
     },
     "metadata": {},
     "output_type": "display_data"
    },
    {
     "name": "stdout",
     "output_type": "stream",
     "text": [
      "ground truth\n"
     ]
    },
    {
     "data": {
      "text/html": [
       "<div style='float:left;background:#c62c32;padding:10px;width:300px;'></div>"
      ],
      "text/plain": [
       "<IPython.core.display.HTML object>"
      ]
     },
     "metadata": {},
     "output_type": "display_data"
    },
    {
     "name": "stdout",
     "output_type": "stream",
     "text": [
      "----------------------------\n",
      "color name :  redemption \n",
      "generated\n"
     ]
    },
    {
     "data": {
      "text/html": [
       "<div style='float:left;background:#556843;padding:10px;width:300px;'></div>"
      ],
      "text/plain": [
       "<IPython.core.display.HTML object>"
      ]
     },
     "metadata": {},
     "output_type": "display_data"
    },
    {
     "name": "stdout",
     "output_type": "stream",
     "text": [
      "ground truth\n"
     ]
    },
    {
     "data": {
      "text/html": [
       "<div style='float:left;background:#b55650;padding:10px;width:300px;'></div>"
      ],
      "text/plain": [
       "<IPython.core.display.HTML object>"
      ]
     },
     "metadata": {},
     "output_type": "display_data"
    },
    {
     "name": "stdout",
     "output_type": "stream",
     "text": [
      "----------------------------\n",
      "color name :  redcurrant\n",
      "generated\n"
     ]
    },
    {
     "data": {
      "text/html": [
       "<div style='float:left;background:#c3042e;padding:10px;width:300px;'></div>"
      ],
      "text/plain": [
       "<IPython.core.display.HTML object>"
      ]
     },
     "metadata": {},
     "output_type": "display_data"
    },
    {
     "name": "stdout",
     "output_type": "stream",
     "text": [
      "ground truth\n"
     ]
    },
    {
     "data": {
      "text/html": [
       "<div style='float:left;background:#bf2f2f;padding:10px;width:300px;'></div>"
      ],
      "text/plain": [
       "<IPython.core.display.HTML object>"
      ]
     },
     "metadata": {},
     "output_type": "display_data"
    },
    {
     "name": "stdout",
     "output_type": "stream",
     "text": [
      "----------------------------\n",
      "color name :  mid red\n",
      "generated\n"
     ]
    },
    {
     "data": {
      "text/html": [
       "<div style='float:left;background:#c32c3b;padding:10px;width:300px;'></div>"
      ],
      "text/plain": [
       "<IPython.core.display.HTML object>"
      ]
     },
     "metadata": {},
     "output_type": "display_data"
    },
    {
     "name": "stdout",
     "output_type": "stream",
     "text": [
      "ground truth\n"
     ]
    },
    {
     "data": {
      "text/html": [
       "<div style='float:left;background:#be2d2e;padding:10px;width:300px;'></div>"
      ],
      "text/plain": [
       "<IPython.core.display.HTML object>"
      ]
     },
     "metadata": {},
     "output_type": "display_data"
    },
    {
     "name": "stdout",
     "output_type": "stream",
     "text": [
      "----------------------------\n",
      "color name :  salted  peppered\n",
      "generated\n"
     ]
    },
    {
     "data": {
      "text/html": [
       "<div style='float:left;background:#c9dabf;padding:10px;width:300px;'></div>"
      ],
      "text/plain": [
       "<IPython.core.display.HTML object>"
      ]
     },
     "metadata": {},
     "output_type": "display_data"
    },
    {
     "name": "stdout",
     "output_type": "stream",
     "text": [
      "ground truth\n"
     ]
    },
    {
     "data": {
      "text/html": [
       "<div style='float:left;background:#a87069;padding:10px;width:300px;'></div>"
      ],
      "text/plain": [
       "<IPython.core.display.HTML object>"
      ]
     },
     "metadata": {},
     "output_type": "display_data"
    },
    {
     "name": "stdout",
     "output_type": "stream",
     "text": [
      "----------------------------\n",
      "color name :  red white and\n",
      "generated\n"
     ]
    },
    {
     "data": {
      "text/html": [
       "<div style='float:left;background:#ee2830;padding:10px;width:300px;'></div>"
      ],
      "text/plain": [
       "<IPython.core.display.HTML object>"
      ]
     },
     "metadata": {},
     "output_type": "display_data"
    },
    {
     "name": "stdout",
     "output_type": "stream",
     "text": [
      "ground truth\n"
     ]
    },
    {
     "data": {
      "text/html": [
       "<div style='float:left;background:#cd7c69;padding:10px;width:300px;'></div>"
      ],
      "text/plain": [
       "<IPython.core.display.HTML object>"
      ]
     },
     "metadata": {},
     "output_type": "display_data"
    },
    {
     "name": "stdout",
     "output_type": "stream",
     "text": [
      "----------------------------\n",
      "color name :  squared again\n",
      "generated\n"
     ]
    },
    {
     "data": {
      "text/html": [
       "<div style='float:left;background:#d855f9;padding:10px;width:300px;'></div>"
      ],
      "text/plain": [
       "<IPython.core.display.HTML object>"
      ]
     },
     "metadata": {},
     "output_type": "display_data"
    },
    {
     "name": "stdout",
     "output_type": "stream",
     "text": [
      "ground truth\n"
     ]
    },
    {
     "data": {
      "text/html": [
       "<div style='float:left;background:#9a7879;padding:10px;width:300px;'></div>"
      ],
      "text/plain": [
       "<IPython.core.display.HTML object>"
      ]
     },
     "metadata": {},
     "output_type": "display_data"
    },
    {
     "name": "stdout",
     "output_type": "stream",
     "text": [
      "----------------------------\n",
      "color name :  shattered crystal\n",
      "generated\n"
     ]
    },
    {
     "data": {
      "text/html": [
       "<div style='float:left;background:#beb6cf;padding:10px;width:300px;'></div>"
      ],
      "text/plain": [
       "<IPython.core.display.HTML object>"
      ]
     },
     "metadata": {},
     "output_type": "display_data"
    },
    {
     "name": "stdout",
     "output_type": "stream",
     "text": [
      "ground truth\n"
     ]
    },
    {
     "data": {
      "text/html": [
       "<div style='float:left;background:#a39593;padding:10px;width:300px;'></div>"
      ],
      "text/plain": [
       "<IPython.core.display.HTML object>"
      ]
     },
     "metadata": {},
     "output_type": "display_data"
    },
    {
     "name": "stdout",
     "output_type": "stream",
     "text": [
      "----------------------------\n",
      "color name :  shattered gold\n",
      "generated\n"
     ]
    },
    {
     "data": {
      "text/html": [
       "<div style='float:left;background:#895f03;padding:10px;width:300px;'></div>"
      ],
      "text/plain": [
       "<IPython.core.display.HTML object>"
      ]
     },
     "metadata": {},
     "output_type": "display_data"
    },
    {
     "name": "stdout",
     "output_type": "stream",
     "text": [
      "ground truth\n"
     ]
    },
    {
     "data": {
      "text/html": [
       "<div style='float:left;background:#bd9d37;padding:10px;width:300px;'></div>"
      ],
      "text/plain": [
       "<IPython.core.display.HTML object>"
      ]
     },
     "metadata": {},
     "output_type": "display_data"
    },
    {
     "name": "stdout",
     "output_type": "stream",
     "text": [
      "----------------------------\n",
      "color name :  banana redux\n",
      "generated\n"
     ]
    },
    {
     "data": {
      "text/html": [
       "<div style='float:left;background:#64cc5c;padding:10px;width:300px;'></div>"
      ],
      "text/plain": [
       "<IPython.core.display.HTML object>"
      ]
     },
     "metadata": {},
     "output_type": "display_data"
    },
    {
     "name": "stdout",
     "output_type": "stream",
     "text": [
      "ground truth\n"
     ]
    },
    {
     "data": {
      "text/html": [
       "<div style='float:left;background:#da9936;padding:10px;width:300px;'></div>"
      ],
      "text/plain": [
       "<IPython.core.display.HTML object>"
      ]
     },
     "metadata": {},
     "output_type": "display_data"
    },
    {
     "name": "stdout",
     "output_type": "stream",
     "text": [
      "----------------------------\n",
      "color name :  savafid red\n",
      "generated\n"
     ]
    },
    {
     "data": {
      "text/html": [
       "<div style='float:left;background:#cd1503;padding:10px;width:300px;'></div>"
      ],
      "text/plain": [
       "<IPython.core.display.HTML object>"
      ]
     },
     "metadata": {},
     "output_type": "display_data"
    },
    {
     "name": "stdout",
     "output_type": "stream",
     "text": [
      "ground truth\n"
     ]
    },
    {
     "data": {
      "text/html": [
       "<div style='float:left;background:#c42e30;padding:10px;width:300px;'></div>"
      ],
      "text/plain": [
       "<IPython.core.display.HTML object>"
      ]
     },
     "metadata": {},
     "output_type": "display_data"
    },
    {
     "name": "stdout",
     "output_type": "stream",
     "text": [
      "----------------------------\n",
      "color name :  firedup gestures\n",
      "generated\n"
     ]
    },
    {
     "data": {
      "text/html": [
       "<div style='float:left;background:#92004b;padding:10px;width:300px;'></div>"
      ],
      "text/plain": [
       "<IPython.core.display.HTML object>"
      ]
     },
     "metadata": {},
     "output_type": "display_data"
    },
    {
     "name": "stdout",
     "output_type": "stream",
     "text": [
      "ground truth\n"
     ]
    },
    {
     "data": {
      "text/html": [
       "<div style='float:left;background:#c96546;padding:10px;width:300px;'></div>"
      ],
      "text/plain": [
       "<IPython.core.display.HTML object>"
      ]
     },
     "metadata": {},
     "output_type": "display_data"
    },
    {
     "name": "stdout",
     "output_type": "stream",
     "text": [
      "----------------------------\n",
      "color name :  heavy red\n",
      "generated\n"
     ]
    },
    {
     "data": {
      "text/html": [
       "<div style='float:left;background:#b1473d;padding:10px;width:300px;'></div>"
      ],
      "text/plain": [
       "<IPython.core.display.HTML object>"
      ]
     },
     "metadata": {},
     "output_type": "display_data"
    },
    {
     "name": "stdout",
     "output_type": "stream",
     "text": [
      "ground truth\n"
     ]
    },
    {
     "data": {
      "text/html": [
       "<div style='float:left;background:#c52931;padding:10px;width:300px;'></div>"
      ],
      "text/plain": [
       "<IPython.core.display.HTML object>"
      ]
     },
     "metadata": {},
     "output_type": "display_data"
    },
    {
     "name": "stdout",
     "output_type": "stream",
     "text": [
      "----------------------------\n",
      "color name :  red boat\n",
      "generated\n"
     ]
    },
    {
     "data": {
      "text/html": [
       "<div style='float:left;background:#eb554d;padding:10px;width:300px;'></div>"
      ],
      "text/plain": [
       "<IPython.core.display.HTML object>"
      ]
     },
     "metadata": {},
     "output_type": "display_data"
    },
    {
     "name": "stdout",
     "output_type": "stream",
     "text": [
      "ground truth\n"
     ]
    },
    {
     "data": {
      "text/html": [
       "<div style='float:left;background:#c23330;padding:10px;width:300px;'></div>"
      ],
      "text/plain": [
       "<IPython.core.display.HTML object>"
      ]
     },
     "metadata": {},
     "output_type": "display_data"
    },
    {
     "name": "stdout",
     "output_type": "stream",
     "text": [
      "----------------------------\n",
      "color name :  rtc tuscancottared\n",
      "generated\n"
     ]
    },
    {
     "data": {
      "text/html": [
       "<div style='float:left;background:#953534;padding:10px;width:300px;'></div>"
      ],
      "text/plain": [
       "<IPython.core.display.HTML object>"
      ]
     },
     "metadata": {},
     "output_type": "display_data"
    },
    {
     "name": "stdout",
     "output_type": "stream",
     "text": [
      "ground truth\n"
     ]
    },
    {
     "data": {
      "text/html": [
       "<div style='float:left;background:#bb6744;padding:10px;width:300px;'></div>"
      ],
      "text/plain": [
       "<IPython.core.display.HTML object>"
      ]
     },
     "metadata": {},
     "output_type": "display_data"
    },
    {
     "name": "stdout",
     "output_type": "stream",
     "text": [
      "----------------------------\n",
      "color name :  sofia red\n",
      "generated\n"
     ]
    },
    {
     "data": {
      "text/html": [
       "<div style='float:left;background:#cf240d;padding:10px;width:300px;'></div>"
      ],
      "text/plain": [
       "<IPython.core.display.HTML object>"
      ]
     },
     "metadata": {},
     "output_type": "display_data"
    },
    {
     "name": "stdout",
     "output_type": "stream",
     "text": [
      "ground truth\n"
     ]
    },
    {
     "data": {
      "text/html": [
       "<div style='float:left;background:#c73031;padding:10px;width:300px;'></div>"
      ],
      "text/plain": [
       "<IPython.core.display.HTML object>"
      ]
     },
     "metadata": {},
     "output_type": "display_data"
    },
    {
     "name": "stdout",
     "output_type": "stream",
     "text": [
      "----------------------------\n",
      "color name :  hmred\n",
      "generated\n"
     ]
    },
    {
     "data": {
      "text/html": [
       "<div style='float:left;background:#a0032b;padding:10px;width:300px;'></div>"
      ],
      "text/plain": [
       "<IPython.core.display.HTML object>"
      ]
     },
     "metadata": {},
     "output_type": "display_data"
    },
    {
     "name": "stdout",
     "output_type": "stream",
     "text": [
      "ground truth\n"
     ]
    },
    {
     "data": {
      "text/html": [
       "<div style='float:left;background:#c05143;padding:10px;width:300px;'></div>"
      ],
      "text/plain": [
       "<IPython.core.display.HTML object>"
      ]
     },
     "metadata": {},
     "output_type": "display_data"
    },
    {
     "name": "stdout",
     "output_type": "stream",
     "text": [
      "----------------------------\n",
      "color name :  cupcake dk red apc\n",
      "generated\n"
     ]
    },
    {
     "data": {
      "text/html": [
       "<div style='float:left;background:#841736;padding:10px;width:300px;'></div>"
      ],
      "text/plain": [
       "<IPython.core.display.HTML object>"
      ]
     },
     "metadata": {},
     "output_type": "display_data"
    },
    {
     "name": "stdout",
     "output_type": "stream",
     "text": [
      "ground truth\n"
     ]
    },
    {
     "data": {
      "text/html": [
       "<div style='float:left;background:#7d2624;padding:10px;width:300px;'></div>"
      ],
      "text/plain": [
       "<IPython.core.display.HTML object>"
      ]
     },
     "metadata": {},
     "output_type": "display_data"
    },
    {
     "name": "stdout",
     "output_type": "stream",
     "text": [
      "----------------------------\n",
      "color name :  gathered rosebuds\n",
      "generated\n"
     ]
    },
    {
     "data": {
      "text/html": [
       "<div style='float:left;background:#b43c25;padding:10px;width:300px;'></div>"
      ],
      "text/plain": [
       "<IPython.core.display.HTML object>"
      ]
     },
     "metadata": {},
     "output_type": "display_data"
    },
    {
     "name": "stdout",
     "output_type": "stream",
     "text": [
      "ground truth\n"
     ]
    },
    {
     "data": {
      "text/html": [
       "<div style='float:left;background:#c4605d;padding:10px;width:300px;'></div>"
      ],
      "text/plain": [
       "<IPython.core.display.HTML object>"
      ]
     },
     "metadata": {},
     "output_type": "display_data"
    },
    {
     "name": "stdout",
     "output_type": "stream",
     "text": [
      "----------------------------\n",
      "color name :  redundancy\n",
      "generated\n"
     ]
    },
    {
     "data": {
      "text/html": [
       "<div style='float:left;background:#e87afd;padding:10px;width:300px;'></div>"
      ],
      "text/plain": [
       "<IPython.core.display.HTML object>"
      ]
     },
     "metadata": {},
     "output_type": "display_data"
    },
    {
     "name": "stdout",
     "output_type": "stream",
     "text": [
      "ground truth\n"
     ]
    },
    {
     "data": {
      "text/html": [
       "<div style='float:left;background:#b7635e;padding:10px;width:300px;'></div>"
      ],
      "text/plain": [
       "<IPython.core.display.HTML object>"
      ]
     },
     "metadata": {},
     "output_type": "display_data"
    },
    {
     "name": "stdout",
     "output_type": "stream",
     "text": [
      "----------------------------\n",
      "color name :  red wine bubble\n",
      "generated\n"
     ]
    },
    {
     "data": {
      "text/html": [
       "<div style='float:left;background:#af2274;padding:10px;width:300px;'></div>"
      ],
      "text/plain": [
       "<IPython.core.display.HTML object>"
      ]
     },
     "metadata": {},
     "output_type": "display_data"
    },
    {
     "name": "stdout",
     "output_type": "stream",
     "text": [
      "ground truth\n"
     ]
    },
    {
     "data": {
      "text/html": [
       "<div style='float:left;background:#922131;padding:10px;width:300px;'></div>"
      ],
      "text/plain": [
       "<IPython.core.display.HTML object>"
      ]
     },
     "metadata": {},
     "output_type": "display_data"
    },
    {
     "name": "stdout",
     "output_type": "stream",
     "text": [
      "----------------------------\n",
      "color name :  red is black\n",
      "generated\n"
     ]
    },
    {
     "data": {
      "text/html": [
       "<div style='float:left;background:#381513;padding:10px;width:300px;'></div>"
      ],
      "text/plain": [
       "<IPython.core.display.HTML object>"
      ]
     },
     "metadata": {},
     "output_type": "display_data"
    },
    {
     "name": "stdout",
     "output_type": "stream",
     "text": [
      "ground truth\n"
     ]
    },
    {
     "data": {
      "text/html": [
       "<div style='float:left;background:#671712;padding:10px;width:300px;'></div>"
      ],
      "text/plain": [
       "<IPython.core.display.HTML object>"
      ]
     },
     "metadata": {},
     "output_type": "display_data"
    },
    {
     "name": "stdout",
     "output_type": "stream",
     "text": [
      "----------------------------\n",
      "color name :  walking red\n",
      "generated\n"
     ]
    },
    {
     "data": {
      "text/html": [
       "<div style='float:left;background:#9e0b02;padding:10px;width:300px;'></div>"
      ],
      "text/plain": [
       "<IPython.core.display.HTML object>"
      ]
     },
     "metadata": {},
     "output_type": "display_data"
    },
    {
     "name": "stdout",
     "output_type": "stream",
     "text": [
      "ground truth\n"
     ]
    },
    {
     "data": {
      "text/html": [
       "<div style='float:left;background:#c42930;padding:10px;width:300px;'></div>"
      ],
      "text/plain": [
       "<IPython.core.display.HTML object>"
      ]
     },
     "metadata": {},
     "output_type": "display_data"
    },
    {
     "name": "stdout",
     "output_type": "stream",
     "text": [
      "----------------------------\n",
      "color name :  b and t red\n",
      "generated\n"
     ]
    },
    {
     "data": {
      "text/html": [
       "<div style='float:left;background:#470801;padding:10px;width:300px;'></div>"
      ],
      "text/plain": [
       "<IPython.core.display.HTML object>"
      ]
     },
     "metadata": {},
     "output_type": "display_data"
    },
    {
     "name": "stdout",
     "output_type": "stream",
     "text": [
      "ground truth\n"
     ]
    },
    {
     "data": {
      "text/html": [
       "<div style='float:left;background:#bf3132;padding:10px;width:300px;'></div>"
      ],
      "text/plain": [
       "<IPython.core.display.HTML object>"
      ]
     },
     "metadata": {},
     "output_type": "display_data"
    },
    {
     "name": "stdout",
     "output_type": "stream",
     "text": [
      "----------------------------\n",
      "color name :  lovely red\n",
      "generated\n"
     ]
    },
    {
     "data": {
      "text/html": [
       "<div style='float:left;background:#e02016;padding:10px;width:300px;'></div>"
      ],
      "text/plain": [
       "<IPython.core.display.HTML object>"
      ]
     },
     "metadata": {},
     "output_type": "display_data"
    },
    {
     "name": "stdout",
     "output_type": "stream",
     "text": [
      "ground truth\n"
     ]
    },
    {
     "data": {
      "text/html": [
       "<div style='float:left;background:#cd3639;padding:10px;width:300px;'></div>"
      ],
      "text/plain": [
       "<IPython.core.display.HTML object>"
      ]
     },
     "metadata": {},
     "output_type": "display_data"
    },
    {
     "name": "stdout",
     "output_type": "stream",
     "text": [
      "----------------------------\n",
      "color name :  powedered lilac\n",
      "generated\n"
     ]
    },
    {
     "data": {
      "text/html": [
       "<div style='float:left;background:#9144ae;padding:10px;width:300px;'></div>"
      ],
      "text/plain": [
       "<IPython.core.display.HTML object>"
      ]
     },
     "metadata": {},
     "output_type": "display_data"
    },
    {
     "name": "stdout",
     "output_type": "stream",
     "text": [
      "ground truth\n"
     ]
    },
    {
     "data": {
      "text/html": [
       "<div style='float:left;background:#c8a8da;padding:10px;width:300px;'></div>"
      ],
      "text/plain": [
       "<IPython.core.display.HTML object>"
      ]
     },
     "metadata": {},
     "output_type": "display_data"
    },
    {
     "name": "stdout",
     "output_type": "stream",
     "text": [
      "----------------------------\n",
      "color name :  red velvet stockings\n",
      "generated\n"
     ]
    },
    {
     "data": {
      "text/html": [
       "<div style='float:left;background:#8a0520;padding:10px;width:300px;'></div>"
      ],
      "text/plain": [
       "<IPython.core.display.HTML object>"
      ]
     },
     "metadata": {},
     "output_type": "display_data"
    },
    {
     "name": "stdout",
     "output_type": "stream",
     "text": [
      "ground truth\n"
     ]
    },
    {
     "data": {
      "text/html": [
       "<div style='float:left;background:#8f2529;padding:10px;width:300px;'></div>"
      ],
      "text/plain": [
       "<IPython.core.display.HTML object>"
      ]
     },
     "metadata": {},
     "output_type": "display_data"
    },
    {
     "name": "stdout",
     "output_type": "stream",
     "text": [
      "----------------------------\n",
      "color name :  red convertible\n",
      "generated\n"
     ]
    },
    {
     "data": {
      "text/html": [
       "<div style='float:left;background:#b92642;padding:10px;width:300px;'></div>"
      ],
      "text/plain": [
       "<IPython.core.display.HTML object>"
      ]
     },
     "metadata": {},
     "output_type": "display_data"
    },
    {
     "name": "stdout",
     "output_type": "stream",
     "text": [
      "ground truth\n"
     ]
    },
    {
     "data": {
      "text/html": [
       "<div style='float:left;background:#ca4340;padding:10px;width:300px;'></div>"
      ],
      "text/plain": [
       "<IPython.core.display.HTML object>"
      ]
     },
     "metadata": {},
     "output_type": "display_data"
    },
    {
     "name": "stdout",
     "output_type": "stream",
     "text": [
      "----------------------------\n",
      "color name :  blurred vision\n",
      "generated\n"
     ]
    },
    {
     "data": {
      "text/html": [
       "<div style='float:left;background:#b7b1ab;padding:10px;width:300px;'></div>"
      ],
      "text/plain": [
       "<IPython.core.display.HTML object>"
      ]
     },
     "metadata": {},
     "output_type": "display_data"
    },
    {
     "name": "stdout",
     "output_type": "stream",
     "text": [
      "ground truth\n"
     ]
    },
    {
     "data": {
      "text/html": [
       "<div style='float:left;background:#986d6f;padding:10px;width:300px;'></div>"
      ],
      "text/plain": [
       "<IPython.core.display.HTML object>"
      ]
     },
     "metadata": {},
     "output_type": "display_data"
    },
    {
     "name": "stdout",
     "output_type": "stream",
     "text": [
      "----------------------------\n",
      "color name :  red splat\n",
      "generated\n"
     ]
    },
    {
     "data": {
      "text/html": [
       "<div style='float:left;background:#ca0008;padding:10px;width:300px;'></div>"
      ],
      "text/plain": [
       "<IPython.core.display.HTML object>"
      ]
     },
     "metadata": {},
     "output_type": "display_data"
    },
    {
     "name": "stdout",
     "output_type": "stream",
     "text": [
      "ground truth\n"
     ]
    },
    {
     "data": {
      "text/html": [
       "<div style='float:left;background:#c12e2c;padding:10px;width:300px;'></div>"
      ],
      "text/plain": [
       "<IPython.core.display.HTML object>"
      ]
     },
     "metadata": {},
     "output_type": "display_data"
    },
    {
     "name": "stdout",
     "output_type": "stream",
     "text": [
      "----------------------------\n",
      "color name :  love red \n",
      "generated\n"
     ]
    },
    {
     "data": {
      "text/html": [
       "<div style='float:left;background:#c1425c;padding:10px;width:300px;'></div>"
      ],
      "text/plain": [
       "<IPython.core.display.HTML object>"
      ]
     },
     "metadata": {},
     "output_type": "display_data"
    },
    {
     "name": "stdout",
     "output_type": "stream",
     "text": [
      "ground truth\n"
     ]
    },
    {
     "data": {
      "text/html": [
       "<div style='float:left;background:#cc3439;padding:10px;width:300px;'></div>"
      ],
      "text/plain": [
       "<IPython.core.display.HTML object>"
      ]
     },
     "metadata": {},
     "output_type": "display_data"
    },
    {
     "name": "stdout",
     "output_type": "stream",
     "text": [
      "----------------------------\n",
      "color name :  little nemo red\n",
      "generated\n"
     ]
    },
    {
     "data": {
      "text/html": [
       "<div style='float:left;background:#c05a1f;padding:10px;width:300px;'></div>"
      ],
      "text/plain": [
       "<IPython.core.display.HTML object>"
      ]
     },
     "metadata": {},
     "output_type": "display_data"
    },
    {
     "name": "stdout",
     "output_type": "stream",
     "text": [
      "ground truth\n"
     ]
    },
    {
     "data": {
      "text/html": [
       "<div style='float:left;background:#c73337;padding:10px;width:300px;'></div>"
      ],
      "text/plain": [
       "<IPython.core.display.HTML object>"
      ]
     },
     "metadata": {},
     "output_type": "display_data"
    },
    {
     "name": "stdout",
     "output_type": "stream",
     "text": [
      "----------------------------\n",
      "color name :  reddy\n",
      "generated\n"
     ]
    },
    {
     "data": {
      "text/html": [
       "<div style='float:left;background:#861d02;padding:10px;width:300px;'></div>"
      ],
      "text/plain": [
       "<IPython.core.display.HTML object>"
      ]
     },
     "metadata": {},
     "output_type": "display_data"
    },
    {
     "name": "stdout",
     "output_type": "stream",
     "text": [
      "ground truth\n"
     ]
    },
    {
     "data": {
      "text/html": [
       "<div style='float:left;background:#c73b34;padding:10px;width:300px;'></div>"
      ],
      "text/plain": [
       "<IPython.core.display.HTML object>"
      ]
     },
     "metadata": {},
     "output_type": "display_data"
    },
    {
     "name": "stdout",
     "output_type": "stream",
     "text": [
      "----------------------------\n",
      "color name :  red of summer \n",
      "generated\n"
     ]
    },
    {
     "data": {
      "text/html": [
       "<div style='float:left;background:#be1632;padding:10px;width:300px;'></div>"
      ],
      "text/plain": [
       "<IPython.core.display.HTML object>"
      ]
     },
     "metadata": {},
     "output_type": "display_data"
    },
    {
     "name": "stdout",
     "output_type": "stream",
     "text": [
      "ground truth\n"
     ]
    },
    {
     "data": {
      "text/html": [
       "<div style='float:left;background:#c83635;padding:10px;width:300px;'></div>"
      ],
      "text/plain": [
       "<IPython.core.display.HTML object>"
      ]
     },
     "metadata": {},
     "output_type": "display_data"
    },
    {
     "name": "stdout",
     "output_type": "stream",
     "text": [
      "----------------------------\n",
      "color name :  featheredafterpeach\n",
      "generated\n"
     ]
    },
    {
     "data": {
      "text/html": [
       "<div style='float:left;background:#e6a56e;padding:10px;width:300px;'></div>"
      ],
      "text/plain": [
       "<IPython.core.display.HTML object>"
      ]
     },
     "metadata": {},
     "output_type": "display_data"
    },
    {
     "name": "stdout",
     "output_type": "stream",
     "text": [
      "ground truth\n"
     ]
    },
    {
     "data": {
      "text/html": [
       "<div style='float:left;background:#c98f70;padding:10px;width:300px;'></div>"
      ],
      "text/plain": [
       "<IPython.core.display.HTML object>"
      ]
     },
     "metadata": {},
     "output_type": "display_data"
    },
    {
     "name": "stdout",
     "output_type": "stream",
     "text": [
      "----------------------------\n",
      "color name :  scaredof forests\n",
      "generated\n"
     ]
    },
    {
     "data": {
      "text/html": [
       "<div style='float:left;background:#07271b;padding:10px;width:300px;'></div>"
      ],
      "text/plain": [
       "<IPython.core.display.HTML object>"
      ]
     },
     "metadata": {},
     "output_type": "display_data"
    },
    {
     "name": "stdout",
     "output_type": "stream",
     "text": [
      "ground truth\n"
     ]
    },
    {
     "data": {
      "text/html": [
       "<div style='float:left;background:#566e3f;padding:10px;width:300px;'></div>"
      ],
      "text/plain": [
       "<IPython.core.display.HTML object>"
      ]
     },
     "metadata": {},
     "output_type": "display_data"
    },
    {
     "name": "stdout",
     "output_type": "stream",
     "text": [
      "----------------------------\n",
      "color name :  red fussions\n",
      "generated\n"
     ]
    },
    {
     "data": {
      "text/html": [
       "<div style='float:left;background:#b01f1f;padding:10px;width:300px;'></div>"
      ],
      "text/plain": [
       "<IPython.core.display.HTML object>"
      ]
     },
     "metadata": {},
     "output_type": "display_data"
    },
    {
     "name": "stdout",
     "output_type": "stream",
     "text": [
      "ground truth\n"
     ]
    },
    {
     "data": {
      "text/html": [
       "<div style='float:left;background:#be2930;padding:10px;width:300px;'></div>"
      ],
      "text/plain": [
       "<IPython.core.display.HTML object>"
      ]
     },
     "metadata": {},
     "output_type": "display_data"
    },
    {
     "name": "stdout",
     "output_type": "stream",
     "text": [
      "----------------------------\n",
      "color name :  red vibes\n",
      "generated\n"
     ]
    },
    {
     "data": {
      "text/html": [
       "<div style='float:left;background:#f90b40;padding:10px;width:300px;'></div>"
      ],
      "text/plain": [
       "<IPython.core.display.HTML object>"
      ]
     },
     "metadata": {},
     "output_type": "display_data"
    },
    {
     "name": "stdout",
     "output_type": "stream",
     "text": [
      "ground truth\n"
     ]
    },
    {
     "data": {
      "text/html": [
       "<div style='float:left;background:#c23031;padding:10px;width:300px;'></div>"
      ],
      "text/plain": [
       "<IPython.core.display.HTML object>"
      ]
     },
     "metadata": {},
     "output_type": "display_data"
    },
    {
     "name": "stdout",
     "output_type": "stream",
     "text": [
      "----------------------------\n",
      "color name :  cinnamon opium red\n",
      "generated\n"
     ]
    },
    {
     "data": {
      "text/html": [
       "<div style='float:left;background:#95180e;padding:10px;width:300px;'></div>"
      ],
      "text/plain": [
       "<IPython.core.display.HTML object>"
      ]
     },
     "metadata": {},
     "output_type": "display_data"
    },
    {
     "name": "stdout",
     "output_type": "stream",
     "text": [
      "ground truth\n"
     ]
    },
    {
     "data": {
      "text/html": [
       "<div style='float:left;background:#992428;padding:10px;width:300px;'></div>"
      ],
      "text/plain": [
       "<IPython.core.display.HTML object>"
      ]
     },
     "metadata": {},
     "output_type": "display_data"
    },
    {
     "name": "stdout",
     "output_type": "stream",
     "text": [
      "----------------------------\n",
      "color name :  fondly remembered\n",
      "generated\n"
     ]
    },
    {
     "data": {
      "text/html": [
       "<div style='float:left;background:#99efca;padding:10px;width:300px;'></div>"
      ],
      "text/plain": [
       "<IPython.core.display.HTML object>"
      ]
     },
     "metadata": {},
     "output_type": "display_data"
    },
    {
     "name": "stdout",
     "output_type": "stream",
     "text": [
      "ground truth\n"
     ]
    },
    {
     "data": {
      "text/html": [
       "<div style='float:left;background:#9c817d;padding:10px;width:300px;'></div>"
      ],
      "text/plain": [
       "<IPython.core.display.HTML object>"
      ]
     },
     "metadata": {},
     "output_type": "display_data"
    },
    {
     "name": "stdout",
     "output_type": "stream",
     "text": [
      "----------------------------\n",
      "color name :  violets when red\n",
      "generated\n"
     ]
    },
    {
     "data": {
      "text/html": [
       "<div style='float:left;background:#9d049d;padding:10px;width:300px;'></div>"
      ],
      "text/plain": [
       "<IPython.core.display.HTML object>"
      ]
     },
     "metadata": {},
     "output_type": "display_data"
    },
    {
     "name": "stdout",
     "output_type": "stream",
     "text": [
      "ground truth\n"
     ]
    },
    {
     "data": {
      "text/html": [
       "<div style='float:left;background:#b9203c;padding:10px;width:300px;'></div>"
      ],
      "text/plain": [
       "<IPython.core.display.HTML object>"
      ]
     },
     "metadata": {},
     "output_type": "display_data"
    },
    {
     "name": "stdout",
     "output_type": "stream",
     "text": [
      "----------------------------\n",
      "color name :  chilled red\n",
      "generated\n"
     ]
    },
    {
     "data": {
      "text/html": [
       "<div style='float:left;background:#a36e63;padding:10px;width:300px;'></div>"
      ],
      "text/plain": [
       "<IPython.core.display.HTML object>"
      ]
     },
     "metadata": {},
     "output_type": "display_data"
    },
    {
     "name": "stdout",
     "output_type": "stream",
     "text": [
      "ground truth\n"
     ]
    },
    {
     "data": {
      "text/html": [
       "<div style='float:left;background:#c32d34;padding:10px;width:300px;'></div>"
      ],
      "text/plain": [
       "<IPython.core.display.HTML object>"
      ]
     },
     "metadata": {},
     "output_type": "display_data"
    },
    {
     "name": "stdout",
     "output_type": "stream",
     "text": [
      "----------------------------\n",
      "color name :  red sky late\n",
      "generated\n"
     ]
    },
    {
     "data": {
      "text/html": [
       "<div style='float:left;background:#33001b;padding:10px;width:300px;'></div>"
      ],
      "text/plain": [
       "<IPython.core.display.HTML object>"
      ]
     },
     "metadata": {},
     "output_type": "display_data"
    },
    {
     "name": "stdout",
     "output_type": "stream",
     "text": [
      "ground truth\n"
     ]
    },
    {
     "data": {
      "text/html": [
       "<div style='float:left;background:#bd3534;padding:10px;width:300px;'></div>"
      ],
      "text/plain": [
       "<IPython.core.display.HTML object>"
      ]
     },
     "metadata": {},
     "output_type": "display_data"
    },
    {
     "name": "stdout",
     "output_type": "stream",
     "text": [
      "----------------------------\n",
      "color name :  alphabetred\n",
      "generated\n"
     ]
    },
    {
     "data": {
      "text/html": [
       "<div style='float:left;background:#9e242d;padding:10px;width:300px;'></div>"
      ],
      "text/plain": [
       "<IPython.core.display.HTML object>"
      ]
     },
     "metadata": {},
     "output_type": "display_data"
    },
    {
     "name": "stdout",
     "output_type": "stream",
     "text": [
      "ground truth\n"
     ]
    },
    {
     "data": {
      "text/html": [
       "<div style='float:left;background:#bd353f;padding:10px;width:300px;'></div>"
      ],
      "text/plain": [
       "<IPython.core.display.HTML object>"
      ]
     },
     "metadata": {},
     "output_type": "display_data"
    },
    {
     "name": "stdout",
     "output_type": "stream",
     "text": [
      "----------------------------\n",
      "color name :  redberry\n",
      "generated\n"
     ]
    },
    {
     "data": {
      "text/html": [
       "<div style='float:left;background:#87122c;padding:10px;width:300px;'></div>"
      ],
      "text/plain": [
       "<IPython.core.display.HTML object>"
      ]
     },
     "metadata": {},
     "output_type": "display_data"
    },
    {
     "name": "stdout",
     "output_type": "stream",
     "text": [
      "ground truth\n"
     ]
    },
    {
     "data": {
      "text/html": [
       "<div style='float:left;background:#b11f36;padding:10px;width:300px;'></div>"
      ],
      "text/plain": [
       "<IPython.core.display.HTML object>"
      ]
     },
     "metadata": {},
     "output_type": "display_data"
    },
    {
     "name": "stdout",
     "output_type": "stream",
     "text": [
      "----------------------------\n",
      "color name :  surely recognize red\n",
      "generated\n"
     ]
    },
    {
     "data": {
      "text/html": [
       "<div style='float:left;background:#e12721;padding:10px;width:300px;'></div>"
      ],
      "text/plain": [
       "<IPython.core.display.HTML object>"
      ]
     },
     "metadata": {},
     "output_type": "display_data"
    },
    {
     "name": "stdout",
     "output_type": "stream",
     "text": [
      "ground truth\n"
     ]
    },
    {
     "data": {
      "text/html": [
       "<div style='float:left;background:#c03032;padding:10px;width:300px;'></div>"
      ],
      "text/plain": [
       "<IPython.core.display.HTML object>"
      ]
     },
     "metadata": {},
     "output_type": "display_data"
    },
    {
     "name": "stdout",
     "output_type": "stream",
     "text": [
      "----------------------------\n",
      "color name :  red barn rooster\n",
      "generated\n"
     ]
    },
    {
     "data": {
      "text/html": [
       "<div style='float:left;background:#b10a20;padding:10px;width:300px;'></div>"
      ],
      "text/plain": [
       "<IPython.core.display.HTML object>"
      ]
     },
     "metadata": {},
     "output_type": "display_data"
    },
    {
     "name": "stdout",
     "output_type": "stream",
     "text": [
      "ground truth\n"
     ]
    },
    {
     "data": {
      "text/html": [
       "<div style='float:left;background:#b7292a;padding:10px;width:300px;'></div>"
      ],
      "text/plain": [
       "<IPython.core.display.HTML object>"
      ]
     },
     "metadata": {},
     "output_type": "display_data"
    },
    {
     "name": "stdout",
     "output_type": "stream",
     "text": [
      "----------------------------\n",
      "color name :  red like orange kiss\n",
      "generated\n"
     ]
    },
    {
     "data": {
      "text/html": [
       "<div style='float:left;background:#e6352b;padding:10px;width:300px;'></div>"
      ],
      "text/plain": [
       "<IPython.core.display.HTML object>"
      ]
     },
     "metadata": {},
     "output_type": "display_data"
    },
    {
     "name": "stdout",
     "output_type": "stream",
     "text": [
      "ground truth\n"
     ]
    },
    {
     "data": {
      "text/html": [
       "<div style='float:left;background:#da5131;padding:10px;width:300px;'></div>"
      ],
      "text/plain": [
       "<IPython.core.display.HTML object>"
      ]
     },
     "metadata": {},
     "output_type": "display_data"
    },
    {
     "name": "stdout",
     "output_type": "stream",
     "text": [
      "----------------------------\n",
      "color name :  she slippered away\n",
      "generated\n"
     ]
    },
    {
     "data": {
      "text/html": [
       "<div style='float:left;background:#d2c6d7;padding:10px;width:300px;'></div>"
      ],
      "text/plain": [
       "<IPython.core.display.HTML object>"
      ]
     },
     "metadata": {},
     "output_type": "display_data"
    },
    {
     "name": "stdout",
     "output_type": "stream",
     "text": [
      "ground truth\n"
     ]
    },
    {
     "data": {
      "text/html": [
       "<div style='float:left;background:#9c8087;padding:10px;width:300px;'></div>"
      ],
      "text/plain": [
       "<IPython.core.display.HTML object>"
      ]
     },
     "metadata": {},
     "output_type": "display_data"
    },
    {
     "name": "stdout",
     "output_type": "stream",
     "text": [
      "----------------------------\n",
      "color name :  sunflower red\n",
      "generated\n"
     ]
    },
    {
     "data": {
      "text/html": [
       "<div style='float:left;background:#e6481c;padding:10px;width:300px;'></div>"
      ],
      "text/plain": [
       "<IPython.core.display.HTML object>"
      ]
     },
     "metadata": {},
     "output_type": "display_data"
    },
    {
     "name": "stdout",
     "output_type": "stream",
     "text": [
      "ground truth\n"
     ]
    },
    {
     "data": {
      "text/html": [
       "<div style='float:left;background:#cb3730;padding:10px;width:300px;'></div>"
      ],
      "text/plain": [
       "<IPython.core.display.HTML object>"
      ]
     },
     "metadata": {},
     "output_type": "display_data"
    },
    {
     "name": "stdout",
     "output_type": "stream",
     "text": [
      "----------------------------\n",
      "color name :  ripe plum red\n",
      "generated\n"
     ]
    },
    {
     "data": {
      "text/html": [
       "<div style='float:left;background:#8e1452;padding:10px;width:300px;'></div>"
      ],
      "text/plain": [
       "<IPython.core.display.HTML object>"
      ]
     },
     "metadata": {},
     "output_type": "display_data"
    },
    {
     "name": "stdout",
     "output_type": "stream",
     "text": [
      "ground truth\n"
     ]
    },
    {
     "data": {
      "text/html": [
       "<div style='float:left;background:#ab2129;padding:10px;width:300px;'></div>"
      ],
      "text/plain": [
       "<IPython.core.display.HTML object>"
      ]
     },
     "metadata": {},
     "output_type": "display_data"
    },
    {
     "name": "stdout",
     "output_type": "stream",
     "text": [
      "----------------------------\n",
      "color name :  turkish red\n",
      "generated\n"
     ]
    },
    {
     "data": {
      "text/html": [
       "<div style='float:left;background:#cc2614;padding:10px;width:300px;'></div>"
      ],
      "text/plain": [
       "<IPython.core.display.HTML object>"
      ]
     },
     "metadata": {},
     "output_type": "display_data"
    },
    {
     "name": "stdout",
     "output_type": "stream",
     "text": [
      "ground truth\n"
     ]
    },
    {
     "data": {
      "text/html": [
       "<div style='float:left;background:#c22f2d;padding:10px;width:300px;'></div>"
      ],
      "text/plain": [
       "<IPython.core.display.HTML object>"
      ]
     },
     "metadata": {},
     "output_type": "display_data"
    },
    {
     "name": "stdout",
     "output_type": "stream",
     "text": [
      "----------------------------\n",
      "color name :  dark haired\n",
      "generated\n"
     ]
    },
    {
     "data": {
      "text/html": [
       "<div style='float:left;background:#2b331e;padding:10px;width:300px;'></div>"
      ],
      "text/plain": [
       "<IPython.core.display.HTML object>"
      ]
     },
     "metadata": {},
     "output_type": "display_data"
    },
    {
     "name": "stdout",
     "output_type": "stream",
     "text": [
      "ground truth\n"
     ]
    },
    {
     "data": {
      "text/html": [
       "<div style='float:left;background:#542624;padding:10px;width:300px;'></div>"
      ],
      "text/plain": [
       "<IPython.core.display.HTML object>"
      ]
     },
     "metadata": {},
     "output_type": "display_data"
    },
    {
     "name": "stdout",
     "output_type": "stream",
     "text": [
      "----------------------------\n",
      "color name :  tiredtyredtired\n",
      "generated\n"
     ]
    },
    {
     "data": {
      "text/html": [
       "<div style='float:left;background:#2a231d;padding:10px;width:300px;'></div>"
      ],
      "text/plain": [
       "<IPython.core.display.HTML object>"
      ]
     },
     "metadata": {},
     "output_type": "display_data"
    },
    {
     "name": "stdout",
     "output_type": "stream",
     "text": [
      "ground truth\n"
     ]
    },
    {
     "data": {
      "text/html": [
       "<div style='float:left;background:#c14038;padding:10px;width:300px;'></div>"
      ],
      "text/plain": [
       "<IPython.core.display.HTML object>"
      ]
     },
     "metadata": {},
     "output_type": "display_data"
    },
    {
     "name": "stdout",
     "output_type": "stream",
     "text": [
      "----------------------------\n",
      "color name :  rhodesian red\n",
      "generated\n"
     ]
    },
    {
     "data": {
      "text/html": [
       "<div style='float:left;background:#f1441d;padding:10px;width:300px;'></div>"
      ],
      "text/plain": [
       "<IPython.core.display.HTML object>"
      ]
     },
     "metadata": {},
     "output_type": "display_data"
    },
    {
     "name": "stdout",
     "output_type": "stream",
     "text": [
      "ground truth\n"
     ]
    },
    {
     "data": {
      "text/html": [
       "<div style='float:left;background:#c2282d;padding:10px;width:300px;'></div>"
      ],
      "text/plain": [
       "<IPython.core.display.HTML object>"
      ]
     },
     "metadata": {},
     "output_type": "display_data"
    },
    {
     "name": "stdout",
     "output_type": "stream",
     "text": [
      "----------------------------\n",
      "color name :  slash of red\n",
      "generated\n"
     ]
    },
    {
     "data": {
      "text/html": [
       "<div style='float:left;background:#f32721;padding:10px;width:300px;'></div>"
      ],
      "text/plain": [
       "<IPython.core.display.HTML object>"
      ]
     },
     "metadata": {},
     "output_type": "display_data"
    },
    {
     "name": "stdout",
     "output_type": "stream",
     "text": [
      "ground truth\n"
     ]
    },
    {
     "data": {
      "text/html": [
       "<div style='float:left;background:#c83636;padding:10px;width:300px;'></div>"
      ],
      "text/plain": [
       "<IPython.core.display.HTML object>"
      ]
     },
     "metadata": {},
     "output_type": "display_data"
    },
    {
     "name": "stdout",
     "output_type": "stream",
     "text": [
      "----------------------------\n",
      "color name :  stephen red\n",
      "generated\n"
     ]
    },
    {
     "data": {
      "text/html": [
       "<div style='float:left;background:#e72834;padding:10px;width:300px;'></div>"
      ],
      "text/plain": [
       "<IPython.core.display.HTML object>"
      ]
     },
     "metadata": {},
     "output_type": "display_data"
    },
    {
     "name": "stdout",
     "output_type": "stream",
     "text": [
      "ground truth\n"
     ]
    },
    {
     "data": {
      "text/html": [
       "<div style='float:left;background:#bb2b2f;padding:10px;width:300px;'></div>"
      ],
      "text/plain": [
       "<IPython.core.display.HTML object>"
      ]
     },
     "metadata": {},
     "output_type": "display_data"
    },
    {
     "name": "stdout",
     "output_type": "stream",
     "text": [
      "----------------------------\n",
      "color name :  brick red\n",
      "generated\n"
     ]
    },
    {
     "data": {
      "text/html": [
       "<div style='float:left;background:#d05b3f;padding:10px;width:300px;'></div>"
      ],
      "text/plain": [
       "<IPython.core.display.HTML object>"
      ]
     },
     "metadata": {},
     "output_type": "display_data"
    },
    {
     "name": "stdout",
     "output_type": "stream",
     "text": [
      "ground truth\n"
     ]
    },
    {
     "data": {
      "text/html": [
       "<div style='float:left;background:#bd282c;padding:10px;width:300px;'></div>"
      ],
      "text/plain": [
       "<IPython.core.display.HTML object>"
      ]
     },
     "metadata": {},
     "output_type": "display_data"
    },
    {
     "name": "stdout",
     "output_type": "stream",
     "text": [
      "----------------------------\n",
      "color name :  red cabbage roses\n",
      "generated\n"
     ]
    },
    {
     "data": {
      "text/html": [
       "<div style='float:left;background:#c61c3c;padding:10px;width:300px;'></div>"
      ],
      "text/plain": [
       "<IPython.core.display.HTML object>"
      ]
     },
     "metadata": {},
     "output_type": "display_data"
    },
    {
     "name": "stdout",
     "output_type": "stream",
     "text": [
      "ground truth\n"
     ]
    },
    {
     "data": {
      "text/html": [
       "<div style='float:left;background:#c83d3b;padding:10px;width:300px;'></div>"
      ],
      "text/plain": [
       "<IPython.core.display.HTML object>"
      ]
     },
     "metadata": {},
     "output_type": "display_data"
    },
    {
     "name": "stdout",
     "output_type": "stream",
     "text": [
      "----------------------------\n",
      "color name :  santa suit red\n",
      "generated\n"
     ]
    },
    {
     "data": {
      "text/html": [
       "<div style='float:left;background:#d11438;padding:10px;width:300px;'></div>"
      ],
      "text/plain": [
       "<IPython.core.display.HTML object>"
      ]
     },
     "metadata": {},
     "output_type": "display_data"
    },
    {
     "name": "stdout",
     "output_type": "stream",
     "text": [
      "ground truth\n"
     ]
    },
    {
     "data": {
      "text/html": [
       "<div style='float:left;background:#c53233;padding:10px;width:300px;'></div>"
      ],
      "text/plain": [
       "<IPython.core.display.HTML object>"
      ]
     },
     "metadata": {},
     "output_type": "display_data"
    },
    {
     "name": "stdout",
     "output_type": "stream",
     "text": [
      "----------------------------\n",
      "color name :  walls red\n",
      "generated\n"
     ]
    },
    {
     "data": {
      "text/html": [
       "<div style='float:left;background:#a92f19;padding:10px;width:300px;'></div>"
      ],
      "text/plain": [
       "<IPython.core.display.HTML object>"
      ]
     },
     "metadata": {},
     "output_type": "display_data"
    },
    {
     "name": "stdout",
     "output_type": "stream",
     "text": [
      "ground truth\n"
     ]
    },
    {
     "data": {
      "text/html": [
       "<div style='float:left;background:#c42c32;padding:10px;width:300px;'></div>"
      ],
      "text/plain": [
       "<IPython.core.display.HTML object>"
      ]
     },
     "metadata": {},
     "output_type": "display_data"
    },
    {
     "name": "stdout",
     "output_type": "stream",
     "text": [
      "----------------------------\n",
      "color name :  shoestring red\n",
      "generated\n"
     ]
    },
    {
     "data": {
      "text/html": [
       "<div style='float:left;background:#bd0925;padding:10px;width:300px;'></div>"
      ],
      "text/plain": [
       "<IPython.core.display.HTML object>"
      ]
     },
     "metadata": {},
     "output_type": "display_data"
    },
    {
     "name": "stdout",
     "output_type": "stream",
     "text": [
      "ground truth\n"
     ]
    },
    {
     "data": {
      "text/html": [
       "<div style='float:left;background:#c72e33;padding:10px;width:300px;'></div>"
      ],
      "text/plain": [
       "<IPython.core.display.HTML object>"
      ]
     },
     "metadata": {},
     "output_type": "display_data"
    },
    {
     "name": "stdout",
     "output_type": "stream",
     "text": [
      "----------------------------\n",
      "color name :  nikki red\n",
      "generated\n"
     ]
    },
    {
     "data": {
      "text/html": [
       "<div style='float:left;background:#f00208;padding:10px;width:300px;'></div>"
      ],
      "text/plain": [
       "<IPython.core.display.HTML object>"
      ]
     },
     "metadata": {},
     "output_type": "display_data"
    },
    {
     "name": "stdout",
     "output_type": "stream",
     "text": [
      "ground truth\n"
     ]
    },
    {
     "data": {
      "text/html": [
       "<div style='float:left;background:#c43230;padding:10px;width:300px;'></div>"
      ],
      "text/plain": [
       "<IPython.core.display.HTML object>"
      ]
     },
     "metadata": {},
     "output_type": "display_data"
    },
    {
     "name": "stdout",
     "output_type": "stream",
     "text": [
      "----------------------------\n",
      "color name :  novak red apc\n",
      "generated\n"
     ]
    },
    {
     "data": {
      "text/html": [
       "<div style='float:left;background:#c00d15;padding:10px;width:300px;'></div>"
      ],
      "text/plain": [
       "<IPython.core.display.HTML object>"
      ]
     },
     "metadata": {},
     "output_type": "display_data"
    },
    {
     "name": "stdout",
     "output_type": "stream",
     "text": [
      "ground truth\n"
     ]
    },
    {
     "data": {
      "text/html": [
       "<div style='float:left;background:#c23237;padding:10px;width:300px;'></div>"
      ],
      "text/plain": [
       "<IPython.core.display.HTML object>"
      ]
     },
     "metadata": {},
     "output_type": "display_data"
    },
    {
     "name": "stdout",
     "output_type": "stream",
     "text": [
      "----------------------------\n",
      "color name :  marzleneflagsred\n",
      "generated\n"
     ]
    },
    {
     "data": {
      "text/html": [
       "<div style='float:left;background:#a50021;padding:10px;width:300px;'></div>"
      ],
      "text/plain": [
       "<IPython.core.display.HTML object>"
      ]
     },
     "metadata": {},
     "output_type": "display_data"
    },
    {
     "name": "stdout",
     "output_type": "stream",
     "text": [
      "ground truth\n"
     ]
    },
    {
     "data": {
      "text/html": [
       "<div style='float:left;background:#d8495d;padding:10px;width:300px;'></div>"
      ],
      "text/plain": [
       "<IPython.core.display.HTML object>"
      ]
     },
     "metadata": {},
     "output_type": "display_data"
    },
    {
     "name": "stdout",
     "output_type": "stream",
     "text": [
      "----------------------------\n",
      "color name :  mystic blood red\n",
      "generated\n"
     ]
    },
    {
     "data": {
      "text/html": [
       "<div style='float:left;background:#720e0f;padding:10px;width:300px;'></div>"
      ],
      "text/plain": [
       "<IPython.core.display.HTML object>"
      ]
     },
     "metadata": {},
     "output_type": "display_data"
    },
    {
     "name": "stdout",
     "output_type": "stream",
     "text": [
      "ground truth\n"
     ]
    },
    {
     "data": {
      "text/html": [
       "<div style='float:left;background:#a9202b;padding:10px;width:300px;'></div>"
      ],
      "text/plain": [
       "<IPython.core.display.HTML object>"
      ]
     },
     "metadata": {},
     "output_type": "display_data"
    },
    {
     "name": "stdout",
     "output_type": "stream",
     "text": [
      "----------------------------\n",
      "color name :  goldenhairedsister\n",
      "generated\n"
     ]
    },
    {
     "data": {
      "text/html": [
       "<div style='float:left;background:#bfc03b;padding:10px;width:300px;'></div>"
      ],
      "text/plain": [
       "<IPython.core.display.HTML object>"
      ]
     },
     "metadata": {},
     "output_type": "display_data"
    },
    {
     "name": "stdout",
     "output_type": "stream",
     "text": [
      "ground truth\n"
     ]
    },
    {
     "data": {
      "text/html": [
       "<div style='float:left;background:#cfa730;padding:10px;width:300px;'></div>"
      ],
      "text/plain": [
       "<IPython.core.display.HTML object>"
      ]
     },
     "metadata": {},
     "output_type": "display_data"
    },
    {
     "name": "stdout",
     "output_type": "stream",
     "text": [
      "----------------------------\n",
      "color name :  heated to redness\n",
      "generated\n"
     ]
    },
    {
     "data": {
      "text/html": [
       "<div style='float:left;background:#8e0914;padding:10px;width:300px;'></div>"
      ],
      "text/plain": [
       "<IPython.core.display.HTML object>"
      ]
     },
     "metadata": {},
     "output_type": "display_data"
    },
    {
     "name": "stdout",
     "output_type": "stream",
     "text": [
      "ground truth\n"
     ]
    },
    {
     "data": {
      "text/html": [
       "<div style='float:left;background:#c93538;padding:10px;width:300px;'></div>"
      ],
      "text/plain": [
       "<IPython.core.display.HTML object>"
      ]
     },
     "metadata": {},
     "output_type": "display_data"
    },
    {
     "name": "stdout",
     "output_type": "stream",
     "text": [
      "----------------------------\n",
      "color name :  er dark red \n",
      "generated\n"
     ]
    },
    {
     "data": {
      "text/html": [
       "<div style='float:left;background:#d62625;padding:10px;width:300px;'></div>"
      ],
      "text/plain": [
       "<IPython.core.display.HTML object>"
      ]
     },
     "metadata": {},
     "output_type": "display_data"
    },
    {
     "name": "stdout",
     "output_type": "stream",
     "text": [
      "ground truth\n"
     ]
    },
    {
     "data": {
      "text/html": [
       "<div style='float:left;background:#701b1d;padding:10px;width:300px;'></div>"
      ],
      "text/plain": [
       "<IPython.core.display.HTML object>"
      ]
     },
     "metadata": {},
     "output_type": "display_data"
    },
    {
     "name": "stdout",
     "output_type": "stream",
     "text": [
      "----------------------------\n",
      "color name :  red skelton\n",
      "generated\n"
     ]
    },
    {
     "data": {
      "text/html": [
       "<div style='float:left;background:#6e2223;padding:10px;width:300px;'></div>"
      ],
      "text/plain": [
       "<IPython.core.display.HTML object>"
      ]
     },
     "metadata": {},
     "output_type": "display_data"
    },
    {
     "name": "stdout",
     "output_type": "stream",
     "text": [
      "ground truth\n"
     ]
    },
    {
     "data": {
      "text/html": [
       "<div style='float:left;background:#ca3a35;padding:10px;width:300px;'></div>"
      ],
      "text/plain": [
       "<IPython.core.display.HTML object>"
      ]
     },
     "metadata": {},
     "output_type": "display_data"
    },
    {
     "name": "stdout",
     "output_type": "stream",
     "text": [
      "----------------------------\n",
      "color name :  texas red grapefruit\n",
      "generated\n"
     ]
    },
    {
     "data": {
      "text/html": [
       "<div style='float:left;background:#da322b;padding:10px;width:300px;'></div>"
      ],
      "text/plain": [
       "<IPython.core.display.HTML object>"
      ]
     },
     "metadata": {},
     "output_type": "display_data"
    },
    {
     "name": "stdout",
     "output_type": "stream",
     "text": [
      "ground truth\n"
     ]
    },
    {
     "data": {
      "text/html": [
       "<div style='float:left;background:#c93939;padding:10px;width:300px;'></div>"
      ],
      "text/plain": [
       "<IPython.core.display.HTML object>"
      ]
     },
     "metadata": {},
     "output_type": "display_data"
    },
    {
     "name": "stdout",
     "output_type": "stream",
     "text": [
      "----------------------------\n",
      "color name :  hope deferred\n",
      "generated\n"
     ]
    },
    {
     "data": {
      "text/html": [
       "<div style='float:left;background:#d73f3f;padding:10px;width:300px;'></div>"
      ],
      "text/plain": [
       "<IPython.core.display.HTML object>"
      ]
     },
     "metadata": {},
     "output_type": "display_data"
    },
    {
     "name": "stdout",
     "output_type": "stream",
     "text": [
      "ground truth\n"
     ]
    },
    {
     "data": {
      "text/html": [
       "<div style='float:left;background:#c83b3a;padding:10px;width:300px;'></div>"
      ],
      "text/plain": [
       "<IPython.core.display.HTML object>"
      ]
     },
     "metadata": {},
     "output_type": "display_data"
    },
    {
     "name": "stdout",
     "output_type": "stream",
     "text": [
      "----------------------------\n",
      "color name :  crimson red \n",
      "generated\n"
     ]
    },
    {
     "data": {
      "text/html": [
       "<div style='float:left;background:#bc1d2b;padding:10px;width:300px;'></div>"
      ],
      "text/plain": [
       "<IPython.core.display.HTML object>"
      ]
     },
     "metadata": {},
     "output_type": "display_data"
    },
    {
     "name": "stdout",
     "output_type": "stream",
     "text": [
      "ground truth\n"
     ]
    },
    {
     "data": {
      "text/html": [
       "<div style='float:left;background:#a21a2d;padding:10px;width:300px;'></div>"
      ],
      "text/plain": [
       "<IPython.core.display.HTML object>"
      ]
     },
     "metadata": {},
     "output_type": "display_data"
    },
    {
     "name": "stdout",
     "output_type": "stream",
     "text": [
      "----------------------------\n",
      "color name :  truest red\n",
      "generated\n"
     ]
    },
    {
     "data": {
      "text/html": [
       "<div style='float:left;background:#b6000a;padding:10px;width:300px;'></div>"
      ],
      "text/plain": [
       "<IPython.core.display.HTML object>"
      ]
     },
     "metadata": {},
     "output_type": "display_data"
    },
    {
     "name": "stdout",
     "output_type": "stream",
     "text": [
      "ground truth\n"
     ]
    },
    {
     "data": {
      "text/html": [
       "<div style='float:left;background:#bd2d2d;padding:10px;width:300px;'></div>"
      ],
      "text/plain": [
       "<IPython.core.display.HTML object>"
      ]
     },
     "metadata": {},
     "output_type": "display_data"
    },
    {
     "name": "stdout",
     "output_type": "stream",
     "text": [
      "----------------------------\n",
      "color name :  red deck\n",
      "generated\n"
     ]
    },
    {
     "data": {
      "text/html": [
       "<div style='float:left;background:#b73637;padding:10px;width:300px;'></div>"
      ],
      "text/plain": [
       "<IPython.core.display.HTML object>"
      ]
     },
     "metadata": {},
     "output_type": "display_data"
    },
    {
     "name": "stdout",
     "output_type": "stream",
     "text": [
      "ground truth\n"
     ]
    },
    {
     "data": {
      "text/html": [
       "<div style='float:left;background:#c13634;padding:10px;width:300px;'></div>"
      ],
      "text/plain": [
       "<IPython.core.display.HTML object>"
      ]
     },
     "metadata": {},
     "output_type": "display_data"
    },
    {
     "name": "stdout",
     "output_type": "stream",
     "text": [
      "----------------------------\n",
      "color name :  wow red\n",
      "generated\n"
     ]
    },
    {
     "data": {
      "text/html": [
       "<div style='float:left;background:#e9252d;padding:10px;width:300px;'></div>"
      ],
      "text/plain": [
       "<IPython.core.display.HTML object>"
      ]
     },
     "metadata": {},
     "output_type": "display_data"
    },
    {
     "name": "stdout",
     "output_type": "stream",
     "text": [
      "ground truth\n"
     ]
    },
    {
     "data": {
      "text/html": [
       "<div style='float:left;background:#c52f32;padding:10px;width:300px;'></div>"
      ],
      "text/plain": [
       "<IPython.core.display.HTML object>"
      ]
     },
     "metadata": {},
     "output_type": "display_data"
    },
    {
     "name": "stdout",
     "output_type": "stream",
     "text": [
      "----------------------------\n",
      "color name :  redvio\n",
      "generated\n"
     ]
    },
    {
     "data": {
      "text/html": [
       "<div style='float:left;background:#961e5e;padding:10px;width:300px;'></div>"
      ],
      "text/plain": [
       "<IPython.core.display.HTML object>"
      ]
     },
     "metadata": {},
     "output_type": "display_data"
    },
    {
     "name": "stdout",
     "output_type": "stream",
     "text": [
      "ground truth\n"
     ]
    },
    {
     "data": {
      "text/html": [
       "<div style='float:left;background:#bf3337;padding:10px;width:300px;'></div>"
      ],
      "text/plain": [
       "<IPython.core.display.HTML object>"
      ]
     },
     "metadata": {},
     "output_type": "display_data"
    },
    {
     "name": "stdout",
     "output_type": "stream",
     "text": [
      "----------------------------\n",
      "color name :  reddish hue\n",
      "generated\n"
     ]
    },
    {
     "data": {
      "text/html": [
       "<div style='float:left;background:#b92c2d;padding:10px;width:300px;'></div>"
      ],
      "text/plain": [
       "<IPython.core.display.HTML object>"
      ]
     },
     "metadata": {},
     "output_type": "display_data"
    },
    {
     "name": "stdout",
     "output_type": "stream",
     "text": [
      "ground truth\n"
     ]
    },
    {
     "data": {
      "text/html": [
       "<div style='float:left;background:#be3530;padding:10px;width:300px;'></div>"
      ],
      "text/plain": [
       "<IPython.core.display.HTML object>"
      ]
     },
     "metadata": {},
     "output_type": "display_data"
    },
    {
     "name": "stdout",
     "output_type": "stream",
     "text": [
      "----------------------------\n",
      "color name :  red orangie\n",
      "generated\n"
     ]
    },
    {
     "data": {
      "text/html": [
       "<div style='float:left;background:#650001;padding:10px;width:300px;'></div>"
      ],
      "text/plain": [
       "<IPython.core.display.HTML object>"
      ]
     },
     "metadata": {},
     "output_type": "display_data"
    },
    {
     "name": "stdout",
     "output_type": "stream",
     "text": [
      "ground truth\n"
     ]
    },
    {
     "data": {
      "text/html": [
       "<div style='float:left;background:#d14729;padding:10px;width:300px;'></div>"
      ],
      "text/plain": [
       "<IPython.core.display.HTML object>"
      ]
     },
     "metadata": {},
     "output_type": "display_data"
    },
    {
     "name": "stdout",
     "output_type": "stream",
     "text": [
      "----------------------------\n",
      "color name :  throw red\n",
      "generated\n"
     ]
    },
    {
     "data": {
      "text/html": [
       "<div style='float:left;background:#680306;padding:10px;width:300px;'></div>"
      ],
      "text/plain": [
       "<IPython.core.display.HTML object>"
      ]
     },
     "metadata": {},
     "output_type": "display_data"
    },
    {
     "name": "stdout",
     "output_type": "stream",
     "text": [
      "ground truth\n"
     ]
    },
    {
     "data": {
      "text/html": [
       "<div style='float:left;background:#be2c30;padding:10px;width:300px;'></div>"
      ],
      "text/plain": [
       "<IPython.core.display.HTML object>"
      ]
     },
     "metadata": {},
     "output_type": "display_data"
    },
    {
     "name": "stdout",
     "output_type": "stream",
     "text": [
      "----------------------------\n",
      "color name :  undiscovered\n",
      "generated\n"
     ]
    },
    {
     "data": {
      "text/html": [
       "<div style='float:left;background:#c3b6be;padding:10px;width:300px;'></div>"
      ],
      "text/plain": [
       "<IPython.core.display.HTML object>"
      ]
     },
     "metadata": {},
     "output_type": "display_data"
    },
    {
     "name": "stdout",
     "output_type": "stream",
     "text": [
      "ground truth\n"
     ]
    },
    {
     "data": {
      "text/html": [
       "<div style='float:left;background:#997779;padding:10px;width:300px;'></div>"
      ],
      "text/plain": [
       "<IPython.core.display.HTML object>"
      ]
     },
     "metadata": {},
     "output_type": "display_data"
    },
    {
     "name": "stdout",
     "output_type": "stream",
     "text": [
      "----------------------------\n",
      "color name :  little red\n",
      "generated\n"
     ]
    },
    {
     "data": {
      "text/html": [
       "<div style='float:left;background:#952b3b;padding:10px;width:300px;'></div>"
      ],
      "text/plain": [
       "<IPython.core.display.HTML object>"
      ]
     },
     "metadata": {},
     "output_type": "display_data"
    },
    {
     "name": "stdout",
     "output_type": "stream",
     "text": [
      "ground truth\n"
     ]
    },
    {
     "data": {
      "text/html": [
       "<div style='float:left;background:#cf3b3a;padding:10px;width:300px;'></div>"
      ],
      "text/plain": [
       "<IPython.core.display.HTML object>"
      ]
     },
     "metadata": {},
     "output_type": "display_data"
    },
    {
     "name": "stdout",
     "output_type": "stream",
     "text": [
      "----------------------------\n",
      "color name :  red flame\n",
      "generated\n"
     ]
    },
    {
     "data": {
      "text/html": [
       "<div style='float:left;background:#d82f0e;padding:10px;width:300px;'></div>"
      ],
      "text/plain": [
       "<IPython.core.display.HTML object>"
      ]
     },
     "metadata": {},
     "output_type": "display_data"
    },
    {
     "name": "stdout",
     "output_type": "stream",
     "text": [
      "ground truth\n"
     ]
    },
    {
     "data": {
      "text/html": [
       "<div style='float:left;background:#c83130;padding:10px;width:300px;'></div>"
      ],
      "text/plain": [
       "<IPython.core.display.HTML object>"
      ]
     },
     "metadata": {},
     "output_type": "display_data"
    },
    {
     "name": "stdout",
     "output_type": "stream",
     "text": [
      "----------------------------\n",
      "color name :  he adored her\n",
      "generated\n"
     ]
    },
    {
     "data": {
      "text/html": [
       "<div style='float:left;background:#ae52b1;padding:10px;width:300px;'></div>"
      ],
      "text/plain": [
       "<IPython.core.display.HTML object>"
      ]
     },
     "metadata": {},
     "output_type": "display_data"
    },
    {
     "name": "stdout",
     "output_type": "stream",
     "text": [
      "ground truth\n"
     ]
    },
    {
     "data": {
      "text/html": [
       "<div style='float:left;background:#9e6c70;padding:10px;width:300px;'></div>"
      ],
      "text/plain": [
       "<IPython.core.display.HTML object>"
      ]
     },
     "metadata": {},
     "output_type": "display_data"
    },
    {
     "name": "stdout",
     "output_type": "stream",
     "text": [
      "----------------------------\n",
      "color name :  sexy red\n",
      "generated\n"
     ]
    },
    {
     "data": {
      "text/html": [
       "<div style='float:left;background:#da192f;padding:10px;width:300px;'></div>"
      ],
      "text/plain": [
       "<IPython.core.display.HTML object>"
      ]
     },
     "metadata": {},
     "output_type": "display_data"
    },
    {
     "name": "stdout",
     "output_type": "stream",
     "text": [
      "ground truth\n"
     ]
    },
    {
     "data": {
      "text/html": [
       "<div style='float:left;background:#c22b30;padding:10px;width:300px;'></div>"
      ],
      "text/plain": [
       "<IPython.core.display.HTML object>"
      ]
     },
     "metadata": {},
     "output_type": "display_data"
    },
    {
     "name": "stdout",
     "output_type": "stream",
     "text": [
      "----------------------------\n",
      "color name :  outside the red\n",
      "generated\n"
     ]
    },
    {
     "data": {
      "text/html": [
       "<div style='float:left;background:#210708;padding:10px;width:300px;'></div>"
      ],
      "text/plain": [
       "<IPython.core.display.HTML object>"
      ]
     },
     "metadata": {},
     "output_type": "display_data"
    },
    {
     "name": "stdout",
     "output_type": "stream",
     "text": [
      "ground truth\n"
     ]
    },
    {
     "data": {
      "text/html": [
       "<div style='float:left;background:#be3131;padding:10px;width:300px;'></div>"
      ],
      "text/plain": [
       "<IPython.core.display.HTML object>"
      ]
     },
     "metadata": {},
     "output_type": "display_data"
    },
    {
     "name": "stdout",
     "output_type": "stream",
     "text": [
      "----------------------------\n",
      "color name :  splinter red\n",
      "generated\n"
     ]
    },
    {
     "data": {
      "text/html": [
       "<div style='float:left;background:#a70723;padding:10px;width:300px;'></div>"
      ],
      "text/plain": [
       "<IPython.core.display.HTML object>"
      ]
     },
     "metadata": {},
     "output_type": "display_data"
    },
    {
     "name": "stdout",
     "output_type": "stream",
     "text": [
      "ground truth\n"
     ]
    },
    {
     "data": {
      "text/html": [
       "<div style='float:left;background:#bd282d;padding:10px;width:300px;'></div>"
      ],
      "text/plain": [
       "<IPython.core.display.HTML object>"
      ]
     },
     "metadata": {},
     "output_type": "display_data"
    },
    {
     "name": "stdout",
     "output_type": "stream",
     "text": [
      "----------------------------\n",
      "color name :  ruby red\n",
      "generated\n"
     ]
    },
    {
     "data": {
      "text/html": [
       "<div style='float:left;background:#ac2737;padding:10px;width:300px;'></div>"
      ],
      "text/plain": [
       "<IPython.core.display.HTML object>"
      ]
     },
     "metadata": {},
     "output_type": "display_data"
    },
    {
     "name": "stdout",
     "output_type": "stream",
     "text": [
      "ground truth\n"
     ]
    },
    {
     "data": {
      "text/html": [
       "<div style='float:left;background:#b11e28;padding:10px;width:300px;'></div>"
      ],
      "text/plain": [
       "<IPython.core.display.HTML object>"
      ]
     },
     "metadata": {},
     "output_type": "display_data"
    },
    {
     "name": "stdout",
     "output_type": "stream",
     "text": [
      "----------------------------\n",
      "color name :  fcr deepcrimsonred \n",
      "generated\n"
     ]
    },
    {
     "data": {
      "text/html": [
       "<div style='float:left;background:#810317;padding:10px;width:300px;'></div>"
      ],
      "text/plain": [
       "<IPython.core.display.HTML object>"
      ]
     },
     "metadata": {},
     "output_type": "display_data"
    },
    {
     "name": "stdout",
     "output_type": "stream",
     "text": [
      "ground truth\n"
     ]
    },
    {
     "data": {
      "text/html": [
       "<div style='float:left;background:#b72a3f;padding:10px;width:300px;'></div>"
      ],
      "text/plain": [
       "<IPython.core.display.HTML object>"
      ]
     },
     "metadata": {},
     "output_type": "display_data"
    },
    {
     "name": "stdout",
     "output_type": "stream",
     "text": [
      "----------------------------\n",
      "color name :  slash is red hot\n",
      "generated\n"
     ]
    },
    {
     "data": {
      "text/html": [
       "<div style='float:left;background:#4d070e;padding:10px;width:300px;'></div>"
      ],
      "text/plain": [
       "<IPython.core.display.HTML object>"
      ]
     },
     "metadata": {},
     "output_type": "display_data"
    },
    {
     "name": "stdout",
     "output_type": "stream",
     "text": [
      "ground truth\n"
     ]
    },
    {
     "data": {
      "text/html": [
       "<div style='float:left;background:#c5393c;padding:10px;width:300px;'></div>"
      ],
      "text/plain": [
       "<IPython.core.display.HTML object>"
      ]
     },
     "metadata": {},
     "output_type": "display_data"
    },
    {
     "name": "stdout",
     "output_type": "stream",
     "text": [
      "----------------------------\n",
      "color name :  lacquered nails\n",
      "generated\n"
     ]
    },
    {
     "data": {
      "text/html": [
       "<div style='float:left;background:#39785d;padding:10px;width:300px;'></div>"
      ],
      "text/plain": [
       "<IPython.core.display.HTML object>"
      ]
     },
     "metadata": {},
     "output_type": "display_data"
    },
    {
     "name": "stdout",
     "output_type": "stream",
     "text": [
      "ground truth\n"
     ]
    },
    {
     "data": {
      "text/html": [
       "<div style='float:left;background:#9f827a;padding:10px;width:300px;'></div>"
      ],
      "text/plain": [
       "<IPython.core.display.HTML object>"
      ]
     },
     "metadata": {},
     "output_type": "display_data"
    },
    {
     "name": "stdout",
     "output_type": "stream",
     "text": [
      "----------------------------\n",
      "color name :  pale boredom\n",
      "generated\n"
     ]
    },
    {
     "data": {
      "text/html": [
       "<div style='float:left;background:#f9f2db;padding:10px;width:300px;'></div>"
      ],
      "text/plain": [
       "<IPython.core.display.HTML object>"
      ]
     },
     "metadata": {},
     "output_type": "display_data"
    },
    {
     "name": "stdout",
     "output_type": "stream",
     "text": [
      "ground truth\n"
     ]
    },
    {
     "data": {
      "text/html": [
       "<div style='float:left;background:#b7bab4;padding:10px;width:300px;'></div>"
      ],
      "text/plain": [
       "<IPython.core.display.HTML object>"
      ]
     },
     "metadata": {},
     "output_type": "display_data"
    },
    {
     "name": "stdout",
     "output_type": "stream",
     "text": [
      "----------------------------\n",
      "color name :  smoky red \n",
      "generated\n"
     ]
    },
    {
     "data": {
      "text/html": [
       "<div style='float:left;background:#c23f63;padding:10px;width:300px;'></div>"
      ],
      "text/plain": [
       "<IPython.core.display.HTML object>"
      ]
     },
     "metadata": {},
     "output_type": "display_data"
    },
    {
     "name": "stdout",
     "output_type": "stream",
     "text": [
      "ground truth\n"
     ]
    },
    {
     "data": {
      "text/html": [
       "<div style='float:left;background:#c43c40;padding:10px;width:300px;'></div>"
      ],
      "text/plain": [
       "<IPython.core.display.HTML object>"
      ]
     },
     "metadata": {},
     "output_type": "display_data"
    },
    {
     "name": "stdout",
     "output_type": "stream",
     "text": [
      "----------------------------\n",
      "color name :  red tomorrow\n",
      "generated\n"
     ]
    },
    {
     "data": {
      "text/html": [
       "<div style='float:left;background:#4a0405;padding:10px;width:300px;'></div>"
      ],
      "text/plain": [
       "<IPython.core.display.HTML object>"
      ]
     },
     "metadata": {},
     "output_type": "display_data"
    },
    {
     "name": "stdout",
     "output_type": "stream",
     "text": [
      "ground truth\n"
     ]
    },
    {
     "data": {
      "text/html": [
       "<div style='float:left;background:#c63231;padding:10px;width:300px;'></div>"
      ],
      "text/plain": [
       "<IPython.core.display.HTML object>"
      ]
     },
     "metadata": {},
     "output_type": "display_data"
    },
    {
     "name": "stdout",
     "output_type": "stream",
     "text": [
      "----------------------------\n",
      "color name :  milky redz\n",
      "generated\n"
     ]
    },
    {
     "data": {
      "text/html": [
       "<div style='float:left;background:#f8c0b6;padding:10px;width:300px;'></div>"
      ],
      "text/plain": [
       "<IPython.core.display.HTML object>"
      ]
     },
     "metadata": {},
     "output_type": "display_data"
    },
    {
     "name": "stdout",
     "output_type": "stream",
     "text": [
      "ground truth\n"
     ]
    },
    {
     "data": {
      "text/html": [
       "<div style='float:left;background:#d6463f;padding:10px;width:300px;'></div>"
      ],
      "text/plain": [
       "<IPython.core.display.HTML object>"
      ]
     },
     "metadata": {},
     "output_type": "display_data"
    },
    {
     "name": "stdout",
     "output_type": "stream",
     "text": [
      "----------------------------\n",
      "color name :  queens red\n",
      "generated\n"
     ]
    },
    {
     "data": {
      "text/html": [
       "<div style='float:left;background:#cb0852;padding:10px;width:300px;'></div>"
      ],
      "text/plain": [
       "<IPython.core.display.HTML object>"
      ]
     },
     "metadata": {},
     "output_type": "display_data"
    },
    {
     "name": "stdout",
     "output_type": "stream",
     "text": [
      "ground truth\n"
     ]
    },
    {
     "data": {
      "text/html": [
       "<div style='float:left;background:#bb262e;padding:10px;width:300px;'></div>"
      ],
      "text/plain": [
       "<IPython.core.display.HTML object>"
      ]
     },
     "metadata": {},
     "output_type": "display_data"
    },
    {
     "name": "stdout",
     "output_type": "stream",
     "text": [
      "----------------------------\n",
      "color name :  putty red\n",
      "generated\n"
     ]
    },
    {
     "data": {
      "text/html": [
       "<div style='float:left;background:#e08393;padding:10px;width:300px;'></div>"
      ],
      "text/plain": [
       "<IPython.core.display.HTML object>"
      ]
     },
     "metadata": {},
     "output_type": "display_data"
    },
    {
     "name": "stdout",
     "output_type": "stream",
     "text": [
      "ground truth\n"
     ]
    },
    {
     "data": {
      "text/html": [
       "<div style='float:left;background:#c93533;padding:10px;width:300px;'></div>"
      ],
      "text/plain": [
       "<IPython.core.display.HTML object>"
      ]
     },
     "metadata": {},
     "output_type": "display_data"
    },
    {
     "name": "stdout",
     "output_type": "stream",
     "text": [
      "----------------------------\n",
      "color name :  a squared\n",
      "generated\n"
     ]
    },
    {
     "data": {
      "text/html": [
       "<div style='float:left;background:#9a0bb7;padding:10px;width:300px;'></div>"
      ],
      "text/plain": [
       "<IPython.core.display.HTML object>"
      ]
     },
     "metadata": {},
     "output_type": "display_data"
    },
    {
     "name": "stdout",
     "output_type": "stream",
     "text": [
      "ground truth\n"
     ]
    },
    {
     "data": {
      "text/html": [
       "<div style='float:left;background:#aa776a;padding:10px;width:300px;'></div>"
      ],
      "text/plain": [
       "<IPython.core.display.HTML object>"
      ]
     },
     "metadata": {},
     "output_type": "display_data"
    },
    {
     "name": "stdout",
     "output_type": "stream",
     "text": [
      "----------------------------\n",
      "color name :  rebelred\n",
      "generated\n"
     ]
    },
    {
     "data": {
      "text/html": [
       "<div style='float:left;background:#e02d30;padding:10px;width:300px;'></div>"
      ],
      "text/plain": [
       "<IPython.core.display.HTML object>"
      ]
     },
     "metadata": {},
     "output_type": "display_data"
    },
    {
     "name": "stdout",
     "output_type": "stream",
     "text": [
      "ground truth\n"
     ]
    },
    {
     "data": {
      "text/html": [
       "<div style='float:left;background:#c93833;padding:10px;width:300px;'></div>"
      ],
      "text/plain": [
       "<IPython.core.display.HTML object>"
      ]
     },
     "metadata": {},
     "output_type": "display_data"
    },
    {
     "name": "stdout",
     "output_type": "stream",
     "text": [
      "----------------------------\n",
      "color name :  lovely red apc\n",
      "generated\n"
     ]
    },
    {
     "data": {
      "text/html": [
       "<div style='float:left;background:#dd134d;padding:10px;width:300px;'></div>"
      ],
      "text/plain": [
       "<IPython.core.display.HTML object>"
      ]
     },
     "metadata": {},
     "output_type": "display_data"
    },
    {
     "name": "stdout",
     "output_type": "stream",
     "text": [
      "ground truth\n"
     ]
    },
    {
     "data": {
      "text/html": [
       "<div style='float:left;background:#ca353a;padding:10px;width:300px;'></div>"
      ],
      "text/plain": [
       "<IPython.core.display.HTML object>"
      ]
     },
     "metadata": {},
     "output_type": "display_data"
    },
    {
     "name": "stdout",
     "output_type": "stream",
     "text": [
      "----------------------------\n",
      "color name :  postured\n",
      "generated\n"
     ]
    },
    {
     "data": {
      "text/html": [
       "<div style='float:left;background:#ee8071;padding:10px;width:300px;'></div>"
      ],
      "text/plain": [
       "<IPython.core.display.HTML object>"
      ]
     },
     "metadata": {},
     "output_type": "display_data"
    },
    {
     "name": "stdout",
     "output_type": "stream",
     "text": [
      "ground truth\n"
     ]
    },
    {
     "data": {
      "text/html": [
       "<div style='float:left;background:#a17370;padding:10px;width:300px;'></div>"
      ],
      "text/plain": [
       "<IPython.core.display.HTML object>"
      ]
     },
     "metadata": {},
     "output_type": "display_data"
    },
    {
     "name": "stdout",
     "output_type": "stream",
     "text": [
      "----------------------------\n",
      "color name :  red rose rapture\n",
      "generated\n"
     ]
    },
    {
     "data": {
      "text/html": [
       "<div style='float:left;background:#de0634;padding:10px;width:300px;'></div>"
      ],
      "text/plain": [
       "<IPython.core.display.HTML object>"
      ]
     },
     "metadata": {},
     "output_type": "display_data"
    },
    {
     "name": "stdout",
     "output_type": "stream",
     "text": [
      "ground truth\n"
     ]
    },
    {
     "data": {
      "text/html": [
       "<div style='float:left;background:#c93331;padding:10px;width:300px;'></div>"
      ],
      "text/plain": [
       "<IPython.core.display.HTML object>"
      ]
     },
     "metadata": {},
     "output_type": "display_data"
    },
    {
     "name": "stdout",
     "output_type": "stream",
     "text": [
      "----------------------------\n",
      "color name :  scared of freedom\n",
      "generated\n"
     ]
    },
    {
     "data": {
      "text/html": [
       "<div style='float:left;background:#8cb2af;padding:10px;width:300px;'></div>"
      ],
      "text/plain": [
       "<IPython.core.display.HTML object>"
      ]
     },
     "metadata": {},
     "output_type": "display_data"
    },
    {
     "name": "stdout",
     "output_type": "stream",
     "text": [
      "ground truth\n"
     ]
    },
    {
     "data": {
      "text/html": [
       "<div style='float:left;background:#9b817c;padding:10px;width:300px;'></div>"
      ],
      "text/plain": [
       "<IPython.core.display.HTML object>"
      ]
     },
     "metadata": {},
     "output_type": "display_data"
    },
    {
     "name": "stdout",
     "output_type": "stream",
     "text": [
      "----------------------------\n",
      "color name :  revenge red\n",
      "generated\n"
     ]
    },
    {
     "data": {
      "text/html": [
       "<div style='float:left;background:#711917;padding:10px;width:300px;'></div>"
      ],
      "text/plain": [
       "<IPython.core.display.HTML object>"
      ]
     },
     "metadata": {},
     "output_type": "display_data"
    },
    {
     "name": "stdout",
     "output_type": "stream",
     "text": [
      "ground truth\n"
     ]
    },
    {
     "data": {
      "text/html": [
       "<div style='float:left;background:#c32b2f;padding:10px;width:300px;'></div>"
      ],
      "text/plain": [
       "<IPython.core.display.HTML object>"
      ]
     },
     "metadata": {},
     "output_type": "display_data"
    },
    {
     "name": "stdout",
     "output_type": "stream",
     "text": [
      "----------------------------\n",
      "color name :  bangle red\n",
      "generated\n"
     ]
    },
    {
     "data": {
      "text/html": [
       "<div style='float:left;background:#d63849;padding:10px;width:300px;'></div>"
      ],
      "text/plain": [
       "<IPython.core.display.HTML object>"
      ]
     },
     "metadata": {},
     "output_type": "display_data"
    },
    {
     "name": "stdout",
     "output_type": "stream",
     "text": [
      "ground truth\n"
     ]
    },
    {
     "data": {
      "text/html": [
       "<div style='float:left;background:#cb3133;padding:10px;width:300px;'></div>"
      ],
      "text/plain": [
       "<IPython.core.display.HTML object>"
      ]
     },
     "metadata": {},
     "output_type": "display_data"
    },
    {
     "name": "stdout",
     "output_type": "stream",
     "text": [
      "----------------------------\n",
      "color name :  little red head\n",
      "generated\n"
     ]
    },
    {
     "data": {
      "text/html": [
       "<div style='float:left;background:#e00031;padding:10px;width:300px;'></div>"
      ],
      "text/plain": [
       "<IPython.core.display.HTML object>"
      ]
     },
     "metadata": {},
     "output_type": "display_data"
    },
    {
     "name": "stdout",
     "output_type": "stream",
     "text": [
      "ground truth\n"
     ]
    },
    {
     "data": {
      "text/html": [
       "<div style='float:left;background:#c93839;padding:10px;width:300px;'></div>"
      ],
      "text/plain": [
       "<IPython.core.display.HTML object>"
      ]
     },
     "metadata": {},
     "output_type": "display_data"
    },
    {
     "name": "stdout",
     "output_type": "stream",
     "text": [
      "----------------------------\n",
      "color name :  red rocks utah\n",
      "generated\n"
     ]
    },
    {
     "data": {
      "text/html": [
       "<div style='float:left;background:#b2380e;padding:10px;width:300px;'></div>"
      ],
      "text/plain": [
       "<IPython.core.display.HTML object>"
      ]
     },
     "metadata": {},
     "output_type": "display_data"
    },
    {
     "name": "stdout",
     "output_type": "stream",
     "text": [
      "ground truth\n"
     ]
    },
    {
     "data": {
      "text/html": [
       "<div style='float:left;background:#c9453e;padding:10px;width:300px;'></div>"
      ],
      "text/plain": [
       "<IPython.core.display.HTML object>"
      ]
     },
     "metadata": {},
     "output_type": "display_data"
    },
    {
     "name": "stdout",
     "output_type": "stream",
     "text": [
      "----------------------------\n",
      "color name :  woah thats red\n",
      "generated\n"
     ]
    },
    {
     "data": {
      "text/html": [
       "<div style='float:left;background:#d62b04;padding:10px;width:300px;'></div>"
      ],
      "text/plain": [
       "<IPython.core.display.HTML object>"
      ]
     },
     "metadata": {},
     "output_type": "display_data"
    },
    {
     "name": "stdout",
     "output_type": "stream",
     "text": [
      "ground truth\n"
     ]
    },
    {
     "data": {
      "text/html": [
       "<div style='float:left;background:#c12d34;padding:10px;width:300px;'></div>"
      ],
      "text/plain": [
       "<IPython.core.display.HTML object>"
      ]
     },
     "metadata": {},
     "output_type": "display_data"
    },
    {
     "name": "stdout",
     "output_type": "stream",
     "text": [
      "----------------------------\n",
      "color name :  redish brown\n",
      "generated\n"
     ]
    },
    {
     "data": {
      "text/html": [
       "<div style='float:left;background:#592e40;padding:10px;width:300px;'></div>"
      ],
      "text/plain": [
       "<IPython.core.display.HTML object>"
      ]
     },
     "metadata": {},
     "output_type": "display_data"
    },
    {
     "name": "stdout",
     "output_type": "stream",
     "text": [
      "ground truth\n"
     ]
    },
    {
     "data": {
      "text/html": [
       "<div style='float:left;background:#814227;padding:10px;width:300px;'></div>"
      ],
      "text/plain": [
       "<IPython.core.display.HTML object>"
      ]
     },
     "metadata": {},
     "output_type": "display_data"
    },
    {
     "name": "stdout",
     "output_type": "stream",
     "text": [
      "----------------------------\n",
      "color name :  redeyed pinkle\n",
      "generated\n"
     ]
    },
    {
     "data": {
      "text/html": [
       "<div style='float:left;background:#f64eb6;padding:10px;width:300px;'></div>"
      ],
      "text/plain": [
       "<IPython.core.display.HTML object>"
      ]
     },
     "metadata": {},
     "output_type": "display_data"
    },
    {
     "name": "stdout",
     "output_type": "stream",
     "text": [
      "ground truth\n"
     ]
    },
    {
     "data": {
      "text/html": [
       "<div style='float:left;background:#d13759;padding:10px;width:300px;'></div>"
      ],
      "text/plain": [
       "<IPython.core.display.HTML object>"
      ]
     },
     "metadata": {},
     "output_type": "display_data"
    },
    {
     "name": "stdout",
     "output_type": "stream",
     "text": [
      "----------------------------\n",
      "color name :  red dusk\n",
      "generated\n"
     ]
    },
    {
     "data": {
      "text/html": [
       "<div style='float:left;background:#bf6985;padding:10px;width:300px;'></div>"
      ],
      "text/plain": [
       "<IPython.core.display.HTML object>"
      ]
     },
     "metadata": {},
     "output_type": "display_data"
    },
    {
     "name": "stdout",
     "output_type": "stream",
     "text": [
      "ground truth\n"
     ]
    },
    {
     "data": {
      "text/html": [
       "<div style='float:left;background:#ad332e;padding:10px;width:300px;'></div>"
      ],
      "text/plain": [
       "<IPython.core.display.HTML object>"
      ]
     },
     "metadata": {},
     "output_type": "display_data"
    },
    {
     "name": "stdout",
     "output_type": "stream",
     "text": [
      "----------------------------\n",
      "color name :  clch redrumchocolate\n",
      "generated\n"
     ]
    },
    {
     "data": {
      "text/html": [
       "<div style='float:left;background:#aa1221;padding:10px;width:300px;'></div>"
      ],
      "text/plain": [
       "<IPython.core.display.HTML object>"
      ]
     },
     "metadata": {},
     "output_type": "display_data"
    },
    {
     "name": "stdout",
     "output_type": "stream",
     "text": [
      "ground truth\n"
     ]
    },
    {
     "data": {
      "text/html": [
       "<div style='float:left;background:#833126;padding:10px;width:300px;'></div>"
      ],
      "text/plain": [
       "<IPython.core.display.HTML object>"
      ]
     },
     "metadata": {},
     "output_type": "display_data"
    },
    {
     "name": "stdout",
     "output_type": "stream",
     "text": [
      "----------------------------\n",
      "color name :  red cups\n",
      "generated\n"
     ]
    },
    {
     "data": {
      "text/html": [
       "<div style='float:left;background:#cd3b29;padding:10px;width:300px;'></div>"
      ],
      "text/plain": [
       "<IPython.core.display.HTML object>"
      ]
     },
     "metadata": {},
     "output_type": "display_data"
    },
    {
     "name": "stdout",
     "output_type": "stream",
     "text": [
      "ground truth\n"
     ]
    },
    {
     "data": {
      "text/html": [
       "<div style='float:left;background:#c73431;padding:10px;width:300px;'></div>"
      ],
      "text/plain": [
       "<IPython.core.display.HTML object>"
      ]
     },
     "metadata": {},
     "output_type": "display_data"
    },
    {
     "name": "stdout",
     "output_type": "stream",
     "text": [
      "----------------------------\n",
      "color name :  ysb red\n",
      "generated\n"
     ]
    },
    {
     "data": {
      "text/html": [
       "<div style='float:left;background:#d30006;padding:10px;width:300px;'></div>"
      ],
      "text/plain": [
       "<IPython.core.display.HTML object>"
      ]
     },
     "metadata": {},
     "output_type": "display_data"
    },
    {
     "name": "stdout",
     "output_type": "stream",
     "text": [
      "ground truth\n"
     ]
    },
    {
     "data": {
      "text/html": [
       "<div style='float:left;background:#c33134;padding:10px;width:300px;'></div>"
      ],
      "text/plain": [
       "<IPython.core.display.HTML object>"
      ]
     },
     "metadata": {},
     "output_type": "display_data"
    },
    {
     "name": "stdout",
     "output_type": "stream",
     "text": [
      "----------------------------\n",
      "color name :  those red shoes\n",
      "generated\n"
     ]
    },
    {
     "data": {
      "text/html": [
       "<div style='float:left;background:#ef3d3c;padding:10px;width:300px;'></div>"
      ],
      "text/plain": [
       "<IPython.core.display.HTML object>"
      ]
     },
     "metadata": {},
     "output_type": "display_data"
    },
    {
     "name": "stdout",
     "output_type": "stream",
     "text": [
      "ground truth\n"
     ]
    },
    {
     "data": {
      "text/html": [
       "<div style='float:left;background:#c63434;padding:10px;width:300px;'></div>"
      ],
      "text/plain": [
       "<IPython.core.display.HTML object>"
      ]
     },
     "metadata": {},
     "output_type": "display_data"
    },
    {
     "name": "stdout",
     "output_type": "stream",
     "text": [
      "----------------------------\n",
      "color name :  tortured cupcake\n",
      "generated\n"
     ]
    },
    {
     "data": {
      "text/html": [
       "<div style='float:left;background:#d8b4c9;padding:10px;width:300px;'></div>"
      ],
      "text/plain": [
       "<IPython.core.display.HTML object>"
      ]
     },
     "metadata": {},
     "output_type": "display_data"
    },
    {
     "name": "stdout",
     "output_type": "stream",
     "text": [
      "ground truth\n"
     ]
    },
    {
     "data": {
      "text/html": [
       "<div style='float:left;background:#a57261;padding:10px;width:300px;'></div>"
      ],
      "text/plain": [
       "<IPython.core.display.HTML object>"
      ]
     },
     "metadata": {},
     "output_type": "display_data"
    },
    {
     "name": "stdout",
     "output_type": "stream",
     "text": [
      "----------------------------\n",
      "color name :  electrikpowered\n",
      "generated\n"
     ]
    },
    {
     "data": {
      "text/html": [
       "<div style='float:left;background:#eec700;padding:10px;width:300px;'></div>"
      ],
      "text/plain": [
       "<IPython.core.display.HTML object>"
      ]
     },
     "metadata": {},
     "output_type": "display_data"
    },
    {
     "name": "stdout",
     "output_type": "stream",
     "text": [
      "ground truth\n"
     ]
    },
    {
     "data": {
      "text/html": [
       "<div style='float:left;background:#ca4d4a;padding:10px;width:300px;'></div>"
      ],
      "text/plain": [
       "<IPython.core.display.HTML object>"
      ]
     },
     "metadata": {},
     "output_type": "display_data"
    },
    {
     "name": "stdout",
     "output_type": "stream",
     "text": [
      "----------------------------\n",
      "color name :  expired citrus\n",
      "generated\n"
     ]
    },
    {
     "data": {
      "text/html": [
       "<div style='float:left;background:#c8571d;padding:10px;width:300px;'></div>"
      ],
      "text/plain": [
       "<IPython.core.display.HTML object>"
      ]
     },
     "metadata": {},
     "output_type": "display_data"
    },
    {
     "name": "stdout",
     "output_type": "stream",
     "text": [
      "ground truth\n"
     ]
    },
    {
     "data": {
      "text/html": [
       "<div style='float:left;background:#daa045;padding:10px;width:300px;'></div>"
      ],
      "text/plain": [
       "<IPython.core.display.HTML object>"
      ]
     },
     "metadata": {},
     "output_type": "display_data"
    },
    {
     "name": "stdout",
     "output_type": "stream",
     "text": [
      "----------------------------\n",
      "color name :  bored at work\n",
      "generated\n"
     ]
    },
    {
     "data": {
      "text/html": [
       "<div style='float:left;background:#5e5c4f;padding:10px;width:300px;'></div>"
      ],
      "text/plain": [
       "<IPython.core.display.HTML object>"
      ]
     },
     "metadata": {},
     "output_type": "display_data"
    },
    {
     "name": "stdout",
     "output_type": "stream",
     "text": [
      "ground truth\n"
     ]
    },
    {
     "data": {
      "text/html": [
       "<div style='float:left;background:#a27c6d;padding:10px;width:300px;'></div>"
      ],
      "text/plain": [
       "<IPython.core.display.HTML object>"
      ]
     },
     "metadata": {},
     "output_type": "display_data"
    },
    {
     "name": "stdout",
     "output_type": "stream",
     "text": [
      "----------------------------\n",
      "color name :  muramasa red\n",
      "generated\n"
     ]
    },
    {
     "data": {
      "text/html": [
       "<div style='float:left;background:#e31a1e;padding:10px;width:300px;'></div>"
      ],
      "text/plain": [
       "<IPython.core.display.HTML object>"
      ]
     },
     "metadata": {},
     "output_type": "display_data"
    },
    {
     "name": "stdout",
     "output_type": "stream",
     "text": [
      "ground truth\n"
     ]
    },
    {
     "data": {
      "text/html": [
       "<div style='float:left;background:#c02c2c;padding:10px;width:300px;'></div>"
      ],
      "text/plain": [
       "<IPython.core.display.HTML object>"
      ]
     },
     "metadata": {},
     "output_type": "display_data"
    },
    {
     "name": "stdout",
     "output_type": "stream",
     "text": [
      "----------------------------\n",
      "color name :  showtime red\n",
      "generated\n"
     ]
    },
    {
     "data": {
      "text/html": [
       "<div style='float:left;background:#eb100f;padding:10px;width:300px;'></div>"
      ],
      "text/plain": [
       "<IPython.core.display.HTML object>"
      ]
     },
     "metadata": {},
     "output_type": "display_data"
    },
    {
     "name": "stdout",
     "output_type": "stream",
     "text": [
      "ground truth\n"
     ]
    },
    {
     "data": {
      "text/html": [
       "<div style='float:left;background:#c53035;padding:10px;width:300px;'></div>"
      ],
      "text/plain": [
       "<IPython.core.display.HTML object>"
      ]
     },
     "metadata": {},
     "output_type": "display_data"
    },
    {
     "name": "stdout",
     "output_type": "stream",
     "text": [
      "----------------------------\n",
      "color name :  flavored creativity\n",
      "generated\n"
     ]
    },
    {
     "data": {
      "text/html": [
       "<div style='float:left;background:#5a090a;padding:10px;width:300px;'></div>"
      ],
      "text/plain": [
       "<IPython.core.display.HTML object>"
      ]
     },
     "metadata": {},
     "output_type": "display_data"
    },
    {
     "name": "stdout",
     "output_type": "stream",
     "text": [
      "ground truth\n"
     ]
    },
    {
     "data": {
      "text/html": [
       "<div style='float:left;background:#a58176;padding:10px;width:300px;'></div>"
      ],
      "text/plain": [
       "<IPython.core.display.HTML object>"
      ]
     },
     "metadata": {},
     "output_type": "display_data"
    },
    {
     "name": "stdout",
     "output_type": "stream",
     "text": [
      "----------------------------\n",
      "color name :  too tired to do it\n",
      "generated\n"
     ]
    },
    {
     "data": {
      "text/html": [
       "<div style='float:left;background:#7a9d38;padding:10px;width:300px;'></div>"
      ],
      "text/plain": [
       "<IPython.core.display.HTML object>"
      ]
     },
     "metadata": {},
     "output_type": "display_data"
    },
    {
     "name": "stdout",
     "output_type": "stream",
     "text": [
      "ground truth\n"
     ]
    },
    {
     "data": {
      "text/html": [
       "<div style='float:left;background:#9b7976;padding:10px;width:300px;'></div>"
      ],
      "text/plain": [
       "<IPython.core.display.HTML object>"
      ]
     },
     "metadata": {},
     "output_type": "display_data"
    },
    {
     "name": "stdout",
     "output_type": "stream",
     "text": [
      "----------------------------\n",
      "color name :  reddish plume\n",
      "generated\n"
     ]
    },
    {
     "data": {
      "text/html": [
       "<div style='float:left;background:#f7363b;padding:10px;width:300px;'></div>"
      ],
      "text/plain": [
       "<IPython.core.display.HTML object>"
      ]
     },
     "metadata": {},
     "output_type": "display_data"
    },
    {
     "name": "stdout",
     "output_type": "stream",
     "text": [
      "ground truth\n"
     ]
    },
    {
     "data": {
      "text/html": [
       "<div style='float:left;background:#b5262e;padding:10px;width:300px;'></div>"
      ],
      "text/plain": [
       "<IPython.core.display.HTML object>"
      ]
     },
     "metadata": {},
     "output_type": "display_data"
    },
    {
     "name": "stdout",
     "output_type": "stream",
     "text": [
      "----------------------------\n",
      "color name :  points red\n",
      "generated\n"
     ]
    },
    {
     "data": {
      "text/html": [
       "<div style='float:left;background:#c8051b;padding:10px;width:300px;'></div>"
      ],
      "text/plain": [
       "<IPython.core.display.HTML object>"
      ]
     },
     "metadata": {},
     "output_type": "display_data"
    },
    {
     "name": "stdout",
     "output_type": "stream",
     "text": [
      "ground truth\n"
     ]
    },
    {
     "data": {
      "text/html": [
       "<div style='float:left;background:#c32d32;padding:10px;width:300px;'></div>"
      ],
      "text/plain": [
       "<IPython.core.display.HTML object>"
      ]
     },
     "metadata": {},
     "output_type": "display_data"
    },
    {
     "name": "stdout",
     "output_type": "stream",
     "text": [
      "----------------------------\n",
      "color name :  dirtyred\n",
      "generated\n"
     ]
    },
    {
     "data": {
      "text/html": [
       "<div style='float:left;background:#b12528;padding:10px;width:300px;'></div>"
      ],
      "text/plain": [
       "<IPython.core.display.HTML object>"
      ]
     },
     "metadata": {},
     "output_type": "display_data"
    },
    {
     "name": "stdout",
     "output_type": "stream",
     "text": [
      "ground truth\n"
     ]
    },
    {
     "data": {
      "text/html": [
       "<div style='float:left;background:#b8372d;padding:10px;width:300px;'></div>"
      ],
      "text/plain": [
       "<IPython.core.display.HTML object>"
      ]
     },
     "metadata": {},
     "output_type": "display_data"
    },
    {
     "name": "stdout",
     "output_type": "stream",
     "text": [
      "----------------------------\n",
      "color name :  vamp red\n",
      "generated\n"
     ]
    },
    {
     "data": {
      "text/html": [
       "<div style='float:left;background:#5e0d08;padding:10px;width:300px;'></div>"
      ],
      "text/plain": [
       "<IPython.core.display.HTML object>"
      ]
     },
     "metadata": {},
     "output_type": "display_data"
    },
    {
     "name": "stdout",
     "output_type": "stream",
     "text": [
      "ground truth\n"
     ]
    },
    {
     "data": {
      "text/html": [
       "<div style='float:left;background:#bf292f;padding:10px;width:300px;'></div>"
      ],
      "text/plain": [
       "<IPython.core.display.HTML object>"
      ]
     },
     "metadata": {},
     "output_type": "display_data"
    },
    {
     "name": "stdout",
     "output_type": "stream",
     "text": [
      "----------------------------\n",
      "color name :  nans red\n",
      "generated\n"
     ]
    },
    {
     "data": {
      "text/html": [
       "<div style='float:left;background:#cc0047;padding:10px;width:300px;'></div>"
      ],
      "text/plain": [
       "<IPython.core.display.HTML object>"
      ]
     },
     "metadata": {},
     "output_type": "display_data"
    },
    {
     "name": "stdout",
     "output_type": "stream",
     "text": [
      "ground truth\n"
     ]
    },
    {
     "data": {
      "text/html": [
       "<div style='float:left;background:#c3302f;padding:10px;width:300px;'></div>"
      ],
      "text/plain": [
       "<IPython.core.display.HTML object>"
      ]
     },
     "metadata": {},
     "output_type": "display_data"
    },
    {
     "name": "stdout",
     "output_type": "stream",
     "text": [
      "----------------------------\n",
      "color name :  true blood red love\n",
      "generated\n"
     ]
    },
    {
     "data": {
      "text/html": [
       "<div style='float:left;background:#900b31;padding:10px;width:300px;'></div>"
      ],
      "text/plain": [
       "<IPython.core.display.HTML object>"
      ]
     },
     "metadata": {},
     "output_type": "display_data"
    },
    {
     "name": "stdout",
     "output_type": "stream",
     "text": [
      "ground truth\n"
     ]
    },
    {
     "data": {
      "text/html": [
       "<div style='float:left;background:#8b1f25;padding:10px;width:300px;'></div>"
      ],
      "text/plain": [
       "<IPython.core.display.HTML object>"
      ]
     },
     "metadata": {},
     "output_type": "display_data"
    },
    {
     "name": "stdout",
     "output_type": "stream",
     "text": [
      "----------------------------\n",
      "color name :  dragon red\n",
      "generated\n"
     ]
    },
    {
     "data": {
      "text/html": [
       "<div style='float:left;background:#cd1129;padding:10px;width:300px;'></div>"
      ],
      "text/plain": [
       "<IPython.core.display.HTML object>"
      ]
     },
     "metadata": {},
     "output_type": "display_data"
    },
    {
     "name": "stdout",
     "output_type": "stream",
     "text": [
      "ground truth\n"
     ]
    },
    {
     "data": {
      "text/html": [
       "<div style='float:left;background:#bb252c;padding:10px;width:300px;'></div>"
      ],
      "text/plain": [
       "<IPython.core.display.HTML object>"
      ]
     },
     "metadata": {},
     "output_type": "display_data"
    },
    {
     "name": "stdout",
     "output_type": "stream",
     "text": [
      "----------------------------\n",
      "color name :  red w\n",
      "generated\n"
     ]
    },
    {
     "data": {
      "text/html": [
       "<div style='float:left;background:#ea8070;padding:10px;width:300px;'></div>"
      ],
      "text/plain": [
       "<IPython.core.display.HTML object>"
      ]
     },
     "metadata": {},
     "output_type": "display_data"
    },
    {
     "name": "stdout",
     "output_type": "stream",
     "text": [
      "ground truth\n"
     ]
    },
    {
     "data": {
      "text/html": [
       "<div style='float:left;background:#c23631;padding:10px;width:300px;'></div>"
      ],
      "text/plain": [
       "<IPython.core.display.HTML object>"
      ]
     },
     "metadata": {},
     "output_type": "display_data"
    },
    {
     "name": "stdout",
     "output_type": "stream",
     "text": [
      "----------------------------\n",
      "color name :  zooma red\n",
      "generated\n"
     ]
    },
    {
     "data": {
      "text/html": [
       "<div style='float:left;background:#f82205;padding:10px;width:300px;'></div>"
      ],
      "text/plain": [
       "<IPython.core.display.HTML object>"
      ]
     },
     "metadata": {},
     "output_type": "display_data"
    },
    {
     "name": "stdout",
     "output_type": "stream",
     "text": [
      "ground truth\n"
     ]
    },
    {
     "data": {
      "text/html": [
       "<div style='float:left;background:#c83132;padding:10px;width:300px;'></div>"
      ],
      "text/plain": [
       "<IPython.core.display.HTML object>"
      ]
     },
     "metadata": {},
     "output_type": "display_data"
    },
    {
     "name": "stdout",
     "output_type": "stream",
     "text": [
      "----------------------------\n",
      "color name :  watered down drink\n",
      "generated\n"
     ]
    },
    {
     "data": {
      "text/html": [
       "<div style='float:left;background:#e2eab3;padding:10px;width:300px;'></div>"
      ],
      "text/plain": [
       "<IPython.core.display.HTML object>"
      ]
     },
     "metadata": {},
     "output_type": "display_data"
    },
    {
     "name": "stdout",
     "output_type": "stream",
     "text": [
      "ground truth\n"
     ]
    },
    {
     "data": {
      "text/html": [
       "<div style='float:left;background:#828c8a;padding:10px;width:300px;'></div>"
      ],
      "text/plain": [
       "<IPython.core.display.HTML object>"
      ]
     },
     "metadata": {},
     "output_type": "display_data"
    },
    {
     "name": "stdout",
     "output_type": "stream",
     "text": [
      "----------------------------\n",
      "color name :  red lip\n",
      "generated\n"
     ]
    },
    {
     "data": {
      "text/html": [
       "<div style='float:left;background:#bd211d;padding:10px;width:300px;'></div>"
      ],
      "text/plain": [
       "<IPython.core.display.HTML object>"
      ]
     },
     "metadata": {},
     "output_type": "display_data"
    },
    {
     "name": "stdout",
     "output_type": "stream",
     "text": [
      "ground truth\n"
     ]
    },
    {
     "data": {
      "text/html": [
       "<div style='float:left;background:#c52d33;padding:10px;width:300px;'></div>"
      ],
      "text/plain": [
       "<IPython.core.display.HTML object>"
      ]
     },
     "metadata": {},
     "output_type": "display_data"
    },
    {
     "name": "stdout",
     "output_type": "stream",
     "text": [
      "----------------------------\n",
      "color name :  loving him was red\n",
      "generated\n"
     ]
    },
    {
     "data": {
      "text/html": [
       "<div style='float:left;background:#fb4167;padding:10px;width:300px;'></div>"
      ],
      "text/plain": [
       "<IPython.core.display.HTML object>"
      ]
     },
     "metadata": {},
     "output_type": "display_data"
    },
    {
     "name": "stdout",
     "output_type": "stream",
     "text": [
      "ground truth\n"
     ]
    },
    {
     "data": {
      "text/html": [
       "<div style='float:left;background:#c33338;padding:10px;width:300px;'></div>"
      ],
      "text/plain": [
       "<IPython.core.display.HTML object>"
      ]
     },
     "metadata": {},
     "output_type": "display_data"
    },
    {
     "name": "stdout",
     "output_type": "stream",
     "text": [
      "----------------------------\n",
      "color name :  easily shattered\n",
      "generated\n"
     ]
    },
    {
     "data": {
      "text/html": [
       "<div style='float:left;background:#d0c0da;padding:10px;width:300px;'></div>"
      ],
      "text/plain": [
       "<IPython.core.display.HTML object>"
      ]
     },
     "metadata": {},
     "output_type": "display_data"
    },
    {
     "name": "stdout",
     "output_type": "stream",
     "text": [
      "ground truth\n"
     ]
    },
    {
     "data": {
      "text/html": [
       "<div style='float:left;background:#a58f80;padding:10px;width:300px;'></div>"
      ],
      "text/plain": [
       "<IPython.core.display.HTML object>"
      ]
     },
     "metadata": {},
     "output_type": "display_data"
    },
    {
     "name": "stdout",
     "output_type": "stream",
     "text": [
      "----------------------------\n",
      "color name :  indubitably red\n",
      "generated\n"
     ]
    },
    {
     "data": {
      "text/html": [
       "<div style='float:left;background:#ea0033;padding:10px;width:300px;'></div>"
      ],
      "text/plain": [
       "<IPython.core.display.HTML object>"
      ]
     },
     "metadata": {},
     "output_type": "display_data"
    },
    {
     "name": "stdout",
     "output_type": "stream",
     "text": [
      "ground truth\n"
     ]
    },
    {
     "data": {
      "text/html": [
       "<div style='float:left;background:#c32e32;padding:10px;width:300px;'></div>"
      ],
      "text/plain": [
       "<IPython.core.display.HTML object>"
      ]
     },
     "metadata": {},
     "output_type": "display_data"
    },
    {
     "name": "stdout",
     "output_type": "stream",
     "text": [
      "----------------------------\n",
      "color name :  new new red\n",
      "generated\n"
     ]
    },
    {
     "data": {
      "text/html": [
       "<div style='float:left;background:#e60411;padding:10px;width:300px;'></div>"
      ],
      "text/plain": [
       "<IPython.core.display.HTML object>"
      ]
     },
     "metadata": {},
     "output_type": "display_data"
    },
    {
     "name": "stdout",
     "output_type": "stream",
     "text": [
      "ground truth\n"
     ]
    },
    {
     "data": {
      "text/html": [
       "<div style='float:left;background:#c83532;padding:10px;width:300px;'></div>"
      ],
      "text/plain": [
       "<IPython.core.display.HTML object>"
      ]
     },
     "metadata": {},
     "output_type": "display_data"
    },
    {
     "name": "stdout",
     "output_type": "stream",
     "text": [
      "----------------------------\n",
      "color name :  jeu de red\n",
      "generated\n"
     ]
    },
    {
     "data": {
      "text/html": [
       "<div style='float:left;background:#eb6a4b;padding:10px;width:300px;'></div>"
      ],
      "text/plain": [
       "<IPython.core.display.HTML object>"
      ]
     },
     "metadata": {},
     "output_type": "display_data"
    },
    {
     "name": "stdout",
     "output_type": "stream",
     "text": [
      "ground truth\n"
     ]
    },
    {
     "data": {
      "text/html": [
       "<div style='float:left;background:#c4443b;padding:10px;width:300px;'></div>"
      ],
      "text/plain": [
       "<IPython.core.display.HTML object>"
      ]
     },
     "metadata": {},
     "output_type": "display_data"
    },
    {
     "name": "stdout",
     "output_type": "stream",
     "text": [
      "----------------------------\n",
      "color name :  tortured association\n",
      "generated\n"
     ]
    },
    {
     "data": {
      "text/html": [
       "<div style='float:left;background:#4122bd;padding:10px;width:300px;'></div>"
      ],
      "text/plain": [
       "<IPython.core.display.HTML object>"
      ]
     },
     "metadata": {},
     "output_type": "display_data"
    },
    {
     "name": "stdout",
     "output_type": "stream",
     "text": [
      "ground truth\n"
     ]
    },
    {
     "data": {
      "text/html": [
       "<div style='float:left;background:#a06962;padding:10px;width:300px;'></div>"
      ],
      "text/plain": [
       "<IPython.core.display.HTML object>"
      ]
     },
     "metadata": {},
     "output_type": "display_data"
    },
    {
     "name": "stdout",
     "output_type": "stream",
     "text": [
      "----------------------------\n",
      "color name :  you whispered to me\n",
      "generated\n"
     ]
    },
    {
     "data": {
      "text/html": [
       "<div style='float:left;background:#b48a71;padding:10px;width:300px;'></div>"
      ],
      "text/plain": [
       "<IPython.core.display.HTML object>"
      ]
     },
     "metadata": {},
     "output_type": "display_data"
    },
    {
     "name": "stdout",
     "output_type": "stream",
     "text": [
      "ground truth\n"
     ]
    },
    {
     "data": {
      "text/html": [
       "<div style='float:left;background:#ad9491;padding:10px;width:300px;'></div>"
      ],
      "text/plain": [
       "<IPython.core.display.HTML object>"
      ]
     },
     "metadata": {},
     "output_type": "display_data"
    },
    {
     "name": "stdout",
     "output_type": "stream",
     "text": [
      "----------------------------\n",
      "color name :  captured turquoise\n",
      "generated\n"
     ]
    },
    {
     "data": {
      "text/html": [
       "<div style='float:left;background:#67a89f;padding:10px;width:300px;'></div>"
      ],
      "text/plain": [
       "<IPython.core.display.HTML object>"
      ]
     },
     "metadata": {},
     "output_type": "display_data"
    },
    {
     "name": "stdout",
     "output_type": "stream",
     "text": [
      "ground truth\n"
     ]
    },
    {
     "data": {
      "text/html": [
       "<div style='float:left;background:#53b2b1;padding:10px;width:300px;'></div>"
      ],
      "text/plain": [
       "<IPython.core.display.HTML object>"
      ]
     },
     "metadata": {},
     "output_type": "display_data"
    },
    {
     "name": "stdout",
     "output_type": "stream",
     "text": [
      "----------------------------\n",
      "color name :  red grape skins\n",
      "generated\n"
     ]
    },
    {
     "data": {
      "text/html": [
       "<div style='float:left;background:#222f4d;padding:10px;width:300px;'></div>"
      ],
      "text/plain": [
       "<IPython.core.display.HTML object>"
      ]
     },
     "metadata": {},
     "output_type": "display_data"
    },
    {
     "name": "stdout",
     "output_type": "stream",
     "text": [
      "ground truth\n"
     ]
    },
    {
     "data": {
      "text/html": [
       "<div style='float:left;background:#a92757;padding:10px;width:300px;'></div>"
      ],
      "text/plain": [
       "<IPython.core.display.HTML object>"
      ]
     },
     "metadata": {},
     "output_type": "display_data"
    },
    {
     "name": "stdout",
     "output_type": "stream",
     "text": [
      "----------------------------\n",
      "color name :  red act at noon\n",
      "generated\n"
     ]
    },
    {
     "data": {
      "text/html": [
       "<div style='float:left;background:#ea3134;padding:10px;width:300px;'></div>"
      ],
      "text/plain": [
       "<IPython.core.display.HTML object>"
      ]
     },
     "metadata": {},
     "output_type": "display_data"
    },
    {
     "name": "stdout",
     "output_type": "stream",
     "text": [
      "ground truth\n"
     ]
    },
    {
     "data": {
      "text/html": [
       "<div style='float:left;background:#c73d38;padding:10px;width:300px;'></div>"
      ],
      "text/plain": [
       "<IPython.core.display.HTML object>"
      ]
     },
     "metadata": {},
     "output_type": "display_data"
    },
    {
     "name": "stdout",
     "output_type": "stream",
     "text": [
      "----------------------------\n",
      "color name :  fadin red wine stain\n",
      "generated\n"
     ]
    },
    {
     "data": {
      "text/html": [
       "<div style='float:left;background:#c552d9;padding:10px;width:300px;'></div>"
      ],
      "text/plain": [
       "<IPython.core.display.HTML object>"
      ]
     },
     "metadata": {},
     "output_type": "display_data"
    },
    {
     "name": "stdout",
     "output_type": "stream",
     "text": [
      "ground truth\n"
     ]
    },
    {
     "data": {
      "text/html": [
       "<div style='float:left;background:#943249;padding:10px;width:300px;'></div>"
      ],
      "text/plain": [
       "<IPython.core.display.HTML object>"
      ]
     },
     "metadata": {},
     "output_type": "display_data"
    },
    {
     "name": "stdout",
     "output_type": "stream",
     "text": [
      "----------------------------\n",
      "color name :  red studio shadow\n",
      "generated\n"
     ]
    },
    {
     "data": {
      "text/html": [
       "<div style='float:left;background:#58474a;padding:10px;width:300px;'></div>"
      ],
      "text/plain": [
       "<IPython.core.display.HTML object>"
      ]
     },
     "metadata": {},
     "output_type": "display_data"
    },
    {
     "name": "stdout",
     "output_type": "stream",
     "text": [
      "ground truth\n"
     ]
    },
    {
     "data": {
      "text/html": [
       "<div style='float:left;background:#af2c2b;padding:10px;width:300px;'></div>"
      ],
      "text/plain": [
       "<IPython.core.display.HTML object>"
      ]
     },
     "metadata": {},
     "output_type": "display_data"
    },
    {
     "name": "stdout",
     "output_type": "stream",
     "text": [
      "----------------------------\n",
      "color name :  redundant cliche\n",
      "generated\n"
     ]
    },
    {
     "data": {
      "text/html": [
       "<div style='float:left;background:#9fd1c4;padding:10px;width:300px;'></div>"
      ],
      "text/plain": [
       "<IPython.core.display.HTML object>"
      ]
     },
     "metadata": {},
     "output_type": "display_data"
    },
    {
     "name": "stdout",
     "output_type": "stream",
     "text": [
      "ground truth\n"
     ]
    },
    {
     "data": {
      "text/html": [
       "<div style='float:left;background:#976962;padding:10px;width:300px;'></div>"
      ],
      "text/plain": [
       "<IPython.core.display.HTML object>"
      ]
     },
     "metadata": {},
     "output_type": "display_data"
    },
    {
     "name": "stdout",
     "output_type": "stream",
     "text": [
      "----------------------------\n",
      "color name :  old circus red\n",
      "generated\n"
     ]
    },
    {
     "data": {
      "text/html": [
       "<div style='float:left;background:#8c2f02;padding:10px;width:300px;'></div>"
      ],
      "text/plain": [
       "<IPython.core.display.HTML object>"
      ]
     },
     "metadata": {},
     "output_type": "display_data"
    },
    {
     "name": "stdout",
     "output_type": "stream",
     "text": [
      "ground truth\n"
     ]
    },
    {
     "data": {
      "text/html": [
       "<div style='float:left;background:#ba2d2f;padding:10px;width:300px;'></div>"
      ],
      "text/plain": [
       "<IPython.core.display.HTML object>"
      ]
     },
     "metadata": {},
     "output_type": "display_data"
    },
    {
     "name": "stdout",
     "output_type": "stream",
     "text": [
      "----------------------------\n",
      "color name :  powdered goodness\n",
      "generated\n"
     ]
    },
    {
     "data": {
      "text/html": [
       "<div style='float:left;background:#caaac3;padding:10px;width:300px;'></div>"
      ],
      "text/plain": [
       "<IPython.core.display.HTML object>"
      ]
     },
     "metadata": {},
     "output_type": "display_data"
    },
    {
     "name": "stdout",
     "output_type": "stream",
     "text": [
      "ground truth\n"
     ]
    },
    {
     "data": {
      "text/html": [
       "<div style='float:left;background:#b08e88;padding:10px;width:300px;'></div>"
      ],
      "text/plain": [
       "<IPython.core.display.HTML object>"
      ]
     },
     "metadata": {},
     "output_type": "display_data"
    },
    {
     "name": "stdout",
     "output_type": "stream",
     "text": [
      "----------------------------\n",
      "color name :  red dye\n",
      "generated\n"
     ]
    },
    {
     "data": {
      "text/html": [
       "<div style='float:left;background:#a80029;padding:10px;width:300px;'></div>"
      ],
      "text/plain": [
       "<IPython.core.display.HTML object>"
      ]
     },
     "metadata": {},
     "output_type": "display_data"
    },
    {
     "name": "stdout",
     "output_type": "stream",
     "text": [
      "ground truth\n"
     ]
    },
    {
     "data": {
      "text/html": [
       "<div style='float:left;background:#c02f2f;padding:10px;width:300px;'></div>"
      ],
      "text/plain": [
       "<IPython.core.display.HTML object>"
      ]
     },
     "metadata": {},
     "output_type": "display_data"
    },
    {
     "name": "stdout",
     "output_type": "stream",
     "text": [
      "----------------------------\n",
      "color name :  chu red\n",
      "generated\n"
     ]
    },
    {
     "data": {
      "text/html": [
       "<div style='float:left;background:#c8664b;padding:10px;width:300px;'></div>"
      ],
      "text/plain": [
       "<IPython.core.display.HTML object>"
      ]
     },
     "metadata": {},
     "output_type": "display_data"
    },
    {
     "name": "stdout",
     "output_type": "stream",
     "text": [
      "ground truth\n"
     ]
    },
    {
     "data": {
      "text/html": [
       "<div style='float:left;background:#c33032;padding:10px;width:300px;'></div>"
      ],
      "text/plain": [
       "<IPython.core.display.HTML object>"
      ]
     },
     "metadata": {},
     "output_type": "display_data"
    },
    {
     "name": "stdout",
     "output_type": "stream",
     "text": [
      "----------------------------\n",
      "color name :  red rubber boots\n",
      "generated\n"
     ]
    },
    {
     "data": {
      "text/html": [
       "<div style='float:left;background:#f57b7e;padding:10px;width:300px;'></div>"
      ],
      "text/plain": [
       "<IPython.core.display.HTML object>"
      ]
     },
     "metadata": {},
     "output_type": "display_data"
    },
    {
     "name": "stdout",
     "output_type": "stream",
     "text": [
      "ground truth\n"
     ]
    },
    {
     "data": {
      "text/html": [
       "<div style='float:left;background:#bb3e30;padding:10px;width:300px;'></div>"
      ],
      "text/plain": [
       "<IPython.core.display.HTML object>"
      ]
     },
     "metadata": {},
     "output_type": "display_data"
    },
    {
     "name": "stdout",
     "output_type": "stream",
     "text": [
      "----------------------------\n",
      "color name :  right side red\n",
      "generated\n"
     ]
    },
    {
     "data": {
      "text/html": [
       "<div style='float:left;background:#a51f5b;padding:10px;width:300px;'></div>"
      ],
      "text/plain": [
       "<IPython.core.display.HTML object>"
      ]
     },
     "metadata": {},
     "output_type": "display_data"
    },
    {
     "name": "stdout",
     "output_type": "stream",
     "text": [
      "ground truth\n"
     ]
    },
    {
     "data": {
      "text/html": [
       "<div style='float:left;background:#c52b30;padding:10px;width:300px;'></div>"
      ],
      "text/plain": [
       "<IPython.core.display.HTML object>"
      ]
     },
     "metadata": {},
     "output_type": "display_data"
    },
    {
     "name": "stdout",
     "output_type": "stream",
     "text": [
      "----------------------------\n",
      "color name :  inspired wings\n",
      "generated\n"
     ]
    },
    {
     "data": {
      "text/html": [
       "<div style='float:left;background:#d50073;padding:10px;width:300px;'></div>"
      ],
      "text/plain": [
       "<IPython.core.display.HTML object>"
      ]
     },
     "metadata": {},
     "output_type": "display_data"
    },
    {
     "name": "stdout",
     "output_type": "stream",
     "text": [
      "ground truth\n"
     ]
    },
    {
     "data": {
      "text/html": [
       "<div style='float:left;background:#9c8a8b;padding:10px;width:300px;'></div>"
      ],
      "text/plain": [
       "<IPython.core.display.HTML object>"
      ]
     },
     "metadata": {},
     "output_type": "display_data"
    },
    {
     "name": "stdout",
     "output_type": "stream",
     "text": [
      "----------------------------\n",
      "color name :  feathered cap\n",
      "generated\n"
     ]
    },
    {
     "data": {
      "text/html": [
       "<div style='float:left;background:#ae8d2e;padding:10px;width:300px;'></div>"
      ],
      "text/plain": [
       "<IPython.core.display.HTML object>"
      ]
     },
     "metadata": {},
     "output_type": "display_data"
    },
    {
     "name": "stdout",
     "output_type": "stream",
     "text": [
      "ground truth\n"
     ]
    },
    {
     "data": {
      "text/html": [
       "<div style='float:left;background:#9f887a;padding:10px;width:300px;'></div>"
      ],
      "text/plain": [
       "<IPython.core.display.HTML object>"
      ]
     },
     "metadata": {},
     "output_type": "display_data"
    },
    {
     "name": "stdout",
     "output_type": "stream",
     "text": [
      "----------------------------\n",
      "color name :  grouse red\n",
      "generated\n"
     ]
    },
    {
     "data": {
      "text/html": [
       "<div style='float:left;background:#810f01;padding:10px;width:300px;'></div>"
      ],
      "text/plain": [
       "<IPython.core.display.HTML object>"
      ]
     },
     "metadata": {},
     "output_type": "display_data"
    },
    {
     "name": "stdout",
     "output_type": "stream",
     "text": [
      "ground truth\n"
     ]
    },
    {
     "data": {
      "text/html": [
       "<div style='float:left;background:#bf3331;padding:10px;width:300px;'></div>"
      ],
      "text/plain": [
       "<IPython.core.display.HTML object>"
      ]
     },
     "metadata": {},
     "output_type": "display_data"
    },
    {
     "name": "stdout",
     "output_type": "stream",
     "text": [
      "----------------------------\n",
      "color name :  thatwasred\n",
      "generated\n"
     ]
    },
    {
     "data": {
      "text/html": [
       "<div style='float:left;background:#c05a66;padding:10px;width:300px;'></div>"
      ],
      "text/plain": [
       "<IPython.core.display.HTML object>"
      ]
     },
     "metadata": {},
     "output_type": "display_data"
    },
    {
     "name": "stdout",
     "output_type": "stream",
     "text": [
      "ground truth\n"
     ]
    },
    {
     "data": {
      "text/html": [
       "<div style='float:left;background:#c65150;padding:10px;width:300px;'></div>"
      ],
      "text/plain": [
       "<IPython.core.display.HTML object>"
      ]
     },
     "metadata": {},
     "output_type": "display_data"
    },
    {
     "name": "stdout",
     "output_type": "stream",
     "text": [
      "----------------------------\n",
      "color name :  orange or red\n",
      "generated\n"
     ]
    },
    {
     "data": {
      "text/html": [
       "<div style='float:left;background:#fa5446;padding:10px;width:300px;'></div>"
      ],
      "text/plain": [
       "<IPython.core.display.HTML object>"
      ]
     },
     "metadata": {},
     "output_type": "display_data"
    },
    {
     "name": "stdout",
     "output_type": "stream",
     "text": [
      "ground truth\n"
     ]
    },
    {
     "data": {
      "text/html": [
       "<div style='float:left;background:#d0422c;padding:10px;width:300px;'></div>"
      ],
      "text/plain": [
       "<IPython.core.display.HTML object>"
      ]
     },
     "metadata": {},
     "output_type": "display_data"
    },
    {
     "name": "stdout",
     "output_type": "stream",
     "text": [
      "----------------------------\n",
      "color name :  soured spring\n",
      "generated\n"
     ]
    },
    {
     "data": {
      "text/html": [
       "<div style='float:left;background:#b1d27e;padding:10px;width:300px;'></div>"
      ],
      "text/plain": [
       "<IPython.core.display.HTML object>"
      ]
     },
     "metadata": {},
     "output_type": "display_data"
    },
    {
     "name": "stdout",
     "output_type": "stream",
     "text": [
      "ground truth\n"
     ]
    },
    {
     "data": {
      "text/html": [
       "<div style='float:left;background:#b4ca77;padding:10px;width:300px;'></div>"
      ],
      "text/plain": [
       "<IPython.core.display.HTML object>"
      ]
     },
     "metadata": {},
     "output_type": "display_data"
    },
    {
     "name": "stdout",
     "output_type": "stream",
     "text": [
      "----------------------------\n",
      "color name :  red smog\n",
      "generated\n"
     ]
    },
    {
     "data": {
      "text/html": [
       "<div style='float:left;background:#c28283;padding:10px;width:300px;'></div>"
      ],
      "text/plain": [
       "<IPython.core.display.HTML object>"
      ]
     },
     "metadata": {},
     "output_type": "display_data"
    },
    {
     "name": "stdout",
     "output_type": "stream",
     "text": [
      "ground truth\n"
     ]
    },
    {
     "data": {
      "text/html": [
       "<div style='float:left;background:#c43030;padding:10px;width:300px;'></div>"
      ],
      "text/plain": [
       "<IPython.core.display.HTML object>"
      ]
     },
     "metadata": {},
     "output_type": "display_data"
    },
    {
     "name": "stdout",
     "output_type": "stream",
     "text": [
      "----------------------------\n",
      "color name :  instrumental red\n",
      "generated\n"
     ]
    },
    {
     "data": {
      "text/html": [
       "<div style='float:left;background:#d30931;padding:10px;width:300px;'></div>"
      ],
      "text/plain": [
       "<IPython.core.display.HTML object>"
      ]
     },
     "metadata": {},
     "output_type": "display_data"
    },
    {
     "name": "stdout",
     "output_type": "stream",
     "text": [
      "ground truth\n"
     ]
    },
    {
     "data": {
      "text/html": [
       "<div style='float:left;background:#c4332e;padding:10px;width:300px;'></div>"
      ],
      "text/plain": [
       "<IPython.core.display.HTML object>"
      ]
     },
     "metadata": {},
     "output_type": "display_data"
    },
    {
     "name": "stdout",
     "output_type": "stream",
     "text": [
      "----------------------------\n",
      "color name :  ripe cherry red\n",
      "generated\n"
     ]
    },
    {
     "data": {
      "text/html": [
       "<div style='float:left;background:#e5181d;padding:10px;width:300px;'></div>"
      ],
      "text/plain": [
       "<IPython.core.display.HTML object>"
      ]
     },
     "metadata": {},
     "output_type": "display_data"
    },
    {
     "name": "stdout",
     "output_type": "stream",
     "text": [
      "ground truth\n"
     ]
    },
    {
     "data": {
      "text/html": [
       "<div style='float:left;background:#be242c;padding:10px;width:300px;'></div>"
      ],
      "text/plain": [
       "<IPython.core.display.HTML object>"
      ]
     },
     "metadata": {},
     "output_type": "display_data"
    },
    {
     "name": "stdout",
     "output_type": "stream",
     "text": [
      "----------------------------\n",
      "color name :  squareddrop\n",
      "generated\n"
     ]
    },
    {
     "data": {
      "text/html": [
       "<div style='float:left;background:#d9f4fc;padding:10px;width:300px;'></div>"
      ],
      "text/plain": [
       "<IPython.core.display.HTML object>"
      ]
     },
     "metadata": {},
     "output_type": "display_data"
    },
    {
     "name": "stdout",
     "output_type": "stream",
     "text": [
      "ground truth\n"
     ]
    },
    {
     "data": {
      "text/html": [
       "<div style='float:left;background:#b56a5f;padding:10px;width:300px;'></div>"
      ],
      "text/plain": [
       "<IPython.core.display.HTML object>"
      ]
     },
     "metadata": {},
     "output_type": "display_data"
    },
    {
     "name": "stdout",
     "output_type": "stream",
     "text": [
      "----------------------------\n",
      "color name :  niall red\n",
      "generated\n"
     ]
    },
    {
     "data": {
      "text/html": [
       "<div style='float:left;background:#da1a06;padding:10px;width:300px;'></div>"
      ],
      "text/plain": [
       "<IPython.core.display.HTML object>"
      ]
     },
     "metadata": {},
     "output_type": "display_data"
    },
    {
     "name": "stdout",
     "output_type": "stream",
     "text": [
      "ground truth\n"
     ]
    },
    {
     "data": {
      "text/html": [
       "<div style='float:left;background:#c42f30;padding:10px;width:300px;'></div>"
      ],
      "text/plain": [
       "<IPython.core.display.HTML object>"
      ]
     },
     "metadata": {},
     "output_type": "display_data"
    },
    {
     "name": "stdout",
     "output_type": "stream",
     "text": [
      "----------------------------\n",
      "color name :  remembered honeydew\n",
      "generated\n"
     ]
    },
    {
     "data": {
      "text/html": [
       "<div style='float:left;background:#a6c19d;padding:10px;width:300px;'></div>"
      ],
      "text/plain": [
       "<IPython.core.display.HTML object>"
      ]
     },
     "metadata": {},
     "output_type": "display_data"
    },
    {
     "name": "stdout",
     "output_type": "stream",
     "text": [
      "ground truth\n"
     ]
    },
    {
     "data": {
      "text/html": [
       "<div style='float:left;background:#ccb85b;padding:10px;width:300px;'></div>"
      ],
      "text/plain": [
       "<IPython.core.display.HTML object>"
      ]
     },
     "metadata": {},
     "output_type": "display_data"
    },
    {
     "name": "stdout",
     "output_type": "stream",
     "text": [
      "----------------------------\n",
      "color name :  pastel predictions\n",
      "generated\n"
     ]
    },
    {
     "data": {
      "text/html": [
       "<div style='float:left;background:#caace3;padding:10px;width:300px;'></div>"
      ],
      "text/plain": [
       "<IPython.core.display.HTML object>"
      ]
     },
     "metadata": {},
     "output_type": "display_data"
    },
    {
     "name": "stdout",
     "output_type": "stream",
     "text": [
      "ground truth\n"
     ]
    },
    {
     "data": {
      "text/html": [
       "<div style='float:left;background:#c4b0b6;padding:10px;width:300px;'></div>"
      ],
      "text/plain": [
       "<IPython.core.display.HTML object>"
      ]
     },
     "metadata": {},
     "output_type": "display_data"
    },
    {
     "name": "stdout",
     "output_type": "stream",
     "text": [
      "----------------------------\n",
      "color name :  fancy shawl redts\n",
      "generated\n"
     ]
    },
    {
     "data": {
      "text/html": [
       "<div style='float:left;background:#eb010c;padding:10px;width:300px;'></div>"
      ],
      "text/plain": [
       "<IPython.core.display.HTML object>"
      ]
     },
     "metadata": {},
     "output_type": "display_data"
    },
    {
     "name": "stdout",
     "output_type": "stream",
     "text": [
      "ground truth\n"
     ]
    },
    {
     "data": {
      "text/html": [
       "<div style='float:left;background:#bc364a;padding:10px;width:300px;'></div>"
      ],
      "text/plain": [
       "<IPython.core.display.HTML object>"
      ]
     },
     "metadata": {},
     "output_type": "display_data"
    },
    {
     "name": "stdout",
     "output_type": "stream",
     "text": [
      "----------------------------\n",
      "color name :  red vibrant\n",
      "generated\n"
     ]
    },
    {
     "data": {
      "text/html": [
       "<div style='float:left;background:#fa3224;padding:10px;width:300px;'></div>"
      ],
      "text/plain": [
       "<IPython.core.display.HTML object>"
      ]
     },
     "metadata": {},
     "output_type": "display_data"
    },
    {
     "name": "stdout",
     "output_type": "stream",
     "text": [
      "ground truth\n"
     ]
    },
    {
     "data": {
      "text/html": [
       "<div style='float:left;background:#c02e2d;padding:10px;width:300px;'></div>"
      ],
      "text/plain": [
       "<IPython.core.display.HTML object>"
      ]
     },
     "metadata": {},
     "output_type": "display_data"
    },
    {
     "name": "stdout",
     "output_type": "stream",
     "text": [
      "----------------------------\n",
      "color name :  even mor red passion\n",
      "generated\n"
     ]
    },
    {
     "data": {
      "text/html": [
       "<div style='float:left;background:#fa0821;padding:10px;width:300px;'></div>"
      ],
      "text/plain": [
       "<IPython.core.display.HTML object>"
      ]
     },
     "metadata": {},
     "output_type": "display_data"
    },
    {
     "name": "stdout",
     "output_type": "stream",
     "text": [
      "ground truth\n"
     ]
    },
    {
     "data": {
      "text/html": [
       "<div style='float:left;background:#c02a36;padding:10px;width:300px;'></div>"
      ],
      "text/plain": [
       "<IPython.core.display.HTML object>"
      ]
     },
     "metadata": {},
     "output_type": "display_data"
    },
    {
     "name": "stdout",
     "output_type": "stream",
     "text": [
      "----------------------------\n",
      "color name :  zion park red\n",
      "generated\n"
     ]
    },
    {
     "data": {
      "text/html": [
       "<div style='float:left;background:#be4b23;padding:10px;width:300px;'></div>"
      ],
      "text/plain": [
       "<IPython.core.display.HTML object>"
      ]
     },
     "metadata": {},
     "output_type": "display_data"
    },
    {
     "name": "stdout",
     "output_type": "stream",
     "text": [
      "ground truth\n"
     ]
    },
    {
     "data": {
      "text/html": [
       "<div style='float:left;background:#c43330;padding:10px;width:300px;'></div>"
      ],
      "text/plain": [
       "<IPython.core.display.HTML object>"
      ]
     },
     "metadata": {},
     "output_type": "display_data"
    },
    {
     "name": "stdout",
     "output_type": "stream",
     "text": [
      "----------------------------\n",
      "color name :  rosered\n",
      "generated\n"
     ]
    },
    {
     "data": {
      "text/html": [
       "<div style='float:left;background:#c74051;padding:10px;width:300px;'></div>"
      ],
      "text/plain": [
       "<IPython.core.display.HTML object>"
      ]
     },
     "metadata": {},
     "output_type": "display_data"
    },
    {
     "name": "stdout",
     "output_type": "stream",
     "text": [
      "ground truth\n"
     ]
    },
    {
     "data": {
      "text/html": [
       "<div style='float:left;background:#ce4343;padding:10px;width:300px;'></div>"
      ],
      "text/plain": [
       "<IPython.core.display.HTML object>"
      ]
     },
     "metadata": {},
     "output_type": "display_data"
    },
    {
     "name": "stdout",
     "output_type": "stream",
     "text": [
      "----------------------------\n",
      "color name :  octopus rose red\n",
      "generated\n"
     ]
    },
    {
     "data": {
      "text/html": [
       "<div style='float:left;background:#d04c60;padding:10px;width:300px;'></div>"
      ],
      "text/plain": [
       "<IPython.core.display.HTML object>"
      ]
     },
     "metadata": {},
     "output_type": "display_data"
    },
    {
     "name": "stdout",
     "output_type": "stream",
     "text": [
      "ground truth\n"
     ]
    },
    {
     "data": {
      "text/html": [
       "<div style='float:left;background:#c73630;padding:10px;width:300px;'></div>"
      ],
      "text/plain": [
       "<IPython.core.display.HTML object>"
      ]
     },
     "metadata": {},
     "output_type": "display_data"
    },
    {
     "name": "stdout",
     "output_type": "stream",
     "text": [
      "----------------------------\n",
      "color name :  hammered love\n",
      "generated\n"
     ]
    },
    {
     "data": {
      "text/html": [
       "<div style='float:left;background:#25497a;padding:10px;width:300px;'></div>"
      ],
      "text/plain": [
       "<IPython.core.display.HTML object>"
      ]
     },
     "metadata": {},
     "output_type": "display_data"
    },
    {
     "name": "stdout",
     "output_type": "stream",
     "text": [
      "ground truth\n"
     ]
    },
    {
     "data": {
      "text/html": [
       "<div style='float:left;background:#b85a62;padding:10px;width:300px;'></div>"
      ],
      "text/plain": [
       "<IPython.core.display.HTML object>"
      ]
     },
     "metadata": {},
     "output_type": "display_data"
    },
    {
     "name": "stdout",
     "output_type": "stream",
     "text": [
      "----------------------------\n",
      "color name :  black lobelia red\n",
      "generated\n"
     ]
    },
    {
     "data": {
      "text/html": [
       "<div style='float:left;background:#b0002f;padding:10px;width:300px;'></div>"
      ],
      "text/plain": [
       "<IPython.core.display.HTML object>"
      ]
     },
     "metadata": {},
     "output_type": "display_data"
    },
    {
     "name": "stdout",
     "output_type": "stream",
     "text": [
      "ground truth\n"
     ]
    },
    {
     "data": {
      "text/html": [
       "<div style='float:left;background:#58151d;padding:10px;width:300px;'></div>"
      ],
      "text/plain": [
       "<IPython.core.display.HTML object>"
      ]
     },
     "metadata": {},
     "output_type": "display_data"
    },
    {
     "name": "stdout",
     "output_type": "stream",
     "text": [
      "----------------------------\n",
      "color name :  what the red\n",
      "generated\n"
     ]
    },
    {
     "data": {
      "text/html": [
       "<div style='float:left;background:#b20f34;padding:10px;width:300px;'></div>"
      ],
      "text/plain": [
       "<IPython.core.display.HTML object>"
      ]
     },
     "metadata": {},
     "output_type": "display_data"
    },
    {
     "name": "stdout",
     "output_type": "stream",
     "text": [
      "ground truth\n"
     ]
    },
    {
     "data": {
      "text/html": [
       "<div style='float:left;background:#c22b33;padding:10px;width:300px;'></div>"
      ],
      "text/plain": [
       "<IPython.core.display.HTML object>"
      ]
     },
     "metadata": {},
     "output_type": "display_data"
    },
    {
     "name": "stdout",
     "output_type": "stream",
     "text": [
      "----------------------------\n",
      "color name :  blossom red\n",
      "generated\n"
     ]
    },
    {
     "data": {
      "text/html": [
       "<div style='float:left;background:#c02d3e;padding:10px;width:300px;'></div>"
      ],
      "text/plain": [
       "<IPython.core.display.HTML object>"
      ]
     },
     "metadata": {},
     "output_type": "display_data"
    },
    {
     "name": "stdout",
     "output_type": "stream",
     "text": [
      "ground truth\n"
     ]
    },
    {
     "data": {
      "text/html": [
       "<div style='float:left;background:#c93435;padding:10px;width:300px;'></div>"
      ],
      "text/plain": [
       "<IPython.core.display.HTML object>"
      ]
     },
     "metadata": {},
     "output_type": "display_data"
    },
    {
     "name": "stdout",
     "output_type": "stream",
     "text": [
      "----------------------------\n",
      "color name :  red rush bloom\n",
      "generated\n"
     ]
    },
    {
     "data": {
      "text/html": [
       "<div style='float:left;background:#c10056;padding:10px;width:300px;'></div>"
      ],
      "text/plain": [
       "<IPython.core.display.HTML object>"
      ]
     },
     "metadata": {},
     "output_type": "display_data"
    },
    {
     "name": "stdout",
     "output_type": "stream",
     "text": [
      "ground truth\n"
     ]
    },
    {
     "data": {
      "text/html": [
       "<div style='float:left;background:#c63835;padding:10px;width:300px;'></div>"
      ],
      "text/plain": [
       "<IPython.core.display.HTML object>"
      ]
     },
     "metadata": {},
     "output_type": "display_data"
    },
    {
     "name": "stdout",
     "output_type": "stream",
     "text": [
      "----------------------------\n",
      "color name :  xero redorange\n",
      "generated\n"
     ]
    },
    {
     "data": {
      "text/html": [
       "<div style='float:left;background:#fa4244;padding:10px;width:300px;'></div>"
      ],
      "text/plain": [
       "<IPython.core.display.HTML object>"
      ]
     },
     "metadata": {},
     "output_type": "display_data"
    },
    {
     "name": "stdout",
     "output_type": "stream",
     "text": [
      "ground truth\n"
     ]
    },
    {
     "data": {
      "text/html": [
       "<div style='float:left;background:#d7522c;padding:10px;width:300px;'></div>"
      ],
      "text/plain": [
       "<IPython.core.display.HTML object>"
      ]
     },
     "metadata": {},
     "output_type": "display_data"
    },
    {
     "name": "stdout",
     "output_type": "stream",
     "text": [
      "----------------------------\n",
      "color name :  sofa red\n",
      "generated\n"
     ]
    },
    {
     "data": {
      "text/html": [
       "<div style='float:left;background:#821414;padding:10px;width:300px;'></div>"
      ],
      "text/plain": [
       "<IPython.core.display.HTML object>"
      ]
     },
     "metadata": {},
     "output_type": "display_data"
    },
    {
     "name": "stdout",
     "output_type": "stream",
     "text": [
      "ground truth\n"
     ]
    },
    {
     "data": {
      "text/html": [
       "<div style='float:left;background:#c93535;padding:10px;width:300px;'></div>"
      ],
      "text/plain": [
       "<IPython.core.display.HTML object>"
      ]
     },
     "metadata": {},
     "output_type": "display_data"
    },
    {
     "name": "stdout",
     "output_type": "stream",
     "text": [
      "----------------------------\n",
      "color name :  red crushed velvet\n",
      "generated\n"
     ]
    },
    {
     "data": {
      "text/html": [
       "<div style='float:left;background:#dc4038;padding:10px;width:300px;'></div>"
      ],
      "text/plain": [
       "<IPython.core.display.HTML object>"
      ]
     },
     "metadata": {},
     "output_type": "display_data"
    },
    {
     "name": "stdout",
     "output_type": "stream",
     "text": [
      "ground truth\n"
     ]
    },
    {
     "data": {
      "text/html": [
       "<div style='float:left;background:#9f2228;padding:10px;width:300px;'></div>"
      ],
      "text/plain": [
       "<IPython.core.display.HTML object>"
      ]
     },
     "metadata": {},
     "output_type": "display_data"
    },
    {
     "name": "stdout",
     "output_type": "stream",
     "text": [
      "----------------------------\n",
      "color name :  latin red\n",
      "generated\n"
     ]
    },
    {
     "data": {
      "text/html": [
       "<div style='float:left;background:#971426;padding:10px;width:300px;'></div>"
      ],
      "text/plain": [
       "<IPython.core.display.HTML object>"
      ]
     },
     "metadata": {},
     "output_type": "display_data"
    },
    {
     "name": "stdout",
     "output_type": "stream",
     "text": [
      "ground truth\n"
     ]
    },
    {
     "data": {
      "text/html": [
       "<div style='float:left;background:#c53331;padding:10px;width:300px;'></div>"
      ],
      "text/plain": [
       "<IPython.core.display.HTML object>"
      ]
     },
     "metadata": {},
     "output_type": "display_data"
    },
    {
     "name": "stdout",
     "output_type": "stream",
     "text": [
      "----------------------------\n",
      "color name :  redliz\n",
      "generated\n"
     ]
    },
    {
     "data": {
      "text/html": [
       "<div style='float:left;background:#b31a2f;padding:10px;width:300px;'></div>"
      ],
      "text/plain": [
       "<IPython.core.display.HTML object>"
      ]
     },
     "metadata": {},
     "output_type": "display_data"
    },
    {
     "name": "stdout",
     "output_type": "stream",
     "text": [
      "ground truth\n"
     ]
    },
    {
     "data": {
      "text/html": [
       "<div style='float:left;background:#c73433;padding:10px;width:300px;'></div>"
      ],
      "text/plain": [
       "<IPython.core.display.HTML object>"
      ]
     },
     "metadata": {},
     "output_type": "display_data"
    },
    {
     "name": "stdout",
     "output_type": "stream",
     "text": [
      "----------------------------\n",
      "color name :  bring the red violet\n",
      "generated\n"
     ]
    },
    {
     "data": {
      "text/html": [
       "<div style='float:left;background:#9127ab;padding:10px;width:300px;'></div>"
      ],
      "text/plain": [
       "<IPython.core.display.HTML object>"
      ]
     },
     "metadata": {},
     "output_type": "display_data"
    },
    {
     "name": "stdout",
     "output_type": "stream",
     "text": [
      "ground truth\n"
     ]
    },
    {
     "data": {
      "text/html": [
       "<div style='float:left;background:#8c258d;padding:10px;width:300px;'></div>"
      ],
      "text/plain": [
       "<IPython.core.display.HTML object>"
      ]
     },
     "metadata": {},
     "output_type": "display_data"
    },
    {
     "name": "stdout",
     "output_type": "stream",
     "text": [
      "----------------------------\n",
      "color name :  redvelvetcarpedeim\n",
      "generated\n"
     ]
    },
    {
     "data": {
      "text/html": [
       "<div style='float:left;background:#f1315a;padding:10px;width:300px;'></div>"
      ],
      "text/plain": [
       "<IPython.core.display.HTML object>"
      ]
     },
     "metadata": {},
     "output_type": "display_data"
    },
    {
     "name": "stdout",
     "output_type": "stream",
     "text": [
      "ground truth\n"
     ]
    },
    {
     "data": {
      "text/html": [
       "<div style='float:left;background:#a12e39;padding:10px;width:300px;'></div>"
      ],
      "text/plain": [
       "<IPython.core.display.HTML object>"
      ]
     },
     "metadata": {},
     "output_type": "display_data"
    },
    {
     "name": "stdout",
     "output_type": "stream",
     "text": [
      "----------------------------\n",
      "color name :  deep cabbage red\n",
      "generated\n"
     ]
    },
    {
     "data": {
      "text/html": [
       "<div style='float:left;background:#2c0c1a;padding:10px;width:300px;'></div>"
      ],
      "text/plain": [
       "<IPython.core.display.HTML object>"
      ]
     },
     "metadata": {},
     "output_type": "display_data"
    },
    {
     "name": "stdout",
     "output_type": "stream",
     "text": [
      "ground truth\n"
     ]
    },
    {
     "data": {
      "text/html": [
       "<div style='float:left;background:#8a1720;padding:10px;width:300px;'></div>"
      ],
      "text/plain": [
       "<IPython.core.display.HTML object>"
      ]
     },
     "metadata": {},
     "output_type": "display_data"
    },
    {
     "name": "stdout",
     "output_type": "stream",
     "text": [
      "----------------------------\n",
      "color name :  the blue of red\n",
      "generated\n"
     ]
    },
    {
     "data": {
      "text/html": [
       "<div style='float:left;background:#d10533;padding:10px;width:300px;'></div>"
      ],
      "text/plain": [
       "<IPython.core.display.HTML object>"
      ]
     },
     "metadata": {},
     "output_type": "display_data"
    },
    {
     "name": "stdout",
     "output_type": "stream",
     "text": [
      "ground truth\n"
     ]
    },
    {
     "data": {
      "text/html": [
       "<div style='float:left;background:#ab6776;padding:10px;width:300px;'></div>"
      ],
      "text/plain": [
       "<IPython.core.display.HTML object>"
      ]
     },
     "metadata": {},
     "output_type": "display_data"
    },
    {
     "name": "stdout",
     "output_type": "stream",
     "text": [
      "----------------------------\n",
      "color name :  snot red\n",
      "generated\n"
     ]
    },
    {
     "data": {
      "text/html": [
       "<div style='float:left;background:#ef8173;padding:10px;width:300px;'></div>"
      ],
      "text/plain": [
       "<IPython.core.display.HTML object>"
      ]
     },
     "metadata": {},
     "output_type": "display_data"
    },
    {
     "name": "stdout",
     "output_type": "stream",
     "text": [
      "ground truth\n"
     ]
    },
    {
     "data": {
      "text/html": [
       "<div style='float:left;background:#ce423e;padding:10px;width:300px;'></div>"
      ],
      "text/plain": [
       "<IPython.core.display.HTML object>"
      ]
     },
     "metadata": {},
     "output_type": "display_data"
    },
    {
     "name": "stdout",
     "output_type": "stream",
     "text": [
      "----------------------------\n",
      "color name :  viipredranssarcomp\n",
      "generated\n"
     ]
    },
    {
     "data": {
      "text/html": [
       "<div style='float:left;background:#b1d89f;padding:10px;width:300px;'></div>"
      ],
      "text/plain": [
       "<IPython.core.display.HTML object>"
      ]
     },
     "metadata": {},
     "output_type": "display_data"
    },
    {
     "name": "stdout",
     "output_type": "stream",
     "text": [
      "ground truth\n"
     ]
    },
    {
     "data": {
      "text/html": [
       "<div style='float:left;background:#a06e78;padding:10px;width:300px;'></div>"
      ],
      "text/plain": [
       "<IPython.core.display.HTML object>"
      ]
     },
     "metadata": {},
     "output_type": "display_data"
    },
    {
     "name": "stdout",
     "output_type": "stream",
     "text": [
      "----------------------------\n",
      "color name :  optimism light red\n",
      "generated\n"
     ]
    },
    {
     "data": {
      "text/html": [
       "<div style='float:left;background:#f7b8be;padding:10px;width:300px;'></div>"
      ],
      "text/plain": [
       "<IPython.core.display.HTML object>"
      ]
     },
     "metadata": {},
     "output_type": "display_data"
    },
    {
     "name": "stdout",
     "output_type": "stream",
     "text": [
      "ground truth\n"
     ]
    },
    {
     "data": {
      "text/html": [
       "<div style='float:left;background:#da4e49;padding:10px;width:300px;'></div>"
      ],
      "text/plain": [
       "<IPython.core.display.HTML object>"
      ]
     },
     "metadata": {},
     "output_type": "display_data"
    },
    {
     "name": "stdout",
     "output_type": "stream",
     "text": [
      "----------------------------\n",
      "color name :  mostly red\n",
      "generated\n"
     ]
    },
    {
     "data": {
      "text/html": [
       "<div style='float:left;background:#b58591;padding:10px;width:300px;'></div>"
      ],
      "text/plain": [
       "<IPython.core.display.HTML object>"
      ]
     },
     "metadata": {},
     "output_type": "display_data"
    },
    {
     "name": "stdout",
     "output_type": "stream",
     "text": [
      "ground truth\n"
     ]
    },
    {
     "data": {
      "text/html": [
       "<div style='float:left;background:#c23031;padding:10px;width:300px;'></div>"
      ],
      "text/plain": [
       "<IPython.core.display.HTML object>"
      ]
     },
     "metadata": {},
     "output_type": "display_data"
    },
    {
     "name": "stdout",
     "output_type": "stream",
     "text": [
      "----------------------------\n",
      "color name :  not exactly red fish\n",
      "generated\n"
     ]
    },
    {
     "data": {
      "text/html": [
       "<div style='float:left;background:#9ecfce;padding:10px;width:300px;'></div>"
      ],
      "text/plain": [
       "<IPython.core.display.HTML object>"
      ]
     },
     "metadata": {},
     "output_type": "display_data"
    },
    {
     "name": "stdout",
     "output_type": "stream",
     "text": [
      "ground truth\n"
     ]
    },
    {
     "data": {
      "text/html": [
       "<div style='float:left;background:#c63735;padding:10px;width:300px;'></div>"
      ],
      "text/plain": [
       "<IPython.core.display.HTML object>"
      ]
     },
     "metadata": {},
     "output_type": "display_data"
    },
    {
     "name": "stdout",
     "output_type": "stream",
     "text": [
      "----------------------------\n",
      "color name :  sweet dreams redy\n",
      "generated\n"
     ]
    },
    {
     "data": {
      "text/html": [
       "<div style='float:left;background:#e96c6d;padding:10px;width:300px;'></div>"
      ],
      "text/plain": [
       "<IPython.core.display.HTML object>"
      ]
     },
     "metadata": {},
     "output_type": "display_data"
    },
    {
     "name": "stdout",
     "output_type": "stream",
     "text": [
      "ground truth\n"
     ]
    },
    {
     "data": {
      "text/html": [
       "<div style='float:left;background:#c83840;padding:10px;width:300px;'></div>"
      ],
      "text/plain": [
       "<IPython.core.display.HTML object>"
      ]
     },
     "metadata": {},
     "output_type": "display_data"
    },
    {
     "name": "stdout",
     "output_type": "stream",
     "text": [
      "----------------------------\n",
      "color name :  redemption red\n",
      "generated\n"
     ]
    },
    {
     "data": {
      "text/html": [
       "<div style='float:left;background:#ba5a75;padding:10px;width:300px;'></div>"
      ],
      "text/plain": [
       "<IPython.core.display.HTML object>"
      ]
     },
     "metadata": {},
     "output_type": "display_data"
    },
    {
     "name": "stdout",
     "output_type": "stream",
     "text": [
      "ground truth\n"
     ]
    },
    {
     "data": {
      "text/html": [
       "<div style='float:left;background:#c62d2f;padding:10px;width:300px;'></div>"
      ],
      "text/plain": [
       "<IPython.core.display.HTML object>"
      ]
     },
     "metadata": {},
     "output_type": "display_data"
    },
    {
     "name": "stdout",
     "output_type": "stream",
     "text": [
      "----------------------------\n",
      "color name :  vestigal red\n",
      "generated\n"
     ]
    },
    {
     "data": {
      "text/html": [
       "<div style='float:left;background:#f61863;padding:10px;width:300px;'></div>"
      ],
      "text/plain": [
       "<IPython.core.display.HTML object>"
      ]
     },
     "metadata": {},
     "output_type": "display_data"
    },
    {
     "name": "stdout",
     "output_type": "stream",
     "text": [
      "ground truth\n"
     ]
    },
    {
     "data": {
      "text/html": [
       "<div style='float:left;background:#c82f34;padding:10px;width:300px;'></div>"
      ],
      "text/plain": [
       "<IPython.core.display.HTML object>"
      ]
     },
     "metadata": {},
     "output_type": "display_data"
    },
    {
     "name": "stdout",
     "output_type": "stream",
     "text": [
      "----------------------------\n",
      "color name :  filtered moonlight\n",
      "generated\n"
     ]
    },
    {
     "data": {
      "text/html": [
       "<div style='float:left;background:#dae7d1;padding:10px;width:300px;'></div>"
      ],
      "text/plain": [
       "<IPython.core.display.HTML object>"
      ]
     },
     "metadata": {},
     "output_type": "display_data"
    },
    {
     "name": "stdout",
     "output_type": "stream",
     "text": [
      "ground truth\n"
     ]
    },
    {
     "data": {
      "text/html": [
       "<div style='float:left;background:#a08b8f;padding:10px;width:300px;'></div>"
      ],
      "text/plain": [
       "<IPython.core.display.HTML object>"
      ]
     },
     "metadata": {},
     "output_type": "display_data"
    },
    {
     "name": "stdout",
     "output_type": "stream",
     "text": [
      "----------------------------\n",
      "color name :  mintflavored gum\n",
      "generated\n"
     ]
    },
    {
     "data": {
      "text/html": [
       "<div style='float:left;background:#c2e1d5;padding:10px;width:300px;'></div>"
      ],
      "text/plain": [
       "<IPython.core.display.HTML object>"
      ]
     },
     "metadata": {},
     "output_type": "display_data"
    },
    {
     "name": "stdout",
     "output_type": "stream",
     "text": [
      "ground truth\n"
     ]
    },
    {
     "data": {
      "text/html": [
       "<div style='float:left;background:#a1dfb4;padding:10px;width:300px;'></div>"
      ],
      "text/plain": [
       "<IPython.core.display.HTML object>"
      ]
     },
     "metadata": {},
     "output_type": "display_data"
    },
    {
     "name": "stdout",
     "output_type": "stream",
     "text": [
      "----------------------------\n",
      "color name :  ribald red\n",
      "generated\n"
     ]
    },
    {
     "data": {
      "text/html": [
       "<div style='float:left;background:#a86c7e;padding:10px;width:300px;'></div>"
      ],
      "text/plain": [
       "<IPython.core.display.HTML object>"
      ]
     },
     "metadata": {},
     "output_type": "display_data"
    },
    {
     "name": "stdout",
     "output_type": "stream",
     "text": [
      "ground truth\n"
     ]
    },
    {
     "data": {
      "text/html": [
       "<div style='float:left;background:#c32a2d;padding:10px;width:300px;'></div>"
      ],
      "text/plain": [
       "<IPython.core.display.HTML object>"
      ]
     },
     "metadata": {},
     "output_type": "display_data"
    },
    {
     "name": "stdout",
     "output_type": "stream",
     "text": [
      "----------------------------\n",
      "color name :  silvered skies\n",
      "generated\n"
     ]
    },
    {
     "data": {
      "text/html": [
       "<div style='float:left;background:#c3d5e1;padding:10px;width:300px;'></div>"
      ],
      "text/plain": [
       "<IPython.core.display.HTML object>"
      ]
     },
     "metadata": {},
     "output_type": "display_data"
    },
    {
     "name": "stdout",
     "output_type": "stream",
     "text": [
      "ground truth\n"
     ]
    },
    {
     "data": {
      "text/html": [
       "<div style='float:left;background:#a6b8c9;padding:10px;width:300px;'></div>"
      ],
      "text/plain": [
       "<IPython.core.display.HTML object>"
      ]
     },
     "metadata": {},
     "output_type": "display_data"
    },
    {
     "name": "stdout",
     "output_type": "stream",
     "text": [
      "----------------------------\n",
      "color name :  dashing red\n",
      "generated\n"
     ]
    },
    {
     "data": {
      "text/html": [
       "<div style='float:left;background:#e73836;padding:10px;width:300px;'></div>"
      ],
      "text/plain": [
       "<IPython.core.display.HTML object>"
      ]
     },
     "metadata": {},
     "output_type": "display_data"
    },
    {
     "name": "stdout",
     "output_type": "stream",
     "text": [
      "ground truth\n"
     ]
    },
    {
     "data": {
      "text/html": [
       "<div style='float:left;background:#bf272f;padding:10px;width:300px;'></div>"
      ],
      "text/plain": [
       "<IPython.core.display.HTML object>"
      ]
     },
     "metadata": {},
     "output_type": "display_data"
    },
    {
     "name": "stdout",
     "output_type": "stream",
     "text": [
      "----------------------------\n",
      "color name :  hofred\n",
      "generated\n"
     ]
    },
    {
     "data": {
      "text/html": [
       "<div style='float:left;background:#ea3c41;padding:10px;width:300px;'></div>"
      ],
      "text/plain": [
       "<IPython.core.display.HTML object>"
      ]
     },
     "metadata": {},
     "output_type": "display_data"
    },
    {
     "name": "stdout",
     "output_type": "stream",
     "text": [
      "ground truth\n"
     ]
    },
    {
     "data": {
      "text/html": [
       "<div style='float:left;background:#c74e43;padding:10px;width:300px;'></div>"
      ],
      "text/plain": [
       "<IPython.core.display.HTML object>"
      ]
     },
     "metadata": {},
     "output_type": "display_data"
    },
    {
     "name": "stdout",
     "output_type": "stream",
     "text": [
      "----------------------------\n",
      "color name :  severe red\n",
      "generated\n"
     ]
    },
    {
     "data": {
      "text/html": [
       "<div style='float:left;background:#c60033;padding:10px;width:300px;'></div>"
      ],
      "text/plain": [
       "<IPython.core.display.HTML object>"
      ]
     },
     "metadata": {},
     "output_type": "display_data"
    },
    {
     "name": "stdout",
     "output_type": "stream",
     "text": [
      "ground truth\n"
     ]
    },
    {
     "data": {
      "text/html": [
       "<div style='float:left;background:#c43033;padding:10px;width:300px;'></div>"
      ],
      "text/plain": [
       "<IPython.core.display.HTML object>"
      ]
     },
     "metadata": {},
     "output_type": "display_data"
    },
    {
     "name": "stdout",
     "output_type": "stream",
     "text": [
      "----------------------------\n",
      "color name :  red boar\n",
      "generated\n"
     ]
    },
    {
     "data": {
      "text/html": [
       "<div style='float:left;background:#cb1903;padding:10px;width:300px;'></div>"
      ],
      "text/plain": [
       "<IPython.core.display.HTML object>"
      ]
     },
     "metadata": {},
     "output_type": "display_data"
    },
    {
     "name": "stdout",
     "output_type": "stream",
     "text": [
      "ground truth\n"
     ]
    },
    {
     "data": {
      "text/html": [
       "<div style='float:left;background:#c4342d;padding:10px;width:300px;'></div>"
      ],
      "text/plain": [
       "<IPython.core.display.HTML object>"
      ]
     },
     "metadata": {},
     "output_type": "display_data"
    },
    {
     "name": "stdout",
     "output_type": "stream",
     "text": [
      "----------------------------\n",
      "color name :  incredibly strong\n",
      "generated\n"
     ]
    },
    {
     "data": {
      "text/html": [
       "<div style='float:left;background:#868cb2;padding:10px;width:300px;'></div>"
      ],
      "text/plain": [
       "<IPython.core.display.HTML object>"
      ]
     },
     "metadata": {},
     "output_type": "display_data"
    },
    {
     "name": "stdout",
     "output_type": "stream",
     "text": [
      "ground truth\n"
     ]
    },
    {
     "data": {
      "text/html": [
       "<div style='float:left;background:#ac6a7b;padding:10px;width:300px;'></div>"
      ],
      "text/plain": [
       "<IPython.core.display.HTML object>"
      ]
     },
     "metadata": {},
     "output_type": "display_data"
    },
    {
     "name": "stdout",
     "output_type": "stream",
     "text": [
      "----------------------------\n",
      "color name :  there will be red\n",
      "generated\n"
     ]
    },
    {
     "data": {
      "text/html": [
       "<div style='float:left;background:#c23b46;padding:10px;width:300px;'></div>"
      ],
      "text/plain": [
       "<IPython.core.display.HTML object>"
      ]
     },
     "metadata": {},
     "output_type": "display_data"
    },
    {
     "name": "stdout",
     "output_type": "stream",
     "text": [
      "ground truth\n"
     ]
    },
    {
     "data": {
      "text/html": [
       "<div style='float:left;background:#be3030;padding:10px;width:300px;'></div>"
      ],
      "text/plain": [
       "<IPython.core.display.HTML object>"
      ]
     },
     "metadata": {},
     "output_type": "display_data"
    },
    {
     "name": "stdout",
     "output_type": "stream",
     "text": [
      "----------------------------\n",
      "color name :  what purpose red\n",
      "generated\n"
     ]
    },
    {
     "data": {
      "text/html": [
       "<div style='float:left;background:#dd555f;padding:10px;width:300px;'></div>"
      ],
      "text/plain": [
       "<IPython.core.display.HTML object>"
      ]
     },
     "metadata": {},
     "output_type": "display_data"
    },
    {
     "name": "stdout",
     "output_type": "stream",
     "text": [
      "ground truth\n"
     ]
    },
    {
     "data": {
      "text/html": [
       "<div style='float:left;background:#c42f36;padding:10px;width:300px;'></div>"
      ],
      "text/plain": [
       "<IPython.core.display.HTML object>"
      ]
     },
     "metadata": {},
     "output_type": "display_data"
    },
    {
     "name": "stdout",
     "output_type": "stream",
     "text": [
      "----------------------------\n",
      "color name :  ice covered\n",
      "generated\n"
     ]
    },
    {
     "data": {
      "text/html": [
       "<div style='float:left;background:#a4b7de;padding:10px;width:300px;'></div>"
      ],
      "text/plain": [
       "<IPython.core.display.HTML object>"
      ]
     },
     "metadata": {},
     "output_type": "display_data"
    },
    {
     "name": "stdout",
     "output_type": "stream",
     "text": [
      "ground truth\n"
     ]
    },
    {
     "data": {
      "text/html": [
       "<div style='float:left;background:#b4c3bd;padding:10px;width:300px;'></div>"
      ],
      "text/plain": [
       "<IPython.core.display.HTML object>"
      ]
     },
     "metadata": {},
     "output_type": "display_data"
    },
    {
     "name": "stdout",
     "output_type": "stream",
     "text": [
      "----------------------------\n",
      "color name :  red light fetish\n",
      "generated\n"
     ]
    },
    {
     "data": {
      "text/html": [
       "<div style='float:left;background:#b8322e;padding:10px;width:300px;'></div>"
      ],
      "text/plain": [
       "<IPython.core.display.HTML object>"
      ]
     },
     "metadata": {},
     "output_type": "display_data"
    },
    {
     "name": "stdout",
     "output_type": "stream",
     "text": [
      "ground truth\n"
     ]
    },
    {
     "data": {
      "text/html": [
       "<div style='float:left;background:#d64544;padding:10px;width:300px;'></div>"
      ],
      "text/plain": [
       "<IPython.core.display.HTML object>"
      ]
     },
     "metadata": {},
     "output_type": "display_data"
    },
    {
     "name": "stdout",
     "output_type": "stream",
     "text": [
      "----------------------------\n",
      "color name :  angel red vivid\n",
      "generated\n"
     ]
    },
    {
     "data": {
      "text/html": [
       "<div style='float:left;background:#d30821;padding:10px;width:300px;'></div>"
      ],
      "text/plain": [
       "<IPython.core.display.HTML object>"
      ]
     },
     "metadata": {},
     "output_type": "display_data"
    },
    {
     "name": "stdout",
     "output_type": "stream",
     "text": [
      "ground truth\n"
     ]
    },
    {
     "data": {
      "text/html": [
       "<div style='float:left;background:#bb2d48;padding:10px;width:300px;'></div>"
      ],
      "text/plain": [
       "<IPython.core.display.HTML object>"
      ]
     },
     "metadata": {},
     "output_type": "display_data"
    },
    {
     "name": "stdout",
     "output_type": "stream",
     "text": [
      "----------------------------\n",
      "color name :  red dot sale\n",
      "generated\n"
     ]
    },
    {
     "data": {
      "text/html": [
       "<div style='float:left;background:#ed4442;padding:10px;width:300px;'></div>"
      ],
      "text/plain": [
       "<IPython.core.display.HTML object>"
      ]
     },
     "metadata": {},
     "output_type": "display_data"
    },
    {
     "name": "stdout",
     "output_type": "stream",
     "text": [
      "ground truth\n"
     ]
    },
    {
     "data": {
      "text/html": [
       "<div style='float:left;background:#c1302e;padding:10px;width:300px;'></div>"
      ],
      "text/plain": [
       "<IPython.core.display.HTML object>"
      ]
     },
     "metadata": {},
     "output_type": "display_data"
    },
    {
     "name": "stdout",
     "output_type": "stream",
     "text": [
      "----------------------------\n",
      "color name :  olde red\n",
      "generated\n"
     ]
    },
    {
     "data": {
      "text/html": [
       "<div style='float:left;background:#45140c;padding:10px;width:300px;'></div>"
      ],
      "text/plain": [
       "<IPython.core.display.HTML object>"
      ]
     },
     "metadata": {},
     "output_type": "display_data"
    },
    {
     "name": "stdout",
     "output_type": "stream",
     "text": [
      "ground truth\n"
     ]
    },
    {
     "data": {
      "text/html": [
       "<div style='float:left;background:#be3530;padding:10px;width:300px;'></div>"
      ],
      "text/plain": [
       "<IPython.core.display.HTML object>"
      ]
     },
     "metadata": {},
     "output_type": "display_data"
    },
    {
     "name": "stdout",
     "output_type": "stream",
     "text": [
      "----------------------------\n",
      "color name :  one hundred eleven\n",
      "generated\n"
     ]
    },
    {
     "data": {
      "text/html": [
       "<div style='float:left;background:#341352;padding:10px;width:300px;'></div>"
      ],
      "text/plain": [
       "<IPython.core.display.HTML object>"
      ]
     },
     "metadata": {},
     "output_type": "display_data"
    },
    {
     "name": "stdout",
     "output_type": "stream",
     "text": [
      "ground truth\n"
     ]
    },
    {
     "data": {
      "text/html": [
       "<div style='float:left;background:#998081;padding:10px;width:300px;'></div>"
      ],
      "text/plain": [
       "<IPython.core.display.HTML object>"
      ]
     },
     "metadata": {},
     "output_type": "display_data"
    },
    {
     "name": "stdout",
     "output_type": "stream",
     "text": [
      "----------------------------\n",
      "color name :  charred stone\n",
      "generated\n"
     ]
    },
    {
     "data": {
      "text/html": [
       "<div style='float:left;background:#8e4800;padding:10px;width:300px;'></div>"
      ],
      "text/plain": [
       "<IPython.core.display.HTML object>"
      ]
     },
     "metadata": {},
     "output_type": "display_data"
    },
    {
     "name": "stdout",
     "output_type": "stream",
     "text": [
      "ground truth\n"
     ]
    },
    {
     "data": {
      "text/html": [
       "<div style='float:left;background:#9a7b70;padding:10px;width:300px;'></div>"
      ],
      "text/plain": [
       "<IPython.core.display.HTML object>"
      ]
     },
     "metadata": {},
     "output_type": "display_data"
    },
    {
     "name": "stdout",
     "output_type": "stream",
     "text": [
      "----------------------------\n",
      "color name :  sugared pansy pink\n",
      "generated\n"
     ]
    },
    {
     "data": {
      "text/html": [
       "<div style='float:left;background:#e7b1b9;padding:10px;width:300px;'></div>"
      ],
      "text/plain": [
       "<IPython.core.display.HTML object>"
      ]
     },
     "metadata": {},
     "output_type": "display_data"
    },
    {
     "name": "stdout",
     "output_type": "stream",
     "text": [
      "ground truth\n"
     ]
    },
    {
     "data": {
      "text/html": [
       "<div style='float:left;background:#ec73a2;padding:10px;width:300px;'></div>"
      ],
      "text/plain": [
       "<IPython.core.display.HTML object>"
      ]
     },
     "metadata": {},
     "output_type": "display_data"
    },
    {
     "name": "stdout",
     "output_type": "stream",
     "text": [
      "----------------------------\n",
      "color name :  triggered response\n",
      "generated\n"
     ]
    },
    {
     "data": {
      "text/html": [
       "<div style='float:left;background:#e37677;padding:10px;width:300px;'></div>"
      ],
      "text/plain": [
       "<IPython.core.display.HTML object>"
      ]
     },
     "metadata": {},
     "output_type": "display_data"
    },
    {
     "name": "stdout",
     "output_type": "stream",
     "text": [
      "ground truth\n"
     ]
    },
    {
     "data": {
      "text/html": [
       "<div style='float:left;background:#bd6f45;padding:10px;width:300px;'></div>"
      ],
      "text/plain": [
       "<IPython.core.display.HTML object>"
      ]
     },
     "metadata": {},
     "output_type": "display_data"
    },
    {
     "name": "stdout",
     "output_type": "stream",
     "text": [
      "----------------------------\n",
      "color name :  creamy dark red\n",
      "generated\n"
     ]
    },
    {
     "data": {
      "text/html": [
       "<div style='float:left;background:#b55a61;padding:10px;width:300px;'></div>"
      ],
      "text/plain": [
       "<IPython.core.display.HTML object>"
      ]
     },
     "metadata": {},
     "output_type": "display_data"
    },
    {
     "name": "stdout",
     "output_type": "stream",
     "text": [
      "ground truth\n"
     ]
    },
    {
     "data": {
      "text/html": [
       "<div style='float:left;background:#b32930;padding:10px;width:300px;'></div>"
      ],
      "text/plain": [
       "<IPython.core.display.HTML object>"
      ]
     },
     "metadata": {},
     "output_type": "display_data"
    },
    {
     "name": "stdout",
     "output_type": "stream",
     "text": [
      "----------------------------\n",
      "color name :  sugered lime\n",
      "generated\n"
     ]
    },
    {
     "data": {
      "text/html": [
       "<div style='float:left;background:#c2f784;padding:10px;width:300px;'></div>"
      ],
      "text/plain": [
       "<IPython.core.display.HTML object>"
      ]
     },
     "metadata": {},
     "output_type": "display_data"
    },
    {
     "name": "stdout",
     "output_type": "stream",
     "text": [
      "ground truth\n"
     ]
    },
    {
     "data": {
      "text/html": [
       "<div style='float:left;background:#9be554;padding:10px;width:300px;'></div>"
      ],
      "text/plain": [
       "<IPython.core.display.HTML object>"
      ]
     },
     "metadata": {},
     "output_type": "display_data"
    },
    {
     "name": "stdout",
     "output_type": "stream",
     "text": [
      "----------------------------\n",
      "color name :  snuggle red\n",
      "generated\n"
     ]
    },
    {
     "data": {
      "text/html": [
       "<div style='float:left;background:#bb2b23;padding:10px;width:300px;'></div>"
      ],
      "text/plain": [
       "<IPython.core.display.HTML object>"
      ]
     },
     "metadata": {},
     "output_type": "display_data"
    },
    {
     "name": "stdout",
     "output_type": "stream",
     "text": [
      "ground truth\n"
     ]
    },
    {
     "data": {
      "text/html": [
       "<div style='float:left;background:#d34542;padding:10px;width:300px;'></div>"
      ],
      "text/plain": [
       "<IPython.core.display.HTML object>"
      ]
     },
     "metadata": {},
     "output_type": "display_data"
    },
    {
     "name": "stdout",
     "output_type": "stream",
     "text": [
      "----------------------------\n",
      "color name :  poppies are red\n",
      "generated\n"
     ]
    },
    {
     "data": {
      "text/html": [
       "<div style='float:left;background:#e43b44;padding:10px;width:300px;'></div>"
      ],
      "text/plain": [
       "<IPython.core.display.HTML object>"
      ]
     },
     "metadata": {},
     "output_type": "display_data"
    },
    {
     "name": "stdout",
     "output_type": "stream",
     "text": [
      "ground truth\n"
     ]
    },
    {
     "data": {
      "text/html": [
       "<div style='float:left;background:#c62d30;padding:10px;width:300px;'></div>"
      ],
      "text/plain": [
       "<IPython.core.display.HTML object>"
      ]
     },
     "metadata": {},
     "output_type": "display_data"
    },
    {
     "name": "stdout",
     "output_type": "stream",
     "text": [
      "----------------------------\n",
      "color name :  bobcat red\n",
      "generated\n"
     ]
    },
    {
     "data": {
      "text/html": [
       "<div style='float:left;background:#b30314;padding:10px;width:300px;'></div>"
      ],
      "text/plain": [
       "<IPython.core.display.HTML object>"
      ]
     },
     "metadata": {},
     "output_type": "display_data"
    },
    {
     "name": "stdout",
     "output_type": "stream",
     "text": [
      "ground truth\n"
     ]
    },
    {
     "data": {
      "text/html": [
       "<div style='float:left;background:#c12e2e;padding:10px;width:300px;'></div>"
      ],
      "text/plain": [
       "<IPython.core.display.HTML object>"
      ]
     },
     "metadata": {},
     "output_type": "display_data"
    },
    {
     "name": "stdout",
     "output_type": "stream",
     "text": [
      "----------------------------\n",
      "color name :  rustic brickred\n",
      "generated\n"
     ]
    },
    {
     "data": {
      "text/html": [
       "<div style='float:left;background:#93050f;padding:10px;width:300px;'></div>"
      ],
      "text/plain": [
       "<IPython.core.display.HTML object>"
      ]
     },
     "metadata": {},
     "output_type": "display_data"
    },
    {
     "name": "stdout",
     "output_type": "stream",
     "text": [
      "ground truth\n"
     ]
    },
    {
     "data": {
      "text/html": [
       "<div style='float:left;background:#912a22;padding:10px;width:300px;'></div>"
      ],
      "text/plain": [
       "<IPython.core.display.HTML object>"
      ]
     },
     "metadata": {},
     "output_type": "display_data"
    },
    {
     "name": "stdout",
     "output_type": "stream",
     "text": [
      "----------------------------\n",
      "color name :  red bean soup\n",
      "generated\n"
     ]
    },
    {
     "data": {
      "text/html": [
       "<div style='float:left;background:#4c3d3e;padding:10px;width:300px;'></div>"
      ],
      "text/plain": [
       "<IPython.core.display.HTML object>"
      ]
     },
     "metadata": {},
     "output_type": "display_data"
    },
    {
     "name": "stdout",
     "output_type": "stream",
     "text": [
      "ground truth\n"
     ]
    },
    {
     "data": {
      "text/html": [
       "<div style='float:left;background:#cb4934;padding:10px;width:300px;'></div>"
      ],
      "text/plain": [
       "<IPython.core.display.HTML object>"
      ]
     },
     "metadata": {},
     "output_type": "display_data"
    },
    {
     "name": "stdout",
     "output_type": "stream",
     "text": [
      "----------------------------\n",
      "color name :  lust red \n",
      "generated\n"
     ]
    },
    {
     "data": {
      "text/html": [
       "<div style='float:left;background:#401f29;padding:10px;width:300px;'></div>"
      ],
      "text/plain": [
       "<IPython.core.display.HTML object>"
      ]
     },
     "metadata": {},
     "output_type": "display_data"
    },
    {
     "name": "stdout",
     "output_type": "stream",
     "text": [
      "ground truth\n"
     ]
    },
    {
     "data": {
      "text/html": [
       "<div style='float:left;background:#c63137;padding:10px;width:300px;'></div>"
      ],
      "text/plain": [
       "<IPython.core.display.HTML object>"
      ]
     },
     "metadata": {},
     "output_type": "display_data"
    },
    {
     "name": "stdout",
     "output_type": "stream",
     "text": [
      "----------------------------\n",
      "color name :  cheating red\n",
      "generated\n"
     ]
    },
    {
     "data": {
      "text/html": [
       "<div style='float:left;background:#ee4045;padding:10px;width:300px;'></div>"
      ],
      "text/plain": [
       "<IPython.core.display.HTML object>"
      ]
     },
     "metadata": {},
     "output_type": "display_data"
    },
    {
     "name": "stdout",
     "output_type": "stream",
     "text": [
      "ground truth\n"
     ]
    },
    {
     "data": {
      "text/html": [
       "<div style='float:left;background:#c42933;padding:10px;width:300px;'></div>"
      ],
      "text/plain": [
       "<IPython.core.display.HTML object>"
      ]
     },
     "metadata": {},
     "output_type": "display_data"
    },
    {
     "name": "stdout",
     "output_type": "stream",
     "text": [
      "----------------------------\n",
      "color name :  moderatreddishorange\n",
      "generated\n"
     ]
    },
    {
     "data": {
      "text/html": [
       "<div style='float:left;background:#c76d51;padding:10px;width:300px;'></div>"
      ],
      "text/plain": [
       "<IPython.core.display.HTML object>"
      ]
     },
     "metadata": {},
     "output_type": "display_data"
    },
    {
     "name": "stdout",
     "output_type": "stream",
     "text": [
      "ground truth\n"
     ]
    },
    {
     "data": {
      "text/html": [
       "<div style='float:left;background:#da632e;padding:10px;width:300px;'></div>"
      ],
      "text/plain": [
       "<IPython.core.display.HTML object>"
      ]
     },
     "metadata": {},
     "output_type": "display_data"
    },
    {
     "name": "stdout",
     "output_type": "stream",
     "text": [
      "----------------------------\n",
      "color name :  sundered earth\n",
      "generated\n"
     ]
    },
    {
     "data": {
      "text/html": [
       "<div style='float:left;background:#833a05;padding:10px;width:300px;'></div>"
      ],
      "text/plain": [
       "<IPython.core.display.HTML object>"
      ]
     },
     "metadata": {},
     "output_type": "display_data"
    },
    {
     "name": "stdout",
     "output_type": "stream",
     "text": [
      "ground truth\n"
     ]
    },
    {
     "data": {
      "text/html": [
       "<div style='float:left;background:#a9855a;padding:10px;width:300px;'></div>"
      ],
      "text/plain": [
       "<IPython.core.display.HTML object>"
      ]
     },
     "metadata": {},
     "output_type": "display_data"
    },
    {
     "name": "stdout",
     "output_type": "stream",
     "text": [
      "----------------------------\n",
      "color name :  d s y m red\n",
      "generated\n"
     ]
    },
    {
     "data": {
      "text/html": [
       "<div style='float:left;background:#f51d0f;padding:10px;width:300px;'></div>"
      ],
      "text/plain": [
       "<IPython.core.display.HTML object>"
      ]
     },
     "metadata": {},
     "output_type": "display_data"
    },
    {
     "name": "stdout",
     "output_type": "stream",
     "text": [
      "ground truth\n"
     ]
    },
    {
     "data": {
      "text/html": [
       "<div style='float:left;background:#ba2b31;padding:10px;width:300px;'></div>"
      ],
      "text/plain": [
       "<IPython.core.display.HTML object>"
      ]
     },
     "metadata": {},
     "output_type": "display_data"
    },
    {
     "name": "stdout",
     "output_type": "stream",
     "text": [
      "----------------------------\n",
      "color name :  fired color\n",
      "generated\n"
     ]
    },
    {
     "data": {
      "text/html": [
       "<div style='float:left;background:#e20a73;padding:10px;width:300px;'></div>"
      ],
      "text/plain": [
       "<IPython.core.display.HTML object>"
      ]
     },
     "metadata": {},
     "output_type": "display_data"
    },
    {
     "name": "stdout",
     "output_type": "stream",
     "text": [
      "ground truth\n"
     ]
    },
    {
     "data": {
      "text/html": [
       "<div style='float:left;background:#ca5c42;padding:10px;width:300px;'></div>"
      ],
      "text/plain": [
       "<IPython.core.display.HTML object>"
      ]
     },
     "metadata": {},
     "output_type": "display_data"
    },
    {
     "name": "stdout",
     "output_type": "stream",
     "text": [
      "----------------------------\n",
      "color name :  miraplumred\n",
      "generated\n"
     ]
    },
    {
     "data": {
      "text/html": [
       "<div style='float:left;background:#281620;padding:10px;width:300px;'></div>"
      ],
      "text/plain": [
       "<IPython.core.display.HTML object>"
      ]
     },
     "metadata": {},
     "output_type": "display_data"
    },
    {
     "name": "stdout",
     "output_type": "stream",
     "text": [
      "ground truth\n"
     ]
    },
    {
     "data": {
      "text/html": [
       "<div style='float:left;background:#af2c36;padding:10px;width:300px;'></div>"
      ],
      "text/plain": [
       "<IPython.core.display.HTML object>"
      ]
     },
     "metadata": {},
     "output_type": "display_data"
    },
    {
     "name": "stdout",
     "output_type": "stream",
     "text": [
      "----------------------------\n",
      "color name :  martha red\n",
      "generated\n"
     ]
    },
    {
     "data": {
      "text/html": [
       "<div style='float:left;background:#d64150;padding:10px;width:300px;'></div>"
      ],
      "text/plain": [
       "<IPython.core.display.HTML object>"
      ]
     },
     "metadata": {},
     "output_type": "display_data"
    },
    {
     "name": "stdout",
     "output_type": "stream",
     "text": [
      "ground truth\n"
     ]
    },
    {
     "data": {
      "text/html": [
       "<div style='float:left;background:#c42f2d;padding:10px;width:300px;'></div>"
      ],
      "text/plain": [
       "<IPython.core.display.HTML object>"
      ]
     },
     "metadata": {},
     "output_type": "display_data"
    },
    {
     "name": "stdout",
     "output_type": "stream",
     "text": [
      "----------------------------\n",
      "color name :  salsa red\n",
      "generated\n"
     ]
    },
    {
     "data": {
      "text/html": [
       "<div style='float:left;background:#de140e;padding:10px;width:300px;'></div>"
      ],
      "text/plain": [
       "<IPython.core.display.HTML object>"
      ]
     },
     "metadata": {},
     "output_type": "display_data"
    },
    {
     "name": "stdout",
     "output_type": "stream",
     "text": [
      "ground truth\n"
     ]
    },
    {
     "data": {
      "text/html": [
       "<div style='float:left;background:#c63131;padding:10px;width:300px;'></div>"
      ],
      "text/plain": [
       "<IPython.core.display.HTML object>"
      ]
     },
     "metadata": {},
     "output_type": "display_data"
    },
    {
     "name": "stdout",
     "output_type": "stream",
     "text": [
      "----------------------------\n",
      "color name :  open eyes red mist\n",
      "generated\n"
     ]
    },
    {
     "data": {
      "text/html": [
       "<div style='float:left;background:#ac7c7c;padding:10px;width:300px;'></div>"
      ],
      "text/plain": [
       "<IPython.core.display.HTML object>"
      ]
     },
     "metadata": {},
     "output_type": "display_data"
    },
    {
     "name": "stdout",
     "output_type": "stream",
     "text": [
      "ground truth\n"
     ]
    },
    {
     "data": {
      "text/html": [
       "<div style='float:left;background:#c53839;padding:10px;width:300px;'></div>"
      ],
      "text/plain": [
       "<IPython.core.display.HTML object>"
      ]
     },
     "metadata": {},
     "output_type": "display_data"
    },
    {
     "name": "stdout",
     "output_type": "stream",
     "text": [
      "----------------------------\n",
      "color name :  not wired yet\n",
      "generated\n"
     ]
    },
    {
     "data": {
      "text/html": [
       "<div style='float:left;background:#94b3c2;padding:10px;width:300px;'></div>"
      ],
      "text/plain": [
       "<IPython.core.display.HTML object>"
      ]
     },
     "metadata": {},
     "output_type": "display_data"
    },
    {
     "name": "stdout",
     "output_type": "stream",
     "text": [
      "ground truth\n"
     ]
    },
    {
     "data": {
      "text/html": [
       "<div style='float:left;background:#a27e78;padding:10px;width:300px;'></div>"
      ],
      "text/plain": [
       "<IPython.core.display.HTML object>"
      ]
     },
     "metadata": {},
     "output_type": "display_data"
    },
    {
     "name": "stdout",
     "output_type": "stream",
     "text": [
      "----------------------------\n",
      "color name :  tile red\n",
      "generated\n"
     ]
    },
    {
     "data": {
      "text/html": [
       "<div style='float:left;background:#a11a12;padding:10px;width:300px;'></div>"
      ],
      "text/plain": [
       "<IPython.core.display.HTML object>"
      ]
     },
     "metadata": {},
     "output_type": "display_data"
    },
    {
     "name": "stdout",
     "output_type": "stream",
     "text": [
      "ground truth\n"
     ]
    },
    {
     "data": {
      "text/html": [
       "<div style='float:left;background:#c32c30;padding:10px;width:300px;'></div>"
      ],
      "text/plain": [
       "<IPython.core.display.HTML object>"
      ]
     },
     "metadata": {},
     "output_type": "display_data"
    },
    {
     "name": "stdout",
     "output_type": "stream",
     "text": [
      "----------------------------\n",
      "color name :  withered walnut\n",
      "generated\n"
     ]
    },
    {
     "data": {
      "text/html": [
       "<div style='float:left;background:#ae975b;padding:10px;width:300px;'></div>"
      ],
      "text/plain": [
       "<IPython.core.display.HTML object>"
      ]
     },
     "metadata": {},
     "output_type": "display_data"
    },
    {
     "name": "stdout",
     "output_type": "stream",
     "text": [
      "ground truth\n"
     ]
    },
    {
     "data": {
      "text/html": [
       "<div style='float:left;background:#99786e;padding:10px;width:300px;'></div>"
      ],
      "text/plain": [
       "<IPython.core.display.HTML object>"
      ]
     },
     "metadata": {},
     "output_type": "display_data"
    },
    {
     "name": "stdout",
     "output_type": "stream",
     "text": [
      "----------------------------\n",
      "color name :  bloodred rose\n",
      "generated\n"
     ]
    },
    {
     "data": {
      "text/html": [
       "<div style='float:left;background:#a0232a;padding:10px;width:300px;'></div>"
      ],
      "text/plain": [
       "<IPython.core.display.HTML object>"
      ]
     },
     "metadata": {},
     "output_type": "display_data"
    },
    {
     "name": "stdout",
     "output_type": "stream",
     "text": [
      "ground truth\n"
     ]
    },
    {
     "data": {
      "text/html": [
       "<div style='float:left;background:#ad282f;padding:10px;width:300px;'></div>"
      ],
      "text/plain": [
       "<IPython.core.display.HTML object>"
      ]
     },
     "metadata": {},
     "output_type": "display_data"
    },
    {
     "name": "stdout",
     "output_type": "stream",
     "text": [
      "----------------------------\n",
      "color name :  welltempered\n",
      "generated\n"
     ]
    },
    {
     "data": {
      "text/html": [
       "<div style='float:left;background:#eec4a1;padding:10px;width:300px;'></div>"
      ],
      "text/plain": [
       "<IPython.core.display.HTML object>"
      ]
     },
     "metadata": {},
     "output_type": "display_data"
    },
    {
     "name": "stdout",
     "output_type": "stream",
     "text": [
      "ground truth\n"
     ]
    },
    {
     "data": {
      "text/html": [
       "<div style='float:left;background:#9f6e67;padding:10px;width:300px;'></div>"
      ],
      "text/plain": [
       "<IPython.core.display.HTML object>"
      ]
     },
     "metadata": {},
     "output_type": "display_data"
    },
    {
     "name": "stdout",
     "output_type": "stream",
     "text": [
      "----------------------------\n",
      "color name :  scared to be alone\n",
      "generated\n"
     ]
    },
    {
     "data": {
      "text/html": [
       "<div style='float:left;background:#433131;padding:10px;width:300px;'></div>"
      ],
      "text/plain": [
       "<IPython.core.display.HTML object>"
      ]
     },
     "metadata": {},
     "output_type": "display_data"
    },
    {
     "name": "stdout",
     "output_type": "stream",
     "text": [
      "ground truth\n"
     ]
    },
    {
     "data": {
      "text/html": [
       "<div style='float:left;background:#a1807b;padding:10px;width:300px;'></div>"
      ],
      "text/plain": [
       "<IPython.core.display.HTML object>"
      ]
     },
     "metadata": {},
     "output_type": "display_data"
    },
    {
     "name": "stdout",
     "output_type": "stream",
     "text": [
      "----------------------------\n",
      "color name :  weathered bronze\n",
      "generated\n"
     ]
    },
    {
     "data": {
      "text/html": [
       "<div style='float:left;background:#906c4d;padding:10px;width:300px;'></div>"
      ],
      "text/plain": [
       "<IPython.core.display.HTML object>"
      ]
     },
     "metadata": {},
     "output_type": "display_data"
    },
    {
     "name": "stdout",
     "output_type": "stream",
     "text": [
      "ground truth\n"
     ]
    },
    {
     "data": {
      "text/html": [
       "<div style='float:left;background:#a07242;padding:10px;width:300px;'></div>"
      ],
      "text/plain": [
       "<IPython.core.display.HTML object>"
      ]
     },
     "metadata": {},
     "output_type": "display_data"
    },
    {
     "name": "stdout",
     "output_type": "stream",
     "text": [
      "----------------------------\n",
      "color name :  but im scared\n",
      "generated\n"
     ]
    },
    {
     "data": {
      "text/html": [
       "<div style='float:left;background:#2f355b;padding:10px;width:300px;'></div>"
      ],
      "text/plain": [
       "<IPython.core.display.HTML object>"
      ]
     },
     "metadata": {},
     "output_type": "display_data"
    },
    {
     "name": "stdout",
     "output_type": "stream",
     "text": [
      "ground truth\n"
     ]
    },
    {
     "data": {
      "text/html": [
       "<div style='float:left;background:#ad7061;padding:10px;width:300px;'></div>"
      ],
      "text/plain": [
       "<IPython.core.display.HTML object>"
      ]
     },
     "metadata": {},
     "output_type": "display_data"
    },
    {
     "name": "stdout",
     "output_type": "stream",
     "text": [
      "----------------------------\n",
      "color name :  shirleys red apc\n",
      "generated\n"
     ]
    },
    {
     "data": {
      "text/html": [
       "<div style='float:left;background:#dd1f14;padding:10px;width:300px;'></div>"
      ],
      "text/plain": [
       "<IPython.core.display.HTML object>"
      ]
     },
     "metadata": {},
     "output_type": "display_data"
    },
    {
     "name": "stdout",
     "output_type": "stream",
     "text": [
      "ground truth\n"
     ]
    },
    {
     "data": {
      "text/html": [
       "<div style='float:left;background:#b92934;padding:10px;width:300px;'></div>"
      ],
      "text/plain": [
       "<IPython.core.display.HTML object>"
      ]
     },
     "metadata": {},
     "output_type": "display_data"
    },
    {
     "name": "stdout",
     "output_type": "stream",
     "text": [
      "----------------------------\n",
      "color name :  powdered sugar\n",
      "generated\n"
     ]
    },
    {
     "data": {
      "text/html": [
       "<div style='float:left;background:#badebd;padding:10px;width:300px;'></div>"
      ],
      "text/plain": [
       "<IPython.core.display.HTML object>"
      ]
     },
     "metadata": {},
     "output_type": "display_data"
    },
    {
     "name": "stdout",
     "output_type": "stream",
     "text": [
      "ground truth\n"
     ]
    },
    {
     "data": {
      "text/html": [
       "<div style='float:left;background:#c3a89d;padding:10px;width:300px;'></div>"
      ],
      "text/plain": [
       "<IPython.core.display.HTML object>"
      ]
     },
     "metadata": {},
     "output_type": "display_data"
    },
    {
     "name": "stdout",
     "output_type": "stream",
     "text": [
      "----------------------------\n",
      "color name :  i get bored\n",
      "generated\n"
     ]
    },
    {
     "data": {
      "text/html": [
       "<div style='float:left;background:#3b3334;padding:10px;width:300px;'></div>"
      ],
      "text/plain": [
       "<IPython.core.display.HTML object>"
      ]
     },
     "metadata": {},
     "output_type": "display_data"
    },
    {
     "name": "stdout",
     "output_type": "stream",
     "text": [
      "ground truth\n"
     ]
    },
    {
     "data": {
      "text/html": [
       "<div style='float:left;background:#a38379;padding:10px;width:300px;'></div>"
      ],
      "text/plain": [
       "<IPython.core.display.HTML object>"
      ]
     },
     "metadata": {},
     "output_type": "display_data"
    },
    {
     "name": "stdout",
     "output_type": "stream",
     "text": [
      "----------------------------\n",
      "color name :  redesign\n",
      "generated\n"
     ]
    },
    {
     "data": {
      "text/html": [
       "<div style='float:left;background:#770f7b;padding:10px;width:300px;'></div>"
      ],
      "text/plain": [
       "<IPython.core.display.HTML object>"
      ]
     },
     "metadata": {},
     "output_type": "display_data"
    },
    {
     "name": "stdout",
     "output_type": "stream",
     "text": [
      "ground truth\n"
     ]
    },
    {
     "data": {
      "text/html": [
       "<div style='float:left;background:#c34335;padding:10px;width:300px;'></div>"
      ],
      "text/plain": [
       "<IPython.core.display.HTML object>"
      ]
     },
     "metadata": {},
     "output_type": "display_data"
    },
    {
     "name": "stdout",
     "output_type": "stream",
     "text": [
      "----------------------------\n",
      "color name :  lowered staff\n",
      "generated\n"
     ]
    },
    {
     "data": {
      "text/html": [
       "<div style='float:left;background:#b44e36;padding:10px;width:300px;'></div>"
      ],
      "text/plain": [
       "<IPython.core.display.HTML object>"
      ]
     },
     "metadata": {},
     "output_type": "display_data"
    },
    {
     "name": "stdout",
     "output_type": "stream",
     "text": [
      "ground truth\n"
     ]
    },
    {
     "data": {
      "text/html": [
       "<div style='float:left;background:#b17763;padding:10px;width:300px;'></div>"
      ],
      "text/plain": [
       "<IPython.core.display.HTML object>"
      ]
     },
     "metadata": {},
     "output_type": "display_data"
    },
    {
     "name": "stdout",
     "output_type": "stream",
     "text": [
      "----------------------------\n",
      "color name :  all reds\n",
      "generated\n"
     ]
    },
    {
     "data": {
      "text/html": [
       "<div style='float:left;background:#dc4a52;padding:10px;width:300px;'></div>"
      ],
      "text/plain": [
       "<IPython.core.display.HTML object>"
      ]
     },
     "metadata": {},
     "output_type": "display_data"
    },
    {
     "name": "stdout",
     "output_type": "stream",
     "text": [
      "ground truth\n"
     ]
    },
    {
     "data": {
      "text/html": [
       "<div style='float:left;background:#c53037;padding:10px;width:300px;'></div>"
      ],
      "text/plain": [
       "<IPython.core.display.HTML object>"
      ]
     },
     "metadata": {},
     "output_type": "display_data"
    },
    {
     "name": "stdout",
     "output_type": "stream",
     "text": [
      "----------------------------\n",
      "color name :  beautifully nurtured\n",
      "generated\n"
     ]
    },
    {
     "data": {
      "text/html": [
       "<div style='float:left;background:#55163d;padding:10px;width:300px;'></div>"
      ],
      "text/plain": [
       "<IPython.core.display.HTML object>"
      ]
     },
     "metadata": {},
     "output_type": "display_data"
    },
    {
     "name": "stdout",
     "output_type": "stream",
     "text": [
      "ground truth\n"
     ]
    },
    {
     "data": {
      "text/html": [
       "<div style='float:left;background:#a07c73;padding:10px;width:300px;'></div>"
      ],
      "text/plain": [
       "<IPython.core.display.HTML object>"
      ]
     },
     "metadata": {},
     "output_type": "display_data"
    },
    {
     "name": "stdout",
     "output_type": "stream",
     "text": [
      "----------------------------\n",
      "color name :  rollinpinred\n",
      "generated\n"
     ]
    },
    {
     "data": {
      "text/html": [
       "<div style='float:left;background:#ee3041;padding:10px;width:300px;'></div>"
      ],
      "text/plain": [
       "<IPython.core.display.HTML object>"
      ]
     },
     "metadata": {},
     "output_type": "display_data"
    },
    {
     "name": "stdout",
     "output_type": "stream",
     "text": [
      "ground truth\n"
     ]
    },
    {
     "data": {
      "text/html": [
       "<div style='float:left;background:#c4403e;padding:10px;width:300px;'></div>"
      ],
      "text/plain": [
       "<IPython.core.display.HTML object>"
      ]
     },
     "metadata": {},
     "output_type": "display_data"
    },
    {
     "name": "stdout",
     "output_type": "stream",
     "text": [
      "----------------------------\n",
      "color name :  jazzy red\n",
      "generated\n"
     ]
    },
    {
     "data": {
      "text/html": [
       "<div style='float:left;background:#f71c3f;padding:10px;width:300px;'></div>"
      ],
      "text/plain": [
       "<IPython.core.display.HTML object>"
      ]
     },
     "metadata": {},
     "output_type": "display_data"
    },
    {
     "name": "stdout",
     "output_type": "stream",
     "text": [
      "ground truth\n"
     ]
    },
    {
     "data": {
      "text/html": [
       "<div style='float:left;background:#c22930;padding:10px;width:300px;'></div>"
      ],
      "text/plain": [
       "<IPython.core.display.HTML object>"
      ]
     },
     "metadata": {},
     "output_type": "display_data"
    },
    {
     "name": "stdout",
     "output_type": "stream",
     "text": [
      "----------------------------\n",
      "color name :  beetred\n",
      "generated\n"
     ]
    },
    {
     "data": {
      "text/html": [
       "<div style='float:left;background:#820050;padding:10px;width:300px;'></div>"
      ],
      "text/plain": [
       "<IPython.core.display.HTML object>"
      ]
     },
     "metadata": {},
     "output_type": "display_data"
    },
    {
     "name": "stdout",
     "output_type": "stream",
     "text": [
      "ground truth\n"
     ]
    },
    {
     "data": {
      "text/html": [
       "<div style='float:left;background:#c02f37;padding:10px;width:300px;'></div>"
      ],
      "text/plain": [
       "<IPython.core.display.HTML object>"
      ]
     },
     "metadata": {},
     "output_type": "display_data"
    },
    {
     "name": "stdout",
     "output_type": "stream",
     "text": [
      "----------------------------\n",
      "color name :  erydian red alert\n",
      "generated\n"
     ]
    },
    {
     "data": {
      "text/html": [
       "<div style='float:left;background:#fa000c;padding:10px;width:300px;'></div>"
      ],
      "text/plain": [
       "<IPython.core.display.HTML object>"
      ]
     },
     "metadata": {},
     "output_type": "display_data"
    },
    {
     "name": "stdout",
     "output_type": "stream",
     "text": [
      "ground truth\n"
     ]
    },
    {
     "data": {
      "text/html": [
       "<div style='float:left;background:#c32e35;padding:10px;width:300px;'></div>"
      ],
      "text/plain": [
       "<IPython.core.display.HTML object>"
      ]
     },
     "metadata": {},
     "output_type": "display_data"
    },
    {
     "name": "stdout",
     "output_type": "stream",
     "text": [
      "----------------------------\n",
      "color name :  filtered red\n",
      "generated\n"
     ]
    },
    {
     "data": {
      "text/html": [
       "<div style='float:left;background:#ef2d3e;padding:10px;width:300px;'></div>"
      ],
      "text/plain": [
       "<IPython.core.display.HTML object>"
      ]
     },
     "metadata": {},
     "output_type": "display_data"
    },
    {
     "name": "stdout",
     "output_type": "stream",
     "text": [
      "ground truth\n"
     ]
    },
    {
     "data": {
      "text/html": [
       "<div style='float:left;background:#c22d2f;padding:10px;width:300px;'></div>"
      ],
      "text/plain": [
       "<IPython.core.display.HTML object>"
      ]
     },
     "metadata": {},
     "output_type": "display_data"
    },
    {
     "name": "stdout",
     "output_type": "stream",
     "text": [
      "----------------------------\n",
      "color name :  oystered\n",
      "generated\n"
     ]
    },
    {
     "data": {
      "text/html": [
       "<div style='float:left;background:#999853;padding:10px;width:300px;'></div>"
      ],
      "text/plain": [
       "<IPython.core.display.HTML object>"
      ]
     },
     "metadata": {},
     "output_type": "display_data"
    },
    {
     "name": "stdout",
     "output_type": "stream",
     "text": [
      "ground truth\n"
     ]
    },
    {
     "data": {
      "text/html": [
       "<div style='float:left;background:#977d75;padding:10px;width:300px;'></div>"
      ],
      "text/plain": [
       "<IPython.core.display.HTML object>"
      ]
     },
     "metadata": {},
     "output_type": "display_data"
    },
    {
     "name": "stdout",
     "output_type": "stream",
     "text": [
      "----------------------------\n",
      "color name :  slut red raspberries\n",
      "generated\n"
     ]
    },
    {
     "data": {
      "text/html": [
       "<div style='float:left;background:#c51c52;padding:10px;width:300px;'></div>"
      ],
      "text/plain": [
       "<IPython.core.display.HTML object>"
      ]
     },
     "metadata": {},
     "output_type": "display_data"
    },
    {
     "name": "stdout",
     "output_type": "stream",
     "text": [
      "ground truth\n"
     ]
    },
    {
     "data": {
      "text/html": [
       "<div style='float:left;background:#bd2f40;padding:10px;width:300px;'></div>"
      ],
      "text/plain": [
       "<IPython.core.display.HTML object>"
      ]
     },
     "metadata": {},
     "output_type": "display_data"
    },
    {
     "name": "stdout",
     "output_type": "stream",
     "text": [
      "----------------------------\n",
      "color name :  red in tooth  claw\n",
      "generated\n"
     ]
    },
    {
     "data": {
      "text/html": [
       "<div style='float:left;background:#dd3103;padding:10px;width:300px;'></div>"
      ],
      "text/plain": [
       "<IPython.core.display.HTML object>"
      ]
     },
     "metadata": {},
     "output_type": "display_data"
    },
    {
     "name": "stdout",
     "output_type": "stream",
     "text": [
      "ground truth\n"
     ]
    },
    {
     "data": {
      "text/html": [
       "<div style='float:left;background:#d0443e;padding:10px;width:300px;'></div>"
      ],
      "text/plain": [
       "<IPython.core.display.HTML object>"
      ]
     },
     "metadata": {},
     "output_type": "display_data"
    },
    {
     "name": "stdout",
     "output_type": "stream",
     "text": [
      "----------------------------\n",
      "color name :  red johnny b\n",
      "generated\n"
     ]
    },
    {
     "data": {
      "text/html": [
       "<div style='float:left;background:#ef0435;padding:10px;width:300px;'></div>"
      ],
      "text/plain": [
       "<IPython.core.display.HTML object>"
      ]
     },
     "metadata": {},
     "output_type": "display_data"
    },
    {
     "name": "stdout",
     "output_type": "stream",
     "text": [
      "ground truth\n"
     ]
    },
    {
     "data": {
      "text/html": [
       "<div style='float:left;background:#c22d33;padding:10px;width:300px;'></div>"
      ],
      "text/plain": [
       "<IPython.core.display.HTML object>"
      ]
     },
     "metadata": {},
     "output_type": "display_data"
    },
    {
     "name": "stdout",
     "output_type": "stream",
     "text": [
      "----------------------------\n",
      "color name :  tarred liquid\n",
      "generated\n"
     ]
    },
    {
     "data": {
      "text/html": [
       "<div style='float:left;background:#31b1a2;padding:10px;width:300px;'></div>"
      ],
      "text/plain": [
       "<IPython.core.display.HTML object>"
      ]
     },
     "metadata": {},
     "output_type": "display_data"
    },
    {
     "name": "stdout",
     "output_type": "stream",
     "text": [
      "ground truth\n"
     ]
    },
    {
     "data": {
      "text/html": [
       "<div style='float:left;background:#a38a72;padding:10px;width:300px;'></div>"
      ],
      "text/plain": [
       "<IPython.core.display.HTML object>"
      ]
     },
     "metadata": {},
     "output_type": "display_data"
    },
    {
     "name": "stdout",
     "output_type": "stream",
     "text": [
      "----------------------------\n",
      "color name :  red in the dark\n",
      "generated\n"
     ]
    },
    {
     "data": {
      "text/html": [
       "<div style='float:left;background:#5b0014;padding:10px;width:300px;'></div>"
      ],
      "text/plain": [
       "<IPython.core.display.HTML object>"
      ]
     },
     "metadata": {},
     "output_type": "display_data"
    },
    {
     "name": "stdout",
     "output_type": "stream",
     "text": [
      "ground truth\n"
     ]
    },
    {
     "data": {
      "text/html": [
       "<div style='float:left;background:#851c1b;padding:10px;width:300px;'></div>"
      ],
      "text/plain": [
       "<IPython.core.display.HTML object>"
      ]
     },
     "metadata": {},
     "output_type": "display_data"
    },
    {
     "name": "stdout",
     "output_type": "stream",
     "text": [
      "----------------------------\n",
      "color name :  silvered blue\n",
      "generated\n"
     ]
    },
    {
     "data": {
      "text/html": [
       "<div style='float:left;background:#a0a8ab;padding:10px;width:300px;'></div>"
      ],
      "text/plain": [
       "<IPython.core.display.HTML object>"
      ]
     },
     "metadata": {},
     "output_type": "display_data"
    },
    {
     "name": "stdout",
     "output_type": "stream",
     "text": [
      "ground truth\n"
     ]
    },
    {
     "data": {
      "text/html": [
       "<div style='float:left;background:#97b1ce;padding:10px;width:300px;'></div>"
      ],
      "text/plain": [
       "<IPython.core.display.HTML object>"
      ]
     },
     "metadata": {},
     "output_type": "display_data"
    },
    {
     "name": "stdout",
     "output_type": "stream",
     "text": [
      "----------------------------\n",
      "color name :  shared coffee\n",
      "generated\n"
     ]
    },
    {
     "data": {
      "text/html": [
       "<div style='float:left;background:#ebe6a7;padding:10px;width:300px;'></div>"
      ],
      "text/plain": [
       "<IPython.core.display.HTML object>"
      ]
     },
     "metadata": {},
     "output_type": "display_data"
    },
    {
     "name": "stdout",
     "output_type": "stream",
     "text": [
      "ground truth\n"
     ]
    },
    {
     "data": {
      "text/html": [
       "<div style='float:left;background:#94694f;padding:10px;width:300px;'></div>"
      ],
      "text/plain": [
       "<IPython.core.display.HTML object>"
      ]
     },
     "metadata": {},
     "output_type": "display_data"
    },
    {
     "name": "stdout",
     "output_type": "stream",
     "text": [
      "----------------------------\n",
      "color name :  little bored\n",
      "generated\n"
     ]
    },
    {
     "data": {
      "text/html": [
       "<div style='float:left;background:#f8c7c0;padding:10px;width:300px;'></div>"
      ],
      "text/plain": [
       "<IPython.core.display.HTML object>"
      ]
     },
     "metadata": {},
     "output_type": "display_data"
    },
    {
     "name": "stdout",
     "output_type": "stream",
     "text": [
      "ground truth\n"
     ]
    },
    {
     "data": {
      "text/html": [
       "<div style='float:left;background:#ad8776;padding:10px;width:300px;'></div>"
      ],
      "text/plain": [
       "<IPython.core.display.HTML object>"
      ]
     },
     "metadata": {},
     "output_type": "display_data"
    },
    {
     "name": "stdout",
     "output_type": "stream",
     "text": [
      "----------------------------\n",
      "color name :  likelycolored\n",
      "generated\n"
     ]
    },
    {
     "data": {
      "text/html": [
       "<div style='float:left;background:#4f5b68;padding:10px;width:300px;'></div>"
      ],
      "text/plain": [
       "<IPython.core.display.HTML object>"
      ]
     },
     "metadata": {},
     "output_type": "display_data"
    },
    {
     "name": "stdout",
     "output_type": "stream",
     "text": [
      "ground truth\n"
     ]
    },
    {
     "data": {
      "text/html": [
       "<div style='float:left;background:#c46855;padding:10px;width:300px;'></div>"
      ],
      "text/plain": [
       "<IPython.core.display.HTML object>"
      ]
     },
     "metadata": {},
     "output_type": "display_data"
    },
    {
     "name": "stdout",
     "output_type": "stream",
     "text": [
      "----------------------------\n",
      "color name :  red alert\n",
      "generated\n"
     ]
    },
    {
     "data": {
      "text/html": [
       "<div style='float:left;background:#db0015;padding:10px;width:300px;'></div>"
      ],
      "text/plain": [
       "<IPython.core.display.HTML object>"
      ]
     },
     "metadata": {},
     "output_type": "display_data"
    },
    {
     "name": "stdout",
     "output_type": "stream",
     "text": [
      "ground truth\n"
     ]
    },
    {
     "data": {
      "text/html": [
       "<div style='float:left;background:#bf292a;padding:10px;width:300px;'></div>"
      ],
      "text/plain": [
       "<IPython.core.display.HTML object>"
      ]
     },
     "metadata": {},
     "output_type": "display_data"
    },
    {
     "name": "stdout",
     "output_type": "stream",
     "text": [
      "----------------------------\n",
      "color name :  red pitch not black\n",
      "generated\n"
     ]
    },
    {
     "data": {
      "text/html": [
       "<div style='float:left;background:#452928;padding:10px;width:300px;'></div>"
      ],
      "text/plain": [
       "<IPython.core.display.HTML object>"
      ]
     },
     "metadata": {},
     "output_type": "display_data"
    },
    {
     "name": "stdout",
     "output_type": "stream",
     "text": [
      "ground truth\n"
     ]
    },
    {
     "data": {
      "text/html": [
       "<div style='float:left;background:#581c13;padding:10px;width:300px;'></div>"
      ],
      "text/plain": [
       "<IPython.core.display.HTML object>"
      ]
     },
     "metadata": {},
     "output_type": "display_data"
    },
    {
     "name": "stdout",
     "output_type": "stream",
     "text": [
      "----------------------------\n",
      "color name :  red calabash\n",
      "generated\n"
     ]
    },
    {
     "data": {
      "text/html": [
       "<div style='float:left;background:#72193d;padding:10px;width:300px;'></div>"
      ],
      "text/plain": [
       "<IPython.core.display.HTML object>"
      ]
     },
     "metadata": {},
     "output_type": "display_data"
    },
    {
     "name": "stdout",
     "output_type": "stream",
     "text": [
      "ground truth\n"
     ]
    },
    {
     "data": {
      "text/html": [
       "<div style='float:left;background:#d1443b;padding:10px;width:300px;'></div>"
      ],
      "text/plain": [
       "<IPython.core.display.HTML object>"
      ]
     },
     "metadata": {},
     "output_type": "display_data"
    },
    {
     "name": "stdout",
     "output_type": "stream",
     "text": [
      "----------------------------\n",
      "color name :  red my mind\n",
      "generated\n"
     ]
    },
    {
     "data": {
      "text/html": [
       "<div style='float:left;background:#e59573;padding:10px;width:300px;'></div>"
      ],
      "text/plain": [
       "<IPython.core.display.HTML object>"
      ]
     },
     "metadata": {},
     "output_type": "display_data"
    },
    {
     "name": "stdout",
     "output_type": "stream",
     "text": [
      "ground truth\n"
     ]
    },
    {
     "data": {
      "text/html": [
       "<div style='float:left;background:#c53735;padding:10px;width:300px;'></div>"
      ],
      "text/plain": [
       "<IPython.core.display.HTML object>"
      ]
     },
     "metadata": {},
     "output_type": "display_data"
    },
    {
     "name": "stdout",
     "output_type": "stream",
     "text": [
      "----------------------------\n",
      "color name :  ragin cajunred\n",
      "generated\n"
     ]
    },
    {
     "data": {
      "text/html": [
       "<div style='float:left;background:#f3031c;padding:10px;width:300px;'></div>"
      ],
      "text/plain": [
       "<IPython.core.display.HTML object>"
      ]
     },
     "metadata": {},
     "output_type": "display_data"
    },
    {
     "name": "stdout",
     "output_type": "stream",
     "text": [
      "ground truth\n"
     ]
    },
    {
     "data": {
      "text/html": [
       "<div style='float:left;background:#cb3e34;padding:10px;width:300px;'></div>"
      ],
      "text/plain": [
       "<IPython.core.display.HTML object>"
      ]
     },
     "metadata": {},
     "output_type": "display_data"
    },
    {
     "name": "stdout",
     "output_type": "stream",
     "text": [
      "----------------------------\n",
      "color name :  dark red coat\n",
      "generated\n"
     ]
    },
    {
     "data": {
      "text/html": [
       "<div style='float:left;background:#991f29;padding:10px;width:300px;'></div>"
      ],
      "text/plain": [
       "<IPython.core.display.HTML object>"
      ]
     },
     "metadata": {},
     "output_type": "display_data"
    },
    {
     "name": "stdout",
     "output_type": "stream",
     "text": [
      "ground truth\n"
     ]
    },
    {
     "data": {
      "text/html": [
       "<div style='float:left;background:#6c1a18;padding:10px;width:300px;'></div>"
      ],
      "text/plain": [
       "<IPython.core.display.HTML object>"
      ]
     },
     "metadata": {},
     "output_type": "display_data"
    },
    {
     "name": "stdout",
     "output_type": "stream",
     "text": [
      "----------------------------\n",
      "color name :  red festival\n",
      "generated\n"
     ]
    },
    {
     "data": {
      "text/html": [
       "<div style='float:left;background:#793236;padding:10px;width:300px;'></div>"
      ],
      "text/plain": [
       "<IPython.core.display.HTML object>"
      ]
     },
     "metadata": {},
     "output_type": "display_data"
    },
    {
     "name": "stdout",
     "output_type": "stream",
     "text": [
      "ground truth\n"
     ]
    },
    {
     "data": {
      "text/html": [
       "<div style='float:left;background:#c22d2d;padding:10px;width:300px;'></div>"
      ],
      "text/plain": [
       "<IPython.core.display.HTML object>"
      ]
     },
     "metadata": {},
     "output_type": "display_data"
    },
    {
     "name": "stdout",
     "output_type": "stream",
     "text": [
      "----------------------------\n",
      "color name :  chinese red\n",
      "generated\n"
     ]
    },
    {
     "data": {
      "text/html": [
       "<div style='float:left;background:#b3372c;padding:10px;width:300px;'></div>"
      ],
      "text/plain": [
       "<IPython.core.display.HTML object>"
      ]
     },
     "metadata": {},
     "output_type": "display_data"
    },
    {
     "name": "stdout",
     "output_type": "stream",
     "text": [
      "ground truth\n"
     ]
    },
    {
     "data": {
      "text/html": [
       "<div style='float:left;background:#bf2830;padding:10px;width:300px;'></div>"
      ],
      "text/plain": [
       "<IPython.core.display.HTML object>"
      ]
     },
     "metadata": {},
     "output_type": "display_data"
    },
    {
     "name": "stdout",
     "output_type": "stream",
     "text": [
      "----------------------------\n",
      "color name :  energetic or bored\n",
      "generated\n"
     ]
    },
    {
     "data": {
      "text/html": [
       "<div style='float:left;background:#b6d500;padding:10px;width:300px;'></div>"
      ],
      "text/plain": [
       "<IPython.core.display.HTML object>"
      ]
     },
     "metadata": {},
     "output_type": "display_data"
    },
    {
     "name": "stdout",
     "output_type": "stream",
     "text": [
      "ground truth\n"
     ]
    },
    {
     "data": {
      "text/html": [
       "<div style='float:left;background:#ad7365;padding:10px;width:300px;'></div>"
      ],
      "text/plain": [
       "<IPython.core.display.HTML object>"
      ]
     },
     "metadata": {},
     "output_type": "display_data"
    },
    {
     "name": "stdout",
     "output_type": "stream",
     "text": [
      "----------------------------\n",
      "color name :  weathered stone\n",
      "generated\n"
     ]
    },
    {
     "data": {
      "text/html": [
       "<div style='float:left;background:#aacdb2;padding:10px;width:300px;'></div>"
      ],
      "text/plain": [
       "<IPython.core.display.HTML object>"
      ]
     },
     "metadata": {},
     "output_type": "display_data"
    },
    {
     "name": "stdout",
     "output_type": "stream",
     "text": [
      "ground truth\n"
     ]
    },
    {
     "data": {
      "text/html": [
       "<div style='float:left;background:#9e8d85;padding:10px;width:300px;'></div>"
      ],
      "text/plain": [
       "<IPython.core.display.HTML object>"
      ]
     },
     "metadata": {},
     "output_type": "display_data"
    },
    {
     "name": "stdout",
     "output_type": "stream",
     "text": [
      "----------------------------\n",
      "color name :  down down red\n",
      "generated\n"
     ]
    },
    {
     "data": {
      "text/html": [
       "<div style='float:left;background:#a90a0e;padding:10px;width:300px;'></div>"
      ],
      "text/plain": [
       "<IPython.core.display.HTML object>"
      ]
     },
     "metadata": {},
     "output_type": "display_data"
    },
    {
     "name": "stdout",
     "output_type": "stream",
     "text": [
      "ground truth\n"
     ]
    },
    {
     "data": {
      "text/html": [
       "<div style='float:left;background:#b82c31;padding:10px;width:300px;'></div>"
      ],
      "text/plain": [
       "<IPython.core.display.HTML object>"
      ]
     },
     "metadata": {},
     "output_type": "display_data"
    },
    {
     "name": "stdout",
     "output_type": "stream",
     "text": [
      "----------------------------\n",
      "color name :  red gem\n",
      "generated\n"
     ]
    },
    {
     "data": {
      "text/html": [
       "<div style='float:left;background:#b7003a;padding:10px;width:300px;'></div>"
      ],
      "text/plain": [
       "<IPython.core.display.HTML object>"
      ]
     },
     "metadata": {},
     "output_type": "display_data"
    },
    {
     "name": "stdout",
     "output_type": "stream",
     "text": [
      "ground truth\n"
     ]
    },
    {
     "data": {
      "text/html": [
       "<div style='float:left;background:#c43334;padding:10px;width:300px;'></div>"
      ],
      "text/plain": [
       "<IPython.core.display.HTML object>"
      ]
     },
     "metadata": {},
     "output_type": "display_data"
    },
    {
     "name": "stdout",
     "output_type": "stream",
     "text": [
      "----------------------------\n",
      "color name :  angry red button\n",
      "generated\n"
     ]
    },
    {
     "data": {
      "text/html": [
       "<div style='float:left;background:#fc2f76;padding:10px;width:300px;'></div>"
      ],
      "text/plain": [
       "<IPython.core.display.HTML object>"
      ]
     },
     "metadata": {},
     "output_type": "display_data"
    },
    {
     "name": "stdout",
     "output_type": "stream",
     "text": [
      "ground truth\n"
     ]
    },
    {
     "data": {
      "text/html": [
       "<div style='float:left;background:#c53335;padding:10px;width:300px;'></div>"
      ],
      "text/plain": [
       "<IPython.core.display.HTML object>"
      ]
     },
     "metadata": {},
     "output_type": "display_data"
    },
    {
     "name": "stdout",
     "output_type": "stream",
     "text": [
      "----------------------------\n",
      "color name :  twelve hundred\n",
      "generated\n"
     ]
    },
    {
     "data": {
      "text/html": [
       "<div style='float:left;background:#c4cdc2;padding:10px;width:300px;'></div>"
      ],
      "text/plain": [
       "<IPython.core.display.HTML object>"
      ]
     },
     "metadata": {},
     "output_type": "display_data"
    },
    {
     "name": "stdout",
     "output_type": "stream",
     "text": [
      "ground truth\n"
     ]
    },
    {
     "data": {
      "text/html": [
       "<div style='float:left;background:#8f645b;padding:10px;width:300px;'></div>"
      ],
      "text/plain": [
       "<IPython.core.display.HTML object>"
      ]
     },
     "metadata": {},
     "output_type": "display_data"
    },
    {
     "name": "stdout",
     "output_type": "stream",
     "text": [
      "----------------------------\n",
      "color name :  calm velvet red\n",
      "generated\n"
     ]
    },
    {
     "data": {
      "text/html": [
       "<div style='float:left;background:#c6524d;padding:10px;width:300px;'></div>"
      ],
      "text/plain": [
       "<IPython.core.display.HTML object>"
      ]
     },
     "metadata": {},
     "output_type": "display_data"
    },
    {
     "name": "stdout",
     "output_type": "stream",
     "text": [
      "ground truth\n"
     ]
    },
    {
     "data": {
      "text/html": [
       "<div style='float:left;background:#a8222e;padding:10px;width:300px;'></div>"
      ],
      "text/plain": [
       "<IPython.core.display.HTML object>"
      ]
     },
     "metadata": {},
     "output_type": "display_data"
    },
    {
     "name": "stdout",
     "output_type": "stream",
     "text": [
      "----------------------------\n",
      "color name :  ruddy red\n",
      "generated\n"
     ]
    },
    {
     "data": {
      "text/html": [
       "<div style='float:left;background:#d40239;padding:10px;width:300px;'></div>"
      ],
      "text/plain": [
       "<IPython.core.display.HTML object>"
      ]
     },
     "metadata": {},
     "output_type": "display_data"
    },
    {
     "name": "stdout",
     "output_type": "stream",
     "text": [
      "ground truth\n"
     ]
    },
    {
     "data": {
      "text/html": [
       "<div style='float:left;background:#aa2225;padding:10px;width:300px;'></div>"
      ],
      "text/plain": [
       "<IPython.core.display.HTML object>"
      ]
     },
     "metadata": {},
     "output_type": "display_data"
    },
    {
     "name": "stdout",
     "output_type": "stream",
     "text": [
      "----------------------------\n",
      "color name :  mrichas brick red\n",
      "generated\n"
     ]
    },
    {
     "data": {
      "text/html": [
       "<div style='float:left;background:#d33f4d;padding:10px;width:300px;'></div>"
      ],
      "text/plain": [
       "<IPython.core.display.HTML object>"
      ]
     },
     "metadata": {},
     "output_type": "display_data"
    },
    {
     "name": "stdout",
     "output_type": "stream",
     "text": [
      "ground truth\n"
     ]
    },
    {
     "data": {
      "text/html": [
       "<div style='float:left;background:#a82329;padding:10px;width:300px;'></div>"
      ],
      "text/plain": [
       "<IPython.core.display.HTML object>"
      ]
     },
     "metadata": {},
     "output_type": "display_data"
    },
    {
     "name": "stdout",
     "output_type": "stream",
     "text": [
      "----------------------------\n",
      "color name :  little red dress\n",
      "generated\n"
     ]
    },
    {
     "data": {
      "text/html": [
       "<div style='float:left;background:#cb1b2c;padding:10px;width:300px;'></div>"
      ],
      "text/plain": [
       "<IPython.core.display.HTML object>"
      ]
     },
     "metadata": {},
     "output_type": "display_data"
    },
    {
     "name": "stdout",
     "output_type": "stream",
     "text": [
      "ground truth\n"
     ]
    },
    {
     "data": {
      "text/html": [
       "<div style='float:left;background:#c93a39;padding:10px;width:300px;'></div>"
      ],
      "text/plain": [
       "<IPython.core.display.HTML object>"
      ]
     },
     "metadata": {},
     "output_type": "display_data"
    },
    {
     "name": "stdout",
     "output_type": "stream",
     "text": [
      "----------------------------\n",
      "color name :  re re reddd\n",
      "generated\n"
     ]
    },
    {
     "data": {
      "text/html": [
       "<div style='float:left;background:#a91c1e;padding:10px;width:300px;'></div>"
      ],
      "text/plain": [
       "<IPython.core.display.HTML object>"
      ]
     },
     "metadata": {},
     "output_type": "display_data"
    },
    {
     "name": "stdout",
     "output_type": "stream",
     "text": [
      "ground truth\n"
     ]
    },
    {
     "data": {
      "text/html": [
       "<div style='float:left;background:#c7302f;padding:10px;width:300px;'></div>"
      ],
      "text/plain": [
       "<IPython.core.display.HTML object>"
      ]
     },
     "metadata": {},
     "output_type": "display_data"
    },
    {
     "name": "stdout",
     "output_type": "stream",
     "text": [
      "----------------------------\n",
      "color name :  rose red \n",
      "generated\n"
     ]
    },
    {
     "data": {
      "text/html": [
       "<div style='float:left;background:#463536;padding:10px;width:300px;'></div>"
      ],
      "text/plain": [
       "<IPython.core.display.HTML object>"
      ]
     },
     "metadata": {},
     "output_type": "display_data"
    },
    {
     "name": "stdout",
     "output_type": "stream",
     "text": [
      "ground truth\n"
     ]
    },
    {
     "data": {
      "text/html": [
       "<div style='float:left;background:#cb3339;padding:10px;width:300px;'></div>"
      ],
      "text/plain": [
       "<IPython.core.display.HTML object>"
      ]
     },
     "metadata": {},
     "output_type": "display_data"
    },
    {
     "name": "stdout",
     "output_type": "stream",
     "text": [
      "----------------------------\n",
      "color name :  anotherdarkred\n",
      "generated\n"
     ]
    },
    {
     "data": {
      "text/html": [
       "<div style='float:left;background:#620e21;padding:10px;width:300px;'></div>"
      ],
      "text/plain": [
       "<IPython.core.display.HTML object>"
      ]
     },
     "metadata": {},
     "output_type": "display_data"
    },
    {
     "name": "stdout",
     "output_type": "stream",
     "text": [
      "ground truth\n"
     ]
    },
    {
     "data": {
      "text/html": [
       "<div style='float:left;background:#a6262a;padding:10px;width:300px;'></div>"
      ],
      "text/plain": [
       "<IPython.core.display.HTML object>"
      ]
     },
     "metadata": {},
     "output_type": "display_data"
    },
    {
     "name": "stdout",
     "output_type": "stream",
     "text": [
      "----------------------------\n",
      "color name :  a familiar red\n",
      "generated\n"
     ]
    },
    {
     "data": {
      "text/html": [
       "<div style='float:left;background:#cb002a;padding:10px;width:300px;'></div>"
      ],
      "text/plain": [
       "<IPython.core.display.HTML object>"
      ]
     },
     "metadata": {},
     "output_type": "display_data"
    },
    {
     "name": "stdout",
     "output_type": "stream",
     "text": [
      "ground truth\n"
     ]
    },
    {
     "data": {
      "text/html": [
       "<div style='float:left;background:#ca3033;padding:10px;width:300px;'></div>"
      ],
      "text/plain": [
       "<IPython.core.display.HTML object>"
      ]
     },
     "metadata": {},
     "output_type": "display_data"
    },
    {
     "name": "stdout",
     "output_type": "stream",
     "text": [
      "----------------------------\n",
      "color name :  desert boredom\n",
      "generated\n"
     ]
    },
    {
     "data": {
      "text/html": [
       "<div style='float:left;background:#bf8376;padding:10px;width:300px;'></div>"
      ],
      "text/plain": [
       "<IPython.core.display.HTML object>"
      ]
     },
     "metadata": {},
     "output_type": "display_data"
    },
    {
     "name": "stdout",
     "output_type": "stream",
     "text": [
      "ground truth\n"
     ]
    },
    {
     "data": {
      "text/html": [
       "<div style='float:left;background:#a68979;padding:10px;width:300px;'></div>"
      ],
      "text/plain": [
       "<IPython.core.display.HTML object>"
      ]
     },
     "metadata": {},
     "output_type": "display_data"
    },
    {
     "name": "stdout",
     "output_type": "stream",
     "text": [
      "----------------------------\n",
      "color name :  relentless red\n",
      "generated\n"
     ]
    },
    {
     "data": {
      "text/html": [
       "<div style='float:left;background:#c33b11;padding:10px;width:300px;'></div>"
      ],
      "text/plain": [
       "<IPython.core.display.HTML object>"
      ]
     },
     "metadata": {},
     "output_type": "display_data"
    },
    {
     "name": "stdout",
     "output_type": "stream",
     "text": [
      "ground truth\n"
     ]
    },
    {
     "data": {
      "text/html": [
       "<div style='float:left;background:#c52b31;padding:10px;width:300px;'></div>"
      ],
      "text/plain": [
       "<IPython.core.display.HTML object>"
      ]
     },
     "metadata": {},
     "output_type": "display_data"
    },
    {
     "name": "stdout",
     "output_type": "stream",
     "text": [
      "----------------------------\n",
      "color name :  red molasses\n",
      "generated\n"
     ]
    },
    {
     "data": {
      "text/html": [
       "<div style='float:left;background:#6a2f00;padding:10px;width:300px;'></div>"
      ],
      "text/plain": [
       "<IPython.core.display.HTML object>"
      ]
     },
     "metadata": {},
     "output_type": "display_data"
    },
    {
     "name": "stdout",
     "output_type": "stream",
     "text": [
      "ground truth\n"
     ]
    },
    {
     "data": {
      "text/html": [
       "<div style='float:left;background:#bf3634;padding:10px;width:300px;'></div>"
      ],
      "text/plain": [
       "<IPython.core.display.HTML object>"
      ]
     },
     "metadata": {},
     "output_type": "display_data"
    },
    {
     "name": "stdout",
     "output_type": "stream",
     "text": [
      "----------------------------\n",
      "color name :  republic red\n",
      "generated\n"
     ]
    },
    {
     "data": {
      "text/html": [
       "<div style='float:left;background:#ae271b;padding:10px;width:300px;'></div>"
      ],
      "text/plain": [
       "<IPython.core.display.HTML object>"
      ]
     },
     "metadata": {},
     "output_type": "display_data"
    },
    {
     "name": "stdout",
     "output_type": "stream",
     "text": [
      "ground truth\n"
     ]
    },
    {
     "data": {
      "text/html": [
       "<div style='float:left;background:#c82e30;padding:10px;width:300px;'></div>"
      ],
      "text/plain": [
       "<IPython.core.display.HTML object>"
      ]
     },
     "metadata": {},
     "output_type": "display_data"
    },
    {
     "name": "stdout",
     "output_type": "stream",
     "text": [
      "----------------------------\n",
      "color name :  smokey red\n",
      "generated\n"
     ]
    },
    {
     "data": {
      "text/html": [
       "<div style='float:left;background:#a62f1f;padding:10px;width:300px;'></div>"
      ],
      "text/plain": [
       "<IPython.core.display.HTML object>"
      ]
     },
     "metadata": {},
     "output_type": "display_data"
    },
    {
     "name": "stdout",
     "output_type": "stream",
     "text": [
      "ground truth\n"
     ]
    },
    {
     "data": {
      "text/html": [
       "<div style='float:left;background:#bf3939;padding:10px;width:300px;'></div>"
      ],
      "text/plain": [
       "<IPython.core.display.HTML object>"
      ]
     },
     "metadata": {},
     "output_type": "display_data"
    },
    {
     "name": "stdout",
     "output_type": "stream",
     "text": [
      "----------------------------\n",
      "color name :  floral red\n",
      "generated\n"
     ]
    },
    {
     "data": {
      "text/html": [
       "<div style='float:left;background:#6e2531;padding:10px;width:300px;'></div>"
      ],
      "text/plain": [
       "<IPython.core.display.HTML object>"
      ]
     },
     "metadata": {},
     "output_type": "display_data"
    },
    {
     "name": "stdout",
     "output_type": "stream",
     "text": [
      "ground truth\n"
     ]
    },
    {
     "data": {
      "text/html": [
       "<div style='float:left;background:#cc3134;padding:10px;width:300px;'></div>"
      ],
      "text/plain": [
       "<IPython.core.display.HTML object>"
      ]
     },
     "metadata": {},
     "output_type": "display_data"
    },
    {
     "name": "stdout",
     "output_type": "stream",
     "text": [
      "----------------------------\n",
      "color name :  soulflavored music\n",
      "generated\n"
     ]
    },
    {
     "data": {
      "text/html": [
       "<div style='float:left;background:#d7b8f3;padding:10px;width:300px;'></div>"
      ],
      "text/plain": [
       "<IPython.core.display.HTML object>"
      ]
     },
     "metadata": {},
     "output_type": "display_data"
    },
    {
     "name": "stdout",
     "output_type": "stream",
     "text": [
      "ground truth\n"
     ]
    },
    {
     "data": {
      "text/html": [
       "<div style='float:left;background:#a3867a;padding:10px;width:300px;'></div>"
      ],
      "text/plain": [
       "<IPython.core.display.HTML object>"
      ]
     },
     "metadata": {},
     "output_type": "display_data"
    },
    {
     "name": "stdout",
     "output_type": "stream",
     "text": [
      "----------------------------\n",
      "color name :  red kit\n",
      "generated\n"
     ]
    },
    {
     "data": {
      "text/html": [
       "<div style='float:left;background:#db0004;padding:10px;width:300px;'></div>"
      ],
      "text/plain": [
       "<IPython.core.display.HTML object>"
      ]
     },
     "metadata": {},
     "output_type": "display_data"
    },
    {
     "name": "stdout",
     "output_type": "stream",
     "text": [
      "ground truth\n"
     ]
    },
    {
     "data": {
      "text/html": [
       "<div style='float:left;background:#c33330;padding:10px;width:300px;'></div>"
      ],
      "text/plain": [
       "<IPython.core.display.HTML object>"
      ]
     },
     "metadata": {},
     "output_type": "display_data"
    },
    {
     "name": "stdout",
     "output_type": "stream",
     "text": [
      "----------------------------\n",
      "color name :  soft red rings\n",
      "generated\n"
     ]
    },
    {
     "data": {
      "text/html": [
       "<div style='float:left;background:#ed8167;padding:10px;width:300px;'></div>"
      ],
      "text/plain": [
       "<IPython.core.display.HTML object>"
      ]
     },
     "metadata": {},
     "output_type": "display_data"
    },
    {
     "name": "stdout",
     "output_type": "stream",
     "text": [
      "ground truth\n"
     ]
    },
    {
     "data": {
      "text/html": [
       "<div style='float:left;background:#d15350;padding:10px;width:300px;'></div>"
      ],
      "text/plain": [
       "<IPython.core.display.HTML object>"
      ]
     },
     "metadata": {},
     "output_type": "display_data"
    },
    {
     "name": "stdout",
     "output_type": "stream",
     "text": [
      "----------------------------\n",
      "color name :  nectarine red\n",
      "generated\n"
     ]
    },
    {
     "data": {
      "text/html": [
       "<div style='float:left;background:#cf3f40;padding:10px;width:300px;'></div>"
      ],
      "text/plain": [
       "<IPython.core.display.HTML object>"
      ]
     },
     "metadata": {},
     "output_type": "display_data"
    },
    {
     "name": "stdout",
     "output_type": "stream",
     "text": [
      "ground truth\n"
     ]
    },
    {
     "data": {
      "text/html": [
       "<div style='float:left;background:#c72e30;padding:10px;width:300px;'></div>"
      ],
      "text/plain": [
       "<IPython.core.display.HTML object>"
      ]
     },
     "metadata": {},
     "output_type": "display_data"
    },
    {
     "name": "stdout",
     "output_type": "stream",
     "text": [
      "----------------------------\n",
      "color name :  riotous red vii\n",
      "generated\n"
     ]
    },
    {
     "data": {
      "text/html": [
       "<div style='float:left;background:#f00327;padding:10px;width:300px;'></div>"
      ],
      "text/plain": [
       "<IPython.core.display.HTML object>"
      ]
     },
     "metadata": {},
     "output_type": "display_data"
    },
    {
     "name": "stdout",
     "output_type": "stream",
     "text": [
      "ground truth\n"
     ]
    },
    {
     "data": {
      "text/html": [
       "<div style='float:left;background:#bc2a2f;padding:10px;width:300px;'></div>"
      ],
      "text/plain": [
       "<IPython.core.display.HTML object>"
      ]
     },
     "metadata": {},
     "output_type": "display_data"
    },
    {
     "name": "stdout",
     "output_type": "stream",
     "text": [
      "----------------------------\n",
      "color name :  conniving red\n",
      "generated\n"
     ]
    },
    {
     "data": {
      "text/html": [
       "<div style='float:left;background:#af5c67;padding:10px;width:300px;'></div>"
      ],
      "text/plain": [
       "<IPython.core.display.HTML object>"
      ]
     },
     "metadata": {},
     "output_type": "display_data"
    },
    {
     "name": "stdout",
     "output_type": "stream",
     "text": [
      "ground truth\n"
     ]
    },
    {
     "data": {
      "text/html": [
       "<div style='float:left;background:#ba252f;padding:10px;width:300px;'></div>"
      ],
      "text/plain": [
       "<IPython.core.display.HTML object>"
      ]
     },
     "metadata": {},
     "output_type": "display_data"
    },
    {
     "name": "stdout",
     "output_type": "stream",
     "text": [
      "----------------------------\n",
      "color name :  riotous red\n",
      "generated\n"
     ]
    },
    {
     "data": {
      "text/html": [
       "<div style='float:left;background:#cf1730;padding:10px;width:300px;'></div>"
      ],
      "text/plain": [
       "<IPython.core.display.HTML object>"
      ]
     },
     "metadata": {},
     "output_type": "display_data"
    },
    {
     "name": "stdout",
     "output_type": "stream",
     "text": [
      "ground truth\n"
     ]
    },
    {
     "data": {
      "text/html": [
       "<div style='float:left;background:#c32c2e;padding:10px;width:300px;'></div>"
      ],
      "text/plain": [
       "<IPython.core.display.HTML object>"
      ]
     },
     "metadata": {},
     "output_type": "display_data"
    },
    {
     "name": "stdout",
     "output_type": "stream",
     "text": [
      "----------------------------\n",
      "color name :  many splendored\n",
      "generated\n"
     ]
    },
    {
     "data": {
      "text/html": [
       "<div style='float:left;background:#600803;padding:10px;width:300px;'></div>"
      ],
      "text/plain": [
       "<IPython.core.display.HTML object>"
      ]
     },
     "metadata": {},
     "output_type": "display_data"
    },
    {
     "name": "stdout",
     "output_type": "stream",
     "text": [
      "ground truth\n"
     ]
    },
    {
     "data": {
      "text/html": [
       "<div style='float:left;background:#aa7d70;padding:10px;width:300px;'></div>"
      ],
      "text/plain": [
       "<IPython.core.display.HTML object>"
      ]
     },
     "metadata": {},
     "output_type": "display_data"
    },
    {
     "name": "stdout",
     "output_type": "stream",
     "text": [
      "----------------------------\n",
      "color name :  thz red queen\n",
      "generated\n"
     ]
    },
    {
     "data": {
      "text/html": [
       "<div style='float:left;background:#330210;padding:10px;width:300px;'></div>"
      ],
      "text/plain": [
       "<IPython.core.display.HTML object>"
      ]
     },
     "metadata": {},
     "output_type": "display_data"
    },
    {
     "name": "stdout",
     "output_type": "stream",
     "text": [
      "ground truth\n"
     ]
    },
    {
     "data": {
      "text/html": [
       "<div style='float:left;background:#a62429;padding:10px;width:300px;'></div>"
      ],
      "text/plain": [
       "<IPython.core.display.HTML object>"
      ]
     },
     "metadata": {},
     "output_type": "display_data"
    },
    {
     "name": "stdout",
     "output_type": "stream",
     "text": [
      "----------------------------\n",
      "color name :  lovecoloredmyheart\n",
      "generated\n"
     ]
    },
    {
     "data": {
      "text/html": [
       "<div style='float:left;background:#bd3a60;padding:10px;width:300px;'></div>"
      ],
      "text/plain": [
       "<IPython.core.display.HTML object>"
      ]
     },
     "metadata": {},
     "output_type": "display_data"
    },
    {
     "name": "stdout",
     "output_type": "stream",
     "text": [
      "ground truth\n"
     ]
    },
    {
     "data": {
      "text/html": [
       "<div style='float:left;background:#bd556a;padding:10px;width:300px;'></div>"
      ],
      "text/plain": [
       "<IPython.core.display.HTML object>"
      ]
     },
     "metadata": {},
     "output_type": "display_data"
    },
    {
     "name": "stdout",
     "output_type": "stream",
     "text": [
      "----------------------------\n",
      "color name :  red link\n",
      "generated\n"
     ]
    },
    {
     "data": {
      "text/html": [
       "<div style='float:left;background:#c7443b;padding:10px;width:300px;'></div>"
      ],
      "text/plain": [
       "<IPython.core.display.HTML object>"
      ]
     },
     "metadata": {},
     "output_type": "display_data"
    },
    {
     "name": "stdout",
     "output_type": "stream",
     "text": [
      "ground truth\n"
     ]
    },
    {
     "data": {
      "text/html": [
       "<div style='float:left;background:#cb3436;padding:10px;width:300px;'></div>"
      ],
      "text/plain": [
       "<IPython.core.display.HTML object>"
      ]
     },
     "metadata": {},
     "output_type": "display_data"
    },
    {
     "name": "stdout",
     "output_type": "stream",
     "text": [
      "----------------------------\n",
      "color name :  red looks peachy\n",
      "generated\n"
     ]
    },
    {
     "data": {
      "text/html": [
       "<div style='float:left;background:#e77970;padding:10px;width:300px;'></div>"
      ],
      "text/plain": [
       "<IPython.core.display.HTML object>"
      ]
     },
     "metadata": {},
     "output_type": "display_data"
    },
    {
     "name": "stdout",
     "output_type": "stream",
     "text": [
      "ground truth\n"
     ]
    },
    {
     "data": {
      "text/html": [
       "<div style='float:left;background:#dc4243;padding:10px;width:300px;'></div>"
      ],
      "text/plain": [
       "<IPython.core.display.HTML object>"
      ]
     },
     "metadata": {},
     "output_type": "display_data"
    },
    {
     "name": "stdout",
     "output_type": "stream",
     "text": [
      "----------------------------\n",
      "color name :  master alfred\n",
      "generated\n"
     ]
    },
    {
     "data": {
      "text/html": [
       "<div style='float:left;background:#5c3ef3;padding:10px;width:300px;'></div>"
      ],
      "text/plain": [
       "<IPython.core.display.HTML object>"
      ]
     },
     "metadata": {},
     "output_type": "display_data"
    },
    {
     "name": "stdout",
     "output_type": "stream",
     "text": [
      "ground truth\n"
     ]
    },
    {
     "data": {
      "text/html": [
       "<div style='float:left;background:#b64d54;padding:10px;width:300px;'></div>"
      ],
      "text/plain": [
       "<IPython.core.display.HTML object>"
      ]
     },
     "metadata": {},
     "output_type": "display_data"
    },
    {
     "name": "stdout",
     "output_type": "stream",
     "text": [
      "----------------------------\n",
      "color name :  loves red\n",
      "generated\n"
     ]
    },
    {
     "data": {
      "text/html": [
       "<div style='float:left;background:#d7000b;padding:10px;width:300px;'></div>"
      ],
      "text/plain": [
       "<IPython.core.display.HTML object>"
      ]
     },
     "metadata": {},
     "output_type": "display_data"
    },
    {
     "name": "stdout",
     "output_type": "stream",
     "text": [
      "ground truth\n"
     ]
    },
    {
     "data": {
      "text/html": [
       "<div style='float:left;background:#c72f33;padding:10px;width:300px;'></div>"
      ],
      "text/plain": [
       "<IPython.core.display.HTML object>"
      ]
     },
     "metadata": {},
     "output_type": "display_data"
    },
    {
     "name": "stdout",
     "output_type": "stream",
     "text": [
      "----------------------------\n",
      "color name :  shabby chic red\n",
      "generated\n"
     ]
    },
    {
     "data": {
      "text/html": [
       "<div style='float:left;background:#ae5b61;padding:10px;width:300px;'></div>"
      ],
      "text/plain": [
       "<IPython.core.display.HTML object>"
      ]
     },
     "metadata": {},
     "output_type": "display_data"
    },
    {
     "name": "stdout",
     "output_type": "stream",
     "text": [
      "ground truth\n"
     ]
    },
    {
     "data": {
      "text/html": [
       "<div style='float:left;background:#c93539;padding:10px;width:300px;'></div>"
      ],
      "text/plain": [
       "<IPython.core.display.HTML object>"
      ]
     },
     "metadata": {},
     "output_type": "display_data"
    },
    {
     "name": "stdout",
     "output_type": "stream",
     "text": [
      "----------------------------\n",
      "color name :  red sun rose\n",
      "generated\n"
     ]
    },
    {
     "data": {
      "text/html": [
       "<div style='float:left;background:#f8000c;padding:10px;width:300px;'></div>"
      ],
      "text/plain": [
       "<IPython.core.display.HTML object>"
      ]
     },
     "metadata": {},
     "output_type": "display_data"
    },
    {
     "name": "stdout",
     "output_type": "stream",
     "text": [
      "ground truth\n"
     ]
    },
    {
     "data": {
      "text/html": [
       "<div style='float:left;background:#ce3a38;padding:10px;width:300px;'></div>"
      ],
      "text/plain": [
       "<IPython.core.display.HTML object>"
      ]
     },
     "metadata": {},
     "output_type": "display_data"
    },
    {
     "name": "stdout",
     "output_type": "stream",
     "text": [
      "----------------------------\n",
      "color name :  redcarpet treatment\n",
      "generated\n"
     ]
    },
    {
     "data": {
      "text/html": [
       "<div style='float:left;background:#dc0005;padding:10px;width:300px;'></div>"
      ],
      "text/plain": [
       "<IPython.core.display.HTML object>"
      ]
     },
     "metadata": {},
     "output_type": "display_data"
    },
    {
     "name": "stdout",
     "output_type": "stream",
     "text": [
      "ground truth\n"
     ]
    },
    {
     "data": {
      "text/html": [
       "<div style='float:left;background:#bc5045;padding:10px;width:300px;'></div>"
      ],
      "text/plain": [
       "<IPython.core.display.HTML object>"
      ]
     },
     "metadata": {},
     "output_type": "display_data"
    },
    {
     "name": "stdout",
     "output_type": "stream",
     "text": [
      "----------------------------\n",
      "color name :  just another red\n",
      "generated\n"
     ]
    },
    {
     "data": {
      "text/html": [
       "<div style='float:left;background:#8a1508;padding:10px;width:300px;'></div>"
      ],
      "text/plain": [
       "<IPython.core.display.HTML object>"
      ]
     },
     "metadata": {},
     "output_type": "display_data"
    },
    {
     "name": "stdout",
     "output_type": "stream",
     "text": [
      "ground truth\n"
     ]
    },
    {
     "data": {
      "text/html": [
       "<div style='float:left;background:#c32f31;padding:10px;width:300px;'></div>"
      ],
      "text/plain": [
       "<IPython.core.display.HTML object>"
      ]
     },
     "metadata": {},
     "output_type": "display_data"
    },
    {
     "name": "stdout",
     "output_type": "stream",
     "text": [
      "----------------------------\n",
      "color name :  red rose kisses\n",
      "generated\n"
     ]
    },
    {
     "data": {
      "text/html": [
       "<div style='float:left;background:#c32829;padding:10px;width:300px;'></div>"
      ],
      "text/plain": [
       "<IPython.core.display.HTML object>"
      ]
     },
     "metadata": {},
     "output_type": "display_data"
    },
    {
     "name": "stdout",
     "output_type": "stream",
     "text": [
      "ground truth\n"
     ]
    },
    {
     "data": {
      "text/html": [
       "<div style='float:left;background:#cd3c3b;padding:10px;width:300px;'></div>"
      ],
      "text/plain": [
       "<IPython.core.display.HTML object>"
      ]
     },
     "metadata": {},
     "output_type": "display_data"
    },
    {
     "name": "stdout",
     "output_type": "stream",
     "text": [
      "----------------------------\n",
      "color name :  sunshine red\n",
      "generated\n"
     ]
    },
    {
     "data": {
      "text/html": [
       "<div style='float:left;background:#bc3103;padding:10px;width:300px;'></div>"
      ],
      "text/plain": [
       "<IPython.core.display.HTML object>"
      ]
     },
     "metadata": {},
     "output_type": "display_data"
    },
    {
     "name": "stdout",
     "output_type": "stream",
     "text": [
      "ground truth\n"
     ]
    },
    {
     "data": {
      "text/html": [
       "<div style='float:left;background:#c9382e;padding:10px;width:300px;'></div>"
      ],
      "text/plain": [
       "<IPython.core.display.HTML object>"
      ]
     },
     "metadata": {},
     "output_type": "display_data"
    },
    {
     "name": "stdout",
     "output_type": "stream",
     "text": [
      "----------------------------\n",
      "color name :  works of red\n",
      "generated\n"
     ]
    },
    {
     "data": {
      "text/html": [
       "<div style='float:left;background:#eb0055;padding:10px;width:300px;'></div>"
      ],
      "text/plain": [
       "<IPython.core.display.HTML object>"
      ]
     },
     "metadata": {},
     "output_type": "display_data"
    },
    {
     "name": "stdout",
     "output_type": "stream",
     "text": [
      "ground truth\n"
     ]
    },
    {
     "data": {
      "text/html": [
       "<div style='float:left;background:#c53232;padding:10px;width:300px;'></div>"
      ],
      "text/plain": [
       "<IPython.core.display.HTML object>"
      ]
     },
     "metadata": {},
     "output_type": "display_data"
    },
    {
     "name": "stdout",
     "output_type": "stream",
     "text": [
      "----------------------------\n",
      "color name :  tired face\n",
      "generated\n"
     ]
    },
    {
     "data": {
      "text/html": [
       "<div style='float:left;background:#29344b;padding:10px;width:300px;'></div>"
      ],
      "text/plain": [
       "<IPython.core.display.HTML object>"
      ]
     },
     "metadata": {},
     "output_type": "display_data"
    },
    {
     "name": "stdout",
     "output_type": "stream",
     "text": [
      "ground truth\n"
     ]
    },
    {
     "data": {
      "text/html": [
       "<div style='float:left;background:#a08c7f;padding:10px;width:300px;'></div>"
      ],
      "text/plain": [
       "<IPython.core.display.HTML object>"
      ]
     },
     "metadata": {},
     "output_type": "display_data"
    },
    {
     "name": "stdout",
     "output_type": "stream",
     "text": [
      "----------------------------\n",
      "color name :  redz\n",
      "generated\n"
     ]
    },
    {
     "data": {
      "text/html": [
       "<div style='float:left;background:#780f03;padding:10px;width:300px;'></div>"
      ],
      "text/plain": [
       "<IPython.core.display.HTML object>"
      ]
     },
     "metadata": {},
     "output_type": "display_data"
    },
    {
     "name": "stdout",
     "output_type": "stream",
     "text": [
      "ground truth\n"
     ]
    },
    {
     "data": {
      "text/html": [
       "<div style='float:left;background:#c74037;padding:10px;width:300px;'></div>"
      ],
      "text/plain": [
       "<IPython.core.display.HTML object>"
      ]
     },
     "metadata": {},
     "output_type": "display_data"
    },
    {
     "name": "stdout",
     "output_type": "stream",
     "text": [
      "----------------------------\n",
      "color name :  medium raspberry red\n",
      "generated\n"
     ]
    },
    {
     "data": {
      "text/html": [
       "<div style='float:left;background:#8c4678;padding:10px;width:300px;'></div>"
      ],
      "text/plain": [
       "<IPython.core.display.HTML object>"
      ]
     },
     "metadata": {},
     "output_type": "display_data"
    },
    {
     "name": "stdout",
     "output_type": "stream",
     "text": [
      "ground truth\n"
     ]
    },
    {
     "data": {
      "text/html": [
       "<div style='float:left;background:#b5243c;padding:10px;width:300px;'></div>"
      ],
      "text/plain": [
       "<IPython.core.display.HTML object>"
      ]
     },
     "metadata": {},
     "output_type": "display_data"
    },
    {
     "name": "stdout",
     "output_type": "stream",
     "text": [
      "----------------------------\n",
      "color name :  ipod ingredient\n",
      "generated\n"
     ]
    },
    {
     "data": {
      "text/html": [
       "<div style='float:left;background:#f2fdf7;padding:10px;width:300px;'></div>"
      ],
      "text/plain": [
       "<IPython.core.display.HTML object>"
      ]
     },
     "metadata": {},
     "output_type": "display_data"
    },
    {
     "name": "stdout",
     "output_type": "stream",
     "text": [
      "ground truth\n"
     ]
    },
    {
     "data": {
      "text/html": [
       "<div style='float:left;background:#9b7b7e;padding:10px;width:300px;'></div>"
      ],
      "text/plain": [
       "<IPython.core.display.HTML object>"
      ]
     },
     "metadata": {},
     "output_type": "display_data"
    },
    {
     "name": "stdout",
     "output_type": "stream",
     "text": [
      "----------------------------\n",
      "color name :  reddish gold\n",
      "generated\n"
     ]
    },
    {
     "data": {
      "text/html": [
       "<div style='float:left;background:#d75d31;padding:10px;width:300px;'></div>"
      ],
      "text/plain": [
       "<IPython.core.display.HTML object>"
      ]
     },
     "metadata": {},
     "output_type": "display_data"
    },
    {
     "name": "stdout",
     "output_type": "stream",
     "text": [
      "ground truth\n"
     ]
    },
    {
     "data": {
      "text/html": [
       "<div style='float:left;background:#cc8f2e;padding:10px;width:300px;'></div>"
      ],
      "text/plain": [
       "<IPython.core.display.HTML object>"
      ]
     },
     "metadata": {},
     "output_type": "display_data"
    },
    {
     "name": "stdout",
     "output_type": "stream",
     "text": [
      "----------------------------\n",
      "color name :  find me red\n",
      "generated\n"
     ]
    },
    {
     "data": {
      "text/html": [
       "<div style='float:left;background:#e10931;padding:10px;width:300px;'></div>"
      ],
      "text/plain": [
       "<IPython.core.display.HTML object>"
      ]
     },
     "metadata": {},
     "output_type": "display_data"
    },
    {
     "name": "stdout",
     "output_type": "stream",
     "text": [
      "ground truth\n"
     ]
    },
    {
     "data": {
      "text/html": [
       "<div style='float:left;background:#c63434;padding:10px;width:300px;'></div>"
      ],
      "text/plain": [
       "<IPython.core.display.HTML object>"
      ]
     },
     "metadata": {},
     "output_type": "display_data"
    },
    {
     "name": "stdout",
     "output_type": "stream",
     "text": [
      "----------------------------\n",
      "color name :  hey red\n",
      "generated\n"
     ]
    },
    {
     "data": {
      "text/html": [
       "<div style='float:left;background:#dd7978;padding:10px;width:300px;'></div>"
      ],
      "text/plain": [
       "<IPython.core.display.HTML object>"
      ]
     },
     "metadata": {},
     "output_type": "display_data"
    },
    {
     "name": "stdout",
     "output_type": "stream",
     "text": [
      "ground truth\n"
     ]
    },
    {
     "data": {
      "text/html": [
       "<div style='float:left;background:#c42931;padding:10px;width:300px;'></div>"
      ],
      "text/plain": [
       "<IPython.core.display.HTML object>"
      ]
     },
     "metadata": {},
     "output_type": "display_data"
    },
    {
     "name": "stdout",
     "output_type": "stream",
     "text": [
      "----------------------------\n",
      "color name :  stormbattereddragon\n",
      "generated\n"
     ]
    },
    {
     "data": {
      "text/html": [
       "<div style='float:left;background:#9592ac;padding:10px;width:300px;'></div>"
      ],
      "text/plain": [
       "<IPython.core.display.HTML object>"
      ]
     },
     "metadata": {},
     "output_type": "display_data"
    },
    {
     "name": "stdout",
     "output_type": "stream",
     "text": [
      "ground truth\n"
     ]
    },
    {
     "data": {
      "text/html": [
       "<div style='float:left;background:#936c6d;padding:10px;width:300px;'></div>"
      ],
      "text/plain": [
       "<IPython.core.display.HTML object>"
      ]
     },
     "metadata": {},
     "output_type": "display_data"
    },
    {
     "name": "stdout",
     "output_type": "stream",
     "text": [
      "----------------------------\n",
      "color name :  sanguineous red\n",
      "generated\n"
     ]
    },
    {
     "data": {
      "text/html": [
       "<div style='float:left;background:#a70e13;padding:10px;width:300px;'></div>"
      ],
      "text/plain": [
       "<IPython.core.display.HTML object>"
      ]
     },
     "metadata": {},
     "output_type": "display_data"
    },
    {
     "name": "stdout",
     "output_type": "stream",
     "text": [
      "ground truth\n"
     ]
    },
    {
     "data": {
      "text/html": [
       "<div style='float:left;background:#c42d2f;padding:10px;width:300px;'></div>"
      ],
      "text/plain": [
       "<IPython.core.display.HTML object>"
      ]
     },
     "metadata": {},
     "output_type": "display_data"
    },
    {
     "name": "stdout",
     "output_type": "stream",
     "text": [
      "----------------------------\n",
      "color name :  peachbelle red\n",
      "generated\n"
     ]
    },
    {
     "data": {
      "text/html": [
       "<div style='float:left;background:#e5332c;padding:10px;width:300px;'></div>"
      ],
      "text/plain": [
       "<IPython.core.display.HTML object>"
      ]
     },
     "metadata": {},
     "output_type": "display_data"
    },
    {
     "name": "stdout",
     "output_type": "stream",
     "text": [
      "ground truth\n"
     ]
    },
    {
     "data": {
      "text/html": [
       "<div style='float:left;background:#d44539;padding:10px;width:300px;'></div>"
      ],
      "text/plain": [
       "<IPython.core.display.HTML object>"
      ]
     },
     "metadata": {},
     "output_type": "display_data"
    },
    {
     "name": "stdout",
     "output_type": "stream",
     "text": [
      "----------------------------\n",
      "color name :  hipster cred\n",
      "generated\n"
     ]
    },
    {
     "data": {
      "text/html": [
       "<div style='float:left;background:#90b4a9;padding:10px;width:300px;'></div>"
      ],
      "text/plain": [
       "<IPython.core.display.HTML object>"
      ]
     },
     "metadata": {},
     "output_type": "display_data"
    },
    {
     "name": "stdout",
     "output_type": "stream",
     "text": [
      "ground truth\n"
     ]
    },
    {
     "data": {
      "text/html": [
       "<div style='float:left;background:#c85046;padding:10px;width:300px;'></div>"
      ],
      "text/plain": [
       "<IPython.core.display.HTML object>"
      ]
     },
     "metadata": {},
     "output_type": "display_data"
    },
    {
     "name": "stdout",
     "output_type": "stream",
     "text": [
      "----------------------------\n",
      "color name :  funny red\n",
      "generated\n"
     ]
    },
    {
     "data": {
      "text/html": [
       "<div style='float:left;background:#ec3d59;padding:10px;width:300px;'></div>"
      ],
      "text/plain": [
       "<IPython.core.display.HTML object>"
      ]
     },
     "metadata": {},
     "output_type": "display_data"
    },
    {
     "name": "stdout",
     "output_type": "stream",
     "text": [
      "ground truth\n"
     ]
    },
    {
     "data": {
      "text/html": [
       "<div style='float:left;background:#c62c32;padding:10px;width:300px;'></div>"
      ],
      "text/plain": [
       "<IPython.core.display.HTML object>"
      ]
     },
     "metadata": {},
     "output_type": "display_data"
    },
    {
     "name": "stdout",
     "output_type": "stream",
     "text": [
      "----------------------------\n",
      "color name :  caution to red\n",
      "generated\n"
     ]
    },
    {
     "data": {
      "text/html": [
       "<div style='float:left;background:#f2c000;padding:10px;width:300px;'></div>"
      ],
      "text/plain": [
       "<IPython.core.display.HTML object>"
      ]
     },
     "metadata": {},
     "output_type": "display_data"
    },
    {
     "name": "stdout",
     "output_type": "stream",
     "text": [
      "ground truth\n"
     ]
    },
    {
     "data": {
      "text/html": [
       "<div style='float:left;background:#c63234;padding:10px;width:300px;'></div>"
      ],
      "text/plain": [
       "<IPython.core.display.HTML object>"
      ]
     },
     "metadata": {},
     "output_type": "display_data"
    },
    {
     "name": "stdout",
     "output_type": "stream",
     "text": [
      "----------------------------\n",
      "color name :  im flattered\n",
      "generated\n"
     ]
    },
    {
     "data": {
      "text/html": [
       "<div style='float:left;background:#8c1078;padding:10px;width:300px;'></div>"
      ],
      "text/plain": [
       "<IPython.core.display.HTML object>"
      ]
     },
     "metadata": {},
     "output_type": "display_data"
    },
    {
     "name": "stdout",
     "output_type": "stream",
     "text": [
      "ground truth\n"
     ]
    },
    {
     "data": {
      "text/html": [
       "<div style='float:left;background:#a2776a;padding:10px;width:300px;'></div>"
      ],
      "text/plain": [
       "<IPython.core.display.HTML object>"
      ]
     },
     "metadata": {},
     "output_type": "display_data"
    },
    {
     "name": "stdout",
     "output_type": "stream",
     "text": [
      "----------------------------\n",
      "color name :  withered vines\n",
      "generated\n"
     ]
    },
    {
     "data": {
      "text/html": [
       "<div style='float:left;background:#98898a;padding:10px;width:300px;'></div>"
      ],
      "text/plain": [
       "<IPython.core.display.HTML object>"
      ]
     },
     "metadata": {},
     "output_type": "display_data"
    },
    {
     "name": "stdout",
     "output_type": "stream",
     "text": [
      "ground truth\n"
     ]
    },
    {
     "data": {
      "text/html": [
       "<div style='float:left;background:#6e6d4c;padding:10px;width:300px;'></div>"
      ],
      "text/plain": [
       "<IPython.core.display.HTML object>"
      ]
     },
     "metadata": {},
     "output_type": "display_data"
    },
    {
     "name": "stdout",
     "output_type": "stream",
     "text": [
      "----------------------------\n",
      "color name :  punctured wound\n",
      "generated\n"
     ]
    },
    {
     "data": {
      "text/html": [
       "<div style='float:left;background:#de5f69;padding:10px;width:300px;'></div>"
      ],
      "text/plain": [
       "<IPython.core.display.HTML object>"
      ]
     },
     "metadata": {},
     "output_type": "display_data"
    },
    {
     "name": "stdout",
     "output_type": "stream",
     "text": [
      "ground truth\n"
     ]
    },
    {
     "data": {
      "text/html": [
       "<div style='float:left;background:#a7685e;padding:10px;width:300px;'></div>"
      ],
      "text/plain": [
       "<IPython.core.display.HTML object>"
      ]
     },
     "metadata": {},
     "output_type": "display_data"
    },
    {
     "name": "stdout",
     "output_type": "stream",
     "text": [
      "----------------------------\n",
      "color name :  subdued red\n",
      "generated\n"
     ]
    },
    {
     "data": {
      "text/html": [
       "<div style='float:left;background:#ee6368;padding:10px;width:300px;'></div>"
      ],
      "text/plain": [
       "<IPython.core.display.HTML object>"
      ]
     },
     "metadata": {},
     "output_type": "display_data"
    },
    {
     "name": "stdout",
     "output_type": "stream",
     "text": [
      "ground truth\n"
     ]
    },
    {
     "data": {
      "text/html": [
       "<div style='float:left;background:#c23f3c;padding:10px;width:300px;'></div>"
      ],
      "text/plain": [
       "<IPython.core.display.HTML object>"
      ]
     },
     "metadata": {},
     "output_type": "display_data"
    },
    {
     "name": "stdout",
     "output_type": "stream",
     "text": [
      "----------------------------\n",
      "color name :  red melon\n",
      "generated\n"
     ]
    },
    {
     "data": {
      "text/html": [
       "<div style='float:left;background:#e80047;padding:10px;width:300px;'></div>"
      ],
      "text/plain": [
       "<IPython.core.display.HTML object>"
      ]
     },
     "metadata": {},
     "output_type": "display_data"
    },
    {
     "name": "stdout",
     "output_type": "stream",
     "text": [
      "ground truth\n"
     ]
    },
    {
     "data": {
      "text/html": [
       "<div style='float:left;background:#ca3331;padding:10px;width:300px;'></div>"
      ],
      "text/plain": [
       "<IPython.core.display.HTML object>"
      ]
     },
     "metadata": {},
     "output_type": "display_data"
    },
    {
     "name": "stdout",
     "output_type": "stream",
     "text": [
      "----------------------------\n",
      "color name :  favored souls\n",
      "generated\n"
     ]
    },
    {
     "data": {
      "text/html": [
       "<div style='float:left;background:#e52e52;padding:10px;width:300px;'></div>"
      ],
      "text/plain": [
       "<IPython.core.display.HTML object>"
      ]
     },
     "metadata": {},
     "output_type": "display_data"
    },
    {
     "name": "stdout",
     "output_type": "stream",
     "text": [
      "ground truth\n"
     ]
    },
    {
     "data": {
      "text/html": [
       "<div style='float:left;background:#9c7f78;padding:10px;width:300px;'></div>"
      ],
      "text/plain": [
       "<IPython.core.display.HTML object>"
      ]
     },
     "metadata": {},
     "output_type": "display_data"
    },
    {
     "name": "stdout",
     "output_type": "stream",
     "text": [
      "----------------------------\n",
      "color name :  clown nose red\n",
      "generated\n"
     ]
    },
    {
     "data": {
      "text/html": [
       "<div style='float:left;background:#a81e38;padding:10px;width:300px;'></div>"
      ],
      "text/plain": [
       "<IPython.core.display.HTML object>"
      ]
     },
     "metadata": {},
     "output_type": "display_data"
    },
    {
     "name": "stdout",
     "output_type": "stream",
     "text": [
      "ground truth\n"
     ]
    },
    {
     "data": {
      "text/html": [
       "<div style='float:left;background:#c33134;padding:10px;width:300px;'></div>"
      ],
      "text/plain": [
       "<IPython.core.display.HTML object>"
      ]
     },
     "metadata": {},
     "output_type": "display_data"
    },
    {
     "name": "stdout",
     "output_type": "stream",
     "text": [
      "----------------------------\n",
      "color name :  sacred moments\n",
      "generated\n"
     ]
    },
    {
     "data": {
      "text/html": [
       "<div style='float:left;background:#419cd0;padding:10px;width:300px;'></div>"
      ],
      "text/plain": [
       "<IPython.core.display.HTML object>"
      ]
     },
     "metadata": {},
     "output_type": "display_data"
    },
    {
     "name": "stdout",
     "output_type": "stream",
     "text": [
      "ground truth\n"
     ]
    },
    {
     "data": {
      "text/html": [
       "<div style='float:left;background:#a57e78;padding:10px;width:300px;'></div>"
      ],
      "text/plain": [
       "<IPython.core.display.HTML object>"
      ]
     },
     "metadata": {},
     "output_type": "display_data"
    },
    {
     "name": "stdout",
     "output_type": "stream",
     "text": [
      "----------------------------\n",
      "color name :  lrpred\n",
      "generated\n"
     ]
    },
    {
     "data": {
      "text/html": [
       "<div style='float:left;background:#d82b17;padding:10px;width:300px;'></div>"
      ],
      "text/plain": [
       "<IPython.core.display.HTML object>"
      ]
     },
     "metadata": {},
     "output_type": "display_data"
    },
    {
     "name": "stdout",
     "output_type": "stream",
     "text": [
      "ground truth\n"
     ]
    },
    {
     "data": {
      "text/html": [
       "<div style='float:left;background:#c33d3c;padding:10px;width:300px;'></div>"
      ],
      "text/plain": [
       "<IPython.core.display.HTML object>"
      ]
     },
     "metadata": {},
     "output_type": "display_data"
    },
    {
     "name": "stdout",
     "output_type": "stream",
     "text": [
      "----------------------------\n",
      "color name :  red sans merci rc\n",
      "generated\n"
     ]
    },
    {
     "data": {
      "text/html": [
       "<div style='float:left;background:#962929;padding:10px;width:300px;'></div>"
      ],
      "text/plain": [
       "<IPython.core.display.HTML object>"
      ]
     },
     "metadata": {},
     "output_type": "display_data"
    },
    {
     "name": "stdout",
     "output_type": "stream",
     "text": [
      "ground truth\n"
     ]
    },
    {
     "data": {
      "text/html": [
       "<div style='float:left;background:#c23435;padding:10px;width:300px;'></div>"
      ],
      "text/plain": [
       "<IPython.core.display.HTML object>"
      ]
     },
     "metadata": {},
     "output_type": "display_data"
    },
    {
     "name": "stdout",
     "output_type": "stream",
     "text": [
      "----------------------------\n",
      "color name :  sweet juicy red \n",
      "generated\n"
     ]
    },
    {
     "data": {
      "text/html": [
       "<div style='float:left;background:#ab2137;padding:10px;width:300px;'></div>"
      ],
      "text/plain": [
       "<IPython.core.display.HTML object>"
      ]
     },
     "metadata": {},
     "output_type": "display_data"
    },
    {
     "name": "stdout",
     "output_type": "stream",
     "text": [
      "ground truth\n"
     ]
    },
    {
     "data": {
      "text/html": [
       "<div style='float:left;background:#cc353d;padding:10px;width:300px;'></div>"
      ],
      "text/plain": [
       "<IPython.core.display.HTML object>"
      ]
     },
     "metadata": {},
     "output_type": "display_data"
    },
    {
     "name": "stdout",
     "output_type": "stream",
     "text": [
      "----------------------------\n",
      "color name :  ornament red\n",
      "generated\n"
     ]
    },
    {
     "data": {
      "text/html": [
       "<div style='float:left;background:#891f20;padding:10px;width:300px;'></div>"
      ],
      "text/plain": [
       "<IPython.core.display.HTML object>"
      ]
     },
     "metadata": {},
     "output_type": "display_data"
    },
    {
     "name": "stdout",
     "output_type": "stream",
     "text": [
      "ground truth\n"
     ]
    },
    {
     "data": {
      "text/html": [
       "<div style='float:left;background:#cc3731;padding:10px;width:300px;'></div>"
      ],
      "text/plain": [
       "<IPython.core.display.HTML object>"
      ]
     },
     "metadata": {},
     "output_type": "display_data"
    },
    {
     "name": "stdout",
     "output_type": "stream",
     "text": [
      "----------------------------\n",
      "color name :  red emption\n",
      "generated\n"
     ]
    },
    {
     "data": {
      "text/html": [
       "<div style='float:left;background:#934344;padding:10px;width:300px;'></div>"
      ],
      "text/plain": [
       "<IPython.core.display.HTML object>"
      ]
     },
     "metadata": {},
     "output_type": "display_data"
    },
    {
     "name": "stdout",
     "output_type": "stream",
     "text": [
      "ground truth\n"
     ]
    },
    {
     "data": {
      "text/html": [
       "<div style='float:left;background:#c63936;padding:10px;width:300px;'></div>"
      ],
      "text/plain": [
       "<IPython.core.display.HTML object>"
      ]
     },
     "metadata": {},
     "output_type": "display_data"
    },
    {
     "name": "stdout",
     "output_type": "stream",
     "text": [
      "----------------------------\n",
      "color name :  saitv red\n",
      "generated\n"
     ]
    },
    {
     "data": {
      "text/html": [
       "<div style='float:left;background:#b93d2b;padding:10px;width:300px;'></div>"
      ],
      "text/plain": [
       "<IPython.core.display.HTML object>"
      ]
     },
     "metadata": {},
     "output_type": "display_data"
    },
    {
     "name": "stdout",
     "output_type": "stream",
     "text": [
      "ground truth\n"
     ]
    },
    {
     "data": {
      "text/html": [
       "<div style='float:left;background:#c83435;padding:10px;width:300px;'></div>"
      ],
      "text/plain": [
       "<IPython.core.display.HTML object>"
      ]
     },
     "metadata": {},
     "output_type": "display_data"
    },
    {
     "name": "stdout",
     "output_type": "stream",
     "text": [
      "----------------------------\n",
      "color name :  plum red\n",
      "generated\n"
     ]
    },
    {
     "data": {
      "text/html": [
       "<div style='float:left;background:#5e0123;padding:10px;width:300px;'></div>"
      ],
      "text/plain": [
       "<IPython.core.display.HTML object>"
      ]
     },
     "metadata": {},
     "output_type": "display_data"
    },
    {
     "name": "stdout",
     "output_type": "stream",
     "text": [
      "ground truth\n"
     ]
    },
    {
     "data": {
      "text/html": [
       "<div style='float:left;background:#8b1b2a;padding:10px;width:300px;'></div>"
      ],
      "text/plain": [
       "<IPython.core.display.HTML object>"
      ]
     },
     "metadata": {},
     "output_type": "display_data"
    },
    {
     "name": "stdout",
     "output_type": "stream",
     "text": [
      "----------------------------\n",
      "color name :  predatorial drive\n",
      "generated\n"
     ]
    },
    {
     "data": {
      "text/html": [
       "<div style='float:left;background:#778a83;padding:10px;width:300px;'></div>"
      ],
      "text/plain": [
       "<IPython.core.display.HTML object>"
      ]
     },
     "metadata": {},
     "output_type": "display_data"
    },
    {
     "name": "stdout",
     "output_type": "stream",
     "text": [
      "ground truth\n"
     ]
    },
    {
     "data": {
      "text/html": [
       "<div style='float:left;background:#a18984;padding:10px;width:300px;'></div>"
      ],
      "text/plain": [
       "<IPython.core.display.HTML object>"
      ]
     },
     "metadata": {},
     "output_type": "display_data"
    },
    {
     "name": "stdout",
     "output_type": "stream",
     "text": [
      "----------------------------\n",
      "color name :  perfect red tulip\n",
      "generated\n"
     ]
    },
    {
     "data": {
      "text/html": [
       "<div style='float:left;background:#cf072a;padding:10px;width:300px;'></div>"
      ],
      "text/plain": [
       "<IPython.core.display.HTML object>"
      ]
     },
     "metadata": {},
     "output_type": "display_data"
    },
    {
     "name": "stdout",
     "output_type": "stream",
     "text": [
      "ground truth\n"
     ]
    },
    {
     "data": {
      "text/html": [
       "<div style='float:left;background:#d0363c;padding:10px;width:300px;'></div>"
      ],
      "text/plain": [
       "<IPython.core.display.HTML object>"
      ]
     },
     "metadata": {},
     "output_type": "display_data"
    },
    {
     "name": "stdout",
     "output_type": "stream",
     "text": [
      "----------------------------\n",
      "color name :  red coffee bean\n",
      "generated\n"
     ]
    },
    {
     "data": {
      "text/html": [
       "<div style='float:left;background:#4a2428;padding:10px;width:300px;'></div>"
      ],
      "text/plain": [
       "<IPython.core.display.HTML object>"
      ]
     },
     "metadata": {},
     "output_type": "display_data"
    },
    {
     "name": "stdout",
     "output_type": "stream",
     "text": [
      "ground truth\n"
     ]
    },
    {
     "data": {
      "text/html": [
       "<div style='float:left;background:#ba4934;padding:10px;width:300px;'></div>"
      ],
      "text/plain": [
       "<IPython.core.display.HTML object>"
      ]
     },
     "metadata": {},
     "output_type": "display_data"
    },
    {
     "name": "stdout",
     "output_type": "stream",
     "text": [
      "----------------------------\n",
      "color name :  centered\n",
      "generated\n"
     ]
    },
    {
     "data": {
      "text/html": [
       "<div style='float:left;background:#c8d2bc;padding:10px;width:300px;'></div>"
      ],
      "text/plain": [
       "<IPython.core.display.HTML object>"
      ]
     },
     "metadata": {},
     "output_type": "display_data"
    },
    {
     "name": "stdout",
     "output_type": "stream",
     "text": [
      "ground truth\n"
     ]
    },
    {
     "data": {
      "text/html": [
       "<div style='float:left;background:#a97966;padding:10px;width:300px;'></div>"
      ],
      "text/plain": [
       "<IPython.core.display.HTML object>"
      ]
     },
     "metadata": {},
     "output_type": "display_data"
    },
    {
     "name": "stdout",
     "output_type": "stream",
     "text": [
      "----------------------------\n",
      "color name :  utah red\n",
      "generated\n"
     ]
    },
    {
     "data": {
      "text/html": [
       "<div style='float:left;background:#cf0040;padding:10px;width:300px;'></div>"
      ],
      "text/plain": [
       "<IPython.core.display.HTML object>"
      ]
     },
     "metadata": {},
     "output_type": "display_data"
    },
    {
     "name": "stdout",
     "output_type": "stream",
     "text": [
      "ground truth\n"
     ]
    },
    {
     "data": {
      "text/html": [
       "<div style='float:left;background:#c3302d;padding:10px;width:300px;'></div>"
      ],
      "text/plain": [
       "<IPython.core.display.HTML object>"
      ]
     },
     "metadata": {},
     "output_type": "display_data"
    },
    {
     "name": "stdout",
     "output_type": "stream",
     "text": [
      "----------------------------\n",
      "color name :  laryngitis flavored\n",
      "generated\n"
     ]
    },
    {
     "data": {
      "text/html": [
       "<div style='float:left;background:#f0dec8;padding:10px;width:300px;'></div>"
      ],
      "text/plain": [
       "<IPython.core.display.HTML object>"
      ]
     },
     "metadata": {},
     "output_type": "display_data"
    },
    {
     "name": "stdout",
     "output_type": "stream",
     "text": [
      "ground truth\n"
     ]
    },
    {
     "data": {
      "text/html": [
       "<div style='float:left;background:#a57e7a;padding:10px;width:300px;'></div>"
      ],
      "text/plain": [
       "<IPython.core.display.HTML object>"
      ]
     },
     "metadata": {},
     "output_type": "display_data"
    },
    {
     "name": "stdout",
     "output_type": "stream",
     "text": [
      "----------------------------\n",
      "color name :  reverse red dark\n",
      "generated\n"
     ]
    },
    {
     "data": {
      "text/html": [
       "<div style='float:left;background:#8b6e6f;padding:10px;width:300px;'></div>"
      ],
      "text/plain": [
       "<IPython.core.display.HTML object>"
      ]
     },
     "metadata": {},
     "output_type": "display_data"
    },
    {
     "name": "stdout",
     "output_type": "stream",
     "text": [
      "ground truth\n"
     ]
    },
    {
     "data": {
      "text/html": [
       "<div style='float:left;background:#7e1c1e;padding:10px;width:300px;'></div>"
      ],
      "text/plain": [
       "<IPython.core.display.HTML object>"
      ]
     },
     "metadata": {},
     "output_type": "display_data"
    },
    {
     "name": "stdout",
     "output_type": "stream",
     "text": [
      "----------------------------\n",
      "color name :  kappa sigma red\n",
      "generated\n"
     ]
    },
    {
     "data": {
      "text/html": [
       "<div style='float:left;background:#8e2f31;padding:10px;width:300px;'></div>"
      ],
      "text/plain": [
       "<IPython.core.display.HTML object>"
      ]
     },
     "metadata": {},
     "output_type": "display_data"
    },
    {
     "name": "stdout",
     "output_type": "stream",
     "text": [
      "ground truth\n"
     ]
    },
    {
     "data": {
      "text/html": [
       "<div style='float:left;background:#c83132;padding:10px;width:300px;'></div>"
      ],
      "text/plain": [
       "<IPython.core.display.HTML object>"
      ]
     },
     "metadata": {},
     "output_type": "display_data"
    },
    {
     "name": "stdout",
     "output_type": "stream",
     "text": [
      "----------------------------\n",
      "color name :  wrathful red\n",
      "generated\n"
     ]
    },
    {
     "data": {
      "text/html": [
       "<div style='float:left;background:#c61654;padding:10px;width:300px;'></div>"
      ],
      "text/plain": [
       "<IPython.core.display.HTML object>"
      ]
     },
     "metadata": {},
     "output_type": "display_data"
    },
    {
     "name": "stdout",
     "output_type": "stream",
     "text": [
      "ground truth\n"
     ]
    },
    {
     "data": {
      "text/html": [
       "<div style='float:left;background:#c72f2f;padding:10px;width:300px;'></div>"
      ],
      "text/plain": [
       "<IPython.core.display.HTML object>"
      ]
     },
     "metadata": {},
     "output_type": "display_data"
    },
    {
     "name": "stdout",
     "output_type": "stream",
     "text": [
      "----------------------------\n",
      "color name :  reddish\n",
      "generated\n"
     ]
    },
    {
     "data": {
      "text/html": [
       "<div style='float:left;background:#b41829;padding:10px;width:300px;'></div>"
      ],
      "text/plain": [
       "<IPython.core.display.HTML object>"
      ]
     },
     "metadata": {},
     "output_type": "display_data"
    },
    {
     "name": "stdout",
     "output_type": "stream",
     "text": [
      "ground truth\n"
     ]
    },
    {
     "data": {
      "text/html": [
       "<div style='float:left;background:#c6372f;padding:10px;width:300px;'></div>"
      ],
      "text/plain": [
       "<IPython.core.display.HTML object>"
      ]
     },
     "metadata": {},
     "output_type": "display_data"
    },
    {
     "name": "stdout",
     "output_type": "stream",
     "text": [
      "----------------------------\n",
      "color name :  hot hot red\n",
      "generated\n"
     ]
    },
    {
     "data": {
      "text/html": [
       "<div style='float:left;background:#e73807;padding:10px;width:300px;'></div>"
      ],
      "text/plain": [
       "<IPython.core.display.HTML object>"
      ]
     },
     "metadata": {},
     "output_type": "display_data"
    },
    {
     "name": "stdout",
     "output_type": "stream",
     "text": [
      "ground truth\n"
     ]
    },
    {
     "data": {
      "text/html": [
       "<div style='float:left;background:#c52632;padding:10px;width:300px;'></div>"
      ],
      "text/plain": [
       "<IPython.core.display.HTML object>"
      ]
     },
     "metadata": {},
     "output_type": "display_data"
    },
    {
     "name": "stdout",
     "output_type": "stream",
     "text": [
      "----------------------------\n",
      "color name :  rednazilya\n",
      "generated\n"
     ]
    },
    {
     "data": {
      "text/html": [
       "<div style='float:left;background:#e7381d;padding:10px;width:300px;'></div>"
      ],
      "text/plain": [
       "<IPython.core.display.HTML object>"
      ]
     },
     "metadata": {},
     "output_type": "display_data"
    },
    {
     "name": "stdout",
     "output_type": "stream",
     "text": [
      "ground truth\n"
     ]
    },
    {
     "data": {
      "text/html": [
       "<div style='float:left;background:#d03b3f;padding:10px;width:300px;'></div>"
      ],
      "text/plain": [
       "<IPython.core.display.HTML object>"
      ]
     },
     "metadata": {},
     "output_type": "display_data"
    },
    {
     "name": "stdout",
     "output_type": "stream",
     "text": [
      "----------------------------\n",
      "color name :  anderson deep red\n",
      "generated\n"
     ]
    },
    {
     "data": {
      "text/html": [
       "<div style='float:left;background:#a34635;padding:10px;width:300px;'></div>"
      ],
      "text/plain": [
       "<IPython.core.display.HTML object>"
      ]
     },
     "metadata": {},
     "output_type": "display_data"
    },
    {
     "name": "stdout",
     "output_type": "stream",
     "text": [
      "ground truth\n"
     ]
    },
    {
     "data": {
      "text/html": [
       "<div style='float:left;background:#b1262d;padding:10px;width:300px;'></div>"
      ],
      "text/plain": [
       "<IPython.core.display.HTML object>"
      ]
     },
     "metadata": {},
     "output_type": "display_data"
    },
    {
     "name": "stdout",
     "output_type": "stream",
     "text": [
      "----------------------------\n",
      "color name :  caramel covered\n",
      "generated\n"
     ]
    },
    {
     "data": {
      "text/html": [
       "<div style='float:left;background:#c38a00;padding:10px;width:300px;'></div>"
      ],
      "text/plain": [
       "<IPython.core.display.HTML object>"
      ]
     },
     "metadata": {},
     "output_type": "display_data"
    },
    {
     "name": "stdout",
     "output_type": "stream",
     "text": [
      "ground truth\n"
     ]
    },
    {
     "data": {
      "text/html": [
       "<div style='float:left;background:#bd854a;padding:10px;width:300px;'></div>"
      ],
      "text/plain": [
       "<IPython.core.display.HTML object>"
      ]
     },
     "metadata": {},
     "output_type": "display_data"
    },
    {
     "name": "stdout",
     "output_type": "stream",
     "text": [
      "----------------------------\n",
      "color name :  inspired lilac\n",
      "generated\n"
     ]
    },
    {
     "data": {
      "text/html": [
       "<div style='float:left;background:#e2b7e7;padding:10px;width:300px;'></div>"
      ],
      "text/plain": [
       "<IPython.core.display.HTML object>"
      ]
     },
     "metadata": {},
     "output_type": "display_data"
    },
    {
     "name": "stdout",
     "output_type": "stream",
     "text": [
      "ground truth\n"
     ]
    },
    {
     "data": {
      "text/html": [
       "<div style='float:left;background:#bf88d0;padding:10px;width:300px;'></div>"
      ],
      "text/plain": [
       "<IPython.core.display.HTML object>"
      ]
     },
     "metadata": {},
     "output_type": "display_data"
    },
    {
     "name": "stdout",
     "output_type": "stream",
     "text": [
      "----------------------------\n",
      "color name :  redhead pinup\n",
      "generated\n"
     ]
    },
    {
     "data": {
      "text/html": [
       "<div style='float:left;background:#a83c1f;padding:10px;width:300px;'></div>"
      ],
      "text/plain": [
       "<IPython.core.display.HTML object>"
      ]
     },
     "metadata": {},
     "output_type": "display_data"
    },
    {
     "name": "stdout",
     "output_type": "stream",
     "text": [
      "ground truth\n"
     ]
    },
    {
     "data": {
      "text/html": [
       "<div style='float:left;background:#c84e46;padding:10px;width:300px;'></div>"
      ],
      "text/plain": [
       "<IPython.core.display.HTML object>"
      ]
     },
     "metadata": {},
     "output_type": "display_data"
    },
    {
     "name": "stdout",
     "output_type": "stream",
     "text": [
      "----------------------------\n",
      "color name :  dominguez red\n",
      "generated\n"
     ]
    },
    {
     "data": {
      "text/html": [
       "<div style='float:left;background:#be2b2b;padding:10px;width:300px;'></div>"
      ],
      "text/plain": [
       "<IPython.core.display.HTML object>"
      ]
     },
     "metadata": {},
     "output_type": "display_data"
    },
    {
     "name": "stdout",
     "output_type": "stream",
     "text": [
      "ground truth\n"
     ]
    },
    {
     "data": {
      "text/html": [
       "<div style='float:left;background:#c23233;padding:10px;width:300px;'></div>"
      ],
      "text/plain": [
       "<IPython.core.display.HTML object>"
      ]
     },
     "metadata": {},
     "output_type": "display_data"
    },
    {
     "name": "stdout",
     "output_type": "stream",
     "text": [
      "----------------------------\n",
      "color name :  harvard red\n",
      "generated\n"
     ]
    },
    {
     "data": {
      "text/html": [
       "<div style='float:left;background:#611509;padding:10px;width:300px;'></div>"
      ],
      "text/plain": [
       "<IPython.core.display.HTML object>"
      ]
     },
     "metadata": {},
     "output_type": "display_data"
    },
    {
     "name": "stdout",
     "output_type": "stream",
     "text": [
      "ground truth\n"
     ]
    },
    {
     "data": {
      "text/html": [
       "<div style='float:left;background:#c42c30;padding:10px;width:300px;'></div>"
      ],
      "text/plain": [
       "<IPython.core.display.HTML object>"
      ]
     },
     "metadata": {},
     "output_type": "display_data"
    },
    {
     "name": "stdout",
     "output_type": "stream",
     "text": [
      "----------------------------\n",
      "color name :  winter red\n",
      "generated\n"
     ]
    },
    {
     "data": {
      "text/html": [
       "<div style='float:left;background:#9d0824;padding:10px;width:300px;'></div>"
      ],
      "text/plain": [
       "<IPython.core.display.HTML object>"
      ]
     },
     "metadata": {},
     "output_type": "display_data"
    },
    {
     "name": "stdout",
     "output_type": "stream",
     "text": [
      "ground truth\n"
     ]
    },
    {
     "data": {
      "text/html": [
       "<div style='float:left;background:#b92a30;padding:10px;width:300px;'></div>"
      ],
      "text/plain": [
       "<IPython.core.display.HTML object>"
      ]
     },
     "metadata": {},
     "output_type": "display_data"
    },
    {
     "name": "stdout",
     "output_type": "stream",
     "text": [
      "----------------------------\n",
      "color name :  red tryfel\n",
      "generated\n"
     ]
    },
    {
     "data": {
      "text/html": [
       "<div style='float:left;background:#f5344d;padding:10px;width:300px;'></div>"
      ],
      "text/plain": [
       "<IPython.core.display.HTML object>"
      ]
     },
     "metadata": {},
     "output_type": "display_data"
    },
    {
     "name": "stdout",
     "output_type": "stream",
     "text": [
      "ground truth\n"
     ]
    },
    {
     "data": {
      "text/html": [
       "<div style='float:left;background:#c2312f;padding:10px;width:300px;'></div>"
      ],
      "text/plain": [
       "<IPython.core.display.HTML object>"
      ]
     },
     "metadata": {},
     "output_type": "display_data"
    },
    {
     "name": "stdout",
     "output_type": "stream",
     "text": [
      "----------------------------\n",
      "color name :  buttered crumpets\n",
      "generated\n"
     ]
    },
    {
     "data": {
      "text/html": [
       "<div style='float:left;background:#f2f88a;padding:10px;width:300px;'></div>"
      ],
      "text/plain": [
       "<IPython.core.display.HTML object>"
      ]
     },
     "metadata": {},
     "output_type": "display_data"
    },
    {
     "name": "stdout",
     "output_type": "stream",
     "text": [
      "ground truth\n"
     ]
    },
    {
     "data": {
      "text/html": [
       "<div style='float:left;background:#ceb25d;padding:10px;width:300px;'></div>"
      ],
      "text/plain": [
       "<IPython.core.display.HTML object>"
      ]
     },
     "metadata": {},
     "output_type": "display_data"
    },
    {
     "name": "stdout",
     "output_type": "stream",
     "text": [
      "----------------------------\n",
      "color name :  frenetic red\n",
      "generated\n"
     ]
    },
    {
     "data": {
      "text/html": [
       "<div style='float:left;background:#f20d19;padding:10px;width:300px;'></div>"
      ],
      "text/plain": [
       "<IPython.core.display.HTML object>"
      ]
     },
     "metadata": {},
     "output_type": "display_data"
    },
    {
     "name": "stdout",
     "output_type": "stream",
     "text": [
      "ground truth\n"
     ]
    },
    {
     "data": {
      "text/html": [
       "<div style='float:left;background:#cd3135;padding:10px;width:300px;'></div>"
      ],
      "text/plain": [
       "<IPython.core.display.HTML object>"
      ]
     },
     "metadata": {},
     "output_type": "display_data"
    },
    {
     "name": "stdout",
     "output_type": "stream",
     "text": [
      "----------------------------\n",
      "color name :  fuksia red\n",
      "generated\n"
     ]
    },
    {
     "data": {
      "text/html": [
       "<div style='float:left;background:#d2008e;padding:10px;width:300px;'></div>"
      ],
      "text/plain": [
       "<IPython.core.display.HTML object>"
      ]
     },
     "metadata": {},
     "output_type": "display_data"
    },
    {
     "name": "stdout",
     "output_type": "stream",
     "text": [
      "ground truth\n"
     ]
    },
    {
     "data": {
      "text/html": [
       "<div style='float:left;background:#c92c33;padding:10px;width:300px;'></div>"
      ],
      "text/plain": [
       "<IPython.core.display.HTML object>"
      ]
     },
     "metadata": {},
     "output_type": "display_data"
    },
    {
     "name": "stdout",
     "output_type": "stream",
     "text": [
      "----------------------------\n",
      "color name :  reds red\n",
      "generated\n"
     ]
    },
    {
     "data": {
      "text/html": [
       "<div style='float:left;background:#cb030e;padding:10px;width:300px;'></div>"
      ],
      "text/plain": [
       "<IPython.core.display.HTML object>"
      ]
     },
     "metadata": {},
     "output_type": "display_data"
    },
    {
     "name": "stdout",
     "output_type": "stream",
     "text": [
      "ground truth\n"
     ]
    },
    {
     "data": {
      "text/html": [
       "<div style='float:left;background:#c0282a;padding:10px;width:300px;'></div>"
      ],
      "text/plain": [
       "<IPython.core.display.HTML object>"
      ]
     },
     "metadata": {},
     "output_type": "display_data"
    },
    {
     "name": "stdout",
     "output_type": "stream",
     "text": [
      "----------------------------\n",
      "color name :  tweaked red\n",
      "generated\n"
     ]
    },
    {
     "data": {
      "text/html": [
       "<div style='float:left;background:#ee1c19;padding:10px;width:300px;'></div>"
      ],
      "text/plain": [
       "<IPython.core.display.HTML object>"
      ]
     },
     "metadata": {},
     "output_type": "display_data"
    },
    {
     "name": "stdout",
     "output_type": "stream",
     "text": [
      "ground truth\n"
     ]
    },
    {
     "data": {
      "text/html": [
       "<div style='float:left;background:#c33433;padding:10px;width:300px;'></div>"
      ],
      "text/plain": [
       "<IPython.core.display.HTML object>"
      ]
     },
     "metadata": {},
     "output_type": "display_data"
    },
    {
     "name": "stdout",
     "output_type": "stream",
     "text": [
      "----------------------------\n",
      "color name :  betsyb red\n",
      "generated\n"
     ]
    },
    {
     "data": {
      "text/html": [
       "<div style='float:left;background:#95191f;padding:10px;width:300px;'></div>"
      ],
      "text/plain": [
       "<IPython.core.display.HTML object>"
      ]
     },
     "metadata": {},
     "output_type": "display_data"
    },
    {
     "name": "stdout",
     "output_type": "stream",
     "text": [
      "ground truth\n"
     ]
    },
    {
     "data": {
      "text/html": [
       "<div style='float:left;background:#bc2533;padding:10px;width:300px;'></div>"
      ],
      "text/plain": [
       "<IPython.core.display.HTML object>"
      ]
     },
     "metadata": {},
     "output_type": "display_data"
    },
    {
     "name": "stdout",
     "output_type": "stream",
     "text": [
      "----------------------------\n",
      "color name :  sky blood red\n",
      "generated\n"
     ]
    },
    {
     "data": {
      "text/html": [
       "<div style='float:left;background:#ca003a;padding:10px;width:300px;'></div>"
      ],
      "text/plain": [
       "<IPython.core.display.HTML object>"
      ]
     },
     "metadata": {},
     "output_type": "display_data"
    },
    {
     "name": "stdout",
     "output_type": "stream",
     "text": [
      "ground truth\n"
     ]
    },
    {
     "data": {
      "text/html": [
       "<div style='float:left;background:#c1393d;padding:10px;width:300px;'></div>"
      ],
      "text/plain": [
       "<IPython.core.display.HTML object>"
      ]
     },
     "metadata": {},
     "output_type": "display_data"
    },
    {
     "name": "stdout",
     "output_type": "stream",
     "text": [
      "----------------------------\n",
      "color name :  sugared love\n",
      "generated\n"
     ]
    },
    {
     "data": {
      "text/html": [
       "<div style='float:left;background:#e0e3c4;padding:10px;width:300px;'></div>"
      ],
      "text/plain": [
       "<IPython.core.display.HTML object>"
      ]
     },
     "metadata": {},
     "output_type": "display_data"
    },
    {
     "name": "stdout",
     "output_type": "stream",
     "text": [
      "ground truth\n"
     ]
    },
    {
     "data": {
      "text/html": [
       "<div style='float:left;background:#c48892;padding:10px;width:300px;'></div>"
      ],
      "text/plain": [
       "<IPython.core.display.HTML object>"
      ]
     },
     "metadata": {},
     "output_type": "display_data"
    },
    {
     "name": "stdout",
     "output_type": "stream",
     "text": [
      "----------------------------\n",
      "color name :  redxter\n",
      "generated\n"
     ]
    },
    {
     "data": {
      "text/html": [
       "<div style='float:left;background:#b1260e;padding:10px;width:300px;'></div>"
      ],
      "text/plain": [
       "<IPython.core.display.HTML object>"
      ]
     },
     "metadata": {},
     "output_type": "display_data"
    },
    {
     "name": "stdout",
     "output_type": "stream",
     "text": [
      "ground truth\n"
     ]
    },
    {
     "data": {
      "text/html": [
       "<div style='float:left;background:#be3833;padding:10px;width:300px;'></div>"
      ],
      "text/plain": [
       "<IPython.core.display.HTML object>"
      ]
     },
     "metadata": {},
     "output_type": "display_data"
    },
    {
     "name": "stdout",
     "output_type": "stream",
     "text": [
      "----------------------------\n",
      "color name :  daily dose of red\n",
      "generated\n"
     ]
    },
    {
     "data": {
      "text/html": [
       "<div style='float:left;background:#bf4b61;padding:10px;width:300px;'></div>"
      ],
      "text/plain": [
       "<IPython.core.display.HTML object>"
      ]
     },
     "metadata": {},
     "output_type": "display_data"
    },
    {
     "name": "stdout",
     "output_type": "stream",
     "text": [
      "ground truth\n"
     ]
    },
    {
     "data": {
      "text/html": [
       "<div style='float:left;background:#c33334;padding:10px;width:300px;'></div>"
      ],
      "text/plain": [
       "<IPython.core.display.HTML object>"
      ]
     },
     "metadata": {},
     "output_type": "display_data"
    },
    {
     "name": "stdout",
     "output_type": "stream",
     "text": [
      "----------------------------\n",
      "color name :  cbs red orange\n",
      "generated\n"
     ]
    },
    {
     "data": {
      "text/html": [
       "<div style='float:left;background:#e97f48;padding:10px;width:300px;'></div>"
      ],
      "text/plain": [
       "<IPython.core.display.HTML object>"
      ]
     },
     "metadata": {},
     "output_type": "display_data"
    },
    {
     "name": "stdout",
     "output_type": "stream",
     "text": [
      "ground truth\n"
     ]
    },
    {
     "data": {
      "text/html": [
       "<div style='float:left;background:#ce4829;padding:10px;width:300px;'></div>"
      ],
      "text/plain": [
       "<IPython.core.display.HTML object>"
      ]
     },
     "metadata": {},
     "output_type": "display_data"
    },
    {
     "name": "stdout",
     "output_type": "stream",
     "text": [
      "----------------------------\n",
      "color name :  beet red tg\n",
      "generated\n"
     ]
    },
    {
     "data": {
      "text/html": [
       "<div style='float:left;background:#691941;padding:10px;width:300px;'></div>"
      ],
      "text/plain": [
       "<IPython.core.display.HTML object>"
      ]
     },
     "metadata": {},
     "output_type": "display_data"
    },
    {
     "name": "stdout",
     "output_type": "stream",
     "text": [
      "ground truth\n"
     ]
    },
    {
     "data": {
      "text/html": [
       "<div style='float:left;background:#aa1b2f;padding:10px;width:300px;'></div>"
      ],
      "text/plain": [
       "<IPython.core.display.HTML object>"
      ]
     },
     "metadata": {},
     "output_type": "display_data"
    },
    {
     "name": "stdout",
     "output_type": "stream",
     "text": [
      "----------------------------\n",
      "color name :  red magnat\n",
      "generated\n"
     ]
    },
    {
     "data": {
      "text/html": [
       "<div style='float:left;background:#c48327;padding:10px;width:300px;'></div>"
      ],
      "text/plain": [
       "<IPython.core.display.HTML object>"
      ]
     },
     "metadata": {},
     "output_type": "display_data"
    },
    {
     "name": "stdout",
     "output_type": "stream",
     "text": [
      "ground truth\n"
     ]
    },
    {
     "data": {
      "text/html": [
       "<div style='float:left;background:#b9232a;padding:10px;width:300px;'></div>"
      ],
      "text/plain": [
       "<IPython.core.display.HTML object>"
      ]
     },
     "metadata": {},
     "output_type": "display_data"
    },
    {
     "name": "stdout",
     "output_type": "stream",
     "text": [
      "----------------------------\n",
      "color name :  enamoured\n",
      "generated\n"
     ]
    },
    {
     "data": {
      "text/html": [
       "<div style='float:left;background:#e05a91;padding:10px;width:300px;'></div>"
      ],
      "text/plain": [
       "<IPython.core.display.HTML object>"
      ]
     },
     "metadata": {},
     "output_type": "display_data"
    },
    {
     "name": "stdout",
     "output_type": "stream",
     "text": [
      "ground truth\n"
     ]
    },
    {
     "data": {
      "text/html": [
       "<div style='float:left;background:#af6265;padding:10px;width:300px;'></div>"
      ],
      "text/plain": [
       "<IPython.core.display.HTML object>"
      ]
     },
     "metadata": {},
     "output_type": "display_data"
    },
    {
     "name": "stdout",
     "output_type": "stream",
     "text": [
      "----------------------------\n",
      "color name :  yummyred\n",
      "generated\n"
     ]
    },
    {
     "data": {
      "text/html": [
       "<div style='float:left;background:#950139;padding:10px;width:300px;'></div>"
      ],
      "text/plain": [
       "<IPython.core.display.HTML object>"
      ]
     },
     "metadata": {},
     "output_type": "display_data"
    },
    {
     "name": "stdout",
     "output_type": "stream",
     "text": [
      "ground truth\n"
     ]
    },
    {
     "data": {
      "text/html": [
       "<div style='float:left;background:#ca2f39;padding:10px;width:300px;'></div>"
      ],
      "text/plain": [
       "<IPython.core.display.HTML object>"
      ]
     },
     "metadata": {},
     "output_type": "display_data"
    },
    {
     "name": "stdout",
     "output_type": "stream",
     "text": [
      "----------------------------\n",
      "color name :  red velvet inna\n",
      "generated\n"
     ]
    },
    {
     "data": {
      "text/html": [
       "<div style='float:left;background:#911c18;padding:10px;width:300px;'></div>"
      ],
      "text/plain": [
       "<IPython.core.display.HTML object>"
      ]
     },
     "metadata": {},
     "output_type": "display_data"
    },
    {
     "name": "stdout",
     "output_type": "stream",
     "text": [
      "ground truth\n"
     ]
    },
    {
     "data": {
      "text/html": [
       "<div style='float:left;background:#96232a;padding:10px;width:300px;'></div>"
      ],
      "text/plain": [
       "<IPython.core.display.HTML object>"
      ]
     },
     "metadata": {},
     "output_type": "display_data"
    },
    {
     "name": "stdout",
     "output_type": "stream",
     "text": [
      "----------------------------\n",
      "color name :  matboard red\n",
      "generated\n"
     ]
    },
    {
     "data": {
      "text/html": [
       "<div style='float:left;background:#b3051b;padding:10px;width:300px;'></div>"
      ],
      "text/plain": [
       "<IPython.core.display.HTML object>"
      ]
     },
     "metadata": {},
     "output_type": "display_data"
    },
    {
     "name": "stdout",
     "output_type": "stream",
     "text": [
      "ground truth\n"
     ]
    },
    {
     "data": {
      "text/html": [
       "<div style='float:left;background:#bc2c2c;padding:10px;width:300px;'></div>"
      ],
      "text/plain": [
       "<IPython.core.display.HTML object>"
      ]
     },
     "metadata": {},
     "output_type": "display_data"
    },
    {
     "name": "stdout",
     "output_type": "stream",
     "text": [
      "----------------------------\n",
      "color name :  lips red as blood\n",
      "generated\n"
     ]
    },
    {
     "data": {
      "text/html": [
       "<div style='float:left;background:#a7122d;padding:10px;width:300px;'></div>"
      ],
      "text/plain": [
       "<IPython.core.display.HTML object>"
      ]
     },
     "metadata": {},
     "output_type": "display_data"
    },
    {
     "name": "stdout",
     "output_type": "stream",
     "text": [
      "ground truth\n"
     ]
    },
    {
     "data": {
      "text/html": [
       "<div style='float:left;background:#b72a2c;padding:10px;width:300px;'></div>"
      ],
      "text/plain": [
       "<IPython.core.display.HTML object>"
      ]
     },
     "metadata": {},
     "output_type": "display_data"
    },
    {
     "name": "stdout",
     "output_type": "stream",
     "text": [
      "----------------------------\n",
      "color name :  incredibly appealing\n",
      "generated\n"
     ]
    },
    {
     "data": {
      "text/html": [
       "<div style='float:left;background:#4b0080;padding:10px;width:300px;'></div>"
      ],
      "text/plain": [
       "<IPython.core.display.HTML object>"
      ]
     },
     "metadata": {},
     "output_type": "display_data"
    },
    {
     "name": "stdout",
     "output_type": "stream",
     "text": [
      "ground truth\n"
     ]
    },
    {
     "data": {
      "text/html": [
       "<div style='float:left;background:#c07d89;padding:10px;width:300px;'></div>"
      ],
      "text/plain": [
       "<IPython.core.display.HTML object>"
      ]
     },
     "metadata": {},
     "output_type": "display_data"
    },
    {
     "name": "stdout",
     "output_type": "stream",
     "text": [
      "----------------------------\n",
      "color name :  cybergothicred\n",
      "generated\n"
     ]
    },
    {
     "data": {
      "text/html": [
       "<div style='float:left;background:#84290e;padding:10px;width:300px;'></div>"
      ],
      "text/plain": [
       "<IPython.core.display.HTML object>"
      ]
     },
     "metadata": {},
     "output_type": "display_data"
    },
    {
     "name": "stdout",
     "output_type": "stream",
     "text": [
      "ground truth\n"
     ]
    },
    {
     "data": {
      "text/html": [
       "<div style='float:left;background:#c6334e;padding:10px;width:300px;'></div>"
      ],
      "text/plain": [
       "<IPython.core.display.HTML object>"
      ]
     },
     "metadata": {},
     "output_type": "display_data"
    },
    {
     "name": "stdout",
     "output_type": "stream",
     "text": [
      "----------------------------\n",
      "color name :  reductionism\n",
      "generated\n"
     ]
    },
    {
     "data": {
      "text/html": [
       "<div style='float:left;background:#f3f1c6;padding:10px;width:300px;'></div>"
      ],
      "text/plain": [
       "<IPython.core.display.HTML object>"
      ]
     },
     "metadata": {},
     "output_type": "display_data"
    },
    {
     "name": "stdout",
     "output_type": "stream",
     "text": [
      "ground truth\n"
     ]
    },
    {
     "data": {
      "text/html": [
       "<div style='float:left;background:#b55c5b;padding:10px;width:300px;'></div>"
      ],
      "text/plain": [
       "<IPython.core.display.HTML object>"
      ]
     },
     "metadata": {},
     "output_type": "display_data"
    },
    {
     "name": "stdout",
     "output_type": "stream",
     "text": [
      "----------------------------\n",
      "color name :  red fa\n",
      "generated\n"
     ]
    },
    {
     "data": {
      "text/html": [
       "<div style='float:left;background:#750404;padding:10px;width:300px;'></div>"
      ],
      "text/plain": [
       "<IPython.core.display.HTML object>"
      ]
     },
     "metadata": {},
     "output_type": "display_data"
    },
    {
     "name": "stdout",
     "output_type": "stream",
     "text": [
      "ground truth\n"
     ]
    },
    {
     "data": {
      "text/html": [
       "<div style='float:left;background:#c83432;padding:10px;width:300px;'></div>"
      ],
      "text/plain": [
       "<IPython.core.display.HTML object>"
      ]
     },
     "metadata": {},
     "output_type": "display_data"
    },
    {
     "name": "stdout",
     "output_type": "stream",
     "text": [
      "----------------------------\n",
      "color name :  sugared violet\n",
      "generated\n"
     ]
    },
    {
     "data": {
      "text/html": [
       "<div style='float:left;background:#d8cefa;padding:10px;width:300px;'></div>"
      ],
      "text/plain": [
       "<IPython.core.display.HTML object>"
      ]
     },
     "metadata": {},
     "output_type": "display_data"
    },
    {
     "name": "stdout",
     "output_type": "stream",
     "text": [
      "ground truth\n"
     ]
    },
    {
     "data": {
      "text/html": [
       "<div style='float:left;background:#a456b6;padding:10px;width:300px;'></div>"
      ],
      "text/plain": [
       "<IPython.core.display.HTML object>"
      ]
     },
     "metadata": {},
     "output_type": "display_data"
    },
    {
     "name": "stdout",
     "output_type": "stream",
     "text": [
      "----------------------------\n",
      "color name :  indigenous red\n",
      "generated\n"
     ]
    },
    {
     "data": {
      "text/html": [
       "<div style='float:left;background:#eb0035;padding:10px;width:300px;'></div>"
      ],
      "text/plain": [
       "<IPython.core.display.HTML object>"
      ]
     },
     "metadata": {},
     "output_type": "display_data"
    },
    {
     "name": "stdout",
     "output_type": "stream",
     "text": [
      "ground truth\n"
     ]
    },
    {
     "data": {
      "text/html": [
       "<div style='float:left;background:#c42d31;padding:10px;width:300px;'></div>"
      ],
      "text/plain": [
       "<IPython.core.display.HTML object>"
      ]
     },
     "metadata": {},
     "output_type": "display_data"
    },
    {
     "name": "stdout",
     "output_type": "stream",
     "text": [
      "----------------------------\n",
      "color name :  rice bag red\n",
      "generated\n"
     ]
    },
    {
     "data": {
      "text/html": [
       "<div style='float:left;background:#ae050b;padding:10px;width:300px;'></div>"
      ],
      "text/plain": [
       "<IPython.core.display.HTML object>"
      ]
     },
     "metadata": {},
     "output_type": "display_data"
    },
    {
     "name": "stdout",
     "output_type": "stream",
     "text": [
      "ground truth\n"
     ]
    },
    {
     "data": {
      "text/html": [
       "<div style='float:left;background:#c63434;padding:10px;width:300px;'></div>"
      ],
      "text/plain": [
       "<IPython.core.display.HTML object>"
      ]
     },
     "metadata": {},
     "output_type": "display_data"
    },
    {
     "name": "stdout",
     "output_type": "stream",
     "text": [
      "----------------------------\n",
      "color name :  scared donkey\n",
      "generated\n"
     ]
    },
    {
     "data": {
      "text/html": [
       "<div style='float:left;background:#8cbbcc;padding:10px;width:300px;'></div>"
      ],
      "text/plain": [
       "<IPython.core.display.HTML object>"
      ]
     },
     "metadata": {},
     "output_type": "display_data"
    },
    {
     "name": "stdout",
     "output_type": "stream",
     "text": [
      "ground truth\n"
     ]
    },
    {
     "data": {
      "text/html": [
       "<div style='float:left;background:#a67a6e;padding:10px;width:300px;'></div>"
      ],
      "text/plain": [
       "<IPython.core.display.HTML object>"
      ]
     },
     "metadata": {},
     "output_type": "display_data"
    },
    {
     "name": "stdout",
     "output_type": "stream",
     "text": [
      "----------------------------\n",
      "color name :  onemoreday\n",
      "generated\n"
     ]
    },
    {
     "data": {
      "text/html": [
       "<div style='float:left;background:#3a2c44;padding:10px;width:300px;'></div>"
      ],
      "text/plain": [
       "<IPython.core.display.HTML object>"
      ]
     },
     "metadata": {},
     "output_type": "display_data"
    },
    {
     "name": "stdout",
     "output_type": "stream",
     "text": [
      "ground truth\n"
     ]
    },
    {
     "data": {
      "text/html": [
       "<div style='float:left;background:#9a7f86;padding:10px;width:300px;'></div>"
      ],
      "text/plain": [
       "<IPython.core.display.HTML object>"
      ]
     },
     "metadata": {},
     "output_type": "display_data"
    },
    {
     "name": "stdout",
     "output_type": "stream",
     "text": [
      "----------------------------\n",
      "color name :  red lines\n",
      "generated\n"
     ]
    },
    {
     "data": {
      "text/html": [
       "<div style='float:left;background:#d92714;padding:10px;width:300px;'></div>"
      ],
      "text/plain": [
       "<IPython.core.display.HTML object>"
      ]
     },
     "metadata": {},
     "output_type": "display_data"
    },
    {
     "name": "stdout",
     "output_type": "stream",
     "text": [
      "ground truth\n"
     ]
    },
    {
     "data": {
      "text/html": [
       "<div style='float:left;background:#c02d2f;padding:10px;width:300px;'></div>"
      ],
      "text/plain": [
       "<IPython.core.display.HTML object>"
      ]
     },
     "metadata": {},
     "output_type": "display_data"
    },
    {
     "name": "stdout",
     "output_type": "stream",
     "text": [
      "----------------------------\n",
      "color name :  red jelly\n",
      "generated\n"
     ]
    },
    {
     "data": {
      "text/html": [
       "<div style='float:left;background:#d74344;padding:10px;width:300px;'></div>"
      ],
      "text/plain": [
       "<IPython.core.display.HTML object>"
      ]
     },
     "metadata": {},
     "output_type": "display_data"
    },
    {
     "name": "stdout",
     "output_type": "stream",
     "text": [
      "ground truth\n"
     ]
    },
    {
     "data": {
      "text/html": [
       "<div style='float:left;background:#be272d;padding:10px;width:300px;'></div>"
      ],
      "text/plain": [
       "<IPython.core.display.HTML object>"
      ]
     },
     "metadata": {},
     "output_type": "display_data"
    },
    {
     "name": "stdout",
     "output_type": "stream",
     "text": [
      "----------------------------\n",
      "color name :  red elm\n",
      "generated\n"
     ]
    },
    {
     "data": {
      "text/html": [
       "<div style='float:left;background:#b75257;padding:10px;width:300px;'></div>"
      ],
      "text/plain": [
       "<IPython.core.display.HTML object>"
      ]
     },
     "metadata": {},
     "output_type": "display_data"
    },
    {
     "name": "stdout",
     "output_type": "stream",
     "text": [
      "ground truth\n"
     ]
    },
    {
     "data": {
      "text/html": [
       "<div style='float:left;background:#c32f33;padding:10px;width:300px;'></div>"
      ],
      "text/plain": [
       "<IPython.core.display.HTML object>"
      ]
     },
     "metadata": {},
     "output_type": "display_data"
    },
    {
     "name": "stdout",
     "output_type": "stream",
     "text": [
      "----------------------------\n",
      "color name :  farred\n",
      "generated\n"
     ]
    },
    {
     "data": {
      "text/html": [
       "<div style='float:left;background:#f85b3c;padding:10px;width:300px;'></div>"
      ],
      "text/plain": [
       "<IPython.core.display.HTML object>"
      ]
     },
     "metadata": {},
     "output_type": "display_data"
    },
    {
     "name": "stdout",
     "output_type": "stream",
     "text": [
      "ground truth\n"
     ]
    },
    {
     "data": {
      "text/html": [
       "<div style='float:left;background:#c45c51;padding:10px;width:300px;'></div>"
      ],
      "text/plain": [
       "<IPython.core.display.HTML object>"
      ]
     },
     "metadata": {},
     "output_type": "display_data"
    },
    {
     "name": "stdout",
     "output_type": "stream",
     "text": [
      "----------------------------\n",
      "color name :  sculptured pavement\n",
      "generated\n"
     ]
    },
    {
     "data": {
      "text/html": [
       "<div style='float:left;background:#dee8df;padding:10px;width:300px;'></div>"
      ],
      "text/plain": [
       "<IPython.core.display.HTML object>"
      ]
     },
     "metadata": {},
     "output_type": "display_data"
    },
    {
     "name": "stdout",
     "output_type": "stream",
     "text": [
      "ground truth\n"
     ]
    },
    {
     "data": {
      "text/html": [
       "<div style='float:left;background:#9b817a;padding:10px;width:300px;'></div>"
      ],
      "text/plain": [
       "<IPython.core.display.HTML object>"
      ]
     },
     "metadata": {},
     "output_type": "display_data"
    },
    {
     "name": "stdout",
     "output_type": "stream",
     "text": [
      "----------------------------\n",
      "color name :  boiling red\n",
      "generated\n"
     ]
    },
    {
     "data": {
      "text/html": [
       "<div style='float:left;background:#960a0d;padding:10px;width:300px;'></div>"
      ],
      "text/plain": [
       "<IPython.core.display.HTML object>"
      ]
     },
     "metadata": {},
     "output_type": "display_data"
    },
    {
     "name": "stdout",
     "output_type": "stream",
     "text": [
      "ground truth\n"
     ]
    },
    {
     "data": {
      "text/html": [
       "<div style='float:left;background:#c42d2f;padding:10px;width:300px;'></div>"
      ],
      "text/plain": [
       "<IPython.core.display.HTML object>"
      ]
     },
     "metadata": {},
     "output_type": "display_data"
    },
    {
     "name": "stdout",
     "output_type": "stream",
     "text": [
      "----------------------------\n",
      "color name :  red sandstone\n",
      "generated\n"
     ]
    },
    {
     "data": {
      "text/html": [
       "<div style='float:left;background:#ab5324;padding:10px;width:300px;'></div>"
      ],
      "text/plain": [
       "<IPython.core.display.HTML object>"
      ]
     },
     "metadata": {},
     "output_type": "display_data"
    },
    {
     "name": "stdout",
     "output_type": "stream",
     "text": [
      "ground truth\n"
     ]
    },
    {
     "data": {
      "text/html": [
       "<div style='float:left;background:#cc4736;padding:10px;width:300px;'></div>"
      ],
      "text/plain": [
       "<IPython.core.display.HTML object>"
      ]
     },
     "metadata": {},
     "output_type": "display_data"
    },
    {
     "name": "stdout",
     "output_type": "stream",
     "text": [
      "----------------------------\n",
      "color name :  huckleberry red\n",
      "generated\n"
     ]
    },
    {
     "data": {
      "text/html": [
       "<div style='float:left;background:#d34f5c;padding:10px;width:300px;'></div>"
      ],
      "text/plain": [
       "<IPython.core.display.HTML object>"
      ]
     },
     "metadata": {},
     "output_type": "display_data"
    },
    {
     "name": "stdout",
     "output_type": "stream",
     "text": [
      "ground truth\n"
     ]
    },
    {
     "data": {
      "text/html": [
       "<div style='float:left;background:#961a2d;padding:10px;width:300px;'></div>"
      ],
      "text/plain": [
       "<IPython.core.display.HTML object>"
      ]
     },
     "metadata": {},
     "output_type": "display_data"
    },
    {
     "name": "stdout",
     "output_type": "stream",
     "text": [
      "----------------------------\n",
      "color name :  cliffjumper red\n",
      "generated\n"
     ]
    },
    {
     "data": {
      "text/html": [
       "<div style='float:left;background:#cc1118;padding:10px;width:300px;'></div>"
      ],
      "text/plain": [
       "<IPython.core.display.HTML object>"
      ]
     },
     "metadata": {},
     "output_type": "display_data"
    },
    {
     "name": "stdout",
     "output_type": "stream",
     "text": [
      "ground truth\n"
     ]
    },
    {
     "data": {
      "text/html": [
       "<div style='float:left;background:#b82730;padding:10px;width:300px;'></div>"
      ],
      "text/plain": [
       "<IPython.core.display.HTML object>"
      ]
     },
     "metadata": {},
     "output_type": "display_data"
    },
    {
     "name": "stdout",
     "output_type": "stream",
     "text": [
      "----------------------------\n",
      "color name :  go go red\n",
      "generated\n"
     ]
    },
    {
     "data": {
      "text/html": [
       "<div style='float:left;background:#851305;padding:10px;width:300px;'></div>"
      ],
      "text/plain": [
       "<IPython.core.display.HTML object>"
      ]
     },
     "metadata": {},
     "output_type": "display_data"
    },
    {
     "name": "stdout",
     "output_type": "stream",
     "text": [
      "ground truth\n"
     ]
    },
    {
     "data": {
      "text/html": [
       "<div style='float:left;background:#c53035;padding:10px;width:300px;'></div>"
      ],
      "text/plain": [
       "<IPython.core.display.HTML object>"
      ]
     },
     "metadata": {},
     "output_type": "display_data"
    },
    {
     "name": "stdout",
     "output_type": "stream",
     "text": [
      "----------------------------\n",
      "color name :  redina\n",
      "generated\n"
     ]
    },
    {
     "data": {
      "text/html": [
       "<div style='float:left;background:#dd3738;padding:10px;width:300px;'></div>"
      ],
      "text/plain": [
       "<IPython.core.display.HTML object>"
      ]
     },
     "metadata": {},
     "output_type": "display_data"
    },
    {
     "name": "stdout",
     "output_type": "stream",
     "text": [
      "ground truth\n"
     ]
    },
    {
     "data": {
      "text/html": [
       "<div style='float:left;background:#c83d37;padding:10px;width:300px;'></div>"
      ],
      "text/plain": [
       "<IPython.core.display.HTML object>"
      ]
     },
     "metadata": {},
     "output_type": "display_data"
    },
    {
     "name": "stdout",
     "output_type": "stream",
     "text": [
      "----------------------------\n",
      "color name :  watered mustard\n",
      "generated\n"
     ]
    },
    {
     "data": {
      "text/html": [
       "<div style='float:left;background:#b5a052;padding:10px;width:300px;'></div>"
      ],
      "text/plain": [
       "<IPython.core.display.HTML object>"
      ]
     },
     "metadata": {},
     "output_type": "display_data"
    },
    {
     "name": "stdout",
     "output_type": "stream",
     "text": [
      "ground truth\n"
     ]
    },
    {
     "data": {
      "text/html": [
       "<div style='float:left;background:#c5ac3f;padding:10px;width:300px;'></div>"
      ],
      "text/plain": [
       "<IPython.core.display.HTML object>"
      ]
     },
     "metadata": {},
     "output_type": "display_data"
    },
    {
     "name": "stdout",
     "output_type": "stream",
     "text": [
      "----------------------------\n",
      "color name :  redverence\n",
      "generated\n"
     ]
    },
    {
     "data": {
      "text/html": [
       "<div style='float:left;background:#cd2508;padding:10px;width:300px;'></div>"
      ],
      "text/plain": [
       "<IPython.core.display.HTML object>"
      ]
     },
     "metadata": {},
     "output_type": "display_data"
    },
    {
     "name": "stdout",
     "output_type": "stream",
     "text": [
      "ground truth\n"
     ]
    },
    {
     "data": {
      "text/html": [
       "<div style='float:left;background:#be4c4d;padding:10px;width:300px;'></div>"
      ],
      "text/plain": [
       "<IPython.core.display.HTML object>"
      ]
     },
     "metadata": {},
     "output_type": "display_data"
    },
    {
     "name": "stdout",
     "output_type": "stream",
     "text": [
      "----------------------------\n",
      "color name :  sacred\n",
      "generated\n"
     ]
    },
    {
     "data": {
      "text/html": [
       "<div style='float:left;background:#b5ac9d;padding:10px;width:300px;'></div>"
      ],
      "text/plain": [
       "<IPython.core.display.HTML object>"
      ]
     },
     "metadata": {},
     "output_type": "display_data"
    },
    {
     "name": "stdout",
     "output_type": "stream",
     "text": [
      "ground truth\n"
     ]
    },
    {
     "data": {
      "text/html": [
       "<div style='float:left;background:#b86c5e;padding:10px;width:300px;'></div>"
      ],
      "text/plain": [
       "<IPython.core.display.HTML object>"
      ]
     },
     "metadata": {},
     "output_type": "display_data"
    },
    {
     "name": "stdout",
     "output_type": "stream",
     "text": [
      "----------------------------\n",
      "color name :  sunless pink red apc\n",
      "generated\n"
     ]
    },
    {
     "data": {
      "text/html": [
       "<div style='float:left;background:#ce125e;padding:10px;width:300px;'></div>"
      ],
      "text/plain": [
       "<IPython.core.display.HTML object>"
      ]
     },
     "metadata": {},
     "output_type": "display_data"
    },
    {
     "name": "stdout",
     "output_type": "stream",
     "text": [
      "ground truth\n"
     ]
    },
    {
     "data": {
      "text/html": [
       "<div style='float:left;background:#c03239;padding:10px;width:300px;'></div>"
      ],
      "text/plain": [
       "<IPython.core.display.HTML object>"
      ]
     },
     "metadata": {},
     "output_type": "display_data"
    },
    {
     "name": "stdout",
     "output_type": "stream",
     "text": [
      "----------------------------\n",
      "color name :  red peppercorn\n",
      "generated\n"
     ]
    },
    {
     "data": {
      "text/html": [
       "<div style='float:left;background:#e23e1c;padding:10px;width:300px;'></div>"
      ],
      "text/plain": [
       "<IPython.core.display.HTML object>"
      ]
     },
     "metadata": {},
     "output_type": "display_data"
    },
    {
     "name": "stdout",
     "output_type": "stream",
     "text": [
      "ground truth\n"
     ]
    },
    {
     "data": {
      "text/html": [
       "<div style='float:left;background:#c53330;padding:10px;width:300px;'></div>"
      ],
      "text/plain": [
       "<IPython.core.display.HTML object>"
      ]
     },
     "metadata": {},
     "output_type": "display_data"
    },
    {
     "name": "stdout",
     "output_type": "stream",
     "text": [
      "----------------------------\n",
      "color name :  rainbow red\n",
      "generated\n"
     ]
    },
    {
     "data": {
      "text/html": [
       "<div style='float:left;background:#8a1205;padding:10px;width:300px;'></div>"
      ],
      "text/plain": [
       "<IPython.core.display.HTML object>"
      ]
     },
     "metadata": {},
     "output_type": "display_data"
    },
    {
     "name": "stdout",
     "output_type": "stream",
     "text": [
      "ground truth\n"
     ]
    },
    {
     "data": {
      "text/html": [
       "<div style='float:left;background:#c52d30;padding:10px;width:300px;'></div>"
      ],
      "text/plain": [
       "<IPython.core.display.HTML object>"
      ]
     },
     "metadata": {},
     "output_type": "display_data"
    },
    {
     "name": "stdout",
     "output_type": "stream",
     "text": [
      "----------------------------\n",
      "color name :  ohcredirty\n",
      "generated\n"
     ]
    },
    {
     "data": {
      "text/html": [
       "<div style='float:left;background:#ebd97c;padding:10px;width:300px;'></div>"
      ],
      "text/plain": [
       "<IPython.core.display.HTML object>"
      ]
     },
     "metadata": {},
     "output_type": "display_data"
    },
    {
     "name": "stdout",
     "output_type": "stream",
     "text": [
      "ground truth\n"
     ]
    },
    {
     "data": {
      "text/html": [
       "<div style='float:left;background:#a26b6a;padding:10px;width:300px;'></div>"
      ],
      "text/plain": [
       "<IPython.core.display.HTML object>"
      ]
     },
     "metadata": {},
     "output_type": "display_data"
    },
    {
     "name": "stdout",
     "output_type": "stream",
     "text": [
      "----------------------------\n",
      "color name :  no to be discovered\n",
      "generated\n"
     ]
    },
    {
     "data": {
      "text/html": [
       "<div style='float:left;background:#475800;padding:10px;width:300px;'></div>"
      ],
      "text/plain": [
       "<IPython.core.display.HTML object>"
      ]
     },
     "metadata": {},
     "output_type": "display_data"
    },
    {
     "name": "stdout",
     "output_type": "stream",
     "text": [
      "ground truth\n"
     ]
    },
    {
     "data": {
      "text/html": [
       "<div style='float:left;background:#98797a;padding:10px;width:300px;'></div>"
      ],
      "text/plain": [
       "<IPython.core.display.HTML object>"
      ]
     },
     "metadata": {},
     "output_type": "display_data"
    },
    {
     "name": "stdout",
     "output_type": "stream",
     "text": [
      "----------------------------\n",
      "color name :  freddys wife\n",
      "generated\n"
     ]
    },
    {
     "data": {
      "text/html": [
       "<div style='float:left;background:#e72752;padding:10px;width:300px;'></div>"
      ],
      "text/plain": [
       "<IPython.core.display.HTML object>"
      ]
     },
     "metadata": {},
     "output_type": "display_data"
    },
    {
     "name": "stdout",
     "output_type": "stream",
     "text": [
      "ground truth\n"
     ]
    },
    {
     "data": {
      "text/html": [
       "<div style='float:left;background:#ae807d;padding:10px;width:300px;'></div>"
      ],
      "text/plain": [
       "<IPython.core.display.HTML object>"
      ]
     },
     "metadata": {},
     "output_type": "display_data"
    },
    {
     "name": "stdout",
     "output_type": "stream",
     "text": [
      "----------------------------\n",
      "color name :  red sock white wash\n",
      "generated\n"
     ]
    },
    {
     "data": {
      "text/html": [
       "<div style='float:left;background:#cb9aad;padding:10px;width:300px;'></div>"
      ],
      "text/plain": [
       "<IPython.core.display.HTML object>"
      ]
     },
     "metadata": {},
     "output_type": "display_data"
    },
    {
     "name": "stdout",
     "output_type": "stream",
     "text": [
      "ground truth\n"
     ]
    },
    {
     "data": {
      "text/html": [
       "<div style='float:left;background:#eaa99f;padding:10px;width:300px;'></div>"
      ],
      "text/plain": [
       "<IPython.core.display.HTML object>"
      ]
     },
     "metadata": {},
     "output_type": "display_data"
    },
    {
     "name": "stdout",
     "output_type": "stream",
     "text": [
      "----------------------------\n",
      "color name :  fine wine red\n",
      "generated\n"
     ]
    },
    {
     "data": {
      "text/html": [
       "<div style='float:left;background:#752a3e;padding:10px;width:300px;'></div>"
      ],
      "text/plain": [
       "<IPython.core.display.HTML object>"
      ]
     },
     "metadata": {},
     "output_type": "display_data"
    },
    {
     "name": "stdout",
     "output_type": "stream",
     "text": [
      "ground truth\n"
     ]
    },
    {
     "data": {
      "text/html": [
       "<div style='float:left;background:#a3232b;padding:10px;width:300px;'></div>"
      ],
      "text/plain": [
       "<IPython.core.display.HTML object>"
      ]
     },
     "metadata": {},
     "output_type": "display_data"
    },
    {
     "name": "stdout",
     "output_type": "stream",
     "text": [
      "----------------------------\n",
      "color name :  once red\n",
      "generated\n"
     ]
    },
    {
     "data": {
      "text/html": [
       "<div style='float:left;background:#ce868f;padding:10px;width:300px;'></div>"
      ],
      "text/plain": [
       "<IPython.core.display.HTML object>"
      ]
     },
     "metadata": {},
     "output_type": "display_data"
    },
    {
     "name": "stdout",
     "output_type": "stream",
     "text": [
      "ground truth\n"
     ]
    },
    {
     "data": {
      "text/html": [
       "<div style='float:left;background:#ca3334;padding:10px;width:300px;'></div>"
      ],
      "text/plain": [
       "<IPython.core.display.HTML object>"
      ]
     },
     "metadata": {},
     "output_type": "display_data"
    },
    {
     "name": "stdout",
     "output_type": "stream",
     "text": [
      "----------------------------\n",
      "color name :  bright ruby red\n",
      "generated\n"
     ]
    },
    {
     "data": {
      "text/html": [
       "<div style='float:left;background:#e92f5a;padding:10px;width:300px;'></div>"
      ],
      "text/plain": [
       "<IPython.core.display.HTML object>"
      ]
     },
     "metadata": {},
     "output_type": "display_data"
    },
    {
     "name": "stdout",
     "output_type": "stream",
     "text": [
      "ground truth\n"
     ]
    },
    {
     "data": {
      "text/html": [
       "<div style='float:left;background:#c62a33;padding:10px;width:300px;'></div>"
      ],
      "text/plain": [
       "<IPython.core.display.HTML object>"
      ]
     },
     "metadata": {},
     "output_type": "display_data"
    },
    {
     "name": "stdout",
     "output_type": "stream",
     "text": [
      "----------------------------\n",
      "color name :  centrocampored\n",
      "generated\n"
     ]
    },
    {
     "data": {
      "text/html": [
       "<div style='float:left;background:#7f6e40;padding:10px;width:300px;'></div>"
      ],
      "text/plain": [
       "<IPython.core.display.HTML object>"
      ]
     },
     "metadata": {},
     "output_type": "display_data"
    },
    {
     "name": "stdout",
     "output_type": "stream",
     "text": [
      "ground truth\n"
     ]
    },
    {
     "data": {
      "text/html": [
       "<div style='float:left;background:#ae6669;padding:10px;width:300px;'></div>"
      ],
      "text/plain": [
       "<IPython.core.display.HTML object>"
      ]
     },
     "metadata": {},
     "output_type": "display_data"
    },
    {
     "name": "stdout",
     "output_type": "stream",
     "text": [
      "----------------------------\n",
      "color name :  red oleander\n",
      "generated\n"
     ]
    },
    {
     "data": {
      "text/html": [
       "<div style='float:left;background:#e02519;padding:10px;width:300px;'></div>"
      ],
      "text/plain": [
       "<IPython.core.display.HTML object>"
      ]
     },
     "metadata": {},
     "output_type": "display_data"
    },
    {
     "name": "stdout",
     "output_type": "stream",
     "text": [
      "ground truth\n"
     ]
    },
    {
     "data": {
      "text/html": [
       "<div style='float:left;background:#c4302e;padding:10px;width:300px;'></div>"
      ],
      "text/plain": [
       "<IPython.core.display.HTML object>"
      ]
     },
     "metadata": {},
     "output_type": "display_data"
    },
    {
     "name": "stdout",
     "output_type": "stream",
     "text": [
      "----------------------------\n",
      "color name :  thesecret ingredient\n",
      "generated\n"
     ]
    },
    {
     "data": {
      "text/html": [
       "<div style='float:left;background:#5a4d03;padding:10px;width:300px;'></div>"
      ],
      "text/plain": [
       "<IPython.core.display.HTML object>"
      ]
     },
     "metadata": {},
     "output_type": "display_data"
    },
    {
     "name": "stdout",
     "output_type": "stream",
     "text": [
      "ground truth\n"
     ]
    },
    {
     "data": {
      "text/html": [
       "<div style='float:left;background:#997472;padding:10px;width:300px;'></div>"
      ],
      "text/plain": [
       "<IPython.core.display.HTML object>"
      ]
     },
     "metadata": {},
     "output_type": "display_data"
    },
    {
     "name": "stdout",
     "output_type": "stream",
     "text": [
      "----------------------------\n",
      "color name :  major league red\n",
      "generated\n"
     ]
    },
    {
     "data": {
      "text/html": [
       "<div style='float:left;background:#fa002e;padding:10px;width:300px;'></div>"
      ],
      "text/plain": [
       "<IPython.core.display.HTML object>"
      ]
     },
     "metadata": {},
     "output_type": "display_data"
    },
    {
     "name": "stdout",
     "output_type": "stream",
     "text": [
      "ground truth\n"
     ]
    },
    {
     "data": {
      "text/html": [
       "<div style='float:left;background:#c8453f;padding:10px;width:300px;'></div>"
      ],
      "text/plain": [
       "<IPython.core.display.HTML object>"
      ]
     },
     "metadata": {},
     "output_type": "display_data"
    },
    {
     "name": "stdout",
     "output_type": "stream",
     "text": [
      "----------------------------\n",
      "color name :  filtered obscura\n",
      "generated\n"
     ]
    },
    {
     "data": {
      "text/html": [
       "<div style='float:left;background:#bed9c8;padding:10px;width:300px;'></div>"
      ],
      "text/plain": [
       "<IPython.core.display.HTML object>"
      ]
     },
     "metadata": {},
     "output_type": "display_data"
    },
    {
     "name": "stdout",
     "output_type": "stream",
     "text": [
      "ground truth\n"
     ]
    },
    {
     "data": {
      "text/html": [
       "<div style='float:left;background:#8c6d68;padding:10px;width:300px;'></div>"
      ],
      "text/plain": [
       "<IPython.core.display.HTML object>"
      ]
     },
     "metadata": {},
     "output_type": "display_data"
    },
    {
     "name": "stdout",
     "output_type": "stream",
     "text": [
      "----------------------------\n",
      "color name :  honest red\n",
      "generated\n"
     ]
    },
    {
     "data": {
      "text/html": [
       "<div style='float:left;background:#f5401a;padding:10px;width:300px;'></div>"
      ],
      "text/plain": [
       "<IPython.core.display.HTML object>"
      ]
     },
     "metadata": {},
     "output_type": "display_data"
    },
    {
     "name": "stdout",
     "output_type": "stream",
     "text": [
      "ground truth\n"
     ]
    },
    {
     "data": {
      "text/html": [
       "<div style='float:left;background:#c52a31;padding:10px;width:300px;'></div>"
      ],
      "text/plain": [
       "<IPython.core.display.HTML object>"
      ]
     },
     "metadata": {},
     "output_type": "display_data"
    },
    {
     "name": "stdout",
     "output_type": "stream",
     "text": [
      "----------------------------\n",
      "color name :  rojo de uruguay red\n",
      "generated\n"
     ]
    },
    {
     "data": {
      "text/html": [
       "<div style='float:left;background:#86240d;padding:10px;width:300px;'></div>"
      ],
      "text/plain": [
       "<IPython.core.display.HTML object>"
      ]
     },
     "metadata": {},
     "output_type": "display_data"
    },
    {
     "name": "stdout",
     "output_type": "stream",
     "text": [
      "ground truth\n"
     ]
    },
    {
     "data": {
      "text/html": [
       "<div style='float:left;background:#b02428;padding:10px;width:300px;'></div>"
      ],
      "text/plain": [
       "<IPython.core.display.HTML object>"
      ]
     },
     "metadata": {},
     "output_type": "display_data"
    },
    {
     "name": "stdout",
     "output_type": "stream",
     "text": [
      "----------------------------\n",
      "color name :  incendio red\n",
      "generated\n"
     ]
    },
    {
     "data": {
      "text/html": [
       "<div style='float:left;background:#ee765a;padding:10px;width:300px;'></div>"
      ],
      "text/plain": [
       "<IPython.core.display.HTML object>"
      ]
     },
     "metadata": {},
     "output_type": "display_data"
    },
    {
     "name": "stdout",
     "output_type": "stream",
     "text": [
      "ground truth\n"
     ]
    },
    {
     "data": {
      "text/html": [
       "<div style='float:left;background:#ca2f35;padding:10px;width:300px;'></div>"
      ],
      "text/plain": [
       "<IPython.core.display.HTML object>"
      ]
     },
     "metadata": {},
     "output_type": "display_data"
    },
    {
     "name": "stdout",
     "output_type": "stream",
     "text": [
      "----------------------------\n",
      "color name :  varanasi red\n",
      "generated\n"
     ]
    },
    {
     "data": {
      "text/html": [
       "<div style='float:left;background:#e39e70;padding:10px;width:300px;'></div>"
      ],
      "text/plain": [
       "<IPython.core.display.HTML object>"
      ]
     },
     "metadata": {},
     "output_type": "display_data"
    },
    {
     "name": "stdout",
     "output_type": "stream",
     "text": [
      "ground truth\n"
     ]
    },
    {
     "data": {
      "text/html": [
       "<div style='float:left;background:#cc3730;padding:10px;width:300px;'></div>"
      ],
      "text/plain": [
       "<IPython.core.display.HTML object>"
      ]
     },
     "metadata": {},
     "output_type": "display_data"
    },
    {
     "name": "stdout",
     "output_type": "stream",
     "text": [
      "----------------------------\n",
      "color name :  milano red\n",
      "generated\n"
     ]
    },
    {
     "data": {
      "text/html": [
       "<div style='float:left;background:#c52a10;padding:10px;width:300px;'></div>"
      ],
      "text/plain": [
       "<IPython.core.display.HTML object>"
      ]
     },
     "metadata": {},
     "output_type": "display_data"
    },
    {
     "name": "stdout",
     "output_type": "stream",
     "text": [
      "ground truth\n"
     ]
    },
    {
     "data": {
      "text/html": [
       "<div style='float:left;background:#c93433;padding:10px;width:300px;'></div>"
      ],
      "text/plain": [
       "<IPython.core.display.HTML object>"
      ]
     },
     "metadata": {},
     "output_type": "display_data"
    },
    {
     "name": "stdout",
     "output_type": "stream",
     "text": [
      "----------------------------\n",
      "color name :  rockin robin red\n",
      "generated\n"
     ]
    },
    {
     "data": {
      "text/html": [
       "<div style='float:left;background:#f01043;padding:10px;width:300px;'></div>"
      ],
      "text/plain": [
       "<IPython.core.display.HTML object>"
      ]
     },
     "metadata": {},
     "output_type": "display_data"
    },
    {
     "name": "stdout",
     "output_type": "stream",
     "text": [
      "ground truth\n"
     ]
    },
    {
     "data": {
      "text/html": [
       "<div style='float:left;background:#c23436;padding:10px;width:300px;'></div>"
      ],
      "text/plain": [
       "<IPython.core.display.HTML object>"
      ]
     },
     "metadata": {},
     "output_type": "display_data"
    },
    {
     "name": "stdout",
     "output_type": "stream",
     "text": [
      "----------------------------\n",
      "color name :  credit fares\n",
      "generated\n"
     ]
    },
    {
     "data": {
      "text/html": [
       "<div style='float:left;background:#b2b77d;padding:10px;width:300px;'></div>"
      ],
      "text/plain": [
       "<IPython.core.display.HTML object>"
      ]
     },
     "metadata": {},
     "output_type": "display_data"
    },
    {
     "name": "stdout",
     "output_type": "stream",
     "text": [
      "ground truth\n"
     ]
    },
    {
     "data": {
      "text/html": [
       "<div style='float:left;background:#a48174;padding:10px;width:300px;'></div>"
      ],
      "text/plain": [
       "<IPython.core.display.HTML object>"
      ]
     },
     "metadata": {},
     "output_type": "display_data"
    },
    {
     "name": "stdout",
     "output_type": "stream",
     "text": [
      "----------------------------\n",
      "color name :  lighter red\n",
      "generated\n"
     ]
    },
    {
     "data": {
      "text/html": [
       "<div style='float:left;background:#e85866;padding:10px;width:300px;'></div>"
      ],
      "text/plain": [
       "<IPython.core.display.HTML object>"
      ]
     },
     "metadata": {},
     "output_type": "display_data"
    },
    {
     "name": "stdout",
     "output_type": "stream",
     "text": [
      "ground truth\n"
     ]
    },
    {
     "data": {
      "text/html": [
       "<div style='float:left;background:#d74b42;padding:10px;width:300px;'></div>"
      ],
      "text/plain": [
       "<IPython.core.display.HTML object>"
      ]
     },
     "metadata": {},
     "output_type": "display_data"
    },
    {
     "name": "stdout",
     "output_type": "stream",
     "text": [
      "----------------------------\n",
      "color name :  red x u\n",
      "generated\n"
     ]
    },
    {
     "data": {
      "text/html": [
       "<div style='float:left;background:#eb0f3d;padding:10px;width:300px;'></div>"
      ],
      "text/plain": [
       "<IPython.core.display.HTML object>"
      ]
     },
     "metadata": {},
     "output_type": "display_data"
    },
    {
     "name": "stdout",
     "output_type": "stream",
     "text": [
      "ground truth\n"
     ]
    },
    {
     "data": {
      "text/html": [
       "<div style='float:left;background:#c43230;padding:10px;width:300px;'></div>"
      ],
      "text/plain": [
       "<IPython.core.display.HTML object>"
      ]
     },
     "metadata": {},
     "output_type": "display_data"
    },
    {
     "name": "stdout",
     "output_type": "stream",
     "text": [
      "----------------------------\n",
      "color name :  heartbeat red\n",
      "generated\n"
     ]
    },
    {
     "data": {
      "text/html": [
       "<div style='float:left;background:#f21414;padding:10px;width:300px;'></div>"
      ],
      "text/plain": [
       "<IPython.core.display.HTML object>"
      ]
     },
     "metadata": {},
     "output_type": "display_data"
    },
    {
     "name": "stdout",
     "output_type": "stream",
     "text": [
      "ground truth\n"
     ]
    },
    {
     "data": {
      "text/html": [
       "<div style='float:left;background:#c62b32;padding:10px;width:300px;'></div>"
      ],
      "text/plain": [
       "<IPython.core.display.HTML object>"
      ]
     },
     "metadata": {},
     "output_type": "display_data"
    },
    {
     "name": "stdout",
     "output_type": "stream",
     "text": [
      "----------------------------\n",
      "color name :  red muscat\n",
      "generated\n"
     ]
    },
    {
     "data": {
      "text/html": [
       "<div style='float:left;background:#c35637;padding:10px;width:300px;'></div>"
      ],
      "text/plain": [
       "<IPython.core.display.HTML object>"
      ]
     },
     "metadata": {},
     "output_type": "display_data"
    },
    {
     "name": "stdout",
     "output_type": "stream",
     "text": [
      "ground truth\n"
     ]
    },
    {
     "data": {
      "text/html": [
       "<div style='float:left;background:#c0382e;padding:10px;width:300px;'></div>"
      ],
      "text/plain": [
       "<IPython.core.display.HTML object>"
      ]
     },
     "metadata": {},
     "output_type": "display_data"
    },
    {
     "name": "stdout",
     "output_type": "stream",
     "text": [
      "----------------------------\n",
      "color name :  canuck red\n",
      "generated\n"
     ]
    },
    {
     "data": {
      "text/html": [
       "<div style='float:left;background:#f63729;padding:10px;width:300px;'></div>"
      ],
      "text/plain": [
       "<IPython.core.display.HTML object>"
      ]
     },
     "metadata": {},
     "output_type": "display_data"
    },
    {
     "name": "stdout",
     "output_type": "stream",
     "text": [
      "ground truth\n"
     ]
    },
    {
     "data": {
      "text/html": [
       "<div style='float:left;background:#c53430;padding:10px;width:300px;'></div>"
      ],
      "text/plain": [
       "<IPython.core.display.HTML object>"
      ]
     },
     "metadata": {},
     "output_type": "display_data"
    },
    {
     "name": "stdout",
     "output_type": "stream",
     "text": [
      "----------------------------\n",
      "color name :  red bubble\n",
      "generated\n"
     ]
    },
    {
     "data": {
      "text/html": [
       "<div style='float:left;background:#e75438;padding:10px;width:300px;'></div>"
      ],
      "text/plain": [
       "<IPython.core.display.HTML object>"
      ]
     },
     "metadata": {},
     "output_type": "display_data"
    },
    {
     "name": "stdout",
     "output_type": "stream",
     "text": [
      "ground truth\n"
     ]
    },
    {
     "data": {
      "text/html": [
       "<div style='float:left;background:#bf3634;padding:10px;width:300px;'></div>"
      ],
      "text/plain": [
       "<IPython.core.display.HTML object>"
      ]
     },
     "metadata": {},
     "output_type": "display_data"
    },
    {
     "name": "stdout",
     "output_type": "stream",
     "text": [
      "----------------------------\n",
      "color name :  clear red glass\n",
      "generated\n"
     ]
    },
    {
     "data": {
      "text/html": [
       "<div style='float:left;background:#e7416b;padding:10px;width:300px;'></div>"
      ],
      "text/plain": [
       "<IPython.core.display.HTML object>"
      ]
     },
     "metadata": {},
     "output_type": "display_data"
    },
    {
     "name": "stdout",
     "output_type": "stream",
     "text": [
      "ground truth\n"
     ]
    },
    {
     "data": {
      "text/html": [
       "<div style='float:left;background:#d63e41;padding:10px;width:300px;'></div>"
      ],
      "text/plain": [
       "<IPython.core.display.HTML object>"
      ]
     },
     "metadata": {},
     "output_type": "display_data"
    },
    {
     "name": "stdout",
     "output_type": "stream",
     "text": [
      "----------------------------\n",
      "color name :  pinky red mist\n",
      "generated\n"
     ]
    },
    {
     "data": {
      "text/html": [
       "<div style='float:left;background:#c73b46;padding:10px;width:300px;'></div>"
      ],
      "text/plain": [
       "<IPython.core.display.HTML object>"
      ]
     },
     "metadata": {},
     "output_type": "display_data"
    },
    {
     "name": "stdout",
     "output_type": "stream",
     "text": [
      "ground truth\n"
     ]
    },
    {
     "data": {
      "text/html": [
       "<div style='float:left;background:#d83e50;padding:10px;width:300px;'></div>"
      ],
      "text/plain": [
       "<IPython.core.display.HTML object>"
      ]
     },
     "metadata": {},
     "output_type": "display_data"
    },
    {
     "name": "stdout",
     "output_type": "stream",
     "text": [
      "----------------------------\n",
      "color name :  unnerving red\n",
      "generated\n"
     ]
    },
    {
     "data": {
      "text/html": [
       "<div style='float:left;background:#a65758;padding:10px;width:300px;'></div>"
      ],
      "text/plain": [
       "<IPython.core.display.HTML object>"
      ]
     },
     "metadata": {},
     "output_type": "display_data"
    },
    {
     "name": "stdout",
     "output_type": "stream",
     "text": [
      "ground truth\n"
     ]
    },
    {
     "data": {
      "text/html": [
       "<div style='float:left;background:#bf292e;padding:10px;width:300px;'></div>"
      ],
      "text/plain": [
       "<IPython.core.display.HTML object>"
      ]
     },
     "metadata": {},
     "output_type": "display_data"
    },
    {
     "name": "stdout",
     "output_type": "stream",
     "text": [
      "----------------------------\n",
      "color name :  red was pink\n",
      "generated\n"
     ]
    },
    {
     "data": {
      "text/html": [
       "<div style='float:left;background:#f53b3d;padding:10px;width:300px;'></div>"
      ],
      "text/plain": [
       "<IPython.core.display.HTML object>"
      ]
     },
     "metadata": {},
     "output_type": "display_data"
    },
    {
     "name": "stdout",
     "output_type": "stream",
     "text": [
      "ground truth\n"
     ]
    },
    {
     "data": {
      "text/html": [
       "<div style='float:left;background:#d8404d;padding:10px;width:300px;'></div>"
      ],
      "text/plain": [
       "<IPython.core.display.HTML object>"
      ]
     },
     "metadata": {},
     "output_type": "display_data"
    },
    {
     "name": "stdout",
     "output_type": "stream",
     "text": [
      "----------------------------\n",
      "color name :  red bull\n",
      "generated\n"
     ]
    },
    {
     "data": {
      "text/html": [
       "<div style='float:left;background:#980622;padding:10px;width:300px;'></div>"
      ],
      "text/plain": [
       "<IPython.core.display.HTML object>"
      ]
     },
     "metadata": {},
     "output_type": "display_data"
    },
    {
     "name": "stdout",
     "output_type": "stream",
     "text": [
      "ground truth\n"
     ]
    },
    {
     "data": {
      "text/html": [
       "<div style='float:left;background:#c13631;padding:10px;width:300px;'></div>"
      ],
      "text/plain": [
       "<IPython.core.display.HTML object>"
      ]
     },
     "metadata": {},
     "output_type": "display_data"
    },
    {
     "name": "stdout",
     "output_type": "stream",
     "text": [
      "----------------------------\n",
      "color name :  duck cherry red\n",
      "generated\n"
     ]
    },
    {
     "data": {
      "text/html": [
       "<div style='float:left;background:#e8656f;padding:10px;width:300px;'></div>"
      ],
      "text/plain": [
       "<IPython.core.display.HTML object>"
      ]
     },
     "metadata": {},
     "output_type": "display_data"
    },
    {
     "name": "stdout",
     "output_type": "stream",
     "text": [
      "ground truth\n"
     ]
    },
    {
     "data": {
      "text/html": [
       "<div style='float:left;background:#bb262f;padding:10px;width:300px;'></div>"
      ],
      "text/plain": [
       "<IPython.core.display.HTML object>"
      ]
     },
     "metadata": {},
     "output_type": "display_data"
    },
    {
     "name": "stdout",
     "output_type": "stream",
     "text": [
      "----------------------------\n",
      "color name :  cherub red\n",
      "generated\n"
     ]
    },
    {
     "data": {
      "text/html": [
       "<div style='float:left;background:#fa737c;padding:10px;width:300px;'></div>"
      ],
      "text/plain": [
       "<IPython.core.display.HTML object>"
      ]
     },
     "metadata": {},
     "output_type": "display_data"
    },
    {
     "name": "stdout",
     "output_type": "stream",
     "text": [
      "ground truth\n"
     ]
    },
    {
     "data": {
      "text/html": [
       "<div style='float:left;background:#bf272f;padding:10px;width:300px;'></div>"
      ],
      "text/plain": [
       "<IPython.core.display.HTML object>"
      ]
     },
     "metadata": {},
     "output_type": "display_data"
    },
    {
     "name": "stdout",
     "output_type": "stream",
     "text": [
      "----------------------------\n",
      "color name :  aries red \n",
      "generated\n"
     ]
    },
    {
     "data": {
      "text/html": [
       "<div style='float:left;background:#f51e08;padding:10px;width:300px;'></div>"
      ],
      "text/plain": [
       "<IPython.core.display.HTML object>"
      ]
     },
     "metadata": {},
     "output_type": "display_data"
    },
    {
     "name": "stdout",
     "output_type": "stream",
     "text": [
      "ground truth\n"
     ]
    },
    {
     "data": {
      "text/html": [
       "<div style='float:left;background:#c32d34;padding:10px;width:300px;'></div>"
      ],
      "text/plain": [
       "<IPython.core.display.HTML object>"
      ]
     },
     "metadata": {},
     "output_type": "display_data"
    },
    {
     "name": "stdout",
     "output_type": "stream",
     "text": [
      "----------------------------\n",
      "color name :  red with frost\n",
      "generated\n"
     ]
    },
    {
     "data": {
      "text/html": [
       "<div style='float:left;background:#aa002e;padding:10px;width:300px;'></div>"
      ],
      "text/plain": [
       "<IPython.core.display.HTML object>"
      ]
     },
     "metadata": {},
     "output_type": "display_data"
    },
    {
     "name": "stdout",
     "output_type": "stream",
     "text": [
      "ground truth\n"
     ]
    },
    {
     "data": {
      "text/html": [
       "<div style='float:left;background:#c6453f;padding:10px;width:300px;'></div>"
      ],
      "text/plain": [
       "<IPython.core.display.HTML object>"
      ]
     },
     "metadata": {},
     "output_type": "display_data"
    },
    {
     "name": "stdout",
     "output_type": "stream",
     "text": [
      "----------------------------\n",
      "color name :  rustred hot\n",
      "generated\n"
     ]
    },
    {
     "data": {
      "text/html": [
       "<div style='float:left;background:#9c0602;padding:10px;width:300px;'></div>"
      ],
      "text/plain": [
       "<IPython.core.display.HTML object>"
      ]
     },
     "metadata": {},
     "output_type": "display_data"
    },
    {
     "name": "stdout",
     "output_type": "stream",
     "text": [
      "ground truth\n"
     ]
    },
    {
     "data": {
      "text/html": [
       "<div style='float:left;background:#ae2f29;padding:10px;width:300px;'></div>"
      ],
      "text/plain": [
       "<IPython.core.display.HTML object>"
      ]
     },
     "metadata": {},
     "output_type": "display_data"
    },
    {
     "name": "stdout",
     "output_type": "stream",
     "text": [
      "----------------------------\n",
      "color name :  birthday red u\n",
      "generated\n"
     ]
    },
    {
     "data": {
      "text/html": [
       "<div style='float:left;background:#a30926;padding:10px;width:300px;'></div>"
      ],
      "text/plain": [
       "<IPython.core.display.HTML object>"
      ]
     },
     "metadata": {},
     "output_type": "display_data"
    },
    {
     "name": "stdout",
     "output_type": "stream",
     "text": [
      "ground truth\n"
     ]
    },
    {
     "data": {
      "text/html": [
       "<div style='float:left;background:#c22c34;padding:10px;width:300px;'></div>"
      ],
      "text/plain": [
       "<IPython.core.display.HTML object>"
      ]
     },
     "metadata": {},
     "output_type": "display_data"
    },
    {
     "name": "stdout",
     "output_type": "stream",
     "text": [
      "----------------------------\n",
      "color name :  redbird\n",
      "generated\n"
     ]
    },
    {
     "data": {
      "text/html": [
       "<div style='float:left;background:#a04144;padding:10px;width:300px;'></div>"
      ],
      "text/plain": [
       "<IPython.core.display.HTML object>"
      ]
     },
     "metadata": {},
     "output_type": "display_data"
    },
    {
     "name": "stdout",
     "output_type": "stream",
     "text": [
      "ground truth\n"
     ]
    },
    {
     "data": {
      "text/html": [
       "<div style='float:left;background:#c2382d;padding:10px;width:300px;'></div>"
      ],
      "text/plain": [
       "<IPython.core.display.HTML object>"
      ]
     },
     "metadata": {},
     "output_type": "display_data"
    },
    {
     "name": "stdout",
     "output_type": "stream",
     "text": [
      "----------------------------\n",
      "color name :  dead knackered\n",
      "generated\n"
     ]
    },
    {
     "data": {
      "text/html": [
       "<div style='float:left;background:#2c1051;padding:10px;width:300px;'></div>"
      ],
      "text/plain": [
       "<IPython.core.display.HTML object>"
      ]
     },
     "metadata": {},
     "output_type": "display_data"
    },
    {
     "name": "stdout",
     "output_type": "stream",
     "text": [
      "ground truth\n"
     ]
    },
    {
     "data": {
      "text/html": [
       "<div style='float:left;background:#85544c;padding:10px;width:300px;'></div>"
      ],
      "text/plain": [
       "<IPython.core.display.HTML object>"
      ]
     },
     "metadata": {},
     "output_type": "display_data"
    },
    {
     "name": "stdout",
     "output_type": "stream",
     "text": [
      "----------------------------\n",
      "color name :  magenta red\n",
      "generated\n"
     ]
    },
    {
     "data": {
      "text/html": [
       "<div style='float:left;background:#f51c45;padding:10px;width:300px;'></div>"
      ],
      "text/plain": [
       "<IPython.core.display.HTML object>"
      ]
     },
     "metadata": {},
     "output_type": "display_data"
    },
    {
     "name": "stdout",
     "output_type": "stream",
     "text": [
      "ground truth\n"
     ]
    },
    {
     "data": {
      "text/html": [
       "<div style='float:left;background:#c21f39;padding:10px;width:300px;'></div>"
      ],
      "text/plain": [
       "<IPython.core.display.HTML object>"
      ]
     },
     "metadata": {},
     "output_type": "display_data"
    },
    {
     "name": "stdout",
     "output_type": "stream",
     "text": [
      "----------------------------\n",
      "color name :  msn red\n",
      "generated\n"
     ]
    },
    {
     "data": {
      "text/html": [
       "<div style='float:left;background:#dc582b;padding:10px;width:300px;'></div>"
      ],
      "text/plain": [
       "<IPython.core.display.HTML object>"
      ]
     },
     "metadata": {},
     "output_type": "display_data"
    },
    {
     "name": "stdout",
     "output_type": "stream",
     "text": [
      "ground truth\n"
     ]
    },
    {
     "data": {
      "text/html": [
       "<div style='float:left;background:#c0342f;padding:10px;width:300px;'></div>"
      ],
      "text/plain": [
       "<IPython.core.display.HTML object>"
      ]
     },
     "metadata": {},
     "output_type": "display_data"
    },
    {
     "name": "stdout",
     "output_type": "stream",
     "text": [
      "----------------------------\n",
      "color name :  red zircon acp\n",
      "generated\n"
     ]
    },
    {
     "data": {
      "text/html": [
       "<div style='float:left;background:#670b0b;padding:10px;width:300px;'></div>"
      ],
      "text/plain": [
       "<IPython.core.display.HTML object>"
      ]
     },
     "metadata": {},
     "output_type": "display_data"
    },
    {
     "name": "stdout",
     "output_type": "stream",
     "text": [
      "ground truth\n"
     ]
    },
    {
     "data": {
      "text/html": [
       "<div style='float:left;background:#c63735;padding:10px;width:300px;'></div>"
      ],
      "text/plain": [
       "<IPython.core.display.HTML object>"
      ]
     },
     "metadata": {},
     "output_type": "display_data"
    },
    {
     "name": "stdout",
     "output_type": "stream",
     "text": [
      "----------------------------\n",
      "color name :  hatred within\n",
      "generated\n"
     ]
    },
    {
     "data": {
      "text/html": [
       "<div style='float:left;background:#ad3d54;padding:10px;width:300px;'></div>"
      ],
      "text/plain": [
       "<IPython.core.display.HTML object>"
      ]
     },
     "metadata": {},
     "output_type": "display_data"
    },
    {
     "name": "stdout",
     "output_type": "stream",
     "text": [
      "ground truth\n"
     ]
    },
    {
     "data": {
      "text/html": [
       "<div style='float:left;background:#a47d75;padding:10px;width:300px;'></div>"
      ],
      "text/plain": [
       "<IPython.core.display.HTML object>"
      ]
     },
     "metadata": {},
     "output_type": "display_data"
    },
    {
     "name": "stdout",
     "output_type": "stream",
     "text": [
      "----------------------------\n",
      "color name :  believe red\n",
      "generated\n"
     ]
    },
    {
     "data": {
      "text/html": [
       "<div style='float:left;background:#950015;padding:10px;width:300px;'></div>"
      ],
      "text/plain": [
       "<IPython.core.display.HTML object>"
      ]
     },
     "metadata": {},
     "output_type": "display_data"
    },
    {
     "name": "stdout",
     "output_type": "stream",
     "text": [
      "ground truth\n"
     ]
    },
    {
     "data": {
      "text/html": [
       "<div style='float:left;background:#d0423d;padding:10px;width:300px;'></div>"
      ],
      "text/plain": [
       "<IPython.core.display.HTML object>"
      ]
     },
     "metadata": {},
     "output_type": "display_data"
    },
    {
     "name": "stdout",
     "output_type": "stream",
     "text": [
      "----------------------------\n",
      "color name :  geared up \n",
      "generated\n"
     ]
    },
    {
     "data": {
      "text/html": [
       "<div style='float:left;background:#be538e;padding:10px;width:300px;'></div>"
      ],
      "text/plain": [
       "<IPython.core.display.HTML object>"
      ]
     },
     "metadata": {},
     "output_type": "display_data"
    },
    {
     "name": "stdout",
     "output_type": "stream",
     "text": [
      "ground truth\n"
     ]
    },
    {
     "data": {
      "text/html": [
       "<div style='float:left;background:#a58c7b;padding:10px;width:300px;'></div>"
      ],
      "text/plain": [
       "<IPython.core.display.HTML object>"
      ]
     },
     "metadata": {},
     "output_type": "display_data"
    },
    {
     "name": "stdout",
     "output_type": "stream",
     "text": [
      "----------------------------\n",
      "color name :  very cherry red\n",
      "generated\n"
     ]
    },
    {
     "data": {
      "text/html": [
       "<div style='float:left;background:#dd273b;padding:10px;width:300px;'></div>"
      ],
      "text/plain": [
       "<IPython.core.display.HTML object>"
      ]
     },
     "metadata": {},
     "output_type": "display_data"
    },
    {
     "name": "stdout",
     "output_type": "stream",
     "text": [
      "ground truth\n"
     ]
    },
    {
     "data": {
      "text/html": [
       "<div style='float:left;background:#c12630;padding:10px;width:300px;'></div>"
      ],
      "text/plain": [
       "<IPython.core.display.HTML object>"
      ]
     },
     "metadata": {},
     "output_type": "display_data"
    },
    {
     "name": "stdout",
     "output_type": "stream",
     "text": [
      "----------------------------\n",
      "color name :  brighter red\n",
      "generated\n"
     ]
    },
    {
     "data": {
      "text/html": [
       "<div style='float:left;background:#ca0008;padding:10px;width:300px;'></div>"
      ],
      "text/plain": [
       "<IPython.core.display.HTML object>"
      ]
     },
     "metadata": {},
     "output_type": "display_data"
    },
    {
     "name": "stdout",
     "output_type": "stream",
     "text": [
      "ground truth\n"
     ]
    },
    {
     "data": {
      "text/html": [
       "<div style='float:left;background:#ce3432;padding:10px;width:300px;'></div>"
      ],
      "text/plain": [
       "<IPython.core.display.HTML object>"
      ]
     },
     "metadata": {},
     "output_type": "display_data"
    },
    {
     "name": "stdout",
     "output_type": "stream",
     "text": [
      "----------------------------\n",
      "color name :  redpinkish\n",
      "generated\n"
     ]
    },
    {
     "data": {
      "text/html": [
       "<div style='float:left;background:#eb41b5;padding:10px;width:300px;'></div>"
      ],
      "text/plain": [
       "<IPython.core.display.HTML object>"
      ]
     },
     "metadata": {},
     "output_type": "display_data"
    },
    {
     "name": "stdout",
     "output_type": "stream",
     "text": [
      "ground truth\n"
     ]
    },
    {
     "data": {
      "text/html": [
       "<div style='float:left;background:#d22c4d;padding:10px;width:300px;'></div>"
      ],
      "text/plain": [
       "<IPython.core.display.HTML object>"
      ]
     },
     "metadata": {},
     "output_type": "display_data"
    },
    {
     "name": "stdout",
     "output_type": "stream",
     "text": [
      "----------------------------\n",
      "color name :  elle red\n",
      "generated\n"
     ]
    },
    {
     "data": {
      "text/html": [
       "<div style='float:left;background:#e40512;padding:10px;width:300px;'></div>"
      ],
      "text/plain": [
       "<IPython.core.display.HTML object>"
      ]
     },
     "metadata": {},
     "output_type": "display_data"
    },
    {
     "name": "stdout",
     "output_type": "stream",
     "text": [
      "ground truth\n"
     ]
    },
    {
     "data": {
      "text/html": [
       "<div style='float:left;background:#c42c31;padding:10px;width:300px;'></div>"
      ],
      "text/plain": [
       "<IPython.core.display.HTML object>"
      ]
     },
     "metadata": {},
     "output_type": "display_data"
    },
    {
     "name": "stdout",
     "output_type": "stream",
     "text": [
      "----------------------------\n",
      "color name :  red from hell\n",
      "generated\n"
     ]
    },
    {
     "data": {
      "text/html": [
       "<div style='float:left;background:#ef2d53;padding:10px;width:300px;'></div>"
      ],
      "text/plain": [
       "<IPython.core.display.HTML object>"
      ]
     },
     "metadata": {},
     "output_type": "display_data"
    },
    {
     "name": "stdout",
     "output_type": "stream",
     "text": [
      "ground truth\n"
     ]
    },
    {
     "data": {
      "text/html": [
       "<div style='float:left;background:#cd3935;padding:10px;width:300px;'></div>"
      ],
      "text/plain": [
       "<IPython.core.display.HTML object>"
      ]
     },
     "metadata": {},
     "output_type": "display_data"
    },
    {
     "name": "stdout",
     "output_type": "stream",
     "text": [
      "----------------------------\n",
      "color name :  red centre\n",
      "generated\n"
     ]
    },
    {
     "data": {
      "text/html": [
       "<div style='float:left;background:#9f2703;padding:10px;width:300px;'></div>"
      ],
      "text/plain": [
       "<IPython.core.display.HTML object>"
      ]
     },
     "metadata": {},
     "output_type": "display_data"
    },
    {
     "name": "stdout",
     "output_type": "stream",
     "text": [
      "ground truth\n"
     ]
    },
    {
     "data": {
      "text/html": [
       "<div style='float:left;background:#c7332f;padding:10px;width:300px;'></div>"
      ],
      "text/plain": [
       "<IPython.core.display.HTML object>"
      ]
     },
     "metadata": {},
     "output_type": "display_data"
    },
    {
     "name": "stdout",
     "output_type": "stream",
     "text": [
      "----------------------------\n",
      "color name :  clch redbrickbrown\n",
      "generated\n"
     ]
    },
    {
     "data": {
      "text/html": [
       "<div style='float:left;background:#762a1d;padding:10px;width:300px;'></div>"
      ],
      "text/plain": [
       "<IPython.core.display.HTML object>"
      ]
     },
     "metadata": {},
     "output_type": "display_data"
    },
    {
     "name": "stdout",
     "output_type": "stream",
     "text": [
      "ground truth\n"
     ]
    },
    {
     "data": {
      "text/html": [
       "<div style='float:left;background:#883828;padding:10px;width:300px;'></div>"
      ],
      "text/plain": [
       "<IPython.core.display.HTML object>"
      ]
     },
     "metadata": {},
     "output_type": "display_data"
    },
    {
     "name": "stdout",
     "output_type": "stream",
     "text": [
      "----------------------------\n",
      "color name :  weathered hands\n",
      "generated\n"
     ]
    },
    {
     "data": {
      "text/html": [
       "<div style='float:left;background:#4e755f;padding:10px;width:300px;'></div>"
      ],
      "text/plain": [
       "<IPython.core.display.HTML object>"
      ]
     },
     "metadata": {},
     "output_type": "display_data"
    },
    {
     "name": "stdout",
     "output_type": "stream",
     "text": [
      "ground truth\n"
     ]
    },
    {
     "data": {
      "text/html": [
       "<div style='float:left;background:#a38e7e;padding:10px;width:300px;'></div>"
      ],
      "text/plain": [
       "<IPython.core.display.HTML object>"
      ]
     },
     "metadata": {},
     "output_type": "display_data"
    },
    {
     "name": "stdout",
     "output_type": "stream",
     "text": [
      "----------------------------\n",
      "color name :  silvered rose\n",
      "generated\n"
     ]
    },
    {
     "data": {
      "text/html": [
       "<div style='float:left;background:#e6b6c6;padding:10px;width:300px;'></div>"
      ],
      "text/plain": [
       "<IPython.core.display.HTML object>"
      ]
     },
     "metadata": {},
     "output_type": "display_data"
    },
    {
     "name": "stdout",
     "output_type": "stream",
     "text": [
      "ground truth\n"
     ]
    },
    {
     "data": {
      "text/html": [
       "<div style='float:left;background:#d8abaf;padding:10px;width:300px;'></div>"
      ],
      "text/plain": [
       "<IPython.core.display.HTML object>"
      ]
     },
     "metadata": {},
     "output_type": "display_data"
    },
    {
     "name": "stdout",
     "output_type": "stream",
     "text": [
      "----------------------------\n",
      "color name :  doodlered\n",
      "generated\n"
     ]
    },
    {
     "data": {
      "text/html": [
       "<div style='float:left;background:#f8004d;padding:10px;width:300px;'></div>"
      ],
      "text/plain": [
       "<IPython.core.display.HTML object>"
      ]
     },
     "metadata": {},
     "output_type": "display_data"
    },
    {
     "name": "stdout",
     "output_type": "stream",
     "text": [
      "ground truth\n"
     ]
    },
    {
     "data": {
      "text/html": [
       "<div style='float:left;background:#b36a53;padding:10px;width:300px;'></div>"
      ],
      "text/plain": [
       "<IPython.core.display.HTML object>"
      ]
     },
     "metadata": {},
     "output_type": "display_data"
    },
    {
     "name": "stdout",
     "output_type": "stream",
     "text": [
      "----------------------------\n",
      "color name :  red curly kale\n",
      "generated\n"
     ]
    },
    {
     "data": {
      "text/html": [
       "<div style='float:left;background:#c092c2;padding:10px;width:300px;'></div>"
      ],
      "text/plain": [
       "<IPython.core.display.HTML object>"
      ]
     },
     "metadata": {},
     "output_type": "display_data"
    },
    {
     "name": "stdout",
     "output_type": "stream",
     "text": [
      "ground truth\n"
     ]
    },
    {
     "data": {
      "text/html": [
       "<div style='float:left;background:#bf3431;padding:10px;width:300px;'></div>"
      ],
      "text/plain": [
       "<IPython.core.display.HTML object>"
      ]
     },
     "metadata": {},
     "output_type": "display_data"
    },
    {
     "name": "stdout",
     "output_type": "stream",
     "text": [
      "----------------------------\n",
      "color name :  has been altered\n",
      "generated\n"
     ]
    },
    {
     "data": {
      "text/html": [
       "<div style='float:left;background:#5865ad;padding:10px;width:300px;'></div>"
      ],
      "text/plain": [
       "<IPython.core.display.HTML object>"
      ]
     },
     "metadata": {},
     "output_type": "display_data"
    },
    {
     "name": "stdout",
     "output_type": "stream",
     "text": [
      "ground truth\n"
     ]
    },
    {
     "data": {
      "text/html": [
       "<div style='float:left;background:#977670;padding:10px;width:300px;'></div>"
      ],
      "text/plain": [
       "<IPython.core.display.HTML object>"
      ]
     },
     "metadata": {},
     "output_type": "display_data"
    },
    {
     "name": "stdout",
     "output_type": "stream",
     "text": [
      "----------------------------\n",
      "color name :  delicious red\n",
      "generated\n"
     ]
    },
    {
     "data": {
      "text/html": [
       "<div style='float:left;background:#ef424c;padding:10px;width:300px;'></div>"
      ],
      "text/plain": [
       "<IPython.core.display.HTML object>"
      ]
     },
     "metadata": {},
     "output_type": "display_data"
    },
    {
     "name": "stdout",
     "output_type": "stream",
     "text": [
      "ground truth\n"
     ]
    },
    {
     "data": {
      "text/html": [
       "<div style='float:left;background:#cb3134;padding:10px;width:300px;'></div>"
      ],
      "text/plain": [
       "<IPython.core.display.HTML object>"
      ]
     },
     "metadata": {},
     "output_type": "display_data"
    },
    {
     "name": "stdout",
     "output_type": "stream",
     "text": [
      "----------------------------\n",
      "color name :  red trouble\n",
      "generated\n"
     ]
    },
    {
     "data": {
      "text/html": [
       "<div style='float:left;background:#f42e17;padding:10px;width:300px;'></div>"
      ],
      "text/plain": [
       "<IPython.core.display.HTML object>"
      ]
     },
     "metadata": {},
     "output_type": "display_data"
    },
    {
     "name": "stdout",
     "output_type": "stream",
     "text": [
      "ground truth\n"
     ]
    },
    {
     "data": {
      "text/html": [
       "<div style='float:left;background:#c1302d;padding:10px;width:300px;'></div>"
      ],
      "text/plain": [
       "<IPython.core.display.HTML object>"
      ]
     },
     "metadata": {},
     "output_type": "display_data"
    },
    {
     "name": "stdout",
     "output_type": "stream",
     "text": [
      "----------------------------\n",
      "color name :  feathered jewel\n",
      "generated\n"
     ]
    },
    {
     "data": {
      "text/html": [
       "<div style='float:left;background:#bf0078;padding:10px;width:300px;'></div>"
      ],
      "text/plain": [
       "<IPython.core.display.HTML object>"
      ]
     },
     "metadata": {},
     "output_type": "display_data"
    },
    {
     "name": "stdout",
     "output_type": "stream",
     "text": [
      "ground truth\n"
     ]
    },
    {
     "data": {
      "text/html": [
       "<div style='float:left;background:#8a8f8e;padding:10px;width:300px;'></div>"
      ],
      "text/plain": [
       "<IPython.core.display.HTML object>"
      ]
     },
     "metadata": {},
     "output_type": "display_data"
    },
    {
     "name": "stdout",
     "output_type": "stream",
     "text": [
      "----------------------------\n",
      "color name :  captured you\n",
      "generated\n"
     ]
    },
    {
     "data": {
      "text/html": [
       "<div style='float:left;background:#4d8430;padding:10px;width:300px;'></div>"
      ],
      "text/plain": [
       "<IPython.core.display.HTML object>"
      ]
     },
     "metadata": {},
     "output_type": "display_data"
    },
    {
     "name": "stdout",
     "output_type": "stream",
     "text": [
      "ground truth\n"
     ]
    },
    {
     "data": {
      "text/html": [
       "<div style='float:left;background:#a18180;padding:10px;width:300px;'></div>"
      ],
      "text/plain": [
       "<IPython.core.display.HTML object>"
      ]
     },
     "metadata": {},
     "output_type": "display_data"
    },
    {
     "name": "stdout",
     "output_type": "stream",
     "text": [
      "----------------------------\n",
      "color name :  carmen miranda red\n",
      "generated\n"
     ]
    },
    {
     "data": {
      "text/html": [
       "<div style='float:left;background:#cd0219;padding:10px;width:300px;'></div>"
      ],
      "text/plain": [
       "<IPython.core.display.HTML object>"
      ]
     },
     "metadata": {},
     "output_type": "display_data"
    },
    {
     "name": "stdout",
     "output_type": "stream",
     "text": [
      "ground truth\n"
     ]
    },
    {
     "data": {
      "text/html": [
       "<div style='float:left;background:#c02830;padding:10px;width:300px;'></div>"
      ],
      "text/plain": [
       "<IPython.core.display.HTML object>"
      ]
     },
     "metadata": {},
     "output_type": "display_data"
    },
    {
     "name": "stdout",
     "output_type": "stream",
     "text": [
      "----------------------------\n",
      "color name :  on shattered ice\n",
      "generated\n"
     ]
    },
    {
     "data": {
      "text/html": [
       "<div style='float:left;background:#a55810;padding:10px;width:300px;'></div>"
      ],
      "text/plain": [
       "<IPython.core.display.HTML object>"
      ]
     },
     "metadata": {},
     "output_type": "display_data"
    },
    {
     "name": "stdout",
     "output_type": "stream",
     "text": [
      "ground truth\n"
     ]
    },
    {
     "data": {
      "text/html": [
       "<div style='float:left;background:#a5b7b2;padding:10px;width:300px;'></div>"
      ],
      "text/plain": [
       "<IPython.core.display.HTML object>"
      ]
     },
     "metadata": {},
     "output_type": "display_data"
    },
    {
     "name": "stdout",
     "output_type": "stream",
     "text": [
      "----------------------------\n",
      "color name :  pretty in red\n",
      "generated\n"
     ]
    },
    {
     "data": {
      "text/html": [
       "<div style='float:left;background:#ca6a88;padding:10px;width:300px;'></div>"
      ],
      "text/plain": [
       "<IPython.core.display.HTML object>"
      ]
     },
     "metadata": {},
     "output_type": "display_data"
    },
    {
     "name": "stdout",
     "output_type": "stream",
     "text": [
      "ground truth\n"
     ]
    },
    {
     "data": {
      "text/html": [
       "<div style='float:left;background:#ca3134;padding:10px;width:300px;'></div>"
      ],
      "text/plain": [
       "<IPython.core.display.HTML object>"
      ]
     },
     "metadata": {},
     "output_type": "display_data"
    },
    {
     "name": "stdout",
     "output_type": "stream",
     "text": [
      "----------------------------\n",
      "color name :  exausted red\n",
      "generated\n"
     ]
    },
    {
     "data": {
      "text/html": [
       "<div style='float:left;background:#f4839e;padding:10px;width:300px;'></div>"
      ],
      "text/plain": [
       "<IPython.core.display.HTML object>"
      ]
     },
     "metadata": {},
     "output_type": "display_data"
    },
    {
     "name": "stdout",
     "output_type": "stream",
     "text": [
      "ground truth\n"
     ]
    },
    {
     "data": {
      "text/html": [
       "<div style='float:left;background:#bd2c2f;padding:10px;width:300px;'></div>"
      ],
      "text/plain": [
       "<IPython.core.display.HTML object>"
      ]
     },
     "metadata": {},
     "output_type": "display_data"
    },
    {
     "name": "stdout",
     "output_type": "stream",
     "text": [
      "----------------------------\n",
      "color name :  red blueberries\n",
      "generated\n"
     ]
    },
    {
     "data": {
      "text/html": [
       "<div style='float:left;background:#dc5183;padding:10px;width:300px;'></div>"
      ],
      "text/plain": [
       "<IPython.core.display.HTML object>"
      ]
     },
     "metadata": {},
     "output_type": "display_data"
    },
    {
     "name": "stdout",
     "output_type": "stream",
     "text": [
      "ground truth\n"
     ]
    },
    {
     "data": {
      "text/html": [
       "<div style='float:left;background:#70173b;padding:10px;width:300px;'></div>"
      ],
      "text/plain": [
       "<IPython.core.display.HTML object>"
      ]
     },
     "metadata": {},
     "output_type": "display_data"
    },
    {
     "name": "stdout",
     "output_type": "stream",
     "text": [
      "----------------------------\n",
      "color name :  redmonster\n",
      "generated\n"
     ]
    },
    {
     "data": {
      "text/html": [
       "<div style='float:left;background:#991d29;padding:10px;width:300px;'></div>"
      ],
      "text/plain": [
       "<IPython.core.display.HTML object>"
      ]
     },
     "metadata": {},
     "output_type": "display_data"
    },
    {
     "name": "stdout",
     "output_type": "stream",
     "text": [
      "ground truth\n"
     ]
    },
    {
     "data": {
      "text/html": [
       "<div style='float:left;background:#c53231;padding:10px;width:300px;'></div>"
      ],
      "text/plain": [
       "<IPython.core.display.HTML object>"
      ]
     },
     "metadata": {},
     "output_type": "display_data"
    },
    {
     "name": "stdout",
     "output_type": "stream",
     "text": [
      "----------------------------\n",
      "color name :  powdered sugar sea\n",
      "generated\n"
     ]
    },
    {
     "data": {
      "text/html": [
       "<div style='float:left;background:#d7e4e0;padding:10px;width:300px;'></div>"
      ],
      "text/plain": [
       "<IPython.core.display.HTML object>"
      ]
     },
     "metadata": {},
     "output_type": "display_data"
    },
    {
     "name": "stdout",
     "output_type": "stream",
     "text": [
      "ground truth\n"
     ]
    },
    {
     "data": {
      "text/html": [
       "<div style='float:left;background:#a0b5bb;padding:10px;width:300px;'></div>"
      ],
      "text/plain": [
       "<IPython.core.display.HTML object>"
      ]
     },
     "metadata": {},
     "output_type": "display_data"
    },
    {
     "name": "stdout",
     "output_type": "stream",
     "text": [
      "----------------------------\n",
      "color name :  red bride\n",
      "generated\n"
     ]
    },
    {
     "data": {
      "text/html": [
       "<div style='float:left;background:#ce7371;padding:10px;width:300px;'></div>"
      ],
      "text/plain": [
       "<IPython.core.display.HTML object>"
      ]
     },
     "metadata": {},
     "output_type": "display_data"
    },
    {
     "name": "stdout",
     "output_type": "stream",
     "text": [
      "ground truth\n"
     ]
    },
    {
     "data": {
      "text/html": [
       "<div style='float:left;background:#c3312e;padding:10px;width:300px;'></div>"
      ],
      "text/plain": [
       "<IPython.core.display.HTML object>"
      ]
     },
     "metadata": {},
     "output_type": "display_data"
    },
    {
     "name": "stdout",
     "output_type": "stream",
     "text": [
      "----------------------------\n",
      "color name :  blurred\n",
      "generated\n"
     ]
    },
    {
     "data": {
      "text/html": [
       "<div style='float:left;background:#39523b;padding:10px;width:300px;'></div>"
      ],
      "text/plain": [
       "<IPython.core.display.HTML object>"
      ]
     },
     "metadata": {},
     "output_type": "display_data"
    },
    {
     "name": "stdout",
     "output_type": "stream",
     "text": [
      "ground truth\n"
     ]
    },
    {
     "data": {
      "text/html": [
       "<div style='float:left;background:#ad5042;padding:10px;width:300px;'></div>"
      ],
      "text/plain": [
       "<IPython.core.display.HTML object>"
      ]
     },
     "metadata": {},
     "output_type": "display_data"
    },
    {
     "name": "stdout",
     "output_type": "stream",
     "text": [
      "----------------------------\n",
      "color name :  falzon redviolet apc\n",
      "generated\n"
     ]
    },
    {
     "data": {
      "text/html": [
       "<div style='float:left;background:#9e24c1;padding:10px;width:300px;'></div>"
      ],
      "text/plain": [
       "<IPython.core.display.HTML object>"
      ]
     },
     "metadata": {},
     "output_type": "display_data"
    },
    {
     "name": "stdout",
     "output_type": "stream",
     "text": [
      "ground truth\n"
     ]
    },
    {
     "data": {
      "text/html": [
       "<div style='float:left;background:#9d2a96;padding:10px;width:300px;'></div>"
      ],
      "text/plain": [
       "<IPython.core.display.HTML object>"
      ]
     },
     "metadata": {},
     "output_type": "display_data"
    },
    {
     "name": "stdout",
     "output_type": "stream",
     "text": [
      "----------------------------\n",
      "color name :  rememberred\n",
      "generated\n"
     ]
    },
    {
     "data": {
      "text/html": [
       "<div style='float:left;background:#903f48;padding:10px;width:300px;'></div>"
      ],
      "text/plain": [
       "<IPython.core.display.HTML object>"
      ]
     },
     "metadata": {},
     "output_type": "display_data"
    },
    {
     "name": "stdout",
     "output_type": "stream",
     "text": [
      "ground truth\n"
     ]
    },
    {
     "data": {
      "text/html": [
       "<div style='float:left;background:#c43532;padding:10px;width:300px;'></div>"
      ],
      "text/plain": [
       "<IPython.core.display.HTML object>"
      ]
     },
     "metadata": {},
     "output_type": "display_data"
    },
    {
     "name": "stdout",
     "output_type": "stream",
     "text": [
      "----------------------------\n",
      "color name :  redprosol\n",
      "generated\n"
     ]
    },
    {
     "data": {
      "text/html": [
       "<div style='float:left;background:#d90b21;padding:10px;width:300px;'></div>"
      ],
      "text/plain": [
       "<IPython.core.display.HTML object>"
      ]
     },
     "metadata": {},
     "output_type": "display_data"
    },
    {
     "name": "stdout",
     "output_type": "stream",
     "text": [
      "ground truth\n"
     ]
    },
    {
     "data": {
      "text/html": [
       "<div style='float:left;background:#c43732;padding:10px;width:300px;'></div>"
      ],
      "text/plain": [
       "<IPython.core.display.HTML object>"
      ]
     },
     "metadata": {},
     "output_type": "display_data"
    },
    {
     "name": "stdout",
     "output_type": "stream",
     "text": [
      "----------------------------\n",
      "color name :  red reemergence\n",
      "generated\n"
     ]
    },
    {
     "data": {
      "text/html": [
       "<div style='float:left;background:#f20050;padding:10px;width:300px;'></div>"
      ],
      "text/plain": [
       "<IPython.core.display.HTML object>"
      ]
     },
     "metadata": {},
     "output_type": "display_data"
    },
    {
     "name": "stdout",
     "output_type": "stream",
     "text": [
      "ground truth\n"
     ]
    },
    {
     "data": {
      "text/html": [
       "<div style='float:left;background:#be3635;padding:10px;width:300px;'></div>"
      ],
      "text/plain": [
       "<IPython.core.display.HTML object>"
      ]
     },
     "metadata": {},
     "output_type": "display_data"
    },
    {
     "name": "stdout",
     "output_type": "stream",
     "text": [
      "----------------------------\n",
      "color name :  redcollector\n",
      "generated\n"
     ]
    },
    {
     "data": {
      "text/html": [
       "<div style='float:left;background:#da1752;padding:10px;width:300px;'></div>"
      ],
      "text/plain": [
       "<IPython.core.display.HTML object>"
      ]
     },
     "metadata": {},
     "output_type": "display_data"
    },
    {
     "name": "stdout",
     "output_type": "stream",
     "text": [
      "ground truth\n"
     ]
    },
    {
     "data": {
      "text/html": [
       "<div style='float:left;background:#cf4643;padding:10px;width:300px;'></div>"
      ],
      "text/plain": [
       "<IPython.core.display.HTML object>"
      ]
     },
     "metadata": {},
     "output_type": "display_data"
    },
    {
     "name": "stdout",
     "output_type": "stream",
     "text": [
      "----------------------------\n",
      "color name :  spinning red\n",
      "generated\n"
     ]
    },
    {
     "data": {
      "text/html": [
       "<div style='float:left;background:#ce1c2d;padding:10px;width:300px;'></div>"
      ],
      "text/plain": [
       "<IPython.core.display.HTML object>"
      ]
     },
     "metadata": {},
     "output_type": "display_data"
    },
    {
     "name": "stdout",
     "output_type": "stream",
     "text": [
      "ground truth\n"
     ]
    },
    {
     "data": {
      "text/html": [
       "<div style='float:left;background:#bf2a2f;padding:10px;width:300px;'></div>"
      ],
      "text/plain": [
       "<IPython.core.display.HTML object>"
      ]
     },
     "metadata": {},
     "output_type": "display_data"
    },
    {
     "name": "stdout",
     "output_type": "stream",
     "text": [
      "----------------------------\n",
      "color name :  pharaoh red\n",
      "generated\n"
     ]
    },
    {
     "data": {
      "text/html": [
       "<div style='float:left;background:#af0f14;padding:10px;width:300px;'></div>"
      ],
      "text/plain": [
       "<IPython.core.display.HTML object>"
      ]
     },
     "metadata": {},
     "output_type": "display_data"
    },
    {
     "name": "stdout",
     "output_type": "stream",
     "text": [
      "ground truth\n"
     ]
    },
    {
     "data": {
      "text/html": [
       "<div style='float:left;background:#c12830;padding:10px;width:300px;'></div>"
      ],
      "text/plain": [
       "<IPython.core.display.HTML object>"
      ]
     },
     "metadata": {},
     "output_type": "display_data"
    },
    {
     "name": "stdout",
     "output_type": "stream",
     "text": [
      "----------------------------\n",
      "color name :  hurtin red\n",
      "generated\n"
     ]
    },
    {
     "data": {
      "text/html": [
       "<div style='float:left;background:#781e1d;padding:10px;width:300px;'></div>"
      ],
      "text/plain": [
       "<IPython.core.display.HTML object>"
      ]
     },
     "metadata": {},
     "output_type": "display_data"
    },
    {
     "name": "stdout",
     "output_type": "stream",
     "text": [
      "ground truth\n"
     ]
    },
    {
     "data": {
      "text/html": [
       "<div style='float:left;background:#be292d;padding:10px;width:300px;'></div>"
      ],
      "text/plain": [
       "<IPython.core.display.HTML object>"
      ]
     },
     "metadata": {},
     "output_type": "display_data"
    },
    {
     "name": "stdout",
     "output_type": "stream",
     "text": [
      "----------------------------\n",
      "color name :  red dawn \n",
      "generated\n"
     ]
    },
    {
     "data": {
      "text/html": [
       "<div style='float:left;background:#b7001e;padding:10px;width:300px;'></div>"
      ],
      "text/plain": [
       "<IPython.core.display.HTML object>"
      ]
     },
     "metadata": {},
     "output_type": "display_data"
    },
    {
     "name": "stdout",
     "output_type": "stream",
     "text": [
      "ground truth\n"
     ]
    },
    {
     "data": {
      "text/html": [
       "<div style='float:left;background:#ba3030;padding:10px;width:300px;'></div>"
      ],
      "text/plain": [
       "<IPython.core.display.HTML object>"
      ]
     },
     "metadata": {},
     "output_type": "display_data"
    },
    {
     "name": "stdout",
     "output_type": "stream",
     "text": [
      "----------------------------\n",
      "color name :  red flaws\n",
      "generated\n"
     ]
    },
    {
     "data": {
      "text/html": [
       "<div style='float:left;background:#da1f14;padding:10px;width:300px;'></div>"
      ],
      "text/plain": [
       "<IPython.core.display.HTML object>"
      ]
     },
     "metadata": {},
     "output_type": "display_data"
    },
    {
     "name": "stdout",
     "output_type": "stream",
     "text": [
      "ground truth\n"
     ]
    },
    {
     "data": {
      "text/html": [
       "<div style='float:left;background:#c4302e;padding:10px;width:300px;'></div>"
      ],
      "text/plain": [
       "<IPython.core.display.HTML object>"
      ]
     },
     "metadata": {},
     "output_type": "display_data"
    },
    {
     "name": "stdout",
     "output_type": "stream",
     "text": [
      "----------------------------\n",
      "color name :  bored rabbit moon\n",
      "generated\n"
     ]
    },
    {
     "data": {
      "text/html": [
       "<div style='float:left;background:#c8c38b;padding:10px;width:300px;'></div>"
      ],
      "text/plain": [
       "<IPython.core.display.HTML object>"
      ]
     },
     "metadata": {},
     "output_type": "display_data"
    },
    {
     "name": "stdout",
     "output_type": "stream",
     "text": [
      "ground truth\n"
     ]
    },
    {
     "data": {
      "text/html": [
       "<div style='float:left;background:#ae8580;padding:10px;width:300px;'></div>"
      ],
      "text/plain": [
       "<IPython.core.display.HTML object>"
      ]
     },
     "metadata": {},
     "output_type": "display_data"
    },
    {
     "name": "stdout",
     "output_type": "stream",
     "text": [
      "----------------------------\n",
      "color name :  pretentious red\n",
      "generated\n"
     ]
    },
    {
     "data": {
      "text/html": [
       "<div style='float:left;background:#cb2d3e;padding:10px;width:300px;'></div>"
      ],
      "text/plain": [
       "<IPython.core.display.HTML object>"
      ]
     },
     "metadata": {},
     "output_type": "display_data"
    },
    {
     "name": "stdout",
     "output_type": "stream",
     "text": [
      "ground truth\n"
     ]
    },
    {
     "data": {
      "text/html": [
       "<div style='float:left;background:#c52d33;padding:10px;width:300px;'></div>"
      ],
      "text/plain": [
       "<IPython.core.display.HTML object>"
      ]
     },
     "metadata": {},
     "output_type": "display_data"
    },
    {
     "name": "stdout",
     "output_type": "stream",
     "text": [
      "----------------------------\n",
      "color name :  authored townsman\n",
      "generated\n"
     ]
    },
    {
     "data": {
      "text/html": [
       "<div style='float:left;background:#b38d2e;padding:10px;width:300px;'></div>"
      ],
      "text/plain": [
       "<IPython.core.display.HTML object>"
      ]
     },
     "metadata": {},
     "output_type": "display_data"
    },
    {
     "name": "stdout",
     "output_type": "stream",
     "text": [
      "ground truth\n"
     ]
    },
    {
     "data": {
      "text/html": [
       "<div style='float:left;background:#9a746e;padding:10px;width:300px;'></div>"
      ],
      "text/plain": [
       "<IPython.core.display.HTML object>"
      ]
     },
     "metadata": {},
     "output_type": "display_data"
    },
    {
     "name": "stdout",
     "output_type": "stream",
     "text": [
      "----------------------------\n",
      "color name :  medium red \n",
      "generated\n"
     ]
    },
    {
     "data": {
      "text/html": [
       "<div style='float:left;background:#bb6667;padding:10px;width:300px;'></div>"
      ],
      "text/plain": [
       "<IPython.core.display.HTML object>"
      ]
     },
     "metadata": {},
     "output_type": "display_data"
    },
    {
     "name": "stdout",
     "output_type": "stream",
     "text": [
      "ground truth\n"
     ]
    },
    {
     "data": {
      "text/html": [
       "<div style='float:left;background:#c33137;padding:10px;width:300px;'></div>"
      ],
      "text/plain": [
       "<IPython.core.display.HTML object>"
      ]
     },
     "metadata": {},
     "output_type": "display_data"
    },
    {
     "name": "stdout",
     "output_type": "stream",
     "text": [
      "----------------------------\n",
      "color name :  red sky holiday\n",
      "generated\n"
     ]
    },
    {
     "data": {
      "text/html": [
       "<div style='float:left;background:#e14256;padding:10px;width:300px;'></div>"
      ],
      "text/plain": [
       "<IPython.core.display.HTML object>"
      ]
     },
     "metadata": {},
     "output_type": "display_data"
    },
    {
     "name": "stdout",
     "output_type": "stream",
     "text": [
      "ground truth\n"
     ]
    },
    {
     "data": {
      "text/html": [
       "<div style='float:left;background:#c43336;padding:10px;width:300px;'></div>"
      ],
      "text/plain": [
       "<IPython.core.display.HTML object>"
      ]
     },
     "metadata": {},
     "output_type": "display_data"
    },
    {
     "name": "stdout",
     "output_type": "stream",
     "text": [
      "----------------------------\n",
      "color name :  vintage london red\n",
      "generated\n"
     ]
    },
    {
     "data": {
      "text/html": [
       "<div style='float:left;background:#5d222a;padding:10px;width:300px;'></div>"
      ],
      "text/plain": [
       "<IPython.core.display.HTML object>"
      ]
     },
     "metadata": {},
     "output_type": "display_data"
    },
    {
     "name": "stdout",
     "output_type": "stream",
     "text": [
      "ground truth\n"
     ]
    },
    {
     "data": {
      "text/html": [
       "<div style='float:left;background:#c53438;padding:10px;width:300px;'></div>"
      ],
      "text/plain": [
       "<IPython.core.display.HTML object>"
      ]
     },
     "metadata": {},
     "output_type": "display_data"
    },
    {
     "name": "stdout",
     "output_type": "stream",
     "text": [
      "----------------------------\n",
      "color name :  pyre ingredients\n",
      "generated\n"
     ]
    },
    {
     "data": {
      "text/html": [
       "<div style='float:left;background:#523923;padding:10px;width:300px;'></div>"
      ],
      "text/plain": [
       "<IPython.core.display.HTML object>"
      ]
     },
     "metadata": {},
     "output_type": "display_data"
    },
    {
     "name": "stdout",
     "output_type": "stream",
     "text": [
      "ground truth\n"
     ]
    },
    {
     "data": {
      "text/html": [
       "<div style='float:left;background:#a47c7b;padding:10px;width:300px;'></div>"
      ],
      "text/plain": [
       "<IPython.core.display.HTML object>"
      ]
     },
     "metadata": {},
     "output_type": "display_data"
    },
    {
     "name": "stdout",
     "output_type": "stream",
     "text": [
      "----------------------------\n",
      "color name :  perplexed red\n",
      "generated\n"
     ]
    },
    {
     "data": {
      "text/html": [
       "<div style='float:left;background:#b34445;padding:10px;width:300px;'></div>"
      ],
      "text/plain": [
       "<IPython.core.display.HTML object>"
      ]
     },
     "metadata": {},
     "output_type": "display_data"
    },
    {
     "name": "stdout",
     "output_type": "stream",
     "text": [
      "ground truth\n"
     ]
    },
    {
     "data": {
      "text/html": [
       "<div style='float:left;background:#c02c30;padding:10px;width:300px;'></div>"
      ],
      "text/plain": [
       "<IPython.core.display.HTML object>"
      ]
     },
     "metadata": {},
     "output_type": "display_data"
    },
    {
     "name": "stdout",
     "output_type": "stream",
     "text": [
      "----------------------------\n",
      "color name :  red lavender\n",
      "generated\n"
     ]
    },
    {
     "data": {
      "text/html": [
       "<div style='float:left;background:#cc7fb9;padding:10px;width:300px;'></div>"
      ],
      "text/plain": [
       "<IPython.core.display.HTML object>"
      ]
     },
     "metadata": {},
     "output_type": "display_data"
    },
    {
     "name": "stdout",
     "output_type": "stream",
     "text": [
      "ground truth\n"
     ]
    },
    {
     "data": {
      "text/html": [
       "<div style='float:left;background:#af2f6b;padding:10px;width:300px;'></div>"
      ],
      "text/plain": [
       "<IPython.core.display.HTML object>"
      ]
     },
     "metadata": {},
     "output_type": "display_data"
    },
    {
     "name": "stdout",
     "output_type": "stream",
     "text": [
      "----------------------------\n",
      "color name :  militaredark\n",
      "generated\n"
     ]
    },
    {
     "data": {
      "text/html": [
       "<div style='float:left;background:#034228;padding:10px;width:300px;'></div>"
      ],
      "text/plain": [
       "<IPython.core.display.HTML object>"
      ]
     },
     "metadata": {},
     "output_type": "display_data"
    },
    {
     "name": "stdout",
     "output_type": "stream",
     "text": [
      "ground truth\n"
     ]
    },
    {
     "data": {
      "text/html": [
       "<div style='float:left;background:#543440;padding:10px;width:300px;'></div>"
      ],
      "text/plain": [
       "<IPython.core.display.HTML object>"
      ]
     },
     "metadata": {},
     "output_type": "display_data"
    },
    {
     "name": "stdout",
     "output_type": "stream",
     "text": [
      "----------------------------\n",
      "color name :  uncommon red\n",
      "generated\n"
     ]
    },
    {
     "data": {
      "text/html": [
       "<div style='float:left;background:#bd2889;padding:10px;width:300px;'></div>"
      ],
      "text/plain": [
       "<IPython.core.display.HTML object>"
      ]
     },
     "metadata": {},
     "output_type": "display_data"
    },
    {
     "name": "stdout",
     "output_type": "stream",
     "text": [
      "ground truth\n"
     ]
    },
    {
     "data": {
      "text/html": [
       "<div style='float:left;background:#ca3939;padding:10px;width:300px;'></div>"
      ],
      "text/plain": [
       "<IPython.core.display.HTML object>"
      ]
     },
     "metadata": {},
     "output_type": "display_data"
    },
    {
     "name": "stdout",
     "output_type": "stream",
     "text": [
      "----------------------------\n",
      "color name :  alfredo\n",
      "generated\n"
     ]
    },
    {
     "data": {
      "text/html": [
       "<div style='float:left;background:#f0f2d6;padding:10px;width:300px;'></div>"
      ],
      "text/plain": [
       "<IPython.core.display.HTML object>"
      ]
     },
     "metadata": {},
     "output_type": "display_data"
    },
    {
     "name": "stdout",
     "output_type": "stream",
     "text": [
      "ground truth\n"
     ]
    },
    {
     "data": {
      "text/html": [
       "<div style='float:left;background:#ad625a;padding:10px;width:300px;'></div>"
      ],
      "text/plain": [
       "<IPython.core.display.HTML object>"
      ]
     },
     "metadata": {},
     "output_type": "display_data"
    },
    {
     "name": "stdout",
     "output_type": "stream",
     "text": [
      "----------------------------\n",
      "color name :  no rose so red\n",
      "generated\n"
     ]
    },
    {
     "data": {
      "text/html": [
       "<div style='float:left;background:#bf0018;padding:10px;width:300px;'></div>"
      ],
      "text/plain": [
       "<IPython.core.display.HTML object>"
      ]
     },
     "metadata": {},
     "output_type": "display_data"
    },
    {
     "name": "stdout",
     "output_type": "stream",
     "text": [
      "ground truth\n"
     ]
    },
    {
     "data": {
      "text/html": [
       "<div style='float:left;background:#c83336;padding:10px;width:300px;'></div>"
      ],
      "text/plain": [
       "<IPython.core.display.HTML object>"
      ]
     },
     "metadata": {},
     "output_type": "display_data"
    },
    {
     "name": "stdout",
     "output_type": "stream",
     "text": [
      "----------------------------\n",
      "color name :  bsred\n",
      "generated\n"
     ]
    },
    {
     "data": {
      "text/html": [
       "<div style='float:left;background:#e91428;padding:10px;width:300px;'></div>"
      ],
      "text/plain": [
       "<IPython.core.display.HTML object>"
      ]
     },
     "metadata": {},
     "output_type": "display_data"
    },
    {
     "name": "stdout",
     "output_type": "stream",
     "text": [
      "ground truth\n"
     ]
    },
    {
     "data": {
      "text/html": [
       "<div style='float:left;background:#b7504a;padding:10px;width:300px;'></div>"
      ],
      "text/plain": [
       "<IPython.core.display.HTML object>"
      ]
     },
     "metadata": {},
     "output_type": "display_data"
    },
    {
     "name": "stdout",
     "output_type": "stream",
     "text": [
      "----------------------------\n",
      "color name :  holy red kiss\n",
      "generated\n"
     ]
    },
    {
     "data": {
      "text/html": [
       "<div style='float:left;background:#ed185f;padding:10px;width:300px;'></div>"
      ],
      "text/plain": [
       "<IPython.core.display.HTML object>"
      ]
     },
     "metadata": {},
     "output_type": "display_data"
    },
    {
     "name": "stdout",
     "output_type": "stream",
     "text": [
      "ground truth\n"
     ]
    },
    {
     "data": {
      "text/html": [
       "<div style='float:left;background:#c72c32;padding:10px;width:300px;'></div>"
      ],
      "text/plain": [
       "<IPython.core.display.HTML object>"
      ]
     },
     "metadata": {},
     "output_type": "display_data"
    },
    {
     "name": "stdout",
     "output_type": "stream",
     "text": [
      "----------------------------\n",
      "color name :  redlight district\n",
      "generated\n"
     ]
    },
    {
     "data": {
      "text/html": [
       "<div style='float:left;background:#eb0006;padding:10px;width:300px;'></div>"
      ],
      "text/plain": [
       "<IPython.core.display.HTML object>"
      ]
     },
     "metadata": {},
     "output_type": "display_data"
    },
    {
     "name": "stdout",
     "output_type": "stream",
     "text": [
      "ground truth\n"
     ]
    },
    {
     "data": {
      "text/html": [
       "<div style='float:left;background:#ce373b;padding:10px;width:300px;'></div>"
      ],
      "text/plain": [
       "<IPython.core.display.HTML object>"
      ]
     },
     "metadata": {},
     "output_type": "display_data"
    },
    {
     "name": "stdout",
     "output_type": "stream",
     "text": [
      "----------------------------\n",
      "color name :  red lips dark a\n",
      "generated\n"
     ]
    },
    {
     "data": {
      "text/html": [
       "<div style='float:left;background:#970045;padding:10px;width:300px;'></div>"
      ],
      "text/plain": [
       "<IPython.core.display.HTML object>"
      ]
     },
     "metadata": {},
     "output_type": "display_data"
    },
    {
     "name": "stdout",
     "output_type": "stream",
     "text": [
      "ground truth\n"
     ]
    },
    {
     "data": {
      "text/html": [
       "<div style='float:left;background:#941823;padding:10px;width:300px;'></div>"
      ],
      "text/plain": [
       "<IPython.core.display.HTML object>"
      ]
     },
     "metadata": {},
     "output_type": "display_data"
    },
    {
     "name": "stdout",
     "output_type": "stream",
     "text": [
      "----------------------------\n",
      "color name :  red lightsaber\n",
      "generated\n"
     ]
    },
    {
     "data": {
      "text/html": [
       "<div style='float:left;background:#e02f1d;padding:10px;width:300px;'></div>"
      ],
      "text/plain": [
       "<IPython.core.display.HTML object>"
      ]
     },
     "metadata": {},
     "output_type": "display_data"
    },
    {
     "name": "stdout",
     "output_type": "stream",
     "text": [
      "ground truth\n"
     ]
    },
    {
     "data": {
      "text/html": [
       "<div style='float:left;background:#d03b39;padding:10px;width:300px;'></div>"
      ],
      "text/plain": [
       "<IPython.core.display.HTML object>"
      ]
     },
     "metadata": {},
     "output_type": "display_data"
    },
    {
     "name": "stdout",
     "output_type": "stream",
     "text": [
      "----------------------------\n",
      "color name :  chestnut redbrown\n",
      "generated\n"
     ]
    },
    {
     "data": {
      "text/html": [
       "<div style='float:left;background:#d1674c;padding:10px;width:300px;'></div>"
      ],
      "text/plain": [
       "<IPython.core.display.HTML object>"
      ]
     },
     "metadata": {},
     "output_type": "display_data"
    },
    {
     "name": "stdout",
     "output_type": "stream",
     "text": [
      "ground truth\n"
     ]
    },
    {
     "data": {
      "text/html": [
       "<div style='float:left;background:#8f362a;padding:10px;width:300px;'></div>"
      ],
      "text/plain": [
       "<IPython.core.display.HTML object>"
      ]
     },
     "metadata": {},
     "output_type": "display_data"
    },
    {
     "name": "stdout",
     "output_type": "stream",
     "text": [
      "----------------------------\n",
      "color name :  juicy dark red\n",
      "generated\n"
     ]
    },
    {
     "data": {
      "text/html": [
       "<div style='float:left;background:#8f1439;padding:10px;width:300px;'></div>"
      ],
      "text/plain": [
       "<IPython.core.display.HTML object>"
      ]
     },
     "metadata": {},
     "output_type": "display_data"
    },
    {
     "name": "stdout",
     "output_type": "stream",
     "text": [
      "ground truth\n"
     ]
    },
    {
     "data": {
      "text/html": [
       "<div style='float:left;background:#7b1b1b;padding:10px;width:300px;'></div>"
      ],
      "text/plain": [
       "<IPython.core.display.HTML object>"
      ]
     },
     "metadata": {},
     "output_type": "display_data"
    },
    {
     "name": "stdout",
     "output_type": "stream",
     "text": [
      "----------------------------\n",
      "color name :  rp red\n",
      "generated\n"
     ]
    },
    {
     "data": {
      "text/html": [
       "<div style='float:left;background:#e12605;padding:10px;width:300px;'></div>"
      ],
      "text/plain": [
       "<IPython.core.display.HTML object>"
      ]
     },
     "metadata": {},
     "output_type": "display_data"
    },
    {
     "name": "stdout",
     "output_type": "stream",
     "text": [
      "ground truth\n"
     ]
    },
    {
     "data": {
      "text/html": [
       "<div style='float:left;background:#c53031;padding:10px;width:300px;'></div>"
      ],
      "text/plain": [
       "<IPython.core.display.HTML object>"
      ]
     },
     "metadata": {},
     "output_type": "display_data"
    },
    {
     "name": "stdout",
     "output_type": "stream",
     "text": [
      "----------------------------\n",
      "color name :  watered down mojito\n",
      "generated\n"
     ]
    },
    {
     "data": {
      "text/html": [
       "<div style='float:left;background:#cae79b;padding:10px;width:300px;'></div>"
      ],
      "text/plain": [
       "<IPython.core.display.HTML object>"
      ]
     },
     "metadata": {},
     "output_type": "display_data"
    },
    {
     "name": "stdout",
     "output_type": "stream",
     "text": [
      "ground truth\n"
     ]
    },
    {
     "data": {
      "text/html": [
       "<div style='float:left;background:#9f9074;padding:10px;width:300px;'></div>"
      ],
      "text/plain": [
       "<IPython.core.display.HTML object>"
      ]
     },
     "metadata": {},
     "output_type": "display_data"
    },
    {
     "name": "stdout",
     "output_type": "stream",
     "text": [
      "----------------------------\n",
      "color name :  a hundred trees\n",
      "generated\n"
     ]
    },
    {
     "data": {
      "text/html": [
       "<div style='float:left;background:#77cf30;padding:10px;width:300px;'></div>"
      ],
      "text/plain": [
       "<IPython.core.display.HTML object>"
      ]
     },
     "metadata": {},
     "output_type": "display_data"
    },
    {
     "name": "stdout",
     "output_type": "stream",
     "text": [
      "ground truth\n"
     ]
    },
    {
     "data": {
      "text/html": [
       "<div style='float:left;background:#857d5c;padding:10px;width:300px;'></div>"
      ],
      "text/plain": [
       "<IPython.core.display.HTML object>"
      ]
     },
     "metadata": {},
     "output_type": "display_data"
    },
    {
     "name": "stdout",
     "output_type": "stream",
     "text": [
      "----------------------------\n",
      "color name :  caffe freddo\n",
      "generated\n"
     ]
    },
    {
     "data": {
      "text/html": [
       "<div style='float:left;background:#78641c;padding:10px;width:300px;'></div>"
      ],
      "text/plain": [
       "<IPython.core.display.HTML object>"
      ]
     },
     "metadata": {},
     "output_type": "display_data"
    },
    {
     "name": "stdout",
     "output_type": "stream",
     "text": [
      "ground truth\n"
     ]
    },
    {
     "data": {
      "text/html": [
       "<div style='float:left;background:#a67b5e;padding:10px;width:300px;'></div>"
      ],
      "text/plain": [
       "<IPython.core.display.HTML object>"
      ]
     },
     "metadata": {},
     "output_type": "display_data"
    },
    {
     "name": "stdout",
     "output_type": "stream",
     "text": [
      "----------------------------\n",
      "color name :  patriot red\n",
      "generated\n"
     ]
    },
    {
     "data": {
      "text/html": [
       "<div style='float:left;background:#d50c12;padding:10px;width:300px;'></div>"
      ],
      "text/plain": [
       "<IPython.core.display.HTML object>"
      ]
     },
     "metadata": {},
     "output_type": "display_data"
    },
    {
     "name": "stdout",
     "output_type": "stream",
     "text": [
      "ground truth\n"
     ]
    },
    {
     "data": {
      "text/html": [
       "<div style='float:left;background:#cc3334;padding:10px;width:300px;'></div>"
      ],
      "text/plain": [
       "<IPython.core.display.HTML object>"
      ]
     },
     "metadata": {},
     "output_type": "display_data"
    },
    {
     "name": "stdout",
     "output_type": "stream",
     "text": [
      "----------------------------\n",
      "color name :  reading redbook\n",
      "generated\n"
     ]
    },
    {
     "data": {
      "text/html": [
       "<div style='float:left;background:#b93327;padding:10px;width:300px;'></div>"
      ],
      "text/plain": [
       "<IPython.core.display.HTML object>"
      ]
     },
     "metadata": {},
     "output_type": "display_data"
    },
    {
     "name": "stdout",
     "output_type": "stream",
     "text": [
      "ground truth\n"
     ]
    },
    {
     "data": {
      "text/html": [
       "<div style='float:left;background:#c43636;padding:10px;width:300px;'></div>"
      ],
      "text/plain": [
       "<IPython.core.display.HTML object>"
      ]
     },
     "metadata": {},
     "output_type": "display_data"
    },
    {
     "name": "stdout",
     "output_type": "stream",
     "text": [
      "----------------------------\n",
      "color name :  redder mirrors\n",
      "generated\n"
     ]
    },
    {
     "data": {
      "text/html": [
       "<div style='float:left;background:#a41923;padding:10px;width:300px;'></div>"
      ],
      "text/plain": [
       "<IPython.core.display.HTML object>"
      ]
     },
     "metadata": {},
     "output_type": "display_data"
    },
    {
     "name": "stdout",
     "output_type": "stream",
     "text": [
      "ground truth\n"
     ]
    },
    {
     "data": {
      "text/html": [
       "<div style='float:left;background:#bd302f;padding:10px;width:300px;'></div>"
      ],
      "text/plain": [
       "<IPython.core.display.HTML object>"
      ]
     },
     "metadata": {},
     "output_type": "display_data"
    },
    {
     "name": "stdout",
     "output_type": "stream",
     "text": [
      "----------------------------\n",
      "color name :  a little red\n",
      "generated\n"
     ]
    },
    {
     "data": {
      "text/html": [
       "<div style='float:left;background:#ee4326;padding:10px;width:300px;'></div>"
      ],
      "text/plain": [
       "<IPython.core.display.HTML object>"
      ]
     },
     "metadata": {},
     "output_type": "display_data"
    },
    {
     "name": "stdout",
     "output_type": "stream",
     "text": [
      "ground truth\n"
     ]
    },
    {
     "data": {
      "text/html": [
       "<div style='float:left;background:#cc393a;padding:10px;width:300px;'></div>"
      ],
      "text/plain": [
       "<IPython.core.display.HTML object>"
      ]
     },
     "metadata": {},
     "output_type": "display_data"
    },
    {
     "name": "stdout",
     "output_type": "stream",
     "text": [
      "----------------------------\n",
      "color name :  choice red\n",
      "generated\n"
     ]
    },
    {
     "data": {
      "text/html": [
       "<div style='float:left;background:#d00004;padding:10px;width:300px;'></div>"
      ],
      "text/plain": [
       "<IPython.core.display.HTML object>"
      ]
     },
     "metadata": {},
     "output_type": "display_data"
    },
    {
     "name": "stdout",
     "output_type": "stream",
     "text": [
      "ground truth\n"
     ]
    },
    {
     "data": {
      "text/html": [
       "<div style='float:left;background:#b5272f;padding:10px;width:300px;'></div>"
      ],
      "text/plain": [
       "<IPython.core.display.HTML object>"
      ]
     },
     "metadata": {},
     "output_type": "display_data"
    },
    {
     "name": "stdout",
     "output_type": "stream",
     "text": [
      "----------------------------\n",
      "color name :  siren red\n",
      "generated\n"
     ]
    },
    {
     "data": {
      "text/html": [
       "<div style='float:left;background:#a11d18;padding:10px;width:300px;'></div>"
      ],
      "text/plain": [
       "<IPython.core.display.HTML object>"
      ]
     },
     "metadata": {},
     "output_type": "display_data"
    },
    {
     "name": "stdout",
     "output_type": "stream",
     "text": [
      "ground truth\n"
     ]
    },
    {
     "data": {
      "text/html": [
       "<div style='float:left;background:#c12a2f;padding:10px;width:300px;'></div>"
      ],
      "text/plain": [
       "<IPython.core.display.HTML object>"
      ]
     },
     "metadata": {},
     "output_type": "display_data"
    },
    {
     "name": "stdout",
     "output_type": "stream",
     "text": [
      "----------------------------\n",
      "color name :  zinnia red violet\n",
      "generated\n"
     ]
    },
    {
     "data": {
      "text/html": [
       "<div style='float:left;background:#84456a;padding:10px;width:300px;'></div>"
      ],
      "text/plain": [
       "<IPython.core.display.HTML object>"
      ]
     },
     "metadata": {},
     "output_type": "display_data"
    },
    {
     "name": "stdout",
     "output_type": "stream",
     "text": [
      "ground truth\n"
     ]
    },
    {
     "data": {
      "text/html": [
       "<div style='float:left;background:#801a64;padding:10px;width:300px;'></div>"
      ],
      "text/plain": [
       "<IPython.core.display.HTML object>"
      ]
     },
     "metadata": {},
     "output_type": "display_data"
    },
    {
     "name": "stdout",
     "output_type": "stream",
     "text": [
      "----------------------------\n",
      "color name :  traitors red\n",
      "generated\n"
     ]
    },
    {
     "data": {
      "text/html": [
       "<div style='float:left;background:#8e2205;padding:10px;width:300px;'></div>"
      ],
      "text/plain": [
       "<IPython.core.display.HTML object>"
      ]
     },
     "metadata": {},
     "output_type": "display_data"
    },
    {
     "name": "stdout",
     "output_type": "stream",
     "text": [
      "ground truth\n"
     ]
    },
    {
     "data": {
      "text/html": [
       "<div style='float:left;background:#c73130;padding:10px;width:300px;'></div>"
      ],
      "text/plain": [
       "<IPython.core.display.HTML object>"
      ]
     },
     "metadata": {},
     "output_type": "display_data"
    },
    {
     "name": "stdout",
     "output_type": "stream",
     "text": [
      "----------------------------\n",
      "color name :  red admiral\n",
      "generated\n"
     ]
    },
    {
     "data": {
      "text/html": [
       "<div style='float:left;background:#f22125;padding:10px;width:300px;'></div>"
      ],
      "text/plain": [
       "<IPython.core.display.HTML object>"
      ]
     },
     "metadata": {},
     "output_type": "display_data"
    },
    {
     "name": "stdout",
     "output_type": "stream",
     "text": [
      "ground truth\n"
     ]
    },
    {
     "data": {
      "text/html": [
       "<div style='float:left;background:#c12f2d;padding:10px;width:300px;'></div>"
      ],
      "text/plain": [
       "<IPython.core.display.HTML object>"
      ]
     },
     "metadata": {},
     "output_type": "display_data"
    },
    {
     "name": "stdout",
     "output_type": "stream",
     "text": [
      "----------------------------\n",
      "color name :  rocker red\n",
      "generated\n"
     ]
    },
    {
     "data": {
      "text/html": [
       "<div style='float:left;background:#90060c;padding:10px;width:300px;'></div>"
      ],
      "text/plain": [
       "<IPython.core.display.HTML object>"
      ]
     },
     "metadata": {},
     "output_type": "display_data"
    },
    {
     "name": "stdout",
     "output_type": "stream",
     "text": [
      "ground truth\n"
     ]
    },
    {
     "data": {
      "text/html": [
       "<div style='float:left;background:#c32d30;padding:10px;width:300px;'></div>"
      ],
      "text/plain": [
       "<IPython.core.display.HTML object>"
      ]
     },
     "metadata": {},
     "output_type": "display_data"
    },
    {
     "name": "stdout",
     "output_type": "stream",
     "text": [
      "----------------------------\n",
      "color name :  memory rose red mist\n",
      "generated\n"
     ]
    },
    {
     "data": {
      "text/html": [
       "<div style='float:left;background:#b83644;padding:10px;width:300px;'></div>"
      ],
      "text/plain": [
       "<IPython.core.display.HTML object>"
      ]
     },
     "metadata": {},
     "output_type": "display_data"
    },
    {
     "name": "stdout",
     "output_type": "stream",
     "text": [
      "ground truth\n"
     ]
    },
    {
     "data": {
      "text/html": [
       "<div style='float:left;background:#ce3c47;padding:10px;width:300px;'></div>"
      ],
      "text/plain": [
       "<IPython.core.display.HTML object>"
      ]
     },
     "metadata": {},
     "output_type": "display_data"
    },
    {
     "name": "stdout",
     "output_type": "stream",
     "text": [
      "----------------------------\n",
      "color name :  in the mood red\n",
      "generated\n"
     ]
    },
    {
     "data": {
      "text/html": [
       "<div style='float:left;background:#a60705;padding:10px;width:300px;'></div>"
      ],
      "text/plain": [
       "<IPython.core.display.HTML object>"
      ]
     },
     "metadata": {},
     "output_type": "display_data"
    },
    {
     "name": "stdout",
     "output_type": "stream",
     "text": [
      "ground truth\n"
     ]
    },
    {
     "data": {
      "text/html": [
       "<div style='float:left;background:#bb3134;padding:10px;width:300px;'></div>"
      ],
      "text/plain": [
       "<IPython.core.display.HTML object>"
      ]
     },
     "metadata": {},
     "output_type": "display_data"
    },
    {
     "name": "stdout",
     "output_type": "stream",
     "text": [
      "----------------------------\n",
      "color name :  watered down ink\n",
      "generated\n"
     ]
    },
    {
     "data": {
      "text/html": [
       "<div style='float:left;background:#8f8172;padding:10px;width:300px;'></div>"
      ],
      "text/plain": [
       "<IPython.core.display.HTML object>"
      ]
     },
     "metadata": {},
     "output_type": "display_data"
    },
    {
     "name": "stdout",
     "output_type": "stream",
     "text": [
      "ground truth\n"
     ]
    },
    {
     "data": {
      "text/html": [
       "<div style='float:left;background:#5b5074;padding:10px;width:300px;'></div>"
      ],
      "text/plain": [
       "<IPython.core.display.HTML object>"
      ]
     },
     "metadata": {},
     "output_type": "display_data"
    },
    {
     "name": "stdout",
     "output_type": "stream",
     "text": [
      "----------------------------\n",
      "color name :  powdered snow\n",
      "generated\n"
     ]
    },
    {
     "data": {
      "text/html": [
       "<div style='float:left;background:#fef9f4;padding:10px;width:300px;'></div>"
      ],
      "text/plain": [
       "<IPython.core.display.HTML object>"
      ]
     },
     "metadata": {},
     "output_type": "display_data"
    },
    {
     "name": "stdout",
     "output_type": "stream",
     "text": [
      "ground truth\n"
     ]
    },
    {
     "data": {
      "text/html": [
       "<div style='float:left;background:#c5bcbc;padding:10px;width:300px;'></div>"
      ],
      "text/plain": [
       "<IPython.core.display.HTML object>"
      ]
     },
     "metadata": {},
     "output_type": "display_data"
    },
    {
     "name": "stdout",
     "output_type": "stream",
     "text": [
      "----------------------------\n",
      "color name :  anired\n",
      "generated\n"
     ]
    },
    {
     "data": {
      "text/html": [
       "<div style='float:left;background:#d54739;padding:10px;width:300px;'></div>"
      ],
      "text/plain": [
       "<IPython.core.display.HTML object>"
      ]
     },
     "metadata": {},
     "output_type": "display_data"
    },
    {
     "name": "stdout",
     "output_type": "stream",
     "text": [
      "ground truth\n"
     ]
    },
    {
     "data": {
      "text/html": [
       "<div style='float:left;background:#aa7966;padding:10px;width:300px;'></div>"
      ],
      "text/plain": [
       "<IPython.core.display.HTML object>"
      ]
     },
     "metadata": {},
     "output_type": "display_data"
    },
    {
     "name": "stdout",
     "output_type": "stream",
     "text": [
      "----------------------------\n",
      "color name :  patty cake red\n",
      "generated\n"
     ]
    },
    {
     "data": {
      "text/html": [
       "<div style='float:left;background:#c83254;padding:10px;width:300px;'></div>"
      ],
      "text/plain": [
       "<IPython.core.display.HTML object>"
      ]
     },
     "metadata": {},
     "output_type": "display_data"
    },
    {
     "name": "stdout",
     "output_type": "stream",
     "text": [
      "ground truth\n"
     ]
    },
    {
     "data": {
      "text/html": [
       "<div style='float:left;background:#c83437;padding:10px;width:300px;'></div>"
      ],
      "text/plain": [
       "<IPython.core.display.HTML object>"
      ]
     },
     "metadata": {},
     "output_type": "display_data"
    },
    {
     "name": "stdout",
     "output_type": "stream",
     "text": [
      "----------------------------\n",
      "color name :  pantone aurora red\n",
      "generated\n"
     ]
    },
    {
     "data": {
      "text/html": [
       "<div style='float:left;background:#ce1e35;padding:10px;width:300px;'></div>"
      ],
      "text/plain": [
       "<IPython.core.display.HTML object>"
      ]
     },
     "metadata": {},
     "output_type": "display_data"
    },
    {
     "name": "stdout",
     "output_type": "stream",
     "text": [
      "ground truth\n"
     ]
    },
    {
     "data": {
      "text/html": [
       "<div style='float:left;background:#c73031;padding:10px;width:300px;'></div>"
      ],
      "text/plain": [
       "<IPython.core.display.HTML object>"
      ]
     },
     "metadata": {},
     "output_type": "display_data"
    },
    {
     "name": "stdout",
     "output_type": "stream",
     "text": [
      "----------------------------\n",
      "color name :  mvstrawberry red\n",
      "generated\n"
     ]
    },
    {
     "data": {
      "text/html": [
       "<div style='float:left;background:#c50a39;padding:10px;width:300px;'></div>"
      ],
      "text/plain": [
       "<IPython.core.display.HTML object>"
      ]
     },
     "metadata": {},
     "output_type": "display_data"
    },
    {
     "name": "stdout",
     "output_type": "stream",
     "text": [
      "ground truth\n"
     ]
    },
    {
     "data": {
      "text/html": [
       "<div style='float:left;background:#cb2f39;padding:10px;width:300px;'></div>"
      ],
      "text/plain": [
       "<IPython.core.display.HTML object>"
      ]
     },
     "metadata": {},
     "output_type": "display_data"
    },
    {
     "name": "stdout",
     "output_type": "stream",
     "text": [
      "----------------------------\n",
      "color name :  violet red pinky\n",
      "generated\n"
     ]
    },
    {
     "data": {
      "text/html": [
       "<div style='float:left;background:#dd00a8;padding:10px;width:300px;'></div>"
      ],
      "text/plain": [
       "<IPython.core.display.HTML object>"
      ]
     },
     "metadata": {},
     "output_type": "display_data"
    },
    {
     "name": "stdout",
     "output_type": "stream",
     "text": [
      "ground truth\n"
     ]
    },
    {
     "data": {
      "text/html": [
       "<div style='float:left;background:#d5377b;padding:10px;width:300px;'></div>"
      ],
      "text/plain": [
       "<IPython.core.display.HTML object>"
      ]
     },
     "metadata": {},
     "output_type": "display_data"
    },
    {
     "name": "stdout",
     "output_type": "stream",
     "text": [
      "----------------------------\n",
      "color name :  bursting in red\n",
      "generated\n"
     ]
    },
    {
     "data": {
      "text/html": [
       "<div style='float:left;background:#b82d31;padding:10px;width:300px;'></div>"
      ],
      "text/plain": [
       "<IPython.core.display.HTML object>"
      ]
     },
     "metadata": {},
     "output_type": "display_data"
    },
    {
     "name": "stdout",
     "output_type": "stream",
     "text": [
      "ground truth\n"
     ]
    },
    {
     "data": {
      "text/html": [
       "<div style='float:left;background:#b92c2a;padding:10px;width:300px;'></div>"
      ],
      "text/plain": [
       "<IPython.core.display.HTML object>"
      ]
     },
     "metadata": {},
     "output_type": "display_data"
    },
    {
     "name": "stdout",
     "output_type": "stream",
     "text": [
      "----------------------------\n",
      "color name :  sacredness\n",
      "generated\n"
     ]
    },
    {
     "data": {
      "text/html": [
       "<div style='float:left;background:#72717e;padding:10px;width:300px;'></div>"
      ],
      "text/plain": [
       "<IPython.core.display.HTML object>"
      ]
     },
     "metadata": {},
     "output_type": "display_data"
    },
    {
     "name": "stdout",
     "output_type": "stream",
     "text": [
      "ground truth\n"
     ]
    },
    {
     "data": {
      "text/html": [
       "<div style='float:left;background:#a27a7a;padding:10px;width:300px;'></div>"
      ],
      "text/plain": [
       "<IPython.core.display.HTML object>"
      ]
     },
     "metadata": {},
     "output_type": "display_data"
    },
    {
     "name": "stdout",
     "output_type": "stream",
     "text": [
      "----------------------------\n",
      "color name :  red onyx\n",
      "generated\n"
     ]
    },
    {
     "data": {
      "text/html": [
       "<div style='float:left;background:#950710;padding:10px;width:300px;'></div>"
      ],
      "text/plain": [
       "<IPython.core.display.HTML object>"
      ]
     },
     "metadata": {},
     "output_type": "display_data"
    },
    {
     "name": "stdout",
     "output_type": "stream",
     "text": [
      "ground truth\n"
     ]
    },
    {
     "data": {
      "text/html": [
       "<div style='float:left;background:#b92334;padding:10px;width:300px;'></div>"
      ],
      "text/plain": [
       "<IPython.core.display.HTML object>"
      ]
     },
     "metadata": {},
     "output_type": "display_data"
    },
    {
     "name": "stdout",
     "output_type": "stream",
     "text": [
      "----------------------------\n",
      "color name :  redful\n",
      "generated\n"
     ]
    },
    {
     "data": {
      "text/html": [
       "<div style='float:left;background:#e61731;padding:10px;width:300px;'></div>"
      ],
      "text/plain": [
       "<IPython.core.display.HTML object>"
      ]
     },
     "metadata": {},
     "output_type": "display_data"
    },
    {
     "name": "stdout",
     "output_type": "stream",
     "text": [
      "ground truth\n"
     ]
    },
    {
     "data": {
      "text/html": [
       "<div style='float:left;background:#b8483f;padding:10px;width:300px;'></div>"
      ],
      "text/plain": [
       "<IPython.core.display.HTML object>"
      ]
     },
     "metadata": {},
     "output_type": "display_data"
    },
    {
     "name": "stdout",
     "output_type": "stream",
     "text": [
      "----------------------------\n",
      "color name :  alegretto red\n",
      "generated\n"
     ]
    },
    {
     "data": {
      "text/html": [
       "<div style='float:left;background:#79081e;padding:10px;width:300px;'></div>"
      ],
      "text/plain": [
       "<IPython.core.display.HTML object>"
      ]
     },
     "metadata": {},
     "output_type": "display_data"
    },
    {
     "name": "stdout",
     "output_type": "stream",
     "text": [
      "ground truth\n"
     ]
    },
    {
     "data": {
      "text/html": [
       "<div style='float:left;background:#c12931;padding:10px;width:300px;'></div>"
      ],
      "text/plain": [
       "<IPython.core.display.HTML object>"
      ]
     },
     "metadata": {},
     "output_type": "display_data"
    },
    {
     "name": "stdout",
     "output_type": "stream",
     "text": [
      "----------------------------\n",
      "color name :  tears of red\n",
      "generated\n"
     ]
    },
    {
     "data": {
      "text/html": [
       "<div style='float:left;background:#ec060f;padding:10px;width:300px;'></div>"
      ],
      "text/plain": [
       "<IPython.core.display.HTML object>"
      ]
     },
     "metadata": {},
     "output_type": "display_data"
    },
    {
     "name": "stdout",
     "output_type": "stream",
     "text": [
      "ground truth\n"
     ]
    },
    {
     "data": {
      "text/html": [
       "<div style='float:left;background:#c33131;padding:10px;width:300px;'></div>"
      ],
      "text/plain": [
       "<IPython.core.display.HTML object>"
      ]
     },
     "metadata": {},
     "output_type": "display_data"
    },
    {
     "name": "stdout",
     "output_type": "stream",
     "text": [
      "----------------------------\n",
      "color name :  redfruit\n",
      "generated\n"
     ]
    },
    {
     "data": {
      "text/html": [
       "<div style='float:left;background:#bf0038;padding:10px;width:300px;'></div>"
      ],
      "text/plain": [
       "<IPython.core.display.HTML object>"
      ]
     },
     "metadata": {},
     "output_type": "display_data"
    },
    {
     "name": "stdout",
     "output_type": "stream",
     "text": [
      "ground truth\n"
     ]
    },
    {
     "data": {
      "text/html": [
       "<div style='float:left;background:#c83a30;padding:10px;width:300px;'></div>"
      ],
      "text/plain": [
       "<IPython.core.display.HTML object>"
      ]
     },
     "metadata": {},
     "output_type": "display_data"
    },
    {
     "name": "stdout",
     "output_type": "stream",
     "text": [
      "----------------------------\n",
      "color name :  deliveredby swallows\n",
      "generated\n"
     ]
    },
    {
     "data": {
      "text/html": [
       "<div style='float:left;background:#a93969;padding:10px;width:300px;'></div>"
      ],
      "text/plain": [
       "<IPython.core.display.HTML object>"
      ]
     },
     "metadata": {},
     "output_type": "display_data"
    },
    {
     "name": "stdout",
     "output_type": "stream",
     "text": [
      "ground truth\n"
     ]
    },
    {
     "data": {
      "text/html": [
       "<div style='float:left;background:#888183;padding:10px;width:300px;'></div>"
      ],
      "text/plain": [
       "<IPython.core.display.HTML object>"
      ]
     },
     "metadata": {},
     "output_type": "display_data"
    },
    {
     "name": "stdout",
     "output_type": "stream",
     "text": [
      "----------------------------\n",
      "color name :  red orange and pink\n",
      "generated\n"
     ]
    },
    {
     "data": {
      "text/html": [
       "<div style='float:left;background:#e76738;padding:10px;width:300px;'></div>"
      ],
      "text/plain": [
       "<IPython.core.display.HTML object>"
      ]
     },
     "metadata": {},
     "output_type": "display_data"
    },
    {
     "name": "stdout",
     "output_type": "stream",
     "text": [
      "ground truth\n"
     ]
    },
    {
     "data": {
      "text/html": [
       "<div style='float:left;background:#dd4742;padding:10px;width:300px;'></div>"
      ],
      "text/plain": [
       "<IPython.core.display.HTML object>"
      ]
     },
     "metadata": {},
     "output_type": "display_data"
    },
    {
     "name": "stdout",
     "output_type": "stream",
     "text": [
      "----------------------------\n",
      "color name :  victorianbrickred\n",
      "generated\n"
     ]
    },
    {
     "data": {
      "text/html": [
       "<div style='float:left;background:#5f322a;padding:10px;width:300px;'></div>"
      ],
      "text/plain": [
       "<IPython.core.display.HTML object>"
      ]
     },
     "metadata": {},
     "output_type": "display_data"
    },
    {
     "name": "stdout",
     "output_type": "stream",
     "text": [
      "ground truth\n"
     ]
    },
    {
     "data": {
      "text/html": [
       "<div style='float:left;background:#cb3534;padding:10px;width:300px;'></div>"
      ],
      "text/plain": [
       "<IPython.core.display.HTML object>"
      ]
     },
     "metadata": {},
     "output_type": "display_data"
    },
    {
     "name": "stdout",
     "output_type": "stream",
     "text": [
      "----------------------------\n",
      "color name :  red like waiting\n",
      "generated\n"
     ]
    },
    {
     "data": {
      "text/html": [
       "<div style='float:left;background:#840011;padding:10px;width:300px;'></div>"
      ],
      "text/plain": [
       "<IPython.core.display.HTML object>"
      ]
     },
     "metadata": {},
     "output_type": "display_data"
    },
    {
     "name": "stdout",
     "output_type": "stream",
     "text": [
      "ground truth\n"
     ]
    },
    {
     "data": {
      "text/html": [
       "<div style='float:left;background:#c33033;padding:10px;width:300px;'></div>"
      ],
      "text/plain": [
       "<IPython.core.display.HTML object>"
      ]
     },
     "metadata": {},
     "output_type": "display_data"
    },
    {
     "name": "stdout",
     "output_type": "stream",
     "text": [
      "----------------------------\n",
      "color name :  dean bright red\n",
      "generated\n"
     ]
    },
    {
     "data": {
      "text/html": [
       "<div style='float:left;background:#f90042;padding:10px;width:300px;'></div>"
      ],
      "text/plain": [
       "<IPython.core.display.HTML object>"
      ]
     },
     "metadata": {},
     "output_type": "display_data"
    },
    {
     "name": "stdout",
     "output_type": "stream",
     "text": [
      "ground truth\n"
     ]
    },
    {
     "data": {
      "text/html": [
       "<div style='float:left;background:#c32932;padding:10px;width:300px;'></div>"
      ],
      "text/plain": [
       "<IPython.core.display.HTML object>"
      ]
     },
     "metadata": {},
     "output_type": "display_data"
    },
    {
     "name": "stdout",
     "output_type": "stream",
     "text": [
      "----------------------------\n",
      "color name :  dusty  charred\n",
      "generated\n"
     ]
    },
    {
     "data": {
      "text/html": [
       "<div style='float:left;background:#69556c;padding:10px;width:300px;'></div>"
      ],
      "text/plain": [
       "<IPython.core.display.HTML object>"
      ]
     },
     "metadata": {},
     "output_type": "display_data"
    },
    {
     "name": "stdout",
     "output_type": "stream",
     "text": [
      "ground truth\n"
     ]
    },
    {
     "data": {
      "text/html": [
       "<div style='float:left;background:#a87161;padding:10px;width:300px;'></div>"
      ],
      "text/plain": [
       "<IPython.core.display.HTML object>"
      ]
     },
     "metadata": {},
     "output_type": "display_data"
    },
    {
     "name": "stdout",
     "output_type": "stream",
     "text": [
      "----------------------------\n",
      "color name :  redly deeply\n",
      "generated\n"
     ]
    },
    {
     "data": {
      "text/html": [
       "<div style='float:left;background:#3b1806;padding:10px;width:300px;'></div>"
      ],
      "text/plain": [
       "<IPython.core.display.HTML object>"
      ]
     },
     "metadata": {},
     "output_type": "display_data"
    },
    {
     "name": "stdout",
     "output_type": "stream",
     "text": [
      "ground truth\n"
     ]
    },
    {
     "data": {
      "text/html": [
       "<div style='float:left;background:#960c28;padding:10px;width:300px;'></div>"
      ],
      "text/plain": [
       "<IPython.core.display.HTML object>"
      ]
     },
     "metadata": {},
     "output_type": "display_data"
    },
    {
     "name": "stdout",
     "output_type": "stream",
     "text": [
      "----------------------------\n",
      "color name :  red carpet\n",
      "generated\n"
     ]
    },
    {
     "data": {
      "text/html": [
       "<div style='float:left;background:#e61848;padding:10px;width:300px;'></div>"
      ],
      "text/plain": [
       "<IPython.core.display.HTML object>"
      ]
     },
     "metadata": {},
     "output_type": "display_data"
    },
    {
     "name": "stdout",
     "output_type": "stream",
     "text": [
      "ground truth\n"
     ]
    },
    {
     "data": {
      "text/html": [
       "<div style='float:left;background:#c22c2d;padding:10px;width:300px;'></div>"
      ],
      "text/plain": [
       "<IPython.core.display.HTML object>"
      ]
     },
     "metadata": {},
     "output_type": "display_data"
    },
    {
     "name": "stdout",
     "output_type": "stream",
     "text": [
      "----------------------------\n",
      "color name :  shazam red\n",
      "generated\n"
     ]
    },
    {
     "data": {
      "text/html": [
       "<div style='float:left;background:#ac0c10;padding:10px;width:300px;'></div>"
      ],
      "text/plain": [
       "<IPython.core.display.HTML object>"
      ]
     },
     "metadata": {},
     "output_type": "display_data"
    },
    {
     "name": "stdout",
     "output_type": "stream",
     "text": [
      "ground truth\n"
     ]
    },
    {
     "data": {
      "text/html": [
       "<div style='float:left;background:#c22b31;padding:10px;width:300px;'></div>"
      ],
      "text/plain": [
       "<IPython.core.display.HTML object>"
      ]
     },
     "metadata": {},
     "output_type": "display_data"
    },
    {
     "name": "stdout",
     "output_type": "stream",
     "text": [
      "----------------------------\n"
     ]
    }
   ],
   "source": [
    "for d in data :\n",
    "    name = \"\".join([ i for i in d[\"name_in_chars\"] if i != \"<PAD>\"] )\n",
    "    \n",
    "    if \"red\" in name:\n",
    "        print(\"color name : \", name)\n",
    "        gc     = d[\"generated_color\"]\n",
    "        gc_rgb = lab2rgb(gc[0], gc[1], gc[2])\n",
    "        gc_rgb = [int(i*255) for i in gc_rgb] \n",
    "\n",
    "        gt     = d[\"ground_truth_color\"]\n",
    "        gt_rgb = lab2rgb(gt[0], gt[1], gt[2])\n",
    "        gt_rgb = [int(i*255) for i in gt_rgb] \n",
    "\n",
    "        print(\"generated\")\n",
    "        display(HTML(get_color_vis(gt_rgb)))\n",
    "        print(\"ground truth\")\n",
    "        display(HTML(get_color_vis(gc_rgb)))\n",
    "        print(\"----------------------------\")"
   ]
  },
  {
   "cell_type": "code",
   "execution_count": 61,
   "metadata": {},
   "outputs": [
    {
     "data": {
      "text/plain": [
       "{'name_in_chars': ['s',\n",
       "  'a',\n",
       "  'v',\n",
       "  'i',\n",
       "  'n',\n",
       "  'g',\n",
       "  ' ',\n",
       "  'm',\n",
       "  'i',\n",
       "  'd',\n",
       "  'n',\n",
       "  'i',\n",
       "  'g',\n",
       "  'h',\n",
       "  't',\n",
       "  ' ',\n",
       "  'b',\n",
       "  'l',\n",
       "  'u',\n",
       "  'e'],\n",
       " 'name_in_ids': [8,\n",
       "  3,\n",
       "  23,\n",
       "  4,\n",
       "  7,\n",
       "  16,\n",
       "  2,\n",
       "  15,\n",
       "  4,\n",
       "  12,\n",
       "  7,\n",
       "  4,\n",
       "  16,\n",
       "  13,\n",
       "  9,\n",
       "  2,\n",
       "  19,\n",
       "  10,\n",
       "  11,\n",
       "  1],\n",
       " 'generated_color': [16.541793823242188,\n",
       "  16.456573486328125,\n",
       "  -31.385435104370117],\n",
       " 'ground_truth_color': [18.047231674194336,\n",
       "  21.444591522216797,\n",
       "  -44.04816818237305]}"
      ]
     },
     "execution_count": 61,
     "metadata": {},
     "output_type": "execute_result"
    }
   ],
   "source": [
    "data[0]"
   ]
  },
  {
   "cell_type": "code",
   "execution_count": null,
   "metadata": {},
   "outputs": [],
   "source": []
  }
 ],
 "metadata": {
  "kernelspec": {
   "display_name": "pablo",
   "language": "python",
   "name": "pablo"
  },
  "language_info": {
   "codemirror_mode": {
    "name": "ipython",
    "version": 3
   },
   "file_extension": ".py",
   "mimetype": "text/x-python",
   "name": "python",
   "nbconvert_exporter": "python",
   "pygments_lexer": "ipython3",
   "version": "3.7.1"
  }
 },
 "nbformat": 4,
 "nbformat_minor": 2
}
